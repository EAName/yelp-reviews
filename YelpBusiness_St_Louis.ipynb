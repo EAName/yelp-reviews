{
  "nbformat": 4,
  "nbformat_minor": 0,
  "metadata": {
    "colab": {
      "provenance": [],
      "toc_visible": true,
      "collapsed_sections": [],
      "authorship_tag": "ABX9TyNDtn6BGFBlbEQUprSVKOEh",
      "include_colab_link": true
    },
    "kernelspec": {
      "name": "python3",
      "display_name": "Python 3"
    },
    "language_info": {
      "name": "python"
    }
  },
  "cells": [
    {
      "cell_type": "markdown",
      "metadata": {
        "id": "view-in-github",
        "colab_type": "text"
      },
      "source": [
        "<a href=\"https://colab.research.google.com/github/EAName/yelp-reviews/blob/main/YelpBusiness_St_Louis.ipynb\" target=\"_parent\"><img src=\"https://colab.research.google.com/assets/colab-badge.svg\" alt=\"Open In Colab\"/></a>"
      ]
    },
    {
      "cell_type": "code",
      "execution_count": 1,
      "metadata": {
        "colab": {
          "base_uri": "https://localhost:8080/"
        },
        "id": "cWVJcq7eOcyK",
        "outputId": "1d2687d3-7724-41eb-f375-6b2e5a91dace"
      },
      "outputs": [
        {
          "output_type": "stream",
          "name": "stdout",
          "text": [
            "Mounted at /content/gdrive\n"
          ]
        }
      ],
      "source": [
        "from google.colab import drive, files\n",
        "drive.mount('/content/gdrive')"
      ]
    },
    {
      "cell_type": "code",
      "source": [
        "import pandas as pd\n",
        "import numpy as np\n",
        "\n",
        "import matplotlib.pyplot as plt\n",
        "import seaborn as sns\n",
        "\n",
        "pd.set_option('display.max_rows', None)\n",
        "pd.set_option('display.max_columns', None)\n",
        "pd.set_option('display.width', None)\n",
        "pd.set_option('display.max_colwidth', -1)"
      ],
      "metadata": {
        "colab": {
          "base_uri": "https://localhost:8080/"
        },
        "id": "C6PRBXlMPJek",
        "outputId": "4206e9bb-65cc-43da-bc48-ccddcbd2a216"
      },
      "execution_count": 2,
      "outputs": [
        {
          "output_type": "stream",
          "name": "stderr",
          "text": [
            "/usr/local/lib/python3.7/dist-packages/ipykernel_launcher.py:10: FutureWarning: Passing a negative integer is deprecated in version 1.0 and will not be supported in future version. Instead, use None to not limit the column width.\n",
            "  # Remove the CWD from sys.path while we load stuff.\n"
          ]
        }
      ]
    },
    {
      "cell_type": "markdown",
      "source": [
        "# Ingest Business Clean 6"
      ],
      "metadata": {
        "id": "kWeTjCc2PQ38"
      }
    },
    {
      "cell_type": "code",
      "source": [
        "FILE = '/content/gdrive/MyDrive/yelp_dataset/yelp_business_clean_version6.csv'"
      ],
      "metadata": {
        "id": "hHNIqczsPLqk"
      },
      "execution_count": 3,
      "outputs": []
    },
    {
      "cell_type": "code",
      "source": [
        "df = pd.read_csv( FILE )\n",
        "df.head()"
      ],
      "metadata": {
        "colab": {
          "base_uri": "https://localhost:8080/",
          "height": 1000
        },
        "id": "dlFnd4CRPgzj",
        "outputId": "2a7ec1eb-a360-4fd8-97a4-c94bf14566b5"
      },
      "execution_count": 4,
      "outputs": [
        {
          "output_type": "execute_result",
          "data": {
            "text/plain": [
              "              business_id                     name             address  \\\n",
              "0  k0hlBqXX-Bt0vf1op7Jr1w  Tsevi's Pub And Grill    8025 Mackenzie Rd    \n",
              "1  il_Ro8jwPlHresjw9EGmBg  Denny's                  8901 US 31 S         \n",
              "2  MUTTqe8uqyMdBl186RmNeA  Tuna Bar                 205 Race St          \n",
              "3  ROeacJQwBeh05Rqg7F6TCg  BAP                      1224 South St        \n",
              "4  9OG5YkX1g2GReZM0AskizA  Romano's Macaroni Grill  5505 S Virginia St   \n",
              "\n",
              "           city state  postal_code   latitude   longitude  stars  \\\n",
              "0  Affton        MO    63123.0      38.565165 -90.321087   3.0     \n",
              "1  Indianapolis  IN    46227.0      39.637133 -86.127217   2.5     \n",
              "2  Philadelphia  PA    19106.0      39.953949 -75.143226   4.0     \n",
              "3  Philadelphia  PA    19147.0      39.943223 -75.162568   4.5     \n",
              "4  Reno          NV    89502.0      39.476117 -119.789339  2.5     \n",
              "\n",
              "   review_count  is_open  \\\n",
              "0  19            0         \n",
              "1  28            1         \n",
              "2  245           1         \n",
              "3  205           1         \n",
              "4  339           1         \n",
              "\n",
              "                                                                                                                                                                                                                                                                                                                                                                                                                                                                                                                                                                                                                                                                                                                                                                                                                                                                                                                                 attributes  \\\n",
              "0  {'Caters': 'True', 'Alcohol': \"u'full_bar'\", 'RestaurantsAttire': \"u'casual'\", 'RestaurantsDelivery': 'False', 'RestaurantsTakeOut': 'True', 'HasTV': 'True', 'NoiseLevel': \"u'average'\", 'BusinessAcceptsCreditCards': 'True', 'OutdoorSeating': 'True', 'BusinessParking': \"{'garage': False, 'street': False, 'validated': False, 'lot': True, 'valet': False}\", 'Ambience': \"{'romantic': False, 'intimate': False, 'touristy': False, 'hipster': False, 'divey': False, 'classy': False, 'trendy': False, 'upscale': False, 'casual': False}\", 'RestaurantsPriceRange2': '1', 'GoodForKids': 'True', 'WiFi': \"u'free'\", 'RestaurantsReservations': 'False', 'RestaurantsGoodForGroups': 'True'}                                                                                                                                                                                                                                       \n",
              "1  {'RestaurantsReservations': 'False', 'RestaurantsTakeOut': 'True', 'RestaurantsAttire': \"'casual'\", 'GoodForKids': 'True', 'BikeParking': 'False', 'RestaurantsPriceRange2': '1', 'BusinessAcceptsCreditCards': 'True', 'GoodForMeal': \"{'dessert': False, 'latenight': False, 'lunch': False, 'dinner': False, 'brunch': False, 'breakfast': False}\", 'RestaurantsGoodForGroups': 'True', 'OutdoorSeating': 'False', 'WiFi': \"u'no'\", 'Alcohol': \"'none'\", 'RestaurantsDelivery': 'True', 'BusinessParking': \"{'garage': None, 'street': False, 'validated': None, 'lot': True, 'valet': False}\", 'HasTV': 'True', 'Ambience': \"{'touristy': None, 'hipster': None, 'romantic': False, 'divey': None, 'intimate': None, 'trendy': None, 'upscale': None, 'classy': None, 'casual': True}\"}                                                                                                                                                \n",
              "2  {'RestaurantsReservations': 'True', 'RestaurantsGoodForGroups': 'True', 'RestaurantsAttire': \"'casual'\", 'BusinessAcceptsCreditCards': 'True', 'WiFi': \"'free'\", 'HasTV': 'False', 'RestaurantsTakeOut': 'True', 'Ambience': \"{'touristy': False, 'hipster': False, 'romantic': False, 'divey': False, 'intimate': False, 'trendy': False, 'upscale': False, 'classy': True, 'casual': False}\", 'GoodForKids': 'False', 'GoodForMeal': \"{'dessert': True, 'latenight': None, 'lunch': None, 'dinner': True, 'brunch': None, 'breakfast': None}\", 'NoiseLevel': \"u'average'\", 'RestaurantsPriceRange2': '2', 'Alcohol': \"'full_bar'\", 'DogsAllowed': 'False', 'HappyHour': 'True', 'RestaurantsDelivery': 'True', 'WheelchairAccessible': 'True', 'OutdoorSeating': 'True', 'RestaurantsTableService': 'True', 'BusinessParking': \"{u'valet': False, u'garage': None, u'street': True, u'lot': False, u'validated': None}\"}                 \n",
              "3  {'NoiseLevel': \"u'quiet'\", 'GoodForMeal': \"{'dessert': False, 'latenight': False, 'lunch': True, 'dinner': True, 'brunch': False, 'breakfast': False}\", 'RestaurantsGoodForGroups': 'False', 'RestaurantsTableService': 'True', 'WiFi': \"u'no'\", 'GoodForKids': 'True', 'Alcohol': \"u'none'\", 'RestaurantsPriceRange2': '1', 'RestaurantsAttire': \"u'casual'\", 'BikeParking': 'True', 'BusinessParking': \"{'garage': False, 'street': True, 'validated': False, 'lot': False, 'valet': False}\", 'Caters': 'True', 'RestaurantsReservations': 'False', 'HasTV': 'True', 'BusinessAcceptsCreditCards': 'True', 'OutdoorSeating': 'None', 'Ambience': \"{'touristy': False, 'hipster': False, 'romantic': False, 'divey': False, 'intimate': None, 'trendy': False, 'upscale': False, 'classy': False, 'casual': True}\", 'RestaurantsDelivery': 'None', 'RestaurantsTakeOut': 'True'}                                                          \n",
              "4  {'RestaurantsGoodForGroups': 'True', 'RestaurantsTakeOut': 'True', 'RestaurantsAttire': \"'casual'\", 'NoiseLevel': \"u'average'\", 'OutdoorSeating': 'True', 'BikeParking': 'True', 'BusinessParking': \"{'garage': False, 'street': False, 'validated': False, 'lot': True, 'valet': False}\", 'RestaurantsPriceRange2': '2', 'Caters': 'True', 'GoodForKids': 'True', 'RestaurantsReservations': 'True', 'BusinessAcceptsCreditCards': 'True', 'Alcohol': \"'full_bar'\", 'GoodForMeal': \"{'dessert': None, 'latenight': False, 'lunch': True, 'dinner': True, 'brunch': None, 'breakfast': False}\", 'RestaurantsTableService': 'True', 'HappyHour': 'True', 'WiFi': \"u'free'\", 'DogsAllowed': 'False', 'Ambience': \"{u'divey': False, u'hipster': False, u'casual': True, u'touristy': False, u'trendy': False, u'intimate': False, u'romantic': None, u'classy': None, u'upscale': False}\", 'RestaurantsDelivery': 'True', 'HasTV': 'True'}   \n",
              "\n",
              "                                                                   categories  \\\n",
              "0  Pubs, Restaurants, Italian, Bars, American (Traditional), Nightlife, Greek   \n",
              "1  American (Traditional), Restaurants, Diners, Breakfast & Brunch              \n",
              "2  Sushi Bars, Restaurants, Japanese                                            \n",
              "3  Korean, Restaurants                                                          \n",
              "4  Restaurants, Italian                                                         \n",
              "\n",
              "         market  RestaurantsTakeOut  HasTV  BusinessAcceptsCreditCards  \\\n",
              "0  St. Louis     1.0                 1.0    1.0                          \n",
              "1  Indianapolis  1.0                 1.0    1.0                          \n",
              "2  Philadelphia  1.0                 0.0    1.0                          \n",
              "3  Philadelphia  1.0                 1.0    1.0                          \n",
              "4  Reno          1.0                 1.0    1.0                          \n",
              "\n",
              "                                                                          BusinessParking  \\\n",
              "0  {'garage': False, 'street': False, 'validated': False, 'lot': True, 'valet': False}      \n",
              "1  {'garage': None, 'street': False, 'validated': None, 'lot': True, 'valet': False}        \n",
              "2  {u'valet': False, u'garage': None, u'street': True, u'lot': False, u'validated': None}   \n",
              "3  {'garage': False, 'street': True, 'validated': False, 'lot': False, 'valet': False}      \n",
              "4  {'garage': False, 'street': False, 'validated': False, 'lot': True, 'valet': False}      \n",
              "\n",
              "   RestaurantsPriceRange2  RestaurantsReservations  AgesAllowed_21plus  \\\n",
              "0  1.0                     0.0                      0                    \n",
              "1  1.0                     0.0                      0                    \n",
              "2  2.0                     1.0                      0                    \n",
              "3  1.0                     0.0                      0                    \n",
              "4  2.0                     1.0                      0                    \n",
              "\n",
              "   AgesAllowed_allages  Alcohol_None  Alcohol_beer_and_wine  Alcohol_full_bar  \\\n",
              "0  0                    0             0                      1                  \n",
              "1  0                    1             0                      0                  \n",
              "2  0                    0             0                      1                  \n",
              "3  0                    1             0                      0                  \n",
              "4  0                    0             0                      1                  \n",
              "\n",
              "   BYOBCorkage_no  BYOBCorkage_yes_corkage  BYOBCorkage_yes_free  \\\n",
              "0  0               0                        0                      \n",
              "1  0               0                        0                      \n",
              "2  0               0                        0                      \n",
              "3  0               0                        0                      \n",
              "4  0               0                        0                      \n",
              "\n",
              "   NoiseLevel_average  NoiseLevel_loud  NoiseLevel_quiet  \\\n",
              "0  1                   0                0                  \n",
              "1  0                   0                0                  \n",
              "2  1                   0                0                  \n",
              "3  0                   0                1                  \n",
              "4  1                   0                0                  \n",
              "\n",
              "   NoiseLevel_very_loud  RestaurantsAttire_casual  RestaurantsAttire_dressy  \\\n",
              "0  0                     1                         0                          \n",
              "1  0                     1                         0                          \n",
              "2  0                     1                         0                          \n",
              "3  0                     1                         0                          \n",
              "4  0                     1                         0                          \n",
              "\n",
              "   RestaurantsAttire_formal  Smoking_no  Smoking_outdoor  Smoking_yes  \\\n",
              "0  0                         0           0                0             \n",
              "1  0                         0           0                0             \n",
              "2  0                         0           0                0             \n",
              "3  0                         0           0                0             \n",
              "4  0                         0           0                0             \n",
              "\n",
              "   WiFi_free  WiFi_no  WiFi_paid  garage  street  validated  lot  valet  \\\n",
              "0  1          0        0          0.0     0.0     0.0        1.0  0.0     \n",
              "1  0          1        0          0.0     0.0     0.0        1.0  0.0     \n",
              "2  1          0        0          0.0     1.0     0.0        0.0  0.0     \n",
              "3  0          1        0          0.0     1.0     0.0        0.0  0.0     \n",
              "4  1          0        0          0.0     0.0     0.0        1.0  0.0     \n",
              "\n",
              "   Nightlife  Bars  American (Traditional)  Pizza  American (New)  Sandwiches  \\\n",
              "0  1          1     1                       0      0               0            \n",
              "1  0          0     1                       0      0               0            \n",
              "2  0          0     0                       0      0               0            \n",
              "3  0          0     0                       0      0               0            \n",
              "4  0          0     0                       0      0               0            \n",
              "\n",
              "   Italian  Breakfast & Brunch  Mexican  Seafood  ChineseTotal  Burgers  \\\n",
              "0  1        0                   0        0        0             0         \n",
              "1  0        1                   0        0        0             0         \n",
              "2  0        0                   0        0        0             0         \n",
              "3  0        0                   0        0        0             0         \n",
              "4  1        0                   0        0        0             0         \n",
              "\n",
              "   Salad  Chicken Wings  Sports Bars  JapaneseTotal  HasTV_NA  \\\n",
              "0  0      0              0            0              0.0        \n",
              "1  0      0              0            0              0.0        \n",
              "2  0      0              0            1              0.0        \n",
              "3  0      0              0            0              0.0        \n",
              "4  0      0              0            0              0.0        \n",
              "\n",
              "   RestaurantsPriceRange2_NA  RestaurantsReservations_NA  garage_NA  \\\n",
              "0  0.0                        0.0                         0.0         \n",
              "1  0.0                        0.0                         1.0         \n",
              "2  0.0                        0.0                         1.0         \n",
              "3  0.0                        0.0                         0.0         \n",
              "4  0.0                        0.0                         0.0         \n",
              "\n",
              "   validated_NA  lot_NA  valet_NA  \n",
              "0  0.0           0.0     0.0       \n",
              "1  1.0           0.0     0.0       \n",
              "2  1.0           0.0     0.0       \n",
              "3  0.0           0.0     0.0       \n",
              "4  0.0           0.0     0.0       "
            ],
            "text/html": [
              "\n",
              "  <div id=\"df-7b244559-8bf9-4462-8990-624978a58584\">\n",
              "    <div class=\"colab-df-container\">\n",
              "      <div>\n",
              "<style scoped>\n",
              "    .dataframe tbody tr th:only-of-type {\n",
              "        vertical-align: middle;\n",
              "    }\n",
              "\n",
              "    .dataframe tbody tr th {\n",
              "        vertical-align: top;\n",
              "    }\n",
              "\n",
              "    .dataframe thead th {\n",
              "        text-align: right;\n",
              "    }\n",
              "</style>\n",
              "<table border=\"1\" class=\"dataframe\">\n",
              "  <thead>\n",
              "    <tr style=\"text-align: right;\">\n",
              "      <th></th>\n",
              "      <th>business_id</th>\n",
              "      <th>name</th>\n",
              "      <th>address</th>\n",
              "      <th>city</th>\n",
              "      <th>state</th>\n",
              "      <th>postal_code</th>\n",
              "      <th>latitude</th>\n",
              "      <th>longitude</th>\n",
              "      <th>stars</th>\n",
              "      <th>review_count</th>\n",
              "      <th>is_open</th>\n",
              "      <th>attributes</th>\n",
              "      <th>categories</th>\n",
              "      <th>market</th>\n",
              "      <th>RestaurantsTakeOut</th>\n",
              "      <th>HasTV</th>\n",
              "      <th>BusinessAcceptsCreditCards</th>\n",
              "      <th>BusinessParking</th>\n",
              "      <th>RestaurantsPriceRange2</th>\n",
              "      <th>RestaurantsReservations</th>\n",
              "      <th>AgesAllowed_21plus</th>\n",
              "      <th>AgesAllowed_allages</th>\n",
              "      <th>Alcohol_None</th>\n",
              "      <th>Alcohol_beer_and_wine</th>\n",
              "      <th>Alcohol_full_bar</th>\n",
              "      <th>BYOBCorkage_no</th>\n",
              "      <th>BYOBCorkage_yes_corkage</th>\n",
              "      <th>BYOBCorkage_yes_free</th>\n",
              "      <th>NoiseLevel_average</th>\n",
              "      <th>NoiseLevel_loud</th>\n",
              "      <th>NoiseLevel_quiet</th>\n",
              "      <th>NoiseLevel_very_loud</th>\n",
              "      <th>RestaurantsAttire_casual</th>\n",
              "      <th>RestaurantsAttire_dressy</th>\n",
              "      <th>RestaurantsAttire_formal</th>\n",
              "      <th>Smoking_no</th>\n",
              "      <th>Smoking_outdoor</th>\n",
              "      <th>Smoking_yes</th>\n",
              "      <th>WiFi_free</th>\n",
              "      <th>WiFi_no</th>\n",
              "      <th>WiFi_paid</th>\n",
              "      <th>garage</th>\n",
              "      <th>street</th>\n",
              "      <th>validated</th>\n",
              "      <th>lot</th>\n",
              "      <th>valet</th>\n",
              "      <th>Nightlife</th>\n",
              "      <th>Bars</th>\n",
              "      <th>American (Traditional)</th>\n",
              "      <th>Pizza</th>\n",
              "      <th>American (New)</th>\n",
              "      <th>Sandwiches</th>\n",
              "      <th>Italian</th>\n",
              "      <th>Breakfast &amp; Brunch</th>\n",
              "      <th>Mexican</th>\n",
              "      <th>Seafood</th>\n",
              "      <th>ChineseTotal</th>\n",
              "      <th>Burgers</th>\n",
              "      <th>Salad</th>\n",
              "      <th>Chicken Wings</th>\n",
              "      <th>Sports Bars</th>\n",
              "      <th>JapaneseTotal</th>\n",
              "      <th>HasTV_NA</th>\n",
              "      <th>RestaurantsPriceRange2_NA</th>\n",
              "      <th>RestaurantsReservations_NA</th>\n",
              "      <th>garage_NA</th>\n",
              "      <th>validated_NA</th>\n",
              "      <th>lot_NA</th>\n",
              "      <th>valet_NA</th>\n",
              "    </tr>\n",
              "  </thead>\n",
              "  <tbody>\n",
              "    <tr>\n",
              "      <th>0</th>\n",
              "      <td>k0hlBqXX-Bt0vf1op7Jr1w</td>\n",
              "      <td>Tsevi's Pub And Grill</td>\n",
              "      <td>8025 Mackenzie Rd</td>\n",
              "      <td>Affton</td>\n",
              "      <td>MO</td>\n",
              "      <td>63123.0</td>\n",
              "      <td>38.565165</td>\n",
              "      <td>-90.321087</td>\n",
              "      <td>3.0</td>\n",
              "      <td>19</td>\n",
              "      <td>0</td>\n",
              "      <td>{'Caters': 'True', 'Alcohol': \"u'full_bar'\", 'RestaurantsAttire': \"u'casual'\", 'RestaurantsDelivery': 'False', 'RestaurantsTakeOut': 'True', 'HasTV': 'True', 'NoiseLevel': \"u'average'\", 'BusinessAcceptsCreditCards': 'True', 'OutdoorSeating': 'True', 'BusinessParking': \"{'garage': False, 'street': False, 'validated': False, 'lot': True, 'valet': False}\", 'Ambience': \"{'romantic': False, 'intimate': False, 'touristy': False, 'hipster': False, 'divey': False, 'classy': False, 'trendy': False, 'upscale': False, 'casual': False}\", 'RestaurantsPriceRange2': '1', 'GoodForKids': 'True', 'WiFi': \"u'free'\", 'RestaurantsReservations': 'False', 'RestaurantsGoodForGroups': 'True'}</td>\n",
              "      <td>Pubs, Restaurants, Italian, Bars, American (Traditional), Nightlife, Greek</td>\n",
              "      <td>St. Louis</td>\n",
              "      <td>1.0</td>\n",
              "      <td>1.0</td>\n",
              "      <td>1.0</td>\n",
              "      <td>{'garage': False, 'street': False, 'validated': False, 'lot': True, 'valet': False}</td>\n",
              "      <td>1.0</td>\n",
              "      <td>0.0</td>\n",
              "      <td>0</td>\n",
              "      <td>0</td>\n",
              "      <td>0</td>\n",
              "      <td>0</td>\n",
              "      <td>1</td>\n",
              "      <td>0</td>\n",
              "      <td>0</td>\n",
              "      <td>0</td>\n",
              "      <td>1</td>\n",
              "      <td>0</td>\n",
              "      <td>0</td>\n",
              "      <td>0</td>\n",
              "      <td>1</td>\n",
              "      <td>0</td>\n",
              "      <td>0</td>\n",
              "      <td>0</td>\n",
              "      <td>0</td>\n",
              "      <td>0</td>\n",
              "      <td>1</td>\n",
              "      <td>0</td>\n",
              "      <td>0</td>\n",
              "      <td>0.0</td>\n",
              "      <td>0.0</td>\n",
              "      <td>0.0</td>\n",
              "      <td>1.0</td>\n",
              "      <td>0.0</td>\n",
              "      <td>1</td>\n",
              "      <td>1</td>\n",
              "      <td>1</td>\n",
              "      <td>0</td>\n",
              "      <td>0</td>\n",
              "      <td>0</td>\n",
              "      <td>1</td>\n",
              "      <td>0</td>\n",
              "      <td>0</td>\n",
              "      <td>0</td>\n",
              "      <td>0</td>\n",
              "      <td>0</td>\n",
              "      <td>0</td>\n",
              "      <td>0</td>\n",
              "      <td>0</td>\n",
              "      <td>0</td>\n",
              "      <td>0.0</td>\n",
              "      <td>0.0</td>\n",
              "      <td>0.0</td>\n",
              "      <td>0.0</td>\n",
              "      <td>0.0</td>\n",
              "      <td>0.0</td>\n",
              "      <td>0.0</td>\n",
              "    </tr>\n",
              "    <tr>\n",
              "      <th>1</th>\n",
              "      <td>il_Ro8jwPlHresjw9EGmBg</td>\n",
              "      <td>Denny's</td>\n",
              "      <td>8901 US 31 S</td>\n",
              "      <td>Indianapolis</td>\n",
              "      <td>IN</td>\n",
              "      <td>46227.0</td>\n",
              "      <td>39.637133</td>\n",
              "      <td>-86.127217</td>\n",
              "      <td>2.5</td>\n",
              "      <td>28</td>\n",
              "      <td>1</td>\n",
              "      <td>{'RestaurantsReservations': 'False', 'RestaurantsTakeOut': 'True', 'RestaurantsAttire': \"'casual'\", 'GoodForKids': 'True', 'BikeParking': 'False', 'RestaurantsPriceRange2': '1', 'BusinessAcceptsCreditCards': 'True', 'GoodForMeal': \"{'dessert': False, 'latenight': False, 'lunch': False, 'dinner': False, 'brunch': False, 'breakfast': False}\", 'RestaurantsGoodForGroups': 'True', 'OutdoorSeating': 'False', 'WiFi': \"u'no'\", 'Alcohol': \"'none'\", 'RestaurantsDelivery': 'True', 'BusinessParking': \"{'garage': None, 'street': False, 'validated': None, 'lot': True, 'valet': False}\", 'HasTV': 'True', 'Ambience': \"{'touristy': None, 'hipster': None, 'romantic': False, 'divey': None, 'intimate': None, 'trendy': None, 'upscale': None, 'classy': None, 'casual': True}\"}</td>\n",
              "      <td>American (Traditional), Restaurants, Diners, Breakfast &amp; Brunch</td>\n",
              "      <td>Indianapolis</td>\n",
              "      <td>1.0</td>\n",
              "      <td>1.0</td>\n",
              "      <td>1.0</td>\n",
              "      <td>{'garage': None, 'street': False, 'validated': None, 'lot': True, 'valet': False}</td>\n",
              "      <td>1.0</td>\n",
              "      <td>0.0</td>\n",
              "      <td>0</td>\n",
              "      <td>0</td>\n",
              "      <td>1</td>\n",
              "      <td>0</td>\n",
              "      <td>0</td>\n",
              "      <td>0</td>\n",
              "      <td>0</td>\n",
              "      <td>0</td>\n",
              "      <td>0</td>\n",
              "      <td>0</td>\n",
              "      <td>0</td>\n",
              "      <td>0</td>\n",
              "      <td>1</td>\n",
              "      <td>0</td>\n",
              "      <td>0</td>\n",
              "      <td>0</td>\n",
              "      <td>0</td>\n",
              "      <td>0</td>\n",
              "      <td>0</td>\n",
              "      <td>1</td>\n",
              "      <td>0</td>\n",
              "      <td>0.0</td>\n",
              "      <td>0.0</td>\n",
              "      <td>0.0</td>\n",
              "      <td>1.0</td>\n",
              "      <td>0.0</td>\n",
              "      <td>0</td>\n",
              "      <td>0</td>\n",
              "      <td>1</td>\n",
              "      <td>0</td>\n",
              "      <td>0</td>\n",
              "      <td>0</td>\n",
              "      <td>0</td>\n",
              "      <td>1</td>\n",
              "      <td>0</td>\n",
              "      <td>0</td>\n",
              "      <td>0</td>\n",
              "      <td>0</td>\n",
              "      <td>0</td>\n",
              "      <td>0</td>\n",
              "      <td>0</td>\n",
              "      <td>0</td>\n",
              "      <td>0.0</td>\n",
              "      <td>0.0</td>\n",
              "      <td>0.0</td>\n",
              "      <td>1.0</td>\n",
              "      <td>1.0</td>\n",
              "      <td>0.0</td>\n",
              "      <td>0.0</td>\n",
              "    </tr>\n",
              "    <tr>\n",
              "      <th>2</th>\n",
              "      <td>MUTTqe8uqyMdBl186RmNeA</td>\n",
              "      <td>Tuna Bar</td>\n",
              "      <td>205 Race St</td>\n",
              "      <td>Philadelphia</td>\n",
              "      <td>PA</td>\n",
              "      <td>19106.0</td>\n",
              "      <td>39.953949</td>\n",
              "      <td>-75.143226</td>\n",
              "      <td>4.0</td>\n",
              "      <td>245</td>\n",
              "      <td>1</td>\n",
              "      <td>{'RestaurantsReservations': 'True', 'RestaurantsGoodForGroups': 'True', 'RestaurantsAttire': \"'casual'\", 'BusinessAcceptsCreditCards': 'True', 'WiFi': \"'free'\", 'HasTV': 'False', 'RestaurantsTakeOut': 'True', 'Ambience': \"{'touristy': False, 'hipster': False, 'romantic': False, 'divey': False, 'intimate': False, 'trendy': False, 'upscale': False, 'classy': True, 'casual': False}\", 'GoodForKids': 'False', 'GoodForMeal': \"{'dessert': True, 'latenight': None, 'lunch': None, 'dinner': True, 'brunch': None, 'breakfast': None}\", 'NoiseLevel': \"u'average'\", 'RestaurantsPriceRange2': '2', 'Alcohol': \"'full_bar'\", 'DogsAllowed': 'False', 'HappyHour': 'True', 'RestaurantsDelivery': 'True', 'WheelchairAccessible': 'True', 'OutdoorSeating': 'True', 'RestaurantsTableService': 'True', 'BusinessParking': \"{u'valet': False, u'garage': None, u'street': True, u'lot': False, u'validated': None}\"}</td>\n",
              "      <td>Sushi Bars, Restaurants, Japanese</td>\n",
              "      <td>Philadelphia</td>\n",
              "      <td>1.0</td>\n",
              "      <td>0.0</td>\n",
              "      <td>1.0</td>\n",
              "      <td>{u'valet': False, u'garage': None, u'street': True, u'lot': False, u'validated': None}</td>\n",
              "      <td>2.0</td>\n",
              "      <td>1.0</td>\n",
              "      <td>0</td>\n",
              "      <td>0</td>\n",
              "      <td>0</td>\n",
              "      <td>0</td>\n",
              "      <td>1</td>\n",
              "      <td>0</td>\n",
              "      <td>0</td>\n",
              "      <td>0</td>\n",
              "      <td>1</td>\n",
              "      <td>0</td>\n",
              "      <td>0</td>\n",
              "      <td>0</td>\n",
              "      <td>1</td>\n",
              "      <td>0</td>\n",
              "      <td>0</td>\n",
              "      <td>0</td>\n",
              "      <td>0</td>\n",
              "      <td>0</td>\n",
              "      <td>1</td>\n",
              "      <td>0</td>\n",
              "      <td>0</td>\n",
              "      <td>0.0</td>\n",
              "      <td>1.0</td>\n",
              "      <td>0.0</td>\n",
              "      <td>0.0</td>\n",
              "      <td>0.0</td>\n",
              "      <td>0</td>\n",
              "      <td>0</td>\n",
              "      <td>0</td>\n",
              "      <td>0</td>\n",
              "      <td>0</td>\n",
              "      <td>0</td>\n",
              "      <td>0</td>\n",
              "      <td>0</td>\n",
              "      <td>0</td>\n",
              "      <td>0</td>\n",
              "      <td>0</td>\n",
              "      <td>0</td>\n",
              "      <td>0</td>\n",
              "      <td>0</td>\n",
              "      <td>0</td>\n",
              "      <td>1</td>\n",
              "      <td>0.0</td>\n",
              "      <td>0.0</td>\n",
              "      <td>0.0</td>\n",
              "      <td>1.0</td>\n",
              "      <td>1.0</td>\n",
              "      <td>0.0</td>\n",
              "      <td>0.0</td>\n",
              "    </tr>\n",
              "    <tr>\n",
              "      <th>3</th>\n",
              "      <td>ROeacJQwBeh05Rqg7F6TCg</td>\n",
              "      <td>BAP</td>\n",
              "      <td>1224 South St</td>\n",
              "      <td>Philadelphia</td>\n",
              "      <td>PA</td>\n",
              "      <td>19147.0</td>\n",
              "      <td>39.943223</td>\n",
              "      <td>-75.162568</td>\n",
              "      <td>4.5</td>\n",
              "      <td>205</td>\n",
              "      <td>1</td>\n",
              "      <td>{'NoiseLevel': \"u'quiet'\", 'GoodForMeal': \"{'dessert': False, 'latenight': False, 'lunch': True, 'dinner': True, 'brunch': False, 'breakfast': False}\", 'RestaurantsGoodForGroups': 'False', 'RestaurantsTableService': 'True', 'WiFi': \"u'no'\", 'GoodForKids': 'True', 'Alcohol': \"u'none'\", 'RestaurantsPriceRange2': '1', 'RestaurantsAttire': \"u'casual'\", 'BikeParking': 'True', 'BusinessParking': \"{'garage': False, 'street': True, 'validated': False, 'lot': False, 'valet': False}\", 'Caters': 'True', 'RestaurantsReservations': 'False', 'HasTV': 'True', 'BusinessAcceptsCreditCards': 'True', 'OutdoorSeating': 'None', 'Ambience': \"{'touristy': False, 'hipster': False, 'romantic': False, 'divey': False, 'intimate': None, 'trendy': False, 'upscale': False, 'classy': False, 'casual': True}\", 'RestaurantsDelivery': 'None', 'RestaurantsTakeOut': 'True'}</td>\n",
              "      <td>Korean, Restaurants</td>\n",
              "      <td>Philadelphia</td>\n",
              "      <td>1.0</td>\n",
              "      <td>1.0</td>\n",
              "      <td>1.0</td>\n",
              "      <td>{'garage': False, 'street': True, 'validated': False, 'lot': False, 'valet': False}</td>\n",
              "      <td>1.0</td>\n",
              "      <td>0.0</td>\n",
              "      <td>0</td>\n",
              "      <td>0</td>\n",
              "      <td>1</td>\n",
              "      <td>0</td>\n",
              "      <td>0</td>\n",
              "      <td>0</td>\n",
              "      <td>0</td>\n",
              "      <td>0</td>\n",
              "      <td>0</td>\n",
              "      <td>0</td>\n",
              "      <td>1</td>\n",
              "      <td>0</td>\n",
              "      <td>1</td>\n",
              "      <td>0</td>\n",
              "      <td>0</td>\n",
              "      <td>0</td>\n",
              "      <td>0</td>\n",
              "      <td>0</td>\n",
              "      <td>0</td>\n",
              "      <td>1</td>\n",
              "      <td>0</td>\n",
              "      <td>0.0</td>\n",
              "      <td>1.0</td>\n",
              "      <td>0.0</td>\n",
              "      <td>0.0</td>\n",
              "      <td>0.0</td>\n",
              "      <td>0</td>\n",
              "      <td>0</td>\n",
              "      <td>0</td>\n",
              "      <td>0</td>\n",
              "      <td>0</td>\n",
              "      <td>0</td>\n",
              "      <td>0</td>\n",
              "      <td>0</td>\n",
              "      <td>0</td>\n",
              "      <td>0</td>\n",
              "      <td>0</td>\n",
              "      <td>0</td>\n",
              "      <td>0</td>\n",
              "      <td>0</td>\n",
              "      <td>0</td>\n",
              "      <td>0</td>\n",
              "      <td>0.0</td>\n",
              "      <td>0.0</td>\n",
              "      <td>0.0</td>\n",
              "      <td>0.0</td>\n",
              "      <td>0.0</td>\n",
              "      <td>0.0</td>\n",
              "      <td>0.0</td>\n",
              "    </tr>\n",
              "    <tr>\n",
              "      <th>4</th>\n",
              "      <td>9OG5YkX1g2GReZM0AskizA</td>\n",
              "      <td>Romano's Macaroni Grill</td>\n",
              "      <td>5505 S Virginia St</td>\n",
              "      <td>Reno</td>\n",
              "      <td>NV</td>\n",
              "      <td>89502.0</td>\n",
              "      <td>39.476117</td>\n",
              "      <td>-119.789339</td>\n",
              "      <td>2.5</td>\n",
              "      <td>339</td>\n",
              "      <td>1</td>\n",
              "      <td>{'RestaurantsGoodForGroups': 'True', 'RestaurantsTakeOut': 'True', 'RestaurantsAttire': \"'casual'\", 'NoiseLevel': \"u'average'\", 'OutdoorSeating': 'True', 'BikeParking': 'True', 'BusinessParking': \"{'garage': False, 'street': False, 'validated': False, 'lot': True, 'valet': False}\", 'RestaurantsPriceRange2': '2', 'Caters': 'True', 'GoodForKids': 'True', 'RestaurantsReservations': 'True', 'BusinessAcceptsCreditCards': 'True', 'Alcohol': \"'full_bar'\", 'GoodForMeal': \"{'dessert': None, 'latenight': False, 'lunch': True, 'dinner': True, 'brunch': None, 'breakfast': False}\", 'RestaurantsTableService': 'True', 'HappyHour': 'True', 'WiFi': \"u'free'\", 'DogsAllowed': 'False', 'Ambience': \"{u'divey': False, u'hipster': False, u'casual': True, u'touristy': False, u'trendy': False, u'intimate': False, u'romantic': None, u'classy': None, u'upscale': False}\", 'RestaurantsDelivery': 'True', 'HasTV': 'True'}</td>\n",
              "      <td>Restaurants, Italian</td>\n",
              "      <td>Reno</td>\n",
              "      <td>1.0</td>\n",
              "      <td>1.0</td>\n",
              "      <td>1.0</td>\n",
              "      <td>{'garage': False, 'street': False, 'validated': False, 'lot': True, 'valet': False}</td>\n",
              "      <td>2.0</td>\n",
              "      <td>1.0</td>\n",
              "      <td>0</td>\n",
              "      <td>0</td>\n",
              "      <td>0</td>\n",
              "      <td>0</td>\n",
              "      <td>1</td>\n",
              "      <td>0</td>\n",
              "      <td>0</td>\n",
              "      <td>0</td>\n",
              "      <td>1</td>\n",
              "      <td>0</td>\n",
              "      <td>0</td>\n",
              "      <td>0</td>\n",
              "      <td>1</td>\n",
              "      <td>0</td>\n",
              "      <td>0</td>\n",
              "      <td>0</td>\n",
              "      <td>0</td>\n",
              "      <td>0</td>\n",
              "      <td>1</td>\n",
              "      <td>0</td>\n",
              "      <td>0</td>\n",
              "      <td>0.0</td>\n",
              "      <td>0.0</td>\n",
              "      <td>0.0</td>\n",
              "      <td>1.0</td>\n",
              "      <td>0.0</td>\n",
              "      <td>0</td>\n",
              "      <td>0</td>\n",
              "      <td>0</td>\n",
              "      <td>0</td>\n",
              "      <td>0</td>\n",
              "      <td>0</td>\n",
              "      <td>1</td>\n",
              "      <td>0</td>\n",
              "      <td>0</td>\n",
              "      <td>0</td>\n",
              "      <td>0</td>\n",
              "      <td>0</td>\n",
              "      <td>0</td>\n",
              "      <td>0</td>\n",
              "      <td>0</td>\n",
              "      <td>0</td>\n",
              "      <td>0.0</td>\n",
              "      <td>0.0</td>\n",
              "      <td>0.0</td>\n",
              "      <td>0.0</td>\n",
              "      <td>0.0</td>\n",
              "      <td>0.0</td>\n",
              "      <td>0.0</td>\n",
              "    </tr>\n",
              "  </tbody>\n",
              "</table>\n",
              "</div>\n",
              "      <button class=\"colab-df-convert\" onclick=\"convertToInteractive('df-7b244559-8bf9-4462-8990-624978a58584')\"\n",
              "              title=\"Convert this dataframe to an interactive table.\"\n",
              "              style=\"display:none;\">\n",
              "        \n",
              "  <svg xmlns=\"http://www.w3.org/2000/svg\" height=\"24px\"viewBox=\"0 0 24 24\"\n",
              "       width=\"24px\">\n",
              "    <path d=\"M0 0h24v24H0V0z\" fill=\"none\"/>\n",
              "    <path d=\"M18.56 5.44l.94 2.06.94-2.06 2.06-.94-2.06-.94-.94-2.06-.94 2.06-2.06.94zm-11 1L8.5 8.5l.94-2.06 2.06-.94-2.06-.94L8.5 2.5l-.94 2.06-2.06.94zm10 10l.94 2.06.94-2.06 2.06-.94-2.06-.94-.94-2.06-.94 2.06-2.06.94z\"/><path d=\"M17.41 7.96l-1.37-1.37c-.4-.4-.92-.59-1.43-.59-.52 0-1.04.2-1.43.59L10.3 9.45l-7.72 7.72c-.78.78-.78 2.05 0 2.83L4 21.41c.39.39.9.59 1.41.59.51 0 1.02-.2 1.41-.59l7.78-7.78 2.81-2.81c.8-.78.8-2.07 0-2.86zM5.41 20L4 18.59l7.72-7.72 1.47 1.35L5.41 20z\"/>\n",
              "  </svg>\n",
              "      </button>\n",
              "      \n",
              "  <style>\n",
              "    .colab-df-container {\n",
              "      display:flex;\n",
              "      flex-wrap:wrap;\n",
              "      gap: 12px;\n",
              "    }\n",
              "\n",
              "    .colab-df-convert {\n",
              "      background-color: #E8F0FE;\n",
              "      border: none;\n",
              "      border-radius: 50%;\n",
              "      cursor: pointer;\n",
              "      display: none;\n",
              "      fill: #1967D2;\n",
              "      height: 32px;\n",
              "      padding: 0 0 0 0;\n",
              "      width: 32px;\n",
              "    }\n",
              "\n",
              "    .colab-df-convert:hover {\n",
              "      background-color: #E2EBFA;\n",
              "      box-shadow: 0px 1px 2px rgba(60, 64, 67, 0.3), 0px 1px 3px 1px rgba(60, 64, 67, 0.15);\n",
              "      fill: #174EA6;\n",
              "    }\n",
              "\n",
              "    [theme=dark] .colab-df-convert {\n",
              "      background-color: #3B4455;\n",
              "      fill: #D2E3FC;\n",
              "    }\n",
              "\n",
              "    [theme=dark] .colab-df-convert:hover {\n",
              "      background-color: #434B5C;\n",
              "      box-shadow: 0px 1px 3px 1px rgba(0, 0, 0, 0.15);\n",
              "      filter: drop-shadow(0px 1px 2px rgba(0, 0, 0, 0.3));\n",
              "      fill: #FFFFFF;\n",
              "    }\n",
              "  </style>\n",
              "\n",
              "      <script>\n",
              "        const buttonEl =\n",
              "          document.querySelector('#df-7b244559-8bf9-4462-8990-624978a58584 button.colab-df-convert');\n",
              "        buttonEl.style.display =\n",
              "          google.colab.kernel.accessAllowed ? 'block' : 'none';\n",
              "\n",
              "        async function convertToInteractive(key) {\n",
              "          const element = document.querySelector('#df-7b244559-8bf9-4462-8990-624978a58584');\n",
              "          const dataTable =\n",
              "            await google.colab.kernel.invokeFunction('convertToInteractive',\n",
              "                                                     [key], {});\n",
              "          if (!dataTable) return;\n",
              "\n",
              "          const docLinkHtml = 'Like what you see? Visit the ' +\n",
              "            '<a target=\"_blank\" href=https://colab.research.google.com/notebooks/data_table.ipynb>data table notebook</a>'\n",
              "            + ' to learn more about interactive tables.';\n",
              "          element.innerHTML = '';\n",
              "          dataTable['output_type'] = 'display_data';\n",
              "          await google.colab.output.renderOutput(dataTable, element);\n",
              "          const docLink = document.createElement('div');\n",
              "          docLink.innerHTML = docLinkHtml;\n",
              "          element.appendChild(docLink);\n",
              "        }\n",
              "      </script>\n",
              "    </div>\n",
              "  </div>\n",
              "  "
            ]
          },
          "metadata": {},
          "execution_count": 4
        }
      ]
    },
    {
      "cell_type": "code",
      "source": [
        "df.shape"
      ],
      "metadata": {
        "colab": {
          "base_uri": "https://localhost:8080/"
        },
        "id": "-5AZn0cjQULj",
        "outputId": "2af1e853-3f10-49dc-c5b9-25149caae77b"
      },
      "execution_count": 5,
      "outputs": [
        {
          "output_type": "execute_result",
          "data": {
            "text/plain": [
              "(30930, 69)"
            ]
          },
          "metadata": {},
          "execution_count": 5
        }
      ]
    },
    {
      "cell_type": "code",
      "source": [
        "# check # of rows for St. Louis\n",
        "\n",
        "\n",
        "len(df[df['market'] == \"St. Louis\"])"
      ],
      "metadata": {
        "colab": {
          "base_uri": "https://localhost:8080/"
        },
        "id": "xeXo4PQYQXdz",
        "outputId": "075f94db-0ba8-4afb-e3c4-59e20eff89e6"
      },
      "execution_count": 6,
      "outputs": [
        {
          "output_type": "execute_result",
          "data": {
            "text/plain": [
              "3181"
            ]
          },
          "metadata": {},
          "execution_count": 6
        }
      ]
    },
    {
      "cell_type": "markdown",
      "source": [
        "St.Louis has 3,181 restaurants in Business Clean 6"
      ],
      "metadata": {
        "id": "L7plWiK4SH9p"
      }
    },
    {
      "cell_type": "markdown",
      "source": [
        "# Create New DF with St. Louis only"
      ],
      "metadata": {
        "id": "Lp_lk48APr70"
      }
    },
    {
      "cell_type": "code",
      "source": [
        "df_stlouis = df.copy(deep = True)"
      ],
      "metadata": {
        "id": "EZFmwsLTPv07"
      },
      "execution_count": 48,
      "outputs": []
    },
    {
      "cell_type": "code",
      "source": [
        "df_stlouis = df_stlouis[df_stlouis['market'] == 'St. Louis']"
      ],
      "metadata": {
        "id": "EzEorfcaPzTx"
      },
      "execution_count": 49,
      "outputs": []
    },
    {
      "cell_type": "code",
      "source": [
        "df_stlouis.shape"
      ],
      "metadata": {
        "colab": {
          "base_uri": "https://localhost:8080/"
        },
        "id": "_BzDvOdnShlo",
        "outputId": "7b6b1d84-a6a2-4b8c-9ab8-718ced87855c"
      },
      "execution_count": 50,
      "outputs": [
        {
          "output_type": "execute_result",
          "data": {
            "text/plain": [
              "(3181, 69)"
            ]
          },
          "metadata": {},
          "execution_count": 50
        }
      ]
    },
    {
      "cell_type": "code",
      "source": [
        "df_stlouis.head()"
      ],
      "metadata": {
        "id": "8iTXUNOWTizv"
      },
      "execution_count": null,
      "outputs": []
    },
    {
      "cell_type": "code",
      "source": [
        "#export St Louis business\n",
        "#download to csv\n",
        "\n",
        "df_stlouis.to_csv('df_stlouis.csv', index = False)\n",
        "files.download('df_stlouis.csv')"
      ],
      "metadata": {
        "colab": {
          "base_uri": "https://localhost:8080/",
          "height": 17
        },
        "id": "j_-WUpdp8Zla",
        "outputId": "3c3ec474-0279-4e6f-bfcc-05708ead60d7"
      },
      "execution_count": 51,
      "outputs": [
        {
          "output_type": "display_data",
          "data": {
            "text/plain": [
              "<IPython.core.display.Javascript object>"
            ],
            "application/javascript": [
              "\n",
              "    async function download(id, filename, size) {\n",
              "      if (!google.colab.kernel.accessAllowed) {\n",
              "        return;\n",
              "      }\n",
              "      const div = document.createElement('div');\n",
              "      const label = document.createElement('label');\n",
              "      label.textContent = `Downloading \"${filename}\": `;\n",
              "      div.appendChild(label);\n",
              "      const progress = document.createElement('progress');\n",
              "      progress.max = size;\n",
              "      div.appendChild(progress);\n",
              "      document.body.appendChild(div);\n",
              "\n",
              "      const buffers = [];\n",
              "      let downloaded = 0;\n",
              "\n",
              "      const channel = await google.colab.kernel.comms.open(id);\n",
              "      // Send a message to notify the kernel that we're ready.\n",
              "      channel.send({})\n",
              "\n",
              "      for await (const message of channel.messages) {\n",
              "        // Send a message to notify the kernel that we're ready.\n",
              "        channel.send({})\n",
              "        if (message.buffers) {\n",
              "          for (const buffer of message.buffers) {\n",
              "            buffers.push(buffer);\n",
              "            downloaded += buffer.byteLength;\n",
              "            progress.value = downloaded;\n",
              "          }\n",
              "        }\n",
              "      }\n",
              "      const blob = new Blob(buffers, {type: 'application/binary'});\n",
              "      const a = document.createElement('a');\n",
              "      a.href = window.URL.createObjectURL(blob);\n",
              "      a.download = filename;\n",
              "      div.appendChild(a);\n",
              "      a.click();\n",
              "      div.remove();\n",
              "    }\n",
              "  "
            ]
          },
          "metadata": {}
        },
        {
          "output_type": "display_data",
          "data": {
            "text/plain": [
              "<IPython.core.display.Javascript object>"
            ],
            "application/javascript": [
              "download(\"download_903286e1-c5d3-472a-923a-c2a4c75116cf\", \"df_stlouis.csv\", 3929557)"
            ]
          },
          "metadata": {}
        }
      ]
    },
    {
      "cell_type": "markdown",
      "source": [
        "# Linear Regression St Louis"
      ],
      "metadata": {
        "id": "Jsx0v7H5OA9k"
      }
    },
    {
      "cell_type": "code",
      "source": [
        "df_stlouis.drop([\"business_id\",\"name\",\"address\",\"city\",\"state\",\"postal_code\",\"latitude\",\n",
        "              \"longitude\",\"attributes\",\"categories\",\"BusinessParking\",\"market\",'Alcohol_None', \n",
        "              'BYOBCorkage_yes_free', 'NoiseLevel_average', 'NoiseLevel_quiet',\n",
        "              'Smoking_yes', 'WiFi_no', 'Nightlife', 'Bars', 'Sandwiches'], axis =1, inplace = True)"
      ],
      "metadata": {
        "id": "MzJmaQWnOEfE"
      },
      "execution_count": 52,
      "outputs": []
    },
    {
      "cell_type": "code",
      "source": [
        "df_stlouis.shape"
      ],
      "metadata": {
        "colab": {
          "base_uri": "https://localhost:8080/"
        },
        "id": "7zGWdrTDOLIE",
        "outputId": "ad52117e-5756-4d67-aa9f-dd36ff007510"
      },
      "execution_count": 53,
      "outputs": [
        {
          "output_type": "execute_result",
          "data": {
            "text/plain": [
              "(3181, 48)"
            ]
          },
          "metadata": {},
          "execution_count": 53
        }
      ]
    },
    {
      "cell_type": "code",
      "source": [
        "#Check Multicollinearity with VIF\n",
        "\n",
        "from statsmodels.stats.outliers_influence import variance_inflation_factor\n",
        "from statsmodels.tools.tools import add_constant"
      ],
      "metadata": {
        "id": "J_dFbYLtPTOv"
      },
      "execution_count": 58,
      "outputs": []
    },
    {
      "cell_type": "code",
      "source": [
        "X = add_constant(Xstl)\n",
        "pd.Series([variance_inflation_factor(X.values, i) \n",
        "               for i in range(X.shape[1])], \n",
        "              index=X.columns)"
      ],
      "metadata": {
        "colab": {
          "base_uri": "https://localhost:8080/"
        },
        "id": "DmHQTut7PXXY",
        "outputId": "86d132ad-49c0-421f-eba9-9b08b368389c"
      },
      "execution_count": 59,
      "outputs": [
        {
          "output_type": "stream",
          "name": "stderr",
          "text": [
            "/usr/local/lib/python3.7/dist-packages/statsmodels/tsa/tsatools.py:142: FutureWarning: In a future version of pandas all arguments of concat except for the argument 'objs' will be keyword-only\n",
            "  x = pd.concat(x[::order], 1)\n"
          ]
        },
        {
          "output_type": "execute_result",
          "data": {
            "text/plain": [
              "const                         75.546259\n",
              "review_count                  1.381024 \n",
              "is_open                       1.291742 \n",
              "RestaurantsTakeOut            1.144091 \n",
              "HasTV                         1.554717 \n",
              "BusinessAcceptsCreditCards    1.082678 \n",
              "RestaurantsPriceRange2        2.454034 \n",
              "RestaurantsReservations       1.452302 \n",
              "AgesAllowed_21plus            1.032067 \n",
              "AgesAllowed_allages           1.022791 \n",
              "Alcohol_beer_and_wine         1.313436 \n",
              "Alcohol_full_bar              2.288149 \n",
              "BYOBCorkage_no                1.024107 \n",
              "BYOBCorkage_yes_corkage       1.040764 \n",
              "NoiseLevel_loud               1.111345 \n",
              "NoiseLevel_very_loud          1.044428 \n",
              "RestaurantsAttire_casual      2.148039 \n",
              "RestaurantsAttire_dressy      1.651225 \n",
              "RestaurantsAttire_formal      1.028157 \n",
              "Smoking_no                    1.110403 \n",
              "Smoking_outdoor               1.153039 \n",
              "WiFi_free                     1.321709 \n",
              "WiFi_paid                     1.022447 \n",
              "garage                        1.184987 \n",
              "street                        1.478430 \n",
              "validated                     1.140560 \n",
              "lot                           1.439084 \n",
              "valet                         1.242104 \n",
              "American (Traditional)        1.348686 \n",
              "Pizza                         1.281836 \n",
              "American (New)                1.178974 \n",
              "Italian                       1.203522 \n",
              "Breakfast & Brunch            1.150409 \n",
              "Mexican                       1.225080 \n",
              "Seafood                       1.079468 \n",
              "ChineseTotal                  1.262875 \n",
              "Burgers                       1.104236 \n",
              "Salad                         1.083092 \n",
              "Chicken Wings                 1.123811 \n",
              "Sports Bars                   1.286440 \n",
              "JapaneseTotal                 1.095991 \n",
              "HasTV_NA                      1.462567 \n",
              "RestaurantsPriceRange2_NA     2.453210 \n",
              "RestaurantsReservations_NA    1.154710 \n",
              "garage_NA                     4.203531 \n",
              "validated_NA                  4.062902 \n",
              "lot_NA                        2.860167 \n",
              "valet_NA                      3.957430 \n",
              "dtype: float64"
            ]
          },
          "metadata": {},
          "execution_count": 59
        }
      ]
    },
    {
      "cell_type": "markdown",
      "source": [
        "highest VIF = garage_na, validated_NA, valet_NA\n",
        "VIF ~ 4.0 still below 5"
      ],
      "metadata": {
        "id": "MHLfUDM3Plvo"
      }
    },
    {
      "cell_type": "code",
      "source": [
        "#split df into test and train\n",
        "\n",
        "Xstl = df_stlouis.drop(columns = ['stars'])\n",
        "ystl = df_stlouis['stars']"
      ],
      "metadata": {
        "id": "qBDC6PchONcd"
      },
      "execution_count": 54,
      "outputs": []
    },
    {
      "cell_type": "code",
      "source": [
        "from sklearn.model_selection import train_test_split\n",
        "\n",
        "X_train, X_test, y_train, y_test = train_test_split(Xstl,ystl, test_size = 0.2, random_state = 10)"
      ],
      "metadata": {
        "id": "LP7-OWTQORan"
      },
      "execution_count": 55,
      "outputs": []
    },
    {
      "cell_type": "code",
      "source": [
        "X_Train = X_train\n",
        "X_train = sm.add_constant(X_train)\n",
        "\n",
        "model = sm.OLS(y_train, X_train).fit()\n",
        "predictions = model.predict(X_train) \n",
        "\n",
        "print_model = model.summary()"
      ],
      "metadata": {
        "colab": {
          "base_uri": "https://localhost:8080/"
        },
        "id": "I8EFa8NQOVLO",
        "outputId": "5836a3b0-5f27-4bb1-f6ad-210cfc8c905c"
      },
      "execution_count": 56,
      "outputs": [
        {
          "output_type": "stream",
          "name": "stderr",
          "text": [
            "/usr/local/lib/python3.7/dist-packages/statsmodels/tsa/tsatools.py:142: FutureWarning: In a future version of pandas all arguments of concat except for the argument 'objs' will be keyword-only\n",
            "  x = pd.concat(x[::order], 1)\n"
          ]
        }
      ]
    },
    {
      "cell_type": "code",
      "source": [
        "print(print_model)"
      ],
      "metadata": {
        "colab": {
          "base_uri": "https://localhost:8080/"
        },
        "id": "RFz9_t4_OiFx",
        "outputId": "7bae9d8b-d0d4-4fba-859a-ad06495151f3"
      },
      "execution_count": 57,
      "outputs": [
        {
          "output_type": "stream",
          "name": "stdout",
          "text": [
            "                            OLS Regression Results                            \n",
            "==============================================================================\n",
            "Dep. Variable:                  stars   R-squared:                       0.251\n",
            "Model:                            OLS   Adj. R-squared:                  0.237\n",
            "Method:                 Least Squares   F-statistic:                     17.81\n",
            "Date:                Wed, 02 Nov 2022   Prob (F-statistic):          6.61e-123\n",
            "Time:                        21:23:09   Log-Likelihood:                -2393.2\n",
            "No. Observations:                2544   AIC:                             4882.\n",
            "Df Residuals:                    2496   BIC:                             5163.\n",
            "Df Model:                          47                                         \n",
            "Covariance Type:            nonrobust                                         \n",
            "==============================================================================================\n",
            "                                 coef    std err          t      P>|t|      [0.025      0.975]\n",
            "----------------------------------------------------------------------------------------------\n",
            "const                          4.2521      0.107     39.582      0.000       4.041       4.463\n",
            "review_count                   0.0008      0.000      7.276      0.000       0.001       0.001\n",
            "is_open                        0.1204      0.029      4.189      0.000       0.064       0.177\n",
            "RestaurantsTakeOut            -0.0192      0.049     -0.395      0.693      -0.114       0.076\n",
            "HasTV                         -0.1697      0.036     -4.764      0.000      -0.239      -0.100\n",
            "BusinessAcceptsCreditCards    -0.2379      0.074     -3.204      0.001      -0.383      -0.092\n",
            "RestaurantsPriceRange2        -0.1150      0.029     -4.027      0.000      -0.171      -0.059\n",
            "RestaurantsReservations        0.0402      0.031      1.312      0.190      -0.020       0.100\n",
            "AgesAllowed_21plus             0.1831      0.453      0.404      0.686      -0.706       1.072\n",
            "AgesAllowed_allages           -0.8586      0.449     -1.912      0.056      -1.739       0.022\n",
            "Alcohol_beer_and_wine          0.2200      0.047      4.704      0.000       0.128       0.312\n",
            "Alcohol_full_bar              -0.0256      0.038     -0.679      0.497      -0.099       0.048\n",
            "BYOBCorkage_no                -0.1686      0.092     -1.823      0.068      -0.350       0.013\n",
            "BYOBCorkage_yes_corkage        0.1340      0.243      0.551      0.582      -0.343       0.611\n",
            "NoiseLevel_loud               -0.1286      0.050     -2.552      0.011      -0.227      -0.030\n",
            "NoiseLevel_very_loud          -0.4016      0.077     -5.201      0.000      -0.553      -0.250\n",
            "RestaurantsAttire_casual      -0.2975      0.053     -5.646      0.000      -0.401      -0.194\n",
            "RestaurantsAttire_dressy       0.0038      0.098      0.039      0.969      -0.189       0.197\n",
            "RestaurantsAttire_formal      -0.0291      0.368     -0.079      0.937      -0.750       0.692\n",
            "Smoking_no                     0.1193      0.062      1.926      0.054      -0.002       0.241\n",
            "Smoking_outdoor                0.1200      0.057      2.113      0.035       0.009       0.231\n",
            "WiFi_free                      0.0979      0.029      3.382      0.001       0.041       0.155\n",
            "WiFi_paid                      0.3982      0.200      1.987      0.047       0.005       0.791\n",
            "garage                        -0.1515      0.058     -2.595      0.010      -0.266      -0.037\n",
            "street                         0.2187      0.032      6.764      0.000       0.155       0.282\n",
            "validated                     -0.2036      0.160     -1.269      0.204      -0.518       0.111\n",
            "lot                            0.0419      0.030      1.400      0.162      -0.017       0.101\n",
            "valet                         -0.1399      0.079     -1.777      0.076      -0.294       0.014\n",
            "American (Traditional)        -0.1169      0.033     -3.504      0.000      -0.182      -0.051\n",
            "Pizza                         -0.2485      0.039     -6.396      0.000      -0.325      -0.172\n",
            "American (New)                -0.0323      0.036     -0.888      0.375      -0.104       0.039\n",
            "Italian                        0.0815      0.045      1.824      0.068      -0.006       0.169\n",
            "Breakfast & Brunch            -0.1309      0.048     -2.742      0.006      -0.224      -0.037\n",
            "Mexican                        0.0386      0.050      0.775      0.438      -0.059       0.136\n",
            "Seafood                       -0.0163      0.063     -0.260      0.795      -0.139       0.106\n",
            "ChineseTotal                  -0.1743      0.049     -3.536      0.000      -0.271      -0.078\n",
            "Burgers                       -0.0789      0.048     -1.635      0.102      -0.173       0.016\n",
            "Salad                         -0.0337      0.052     -0.646      0.518      -0.136       0.069\n",
            "Chicken Wings                 -0.3666      0.058     -6.281      0.000      -0.481      -0.252\n",
            "Sports Bars                   -0.1615      0.055     -2.960      0.003      -0.269      -0.055\n",
            "JapaneseTotal                 -0.0401      0.065     -0.613      0.540      -0.168       0.088\n",
            "HasTV_NA                      -0.2600      0.057     -4.573      0.000      -0.372      -0.149\n",
            "RestaurantsPriceRange2_NA      0.0774      0.086      0.904      0.366      -0.090       0.245\n",
            "RestaurantsReservations_NA     0.1430      0.063      2.289      0.022       0.020       0.266\n",
            "garage_NA                     -0.2805      0.097     -2.901      0.004      -0.470      -0.091\n",
            "validated_NA                   0.1242      0.089      1.393      0.164      -0.051       0.299\n",
            "lot_NA                         0.1088      0.076      1.439      0.150      -0.039       0.257\n",
            "valet_NA                      -0.2171      0.112     -1.946      0.052      -0.436       0.002\n",
            "==============================================================================\n",
            "Omnibus:                       59.010   Durbin-Watson:                   1.995\n",
            "Prob(Omnibus):                  0.000   Jarque-Bera (JB):               62.838\n",
            "Skew:                          -0.368   Prob(JB):                     2.26e-14\n",
            "Kurtosis:                       3.223   Cond. No.                     5.87e+03\n",
            "==============================================================================\n",
            "\n",
            "Notes:\n",
            "[1] Standard Errors assume that the covariance matrix of the errors is correctly specified.\n",
            "[2] The condition number is large, 5.87e+03. This might indicate that there are\n",
            "strong multicollinearity or other numerical problems.\n"
          ]
        }
      ]
    },
    {
      "cell_type": "markdown",
      "source": [
        "Drop based on p value >0.05: RestaurantReservations, AgesAllowed21plus, Agesallowed_allages, Alcohol_full_bar, BYOB_yes_corkage, BYOB_corkage_no,\n",
        "Restaurant attire dressy and formal, Smoking_no, validated, lot, valet,\n",
        "American (new), Italian, Mexican, Seafood, Burgers, Salad, JapaneseTotal, RestaurantPriceRangeNA, validated_NA, lot_NA, valet_NA"
      ],
      "metadata": {
        "id": "8nmqvQC2QBz2"
      }
    },
    {
      "cell_type": "markdown",
      "source": [
        "# Linear Regression St. Louis 2"
      ],
      "metadata": {
        "id": "E5hMJcyaQ6K7"
      }
    },
    {
      "cell_type": "code",
      "source": [
        "df_stlouis.drop([\"RestaurantsTakeOut\",\"RestaurantsReservations\", \"AgesAllowed_21plus\", \"AgesAllowed_allages\", \"Alcohol_full_bar\", \"BYOBCorkage_yes_corkage\", \"BYOBCorkage_no\",\n",
        "                 \"RestaurantsAttire_dressy\", \"RestaurantsAttire_formal\", \"Smoking_no\", \"validated\", \"lot\", \"valet\",\n",
        "                 \"American (New)\", \"Italian\", \"Mexican\", \"Seafood\", \"Burgers\", \"Salad\", \"JapaneseTotal\", \"RestaurantsPriceRange2_NA\", \n",
        "                 \"validated_NA\", \"lot_NA\", \"valet_NA\" ], axis =1, inplace = True)"
      ],
      "metadata": {
        "id": "x8CsVvvbQ9QP"
      },
      "execution_count": 62,
      "outputs": []
    },
    {
      "cell_type": "code",
      "source": [
        "df_stlouis.shape"
      ],
      "metadata": {
        "colab": {
          "base_uri": "https://localhost:8080/"
        },
        "id": "h7CH04YKSKel",
        "outputId": "8eeaebc8-55e5-4c05-e829-2c3bf8046575"
      },
      "execution_count": 63,
      "outputs": [
        {
          "output_type": "execute_result",
          "data": {
            "text/plain": [
              "(3181, 24)"
            ]
          },
          "metadata": {},
          "execution_count": 63
        }
      ]
    },
    {
      "cell_type": "code",
      "source": [
        "#split df into test and train\n",
        "\n",
        "Xstl = df_stlouis.drop(columns = ['stars'])\n",
        "ystl = df_stlouis['stars']"
      ],
      "metadata": {
        "id": "rNuHFcW_SdsM"
      },
      "execution_count": 65,
      "outputs": []
    },
    {
      "cell_type": "code",
      "source": [
        "X_train, X_test, y_train, y_test = train_test_split(Xstl,ystl, test_size = 0.2, random_state = 305)"
      ],
      "metadata": {
        "id": "gtLPCi6cSg6z"
      },
      "execution_count": 66,
      "outputs": []
    },
    {
      "cell_type": "code",
      "source": [
        "#Linear St. Louis2\n",
        "\n",
        "X_Train = X_train\n",
        "X_train = sm.add_constant(X_train)\n",
        "\n",
        "model = sm.OLS(y_train, X_train).fit()\n",
        "predictions = model.predict(X_train) \n",
        "\n",
        "print(model.summary())"
      ],
      "metadata": {
        "colab": {
          "base_uri": "https://localhost:8080/"
        },
        "id": "_2bTH6RJSVM1",
        "outputId": "663aede8-7ac6-4650-d984-a74c318bf794"
      },
      "execution_count": 67,
      "outputs": [
        {
          "output_type": "stream",
          "name": "stdout",
          "text": [
            "                            OLS Regression Results                            \n",
            "==============================================================================\n",
            "Dep. Variable:                  stars   R-squared:                       0.236\n",
            "Model:                            OLS   Adj. R-squared:                  0.229\n",
            "Method:                 Least Squares   F-statistic:                     33.87\n",
            "Date:                Wed, 02 Nov 2022   Prob (F-statistic):          3.49e-129\n",
            "Time:                        21:41:10   Log-Likelihood:                -2400.5\n",
            "No. Observations:                2544   AIC:                             4849.\n",
            "Df Residuals:                    2520   BIC:                             4989.\n",
            "Df Model:                          23                                         \n",
            "Covariance Type:            nonrobust                                         \n",
            "==============================================================================================\n",
            "                                 coef    std err          t      P>|t|      [0.025      0.975]\n",
            "----------------------------------------------------------------------------------------------\n",
            "const                          4.2554      0.088     48.220      0.000       4.082       4.428\n",
            "review_count                   0.0008      0.000      7.709      0.000       0.001       0.001\n",
            "is_open                        0.1600      0.028      5.756      0.000       0.105       0.215\n",
            "HasTV                         -0.1471      0.035     -4.169      0.000      -0.216      -0.078\n",
            "BusinessAcceptsCreditCards    -0.2513      0.072     -3.482      0.001      -0.393      -0.110\n",
            "RestaurantsPriceRange2        -0.1169      0.020     -5.892      0.000      -0.156      -0.078\n",
            "Alcohol_beer_and_wine          0.2049      0.041      4.991      0.000       0.124       0.285\n",
            "NoiseLevel_loud               -0.1962      0.051     -3.836      0.000      -0.296      -0.096\n",
            "NoiseLevel_very_loud          -0.3945      0.085     -4.652      0.000      -0.561      -0.228\n",
            "RestaurantsAttire_casual      -0.2910      0.039     -7.519      0.000      -0.367      -0.215\n",
            "Smoking_outdoor                0.1208      0.057      2.138      0.033       0.010       0.232\n",
            "WiFi_free                      0.0729      0.028      2.630      0.009       0.019       0.127\n",
            "WiFi_paid                      0.2370      0.200      1.184      0.236      -0.155       0.629\n",
            "garage                        -0.1874      0.054     -3.484      0.001      -0.293      -0.082\n",
            "street                         0.2058      0.029      7.088      0.000       0.149       0.263\n",
            "American (Traditional)        -0.1145      0.032     -3.563      0.000      -0.178      -0.052\n",
            "Pizza                         -0.2398      0.037     -6.546      0.000      -0.312      -0.168\n",
            "Breakfast & Brunch            -0.1525      0.045     -3.412      0.001      -0.240      -0.065\n",
            "ChineseTotal                  -0.2056      0.047     -4.391      0.000      -0.297      -0.114\n",
            "Chicken Wings                 -0.4013      0.056     -7.189      0.000      -0.511      -0.292\n",
            "Sports Bars                   -0.2183      0.054     -4.075      0.000      -0.323      -0.113\n",
            "HasTV_NA                      -0.2559      0.055     -4.644      0.000      -0.364      -0.148\n",
            "RestaurantsReservations_NA     0.1170      0.059      1.992      0.046       0.002       0.232\n",
            "garage_NA                     -0.1994      0.046     -4.378      0.000      -0.289      -0.110\n",
            "==============================================================================\n",
            "Omnibus:                       56.605   Durbin-Watson:                   2.007\n",
            "Prob(Omnibus):                  0.000   Jarque-Bera (JB):               60.215\n",
            "Skew:                          -0.358   Prob(JB):                     8.40e-14\n",
            "Kurtosis:                       3.233   Cond. No.                     2.57e+03\n",
            "==============================================================================\n",
            "\n",
            "Notes:\n",
            "[1] Standard Errors assume that the covariance matrix of the errors is correctly specified.\n",
            "[2] The condition number is large, 2.57e+03. This might indicate that there are\n",
            "strong multicollinearity or other numerical problems.\n"
          ]
        },
        {
          "output_type": "stream",
          "name": "stderr",
          "text": [
            "/usr/local/lib/python3.7/dist-packages/statsmodels/tsa/tsatools.py:142: FutureWarning: In a future version of pandas all arguments of concat except for the argument 'objs' will be keyword-only\n",
            "  x = pd.concat(x[::order], 1)\n"
          ]
        }
      ]
    },
    {
      "cell_type": "markdown",
      "source": [
        "Drop WiFi_paid based on p value >0.05"
      ],
      "metadata": {
        "id": "V7dtP9I8TP4M"
      }
    },
    {
      "cell_type": "markdown",
      "source": [
        "# Linear Regression St. Louis 3"
      ],
      "metadata": {
        "id": "1laJVqdbTXjZ"
      }
    },
    {
      "cell_type": "code",
      "source": [
        "df_stlouis.drop([\"WiFi_paid\"],axis =1, inplace = True)"
      ],
      "metadata": {
        "id": "_TMkLrTpTb6T"
      },
      "execution_count": 68,
      "outputs": []
    },
    {
      "cell_type": "code",
      "source": [
        "df_stlouis.shape"
      ],
      "metadata": {
        "colab": {
          "base_uri": "https://localhost:8080/"
        },
        "id": "PDnODGF0TsuD",
        "outputId": "f2a81435-5dc4-4c47-98f6-c4ac7e6e2182"
      },
      "execution_count": 69,
      "outputs": [
        {
          "output_type": "execute_result",
          "data": {
            "text/plain": [
              "(3181, 23)"
            ]
          },
          "metadata": {},
          "execution_count": 69
        }
      ]
    },
    {
      "cell_type": "code",
      "source": [
        "#split df into test and train\n",
        "\n",
        "Xstl = df_stlouis.drop(columns = ['stars'])\n",
        "ystl = df_stlouis['stars']"
      ],
      "metadata": {
        "id": "Sx7ExbojTvQJ"
      },
      "execution_count": 70,
      "outputs": []
    },
    {
      "cell_type": "code",
      "source": [
        "X_train, X_test, y_train, y_test = train_test_split(Xstl,ystl, test_size = 0.2, random_state = 407)"
      ],
      "metadata": {
        "id": "vXwt8cC6Tyrq"
      },
      "execution_count": 71,
      "outputs": []
    },
    {
      "cell_type": "code",
      "source": [
        "X_Train = X_train\n",
        "X_train = sm.add_constant(X_train)\n",
        "\n",
        "model = sm.OLS(y_train, X_train).fit()\n",
        "predictions = model.predict(X_train) \n",
        "\n",
        "print(model.summary())"
      ],
      "metadata": {
        "colab": {
          "base_uri": "https://localhost:8080/"
        },
        "id": "0321XfPwT4up",
        "outputId": "88a55af0-8ef0-4ef1-dd31-9077866902eb"
      },
      "execution_count": 72,
      "outputs": [
        {
          "output_type": "stream",
          "name": "stdout",
          "text": [
            "                            OLS Regression Results                            \n",
            "==============================================================================\n",
            "Dep. Variable:                  stars   R-squared:                       0.226\n",
            "Model:                            OLS   Adj. R-squared:                  0.220\n",
            "Method:                 Least Squares   F-statistic:                     33.54\n",
            "Date:                Wed, 02 Nov 2022   Prob (F-statistic):          3.16e-123\n",
            "Time:                        21:47:24   Log-Likelihood:                -2429.9\n",
            "No. Observations:                2544   AIC:                             4906.\n",
            "Df Residuals:                    2521   BIC:                             5040.\n",
            "Df Model:                          22                                         \n",
            "Covariance Type:            nonrobust                                         \n",
            "==============================================================================================\n",
            "                                 coef    std err          t      P>|t|      [0.025      0.975]\n",
            "----------------------------------------------------------------------------------------------\n",
            "const                          4.2058      0.086     49.094      0.000       4.038       4.374\n",
            "review_count                   0.0007      0.000      6.840      0.000       0.001       0.001\n",
            "is_open                        0.1491      0.028      5.302      0.000       0.094       0.204\n",
            "HasTV                         -0.1533      0.035     -4.377      0.000      -0.222      -0.085\n",
            "BusinessAcceptsCreditCards    -0.2181      0.070     -3.134      0.002      -0.355      -0.082\n",
            "RestaurantsPriceRange2        -0.1141      0.020     -5.659      0.000      -0.154      -0.075\n",
            "Alcohol_beer_and_wine          0.2428      0.042      5.739      0.000       0.160       0.326\n",
            "NoiseLevel_loud               -0.1874      0.052     -3.635      0.000      -0.288      -0.086\n",
            "NoiseLevel_very_loud          -0.3674      0.079     -4.659      0.000      -0.522      -0.213\n",
            "RestaurantsAttire_casual      -0.2606      0.039     -6.729      0.000      -0.337      -0.185\n",
            "Smoking_outdoor                0.1300      0.057      2.271      0.023       0.018       0.242\n",
            "WiFi_free                      0.0808      0.028      2.898      0.004       0.026       0.135\n",
            "garage                        -0.1637      0.055     -2.974      0.003      -0.272      -0.056\n",
            "street                         0.1888      0.029      6.479      0.000       0.132       0.246\n",
            "American (Traditional)        -0.1216      0.033     -3.729      0.000      -0.185      -0.058\n",
            "Pizza                         -0.1916      0.037     -5.180      0.000      -0.264      -0.119\n",
            "Breakfast & Brunch            -0.1614      0.046     -3.479      0.001      -0.252      -0.070\n",
            "ChineseTotal                  -0.2173      0.047     -4.593      0.000      -0.310      -0.125\n",
            "Chicken Wings                 -0.4787      0.057     -8.359      0.000      -0.591      -0.366\n",
            "Sports Bars                   -0.1610      0.053     -3.021      0.003      -0.266      -0.056\n",
            "HasTV_NA                      -0.2734      0.057     -4.764      0.000      -0.386      -0.161\n",
            "RestaurantsReservations_NA     0.1513      0.060      2.513      0.012       0.033       0.269\n",
            "garage_NA                     -0.2419      0.046     -5.217      0.000      -0.333      -0.151\n",
            "==============================================================================\n",
            "Omnibus:                       68.057   Durbin-Watson:                   1.976\n",
            "Prob(Omnibus):                  0.000   Jarque-Bera (JB):               73.005\n",
            "Skew:                          -0.403   Prob(JB):                     1.40e-16\n",
            "Kurtosis:                       3.199   Cond. No.                     1.32e+03\n",
            "==============================================================================\n",
            "\n",
            "Notes:\n",
            "[1] Standard Errors assume that the covariance matrix of the errors is correctly specified.\n",
            "[2] The condition number is large, 1.32e+03. This might indicate that there are\n",
            "strong multicollinearity or other numerical problems.\n"
          ]
        },
        {
          "output_type": "stream",
          "name": "stderr",
          "text": [
            "/usr/local/lib/python3.7/dist-packages/statsmodels/tsa/tsatools.py:142: FutureWarning: In a future version of pandas all arguments of concat except for the argument 'objs' will be keyword-only\n",
            "  x = pd.concat(x[::order], 1)\n"
          ]
        }
      ]
    },
    {
      "cell_type": "markdown",
      "source": [
        "# Linear Regression St. Louis 3 TEST"
      ],
      "metadata": {
        "id": "cTqlsFyJU8ZI"
      }
    },
    {
      "cell_type": "code",
      "source": [
        "#RUN LINEAR ON TEST\n",
        "\n",
        "X_test = X_test\n",
        "X_test = sm.add_constant(X_test)\n",
        "\n",
        "predictions = model.predict(X_test) "
      ],
      "metadata": {
        "colab": {
          "base_uri": "https://localhost:8080/"
        },
        "id": "g9t7RIRUU4OO",
        "outputId": "4921227c-d17d-4e4a-dc02-7b64012eb541"
      },
      "execution_count": 73,
      "outputs": [
        {
          "output_type": "stream",
          "name": "stderr",
          "text": [
            "/usr/local/lib/python3.7/dist-packages/statsmodels/tsa/tsatools.py:142: FutureWarning: In a future version of pandas all arguments of concat except for the argument 'objs' will be keyword-only\n",
            "  x = pd.concat(x[::order], 1)\n"
          ]
        }
      ]
    },
    {
      "cell_type": "code",
      "source": [
        "# Performance metrics: RMSE, MAE, r-squared, adjusted r-squared\n",
        "from statsmodels.tools.eval_measures import rmse, meanabs\n",
        "\n",
        "RMSE_linear = rmse(y_test, predictions)\n",
        "MAE_linear = meanabs(y_test, predictions)\n",
        "print(\"Linear Regression RMSE\", RMSE_linear, \"MAE_linear\", MAE_linear)"
      ],
      "metadata": {
        "colab": {
          "base_uri": "https://localhost:8080/"
        },
        "id": "1jNqPyj9VFoG",
        "outputId": "ef171059-87d6-4ca2-a1b0-0492752d4f80"
      },
      "execution_count": 74,
      "outputs": [
        {
          "output_type": "stream",
          "name": "stdout",
          "text": [
            "Linear Regression RMSE 0.6247032974405923 MAE_linear 0.4880787014664905\n"
          ]
        }
      ]
    },
    {
      "cell_type": "markdown",
      "source": [
        "ST Louis Linear Regression performance results on test\n",
        "\n",
        "R-squared: 0.257\n",
        "\n",
        "Adj. R-squared: 0.230\n",
        "\n",
        "RMSE: 0.6247\n",
        "\n",
        "MAE: 0.4881"
      ],
      "metadata": {
        "id": "vnCKWsHfVuC5"
      }
    },
    {
      "cell_type": "code",
      "source": [
        "# r-SQUARED AND ADJUSTED R-SQUARED ON TEST\n",
        "\n",
        "\n",
        "X_test = X_test\n",
        "X_test = sm.add_constant(X_test)\n",
        "\n",
        "model = sm.OLS(y_test, X_test).fit()\n",
        "#predictions = model.predict(X_train) \n",
        "\n",
        "print(model.summary())"
      ],
      "metadata": {
        "colab": {
          "base_uri": "https://localhost:8080/"
        },
        "id": "ORtbILMdVNup",
        "outputId": "b1d4d927-d8c8-4124-a273-8dee5c2368ba"
      },
      "execution_count": 75,
      "outputs": [
        {
          "output_type": "stream",
          "name": "stdout",
          "text": [
            "                            OLS Regression Results                            \n",
            "==============================================================================\n",
            "Dep. Variable:                  stars   R-squared:                       0.257\n",
            "Model:                            OLS   Adj. R-squared:                  0.230\n",
            "Method:                 Least Squares   F-statistic:                     9.632\n",
            "Date:                Wed, 02 Nov 2022   Prob (F-statistic):           9.85e-28\n",
            "Time:                        21:52:49   Log-Likelihood:                -585.07\n",
            "No. Observations:                 637   AIC:                             1216.\n",
            "Df Residuals:                     614   BIC:                             1319.\n",
            "Df Model:                          22                                         \n",
            "Covariance Type:            nonrobust                                         \n",
            "==============================================================================================\n",
            "                                 coef    std err          t      P>|t|      [0.025      0.975]\n",
            "----------------------------------------------------------------------------------------------\n",
            "const                          4.4507      0.215     20.657      0.000       4.028       4.874\n",
            "review_count                   0.0011      0.000      5.276      0.000       0.001       0.001\n",
            "is_open                        0.0769      0.057      1.350      0.177      -0.035       0.189\n",
            "HasTV                         -0.0709      0.075     -0.944      0.346      -0.219       0.077\n",
            "BusinessAcceptsCreditCards    -0.3224      0.182     -1.774      0.077      -0.679       0.035\n",
            "RestaurantsPriceRange2        -0.1332      0.040     -3.349      0.001      -0.211      -0.055\n",
            "Alcohol_beer_and_wine          0.1063      0.079      1.351      0.177      -0.048       0.261\n",
            "NoiseLevel_loud               -0.1393      0.100     -1.389      0.165      -0.336       0.058\n",
            "NoiseLevel_very_loud          -0.5095      0.178     -2.858      0.004      -0.860      -0.159\n",
            "RestaurantsAttire_casual      -0.4610      0.082     -5.593      0.000      -0.623      -0.299\n",
            "Smoking_outdoor                0.0941      0.109      0.864      0.388      -0.120       0.308\n",
            "WiFi_free                      0.1226      0.058      2.128      0.034       0.009       0.236\n",
            "garage                        -0.2447      0.114     -2.153      0.032      -0.468      -0.021\n",
            "street                         0.2327      0.059      3.921      0.000       0.116       0.349\n",
            "American (Traditional)        -0.1588      0.062     -2.545      0.011      -0.281      -0.036\n",
            "Pizza                         -0.3220      0.069     -4.659      0.000      -0.458      -0.186\n",
            "Breakfast & Brunch            -0.1329      0.091     -1.453      0.147      -0.312       0.047\n",
            "ChineseTotal                  -0.1130      0.090     -1.260      0.208      -0.289       0.063\n",
            "Chicken Wings                 -0.1122      0.113     -0.992      0.322      -0.334       0.110\n",
            "Sports Bars                   -0.2131      0.115     -1.847      0.065      -0.440       0.013\n",
            "HasTV_NA                      -0.0820      0.109     -0.749      0.454      -0.297       0.133\n",
            "RestaurantsReservations_NA     0.1553      0.121      1.280      0.201      -0.083       0.394\n",
            "garage_NA                     -0.1374      0.094     -1.463      0.144      -0.322       0.047\n",
            "==============================================================================\n",
            "Omnibus:                       20.606   Durbin-Watson:                   2.117\n",
            "Prob(Omnibus):                  0.000   Jarque-Bera (JB):               23.701\n",
            "Skew:                          -0.373   Prob(JB):                     7.13e-06\n",
            "Kurtosis:                       3.581   Cond. No.                     1.94e+03\n",
            "==============================================================================\n",
            "\n",
            "Notes:\n",
            "[1] Standard Errors assume that the covariance matrix of the errors is correctly specified.\n",
            "[2] The condition number is large, 1.94e+03. This might indicate that there are\n",
            "strong multicollinearity or other numerical problems.\n"
          ]
        }
      ]
    },
    {
      "cell_type": "code",
      "source": [
        "#Actual vs Fitted\n",
        "x = y_test\n",
        "y = predictions\n",
        "\n",
        "\n",
        "plt.scatter(x, y)\n",
        "#plt.plot(range(5), range(5))\n",
        "\n",
        "m, b = np.polyfit(x, y, 1)\n",
        "\n",
        "plt.plot(x, m*x+b)\n",
        "plt.xlabel(\"Actual\")\n",
        "plt.ylabel(\"Predicted Star Rating\")\n",
        "plt.title(\"St. Louis Linear Regression Predicted Star Rating\")\n",
        "\n",
        "plt.show()"
      ],
      "metadata": {
        "colab": {
          "base_uri": "https://localhost:8080/",
          "height": 295
        },
        "id": "IAReSGlZWD93",
        "outputId": "808fb059-f5a2-4aee-beaf-10d0e2d18b69"
      },
      "execution_count": 76,
      "outputs": [
        {
          "output_type": "display_data",
          "data": {
            "text/plain": [
              "<Figure size 432x288 with 1 Axes>"
            ],
            "image/png": "[encoded data removed]"
          },
          "metadata": {
            "needs_background": "light"
          }
        }
      ]
    },
    {
      "cell_type": "markdown",
      "source": [
        "# Logistic Regression St Louis"
      ],
      "metadata": {
        "id": "Doev0Yi48v0c"
      }
    },
    {
      "cell_type": "markdown",
      "source": [
        "### Multinomial Logistic Regression still breaks with statsmodels due to floats"
      ],
      "metadata": {
        "id": "G61qkhHbXQHB"
      }
    },
    {
      "cell_type": "code",
      "source": [
        "#delete unnecessary columns\n",
        "\n",
        "df_stlouis.drop([\"business_id\",\"name\",\"address\",\"city\",\"state\",\"postal_code\",\"latitude\",\n",
        "              \"longitude\",\"attributes\",\"categories\",\"BusinessParking\",\"market\",'Alcohol_None', \n",
        "              'BYOBCorkage_yes_free', 'NoiseLevel_average', 'NoiseLevel_quiet',\n",
        "              'Smoking_yes', 'WiFi_no', 'Nightlife', 'Bars', 'Sandwiches'], axis =1, inplace = True)"
      ],
      "metadata": {
        "id": "OgnvPf6oGGt8"
      },
      "execution_count": 30,
      "outputs": []
    },
    {
      "cell_type": "code",
      "source": [
        "df_stlouis.shape"
      ],
      "metadata": {
        "colab": {
          "base_uri": "https://localhost:8080/"
        },
        "id": "mB9srX_-GQPN",
        "outputId": "d83558d7-6fb7-4869-b47a-892af5725623"
      },
      "execution_count": 31,
      "outputs": [
        {
          "output_type": "execute_result",
          "data": {
            "text/plain": [
              "(3181, 48)"
            ]
          },
          "metadata": {},
          "execution_count": 31
        }
      ]
    },
    {
      "cell_type": "code",
      "source": [
        "#split df into test and train\n",
        "\n",
        "Xstl = df_stlouis.drop(columns = ['stars'])\n",
        "ystl = str(df_stlouis['stars'])"
      ],
      "metadata": {
        "id": "ZiTzh9De-21s"
      },
      "execution_count": 39,
      "outputs": []
    },
    {
      "cell_type": "code",
      "source": [
        "#convert stl data to numpy\n",
        "Xstl_np = Xstl.to_numpy()\n",
        "\n",
        "#ystl_np = ystl.to_numpy()"
      ],
      "metadata": {
        "id": "rIFfw8s8DD-p"
      },
      "execution_count": 40,
      "outputs": []
    },
    {
      "cell_type": "code",
      "source": [
        "from sklearn.model_selection import train_test_split\n",
        "\n",
        "X_train, X_test, y_train, y_test = train_test_split(Xstl_np,ystl, test_size = 0.2, random_state = 10)"
      ],
      "metadata": {
        "colab": {
          "base_uri": "https://localhost:8080/",
          "height": 362
        },
        "id": "BVJZCZcK-l5F",
        "outputId": "faf131a4-7028-4dbb-ae8d-f280c6283e17"
      },
      "execution_count": 41,
      "outputs": [
        {
          "output_type": "error",
          "ename": "ValueError",
          "evalue": "ignored",
          "traceback": [
            "\u001b[0;31m---------------------------------------------------------------------------\u001b[0m",
            "\u001b[0;31mValueError\u001b[0m                                Traceback (most recent call last)",
            "\u001b[0;32m<ipython-input-41-81e0ee481c0d>\u001b[0m in \u001b[0;36m<module>\u001b[0;34m\u001b[0m\n\u001b[1;32m      1\u001b[0m \u001b[0;32mfrom\u001b[0m \u001b[0msklearn\u001b[0m\u001b[0;34m.\u001b[0m\u001b[0mmodel_selection\u001b[0m \u001b[0;32mimport\u001b[0m \u001b[0mtrain_test_split\u001b[0m\u001b[0;34m\u001b[0m\u001b[0;34m\u001b[0m\u001b[0m\n\u001b[1;32m      2\u001b[0m \u001b[0;34m\u001b[0m\u001b[0m\n\u001b[0;32m----> 3\u001b[0;31m \u001b[0mX_train\u001b[0m\u001b[0;34m,\u001b[0m \u001b[0mX_test\u001b[0m\u001b[0;34m,\u001b[0m \u001b[0my_train\u001b[0m\u001b[0;34m,\u001b[0m \u001b[0my_test\u001b[0m \u001b[0;34m=\u001b[0m \u001b[0mtrain_test_split\u001b[0m\u001b[0;34m(\u001b[0m\u001b[0mXstl_np\u001b[0m\u001b[0;34m,\u001b[0m\u001b[0mystl\u001b[0m\u001b[0;34m,\u001b[0m \u001b[0mtest_size\u001b[0m \u001b[0;34m=\u001b[0m \u001b[0;36m0.2\u001b[0m\u001b[0;34m,\u001b[0m \u001b[0mrandom_state\u001b[0m \u001b[0;34m=\u001b[0m \u001b[0;36m10\u001b[0m\u001b[0;34m)\u001b[0m\u001b[0;34m\u001b[0m\u001b[0;34m\u001b[0m\u001b[0m\n\u001b[0m",
            "\u001b[0;32m/usr/local/lib/python3.7/dist-packages/sklearn/model_selection/_split.py\u001b[0m in \u001b[0;36mtrain_test_split\u001b[0;34m(test_size, train_size, random_state, shuffle, stratify, *arrays)\u001b[0m\n\u001b[1;32m   2415\u001b[0m         \u001b[0;32mraise\u001b[0m \u001b[0mValueError\u001b[0m\u001b[0;34m(\u001b[0m\u001b[0;34m\"At least one array required as input\"\u001b[0m\u001b[0;34m)\u001b[0m\u001b[0;34m\u001b[0m\u001b[0;34m\u001b[0m\u001b[0m\n\u001b[1;32m   2416\u001b[0m \u001b[0;34m\u001b[0m\u001b[0m\n\u001b[0;32m-> 2417\u001b[0;31m     \u001b[0marrays\u001b[0m \u001b[0;34m=\u001b[0m \u001b[0mindexable\u001b[0m\u001b[0;34m(\u001b[0m\u001b[0;34m*\u001b[0m\u001b[0marrays\u001b[0m\u001b[0;34m)\u001b[0m\u001b[0;34m\u001b[0m\u001b[0;34m\u001b[0m\u001b[0m\n\u001b[0m\u001b[1;32m   2418\u001b[0m \u001b[0;34m\u001b[0m\u001b[0m\n\u001b[1;32m   2419\u001b[0m     \u001b[0mn_samples\u001b[0m \u001b[0;34m=\u001b[0m \u001b[0m_num_samples\u001b[0m\u001b[0;34m(\u001b[0m\u001b[0marrays\u001b[0m\u001b[0;34m[\u001b[0m\u001b[0;36m0\u001b[0m\u001b[0;34m]\u001b[0m\u001b[0;34m)\u001b[0m\u001b[0;34m\u001b[0m\u001b[0;34m\u001b[0m\u001b[0m\n",
            "\u001b[0;32m/usr/local/lib/python3.7/dist-packages/sklearn/utils/validation.py\u001b[0m in \u001b[0;36mindexable\u001b[0;34m(*iterables)\u001b[0m\n\u001b[1;32m    376\u001b[0m \u001b[0;34m\u001b[0m\u001b[0m\n\u001b[1;32m    377\u001b[0m     \u001b[0mresult\u001b[0m \u001b[0;34m=\u001b[0m \u001b[0;34m[\u001b[0m\u001b[0m_make_indexable\u001b[0m\u001b[0;34m(\u001b[0m\u001b[0mX\u001b[0m\u001b[0;34m)\u001b[0m \u001b[0;32mfor\u001b[0m \u001b[0mX\u001b[0m \u001b[0;32min\u001b[0m \u001b[0miterables\u001b[0m\u001b[0;34m]\u001b[0m\u001b[0;34m\u001b[0m\u001b[0;34m\u001b[0m\u001b[0m\n\u001b[0;32m--> 378\u001b[0;31m     \u001b[0mcheck_consistent_length\u001b[0m\u001b[0;34m(\u001b[0m\u001b[0;34m*\u001b[0m\u001b[0mresult\u001b[0m\u001b[0;34m)\u001b[0m\u001b[0;34m\u001b[0m\u001b[0;34m\u001b[0m\u001b[0m\n\u001b[0m\u001b[1;32m    379\u001b[0m     \u001b[0;32mreturn\u001b[0m \u001b[0mresult\u001b[0m\u001b[0;34m\u001b[0m\u001b[0;34m\u001b[0m\u001b[0m\n\u001b[1;32m    380\u001b[0m \u001b[0;34m\u001b[0m\u001b[0m\n",
            "\u001b[0;32m/usr/local/lib/python3.7/dist-packages/sklearn/utils/validation.py\u001b[0m in \u001b[0;36mcheck_consistent_length\u001b[0;34m(*arrays)\u001b[0m\n\u001b[1;32m    332\u001b[0m         raise ValueError(\n\u001b[1;32m    333\u001b[0m             \u001b[0;34m\"Found input variables with inconsistent numbers of samples: %r\"\u001b[0m\u001b[0;34m\u001b[0m\u001b[0;34m\u001b[0m\u001b[0m\n\u001b[0;32m--> 334\u001b[0;31m             \u001b[0;34m%\u001b[0m \u001b[0;34m[\u001b[0m\u001b[0mint\u001b[0m\u001b[0;34m(\u001b[0m\u001b[0ml\u001b[0m\u001b[0;34m)\u001b[0m \u001b[0;32mfor\u001b[0m \u001b[0ml\u001b[0m \u001b[0;32min\u001b[0m \u001b[0mlengths\u001b[0m\u001b[0;34m]\u001b[0m\u001b[0;34m\u001b[0m\u001b[0;34m\u001b[0m\u001b[0m\n\u001b[0m\u001b[1;32m    335\u001b[0m         )\n\u001b[1;32m    336\u001b[0m \u001b[0;34m\u001b[0m\u001b[0m\n",
            "\u001b[0;31mValueError\u001b[0m: Found input variables with inconsistent numbers of samples: [3181, 41380]"
          ]
        }
      ]
    },
    {
      "cell_type": "code",
      "source": [
        "X_train.shape"
      ],
      "metadata": {
        "colab": {
          "base_uri": "https://localhost:8080/"
        },
        "id": "-VXaShlzAz97",
        "outputId": "b0fc3654-2f5c-4326-aa45-f87450a3fda8"
      },
      "execution_count": 35,
      "outputs": [
        {
          "output_type": "execute_result",
          "data": {
            "text/plain": [
              "(2544, 47)"
            ]
          },
          "metadata": {},
          "execution_count": 35
        }
      ]
    },
    {
      "cell_type": "code",
      "source": [
        "X_train = sm.add_constant(X_train)\n",
        "\n",
        "model = sm.MNLogit(y_train, X_train, check_rank=True)\n",
        "\n",
        "result=model.fit()"
      ],
      "metadata": {
        "colab": {
          "base_uri": "https://localhost:8080/"
        },
        "id": "MCkirZlo_OVd",
        "outputId": "c011ff74-051f-411f-e335-70ebb22fb7bf"
      },
      "execution_count": 36,
      "outputs": [
        {
          "output_type": "stream",
          "name": "stderr",
          "text": [
            "/usr/local/lib/python3.7/dist-packages/statsmodels/discrete/discrete_model.py:4195: SpecificationWarning: endog contains values are that not int-like. Uses string representation of value. Use integer-valued endog to suppress this warning.\n",
            "  warnings.warn(msg, SpecificationWarning)\n"
          ]
        },
        {
          "output_type": "stream",
          "name": "stdout",
          "text": [
            "Optimization terminated successfully.\n",
            "         Current function value: nan\n",
            "         Iterations 14\n"
          ]
        },
        {
          "output_type": "stream",
          "name": "stderr",
          "text": [
            "/usr/local/lib/python3.7/dist-packages/statsmodels/discrete/discrete_model.py:2290: RuntimeWarning: overflow encountered in exp\n",
            "  eXB = np.column_stack((np.ones(len(X)), np.exp(X)))\n",
            "/usr/local/lib/python3.7/dist-packages/statsmodels/discrete/discrete_model.py:2291: RuntimeWarning: invalid value encountered in true_divide\n",
            "  return eXB/eXB.sum(1)[:,None]\n"
          ]
        }
      ]
    },
    {
      "cell_type": "code",
      "source": [
        "stats1=result.summary()"
      ],
      "metadata": {
        "id": "V8ZCpPESGc3k"
      },
      "execution_count": 37,
      "outputs": []
    },
    {
      "cell_type": "code",
      "source": [
        "print(stats1)"
      ],
      "metadata": {
        "id": "fWgNg7qcGkCE"
      },
      "execution_count": null,
      "outputs": []
    }
  ]
}