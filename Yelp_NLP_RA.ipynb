{
  "cells": [
    {
      "cell_type": "markdown",
      "metadata": {
        "id": "view-in-github",
        "colab_type": "text"
      },
      "source": [
        "<a href=\"https://colab.research.google.com/github/EAName/yelp-reviews/blob/main/Yelp_NLP_RA.ipynb\" target=\"_parent\"><img src=\"https://colab.research.google.com/assets/colab-badge.svg\" alt=\"Open In Colab\"/></a>"
      ]
    },
    {
      "cell_type": "markdown",
      "metadata": {
        "id": "WsePP5VZuxQq"
      },
      "source": [
        "## Imports "
      ]
    },
    {
      "cell_type": "code",
      "execution_count": 43,
      "metadata": {
        "id": "92Dg33FmuxQs"
      },
      "outputs": [],
      "source": [
        "import pandas as pd\n",
        "import numpy as np\n",
        "import os\n",
        "import random\n",
        "import numpy as np\n",
        "import pickle \n",
        "import re,string\n",
        "\n",
        "import nltk\n",
        "from nltk.corpus import stopwords\n",
        "from nltk.stem import PorterStemmer\n",
        "from nltk.stem import WordNetLemmatizer\n",
        "from nltk.tokenize import word_tokenize \n",
        "\n",
        "from sklearn.feature_extraction.text import TfidfVectorizer\n",
        "from sklearn.feature_extraction.text import CountVectorizer\n",
        "from sklearn.cluster import KMeans, AgglomerativeClustering\n",
        "from sklearn.metrics.pairwise import cosine_similarity\n",
        "from sklearn.decomposition import TruncatedSVD, LatentDirichletAllocation\n",
        "from sklearn.svm import SVC\n",
        "from sklearn.preprocessing import LabelEncoder, OneHotEncoder\n",
        "from sklearn.ensemble import RandomForestClassifier\n",
        "from sklearn.metrics import roc_auc_score, accuracy_score, confusion_matrix, silhouette_score\n",
        "from sklearn.metrics import precision_score, recall_score, f1_score, classification_report\n",
        "from sklearn.metrics import mean_squared_error as MSE\n",
        "from sklearn.metrics import mean_absolute_error\n",
        "from sklearn.model_selection import cross_val_score, StratifiedKFold\n",
        "from sklearn.tree import DecisionTreeClassifier\n",
        "from sklearn.naive_bayes import MultinomialNB\n",
        "from sklearn.linear_model import LogisticRegression\n",
        "from sklearn.linear_model import LinearRegression\n",
        "from sklearn.ensemble import RandomForestRegressor\n",
        "from sklearn.metrics import accuracy_score\n",
        "from sklearn.model_selection import train_test_split, KFold\n",
        "from sklearn.manifold import MDS\n",
        "from sklearn.metrics.pairwise import cosine_similarity\n",
        "from sklearn.ensemble import GradientBoostingClassifier\n",
        "from sklearn.svm import LinearSVC\n",
        "\n",
        "\n",
        "\n",
        "from sklearn.model_selection import train_test_split \n",
        "from sklearn.model_selection import GridSearchCV \n",
        "from sklearn.model_selection import cross_val_score \n",
        "from sklearn.model_selection import StratifiedKFold\n",
        "from sklearn.model_selection import KFold \n",
        "from sklearn.model_selection import cross_val_predict\n",
        "\n",
        "\n",
        "import seaborn as sns\n",
        "import matplotlib.pyplot as plt\n",
        "\n",
        "from gensim.models import Word2Vec,LdaMulticore, TfidfModel, CoherenceModel\n",
        "from gensim import corpora\n",
        "from gensim import similarities\n",
        "from gensim.models.doc2vec import Doc2Vec, TaggedDocument\n",
        "from gensim.models import LsiModel,LdaModel\n",
        "\n",
        "from keras.preprocessing.text import Tokenizer\n",
        "#from keras.preprocessing.sequence import pad_sequences\n",
        "from tqdm import tqdm\n",
        "from keras.models import Sequential\n",
        "from keras.layers import Embedding, LSTM, Dense, SpatialDropout1D, GRU\n",
        "from keras.callbacks import EarlyStopping\n",
        "from keras.initializers import Constant\n",
        "from sklearn.model_selection import train_test_split\n",
        "from tensorflow.keras.optimizers import Adam, Nadam, RMSprop\n",
        "from keras import Input\n",
        "\n",
        "from IPython.display import display"
      ]
    },
    {
      "cell_type": "code",
      "source": [
        "nltk.download('stopwords')\n",
        "nltk.download('wordnet')\n",
        "nltk.download('omw-1.4')"
      ],
      "metadata": {
        "colab": {
          "base_uri": "https://localhost:8080/"
        },
        "id": "VGHly-zIpris",
        "outputId": "91d60b9a-4bf1-40c3-a651-060c7dfcedf8"
      },
      "execution_count": 2,
      "outputs": [
        {
          "output_type": "stream",
          "name": "stderr",
          "text": [
            "[nltk_data] Downloading package stopwords to /root/nltk_data...\n",
            "[nltk_data]   Unzipping corpora/stopwords.zip.\n",
            "[nltk_data] Downloading package wordnet to /root/nltk_data...\n",
            "[nltk_data] Downloading package omw-1.4 to /root/nltk_data...\n"
          ]
        },
        {
          "output_type": "execute_result",
          "data": {
            "text/plain": [
              "True"
            ]
          },
          "metadata": {},
          "execution_count": 2
        }
      ]
    },
    {
      "cell_type": "code",
      "source": [
        "import warnings\n",
        "warnings.filterwarnings('ignore')"
      ],
      "metadata": {
        "id": "ovbC3RlUpxKS"
      },
      "execution_count": 3,
      "outputs": []
    },
    {
      "cell_type": "code",
      "source": [
        "from google.colab import drive\n",
        "drive.mount('/content/gdrive')"
      ],
      "metadata": {
        "colab": {
          "base_uri": "https://localhost:8080/"
        },
        "id": "xqTk3PNGvHH2",
        "outputId": "553cafa6-6561-4251-b643-72c0e43ac35d"
      },
      "execution_count": 4,
      "outputs": [
        {
          "output_type": "stream",
          "name": "stdout",
          "text": [
            "Mounted at /content/gdrive\n"
          ]
        }
      ]
    },
    {
      "cell_type": "code",
      "source": [
        "df = pd.read_csv('/content/gdrive/MyDrive/yelp_dataset/yelp_reviews_clean_version4_st_louis.csv')"
      ],
      "metadata": {
        "id": "ofrho4sfu5nc"
      },
      "execution_count": 5,
      "outputs": []
    },
    {
      "cell_type": "code",
      "source": [
        "df.shape"
      ],
      "metadata": {
        "colab": {
          "base_uri": "https://localhost:8080/"
        },
        "id": "MfQeqg9yvQnR",
        "outputId": "7befb5ce-b77b-4af6-dea0-9c8532d0de54"
      },
      "execution_count": 6,
      "outputs": [
        {
          "output_type": "execute_result",
          "data": {
            "text/plain": [
              "(292376, 5)"
            ]
          },
          "metadata": {},
          "execution_count": 6
        }
      ]
    },
    {
      "cell_type": "markdown",
      "metadata": {
        "id": "Ede7p75luxQy"
      },
      "source": [
        "**Extract year**"
      ]
    },
    {
      "cell_type": "code",
      "execution_count": 7,
      "metadata": {
        "id": "SggCnX1zuxQy"
      },
      "outputs": [],
      "source": [
        "df['review_year'] = df['date'].apply(lambda x:int(x[:4]))"
      ]
    },
    {
      "cell_type": "markdown",
      "metadata": {
        "id": "-_4Eohp3uxQy"
      },
      "source": [
        "**Look at distribution of reviews by year**"
      ]
    },
    {
      "cell_type": "code",
      "source": [
        "df.review_year.value_counts(ascending= True)"
      ],
      "metadata": {
        "colab": {
          "base_uri": "https://localhost:8080/"
        },
        "id": "8BiT5Omkvh9q",
        "outputId": "b363edb5-5ff3-4a50-c723-d79bdf94857a"
      },
      "execution_count": 8,
      "outputs": [
        {
          "output_type": "execute_result",
          "data": {
            "text/plain": [
              "2005       70\n",
              "2006      314\n",
              "2007      669\n",
              "2022     1016\n",
              "2008     2867\n",
              "2009     3261\n",
              "2010     9617\n",
              "2011    12709\n",
              "2012    14949\n",
              "2013    18420\n",
              "2020    18472\n",
              "2021    21413\n",
              "2014    23235\n",
              "2015    30111\n",
              "2016    31640\n",
              "2017    33296\n",
              "2018    34368\n",
              "2019    35949\n",
              "Name: review_year, dtype: int64"
            ]
          },
          "metadata": {},
          "execution_count": 8
        }
      ]
    },
    {
      "cell_type": "markdown",
      "metadata": {
        "id": "Du6o1gITuxQy"
      },
      "source": [
        "**Create 1-0 sentiment flag**"
      ]
    },
    {
      "cell_type": "code",
      "execution_count": 9,
      "metadata": {
        "id": "zH9VbEWHuxQy"
      },
      "outputs": [],
      "source": [
        "df['sentiment'] = df['stars'].apply(lambda x: 1 if x >= 4 else 0)"
      ]
    },
    {
      "cell_type": "markdown",
      "metadata": {
        "id": "T7yBmnQguxQz"
      },
      "source": [
        "**Drop reviews older than 2011**"
      ]
    },
    {
      "cell_type": "code",
      "execution_count": 10,
      "metadata": {
        "id": "v3QeIOP6uxQz"
      },
      "outputs": [],
      "source": [
        "#df = df[(df['review_year'] > 2011)]"
      ]
    },
    {
      "cell_type": "code",
      "source": [
        "#df.shape"
      ],
      "metadata": {
        "id": "z9TQ9u8L4QfF"
      },
      "execution_count": 11,
      "outputs": []
    },
    {
      "cell_type": "markdown",
      "metadata": {
        "id": "f2OVxMlpuxQz"
      },
      "source": [
        "## Text Preprocessing "
      ]
    },
    {
      "cell_type": "code",
      "source": [
        "def clean_doc(doc): \n",
        "    #split review into individual words\n",
        "    tokens=doc.split()\n",
        "    re_punc = re.compile('[%s]' % re.escape(string.punctuation))\n",
        "    # remove punctuation from each word\n",
        "    tokens = [re_punc.sub('', w) for w in tokens]\n",
        "\n",
        "    #word lemmzatization    \n",
        "    lemm = WordNetLemmatizer()\n",
        "    tokens=[lemm.lemmatize(word) for word in tokens]\n",
        "\n",
        "    # remove remaining tokens that are not alphabetic\n",
        "    tokens = [word for word in tokens if word.isalpha()]\n",
        "    # filter out short tokens\n",
        "    tokens = [word for word in tokens if len(word) > 3]\n",
        "    #lowercase all words\n",
        "    tokens = [word.lower() for word in tokens]\n",
        "    # filter out stop words\n",
        "    stop_words = set(stopwords.words('english'))\n",
        "    tokens = [w for w in tokens if not w in stop_words]     \n",
        "\n",
        "    # filter out common words\n",
        "    #tokens = [w for w in tokens if not w in ['movie', 'movies', 'films']]      \n",
        "    # # word stemming    \n",
        "    # ps=PorterStemmer()\n",
        "    # tokens=[ps.stem(word) for word in tokens]\n",
        "\n",
        "    return tokens\n",
        "\n",
        "def final_processed_text(doc):\n",
        "    #this is a function to join the processed text back\n",
        "    ' '.join(doc)\n",
        "    return doc"
      ],
      "metadata": {
        "id": "9aA2s_9J1hao"
      },
      "execution_count": 12,
      "outputs": []
    },
    {
      "cell_type": "code",
      "source": [
        "df['cleaned_text'] = df['text'].apply(lambda x: clean_doc(x))\n",
        "\n",
        "final_processed_text = [' '.join(x) for x in df['cleaned_text'].tolist()]\n",
        "df['final_processed_text'] = final_processed_text     #add to dataframe"
      ],
      "metadata": {
        "id": "cFEYh7_b1hc0"
      },
      "execution_count": 13,
      "outputs": []
    },
    {
      "cell_type": "code",
      "source": [
        "df['text length'] = df['text'].apply(len)"
      ],
      "metadata": {
        "id": "3jczJFSds5vH"
      },
      "execution_count": 14,
      "outputs": []
    },
    {
      "cell_type": "code",
      "source": [
        "final_processed_text[0]"
      ],
      "metadata": {
        "colab": {
          "base_uri": "https://localhost:8080/",
          "height": 35
        },
        "id": "KOC1OSzkbri6",
        "outputId": "8efaf63b-b46d-45cc-8dc1-9431e39862de"
      },
      "execution_count": 15,
      "outputs": [
        {
          "output_type": "execute_result",
          "data": {
            "text/plain": [
              "'love going happy hour dinner great patio beat heat alsovery accomodating location like veal milanese mixed green instead pasta theyll modify menu suit taste'"
            ],
            "application/vnd.google.colaboratory.intrinsic+json": {
              "type": "string"
            }
          },
          "metadata": {},
          "execution_count": 15
        }
      ]
    },
    {
      "cell_type": "code",
      "source": [
        "#df.to_csv('/content/gdrive/MyDrive/data/yelp_reviews_pre_processed_v2.csv', index = False)"
      ],
      "metadata": {
        "id": "m2gkVi83txjl"
      },
      "execution_count": 16,
      "outputs": []
    },
    {
      "cell_type": "code",
      "source": [
        "#df = pd.read_csv('/content/gdrive/MyDrive/data/yelp_reviews_pre_processed_v2.csv')"
      ],
      "metadata": {
        "id": "UdiIQGmkamjR"
      },
      "execution_count": 17,
      "outputs": []
    },
    {
      "cell_type": "code",
      "source": [
        "df.head()"
      ],
      "metadata": {
        "colab": {
          "base_uri": "https://localhost:8080/",
          "height": 406
        },
        "id": "OmWMPf4vt4M9",
        "outputId": "6471e205-071c-4bdd-8f80-192561db7f7b"
      },
      "execution_count": 18,
      "outputs": [
        {
          "output_type": "execute_result",
          "data": {
            "text/plain": [
              "                  user_id             business_id                 date  stars  \\\n",
              "0  9OAtfnWag-ajVxRbUTGIyg  lj-E32x9_FA7GmUrBGBEWg  2014-06-27 22:44:01    4.0   \n",
              "1  5h9JA231vPilNAIjHxwGng  lj-E32x9_FA7GmUrBGBEWg  2014-08-24 19:24:26    5.0   \n",
              "2  c1fSI6Dv5lybr0AJh67e7w  lj-E32x9_FA7GmUrBGBEWg  2015-09-24 15:01:11    4.0   \n",
              "3  st-q1iyW3sJm-v0OCrheoQ  lj-E32x9_FA7GmUrBGBEWg  2015-10-17 04:56:25    5.0   \n",
              "4  9qBdzBzoDxLFSMhhGrTWJg  lj-E32x9_FA7GmUrBGBEWg  2016-01-04 16:56:32    4.0   \n",
              "\n",
              "                                                text  review_year  sentiment  \\\n",
              "0  Love going here for happy hour or dinner!  Gre...         2014          1   \n",
              "1  My friends at work (connoisseurs of good food ...         2014          1   \n",
              "2  Great service, relaxing atmosphere and the foo...         2015          1   \n",
              "3  I went to Brio for the first time on Wednesday...         2015          1   \n",
              "4  I usually steer clear of the chain restaurants...         2016          1   \n",
              "\n",
              "                                        cleaned_text  \\\n",
              "0  [love, going, happy, hour, dinner, great, pati...   \n",
              "1  [friend, work, connoisseur, good, food, louis,...   \n",
              "2  [great, service, relaxing, atmosphere, food, e...   \n",
              "3  [went, brio, first, time, wednesday, dinner, f...   \n",
              "4  [usually, steer, clear, chain, restaurant, sin...   \n",
              "\n",
              "                                final_processed_text  text length  \n",
              "0  love going happy hour dinner great patio beat ...          242  \n",
              "1  friend work connoisseur good food louis area i...          305  \n",
              "2  great service relaxing atmosphere food excepti...          130  \n",
              "3  went brio first time wednesday dinner friend s...          898  \n",
              "4  usually steer clear chain restaurant since man...          336  "
            ],
            "text/html": [
              "\n",
              "  <div id=\"df-f966dab6-e9a1-4ed1-b55e-f44f3fdc4af2\">\n",
              "    <div class=\"colab-df-container\">\n",
              "      <div>\n",
              "<style scoped>\n",
              "    .dataframe tbody tr th:only-of-type {\n",
              "        vertical-align: middle;\n",
              "    }\n",
              "\n",
              "    .dataframe tbody tr th {\n",
              "        vertical-align: top;\n",
              "    }\n",
              "\n",
              "    .dataframe thead th {\n",
              "        text-align: right;\n",
              "    }\n",
              "</style>\n",
              "<table border=\"1\" class=\"dataframe\">\n",
              "  <thead>\n",
              "    <tr style=\"text-align: right;\">\n",
              "      <th></th>\n",
              "      <th>user_id</th>\n",
              "      <th>business_id</th>\n",
              "      <th>date</th>\n",
              "      <th>stars</th>\n",
              "      <th>text</th>\n",
              "      <th>review_year</th>\n",
              "      <th>sentiment</th>\n",
              "      <th>cleaned_text</th>\n",
              "      <th>final_processed_text</th>\n",
              "      <th>text length</th>\n",
              "    </tr>\n",
              "  </thead>\n",
              "  <tbody>\n",
              "    <tr>\n",
              "      <th>0</th>\n",
              "      <td>9OAtfnWag-ajVxRbUTGIyg</td>\n",
              "      <td>lj-E32x9_FA7GmUrBGBEWg</td>\n",
              "      <td>2014-06-27 22:44:01</td>\n",
              "      <td>4.0</td>\n",
              "      <td>Love going here for happy hour or dinner!  Gre...</td>\n",
              "      <td>2014</td>\n",
              "      <td>1</td>\n",
              "      <td>[love, going, happy, hour, dinner, great, pati...</td>\n",
              "      <td>love going happy hour dinner great patio beat ...</td>\n",
              "      <td>242</td>\n",
              "    </tr>\n",
              "    <tr>\n",
              "      <th>1</th>\n",
              "      <td>5h9JA231vPilNAIjHxwGng</td>\n",
              "      <td>lj-E32x9_FA7GmUrBGBEWg</td>\n",
              "      <td>2014-08-24 19:24:26</td>\n",
              "      <td>5.0</td>\n",
              "      <td>My friends at work (connoisseurs of good food ...</td>\n",
              "      <td>2014</td>\n",
              "      <td>1</td>\n",
              "      <td>[friend, work, connoisseur, good, food, louis,...</td>\n",
              "      <td>friend work connoisseur good food louis area i...</td>\n",
              "      <td>305</td>\n",
              "    </tr>\n",
              "    <tr>\n",
              "      <th>2</th>\n",
              "      <td>c1fSI6Dv5lybr0AJh67e7w</td>\n",
              "      <td>lj-E32x9_FA7GmUrBGBEWg</td>\n",
              "      <td>2015-09-24 15:01:11</td>\n",
              "      <td>4.0</td>\n",
              "      <td>Great service, relaxing atmosphere and the foo...</td>\n",
              "      <td>2015</td>\n",
              "      <td>1</td>\n",
              "      <td>[great, service, relaxing, atmosphere, food, e...</td>\n",
              "      <td>great service relaxing atmosphere food excepti...</td>\n",
              "      <td>130</td>\n",
              "    </tr>\n",
              "    <tr>\n",
              "      <th>3</th>\n",
              "      <td>st-q1iyW3sJm-v0OCrheoQ</td>\n",
              "      <td>lj-E32x9_FA7GmUrBGBEWg</td>\n",
              "      <td>2015-10-17 04:56:25</td>\n",
              "      <td>5.0</td>\n",
              "      <td>I went to Brio for the first time on Wednesday...</td>\n",
              "      <td>2015</td>\n",
              "      <td>1</td>\n",
              "      <td>[went, brio, first, time, wednesday, dinner, f...</td>\n",
              "      <td>went brio first time wednesday dinner friend s...</td>\n",
              "      <td>898</td>\n",
              "    </tr>\n",
              "    <tr>\n",
              "      <th>4</th>\n",
              "      <td>9qBdzBzoDxLFSMhhGrTWJg</td>\n",
              "      <td>lj-E32x9_FA7GmUrBGBEWg</td>\n",
              "      <td>2016-01-04 16:56:32</td>\n",
              "      <td>4.0</td>\n",
              "      <td>I usually steer clear of the chain restaurants...</td>\n",
              "      <td>2016</td>\n",
              "      <td>1</td>\n",
              "      <td>[usually, steer, clear, chain, restaurant, sin...</td>\n",
              "      <td>usually steer clear chain restaurant since man...</td>\n",
              "      <td>336</td>\n",
              "    </tr>\n",
              "  </tbody>\n",
              "</table>\n",
              "</div>\n",
              "      <button class=\"colab-df-convert\" onclick=\"convertToInteractive('df-f966dab6-e9a1-4ed1-b55e-f44f3fdc4af2')\"\n",
              "              title=\"Convert this dataframe to an interactive table.\"\n",
              "              style=\"display:none;\">\n",
              "        \n",
              "  <svg xmlns=\"http://www.w3.org/2000/svg\" height=\"24px\"viewBox=\"0 0 24 24\"\n",
              "       width=\"24px\">\n",
              "    <path d=\"M0 0h24v24H0V0z\" fill=\"none\"/>\n",
              "    <path d=\"M18.56 5.44l.94 2.06.94-2.06 2.06-.94-2.06-.94-.94-2.06-.94 2.06-2.06.94zm-11 1L8.5 8.5l.94-2.06 2.06-.94-2.06-.94L8.5 2.5l-.94 2.06-2.06.94zm10 10l.94 2.06.94-2.06 2.06-.94-2.06-.94-.94-2.06-.94 2.06-2.06.94z\"/><path d=\"M17.41 7.96l-1.37-1.37c-.4-.4-.92-.59-1.43-.59-.52 0-1.04.2-1.43.59L10.3 9.45l-7.72 7.72c-.78.78-.78 2.05 0 2.83L4 21.41c.39.39.9.59 1.41.59.51 0 1.02-.2 1.41-.59l7.78-7.78 2.81-2.81c.8-.78.8-2.07 0-2.86zM5.41 20L4 18.59l7.72-7.72 1.47 1.35L5.41 20z\"/>\n",
              "  </svg>\n",
              "      </button>\n",
              "      \n",
              "  <style>\n",
              "    .colab-df-container {\n",
              "      display:flex;\n",
              "      flex-wrap:wrap;\n",
              "      gap: 12px;\n",
              "    }\n",
              "\n",
              "    .colab-df-convert {\n",
              "      background-color: #E8F0FE;\n",
              "      border: none;\n",
              "      border-radius: 50%;\n",
              "      cursor: pointer;\n",
              "      display: none;\n",
              "      fill: #1967D2;\n",
              "      height: 32px;\n",
              "      padding: 0 0 0 0;\n",
              "      width: 32px;\n",
              "    }\n",
              "\n",
              "    .colab-df-convert:hover {\n",
              "      background-color: #E2EBFA;\n",
              "      box-shadow: 0px 1px 2px rgba(60, 64, 67, 0.3), 0px 1px 3px 1px rgba(60, 64, 67, 0.15);\n",
              "      fill: #174EA6;\n",
              "    }\n",
              "\n",
              "    [theme=dark] .colab-df-convert {\n",
              "      background-color: #3B4455;\n",
              "      fill: #D2E3FC;\n",
              "    }\n",
              "\n",
              "    [theme=dark] .colab-df-convert:hover {\n",
              "      background-color: #434B5C;\n",
              "      box-shadow: 0px 1px 3px 1px rgba(0, 0, 0, 0.15);\n",
              "      filter: drop-shadow(0px 1px 2px rgba(0, 0, 0, 0.3));\n",
              "      fill: #FFFFFF;\n",
              "    }\n",
              "  </style>\n",
              "\n",
              "      <script>\n",
              "        const buttonEl =\n",
              "          document.querySelector('#df-f966dab6-e9a1-4ed1-b55e-f44f3fdc4af2 button.colab-df-convert');\n",
              "        buttonEl.style.display =\n",
              "          google.colab.kernel.accessAllowed ? 'block' : 'none';\n",
              "\n",
              "        async function convertToInteractive(key) {\n",
              "          const element = document.querySelector('#df-f966dab6-e9a1-4ed1-b55e-f44f3fdc4af2');\n",
              "          const dataTable =\n",
              "            await google.colab.kernel.invokeFunction('convertToInteractive',\n",
              "                                                     [key], {});\n",
              "          if (!dataTable) return;\n",
              "\n",
              "          const docLinkHtml = 'Like what you see? Visit the ' +\n",
              "            '<a target=\"_blank\" href=https://colab.research.google.com/notebooks/data_table.ipynb>data table notebook</a>'\n",
              "            + ' to learn more about interactive tables.';\n",
              "          element.innerHTML = '';\n",
              "          dataTable['output_type'] = 'display_data';\n",
              "          await google.colab.output.renderOutput(dataTable, element);\n",
              "          const docLink = document.createElement('div');\n",
              "          docLink.innerHTML = docLinkHtml;\n",
              "          element.appendChild(docLink);\n",
              "        }\n",
              "      </script>\n",
              "    </div>\n",
              "  </div>\n",
              "  "
            ]
          },
          "metadata": {},
          "execution_count": 18
        }
      ]
    },
    {
      "cell_type": "code",
      "source": [
        "# Lets visualise the review text and stars for a business\n",
        "g = sns.FacetGrid(data=df, col='stars')\n",
        "g.map(plt.hist, 'text length', bins=50)"
      ],
      "metadata": {
        "colab": {
          "base_uri": "https://localhost:8080/",
          "height": 242
        },
        "id": "dRBhqCZ_s9LJ",
        "outputId": "bdb6e01f-e046-4f84-d65f-7774eae9f09c"
      },
      "execution_count": 19,
      "outputs": [
        {
          "output_type": "execute_result",
          "data": {
            "text/plain": [
              "<seaborn.axisgrid.FacetGrid at 0x7f90ac63fd90>"
            ]
          },
          "metadata": {},
          "execution_count": 19
        },
        {
          "output_type": "display_data",
          "data": {
            "text/plain": [
              "<Figure size 1080x216 with 5 Axes>"
            ],
            "image/png": "[encoded data removed]"
          },
          "metadata": {
            "needs_background": "light"
          }
        }
      ]
    },
    {
      "cell_type": "markdown",
      "metadata": {
        "id": "8g_YzUYfuxQ0"
      },
      "source": [
        "## Create Train/Validation/Test Split"
      ]
    },
    {
      "cell_type": "code",
      "execution_count": 50,
      "metadata": {
        "id": "X-9E7x3XuxQ0"
      },
      "outputs": [],
      "source": [
        "X_train_set, X_test_set, y_train, y_test = train_test_split(df['final_processed_text'], \n",
        "                                                    df['stars'], \n",
        "                                                    test_size=0.30, \n",
        "                                                    random_state=42)\n",
        "\n",
        "# X_test_set, X_val_set, y_test, y_val = train_test_split(X_nottrain, \n",
        "#                                                     y_nottrain, \n",
        "#                                                     test_size=0.5, \n",
        "#                                                     random_state=42)"
      ]
    },
    {
      "cell_type": "code",
      "source": [
        "X_train_set.head()"
      ],
      "metadata": {
        "colab": {
          "base_uri": "https://localhost:8080/"
        },
        "id": "0Djzofqy4f6s",
        "outputId": "464e408a-a219-4148-af29-26b1f89d39aa"
      },
      "execution_count": 46,
      "outputs": [
        {
          "output_type": "execute_result",
          "data": {
            "text/plain": [
              "246153    mediocre food nothing cracked recommend lunch ...\n",
              "1749      visited thursday night dinner elsewhere great ...\n",
              "18036     mediterranean american food intimate upscale s...\n",
              "118652    excited pretty busy meat dried like sitting he...\n",
              "147620    told multiple people restaurant great correct ...\n",
              "Name: final_processed_text, dtype: object"
            ]
          },
          "metadata": {},
          "execution_count": 46
        }
      ]
    },
    {
      "cell_type": "code",
      "execution_count": 47,
      "metadata": {
        "colab": {
          "base_uri": "https://localhost:8080/"
        },
        "id": "aH9EZqlQuxQ0",
        "outputId": "e9fa1cb5-4347-494e-e0b2-022e6dccff8b"
      },
      "outputs": [
        {
          "output_type": "execute_result",
          "data": {
            "text/plain": [
              "5.0    86821\n",
              "4.0    51541\n",
              "3.0    24769\n",
              "1.0    23151\n",
              "2.0    18381\n",
              "Name: stars, dtype: int64"
            ]
          },
          "metadata": {},
          "execution_count": 47
        }
      ],
      "source": [
        "y_train.value_counts()"
      ]
    },
    {
      "cell_type": "code",
      "execution_count": 49,
      "metadata": {
        "colab": {
          "base_uri": "https://localhost:8080/"
        },
        "id": "C0OP2sZ2uxQ0",
        "outputId": "d674cec3-b550-4820-d364-ec669ff816ad"
      },
      "outputs": [
        {
          "output_type": "execute_result",
          "data": {
            "text/plain": [
              "5.0    37426\n",
              "4.0    22107\n",
              "3.0    10576\n",
              "1.0     9722\n",
              "2.0     7882\n",
              "Name: stars, dtype: int64"
            ]
          },
          "metadata": {},
          "execution_count": 49
        }
      ],
      "source": [
        "y_test.value_counts()"
      ]
    },
    {
      "cell_type": "markdown",
      "metadata": {
        "id": "Tc74TbMwuxQ0"
      },
      "source": [
        "## Feature Engineering"
      ]
    },
    {
      "cell_type": "markdown",
      "metadata": {
        "id": "FqdIAVzzuxQ1"
      },
      "source": [
        "**1-gram Count**"
      ]
    },
    {
      "cell_type": "code",
      "execution_count": 74,
      "metadata": {
        "id": "H2e29xc0uxQ1"
      },
      "outputs": [],
      "source": [
        "cv = CountVectorizer(binary=False)\n",
        "cv.fit(X_train_set)\n",
        "X_train_1gram_count = cv.transform(X_train_set)\n",
        "X_test_1gram_count = cv.transform(X_test_set)"
      ]
    },
    {
      "cell_type": "code",
      "source": [
        "X_train_1gram_count.shape"
      ],
      "metadata": {
        "colab": {
          "base_uri": "https://localhost:8080/"
        },
        "id": "qpAGbL9Ee0gZ",
        "outputId": "6d0e58de-eab4-4944-9bf5-3865d51007a9"
      },
      "execution_count": 75,
      "outputs": [
        {
          "output_type": "execute_result",
          "data": {
            "text/plain": [
              "(204663, 123689)"
            ]
          },
          "metadata": {},
          "execution_count": 75
        }
      ]
    },
    {
      "cell_type": "markdown",
      "source": [
        "**1-gram Count, max 10,000 words**"
      ],
      "metadata": {
        "id": "sLUMeNKhfICY"
      }
    },
    {
      "cell_type": "code",
      "source": [
        "cv = CountVectorizer(binary=False, max_features = 10000)\n",
        "cv.fit(X_train_set)\n",
        "X_train_1gram_count_10000 = cv.transform(X_train_set)\n",
        "X_test_1gram_count_10000 = cv.transform(X_test_set)"
      ],
      "metadata": {
        "id": "_W7UnveOepqT"
      },
      "execution_count": 76,
      "outputs": []
    },
    {
      "cell_type": "code",
      "source": [
        "X_train_1gram_count_10000.shape"
      ],
      "metadata": {
        "colab": {
          "base_uri": "https://localhost:8080/"
        },
        "id": "uk2fqEUkfW6y",
        "outputId": "57254afe-3508-48cd-cad7-95e3f373728b"
      },
      "execution_count": 77,
      "outputs": [
        {
          "output_type": "execute_result",
          "data": {
            "text/plain": [
              "(204663, 10000)"
            ]
          },
          "metadata": {},
          "execution_count": 77
        }
      ]
    },
    {
      "cell_type": "markdown",
      "metadata": {
        "id": "zgUMPSl0uxQ1"
      },
      "source": [
        "**2-gram Count**"
      ]
    },
    {
      "cell_type": "code",
      "source": [
        "cv = CountVectorizer(binary=False, ngram_range = (1,2))\n",
        "cv.fit(X_train_set)\n",
        "X_train_2gram_count = cv.transform(X_train_set)\n",
        "X_test_2gram_count = cv.transform(X_test_set)"
      ],
      "metadata": {
        "id": "0Jv8etP3feJR"
      },
      "execution_count": 78,
      "outputs": []
    },
    {
      "cell_type": "code",
      "source": [
        "X_train_2gram_count.shape"
      ],
      "metadata": {
        "colab": {
          "base_uri": "https://localhost:8080/"
        },
        "id": "-UlQzrWRfk5v",
        "outputId": "27d41ceb-6ca9-41d6-9517-0481655ec698"
      },
      "execution_count": 79,
      "outputs": [
        {
          "output_type": "execute_result",
          "data": {
            "text/plain": [
              "(204663, 2884128)"
            ]
          },
          "metadata": {},
          "execution_count": 79
        }
      ]
    },
    {
      "cell_type": "markdown",
      "source": [
        "**2-gram Count, max 10,000 words**"
      ],
      "metadata": {
        "id": "8jFWAY6WfmMM"
      }
    },
    {
      "cell_type": "code",
      "source": [
        "cv = CountVectorizer(binary=False, ngram_range = (1,2), max_features = 10000)\n",
        "cv.fit(X_train_set)\n",
        "X_train_2gram_count_10000 = cv.transform(X_train_set)\n",
        "X_test_2gram_count_10000 = cv.transform(X_test_set)"
      ],
      "metadata": {
        "id": "yqlW7m-_fmXH"
      },
      "execution_count": 80,
      "outputs": []
    },
    {
      "cell_type": "code",
      "source": [
        "X_train_2gram_count_10000.shape"
      ],
      "metadata": {
        "colab": {
          "base_uri": "https://localhost:8080/"
        },
        "id": "_ogwK4udfuHq",
        "outputId": "1857736e-95e9-4a39-9e84-621bb0da3516"
      },
      "execution_count": 81,
      "outputs": [
        {
          "output_type": "execute_result",
          "data": {
            "text/plain": [
              "(204663, 10000)"
            ]
          },
          "metadata": {},
          "execution_count": 81
        }
      ]
    },
    {
      "cell_type": "markdown",
      "metadata": {
        "id": "EE1VHvGouxQ1"
      },
      "source": [
        "**1-gram Tf-Idf**"
      ]
    },
    {
      "cell_type": "code",
      "execution_count": 82,
      "metadata": {
        "id": "7pKG6CERuxQ1"
      },
      "outputs": [],
      "source": [
        "cv = TfidfVectorizer()\n",
        "cv.fit(X_train_set)\n",
        "X_train_1tfidf = cv.transform(X_train_set)\n",
        "X_test_1tfidf = cv.transform(X_test_set)"
      ]
    },
    {
      "cell_type": "code",
      "source": [
        "X_train_1tfidf.shape"
      ],
      "metadata": {
        "colab": {
          "base_uri": "https://localhost:8080/"
        },
        "id": "b8XLGxKUf2q1",
        "outputId": "e2a20f5c-7544-49b9-88fd-40ad403808b9"
      },
      "execution_count": 83,
      "outputs": [
        {
          "output_type": "execute_result",
          "data": {
            "text/plain": [
              "(204663, 123689)"
            ]
          },
          "metadata": {},
          "execution_count": 83
        }
      ]
    },
    {
      "cell_type": "markdown",
      "source": [
        "**1-gram Tf-Idf, max 10000 words**"
      ],
      "metadata": {
        "id": "JW4eJ6wBgLjy"
      }
    },
    {
      "cell_type": "code",
      "source": [
        "cv = TfidfVectorizer(max_features = 10000)\n",
        "cv.fit(X_train_set)\n",
        "X_train_1tfidf_10000 = cv.transform(X_train_set)\n",
        "X_test_1tfidf_10000 = cv.transform(X_test_set)"
      ],
      "metadata": {
        "id": "UuDxYqFogLrP"
      },
      "execution_count": 84,
      "outputs": []
    },
    {
      "cell_type": "code",
      "source": [
        "X_train_1tfidf_10000.shape"
      ],
      "metadata": {
        "colab": {
          "base_uri": "https://localhost:8080/"
        },
        "id": "v0YO6d44gLtQ",
        "outputId": "380a8d60-111e-430e-cc69-40233bc946b7"
      },
      "execution_count": 85,
      "outputs": [
        {
          "output_type": "execute_result",
          "data": {
            "text/plain": [
              "(204663, 10000)"
            ]
          },
          "metadata": {},
          "execution_count": 85
        }
      ]
    },
    {
      "cell_type": "markdown",
      "metadata": {
        "id": "cShwCuSBuxQ2"
      },
      "source": [
        "**2-gram Tf-Idf**"
      ]
    },
    {
      "cell_type": "code",
      "source": [
        "cv = TfidfVectorizer(ngram_range=(1,2))\n",
        "cv.fit(X_train_set)\n",
        "X_train_2tfidf = cv.transform(X_train_set)\n",
        "X_test_2tfidf = cv.transform(X_test_set)"
      ],
      "metadata": {
        "id": "zkVDT_BvgzHi"
      },
      "execution_count": 86,
      "outputs": []
    },
    {
      "cell_type": "code",
      "source": [
        "X_train_2tfidf.shape"
      ],
      "metadata": {
        "colab": {
          "base_uri": "https://localhost:8080/"
        },
        "id": "B2m4v8X9gzJx",
        "outputId": "66beabf3-d1c3-4875-8400-a57744b9f9f6"
      },
      "execution_count": 87,
      "outputs": [
        {
          "output_type": "execute_result",
          "data": {
            "text/plain": [
              "(204663, 2884128)"
            ]
          },
          "metadata": {},
          "execution_count": 87
        }
      ]
    },
    {
      "cell_type": "markdown",
      "source": [
        "**2-gram Tf-Idf, max 10000 words****"
      ],
      "metadata": {
        "id": "bttlULfog5PZ"
      }
    },
    {
      "cell_type": "code",
      "execution_count": 88,
      "metadata": {
        "id": "OdcuPWA8uxQ2"
      },
      "outputs": [],
      "source": [
        "cv = TfidfVectorizer(ngram_range=(1,2), max_features = 10000)\n",
        "cv.fit(X_train_set)\n",
        "X_train_2tfidf_10000 = cv.transform(X_train_set)\n",
        "X_test_2tfidf_10000 = cv.transform(X_test_set)"
      ]
    },
    {
      "cell_type": "code",
      "execution_count": 89,
      "metadata": {
        "colab": {
          "base_uri": "https://localhost:8080/"
        },
        "id": "AyYwc1LkuxQ2",
        "outputId": "93d6847b-1a43-46ca-df9b-60de3d3ce6b6"
      },
      "outputs": [
        {
          "output_type": "execute_result",
          "data": {
            "text/plain": [
              "(204663, 10000)"
            ]
          },
          "metadata": {},
          "execution_count": 89
        }
      ],
      "source": [
        "X_train_2tfidf_10000.shape"
      ]
    },
    {
      "cell_type": "code",
      "source": [
        "def plot_confusion_matrix(y_true, y_pred):\n",
        "    mtx = confusion_matrix(y_true, y_pred)\n",
        "    fig, ax = plt.subplots(figsize=(8,8))\n",
        "    sns.heatmap(mtx, annot=True, fmt='d', linewidths=.75,  cbar=False, ax=ax,cmap='Blues',linecolor='white')\n",
        "    #  square=True,\n",
        "    plt.ylabel('true label')\n",
        "    plt.xlabel('predicted label')\n",
        "    ax.xaxis.set_ticklabels(['1', '2', '3', '4', '5'])\n",
        "    ax.yaxis.set_ticklabels(['1', '2', '3', '4', '5'])"
      ],
      "metadata": {
        "id": "jqDw5SSQzK4H"
      },
      "execution_count": 41,
      "outputs": []
    },
    {
      "cell_type": "code",
      "source": [
        "def print_validation_report(test_labels, predictions):\n",
        "    print(\"Classification Report\")\n",
        "    print(classification_report(test_labels, predictions))\n",
        "    print('Accuracy Score: {:.3f}'.format(accuracy_score(test_labels, predictions)))\n",
        "    print('Mean Absolute Error: {:.3f}'.format(mean_absolute_error(test_labels, predictions)))\n",
        "    print('Root Mean Square Error: {:.3f}'.format(np.sqrt(MSE(test_labels, predictions))))\n",
        "    print('Mean Square Error: {:.3f}'.format(MSE(test_labels, predictions, squared = True)))"
      ],
      "metadata": {
        "id": "kl0iW1lU2Rlo"
      },
      "execution_count": 42,
      "outputs": []
    },
    {
      "cell_type": "markdown",
      "metadata": {
        "id": "C-OPwB5euxQ2"
      },
      "source": [
        "## Modeling"
      ]
    },
    {
      "cell_type": "markdown",
      "source": [
        "###Naive Bayes"
      ],
      "metadata": {
        "id": "udeC9wEYHs_a"
      }
    },
    {
      "cell_type": "code",
      "source": [
        "list1 = [X_train_1gram_count, X_train_1gram_count_10000, X_train_2gram_count, X_train_2gram_count_10000, X_train_1tfidf, X_train_1tfidf_10000, X_train_2tfidf, X_train_2tfidf_10000]\n",
        "list2 = [X_test_1gram_count, X_test_1gram_count_10000, X_test_2gram_count, X_test_2gram_count_10000, X_test_1tfidf, X_test_1tfidf_10000, X_test_2tfidf, X_test_2tfidf_10000]\n",
        "list3 = ['1-gram count', '1-gram count max 10,000 words', '2-gram count', '2-gram count, max 10,000 words', '1-gram tf-idf', '1-gram tf-idf max 10,000 words', '2-gram tf-idf', '2-gram tf-idf, max 10,000 words']\n",
        "for i,j,k in zip(list1, list2, list3):\n",
        "  nb = MultinomialNB()\n",
        "  nb.fit(i, y_train)\n",
        "  preds = nb.predict(j)\n",
        "  print(k)\n",
        "  print(print_validation_report(y_test,preds),'\\n')\n"
      ],
      "metadata": {
        "colab": {
          "base_uri": "https://localhost:8080/"
        },
        "id": "nVELZU8JiJi9",
        "outputId": "d796e111-e7ec-40ee-dce6-8944872d77d6"
      },
      "execution_count": 90,
      "outputs": [
        {
          "output_type": "stream",
          "name": "stdout",
          "text": [
            "1-gram count\n",
            "Classification Report\n",
            "              precision    recall  f1-score   support\n",
            "\n",
            "         1.0       0.62      0.72      0.66      9722\n",
            "         2.0       0.40      0.26      0.31      7882\n",
            "         3.0       0.42      0.30      0.35     10576\n",
            "         4.0       0.50      0.48      0.49     22107\n",
            "         5.0       0.74      0.84      0.78     37426\n",
            "\n",
            "    accuracy                           0.62     87713\n",
            "   macro avg       0.54      0.52      0.52     87713\n",
            "weighted avg       0.60      0.62      0.60     87713\n",
            "\n",
            "Accuracy Score: 0.617\n",
            "Mean Absolute Error: 0.486\n",
            "Root Mean Square Error: 0.878\n",
            "Mean Square Error: 0.772\n",
            "None \n",
            "\n",
            "1-gram count max 10,000 words\n",
            "Classification Report\n",
            "              precision    recall  f1-score   support\n",
            "\n",
            "         1.0       0.61      0.70      0.65      9722\n",
            "         2.0       0.38      0.34      0.36      7882\n",
            "         3.0       0.42      0.37      0.40     10576\n",
            "         4.0       0.52      0.46      0.49     22107\n",
            "         5.0       0.75      0.82      0.78     37426\n",
            "\n",
            "    accuracy                           0.62     87713\n",
            "   macro avg       0.54      0.54      0.54     87713\n",
            "weighted avg       0.60      0.62      0.61     87713\n",
            "\n",
            "Accuracy Score: 0.618\n",
            "Mean Absolute Error: 0.484\n",
            "Root Mean Square Error: 0.877\n",
            "Mean Square Error: 0.769\n",
            "None \n",
            "\n",
            "2-gram count\n",
            "Classification Report\n",
            "              precision    recall  f1-score   support\n",
            "\n",
            "         1.0       0.68      0.72      0.70      9722\n",
            "         2.0       0.47      0.06      0.10      7882\n",
            "         3.0       0.37      0.07      0.12     10576\n",
            "         4.0       0.39      0.42      0.40     22107\n",
            "         5.0       0.68      0.92      0.78     37426\n",
            "\n",
            "    accuracy                           0.59     87713\n",
            "   macro avg       0.52      0.44      0.42     87713\n",
            "weighted avg       0.55      0.59      0.54     87713\n",
            "\n",
            "Accuracy Score: 0.591\n",
            "Mean Absolute Error: 0.569\n",
            "Root Mean Square Error: 1.001\n",
            "Mean Square Error: 1.002\n",
            "None \n",
            "\n",
            "2-gram count, max 10,000 words\n",
            "Classification Report\n",
            "              precision    recall  f1-score   support\n",
            "\n",
            "         1.0       0.64      0.71      0.67      9722\n",
            "         2.0       0.40      0.37      0.39      7882\n",
            "         3.0       0.43      0.41      0.42     10576\n",
            "         4.0       0.52      0.49      0.51     22107\n",
            "         5.0       0.77      0.80      0.78     37426\n",
            "\n",
            "    accuracy                           0.63     87713\n",
            "   macro avg       0.55      0.56      0.55     87713\n",
            "weighted avg       0.62      0.63      0.62     87713\n",
            "\n",
            "Accuracy Score: 0.626\n",
            "Mean Absolute Error: 0.466\n",
            "Root Mean Square Error: 0.849\n",
            "Mean Square Error: 0.721\n",
            "None \n",
            "\n",
            "1-gram tf-idf\n",
            "Classification Report\n",
            "              precision    recall  f1-score   support\n",
            "\n",
            "         1.0       0.75      0.51      0.61      9722\n",
            "         2.0       0.45      0.00      0.00      7882\n",
            "         3.0       0.37      0.00      0.01     10576\n",
            "         4.0       0.23      0.10      0.14     22107\n",
            "         5.0       0.52      0.99      0.68     37426\n",
            "\n",
            "    accuracy                           0.50     87713\n",
            "   macro avg       0.46      0.32      0.29     87713\n",
            "weighted avg       0.45      0.50      0.39     87713\n",
            "\n",
            "Accuracy Score: 0.504\n",
            "Mean Absolute Error: 0.853\n",
            "Root Mean Square Error: 1.391\n",
            "Mean Square Error: 1.934\n",
            "None \n",
            "\n",
            "1-gram tf-idf max 10,000 words\n",
            "Classification Report\n",
            "              precision    recall  f1-score   support\n",
            "\n",
            "         1.0       0.62      0.73      0.67      9722\n",
            "         2.0       0.45      0.14      0.21      7882\n",
            "         3.0       0.40      0.12      0.18     10576\n",
            "         4.0       0.43      0.33      0.37     22107\n",
            "         5.0       0.64      0.93      0.76     37426\n",
            "\n",
            "    accuracy                           0.59     87713\n",
            "   macro avg       0.51      0.45      0.44     87713\n",
            "weighted avg       0.54      0.59      0.53     87713\n",
            "\n",
            "Accuracy Score: 0.586\n",
            "Mean Absolute Error: 0.575\n",
            "Root Mean Square Error: 1.013\n",
            "Mean Square Error: 1.027\n",
            "None \n",
            "\n",
            "2-gram tf-idf\n",
            "Classification Report\n",
            "              precision    recall  f1-score   support\n",
            "\n",
            "         1.0       0.89      0.16      0.27      9722\n",
            "         2.0       0.00      0.00      0.00      7882\n",
            "         3.0       0.40      0.00      0.00     10576\n",
            "         4.0       0.20      0.01      0.01     22107\n",
            "         5.0       0.44      1.00      0.61     37426\n",
            "\n",
            "    accuracy                           0.45     87713\n",
            "   macro avg       0.38      0.23      0.18     87713\n",
            "weighted avg       0.38      0.45      0.29     87713\n",
            "\n",
            "Accuracy Score: 0.446\n",
            "Mean Absolute Error: 1.124\n",
            "Root Mean Square Error: 1.730\n",
            "Mean Square Error: 2.994\n",
            "None \n",
            "\n",
            "2-gram tf-idf, max 10,000 words\n",
            "Classification Report\n",
            "              precision    recall  f1-score   support\n",
            "\n",
            "         1.0       0.63      0.75      0.68      9722\n",
            "         2.0       0.47      0.21      0.29      7882\n",
            "         3.0       0.47      0.22      0.30     10576\n",
            "         4.0       0.49      0.44      0.46     22107\n",
            "         5.0       0.70      0.89      0.78     37426\n",
            "\n",
            "    accuracy                           0.62     87713\n",
            "   macro avg       0.55      0.50      0.50     87713\n",
            "weighted avg       0.59      0.62      0.59     87713\n",
            "\n",
            "Accuracy Score: 0.619\n",
            "Mean Absolute Error: 0.501\n",
            "Root Mean Square Error: 0.915\n",
            "Mean Square Error: 0.836\n",
            "None \n",
            "\n"
          ]
        }
      ]
    },
    {
      "cell_type": "code",
      "source": [
        "nb = MultinomialNB()\n",
        "nb.fit(X_train_2gram_count_10000, y_train)"
      ],
      "metadata": {
        "colab": {
          "base_uri": "https://localhost:8080/"
        },
        "id": "3COsVtwVxPoB",
        "outputId": "c8191157-b846-491e-9882-102f920e6670"
      },
      "execution_count": 91,
      "outputs": [
        {
          "output_type": "execute_result",
          "data": {
            "text/plain": [
              "MultinomialNB()"
            ]
          },
          "metadata": {},
          "execution_count": 91
        }
      ]
    },
    {
      "cell_type": "code",
      "source": [
        "preds = nb.predict(X_test_2gram_count_10000)"
      ],
      "metadata": {
        "id": "MAiX-PI-uHKc"
      },
      "execution_count": 92,
      "outputs": []
    },
    {
      "cell_type": "code",
      "source": [
        "print(print_validation_report(y_test,preds))"
      ],
      "metadata": {
        "colab": {
          "base_uri": "https://localhost:8080/"
        },
        "id": "S11JVtdT2gKz",
        "outputId": "a34c74c3-2caa-444a-a50d-bfd2c6f5d6de"
      },
      "execution_count": 93,
      "outputs": [
        {
          "output_type": "stream",
          "name": "stdout",
          "text": [
            "Classification Report\n",
            "              precision    recall  f1-score   support\n",
            "\n",
            "         1.0       0.64      0.71      0.67      9722\n",
            "         2.0       0.40      0.37      0.39      7882\n",
            "         3.0       0.43      0.41      0.42     10576\n",
            "         4.0       0.52      0.49      0.51     22107\n",
            "         5.0       0.77      0.80      0.78     37426\n",
            "\n",
            "    accuracy                           0.63     87713\n",
            "   macro avg       0.55      0.56      0.55     87713\n",
            "weighted avg       0.62      0.63      0.62     87713\n",
            "\n",
            "Accuracy Score: 0.626\n",
            "Mean Absolute Error: 0.466\n",
            "Root Mean Square Error: 0.849\n",
            "Mean Square Error: 0.721\n",
            "None\n"
          ]
        }
      ]
    },
    {
      "cell_type": "code",
      "source": [
        "plot_confusion_matrix(y_test,preds)"
      ],
      "metadata": {
        "colab": {
          "base_uri": "https://localhost:8080/",
          "height": 497
        },
        "id": "gbe5Tl2AzUJZ",
        "outputId": "e65f6d06-f70c-4a9c-e2b5-e0c63ccf57bc"
      },
      "execution_count": 94,
      "outputs": [
        {
          "output_type": "display_data",
          "data": {
            "text/plain": [
              "<Figure size 576x576 with 1 Axes>"
            ],
            "image/png": "[encoded data removed]"
          },
          "metadata": {
            "needs_background": "light"
          }
        }
      ]
    },
    {
      "cell_type": "markdown",
      "metadata": {
        "id": "iEl0B-dDuxQ2"
      },
      "source": [
        "###Logistic Regression"
      ]
    },
    {
      "cell_type": "code",
      "execution_count": 95,
      "metadata": {
        "colab": {
          "base_uri": "https://localhost:8080/"
        },
        "id": "68dnsKacuxQ3",
        "outputId": "c70b0031-b20b-45e6-cad8-7e6fc8f943fa"
      },
      "outputs": [
        {
          "output_type": "stream",
          "name": "stdout",
          "text": [
            "For C = 0.01\n",
            "Classification Report\n",
            "              precision    recall  f1-score   support\n",
            "\n",
            "         1.0       0.68      0.78      0.73      9722\n",
            "         2.0       0.49      0.32      0.39      7882\n",
            "         3.0       0.51      0.35      0.42     10576\n",
            "         4.0       0.55      0.44      0.49     22107\n",
            "         5.0       0.71      0.89      0.79     37426\n",
            "\n",
            "    accuracy                           0.65     87713\n",
            "   macro avg       0.59      0.55      0.56     87713\n",
            "weighted avg       0.62      0.65      0.63     87713\n",
            "\n",
            "Accuracy Score: 0.646\n",
            "Mean Absolute Error: 0.445\n",
            "Root Mean Square Error: 0.837\n",
            "Mean Square Error: 0.700\n",
            "None \n",
            "\n",
            "For C = 0.05\n",
            "Classification Report\n",
            "              precision    recall  f1-score   support\n",
            "\n",
            "         1.0       0.68      0.77      0.72      9722\n",
            "         2.0       0.48      0.36      0.41      7882\n",
            "         3.0       0.49      0.38      0.43     10576\n",
            "         4.0       0.55      0.45      0.49     22107\n",
            "         5.0       0.73      0.87      0.79     37426\n",
            "\n",
            "    accuracy                           0.65     87713\n",
            "   macro avg       0.59      0.56      0.57     87713\n",
            "weighted avg       0.63      0.65      0.63     87713\n",
            "\n",
            "Accuracy Score: 0.648\n",
            "Mean Absolute Error: 0.430\n",
            "Root Mean Square Error: 0.802\n",
            "Mean Square Error: 0.643\n",
            "None \n",
            "\n",
            "For C = 0.25\n",
            "Classification Report\n",
            "              precision    recall  f1-score   support\n",
            "\n",
            "         1.0       0.68      0.75      0.71      9722\n",
            "         2.0       0.46      0.37      0.41      7882\n",
            "         3.0       0.47      0.38      0.42     10576\n",
            "         4.0       0.54      0.45      0.49     22107\n",
            "         5.0       0.74      0.86      0.79     37426\n",
            "\n",
            "    accuracy                           0.64     87713\n",
            "   macro avg       0.58      0.56      0.56     87713\n",
            "weighted avg       0.62      0.64      0.63     87713\n",
            "\n",
            "Accuracy Score: 0.641\n",
            "Mean Absolute Error: 0.435\n",
            "Root Mean Square Error: 0.801\n",
            "Mean Square Error: 0.641\n",
            "None \n",
            "\n",
            "For C = 0.5\n",
            "Classification Report\n",
            "              precision    recall  f1-score   support\n",
            "\n",
            "         1.0       0.67      0.74      0.70      9722\n",
            "         2.0       0.45      0.37      0.41      7882\n",
            "         3.0       0.46      0.38      0.42     10576\n",
            "         4.0       0.54      0.45      0.49     22107\n",
            "         5.0       0.74      0.85      0.79     37426\n",
            "\n",
            "    accuracy                           0.64     87713\n",
            "   macro avg       0.57      0.56      0.56     87713\n",
            "weighted avg       0.62      0.64      0.63     87713\n",
            "\n",
            "Accuracy Score: 0.638\n",
            "Mean Absolute Error: 0.439\n",
            "Root Mean Square Error: 0.804\n",
            "Mean Square Error: 0.646\n",
            "None \n",
            "\n",
            "For C = 1\n",
            "Classification Report\n",
            "              precision    recall  f1-score   support\n",
            "\n",
            "         1.0       0.67      0.73      0.70      9722\n",
            "         2.0       0.44      0.37      0.40      7882\n",
            "         3.0       0.45      0.38      0.42     10576\n",
            "         4.0       0.53      0.45      0.49     22107\n",
            "         5.0       0.74      0.85      0.79     37426\n",
            "\n",
            "    accuracy                           0.64     87713\n",
            "   macro avg       0.57      0.56      0.56     87713\n",
            "weighted avg       0.62      0.64      0.62     87713\n",
            "\n",
            "Accuracy Score: 0.636\n",
            "Mean Absolute Error: 0.441\n",
            "Root Mean Square Error: 0.805\n",
            "Mean Square Error: 0.647\n",
            "None \n",
            "\n"
          ]
        }
      ],
      "source": [
        "#2-gram count with maximum 10,000 words\n",
        "for c in [0.01, 0.05, 0.25, 0.5, 1]:\n",
        "  lr = LogisticRegression(C=c, max_iter= 300)\n",
        "  lr.fit(X_train_2gram_count_10000, y_train)\n",
        "  preds = lr.predict(X_test_2gram_count_10000)\n",
        "  print(\"For C = %s\" % (c))\n",
        "  print(print_validation_report(y_test,preds), '\\n')"
      ]
    },
    {
      "cell_type": "code",
      "source": [
        "# 2 gram tf-idf with maximum 10,000 words\n",
        "for c in [0.01, 0.05, 0.25, 0.5, 1]:\n",
        "  lr = LogisticRegression(C=c, max_iter= 300)\n",
        "  lr.fit(X_train_2tfidf_10000, y_train)\n",
        "  preds = lr.predict(X_test_2tfidf_10000)\n",
        "  print(\"For C = %s\" % (c))\n",
        "  print(print_validation_report(y_test,preds), '\\n')"
      ],
      "metadata": {
        "colab": {
          "base_uri": "https://localhost:8080/"
        },
        "id": "TxHKOJP3AzDZ",
        "outputId": "063e840b-5b00-48f3-d6e3-2773d3ffc349"
      },
      "execution_count": 96,
      "outputs": [
        {
          "output_type": "stream",
          "name": "stdout",
          "text": [
            "For C = 0.01\n",
            "Classification Report\n",
            "              precision    recall  f1-score   support\n",
            "\n",
            "         1.0       0.67      0.62      0.65      9722\n",
            "         2.0       0.56      0.01      0.03      7882\n",
            "         3.0       0.43      0.05      0.09     10576\n",
            "         4.0       0.41      0.34      0.37     22107\n",
            "         5.0       0.59      0.94      0.73     37426\n",
            "\n",
            "    accuracy                           0.56     87713\n",
            "   macro avg       0.53      0.39      0.37     87713\n",
            "weighted avg       0.53      0.56      0.49     87713\n",
            "\n",
            "Accuracy Score: 0.561\n",
            "Mean Absolute Error: 0.702\n",
            "Root Mean Square Error: 1.227\n",
            "Mean Square Error: 1.505\n",
            "None \n",
            "\n",
            "For C = 0.05\n",
            "Classification Report\n",
            "              precision    recall  f1-score   support\n",
            "\n",
            "         1.0       0.67      0.77      0.72      9722\n",
            "         2.0       0.50      0.20      0.28      7882\n",
            "         3.0       0.49      0.25      0.33     10576\n",
            "         4.0       0.50      0.46      0.48     22107\n",
            "         5.0       0.70      0.89      0.78     37426\n",
            "\n",
            "    accuracy                           0.63     87713\n",
            "   macro avg       0.57      0.51      0.52     87713\n",
            "weighted avg       0.60      0.63      0.60     87713\n",
            "\n",
            "Accuracy Score: 0.629\n",
            "Mean Absolute Error: 0.491\n",
            "Root Mean Square Error: 0.911\n",
            "Mean Square Error: 0.829\n",
            "None \n",
            "\n",
            "For C = 0.25\n",
            "Classification Report\n",
            "              precision    recall  f1-score   support\n",
            "\n",
            "         1.0       0.68      0.77      0.73      9722\n",
            "         2.0       0.49      0.32      0.39      7882\n",
            "         3.0       0.50      0.35      0.41     10576\n",
            "         4.0       0.54      0.49      0.51     22107\n",
            "         5.0       0.74      0.87      0.80     37426\n",
            "\n",
            "    accuracy                           0.65     87713\n",
            "   macro avg       0.59      0.56      0.57     87713\n",
            "weighted avg       0.63      0.65      0.63     87713\n",
            "\n",
            "Accuracy Score: 0.650\n",
            "Mean Absolute Error: 0.431\n",
            "Root Mean Square Error: 0.807\n",
            "Mean Square Error: 0.651\n",
            "None \n",
            "\n",
            "For C = 0.5\n",
            "Classification Report\n",
            "              precision    recall  f1-score   support\n",
            "\n",
            "         1.0       0.69      0.77      0.73      9722\n",
            "         2.0       0.49      0.35      0.41      7882\n",
            "         3.0       0.50      0.38      0.43     10576\n",
            "         4.0       0.54      0.49      0.52     22107\n",
            "         5.0       0.75      0.86      0.80     37426\n",
            "\n",
            "    accuracy                           0.65     87713\n",
            "   macro avg       0.59      0.57      0.58     87713\n",
            "weighted avg       0.64      0.65      0.64     87713\n",
            "\n",
            "Accuracy Score: 0.653\n",
            "Mean Absolute Error: 0.420\n",
            "Root Mean Square Error: 0.787\n",
            "Mean Square Error: 0.619\n",
            "None \n",
            "\n",
            "For C = 1\n",
            "Classification Report\n",
            "              precision    recall  f1-score   support\n",
            "\n",
            "         1.0       0.69      0.77      0.73      9722\n",
            "         2.0       0.48      0.37      0.42      7882\n",
            "         3.0       0.49      0.39      0.44     10576\n",
            "         4.0       0.54      0.49      0.52     22107\n",
            "         5.0       0.75      0.85      0.80     37426\n",
            "\n",
            "    accuracy                           0.65     87713\n",
            "   macro avg       0.59      0.57      0.58     87713\n",
            "weighted avg       0.64      0.65      0.64     87713\n",
            "\n",
            "Accuracy Score: 0.653\n",
            "Mean Absolute Error: 0.415\n",
            "Root Mean Square Error: 0.773\n",
            "Mean Square Error: 0.598\n",
            "None \n",
            "\n"
          ]
        }
      ]
    },
    {
      "cell_type": "code",
      "source": [
        "lr = LogisticRegression(C=1, max_iter= 300)\n",
        "lr.fit(X_train_2tfidf_10000, y_train)"
      ],
      "metadata": {
        "colab": {
          "base_uri": "https://localhost:8080/"
        },
        "id": "Hfsxq6_i4aeV",
        "outputId": "4abb0b11-e3cc-4293-840a-8e81dc161b45"
      },
      "execution_count": 97,
      "outputs": [
        {
          "output_type": "execute_result",
          "data": {
            "text/plain": [
              "LogisticRegression(C=1, max_iter=300)"
            ]
          },
          "metadata": {},
          "execution_count": 97
        }
      ]
    },
    {
      "cell_type": "code",
      "source": [
        "preds = lr.predict(X_test_2tfidf_10000)"
      ],
      "metadata": {
        "id": "sFE7lY6c4yn9"
      },
      "execution_count": 98,
      "outputs": []
    },
    {
      "cell_type": "code",
      "source": [
        "print(print_validation_report(y_test,preds))"
      ],
      "metadata": {
        "colab": {
          "base_uri": "https://localhost:8080/"
        },
        "id": "2yTdQ5iy5RyI",
        "outputId": "53cc0581-82f8-40c8-9aa9-d44d5bf6eb88"
      },
      "execution_count": 99,
      "outputs": [
        {
          "output_type": "stream",
          "name": "stdout",
          "text": [
            "Classification Report\n",
            "              precision    recall  f1-score   support\n",
            "\n",
            "         1.0       0.69      0.77      0.73      9722\n",
            "         2.0       0.48      0.37      0.42      7882\n",
            "         3.0       0.49      0.39      0.44     10576\n",
            "         4.0       0.54      0.49      0.52     22107\n",
            "         5.0       0.75      0.85      0.80     37426\n",
            "\n",
            "    accuracy                           0.65     87713\n",
            "   macro avg       0.59      0.57      0.58     87713\n",
            "weighted avg       0.64      0.65      0.64     87713\n",
            "\n",
            "Accuracy Score: 0.653\n",
            "Mean Absolute Error: 0.415\n",
            "Root Mean Square Error: 0.773\n",
            "Mean Square Error: 0.598\n",
            "None\n"
          ]
        }
      ]
    },
    {
      "cell_type": "code",
      "source": [
        "plot_confusion_matrix(y_test,preds)"
      ],
      "metadata": {
        "colab": {
          "base_uri": "https://localhost:8080/",
          "height": 497
        },
        "id": "qx4rs6Kz5YA7",
        "outputId": "a7c15f0c-f810-44d2-e924-13e3a44a707e"
      },
      "execution_count": 100,
      "outputs": [
        {
          "output_type": "display_data",
          "data": {
            "text/plain": [
              "<Figure size 576x576 with 1 Axes>"
            ],
            "image/png": "[encoded data removed]"
          },
          "metadata": {
            "needs_background": "light"
          }
        }
      ]
    },
    {
      "cell_type": "code",
      "source": [
        "feature_to_coef = {\n",
        "    word: coef for word, coef in zip(\n",
        "        cv.get_feature_names(), lr.coef_[0]\n",
        "    )\n",
        "}\n",
        "print(\"Best Positive\")\n",
        "for best_positive in sorted(\n",
        "    feature_to_coef.items(), \n",
        "    key=lambda x: x[1])[:50]:\n",
        "    print (best_positive)\n",
        "\n",
        "print(\"Best Negative\")\n",
        "\n",
        "for best_negative in sorted(\n",
        "    feature_to_coef.items(), \n",
        "    key=lambda x: x[1],\n",
        "    reverse=True)[:50]:\n",
        "    print (best_negative)"
      ],
      "metadata": {
        "colab": {
          "base_uri": "https://localhost:8080/"
        },
        "id": "30WuPVI25Rz2",
        "outputId": "6c7f84cc-a38f-4930-e38b-d1c51e0392f3"
      },
      "execution_count": 101,
      "outputs": [
        {
          "output_type": "stream",
          "name": "stdout",
          "text": [
            "Best Positive\n",
            "('delicious', -10.15162007508786)\n",
            "('great', -9.213434246522137)\n",
            "('amazing', -7.542900200974198)\n",
            "('excellent', -7.135017285474752)\n",
            "('good', -6.646815537796806)\n",
            "('tasty', -6.148659351851435)\n",
            "('best', -5.577491286234105)\n",
            "('fantastic', -5.430197090033788)\n",
            "('awesome', -5.380214432645352)\n",
            "('love', -5.202640701766352)\n",
            "('perfect', -4.848686232099752)\n",
            "('loved', -4.345781157611943)\n",
            "('friendly', -4.319273930785958)\n",
            "('nice', -4.311158904189648)\n",
            "('enjoyed', -4.172659653834047)\n",
            "('favorite', -4.022751718634195)\n",
            "('wonderful', -3.992313184242836)\n",
            "('outstanding', -3.87212845886514)\n",
            "('little', -3.6416516170256963)\n",
            "('yummy', -3.641571921525314)\n",
            "('always', -3.583600964317922)\n",
            "('perfectly', -3.5576761385116593)\n",
            "('star', -3.4936945719148076)\n",
            "('attentive', -3.4154052759753712)\n",
            "('flavorful', -3.3814399183264423)\n",
            "('food good', -3.1035821604868796)\n",
            "('definitely', -3.073675964081823)\n",
            "('juicy', -3.0698933410437435)\n",
            "('incredible', -3.000561567668854)\n",
            "('really good', -2.8564078578564187)\n",
            "('complaint', -2.844465468946024)\n",
            "('solid', -2.77768360839085)\n",
            "('food delicious', -2.7227866575656345)\n",
            "('unique', -2.6888112685064685)\n",
            "('delish', -2.6807838984464487)\n",
            "('happy', -2.66330517449041)\n",
            "('liked', -2.6358708222637186)\n",
            "('atmosphere', -2.6115420685456927)\n",
            "('phenomenal', -2.5547463756481585)\n",
            "('never disappointed', -2.498594048702917)\n",
            "('wont disappointed', -2.4925303311740916)\n",
            "('great food', -2.491966769511713)\n",
            "('pretty', -2.480057504545887)\n",
            "('though', -2.472028366578066)\n",
            "('clean', -2.467983568366585)\n",
            "('generous', -2.4416926268372734)\n",
            "('variety', -2.4294545464259345)\n",
            "('kind', -2.399084396238069)\n",
            "('quick', -2.3812367737623874)\n",
            "('glad', -2.365675152115534)\n",
            "Best Negative\n",
            "('worst', 7.835360620285278)\n",
            "('horrible', 6.29062106490252)\n",
            "('terrible', 6.263986350295146)\n",
            "('awful', 5.558539526466968)\n",
            "('never back', 4.995079155668756)\n",
            "('disgusting', 4.726982834293021)\n",
            "('tasteless', 4.519656335910152)\n",
            "('rude', 4.319196923547396)\n",
            "('gross', 4.206308585894989)\n",
            "('wont back', 4.036005670127348)\n",
            "('disappointing', 3.986368679358215)\n",
            "('poor', 3.8884513928486215)\n",
            "('bland', 3.8817464547922826)\n",
            "('waste', 3.7066979963988103)\n",
            "('worse', 3.609142297389194)\n",
            "('left', 3.596359873505592)\n",
            "('inedible', 3.5179815926357625)\n",
            "('overpriced', 3.4370552803285372)\n",
            "('poorly', 3.3525010140003997)\n",
            "('dirty', 3.3407838681505027)\n",
            "('refused', 3.3283863170990404)\n",
            "('zero star', 3.3152313104428384)\n",
            "('never', 3.3092564430458022)\n",
            "('food poisoning', 3.2306087504294263)\n",
            "('zero', 3.2015905420389523)\n",
            "('poisoning', 3.1874840588947517)\n",
            "('sick', 3.1620734417334058)\n",
            "('flavorless', 3.159564473033269)\n",
            "('edible', 3.1559093525545325)\n",
            "('nasty', 3.1309983791936618)\n",
            "('avoid', 3.128800861535342)\n",
            "('cold', 3.0979022654416903)\n",
            "('disappointment', 3.0257570592109464)\n",
            "('suck', 3.0135129720370886)\n",
            "('joke', 2.9882307800074726)\n",
            "('yuck', 2.97916207711174)\n",
            "('wont', 2.9690145145214224)\n",
            "('disappointed', 2.9451257081699116)\n",
            "('first last', 2.9206865475971444)\n",
            "('even', 2.9195914814657016)\n",
            "('money', 2.911117956079832)\n",
            "('tasted like', 2.8531598152078477)\n",
            "('hair', 2.8370055353946846)\n",
            "('star would', 2.819798527296605)\n",
            "('overcooked', 2.7912974716743935)\n",
            "('frozen', 2.773388404970191)\n",
            "('mediocre best', 2.7506934810654142)\n",
            "('health', 2.7238335753429306)\n",
            "('soggy', 2.690753398840926)\n",
            "('returning', 2.6714337503924934)\n"
          ]
        }
      ]
    },
    {
      "cell_type": "markdown",
      "source": [
        "###Linear Regression"
      ],
      "metadata": {
        "id": "5sxDltyWbv18"
      }
    },
    {
      "cell_type": "code",
      "source": [
        "lr = LinearRegression()\n",
        "lr.fit(X_train_2gram_count_10000, y_train)"
      ],
      "metadata": {
        "colab": {
          "base_uri": "https://localhost:8080/"
        },
        "id": "K-Imv3LtbxgY",
        "outputId": "a749062b-b6f2-4392-b93c-fdecf8ca2a88"
      },
      "execution_count": 102,
      "outputs": [
        {
          "output_type": "execute_result",
          "data": {
            "text/plain": [
              "LinearRegression()"
            ]
          },
          "metadata": {},
          "execution_count": 102
        }
      ]
    },
    {
      "cell_type": "code",
      "source": [
        "preds = lr.predict(X_test_2gram_count_10000)"
      ],
      "metadata": {
        "id": "FmZ_LFsqcBcI"
      },
      "execution_count": 103,
      "outputs": []
    },
    {
      "cell_type": "code",
      "source": [
        "print('Mean Absolute Error: {:.3f}'.format(mean_absolute_error(y_test,preds)))\n",
        "print('Root Mean Square Error: {:.3f}'.format(np.sqrt(MSE(y_test,preds))))\n",
        "print('Mean Square Error: {:.3f}'.format(MSE(y_test,preds, squared = True)))"
      ],
      "metadata": {
        "colab": {
          "base_uri": "https://localhost:8080/"
        },
        "id": "szFZVW3lgMsQ",
        "outputId": "5545a97b-a5fe-4365-d4ef-ed915fd59804"
      },
      "execution_count": 109,
      "outputs": [
        {
          "output_type": "stream",
          "name": "stdout",
          "text": [
            "Mean Absolute Error: 0.704\n",
            "Root Mean Square Error: 0.897\n",
            "Mean Square Error: 0.805\n"
          ]
        }
      ]
    },
    {
      "cell_type": "markdown",
      "metadata": {
        "id": "AuDBO7XuuxQ3"
      },
      "source": [
        "### Random Forest"
      ]
    },
    {
      "cell_type": "code",
      "source": [
        "rf = RandomForestClassifier(max_features = 'sqrt')\n",
        "rf.fit(X_train_2tfidf_10000, y_train)"
      ],
      "metadata": {
        "id": "pql31ahmMkOx"
      },
      "execution_count": 110,
      "outputs": []
    },
    {
      "cell_type": "code",
      "source": [
        "preds = rf.predict(X_test_2tfidf_10000)"
      ],
      "metadata": {
        "id": "zitotyTWE6PQ"
      },
      "execution_count": null,
      "outputs": []
    },
    {
      "cell_type": "code",
      "source": [
        "print(print_validation_report(y_test,preds))"
      ],
      "metadata": {
        "id": "qHuHHM5AVSk4"
      },
      "execution_count": null,
      "outputs": []
    }
  ],
  "metadata": {
    "kernelspec": {
      "display_name": "Python 3",
      "language": "python",
      "name": "python3"
    },
    "language_info": {
      "codemirror_mode": {
        "name": "ipython",
        "version": 3
      },
      "file_extension": ".py",
      "mimetype": "text/x-python",
      "name": "python",
      "nbconvert_exporter": "python",
      "pygments_lexer": "ipython3",
      "version": "3.7.3"
    },
    "colab": {
      "provenance": [],
      "include_colab_link": true
    }
  },
  "nbformat": 4,
  "nbformat_minor": 0
}