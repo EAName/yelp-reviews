{
  "cells": [
    {
      "cell_type": "markdown",
      "metadata": {
        "id": "view-in-github",
        "colab_type": "text"
      },
      "source": [
        "<a href=\"https://colab.research.google.com/github/EAName/yelp-reviews/blob/main/Yelp_NLP_ABSA_Maureen.ipynb\" target=\"_parent\"><img src=\"https://colab.research.google.com/assets/colab-badge.svg\" alt=\"Open In Colab\"/></a>"
      ]
    },
    {
      "cell_type": "markdown",
      "metadata": {
        "id": "WsePP5VZuxQq"
      },
      "source": [
        "## Imports "
      ]
    },
    {
      "cell_type": "code",
      "execution_count": 3,
      "metadata": {
        "id": "92Dg33FmuxQs"
      },
      "outputs": [],
      "source": [
        "import pandas as pd\n",
        "import numpy as np\n",
        "import os\n",
        "import random\n",
        "import numpy as np\n",
        "import pickle \n",
        "import re,string\n",
        "\n",
        "import nltk\n",
        "from nltk.corpus import stopwords\n",
        "from nltk.stem import PorterStemmer\n",
        "from nltk.stem import WordNetLemmatizer\n",
        "from nltk.tokenize import word_tokenize \n",
        "\n",
        "from sklearn.feature_extraction.text import TfidfVectorizer\n",
        "from sklearn.feature_extraction.text import CountVectorizer\n",
        "from sklearn.cluster import KMeans, AgglomerativeClustering\n",
        "from sklearn.metrics.pairwise import cosine_similarity\n",
        "from sklearn.decomposition import TruncatedSVD, LatentDirichletAllocation\n",
        "from sklearn.svm import SVC\n",
        "from sklearn.preprocessing import LabelEncoder, OneHotEncoder\n",
        "from sklearn.ensemble import RandomForestClassifier\n",
        "from sklearn.metrics import roc_auc_score, accuracy_score, confusion_matrix, silhouette_score\n",
        "from sklearn.metrics import precision_score, recall_score, f1_score, classification_report\n",
        "from sklearn.metrics import mean_squared_error as MSE\n",
        "from sklearn.metrics import mean_absolute_error\n",
        "from sklearn.model_selection import cross_val_score, StratifiedKFold\n",
        "from sklearn.tree import DecisionTreeClassifier\n",
        "from sklearn.naive_bayes import MultinomialNB\n",
        "from sklearn.linear_model import LogisticRegression\n",
        "from sklearn.ensemble import RandomForestRegressor\n",
        "from sklearn.metrics import accuracy_score\n",
        "from sklearn.model_selection import train_test_split, KFold\n",
        "from sklearn.manifold import MDS\n",
        "from sklearn.metrics.pairwise import cosine_similarity\n",
        "from sklearn.ensemble import GradientBoostingClassifier\n",
        "from sklearn.svm import LinearSVC\n",
        "\n",
        "\n",
        "\n",
        "from sklearn.model_selection import train_test_split \n",
        "from sklearn.model_selection import GridSearchCV \n",
        "from sklearn.model_selection import cross_val_score \n",
        "from sklearn.model_selection import StratifiedKFold\n",
        "from sklearn.model_selection import KFold \n",
        "from sklearn.model_selection import cross_val_predict\n",
        "\n",
        "\n",
        "import seaborn as sns\n",
        "import matplotlib.pyplot as plt\n",
        "\n",
        "from gensim.models import Word2Vec,LdaMulticore, TfidfModel, CoherenceModel\n",
        "from gensim import corpora\n",
        "from gensim import similarities\n",
        "from gensim.models.doc2vec import Doc2Vec, TaggedDocument\n",
        "from gensim.models import LsiModel,LdaModel\n",
        "\n",
        "from keras.preprocessing.text import Tokenizer\n",
        "#from keras.preprocessing.sequence import pad_sequences\n",
        "from tqdm import tqdm\n",
        "from keras.models import Sequential\n",
        "from keras.layers import Embedding, LSTM, Dense, SpatialDropout1D, GRU\n",
        "from keras.callbacks import EarlyStopping\n",
        "from keras.initializers import Constant\n",
        "from sklearn.model_selection import train_test_split\n",
        "from tensorflow.keras.optimizers import Adam, Nadam, RMSprop\n",
        "from keras import Input\n",
        "\n",
        "from IPython.display import display"
      ]
    },
    {
      "cell_type": "code",
      "source": [
        "nltk.download('stopwords')\n",
        "nltk.download('wordnet')\n",
        "nltk.download('omw-1.4')"
      ],
      "metadata": {
        "colab": {
          "base_uri": "https://localhost:8080/"
        },
        "id": "VGHly-zIpris",
        "outputId": "8a4ea7be-e80e-4a03-ee6f-d26e41d30236"
      },
      "execution_count": 4,
      "outputs": [
        {
          "output_type": "stream",
          "name": "stderr",
          "text": [
            "[nltk_data] Downloading package stopwords to /root/nltk_data...\n",
            "[nltk_data]   Package stopwords is already up-to-date!\n",
            "[nltk_data] Downloading package wordnet to /root/nltk_data...\n",
            "[nltk_data]   Package wordnet is already up-to-date!\n",
            "[nltk_data] Downloading package omw-1.4 to /root/nltk_data...\n",
            "[nltk_data]   Package omw-1.4 is already up-to-date!\n"
          ]
        },
        {
          "output_type": "execute_result",
          "data": {
            "text/plain": [
              "True"
            ]
          },
          "metadata": {},
          "execution_count": 4
        }
      ]
    },
    {
      "cell_type": "code",
      "source": [
        "import warnings\n",
        "warnings.filterwarnings('ignore')"
      ],
      "metadata": {
        "id": "ovbC3RlUpxKS"
      },
      "execution_count": 5,
      "outputs": []
    },
    {
      "cell_type": "code",
      "source": [
        "from google.colab import drive\n",
        "drive.mount('/content/gdrive')"
      ],
      "metadata": {
        "colab": {
          "base_uri": "https://localhost:8080/"
        },
        "id": "xqTk3PNGvHH2",
        "outputId": "b02688ed-2946-4834-c584-ca86ac9bdda3"
      },
      "execution_count": 6,
      "outputs": [
        {
          "output_type": "stream",
          "name": "stdout",
          "text": [
            "Drive already mounted at /content/gdrive; to attempt to forcibly remount, call drive.mount(\"/content/gdrive\", force_remount=True).\n"
          ]
        }
      ]
    },
    {
      "cell_type": "code",
      "source": [
        "df = pd.read_csv('/content/gdrive/MyDrive/yelp_dataset/yelp_reviews_clean_version4_st_louis.csv')"
      ],
      "metadata": {
        "id": "ofrho4sfu5nc"
      },
      "execution_count": 7,
      "outputs": []
    },
    {
      "cell_type": "code",
      "source": [
        "df.shape"
      ],
      "metadata": {
        "colab": {
          "base_uri": "https://localhost:8080/"
        },
        "id": "MfQeqg9yvQnR",
        "outputId": "377c01c2-3069-4db5-b2d6-b6045c0fa06e"
      },
      "execution_count": 8,
      "outputs": [
        {
          "output_type": "execute_result",
          "data": {
            "text/plain": [
              "(292376, 5)"
            ]
          },
          "metadata": {},
          "execution_count": 8
        }
      ]
    },
    {
      "cell_type": "code",
      "source": [
        "df.rename(columns = {'text':'reviews'}, inplace = True)"
      ],
      "metadata": {
        "id": "hkBlD4FkBb9b"
      },
      "execution_count": 9,
      "outputs": []
    },
    {
      "cell_type": "markdown",
      "metadata": {
        "id": "Ede7p75luxQy"
      },
      "source": [
        "**Extract year**"
      ]
    },
    {
      "cell_type": "code",
      "execution_count": 10,
      "metadata": {
        "id": "SggCnX1zuxQy"
      },
      "outputs": [],
      "source": [
        "df['review_year'] = df['date'].apply(lambda x:int(x[:4]))"
      ]
    },
    {
      "cell_type": "markdown",
      "source": [
        "# Aspect-Based Sentiment Analysis"
      ],
      "metadata": {
        "id": "gL_wyDiH4ZNE"
      }
    },
    {
      "cell_type": "markdown",
      "source": [
        "ABSA Text Preprocessing (SAMPLE)"
      ],
      "metadata": {
        "id": "GbhOroqN5c5o"
      }
    },
    {
      "cell_type": "code",
      "source": [
        "import missingno as msno\n",
        "plt.figure(figsize=(25, 20))\n",
        "msno.matrix(df, color=[0.2, 0.4, 1])\n",
        "plt.show()"
      ],
      "metadata": {
        "colab": {
          "base_uri": "https://localhost:8080/",
          "height": 539
        },
        "id": "k1LAGZ6B4X9K",
        "outputId": "7b21563e-a9ee-4093-cd57-173c8d408a93"
      },
      "execution_count": 11,
      "outputs": [
        {
          "output_type": "display_data",
          "data": {
            "text/plain": [
              "<Figure size 1800x1440 with 0 Axes>"
            ]
          },
          "metadata": {}
        },
        {
          "output_type": "display_data",
          "data": {
            "text/plain": [
              "<Figure size 1800x720 with 2 Axes>"
            ],
            "image/png": "[encoded data removed]"
          },
          "metadata": {
            "needs_background": "light"
          }
        }
      ]
    },
    {
      "cell_type": "code",
      "source": [
        "import re\n",
        "\n",
        "\n",
        "def remove_url(text):\n",
        "    text = re.sub(r\"http\\S+\", \"\", text)\n",
        "    return text\n",
        "\n",
        "\n",
        "# Example string with weird font characters plus an URL which we gonna remove.\n",
        "sample = \"This is a yelp project. \\n https://www.yelp.com 𝕒𝕟𝕕 𝕀 𝕒𝕞 😊 𝕥𝕠 𝕔𝕣𝕖𝕒𝕥𝕖 𝕥𝕙𝕚𝕤 𝕟𝕠𝕥𝕖𝕓𝕠𝕠𝕜\"\n",
        "print(f\"Text before removing url:- \\n {sample}\")\n",
        "\n",
        "sample = remove_url(sample)\n",
        "print(f\"Text after removing url:- \\n {sample}\")"
      ],
      "metadata": {
        "colab": {
          "base_uri": "https://localhost:8080/"
        },
        "id": "Grrrha406KDC",
        "outputId": "f04cb6e5-1629-49c4-f12b-c4cf8e8e76f1"
      },
      "execution_count": 12,
      "outputs": [
        {
          "output_type": "stream",
          "name": "stdout",
          "text": [
            "Text before removing url:- \n",
            " This is a yelp project. \n",
            " https://www.yelp.com 𝕒𝕟𝕕 𝕀 𝕒𝕞 😊 𝕥𝕠 𝕔𝕣𝕖𝕒𝕥𝕖 𝕥𝕙𝕚𝕤 𝕟𝕠𝕥𝕖𝕓𝕠𝕠𝕜\n",
            "Text after removing url:- \n",
            " This is a yelp project. \n",
            "  𝕒𝕟𝕕 𝕀 𝕒𝕞 😊 𝕥𝕠 𝕔𝕣𝕖𝕒𝕥𝕖 𝕥𝕙𝕚𝕤 𝕟𝕠𝕥𝕖𝕓𝕠𝕠𝕜\n"
          ]
        }
      ]
    },
    {
      "cell_type": "code",
      "source": [
        "import unicodedata as uni\n",
        "\n",
        "print(f\"Text before Unicode Normalization:- \\n {sample}\")\n",
        "\n",
        "sample = uni.normalize('NFKD', sample)\n",
        "print(f\"Text after Unicode Normalization:- \\n {sample}\")"
      ],
      "metadata": {
        "colab": {
          "base_uri": "https://localhost:8080/"
        },
        "id": "6eshxmLV6DCe",
        "outputId": "69440aa1-d862-4607-e1f6-83d7e25289f9"
      },
      "execution_count": 13,
      "outputs": [
        {
          "output_type": "stream",
          "name": "stdout",
          "text": [
            "Text before Unicode Normalization:- \n",
            " This is a yelp project. \n",
            "  𝕒𝕟𝕕 𝕀 𝕒𝕞 😊 𝕥𝕠 𝕔𝕣𝕖𝕒𝕥𝕖 𝕥𝕙𝕚𝕤 𝕟𝕠𝕥𝕖𝕓𝕠𝕠𝕜\n",
            "Text after Unicode Normalization:- \n",
            " This is a yelp project. \n",
            "  and I am 😊 to create this notebook\n"
          ]
        }
      ]
    },
    {
      "cell_type": "code",
      "source": [
        "!pip install demoji"
      ],
      "metadata": {
        "colab": {
          "base_uri": "https://localhost:8080/"
        },
        "id": "AmVtr6we5n5c",
        "outputId": "819e2ccd-c16e-48c8-8177-81a67f147ed8"
      },
      "execution_count": 14,
      "outputs": [
        {
          "output_type": "stream",
          "name": "stdout",
          "text": [
            "Looking in indexes: https://pypi.org/simple, https://us-python.pkg.dev/colab-wheels/public/simple/\n",
            "Requirement already satisfied: demoji in /usr/local/lib/python3.7/dist-packages (1.1.0)\n"
          ]
        }
      ]
    },
    {
      "cell_type": "code",
      "source": [
        "import demoji\n",
        "\n",
        "\n",
        "def handle_emoji(string):\n",
        "    emojis = demoji.findall(string)\n",
        "\n",
        "    for emoji in emojis:\n",
        "        string = string.replace(emoji, \" \" + emojis[emoji].split(\":\")[0])\n",
        "\n",
        "    return string\n",
        "\n",
        "\n",
        "print(f\"Before Handling emoji:- \\n {sample}\")\n",
        "print(f\"After Handling emoji:- \\n {handle_emoji(sample)}\")"
      ],
      "metadata": {
        "colab": {
          "base_uri": "https://localhost:8080/"
        },
        "id": "LzpulKJ05n2B",
        "outputId": "c1ba3994-1284-4385-b618-8c6e9aa160bb"
      },
      "execution_count": 15,
      "outputs": [
        {
          "output_type": "stream",
          "name": "stdout",
          "text": [
            "Before Handling emoji:- \n",
            " This is a yelp project. \n",
            "  and I am 😊 to create this notebook\n",
            "After Handling emoji:- \n",
            " This is a yelp project. \n",
            "  and I am  smiling face with smiling eyes to create this notebook\n"
          ]
        }
      ]
    },
    {
      "cell_type": "code",
      "source": [
        "def word_tokenizer(text):\n",
        "    text = text.lower()\n",
        "    text = text.split()\n",
        "\n",
        "    return text\n",
        "\n",
        "\n",
        "sample = \"This is a yelp project.\"\n",
        "print(sample)\n",
        "print(word_tokenizer(sample))"
      ],
      "metadata": {
        "colab": {
          "base_uri": "https://localhost:8080/"
        },
        "id": "1UYUdMro5nx5",
        "outputId": "b06aafd3-3a00-4c9d-9d9b-49f370efd5b8"
      },
      "execution_count": 16,
      "outputs": [
        {
          "output_type": "stream",
          "name": "stdout",
          "text": [
            "This is a yelp project.\n",
            "['this', 'is', 'a', 'yelp', 'project.']\n"
          ]
        }
      ]
    },
    {
      "cell_type": "code",
      "source": [
        "from nltk.corpus import stopwords\n",
        "\n",
        "en_stopwords = set(stopwords.words('english'))\n",
        "print(f\"Stop Words in English : \\n{ en_stopwords}\")"
      ],
      "metadata": {
        "colab": {
          "base_uri": "https://localhost:8080/"
        },
        "id": "C1JX5OhK5nvl",
        "outputId": "4472685b-5f63-40c2-d71b-18cfa3f41f6c"
      },
      "execution_count": 17,
      "outputs": [
        {
          "output_type": "stream",
          "name": "stdout",
          "text": [
            "Stop Words in English : \n",
            "{'their', 'few', 'i', 'don', 'to', 'has', 'too', 'down', \"you'll\", \"aren't\", \"that'll\", 'mightn', 'these', 'this', 'over', 'be', 's', \"wasn't\", 'him', 'should', 'll', 'your', \"weren't\", 'off', 'with', 'where', 'there', 'than', 'not', 'do', 'doesn', 'did', 'by', 'below', \"you'd\", 'yourselves', 'because', 'under', \"she's\", 'y', 'couldn', 'about', 'once', 'now', 'through', 'any', 'myself', 'when', 'but', 'ma', 'only', 'weren', \"it's\", 'other', 'yours', 'most', 'm', 'ourselves', 'in', 'above', 'such', 'nor', \"hadn't\", 't', \"mustn't\", 'been', 'into', 'our', 'before', \"don't\", 'on', 'can', 'a', 'won', 'needn', 'that', 'are', 'again', 'no', \"shan't\", 'further', \"isn't\", \"you're\", 'up', 'hasn', \"haven't\", 'wasn', 'his', 'itself', 'does', 'them', 'were', 'same', 'here', \"couldn't\", 'out', 'he', 'of', 'didn', 'you', 'shan', 'am', \"needn't\", 'shouldn', 'd', 'until', \"should've\", 'wouldn', 'having', 'some', 'had', \"won't\", 'as', 'all', \"shouldn't\", 'have', 'during', 'the', 'against', 'she', \"you've\", 'for', 'yourself', 'ours', \"hasn't\", 'or', 'so', 've', 'mustn', 'if', 'just', 'more', 'it', 'they', 'at', 'which', 'o', 'those', 'both', \"doesn't\", 'then', 'her', 're', 'after', 'how', 'isn', 'my', 'me', 'hers', 'whom', \"mightn't\", 'theirs', 'very', 'aren', 'we', 'doing', 'will', 'haven', 'what', \"didn't\", 'and', 'herself', 'himself', 'themselves', 'ain', 'is', 'was', 'an', 'being', 'hadn', 'own', 'each', 'while', 'who', \"wouldn't\", 'why', 'from', 'between', 'its'}\n"
          ]
        }
      ]
    },
    {
      "cell_type": "code",
      "source": [
        "def remove_stopwords(text):\n",
        "    text = [word for word in text if word not in en_stopwords]\n",
        "    return text\n",
        "\n",
        "\n",
        "print(f\"Before removing stopwords : {word_tokenizer(sample)}\")\n",
        "print(f\"After removing stopwords : {remove_stopwords(word_tokenizer(sample))}\")"
      ],
      "metadata": {
        "colab": {
          "base_uri": "https://localhost:8080/"
        },
        "id": "uSYC_KsC5ntK",
        "outputId": "4cb996c2-cf34-4941-9e9c-271d14d53b85"
      },
      "execution_count": 18,
      "outputs": [
        {
          "output_type": "stream",
          "name": "stdout",
          "text": [
            "Before removing stopwords : ['this', 'is', 'a', 'yelp', 'project.']\n",
            "After removing stopwords : ['yelp', 'project.']\n"
          ]
        }
      ]
    },
    {
      "cell_type": "code",
      "source": [
        "from nltk.stem.porter import PorterStemmer\n",
        "from nltk.stem.lancaster import LancasterStemmer\n",
        "\n",
        "stemmer = PorterStemmer()\n",
        "# stemmer = LancasterStemmer()\n",
        "\n",
        "\n",
        "def stemming(text):\n",
        "\n",
        "    text = [stemmer.stem(word) for word in text]\n",
        "    return text\n",
        "\n",
        "\n",
        "sample = \"I am creating a Notebook\"\n",
        "print(f\"Before Stemming : {(sample)}\")\n",
        "print(f\"After Stemming : {stemming(word_tokenizer(sample))}\")"
      ],
      "metadata": {
        "colab": {
          "base_uri": "https://localhost:8080/"
        },
        "id": "zdUn3mPW5nq5",
        "outputId": "3085ff65-7245-4dd5-b237-3e13d458f032"
      },
      "execution_count": 19,
      "outputs": [
        {
          "output_type": "stream",
          "name": "stdout",
          "text": [
            "Before Stemming : I am creating a Notebook\n",
            "After Stemming : ['i', 'am', 'creat', 'a', 'notebook']\n"
          ]
        }
      ]
    },
    {
      "cell_type": "code",
      "source": [
        "! pip install langdetect"
      ],
      "metadata": {
        "colab": {
          "base_uri": "https://localhost:8080/"
        },
        "id": "J_pJ8-nEyVgs",
        "outputId": "e67c7d85-f860-4932-86b6-24717e9ad43e"
      },
      "execution_count": 20,
      "outputs": [
        {
          "output_type": "stream",
          "name": "stdout",
          "text": [
            "Looking in indexes: https://pypi.org/simple, https://us-python.pkg.dev/colab-wheels/public/simple/\n",
            "Requirement already satisfied: langdetect in /usr/local/lib/python3.7/dist-packages (1.0.9)\n",
            "Requirement already satisfied: six in /usr/local/lib/python3.7/dist-packages (from langdetect) (1.15.0)\n"
          ]
        }
      ]
    },
    {
      "cell_type": "code",
      "source": [
        "from langdetect import detect\n",
        "\n",
        "en_text = u\"\"\"\"Hi Everyone I am Ankit Gupta.\"\"\"\n",
        "print(f\" {en_text} : {detect(en_text)}\")\n",
        "\n",
        "hindi_text = u\"\"\"मेरा नाम अंकित गुप्ता है और मैं एक छात्र हूँ\"\"\"\n",
        "print(f\"{hindi_text} : {detect(hindi_text)}\")"
      ],
      "metadata": {
        "colab": {
          "base_uri": "https://localhost:8080/"
        },
        "id": "UQiBYBrJyMpi",
        "outputId": "7e52344b-7307-4e79-eedb-1fbe57ea1784"
      },
      "execution_count": 21,
      "outputs": [
        {
          "output_type": "stream",
          "name": "stdout",
          "text": [
            " \"Hi Everyone I am Ankit Gupta. : tl\n",
            "मेरा नाम अंकित गुप्ता है और मैं एक छात्र हूँ : hi\n"
          ]
        }
      ]
    },
    {
      "cell_type": "code",
      "source": [
        "import spacy\n",
        "\n",
        "sp = spacy.load(\"en_core_web_sm\")"
      ],
      "metadata": {
        "id": "eQSqVYCk5noB"
      },
      "execution_count": 22,
      "outputs": []
    },
    {
      "cell_type": "code",
      "source": [
        "def lemmatization(text):\n",
        "\n",
        "    # text = [sp(word).lemma_ for word in text]\n",
        "\n",
        "    text = \" \".join(text)\n",
        "    token = sp(text)\n",
        "\n",
        "    text = [word.lemma_ for word in token]\n",
        "    return text\n",
        "\n",
        "\n",
        "print(f\"Before Lemmatization : {word_tokenizer(sample)}\")\n",
        "print(f\"After Lemmatization : {lemmatization(word_tokenizer(sample))}\")"
      ],
      "metadata": {
        "colab": {
          "base_uri": "https://localhost:8080/"
        },
        "id": "NsFoH26A5nlS",
        "outputId": "17cfa97f-6f6e-4f70-ba4f-04a7eb3d5913"
      },
      "execution_count": 23,
      "outputs": [
        {
          "output_type": "stream",
          "name": "stdout",
          "text": [
            "Before Lemmatization : ['i', 'am', 'creating', 'a', 'notebook']\n",
            "After Lemmatization : ['I', 'be', 'create', 'a', 'notebook']\n"
          ]
        }
      ]
    },
    {
      "cell_type": "code",
      "source": [
        "df_temp = df.copy()"
      ],
      "metadata": {
        "id": "eVUOnLER5nif"
      },
      "execution_count": 24,
      "outputs": []
    },
    {
      "cell_type": "code",
      "source": [
        "df_temp.head()"
      ],
      "metadata": {
        "colab": {
          "base_uri": "https://localhost:8080/",
          "height": 206
        },
        "id": "cMnf8tx561t8",
        "outputId": "770b0264-7600-490f-ec9f-67a4aa676d8b"
      },
      "execution_count": 25,
      "outputs": [
        {
          "output_type": "execute_result",
          "data": {
            "text/plain": [
              "                  user_id             business_id                 date  stars  \\\n",
              "0  9OAtfnWag-ajVxRbUTGIyg  lj-E32x9_FA7GmUrBGBEWg  2014-06-27 22:44:01    4.0   \n",
              "1  5h9JA231vPilNAIjHxwGng  lj-E32x9_FA7GmUrBGBEWg  2014-08-24 19:24:26    5.0   \n",
              "2  c1fSI6Dv5lybr0AJh67e7w  lj-E32x9_FA7GmUrBGBEWg  2015-09-24 15:01:11    4.0   \n",
              "3  st-q1iyW3sJm-v0OCrheoQ  lj-E32x9_FA7GmUrBGBEWg  2015-10-17 04:56:25    5.0   \n",
              "4  9qBdzBzoDxLFSMhhGrTWJg  lj-E32x9_FA7GmUrBGBEWg  2016-01-04 16:56:32    4.0   \n",
              "\n",
              "                                             reviews  review_year  \n",
              "0  Love going here for happy hour or dinner!  Gre...         2014  \n",
              "1  My friends at work (connoisseurs of good food ...         2014  \n",
              "2  Great service, relaxing atmosphere and the foo...         2015  \n",
              "3  I went to Brio for the first time on Wednesday...         2015  \n",
              "4  I usually steer clear of the chain restaurants...         2016  "
            ],
            "text/html": [
              "\n",
              "  <div id=\"df-2ef867a8-7690-4eda-877d-7e09b09dc8f4\">\n",
              "    <div class=\"colab-df-container\">\n",
              "      <div>\n",
              "<style scoped>\n",
              "    .dataframe tbody tr th:only-of-type {\n",
              "        vertical-align: middle;\n",
              "    }\n",
              "\n",
              "    .dataframe tbody tr th {\n",
              "        vertical-align: top;\n",
              "    }\n",
              "\n",
              "    .dataframe thead th {\n",
              "        text-align: right;\n",
              "    }\n",
              "</style>\n",
              "<table border=\"1\" class=\"dataframe\">\n",
              "  <thead>\n",
              "    <tr style=\"text-align: right;\">\n",
              "      <th></th>\n",
              "      <th>user_id</th>\n",
              "      <th>business_id</th>\n",
              "      <th>date</th>\n",
              "      <th>stars</th>\n",
              "      <th>reviews</th>\n",
              "      <th>review_year</th>\n",
              "    </tr>\n",
              "  </thead>\n",
              "  <tbody>\n",
              "    <tr>\n",
              "      <th>0</th>\n",
              "      <td>9OAtfnWag-ajVxRbUTGIyg</td>\n",
              "      <td>lj-E32x9_FA7GmUrBGBEWg</td>\n",
              "      <td>2014-06-27 22:44:01</td>\n",
              "      <td>4.0</td>\n",
              "      <td>Love going here for happy hour or dinner!  Gre...</td>\n",
              "      <td>2014</td>\n",
              "    </tr>\n",
              "    <tr>\n",
              "      <th>1</th>\n",
              "      <td>5h9JA231vPilNAIjHxwGng</td>\n",
              "      <td>lj-E32x9_FA7GmUrBGBEWg</td>\n",
              "      <td>2014-08-24 19:24:26</td>\n",
              "      <td>5.0</td>\n",
              "      <td>My friends at work (connoisseurs of good food ...</td>\n",
              "      <td>2014</td>\n",
              "    </tr>\n",
              "    <tr>\n",
              "      <th>2</th>\n",
              "      <td>c1fSI6Dv5lybr0AJh67e7w</td>\n",
              "      <td>lj-E32x9_FA7GmUrBGBEWg</td>\n",
              "      <td>2015-09-24 15:01:11</td>\n",
              "      <td>4.0</td>\n",
              "      <td>Great service, relaxing atmosphere and the foo...</td>\n",
              "      <td>2015</td>\n",
              "    </tr>\n",
              "    <tr>\n",
              "      <th>3</th>\n",
              "      <td>st-q1iyW3sJm-v0OCrheoQ</td>\n",
              "      <td>lj-E32x9_FA7GmUrBGBEWg</td>\n",
              "      <td>2015-10-17 04:56:25</td>\n",
              "      <td>5.0</td>\n",
              "      <td>I went to Brio for the first time on Wednesday...</td>\n",
              "      <td>2015</td>\n",
              "    </tr>\n",
              "    <tr>\n",
              "      <th>4</th>\n",
              "      <td>9qBdzBzoDxLFSMhhGrTWJg</td>\n",
              "      <td>lj-E32x9_FA7GmUrBGBEWg</td>\n",
              "      <td>2016-01-04 16:56:32</td>\n",
              "      <td>4.0</td>\n",
              "      <td>I usually steer clear of the chain restaurants...</td>\n",
              "      <td>2016</td>\n",
              "    </tr>\n",
              "  </tbody>\n",
              "</table>\n",
              "</div>\n",
              "      <button class=\"colab-df-convert\" onclick=\"convertToInteractive('df-2ef867a8-7690-4eda-877d-7e09b09dc8f4')\"\n",
              "              title=\"Convert this dataframe to an interactive table.\"\n",
              "              style=\"display:none;\">\n",
              "        \n",
              "  <svg xmlns=\"http://www.w3.org/2000/svg\" height=\"24px\"viewBox=\"0 0 24 24\"\n",
              "       width=\"24px\">\n",
              "    <path d=\"M0 0h24v24H0V0z\" fill=\"none\"/>\n",
              "    <path d=\"M18.56 5.44l.94 2.06.94-2.06 2.06-.94-2.06-.94-.94-2.06-.94 2.06-2.06.94zm-11 1L8.5 8.5l.94-2.06 2.06-.94-2.06-.94L8.5 2.5l-.94 2.06-2.06.94zm10 10l.94 2.06.94-2.06 2.06-.94-2.06-.94-.94-2.06-.94 2.06-2.06.94z\"/><path d=\"M17.41 7.96l-1.37-1.37c-.4-.4-.92-.59-1.43-.59-.52 0-1.04.2-1.43.59L10.3 9.45l-7.72 7.72c-.78.78-.78 2.05 0 2.83L4 21.41c.39.39.9.59 1.41.59.51 0 1.02-.2 1.41-.59l7.78-7.78 2.81-2.81c.8-.78.8-2.07 0-2.86zM5.41 20L4 18.59l7.72-7.72 1.47 1.35L5.41 20z\"/>\n",
              "  </svg>\n",
              "      </button>\n",
              "      \n",
              "  <style>\n",
              "    .colab-df-container {\n",
              "      display:flex;\n",
              "      flex-wrap:wrap;\n",
              "      gap: 12px;\n",
              "    }\n",
              "\n",
              "    .colab-df-convert {\n",
              "      background-color: #E8F0FE;\n",
              "      border: none;\n",
              "      border-radius: 50%;\n",
              "      cursor: pointer;\n",
              "      display: none;\n",
              "      fill: #1967D2;\n",
              "      height: 32px;\n",
              "      padding: 0 0 0 0;\n",
              "      width: 32px;\n",
              "    }\n",
              "\n",
              "    .colab-df-convert:hover {\n",
              "      background-color: #E2EBFA;\n",
              "      box-shadow: 0px 1px 2px rgba(60, 64, 67, 0.3), 0px 1px 3px 1px rgba(60, 64, 67, 0.15);\n",
              "      fill: #174EA6;\n",
              "    }\n",
              "\n",
              "    [theme=dark] .colab-df-convert {\n",
              "      background-color: #3B4455;\n",
              "      fill: #D2E3FC;\n",
              "    }\n",
              "\n",
              "    [theme=dark] .colab-df-convert:hover {\n",
              "      background-color: #434B5C;\n",
              "      box-shadow: 0px 1px 3px 1px rgba(0, 0, 0, 0.15);\n",
              "      filter: drop-shadow(0px 1px 2px rgba(0, 0, 0, 0.3));\n",
              "      fill: #FFFFFF;\n",
              "    }\n",
              "  </style>\n",
              "\n",
              "      <script>\n",
              "        const buttonEl =\n",
              "          document.querySelector('#df-2ef867a8-7690-4eda-877d-7e09b09dc8f4 button.colab-df-convert');\n",
              "        buttonEl.style.display =\n",
              "          google.colab.kernel.accessAllowed ? 'block' : 'none';\n",
              "\n",
              "        async function convertToInteractive(key) {\n",
              "          const element = document.querySelector('#df-2ef867a8-7690-4eda-877d-7e09b09dc8f4');\n",
              "          const dataTable =\n",
              "            await google.colab.kernel.invokeFunction('convertToInteractive',\n",
              "                                                     [key], {});\n",
              "          if (!dataTable) return;\n",
              "\n",
              "          const docLinkHtml = 'Like what you see? Visit the ' +\n",
              "            '<a target=\"_blank\" href=https://colab.research.google.com/notebooks/data_table.ipynb>data table notebook</a>'\n",
              "            + ' to learn more about interactive tables.';\n",
              "          element.innerHTML = '';\n",
              "          dataTable['output_type'] = 'display_data';\n",
              "          await google.colab.output.renderOutput(dataTable, element);\n",
              "          const docLink = document.createElement('div');\n",
              "          docLink.innerHTML = docLinkHtml;\n",
              "          element.appendChild(docLink);\n",
              "        }\n",
              "      </script>\n",
              "    </div>\n",
              "  </div>\n",
              "  "
            ]
          },
          "metadata": {},
          "execution_count": 25
        }
      ]
    },
    {
      "cell_type": "code",
      "source": [
        "df_temp['stars'] = df['stars'].astype('int')"
      ],
      "metadata": {
        "id": "AfEVyuTp8MJ1"
      },
      "execution_count": 26,
      "outputs": []
    },
    {
      "cell_type": "code",
      "source": [
        "df_temp.head()"
      ],
      "metadata": {
        "colab": {
          "base_uri": "https://localhost:8080/",
          "height": 206
        },
        "id": "7OjMzCYx8RL1",
        "outputId": "6fd0a1dc-c92d-4033-c0b7-408b2a2794e4"
      },
      "execution_count": 27,
      "outputs": [
        {
          "output_type": "execute_result",
          "data": {
            "text/plain": [
              "                  user_id             business_id                 date  stars  \\\n",
              "0  9OAtfnWag-ajVxRbUTGIyg  lj-E32x9_FA7GmUrBGBEWg  2014-06-27 22:44:01      4   \n",
              "1  5h9JA231vPilNAIjHxwGng  lj-E32x9_FA7GmUrBGBEWg  2014-08-24 19:24:26      5   \n",
              "2  c1fSI6Dv5lybr0AJh67e7w  lj-E32x9_FA7GmUrBGBEWg  2015-09-24 15:01:11      4   \n",
              "3  st-q1iyW3sJm-v0OCrheoQ  lj-E32x9_FA7GmUrBGBEWg  2015-10-17 04:56:25      5   \n",
              "4  9qBdzBzoDxLFSMhhGrTWJg  lj-E32x9_FA7GmUrBGBEWg  2016-01-04 16:56:32      4   \n",
              "\n",
              "                                             reviews  review_year  \n",
              "0  Love going here for happy hour or dinner!  Gre...         2014  \n",
              "1  My friends at work (connoisseurs of good food ...         2014  \n",
              "2  Great service, relaxing atmosphere and the foo...         2015  \n",
              "3  I went to Brio for the first time on Wednesday...         2015  \n",
              "4  I usually steer clear of the chain restaurants...         2016  "
            ],
            "text/html": [
              "\n",
              "  <div id=\"df-3b898db1-09be-45ae-819a-ab9101d3a406\">\n",
              "    <div class=\"colab-df-container\">\n",
              "      <div>\n",
              "<style scoped>\n",
              "    .dataframe tbody tr th:only-of-type {\n",
              "        vertical-align: middle;\n",
              "    }\n",
              "\n",
              "    .dataframe tbody tr th {\n",
              "        vertical-align: top;\n",
              "    }\n",
              "\n",
              "    .dataframe thead th {\n",
              "        text-align: right;\n",
              "    }\n",
              "</style>\n",
              "<table border=\"1\" class=\"dataframe\">\n",
              "  <thead>\n",
              "    <tr style=\"text-align: right;\">\n",
              "      <th></th>\n",
              "      <th>user_id</th>\n",
              "      <th>business_id</th>\n",
              "      <th>date</th>\n",
              "      <th>stars</th>\n",
              "      <th>reviews</th>\n",
              "      <th>review_year</th>\n",
              "    </tr>\n",
              "  </thead>\n",
              "  <tbody>\n",
              "    <tr>\n",
              "      <th>0</th>\n",
              "      <td>9OAtfnWag-ajVxRbUTGIyg</td>\n",
              "      <td>lj-E32x9_FA7GmUrBGBEWg</td>\n",
              "      <td>2014-06-27 22:44:01</td>\n",
              "      <td>4</td>\n",
              "      <td>Love going here for happy hour or dinner!  Gre...</td>\n",
              "      <td>2014</td>\n",
              "    </tr>\n",
              "    <tr>\n",
              "      <th>1</th>\n",
              "      <td>5h9JA231vPilNAIjHxwGng</td>\n",
              "      <td>lj-E32x9_FA7GmUrBGBEWg</td>\n",
              "      <td>2014-08-24 19:24:26</td>\n",
              "      <td>5</td>\n",
              "      <td>My friends at work (connoisseurs of good food ...</td>\n",
              "      <td>2014</td>\n",
              "    </tr>\n",
              "    <tr>\n",
              "      <th>2</th>\n",
              "      <td>c1fSI6Dv5lybr0AJh67e7w</td>\n",
              "      <td>lj-E32x9_FA7GmUrBGBEWg</td>\n",
              "      <td>2015-09-24 15:01:11</td>\n",
              "      <td>4</td>\n",
              "      <td>Great service, relaxing atmosphere and the foo...</td>\n",
              "      <td>2015</td>\n",
              "    </tr>\n",
              "    <tr>\n",
              "      <th>3</th>\n",
              "      <td>st-q1iyW3sJm-v0OCrheoQ</td>\n",
              "      <td>lj-E32x9_FA7GmUrBGBEWg</td>\n",
              "      <td>2015-10-17 04:56:25</td>\n",
              "      <td>5</td>\n",
              "      <td>I went to Brio for the first time on Wednesday...</td>\n",
              "      <td>2015</td>\n",
              "    </tr>\n",
              "    <tr>\n",
              "      <th>4</th>\n",
              "      <td>9qBdzBzoDxLFSMhhGrTWJg</td>\n",
              "      <td>lj-E32x9_FA7GmUrBGBEWg</td>\n",
              "      <td>2016-01-04 16:56:32</td>\n",
              "      <td>4</td>\n",
              "      <td>I usually steer clear of the chain restaurants...</td>\n",
              "      <td>2016</td>\n",
              "    </tr>\n",
              "  </tbody>\n",
              "</table>\n",
              "</div>\n",
              "      <button class=\"colab-df-convert\" onclick=\"convertToInteractive('df-3b898db1-09be-45ae-819a-ab9101d3a406')\"\n",
              "              title=\"Convert this dataframe to an interactive table.\"\n",
              "              style=\"display:none;\">\n",
              "        \n",
              "  <svg xmlns=\"http://www.w3.org/2000/svg\" height=\"24px\"viewBox=\"0 0 24 24\"\n",
              "       width=\"24px\">\n",
              "    <path d=\"M0 0h24v24H0V0z\" fill=\"none\"/>\n",
              "    <path d=\"M18.56 5.44l.94 2.06.94-2.06 2.06-.94-2.06-.94-.94-2.06-.94 2.06-2.06.94zm-11 1L8.5 8.5l.94-2.06 2.06-.94-2.06-.94L8.5 2.5l-.94 2.06-2.06.94zm10 10l.94 2.06.94-2.06 2.06-.94-2.06-.94-.94-2.06-.94 2.06-2.06.94z\"/><path d=\"M17.41 7.96l-1.37-1.37c-.4-.4-.92-.59-1.43-.59-.52 0-1.04.2-1.43.59L10.3 9.45l-7.72 7.72c-.78.78-.78 2.05 0 2.83L4 21.41c.39.39.9.59 1.41.59.51 0 1.02-.2 1.41-.59l7.78-7.78 2.81-2.81c.8-.78.8-2.07 0-2.86zM5.41 20L4 18.59l7.72-7.72 1.47 1.35L5.41 20z\"/>\n",
              "  </svg>\n",
              "      </button>\n",
              "      \n",
              "  <style>\n",
              "    .colab-df-container {\n",
              "      display:flex;\n",
              "      flex-wrap:wrap;\n",
              "      gap: 12px;\n",
              "    }\n",
              "\n",
              "    .colab-df-convert {\n",
              "      background-color: #E8F0FE;\n",
              "      border: none;\n",
              "      border-radius: 50%;\n",
              "      cursor: pointer;\n",
              "      display: none;\n",
              "      fill: #1967D2;\n",
              "      height: 32px;\n",
              "      padding: 0 0 0 0;\n",
              "      width: 32px;\n",
              "    }\n",
              "\n",
              "    .colab-df-convert:hover {\n",
              "      background-color: #E2EBFA;\n",
              "      box-shadow: 0px 1px 2px rgba(60, 64, 67, 0.3), 0px 1px 3px 1px rgba(60, 64, 67, 0.15);\n",
              "      fill: #174EA6;\n",
              "    }\n",
              "\n",
              "    [theme=dark] .colab-df-convert {\n",
              "      background-color: #3B4455;\n",
              "      fill: #D2E3FC;\n",
              "    }\n",
              "\n",
              "    [theme=dark] .colab-df-convert:hover {\n",
              "      background-color: #434B5C;\n",
              "      box-shadow: 0px 1px 3px 1px rgba(0, 0, 0, 0.15);\n",
              "      filter: drop-shadow(0px 1px 2px rgba(0, 0, 0, 0.3));\n",
              "      fill: #FFFFFF;\n",
              "    }\n",
              "  </style>\n",
              "\n",
              "      <script>\n",
              "        const buttonEl =\n",
              "          document.querySelector('#df-3b898db1-09be-45ae-819a-ab9101d3a406 button.colab-df-convert');\n",
              "        buttonEl.style.display =\n",
              "          google.colab.kernel.accessAllowed ? 'block' : 'none';\n",
              "\n",
              "        async function convertToInteractive(key) {\n",
              "          const element = document.querySelector('#df-3b898db1-09be-45ae-819a-ab9101d3a406');\n",
              "          const dataTable =\n",
              "            await google.colab.kernel.invokeFunction('convertToInteractive',\n",
              "                                                     [key], {});\n",
              "          if (!dataTable) return;\n",
              "\n",
              "          const docLinkHtml = 'Like what you see? Visit the ' +\n",
              "            '<a target=\"_blank\" href=https://colab.research.google.com/notebooks/data_table.ipynb>data table notebook</a>'\n",
              "            + ' to learn more about interactive tables.';\n",
              "          element.innerHTML = '';\n",
              "          dataTable['output_type'] = 'display_data';\n",
              "          await google.colab.output.renderOutput(dataTable, element);\n",
              "          const docLink = document.createElement('div');\n",
              "          docLink.innerHTML = docLinkHtml;\n",
              "          element.appendChild(docLink);\n",
              "        }\n",
              "      </script>\n",
              "    </div>\n",
              "  </div>\n",
              "  "
            ]
          },
          "metadata": {},
          "execution_count": 27
        }
      ]
    },
    {
      "cell_type": "code",
      "source": [
        "df_temp.describe()"
      ],
      "metadata": {
        "colab": {
          "base_uri": "https://localhost:8080/",
          "height": 300
        },
        "id": "SWDt9D8wMQwH",
        "outputId": "53018e3a-56ee-4891-bc24-2f95b494bd9c"
      },
      "execution_count": 28,
      "outputs": [
        {
          "output_type": "execute_result",
          "data": {
            "text/plain": [
              "               stars    review_year\n",
              "count  292376.000000  292376.000000\n",
              "mean        3.787113    2016.096964\n",
              "std         1.368116       3.196996\n",
              "min         1.000000    2005.000000\n",
              "25%         3.000000    2014.000000\n",
              "50%         4.000000    2016.000000\n",
              "75%         5.000000    2019.000000\n",
              "max         5.000000    2022.000000"
            ],
            "text/html": [
              "\n",
              "  <div id=\"df-1881fb80-a42f-40ae-b22e-8a5be59c4fd5\">\n",
              "    <div class=\"colab-df-container\">\n",
              "      <div>\n",
              "<style scoped>\n",
              "    .dataframe tbody tr th:only-of-type {\n",
              "        vertical-align: middle;\n",
              "    }\n",
              "\n",
              "    .dataframe tbody tr th {\n",
              "        vertical-align: top;\n",
              "    }\n",
              "\n",
              "    .dataframe thead th {\n",
              "        text-align: right;\n",
              "    }\n",
              "</style>\n",
              "<table border=\"1\" class=\"dataframe\">\n",
              "  <thead>\n",
              "    <tr style=\"text-align: right;\">\n",
              "      <th></th>\n",
              "      <th>stars</th>\n",
              "      <th>review_year</th>\n",
              "    </tr>\n",
              "  </thead>\n",
              "  <tbody>\n",
              "    <tr>\n",
              "      <th>count</th>\n",
              "      <td>292376.000000</td>\n",
              "      <td>292376.000000</td>\n",
              "    </tr>\n",
              "    <tr>\n",
              "      <th>mean</th>\n",
              "      <td>3.787113</td>\n",
              "      <td>2016.096964</td>\n",
              "    </tr>\n",
              "    <tr>\n",
              "      <th>std</th>\n",
              "      <td>1.368116</td>\n",
              "      <td>3.196996</td>\n",
              "    </tr>\n",
              "    <tr>\n",
              "      <th>min</th>\n",
              "      <td>1.000000</td>\n",
              "      <td>2005.000000</td>\n",
              "    </tr>\n",
              "    <tr>\n",
              "      <th>25%</th>\n",
              "      <td>3.000000</td>\n",
              "      <td>2014.000000</td>\n",
              "    </tr>\n",
              "    <tr>\n",
              "      <th>50%</th>\n",
              "      <td>4.000000</td>\n",
              "      <td>2016.000000</td>\n",
              "    </tr>\n",
              "    <tr>\n",
              "      <th>75%</th>\n",
              "      <td>5.000000</td>\n",
              "      <td>2019.000000</td>\n",
              "    </tr>\n",
              "    <tr>\n",
              "      <th>max</th>\n",
              "      <td>5.000000</td>\n",
              "      <td>2022.000000</td>\n",
              "    </tr>\n",
              "  </tbody>\n",
              "</table>\n",
              "</div>\n",
              "      <button class=\"colab-df-convert\" onclick=\"convertToInteractive('df-1881fb80-a42f-40ae-b22e-8a5be59c4fd5')\"\n",
              "              title=\"Convert this dataframe to an interactive table.\"\n",
              "              style=\"display:none;\">\n",
              "        \n",
              "  <svg xmlns=\"http://www.w3.org/2000/svg\" height=\"24px\"viewBox=\"0 0 24 24\"\n",
              "       width=\"24px\">\n",
              "    <path d=\"M0 0h24v24H0V0z\" fill=\"none\"/>\n",
              "    <path d=\"M18.56 5.44l.94 2.06.94-2.06 2.06-.94-2.06-.94-.94-2.06-.94 2.06-2.06.94zm-11 1L8.5 8.5l.94-2.06 2.06-.94-2.06-.94L8.5 2.5l-.94 2.06-2.06.94zm10 10l.94 2.06.94-2.06 2.06-.94-2.06-.94-.94-2.06-.94 2.06-2.06.94z\"/><path d=\"M17.41 7.96l-1.37-1.37c-.4-.4-.92-.59-1.43-.59-.52 0-1.04.2-1.43.59L10.3 9.45l-7.72 7.72c-.78.78-.78 2.05 0 2.83L4 21.41c.39.39.9.59 1.41.59.51 0 1.02-.2 1.41-.59l7.78-7.78 2.81-2.81c.8-.78.8-2.07 0-2.86zM5.41 20L4 18.59l7.72-7.72 1.47 1.35L5.41 20z\"/>\n",
              "  </svg>\n",
              "      </button>\n",
              "      \n",
              "  <style>\n",
              "    .colab-df-container {\n",
              "      display:flex;\n",
              "      flex-wrap:wrap;\n",
              "      gap: 12px;\n",
              "    }\n",
              "\n",
              "    .colab-df-convert {\n",
              "      background-color: #E8F0FE;\n",
              "      border: none;\n",
              "      border-radius: 50%;\n",
              "      cursor: pointer;\n",
              "      display: none;\n",
              "      fill: #1967D2;\n",
              "      height: 32px;\n",
              "      padding: 0 0 0 0;\n",
              "      width: 32px;\n",
              "    }\n",
              "\n",
              "    .colab-df-convert:hover {\n",
              "      background-color: #E2EBFA;\n",
              "      box-shadow: 0px 1px 2px rgba(60, 64, 67, 0.3), 0px 1px 3px 1px rgba(60, 64, 67, 0.15);\n",
              "      fill: #174EA6;\n",
              "    }\n",
              "\n",
              "    [theme=dark] .colab-df-convert {\n",
              "      background-color: #3B4455;\n",
              "      fill: #D2E3FC;\n",
              "    }\n",
              "\n",
              "    [theme=dark] .colab-df-convert:hover {\n",
              "      background-color: #434B5C;\n",
              "      box-shadow: 0px 1px 3px 1px rgba(0, 0, 0, 0.15);\n",
              "      filter: drop-shadow(0px 1px 2px rgba(0, 0, 0, 0.3));\n",
              "      fill: #FFFFFF;\n",
              "    }\n",
              "  </style>\n",
              "\n",
              "      <script>\n",
              "        const buttonEl =\n",
              "          document.querySelector('#df-1881fb80-a42f-40ae-b22e-8a5be59c4fd5 button.colab-df-convert');\n",
              "        buttonEl.style.display =\n",
              "          google.colab.kernel.accessAllowed ? 'block' : 'none';\n",
              "\n",
              "        async function convertToInteractive(key) {\n",
              "          const element = document.querySelector('#df-1881fb80-a42f-40ae-b22e-8a5be59c4fd5');\n",
              "          const dataTable =\n",
              "            await google.colab.kernel.invokeFunction('convertToInteractive',\n",
              "                                                     [key], {});\n",
              "          if (!dataTable) return;\n",
              "\n",
              "          const docLinkHtml = 'Like what you see? Visit the ' +\n",
              "            '<a target=\"_blank\" href=https://colab.research.google.com/notebooks/data_table.ipynb>data table notebook</a>'\n",
              "            + ' to learn more about interactive tables.';\n",
              "          element.innerHTML = '';\n",
              "          dataTable['output_type'] = 'display_data';\n",
              "          await google.colab.output.renderOutput(dataTable, element);\n",
              "          const docLink = document.createElement('div');\n",
              "          docLink.innerHTML = docLinkHtml;\n",
              "          element.appendChild(docLink);\n",
              "        }\n",
              "      </script>\n",
              "    </div>\n",
              "  </div>\n",
              "  "
            ]
          },
          "metadata": {},
          "execution_count": 28
        }
      ]
    },
    {
      "cell_type": "code",
      "source": [
        "# Assigning labels to each review\n",
        "\n",
        "def label(stars):\n",
        "    if stars == 5:\n",
        "        return 1\n",
        "    elif stars == 4:\n",
        "        return 1\n",
        "    else:\n",
        "        return 0\n",
        "    \n",
        "from tqdm import tqdm\n",
        "\n",
        "tqdm.pandas()\n",
        "\n",
        "df_temp['y'] = df_temp.stars.progress_map(label)"
      ],
      "metadata": {
        "colab": {
          "base_uri": "https://localhost:8080/"
        },
        "id": "zG6ulFy25ndX",
        "outputId": "0f7bba0f-0752-4602-ad25-d7fdad5fd5da"
      },
      "execution_count": 29,
      "outputs": [
        {
          "output_type": "stream",
          "name": "stderr",
          "text": [
            "100%|██████████| 292376/292376 [00:00<00:00, 749332.79it/s]\n"
          ]
        }
      ]
    },
    {
      "cell_type": "code",
      "source": [
        "df_temp = df_temp[['user_id', 'business_id', 'date', 'review_year', 'reviews', 'y', 'stars']]"
      ],
      "metadata": {
        "id": "vcIUiWCR5nXZ"
      },
      "execution_count": 30,
      "outputs": []
    },
    {
      "cell_type": "code",
      "source": [
        "df_temp.head()"
      ],
      "metadata": {
        "colab": {
          "base_uri": "https://localhost:8080/",
          "height": 206
        },
        "id": "cIIp1XwZ5nQ9",
        "outputId": "a4476cfd-f322-4320-94b8-abcb83132158"
      },
      "execution_count": 31,
      "outputs": [
        {
          "output_type": "execute_result",
          "data": {
            "text/plain": [
              "                  user_id             business_id                 date  \\\n",
              "0  9OAtfnWag-ajVxRbUTGIyg  lj-E32x9_FA7GmUrBGBEWg  2014-06-27 22:44:01   \n",
              "1  5h9JA231vPilNAIjHxwGng  lj-E32x9_FA7GmUrBGBEWg  2014-08-24 19:24:26   \n",
              "2  c1fSI6Dv5lybr0AJh67e7w  lj-E32x9_FA7GmUrBGBEWg  2015-09-24 15:01:11   \n",
              "3  st-q1iyW3sJm-v0OCrheoQ  lj-E32x9_FA7GmUrBGBEWg  2015-10-17 04:56:25   \n",
              "4  9qBdzBzoDxLFSMhhGrTWJg  lj-E32x9_FA7GmUrBGBEWg  2016-01-04 16:56:32   \n",
              "\n",
              "   review_year                                            reviews  y  stars  \n",
              "0         2014  Love going here for happy hour or dinner!  Gre...  1      4  \n",
              "1         2014  My friends at work (connoisseurs of good food ...  1      5  \n",
              "2         2015  Great service, relaxing atmosphere and the foo...  1      4  \n",
              "3         2015  I went to Brio for the first time on Wednesday...  1      5  \n",
              "4         2016  I usually steer clear of the chain restaurants...  1      4  "
            ],
            "text/html": [
              "\n",
              "  <div id=\"df-0ecfd76b-5032-4382-816c-3f8578a4d679\">\n",
              "    <div class=\"colab-df-container\">\n",
              "      <div>\n",
              "<style scoped>\n",
              "    .dataframe tbody tr th:only-of-type {\n",
              "        vertical-align: middle;\n",
              "    }\n",
              "\n",
              "    .dataframe tbody tr th {\n",
              "        vertical-align: top;\n",
              "    }\n",
              "\n",
              "    .dataframe thead th {\n",
              "        text-align: right;\n",
              "    }\n",
              "</style>\n",
              "<table border=\"1\" class=\"dataframe\">\n",
              "  <thead>\n",
              "    <tr style=\"text-align: right;\">\n",
              "      <th></th>\n",
              "      <th>user_id</th>\n",
              "      <th>business_id</th>\n",
              "      <th>date</th>\n",
              "      <th>review_year</th>\n",
              "      <th>reviews</th>\n",
              "      <th>y</th>\n",
              "      <th>stars</th>\n",
              "    </tr>\n",
              "  </thead>\n",
              "  <tbody>\n",
              "    <tr>\n",
              "      <th>0</th>\n",
              "      <td>9OAtfnWag-ajVxRbUTGIyg</td>\n",
              "      <td>lj-E32x9_FA7GmUrBGBEWg</td>\n",
              "      <td>2014-06-27 22:44:01</td>\n",
              "      <td>2014</td>\n",
              "      <td>Love going here for happy hour or dinner!  Gre...</td>\n",
              "      <td>1</td>\n",
              "      <td>4</td>\n",
              "    </tr>\n",
              "    <tr>\n",
              "      <th>1</th>\n",
              "      <td>5h9JA231vPilNAIjHxwGng</td>\n",
              "      <td>lj-E32x9_FA7GmUrBGBEWg</td>\n",
              "      <td>2014-08-24 19:24:26</td>\n",
              "      <td>2014</td>\n",
              "      <td>My friends at work (connoisseurs of good food ...</td>\n",
              "      <td>1</td>\n",
              "      <td>5</td>\n",
              "    </tr>\n",
              "    <tr>\n",
              "      <th>2</th>\n",
              "      <td>c1fSI6Dv5lybr0AJh67e7w</td>\n",
              "      <td>lj-E32x9_FA7GmUrBGBEWg</td>\n",
              "      <td>2015-09-24 15:01:11</td>\n",
              "      <td>2015</td>\n",
              "      <td>Great service, relaxing atmosphere and the foo...</td>\n",
              "      <td>1</td>\n",
              "      <td>4</td>\n",
              "    </tr>\n",
              "    <tr>\n",
              "      <th>3</th>\n",
              "      <td>st-q1iyW3sJm-v0OCrheoQ</td>\n",
              "      <td>lj-E32x9_FA7GmUrBGBEWg</td>\n",
              "      <td>2015-10-17 04:56:25</td>\n",
              "      <td>2015</td>\n",
              "      <td>I went to Brio for the first time on Wednesday...</td>\n",
              "      <td>1</td>\n",
              "      <td>5</td>\n",
              "    </tr>\n",
              "    <tr>\n",
              "      <th>4</th>\n",
              "      <td>9qBdzBzoDxLFSMhhGrTWJg</td>\n",
              "      <td>lj-E32x9_FA7GmUrBGBEWg</td>\n",
              "      <td>2016-01-04 16:56:32</td>\n",
              "      <td>2016</td>\n",
              "      <td>I usually steer clear of the chain restaurants...</td>\n",
              "      <td>1</td>\n",
              "      <td>4</td>\n",
              "    </tr>\n",
              "  </tbody>\n",
              "</table>\n",
              "</div>\n",
              "      <button class=\"colab-df-convert\" onclick=\"convertToInteractive('df-0ecfd76b-5032-4382-816c-3f8578a4d679')\"\n",
              "              title=\"Convert this dataframe to an interactive table.\"\n",
              "              style=\"display:none;\">\n",
              "        \n",
              "  <svg xmlns=\"http://www.w3.org/2000/svg\" height=\"24px\"viewBox=\"0 0 24 24\"\n",
              "       width=\"24px\">\n",
              "    <path d=\"M0 0h24v24H0V0z\" fill=\"none\"/>\n",
              "    <path d=\"M18.56 5.44l.94 2.06.94-2.06 2.06-.94-2.06-.94-.94-2.06-.94 2.06-2.06.94zm-11 1L8.5 8.5l.94-2.06 2.06-.94-2.06-.94L8.5 2.5l-.94 2.06-2.06.94zm10 10l.94 2.06.94-2.06 2.06-.94-2.06-.94-.94-2.06-.94 2.06-2.06.94z\"/><path d=\"M17.41 7.96l-1.37-1.37c-.4-.4-.92-.59-1.43-.59-.52 0-1.04.2-1.43.59L10.3 9.45l-7.72 7.72c-.78.78-.78 2.05 0 2.83L4 21.41c.39.39.9.59 1.41.59.51 0 1.02-.2 1.41-.59l7.78-7.78 2.81-2.81c.8-.78.8-2.07 0-2.86zM5.41 20L4 18.59l7.72-7.72 1.47 1.35L5.41 20z\"/>\n",
              "  </svg>\n",
              "      </button>\n",
              "      \n",
              "  <style>\n",
              "    .colab-df-container {\n",
              "      display:flex;\n",
              "      flex-wrap:wrap;\n",
              "      gap: 12px;\n",
              "    }\n",
              "\n",
              "    .colab-df-convert {\n",
              "      background-color: #E8F0FE;\n",
              "      border: none;\n",
              "      border-radius: 50%;\n",
              "      cursor: pointer;\n",
              "      display: none;\n",
              "      fill: #1967D2;\n",
              "      height: 32px;\n",
              "      padding: 0 0 0 0;\n",
              "      width: 32px;\n",
              "    }\n",
              "\n",
              "    .colab-df-convert:hover {\n",
              "      background-color: #E2EBFA;\n",
              "      box-shadow: 0px 1px 2px rgba(60, 64, 67, 0.3), 0px 1px 3px 1px rgba(60, 64, 67, 0.15);\n",
              "      fill: #174EA6;\n",
              "    }\n",
              "\n",
              "    [theme=dark] .colab-df-convert {\n",
              "      background-color: #3B4455;\n",
              "      fill: #D2E3FC;\n",
              "    }\n",
              "\n",
              "    [theme=dark] .colab-df-convert:hover {\n",
              "      background-color: #434B5C;\n",
              "      box-shadow: 0px 1px 3px 1px rgba(0, 0, 0, 0.15);\n",
              "      filter: drop-shadow(0px 1px 2px rgba(0, 0, 0, 0.3));\n",
              "      fill: #FFFFFF;\n",
              "    }\n",
              "  </style>\n",
              "\n",
              "      <script>\n",
              "        const buttonEl =\n",
              "          document.querySelector('#df-0ecfd76b-5032-4382-816c-3f8578a4d679 button.colab-df-convert');\n",
              "        buttonEl.style.display =\n",
              "          google.colab.kernel.accessAllowed ? 'block' : 'none';\n",
              "\n",
              "        async function convertToInteractive(key) {\n",
              "          const element = document.querySelector('#df-0ecfd76b-5032-4382-816c-3f8578a4d679');\n",
              "          const dataTable =\n",
              "            await google.colab.kernel.invokeFunction('convertToInteractive',\n",
              "                                                     [key], {});\n",
              "          if (!dataTable) return;\n",
              "\n",
              "          const docLinkHtml = 'Like what you see? Visit the ' +\n",
              "            '<a target=\"_blank\" href=https://colab.research.google.com/notebooks/data_table.ipynb>data table notebook</a>'\n",
              "            + ' to learn more about interactive tables.';\n",
              "          element.innerHTML = '';\n",
              "          dataTable['output_type'] = 'display_data';\n",
              "          await google.colab.output.renderOutput(dataTable, element);\n",
              "          const docLink = document.createElement('div');\n",
              "          docLink.innerHTML = docLinkHtml;\n",
              "          element.appendChild(docLink);\n",
              "        }\n",
              "      </script>\n",
              "    </div>\n",
              "  </div>\n",
              "  "
            ]
          },
          "metadata": {},
          "execution_count": 31
        }
      ]
    },
    {
      "cell_type": "code",
      "source": [
        "df_temp.describe()"
      ],
      "metadata": {
        "id": "qL0liLPQ97il",
        "colab": {
          "base_uri": "https://localhost:8080/",
          "height": 300
        },
        "outputId": "a4ecb337-1c1f-477f-f33e-8047fce03416"
      },
      "execution_count": 32,
      "outputs": [
        {
          "output_type": "execute_result",
          "data": {
            "text/plain": [
              "         review_year              y          stars\n",
              "count  292376.000000  292376.000000  292376.000000\n",
              "mean     2016.096964       0.676851       3.787113\n",
              "std         3.196996       0.467680       1.368116\n",
              "min      2005.000000       0.000000       1.000000\n",
              "25%      2014.000000       0.000000       3.000000\n",
              "50%      2016.000000       1.000000       4.000000\n",
              "75%      2019.000000       1.000000       5.000000\n",
              "max      2022.000000       1.000000       5.000000"
            ],
            "text/html": [
              "\n",
              "  <div id=\"df-90d4d298-3fbb-467e-9581-de8495f6a8e7\">\n",
              "    <div class=\"colab-df-container\">\n",
              "      <div>\n",
              "<style scoped>\n",
              "    .dataframe tbody tr th:only-of-type {\n",
              "        vertical-align: middle;\n",
              "    }\n",
              "\n",
              "    .dataframe tbody tr th {\n",
              "        vertical-align: top;\n",
              "    }\n",
              "\n",
              "    .dataframe thead th {\n",
              "        text-align: right;\n",
              "    }\n",
              "</style>\n",
              "<table border=\"1\" class=\"dataframe\">\n",
              "  <thead>\n",
              "    <tr style=\"text-align: right;\">\n",
              "      <th></th>\n",
              "      <th>review_year</th>\n",
              "      <th>y</th>\n",
              "      <th>stars</th>\n",
              "    </tr>\n",
              "  </thead>\n",
              "  <tbody>\n",
              "    <tr>\n",
              "      <th>count</th>\n",
              "      <td>292376.000000</td>\n",
              "      <td>292376.000000</td>\n",
              "      <td>292376.000000</td>\n",
              "    </tr>\n",
              "    <tr>\n",
              "      <th>mean</th>\n",
              "      <td>2016.096964</td>\n",
              "      <td>0.676851</td>\n",
              "      <td>3.787113</td>\n",
              "    </tr>\n",
              "    <tr>\n",
              "      <th>std</th>\n",
              "      <td>3.196996</td>\n",
              "      <td>0.467680</td>\n",
              "      <td>1.368116</td>\n",
              "    </tr>\n",
              "    <tr>\n",
              "      <th>min</th>\n",
              "      <td>2005.000000</td>\n",
              "      <td>0.000000</td>\n",
              "      <td>1.000000</td>\n",
              "    </tr>\n",
              "    <tr>\n",
              "      <th>25%</th>\n",
              "      <td>2014.000000</td>\n",
              "      <td>0.000000</td>\n",
              "      <td>3.000000</td>\n",
              "    </tr>\n",
              "    <tr>\n",
              "      <th>50%</th>\n",
              "      <td>2016.000000</td>\n",
              "      <td>1.000000</td>\n",
              "      <td>4.000000</td>\n",
              "    </tr>\n",
              "    <tr>\n",
              "      <th>75%</th>\n",
              "      <td>2019.000000</td>\n",
              "      <td>1.000000</td>\n",
              "      <td>5.000000</td>\n",
              "    </tr>\n",
              "    <tr>\n",
              "      <th>max</th>\n",
              "      <td>2022.000000</td>\n",
              "      <td>1.000000</td>\n",
              "      <td>5.000000</td>\n",
              "    </tr>\n",
              "  </tbody>\n",
              "</table>\n",
              "</div>\n",
              "      <button class=\"colab-df-convert\" onclick=\"convertToInteractive('df-90d4d298-3fbb-467e-9581-de8495f6a8e7')\"\n",
              "              title=\"Convert this dataframe to an interactive table.\"\n",
              "              style=\"display:none;\">\n",
              "        \n",
              "  <svg xmlns=\"http://www.w3.org/2000/svg\" height=\"24px\"viewBox=\"0 0 24 24\"\n",
              "       width=\"24px\">\n",
              "    <path d=\"M0 0h24v24H0V0z\" fill=\"none\"/>\n",
              "    <path d=\"M18.56 5.44l.94 2.06.94-2.06 2.06-.94-2.06-.94-.94-2.06-.94 2.06-2.06.94zm-11 1L8.5 8.5l.94-2.06 2.06-.94-2.06-.94L8.5 2.5l-.94 2.06-2.06.94zm10 10l.94 2.06.94-2.06 2.06-.94-2.06-.94-.94-2.06-.94 2.06-2.06.94z\"/><path d=\"M17.41 7.96l-1.37-1.37c-.4-.4-.92-.59-1.43-.59-.52 0-1.04.2-1.43.59L10.3 9.45l-7.72 7.72c-.78.78-.78 2.05 0 2.83L4 21.41c.39.39.9.59 1.41.59.51 0 1.02-.2 1.41-.59l7.78-7.78 2.81-2.81c.8-.78.8-2.07 0-2.86zM5.41 20L4 18.59l7.72-7.72 1.47 1.35L5.41 20z\"/>\n",
              "  </svg>\n",
              "      </button>\n",
              "      \n",
              "  <style>\n",
              "    .colab-df-container {\n",
              "      display:flex;\n",
              "      flex-wrap:wrap;\n",
              "      gap: 12px;\n",
              "    }\n",
              "\n",
              "    .colab-df-convert {\n",
              "      background-color: #E8F0FE;\n",
              "      border: none;\n",
              "      border-radius: 50%;\n",
              "      cursor: pointer;\n",
              "      display: none;\n",
              "      fill: #1967D2;\n",
              "      height: 32px;\n",
              "      padding: 0 0 0 0;\n",
              "      width: 32px;\n",
              "    }\n",
              "\n",
              "    .colab-df-convert:hover {\n",
              "      background-color: #E2EBFA;\n",
              "      box-shadow: 0px 1px 2px rgba(60, 64, 67, 0.3), 0px 1px 3px 1px rgba(60, 64, 67, 0.15);\n",
              "      fill: #174EA6;\n",
              "    }\n",
              "\n",
              "    [theme=dark] .colab-df-convert {\n",
              "      background-color: #3B4455;\n",
              "      fill: #D2E3FC;\n",
              "    }\n",
              "\n",
              "    [theme=dark] .colab-df-convert:hover {\n",
              "      background-color: #434B5C;\n",
              "      box-shadow: 0px 1px 3px 1px rgba(0, 0, 0, 0.15);\n",
              "      filter: drop-shadow(0px 1px 2px rgba(0, 0, 0, 0.3));\n",
              "      fill: #FFFFFF;\n",
              "    }\n",
              "  </style>\n",
              "\n",
              "      <script>\n",
              "        const buttonEl =\n",
              "          document.querySelector('#df-90d4d298-3fbb-467e-9581-de8495f6a8e7 button.colab-df-convert');\n",
              "        buttonEl.style.display =\n",
              "          google.colab.kernel.accessAllowed ? 'block' : 'none';\n",
              "\n",
              "        async function convertToInteractive(key) {\n",
              "          const element = document.querySelector('#df-90d4d298-3fbb-467e-9581-de8495f6a8e7');\n",
              "          const dataTable =\n",
              "            await google.colab.kernel.invokeFunction('convertToInteractive',\n",
              "                                                     [key], {});\n",
              "          if (!dataTable) return;\n",
              "\n",
              "          const docLinkHtml = 'Like what you see? Visit the ' +\n",
              "            '<a target=\"_blank\" href=https://colab.research.google.com/notebooks/data_table.ipynb>data table notebook</a>'\n",
              "            + ' to learn more about interactive tables.';\n",
              "          element.innerHTML = '';\n",
              "          dataTable['output_type'] = 'display_data';\n",
              "          await google.colab.output.renderOutput(dataTable, element);\n",
              "          const docLink = document.createElement('div');\n",
              "          docLink.innerHTML = docLinkHtml;\n",
              "          element.appendChild(docLink);\n",
              "        }\n",
              "      </script>\n",
              "    </div>\n",
              "  </div>\n",
              "  "
            ]
          },
          "metadata": {},
          "execution_count": 32
        }
      ]
    },
    {
      "cell_type": "code",
      "source": [
        "df_temp.y.value_counts()"
      ],
      "metadata": {
        "colab": {
          "base_uri": "https://localhost:8080/"
        },
        "id": "LgU9MAck5nGE",
        "outputId": "ee66dff8-2a33-4ce6-9c43-9eb8b15d505d"
      },
      "execution_count": 33,
      "outputs": [
        {
          "output_type": "execute_result",
          "data": {
            "text/plain": [
              "1    197895\n",
              "0     94481\n",
              "Name: y, dtype: int64"
            ]
          },
          "metadata": {},
          "execution_count": 33
        }
      ]
    },
    {
      "cell_type": "code",
      "source": [
        "import seaborn as sns\n",
        "\n",
        "sns.countplot(x = \"y\", data = df_temp)\n",
        "plt.show()"
      ],
      "metadata": {
        "colab": {
          "base_uri": "https://localhost:8080/",
          "height": 279
        },
        "id": "OkEIY2KN5ltd",
        "outputId": "ca5207f7-a937-439e-b05d-abec74ccbeae"
      },
      "execution_count": 34,
      "outputs": [
        {
          "output_type": "display_data",
          "data": {
            "text/plain": [
              "<Figure size 432x288 with 1 Axes>"
            ],
            "image/png": "[encoded data removed]"
          },
          "metadata": {
            "needs_background": "light"
          }
        }
      ]
    },
    {
      "cell_type": "code",
      "source": [
        "df_temp2 = df_temp[(df_temp['stars'] == 5)]"
      ],
      "metadata": {
        "id": "U7Vht4gW-ULc"
      },
      "execution_count": 35,
      "outputs": []
    },
    {
      "cell_type": "code",
      "source": [
        "df_temp2.info()"
      ],
      "metadata": {
        "colab": {
          "base_uri": "https://localhost:8080/"
        },
        "id": "83ko9DfDPJ6s",
        "outputId": "7875e41b-c71a-47c7-bc50-7e943b67ef8f"
      },
      "execution_count": 36,
      "outputs": [
        {
          "output_type": "stream",
          "name": "stdout",
          "text": [
            "<class 'pandas.core.frame.DataFrame'>\n",
            "Int64Index: 124247 entries, 1 to 292375\n",
            "Data columns (total 7 columns):\n",
            " #   Column       Non-Null Count   Dtype \n",
            "---  ------       --------------   ----- \n",
            " 0   user_id      124247 non-null  object\n",
            " 1   business_id  124247 non-null  object\n",
            " 2   date         124247 non-null  object\n",
            " 3   review_year  124247 non-null  int64 \n",
            " 4   reviews      124247 non-null  object\n",
            " 5   y            124247 non-null  int64 \n",
            " 6   stars        124247 non-null  int64 \n",
            "dtypes: int64(3), object(4)\n",
            "memory usage: 7.6+ MB\n"
          ]
        }
      ]
    },
    {
      "cell_type": "code",
      "source": [
        "df_temp2.head()"
      ],
      "metadata": {
        "colab": {
          "base_uri": "https://localhost:8080/",
          "height": 206
        },
        "id": "bPy2llAZUw45",
        "outputId": "87f4280e-d2b2-4f56-9776-af340ea5ea12"
      },
      "execution_count": 37,
      "outputs": [
        {
          "output_type": "execute_result",
          "data": {
            "text/plain": [
              "                   user_id             business_id                 date  \\\n",
              "1   5h9JA231vPilNAIjHxwGng  lj-E32x9_FA7GmUrBGBEWg  2014-08-24 19:24:26   \n",
              "3   st-q1iyW3sJm-v0OCrheoQ  lj-E32x9_FA7GmUrBGBEWg  2015-10-17 04:56:25   \n",
              "6   kX9OMmA9XLpNPWXQtTe33Q  lj-E32x9_FA7GmUrBGBEWg  2017-02-09 19:39:40   \n",
              "16  gjzKWzc8ZPn5Aylf8TMfTg  lj-E32x9_FA7GmUrBGBEWg  2015-11-21 16:11:54   \n",
              "25  4xV0D0udUpKbm5k7MxhfnA  lj-E32x9_FA7GmUrBGBEWg  2018-07-29 02:41:42   \n",
              "\n",
              "    review_year                                            reviews  y  stars  \n",
              "1          2014  My friends at work (connoisseurs of good food ...  1      5  \n",
              "3          2015  I went to Brio for the first time on Wednesday...  1      5  \n",
              "6          2017  I love this cute Italian restaurant, it's grea...  1      5  \n",
              "16         2015  I've been here 2 times now. The food is absolu...  1      5  \n",
              "25         2018  Amazing anniversary dinner. Staff all wished u...  1      5  "
            ],
            "text/html": [
              "\n",
              "  <div id=\"df-7ff39680-0318-499c-9fb4-495e52f3c12a\">\n",
              "    <div class=\"colab-df-container\">\n",
              "      <div>\n",
              "<style scoped>\n",
              "    .dataframe tbody tr th:only-of-type {\n",
              "        vertical-align: middle;\n",
              "    }\n",
              "\n",
              "    .dataframe tbody tr th {\n",
              "        vertical-align: top;\n",
              "    }\n",
              "\n",
              "    .dataframe thead th {\n",
              "        text-align: right;\n",
              "    }\n",
              "</style>\n",
              "<table border=\"1\" class=\"dataframe\">\n",
              "  <thead>\n",
              "    <tr style=\"text-align: right;\">\n",
              "      <th></th>\n",
              "      <th>user_id</th>\n",
              "      <th>business_id</th>\n",
              "      <th>date</th>\n",
              "      <th>review_year</th>\n",
              "      <th>reviews</th>\n",
              "      <th>y</th>\n",
              "      <th>stars</th>\n",
              "    </tr>\n",
              "  </thead>\n",
              "  <tbody>\n",
              "    <tr>\n",
              "      <th>1</th>\n",
              "      <td>5h9JA231vPilNAIjHxwGng</td>\n",
              "      <td>lj-E32x9_FA7GmUrBGBEWg</td>\n",
              "      <td>2014-08-24 19:24:26</td>\n",
              "      <td>2014</td>\n",
              "      <td>My friends at work (connoisseurs of good food ...</td>\n",
              "      <td>1</td>\n",
              "      <td>5</td>\n",
              "    </tr>\n",
              "    <tr>\n",
              "      <th>3</th>\n",
              "      <td>st-q1iyW3sJm-v0OCrheoQ</td>\n",
              "      <td>lj-E32x9_FA7GmUrBGBEWg</td>\n",
              "      <td>2015-10-17 04:56:25</td>\n",
              "      <td>2015</td>\n",
              "      <td>I went to Brio for the first time on Wednesday...</td>\n",
              "      <td>1</td>\n",
              "      <td>5</td>\n",
              "    </tr>\n",
              "    <tr>\n",
              "      <th>6</th>\n",
              "      <td>kX9OMmA9XLpNPWXQtTe33Q</td>\n",
              "      <td>lj-E32x9_FA7GmUrBGBEWg</td>\n",
              "      <td>2017-02-09 19:39:40</td>\n",
              "      <td>2017</td>\n",
              "      <td>I love this cute Italian restaurant, it's grea...</td>\n",
              "      <td>1</td>\n",
              "      <td>5</td>\n",
              "    </tr>\n",
              "    <tr>\n",
              "      <th>16</th>\n",
              "      <td>gjzKWzc8ZPn5Aylf8TMfTg</td>\n",
              "      <td>lj-E32x9_FA7GmUrBGBEWg</td>\n",
              "      <td>2015-11-21 16:11:54</td>\n",
              "      <td>2015</td>\n",
              "      <td>I've been here 2 times now. The food is absolu...</td>\n",
              "      <td>1</td>\n",
              "      <td>5</td>\n",
              "    </tr>\n",
              "    <tr>\n",
              "      <th>25</th>\n",
              "      <td>4xV0D0udUpKbm5k7MxhfnA</td>\n",
              "      <td>lj-E32x9_FA7GmUrBGBEWg</td>\n",
              "      <td>2018-07-29 02:41:42</td>\n",
              "      <td>2018</td>\n",
              "      <td>Amazing anniversary dinner. Staff all wished u...</td>\n",
              "      <td>1</td>\n",
              "      <td>5</td>\n",
              "    </tr>\n",
              "  </tbody>\n",
              "</table>\n",
              "</div>\n",
              "      <button class=\"colab-df-convert\" onclick=\"convertToInteractive('df-7ff39680-0318-499c-9fb4-495e52f3c12a')\"\n",
              "              title=\"Convert this dataframe to an interactive table.\"\n",
              "              style=\"display:none;\">\n",
              "        \n",
              "  <svg xmlns=\"http://www.w3.org/2000/svg\" height=\"24px\"viewBox=\"0 0 24 24\"\n",
              "       width=\"24px\">\n",
              "    <path d=\"M0 0h24v24H0V0z\" fill=\"none\"/>\n",
              "    <path d=\"M18.56 5.44l.94 2.06.94-2.06 2.06-.94-2.06-.94-.94-2.06-.94 2.06-2.06.94zm-11 1L8.5 8.5l.94-2.06 2.06-.94-2.06-.94L8.5 2.5l-.94 2.06-2.06.94zm10 10l.94 2.06.94-2.06 2.06-.94-2.06-.94-.94-2.06-.94 2.06-2.06.94z\"/><path d=\"M17.41 7.96l-1.37-1.37c-.4-.4-.92-.59-1.43-.59-.52 0-1.04.2-1.43.59L10.3 9.45l-7.72 7.72c-.78.78-.78 2.05 0 2.83L4 21.41c.39.39.9.59 1.41.59.51 0 1.02-.2 1.41-.59l7.78-7.78 2.81-2.81c.8-.78.8-2.07 0-2.86zM5.41 20L4 18.59l7.72-7.72 1.47 1.35L5.41 20z\"/>\n",
              "  </svg>\n",
              "      </button>\n",
              "      \n",
              "  <style>\n",
              "    .colab-df-container {\n",
              "      display:flex;\n",
              "      flex-wrap:wrap;\n",
              "      gap: 12px;\n",
              "    }\n",
              "\n",
              "    .colab-df-convert {\n",
              "      background-color: #E8F0FE;\n",
              "      border: none;\n",
              "      border-radius: 50%;\n",
              "      cursor: pointer;\n",
              "      display: none;\n",
              "      fill: #1967D2;\n",
              "      height: 32px;\n",
              "      padding: 0 0 0 0;\n",
              "      width: 32px;\n",
              "    }\n",
              "\n",
              "    .colab-df-convert:hover {\n",
              "      background-color: #E2EBFA;\n",
              "      box-shadow: 0px 1px 2px rgba(60, 64, 67, 0.3), 0px 1px 3px 1px rgba(60, 64, 67, 0.15);\n",
              "      fill: #174EA6;\n",
              "    }\n",
              "\n",
              "    [theme=dark] .colab-df-convert {\n",
              "      background-color: #3B4455;\n",
              "      fill: #D2E3FC;\n",
              "    }\n",
              "\n",
              "    [theme=dark] .colab-df-convert:hover {\n",
              "      background-color: #434B5C;\n",
              "      box-shadow: 0px 1px 3px 1px rgba(0, 0, 0, 0.15);\n",
              "      filter: drop-shadow(0px 1px 2px rgba(0, 0, 0, 0.3));\n",
              "      fill: #FFFFFF;\n",
              "    }\n",
              "  </style>\n",
              "\n",
              "      <script>\n",
              "        const buttonEl =\n",
              "          document.querySelector('#df-7ff39680-0318-499c-9fb4-495e52f3c12a button.colab-df-convert');\n",
              "        buttonEl.style.display =\n",
              "          google.colab.kernel.accessAllowed ? 'block' : 'none';\n",
              "\n",
              "        async function convertToInteractive(key) {\n",
              "          const element = document.querySelector('#df-7ff39680-0318-499c-9fb4-495e52f3c12a');\n",
              "          const dataTable =\n",
              "            await google.colab.kernel.invokeFunction('convertToInteractive',\n",
              "                                                     [key], {});\n",
              "          if (!dataTable) return;\n",
              "\n",
              "          const docLinkHtml = 'Like what you see? Visit the ' +\n",
              "            '<a target=\"_blank\" href=https://colab.research.google.com/notebooks/data_table.ipynb>data table notebook</a>'\n",
              "            + ' to learn more about interactive tables.';\n",
              "          element.innerHTML = '';\n",
              "          dataTable['output_type'] = 'display_data';\n",
              "          await google.colab.output.renderOutput(dataTable, element);\n",
              "          const docLink = document.createElement('div');\n",
              "          docLink.innerHTML = docLinkHtml;\n",
              "          element.appendChild(docLink);\n",
              "        }\n",
              "      </script>\n",
              "    </div>\n",
              "  </div>\n",
              "  "
            ]
          },
          "metadata": {},
          "execution_count": 37
        }
      ]
    },
    {
      "cell_type": "markdown",
      "source": [
        "ABSA Text Preprocessing (ENTIRE TEXT)"
      ],
      "metadata": {
        "id": "-ayxYuNF_q2A"
      }
    },
    {
      "cell_type": "code",
      "source": [
        "def preprocessing(text):\n",
        "    \n",
        "    text = remove_url(text) \n",
        "    text = uni.normalize('NFKD', text)\n",
        "    text = handle_emoji(text)\n",
        "    text = text.lower() \n",
        "    text = re.sub(r'[^\\w\\s]', '', text)\n",
        "    text = word_tokenizer(text)\n",
        "    #text = stemming(text)\n",
        "    text = lemmatization(text)\n",
        "    text = remove_stopwords(text)\n",
        "    text = \" \".join(text)\n",
        "\n",
        "    return text"
      ],
      "metadata": {
        "id": "IkF5ZgM7_c7U"
      },
      "execution_count": 38,
      "outputs": []
    },
    {
      "cell_type": "code",
      "source": [
        "from tqdm import tqdm\n",
        "\n",
        "tqdm.pandas()\n",
        "\n",
        "df['clean_review'] = df['reviews'].progress_map(preprocessing)"
      ],
      "metadata": {
        "colab": {
          "base_uri": "https://localhost:8080/"
        },
        "id": "G1CmVCof_c4s",
        "outputId": "3da6cd70-3b8b-4083-da6a-f9c7669cdf5d"
      },
      "execution_count": 39,
      "outputs": [
        {
          "output_type": "stream",
          "name": "stderr",
          "text": [
            "100%|██████████| 292376/292376 [2:14:35<00:00, 36.20it/s]\n"
          ]
        }
      ]
    },
    {
      "cell_type": "code",
      "source": [
        "df.head()"
      ],
      "metadata": {
        "colab": {
          "base_uri": "https://localhost:8080/",
          "height": 337
        },
        "id": "J2fQXmRC_cs9",
        "outputId": "891677aa-50f9-44a8-a0a2-d6c1dd8a38b2"
      },
      "execution_count": 40,
      "outputs": [
        {
          "output_type": "execute_result",
          "data": {
            "text/plain": [
              "                  user_id             business_id                 date  stars  \\\n",
              "0  9OAtfnWag-ajVxRbUTGIyg  lj-E32x9_FA7GmUrBGBEWg  2014-06-27 22:44:01    4.0   \n",
              "1  5h9JA231vPilNAIjHxwGng  lj-E32x9_FA7GmUrBGBEWg  2014-08-24 19:24:26    5.0   \n",
              "2  c1fSI6Dv5lybr0AJh67e7w  lj-E32x9_FA7GmUrBGBEWg  2015-09-24 15:01:11    4.0   \n",
              "3  st-q1iyW3sJm-v0OCrheoQ  lj-E32x9_FA7GmUrBGBEWg  2015-10-17 04:56:25    5.0   \n",
              "4  9qBdzBzoDxLFSMhhGrTWJg  lj-E32x9_FA7GmUrBGBEWg  2016-01-04 16:56:32    4.0   \n",
              "\n",
              "                                             reviews  review_year  \\\n",
              "0  Love going here for happy hour or dinner!  Gre...         2014   \n",
              "1  My friends at work (connoisseurs of good food ...         2014   \n",
              "2  Great service, relaxing atmosphere and the foo...         2015   \n",
              "3  I went to Brio for the first time on Wednesday...         2015   \n",
              "4  I usually steer clear of the chain restaurants...         2016   \n",
              "\n",
              "                                        clean_review  \n",
              "0  love go happy hour dinner great patio fan beat...  \n",
              "1  friend work connoisseur good food st louis are...  \n",
              "2  great service relax atmosphere food exceptiona...  \n",
              "3  I go brio first time wednesday dinner friend s...  \n",
              "4  I usually steer clear chain restaurant since m...  "
            ],
            "text/html": [
              "\n",
              "  <div id=\"df-a75208bb-3978-480f-97bf-dfd560dab20c\">\n",
              "    <div class=\"colab-df-container\">\n",
              "      <div>\n",
              "<style scoped>\n",
              "    .dataframe tbody tr th:only-of-type {\n",
              "        vertical-align: middle;\n",
              "    }\n",
              "\n",
              "    .dataframe tbody tr th {\n",
              "        vertical-align: top;\n",
              "    }\n",
              "\n",
              "    .dataframe thead th {\n",
              "        text-align: right;\n",
              "    }\n",
              "</style>\n",
              "<table border=\"1\" class=\"dataframe\">\n",
              "  <thead>\n",
              "    <tr style=\"text-align: right;\">\n",
              "      <th></th>\n",
              "      <th>user_id</th>\n",
              "      <th>business_id</th>\n",
              "      <th>date</th>\n",
              "      <th>stars</th>\n",
              "      <th>reviews</th>\n",
              "      <th>review_year</th>\n",
              "      <th>clean_review</th>\n",
              "    </tr>\n",
              "  </thead>\n",
              "  <tbody>\n",
              "    <tr>\n",
              "      <th>0</th>\n",
              "      <td>9OAtfnWag-ajVxRbUTGIyg</td>\n",
              "      <td>lj-E32x9_FA7GmUrBGBEWg</td>\n",
              "      <td>2014-06-27 22:44:01</td>\n",
              "      <td>4.0</td>\n",
              "      <td>Love going here for happy hour or dinner!  Gre...</td>\n",
              "      <td>2014</td>\n",
              "      <td>love go happy hour dinner great patio fan beat...</td>\n",
              "    </tr>\n",
              "    <tr>\n",
              "      <th>1</th>\n",
              "      <td>5h9JA231vPilNAIjHxwGng</td>\n",
              "      <td>lj-E32x9_FA7GmUrBGBEWg</td>\n",
              "      <td>2014-08-24 19:24:26</td>\n",
              "      <td>5.0</td>\n",
              "      <td>My friends at work (connoisseurs of good food ...</td>\n",
              "      <td>2014</td>\n",
              "      <td>friend work connoisseur good food st louis are...</td>\n",
              "    </tr>\n",
              "    <tr>\n",
              "      <th>2</th>\n",
              "      <td>c1fSI6Dv5lybr0AJh67e7w</td>\n",
              "      <td>lj-E32x9_FA7GmUrBGBEWg</td>\n",
              "      <td>2015-09-24 15:01:11</td>\n",
              "      <td>4.0</td>\n",
              "      <td>Great service, relaxing atmosphere and the foo...</td>\n",
              "      <td>2015</td>\n",
              "      <td>great service relax atmosphere food exceptiona...</td>\n",
              "    </tr>\n",
              "    <tr>\n",
              "      <th>3</th>\n",
              "      <td>st-q1iyW3sJm-v0OCrheoQ</td>\n",
              "      <td>lj-E32x9_FA7GmUrBGBEWg</td>\n",
              "      <td>2015-10-17 04:56:25</td>\n",
              "      <td>5.0</td>\n",
              "      <td>I went to Brio for the first time on Wednesday...</td>\n",
              "      <td>2015</td>\n",
              "      <td>I go brio first time wednesday dinner friend s...</td>\n",
              "    </tr>\n",
              "    <tr>\n",
              "      <th>4</th>\n",
              "      <td>9qBdzBzoDxLFSMhhGrTWJg</td>\n",
              "      <td>lj-E32x9_FA7GmUrBGBEWg</td>\n",
              "      <td>2016-01-04 16:56:32</td>\n",
              "      <td>4.0</td>\n",
              "      <td>I usually steer clear of the chain restaurants...</td>\n",
              "      <td>2016</td>\n",
              "      <td>I usually steer clear chain restaurant since m...</td>\n",
              "    </tr>\n",
              "  </tbody>\n",
              "</table>\n",
              "</div>\n",
              "      <button class=\"colab-df-convert\" onclick=\"convertToInteractive('df-a75208bb-3978-480f-97bf-dfd560dab20c')\"\n",
              "              title=\"Convert this dataframe to an interactive table.\"\n",
              "              style=\"display:none;\">\n",
              "        \n",
              "  <svg xmlns=\"http://www.w3.org/2000/svg\" height=\"24px\"viewBox=\"0 0 24 24\"\n",
              "       width=\"24px\">\n",
              "    <path d=\"M0 0h24v24H0V0z\" fill=\"none\"/>\n",
              "    <path d=\"M18.56 5.44l.94 2.06.94-2.06 2.06-.94-2.06-.94-.94-2.06-.94 2.06-2.06.94zm-11 1L8.5 8.5l.94-2.06 2.06-.94-2.06-.94L8.5 2.5l-.94 2.06-2.06.94zm10 10l.94 2.06.94-2.06 2.06-.94-2.06-.94-.94-2.06-.94 2.06-2.06.94z\"/><path d=\"M17.41 7.96l-1.37-1.37c-.4-.4-.92-.59-1.43-.59-.52 0-1.04.2-1.43.59L10.3 9.45l-7.72 7.72c-.78.78-.78 2.05 0 2.83L4 21.41c.39.39.9.59 1.41.59.51 0 1.02-.2 1.41-.59l7.78-7.78 2.81-2.81c.8-.78.8-2.07 0-2.86zM5.41 20L4 18.59l7.72-7.72 1.47 1.35L5.41 20z\"/>\n",
              "  </svg>\n",
              "      </button>\n",
              "      \n",
              "  <style>\n",
              "    .colab-df-container {\n",
              "      display:flex;\n",
              "      flex-wrap:wrap;\n",
              "      gap: 12px;\n",
              "    }\n",
              "\n",
              "    .colab-df-convert {\n",
              "      background-color: #E8F0FE;\n",
              "      border: none;\n",
              "      border-radius: 50%;\n",
              "      cursor: pointer;\n",
              "      display: none;\n",
              "      fill: #1967D2;\n",
              "      height: 32px;\n",
              "      padding: 0 0 0 0;\n",
              "      width: 32px;\n",
              "    }\n",
              "\n",
              "    .colab-df-convert:hover {\n",
              "      background-color: #E2EBFA;\n",
              "      box-shadow: 0px 1px 2px rgba(60, 64, 67, 0.3), 0px 1px 3px 1px rgba(60, 64, 67, 0.15);\n",
              "      fill: #174EA6;\n",
              "    }\n",
              "\n",
              "    [theme=dark] .colab-df-convert {\n",
              "      background-color: #3B4455;\n",
              "      fill: #D2E3FC;\n",
              "    }\n",
              "\n",
              "    [theme=dark] .colab-df-convert:hover {\n",
              "      background-color: #434B5C;\n",
              "      box-shadow: 0px 1px 3px 1px rgba(0, 0, 0, 0.15);\n",
              "      filter: drop-shadow(0px 1px 2px rgba(0, 0, 0, 0.3));\n",
              "      fill: #FFFFFF;\n",
              "    }\n",
              "  </style>\n",
              "\n",
              "      <script>\n",
              "        const buttonEl =\n",
              "          document.querySelector('#df-a75208bb-3978-480f-97bf-dfd560dab20c button.colab-df-convert');\n",
              "        buttonEl.style.display =\n",
              "          google.colab.kernel.accessAllowed ? 'block' : 'none';\n",
              "\n",
              "        async function convertToInteractive(key) {\n",
              "          const element = document.querySelector('#df-a75208bb-3978-480f-97bf-dfd560dab20c');\n",
              "          const dataTable =\n",
              "            await google.colab.kernel.invokeFunction('convertToInteractive',\n",
              "                                                     [key], {});\n",
              "          if (!dataTable) return;\n",
              "\n",
              "          const docLinkHtml = 'Like what you see? Visit the ' +\n",
              "            '<a target=\"_blank\" href=https://colab.research.google.com/notebooks/data_table.ipynb>data table notebook</a>'\n",
              "            + ' to learn more about interactive tables.';\n",
              "          element.innerHTML = '';\n",
              "          dataTable['output_type'] = 'display_data';\n",
              "          await google.colab.output.renderOutput(dataTable, element);\n",
              "          const docLink = document.createElement('div');\n",
              "          docLink.innerHTML = docLinkHtml;\n",
              "          element.appendChild(docLink);\n",
              "        }\n",
              "      </script>\n",
              "    </div>\n",
              "  </div>\n",
              "  "
            ]
          },
          "metadata": {},
          "execution_count": 40
        }
      ]
    },
    {
      "cell_type": "code",
      "source": [
        "reviews = df.clean_review.values.tolist()"
      ],
      "metadata": {
        "id": "g52ZH_ZnAZbP"
      },
      "execution_count": 41,
      "outputs": []
    },
    {
      "cell_type": "code",
      "source": [
        "from tqdm import tqdm\n",
        "\n",
        "tqdm.pandas()\n",
        "\n",
        "df['clean_review2'] = df['clean_review'].progress_map(word_tokenizer)"
      ],
      "metadata": {
        "colab": {
          "base_uri": "https://localhost:8080/"
        },
        "id": "W3o8YZyDAZY9",
        "outputId": "e48e4fa8-c153-4de3-9c05-0abb2d16097f"
      },
      "execution_count": 42,
      "outputs": [
        {
          "output_type": "stream",
          "name": "stderr",
          "text": [
            "100%|██████████| 292376/292376 [00:05<00:00, 58459.25it/s]\n"
          ]
        }
      ]
    },
    {
      "cell_type": "code",
      "source": [
        "df.head()"
      ],
      "metadata": {
        "colab": {
          "base_uri": "https://localhost:8080/",
          "height": 424
        },
        "id": "9NtQqxlmAZWw",
        "outputId": "67811844-42bc-44d3-b5aa-78dd6faa2faa"
      },
      "execution_count": 43,
      "outputs": [
        {
          "output_type": "execute_result",
          "data": {
            "text/plain": [
              "                  user_id             business_id                 date  stars  \\\n",
              "0  9OAtfnWag-ajVxRbUTGIyg  lj-E32x9_FA7GmUrBGBEWg  2014-06-27 22:44:01    4.0   \n",
              "1  5h9JA231vPilNAIjHxwGng  lj-E32x9_FA7GmUrBGBEWg  2014-08-24 19:24:26    5.0   \n",
              "2  c1fSI6Dv5lybr0AJh67e7w  lj-E32x9_FA7GmUrBGBEWg  2015-09-24 15:01:11    4.0   \n",
              "3  st-q1iyW3sJm-v0OCrheoQ  lj-E32x9_FA7GmUrBGBEWg  2015-10-17 04:56:25    5.0   \n",
              "4  9qBdzBzoDxLFSMhhGrTWJg  lj-E32x9_FA7GmUrBGBEWg  2016-01-04 16:56:32    4.0   \n",
              "\n",
              "                                             reviews  review_year  \\\n",
              "0  Love going here for happy hour or dinner!  Gre...         2014   \n",
              "1  My friends at work (connoisseurs of good food ...         2014   \n",
              "2  Great service, relaxing atmosphere and the foo...         2015   \n",
              "3  I went to Brio for the first time on Wednesday...         2015   \n",
              "4  I usually steer clear of the chain restaurants...         2016   \n",
              "\n",
              "                                        clean_review  \\\n",
              "0  love go happy hour dinner great patio fan beat...   \n",
              "1  friend work connoisseur good food st louis are...   \n",
              "2  great service relax atmosphere food exceptiona...   \n",
              "3  I go brio first time wednesday dinner friend s...   \n",
              "4  I usually steer clear chain restaurant since m...   \n",
              "\n",
              "                                       clean_review2  \n",
              "0  [love, go, happy, hour, dinner, great, patio, ...  \n",
              "1  [friend, work, connoisseur, good, food, st, lo...  \n",
              "2  [great, service, relax, atmosphere, food, exce...  \n",
              "3  [i, go, brio, first, time, wednesday, dinner, ...  \n",
              "4  [i, usually, steer, clear, chain, restaurant, ...  "
            ],
            "text/html": [
              "\n",
              "  <div id=\"df-111c1a58-3cc5-46de-bf40-ddbea3b9e35c\">\n",
              "    <div class=\"colab-df-container\">\n",
              "      <div>\n",
              "<style scoped>\n",
              "    .dataframe tbody tr th:only-of-type {\n",
              "        vertical-align: middle;\n",
              "    }\n",
              "\n",
              "    .dataframe tbody tr th {\n",
              "        vertical-align: top;\n",
              "    }\n",
              "\n",
              "    .dataframe thead th {\n",
              "        text-align: right;\n",
              "    }\n",
              "</style>\n",
              "<table border=\"1\" class=\"dataframe\">\n",
              "  <thead>\n",
              "    <tr style=\"text-align: right;\">\n",
              "      <th></th>\n",
              "      <th>user_id</th>\n",
              "      <th>business_id</th>\n",
              "      <th>date</th>\n",
              "      <th>stars</th>\n",
              "      <th>reviews</th>\n",
              "      <th>review_year</th>\n",
              "      <th>clean_review</th>\n",
              "      <th>clean_review2</th>\n",
              "    </tr>\n",
              "  </thead>\n",
              "  <tbody>\n",
              "    <tr>\n",
              "      <th>0</th>\n",
              "      <td>9OAtfnWag-ajVxRbUTGIyg</td>\n",
              "      <td>lj-E32x9_FA7GmUrBGBEWg</td>\n",
              "      <td>2014-06-27 22:44:01</td>\n",
              "      <td>4.0</td>\n",
              "      <td>Love going here for happy hour or dinner!  Gre...</td>\n",
              "      <td>2014</td>\n",
              "      <td>love go happy hour dinner great patio fan beat...</td>\n",
              "      <td>[love, go, happy, hour, dinner, great, patio, ...</td>\n",
              "    </tr>\n",
              "    <tr>\n",
              "      <th>1</th>\n",
              "      <td>5h9JA231vPilNAIjHxwGng</td>\n",
              "      <td>lj-E32x9_FA7GmUrBGBEWg</td>\n",
              "      <td>2014-08-24 19:24:26</td>\n",
              "      <td>5.0</td>\n",
              "      <td>My friends at work (connoisseurs of good food ...</td>\n",
              "      <td>2014</td>\n",
              "      <td>friend work connoisseur good food st louis are...</td>\n",
              "      <td>[friend, work, connoisseur, good, food, st, lo...</td>\n",
              "    </tr>\n",
              "    <tr>\n",
              "      <th>2</th>\n",
              "      <td>c1fSI6Dv5lybr0AJh67e7w</td>\n",
              "      <td>lj-E32x9_FA7GmUrBGBEWg</td>\n",
              "      <td>2015-09-24 15:01:11</td>\n",
              "      <td>4.0</td>\n",
              "      <td>Great service, relaxing atmosphere and the foo...</td>\n",
              "      <td>2015</td>\n",
              "      <td>great service relax atmosphere food exceptiona...</td>\n",
              "      <td>[great, service, relax, atmosphere, food, exce...</td>\n",
              "    </tr>\n",
              "    <tr>\n",
              "      <th>3</th>\n",
              "      <td>st-q1iyW3sJm-v0OCrheoQ</td>\n",
              "      <td>lj-E32x9_FA7GmUrBGBEWg</td>\n",
              "      <td>2015-10-17 04:56:25</td>\n",
              "      <td>5.0</td>\n",
              "      <td>I went to Brio for the first time on Wednesday...</td>\n",
              "      <td>2015</td>\n",
              "      <td>I go brio first time wednesday dinner friend s...</td>\n",
              "      <td>[i, go, brio, first, time, wednesday, dinner, ...</td>\n",
              "    </tr>\n",
              "    <tr>\n",
              "      <th>4</th>\n",
              "      <td>9qBdzBzoDxLFSMhhGrTWJg</td>\n",
              "      <td>lj-E32x9_FA7GmUrBGBEWg</td>\n",
              "      <td>2016-01-04 16:56:32</td>\n",
              "      <td>4.0</td>\n",
              "      <td>I usually steer clear of the chain restaurants...</td>\n",
              "      <td>2016</td>\n",
              "      <td>I usually steer clear chain restaurant since m...</td>\n",
              "      <td>[i, usually, steer, clear, chain, restaurant, ...</td>\n",
              "    </tr>\n",
              "  </tbody>\n",
              "</table>\n",
              "</div>\n",
              "      <button class=\"colab-df-convert\" onclick=\"convertToInteractive('df-111c1a58-3cc5-46de-bf40-ddbea3b9e35c')\"\n",
              "              title=\"Convert this dataframe to an interactive table.\"\n",
              "              style=\"display:none;\">\n",
              "        \n",
              "  <svg xmlns=\"http://www.w3.org/2000/svg\" height=\"24px\"viewBox=\"0 0 24 24\"\n",
              "       width=\"24px\">\n",
              "    <path d=\"M0 0h24v24H0V0z\" fill=\"none\"/>\n",
              "    <path d=\"M18.56 5.44l.94 2.06.94-2.06 2.06-.94-2.06-.94-.94-2.06-.94 2.06-2.06.94zm-11 1L8.5 8.5l.94-2.06 2.06-.94-2.06-.94L8.5 2.5l-.94 2.06-2.06.94zm10 10l.94 2.06.94-2.06 2.06-.94-2.06-.94-.94-2.06-.94 2.06-2.06.94z\"/><path d=\"M17.41 7.96l-1.37-1.37c-.4-.4-.92-.59-1.43-.59-.52 0-1.04.2-1.43.59L10.3 9.45l-7.72 7.72c-.78.78-.78 2.05 0 2.83L4 21.41c.39.39.9.59 1.41.59.51 0 1.02-.2 1.41-.59l7.78-7.78 2.81-2.81c.8-.78.8-2.07 0-2.86zM5.41 20L4 18.59l7.72-7.72 1.47 1.35L5.41 20z\"/>\n",
              "  </svg>\n",
              "      </button>\n",
              "      \n",
              "  <style>\n",
              "    .colab-df-container {\n",
              "      display:flex;\n",
              "      flex-wrap:wrap;\n",
              "      gap: 12px;\n",
              "    }\n",
              "\n",
              "    .colab-df-convert {\n",
              "      background-color: #E8F0FE;\n",
              "      border: none;\n",
              "      border-radius: 50%;\n",
              "      cursor: pointer;\n",
              "      display: none;\n",
              "      fill: #1967D2;\n",
              "      height: 32px;\n",
              "      padding: 0 0 0 0;\n",
              "      width: 32px;\n",
              "    }\n",
              "\n",
              "    .colab-df-convert:hover {\n",
              "      background-color: #E2EBFA;\n",
              "      box-shadow: 0px 1px 2px rgba(60, 64, 67, 0.3), 0px 1px 3px 1px rgba(60, 64, 67, 0.15);\n",
              "      fill: #174EA6;\n",
              "    }\n",
              "\n",
              "    [theme=dark] .colab-df-convert {\n",
              "      background-color: #3B4455;\n",
              "      fill: #D2E3FC;\n",
              "    }\n",
              "\n",
              "    [theme=dark] .colab-df-convert:hover {\n",
              "      background-color: #434B5C;\n",
              "      box-shadow: 0px 1px 3px 1px rgba(0, 0, 0, 0.15);\n",
              "      filter: drop-shadow(0px 1px 2px rgba(0, 0, 0, 0.3));\n",
              "      fill: #FFFFFF;\n",
              "    }\n",
              "  </style>\n",
              "\n",
              "      <script>\n",
              "        const buttonEl =\n",
              "          document.querySelector('#df-111c1a58-3cc5-46de-bf40-ddbea3b9e35c button.colab-df-convert');\n",
              "        buttonEl.style.display =\n",
              "          google.colab.kernel.accessAllowed ? 'block' : 'none';\n",
              "\n",
              "        async function convertToInteractive(key) {\n",
              "          const element = document.querySelector('#df-111c1a58-3cc5-46de-bf40-ddbea3b9e35c');\n",
              "          const dataTable =\n",
              "            await google.colab.kernel.invokeFunction('convertToInteractive',\n",
              "                                                     [key], {});\n",
              "          if (!dataTable) return;\n",
              "\n",
              "          const docLinkHtml = 'Like what you see? Visit the ' +\n",
              "            '<a target=\"_blank\" href=https://colab.research.google.com/notebooks/data_table.ipynb>data table notebook</a>'\n",
              "            + ' to learn more about interactive tables.';\n",
              "          element.innerHTML = '';\n",
              "          dataTable['output_type'] = 'display_data';\n",
              "          await google.colab.output.renderOutput(dataTable, element);\n",
              "          const docLink = document.createElement('div');\n",
              "          docLink.innerHTML = docLinkHtml;\n",
              "          element.appendChild(docLink);\n",
              "        }\n",
              "      </script>\n",
              "    </div>\n",
              "  </div>\n",
              "  "
            ]
          },
          "metadata": {},
          "execution_count": 43
        }
      ]
    },
    {
      "cell_type": "code",
      "source": [
        "data_words = df['clean_review2'].values.tolist()\n",
        "len(data_words)"
      ],
      "metadata": {
        "colab": {
          "base_uri": "https://localhost:8080/"
        },
        "id": "IgCSVFvpAZUY",
        "outputId": "03028441-fb0e-4e00-946c-2c6987966175"
      },
      "execution_count": 44,
      "outputs": [
        {
          "output_type": "execute_result",
          "data": {
            "text/plain": [
              "292376"
            ]
          },
          "metadata": {},
          "execution_count": 44
        }
      ]
    },
    {
      "cell_type": "code",
      "source": [
        "#save checkpoint\n",
        "df.to_csv(\"/content/gdrive/MyDrive/yelp_dataset/Clean_Yelp_ABSA_Reviews2.csv\", index = False)"
      ],
      "metadata": {
        "id": "QCSOAfXXdi8T"
      },
      "execution_count": 45,
      "outputs": []
    },
    {
      "cell_type": "code",
      "source": [
        "import gensim.corpora as corpora\n",
        "\n",
        "# Create Dictionary\n",
        "id2word = corpora.Dictionary(data_words)\n",
        "# Create Corpus\n",
        "texts = data_words\n",
        "# Term Document Frequency\n",
        "corpus = [id2word.doc2bow(text) for text in texts]\n",
        "# View\n",
        "print(corpus[:1][0][:30])"
      ],
      "metadata": {
        "colab": {
          "base_uri": "https://localhost:8080/"
        },
        "id": "hh6nW1izAZRM",
        "outputId": "155d85d5-2108-41ff-e267-746ed2ce0ef6"
      },
      "execution_count": 46,
      "outputs": [
        {
          "output_type": "stream",
          "name": "stdout",
          "text": [
            "[(0, 1), (1, 1), (2, 1), (3, 1), (4, 1), (5, 1), (6, 1), (7, 1), (8, 1), (9, 1), (10, 1), (11, 1), (12, 1), (13, 1), (14, 1), (15, 1), (16, 1), (17, 1), (18, 1), (19, 1), (20, 1), (21, 1), (22, 1), (23, 1), (24, 1), (25, 1)]\n"
          ]
        }
      ]
    },
    {
      "cell_type": "code",
      "source": [
        "from gensim.models import LdaMulticore\n",
        "from gensim.models import LdaModel\n",
        "from pprint import pprint\n",
        "\n",
        "# number of topics\n",
        "num_topics = 10\n",
        "# Build LDA model\n",
        "lda_model = LdaMulticore(corpus=corpus, id2word=id2word,\n",
        "                     num_topics=num_topics, iterations=400)\n",
        "# Print the Keyword in the 10 topics\n",
        "pprint(lda_model.print_topics())\n",
        "doc_lda = lda_model[corpus]"
      ],
      "metadata": {
        "colab": {
          "base_uri": "https://localhost:8080/"
        },
        "id": "qbBJMdwzAZHy",
        "outputId": "4a75ef98-657a-456c-803d-5ba5daadd4d7"
      },
      "execution_count": 47,
      "outputs": [
        {
          "output_type": "stream",
          "name": "stdout",
          "text": [
            "[(0,\n",
            "  '0.105*\"pizza\" + 0.033*\"salad\" + 0.024*\"i\" + 0.018*\"cheese\" + 0.016*\"crust\" '\n",
            "  '+ 0.013*\"order\" + 0.013*\"good\" + 0.010*\"sauce\" + 0.010*\"topping\" + '\n",
            "  '0.009*\"get\"'),\n",
            " (1,\n",
            "  '0.056*\"i\" + 0.029*\"good\" + 0.026*\"food\" + 0.026*\"st\" + 0.024*\"louis\" + '\n",
            "  '0.022*\"place\" + 0.017*\"restaurant\" + 0.013*\"try\" + 0.013*\"thai\" + '\n",
            "  '0.011*\"dish\"'),\n",
            " (2,\n",
            "  '0.115*\"i\" + 0.018*\"order\" + 0.016*\"food\" + 0.014*\"go\" + 0.013*\"get\" + '\n",
            "  '0.011*\"time\" + 0.010*\"say\" + 0.010*\"place\" + 0.009*\"would\" + 0.009*\"like\"'),\n",
            " (3,\n",
            "  '0.026*\"wait\" + 0.021*\"table\" + 0.019*\"food\" + 0.019*\"get\" + 0.019*\"minute\" '\n",
            "  '+ 0.017*\"come\" + 0.017*\"order\" + 0.015*\"drink\" + 0.015*\"take\" + '\n",
            "  '0.014*\"time\"'),\n",
            " (4,\n",
            "  '0.044*\"chicken\" + 0.039*\"fry\" + 0.026*\"sandwich\" + 0.022*\"burger\" + '\n",
            "  '0.019*\"good\" + 0.018*\"cheese\" + 0.017*\"sauce\" + 0.013*\"order\" + '\n",
            "  '0.013*\"potato\" + 0.012*\"side\"'),\n",
            " (5,\n",
            "  '0.015*\"wine\" + 0.014*\"steak\" + 0.013*\"dinner\" + 0.012*\"restaurant\" + '\n",
            "  '0.010*\"experience\" + 0.009*\"night\" + 0.009*\"dining\" + 0.009*\"room\" + '\n",
            "  '0.009*\"great\" + 0.009*\"make\"'),\n",
            " (6,\n",
            "  '0.065*\"i\" + 0.019*\"good\" + 0.011*\"order\" + 0.011*\"get\" + 0.010*\"roll\" + '\n",
            "  '0.009*\"sushi\" + 0.009*\"like\" + 0.009*\"try\" + 0.008*\"come\" + 0.008*\"also\"'),\n",
            " (7,\n",
            "  '0.047*\"chip\" + 0.047*\"taco\" + 0.032*\"fish\" + 0.029*\"salsa\" + 0.022*\"nachos\" '\n",
            "  '+ 0.015*\"rice\" + 0.014*\"good\" + 0.014*\"korean\" + 0.011*\"bean\" + '\n",
            "  '0.010*\"raman\"'),\n",
            " (8,\n",
            "  '0.059*\"i\" + 0.013*\"good\" + 0.012*\"like\" + 0.010*\"place\" + 0.009*\"get\" + '\n",
            "  '0.007*\"bbq\" + 0.007*\"well\" + 0.006*\"go\" + 0.006*\"one\" + 0.006*\"beer\"'),\n",
            " (9,\n",
            "  '0.052*\"great\" + 0.044*\"food\" + 0.035*\"good\" + 0.032*\"place\" + 0.031*\"i\" + '\n",
            "  '0.026*\"service\" + 0.016*\"love\" + 0.016*\"friendly\" + 0.016*\"go\" + '\n",
            "  '0.015*\"always\"')]\n"
          ]
        }
      ]
    },
    {
      "cell_type": "code",
      "source": [
        "#data_words = df['clean_review2']\n",
        "\n",
        "#def gen_words(data_words):\n",
        "#    yield data_words\n",
        "data_words = df['clean_review2'].values.tolist()\n",
        "len(data_words)"
      ],
      "metadata": {
        "colab": {
          "base_uri": "https://localhost:8080/"
        },
        "id": "oyreQs_2Va9V",
        "outputId": "4ff12f08-f8b0-419c-9097-90877114b622"
      },
      "execution_count": 48,
      "outputs": [
        {
          "output_type": "execute_result",
          "data": {
            "text/plain": [
              "292376"
            ]
          },
          "metadata": {},
          "execution_count": 48
        }
      ]
    },
    {
      "cell_type": "code",
      "source": [
        "%%time\n",
        "from gensim.models import FastText\n",
        "fasttext_model = FastText(data_words, size=100, window=5, min_count=5, workers=4,sg=1)\n",
        "# fasttext_model = FastText.load_fasttext_format(\"../input/fast100/cc.en.100.bin\")"
      ],
      "metadata": {
        "colab": {
          "base_uri": "https://localhost:8080/"
        },
        "id": "Tk343-sPAoAC",
        "outputId": "57270285-a725-4bd5-9b59-8730451791b4"
      },
      "execution_count": 49,
      "outputs": [
        {
          "output_type": "stream",
          "name": "stdout",
          "text": [
            "CPU times: user 25min 47s, sys: 3.36 s, total: 25min 50s\n",
            "Wall time: 13min 26s\n"
          ]
        }
      ]
    },
    {
      "cell_type": "code",
      "source": [
        "fasttext_model.save(\"FastText-Model-For-ABSA.bin\")"
      ],
      "metadata": {
        "id": "wyZW3SamAnsv"
      },
      "execution_count": 50,
      "outputs": []
    },
    {
      "cell_type": "code",
      "source": [
        "print(fasttext_model.wv['service'])"
      ],
      "metadata": {
        "colab": {
          "base_uri": "https://localhost:8080/"
        },
        "id": "vUKd02e7g1zb",
        "outputId": "ffd24dc0-df0e-46bf-95d7-c6f42a0fb5b6"
      },
      "execution_count": 51,
      "outputs": [
        {
          "output_type": "stream",
          "name": "stdout",
          "text": [
            "[ 0.11161157  0.13919845 -0.1320141  -0.13125886  0.24426009 -0.0766753\n",
            " -0.03265483 -0.2534362   0.09373141 -0.25906444  0.1756083   0.06498928\n",
            "  0.03394561  0.00783977 -0.41098693  0.0187496  -0.39475632  0.20405386\n",
            " -0.26476985 -0.15422079  0.32190934  0.31294486 -0.450854    0.3762911\n",
            "  0.51335096 -0.05387257 -0.12655723  0.20022312  0.21737675 -0.16788492\n",
            " -0.22382095 -0.1741892   0.27145514 -0.02698541  0.5913705  -0.36435422\n",
            "  0.07780357  0.01718424  0.3165588   0.04981562  0.34859073 -0.3621168\n",
            " -0.51721543 -0.32500473 -0.4370381  -0.2893733   0.23029533 -0.11282208\n",
            " -0.15471359 -0.1959459  -0.2926862   0.25445896  0.11593823 -0.13931152\n",
            "  0.22482131  0.07110508  0.12855722 -0.06902418 -0.19909674  0.28235316\n",
            "  0.02575272  0.17689599  0.39664373  0.08227926 -0.19386992  0.41935635\n",
            " -0.09664096 -0.26038542 -0.08585173 -0.1474843   0.06199944 -0.16014521\n",
            " -0.4099759  -0.2465112  -0.05851781 -0.473936    0.17616935 -0.18061118\n",
            "  0.01961164 -0.11829029  0.27819687 -0.05283042  0.16889639 -0.07429101\n",
            " -0.02256591  0.18648513 -0.00713282  0.0570677  -0.18152688  0.1917108\n",
            " -0.1296426  -0.14047177 -0.45942158 -0.27275372 -0.0084429  -0.46212167\n",
            " -0.2720086  -0.31595206 -0.00571382  0.22388856]\n"
          ]
        }
      ]
    },
    {
      "cell_type": "code",
      "source": [
        "semantically_similar_words = {words: [item[0] for item in fasttext_model.wv.most_similar([words], topn=5)]\n",
        "                  for words in ['food', 'service', 'place', 'price']}\n",
        "\n",
        "for k,v in semantically_similar_words.items():\n",
        "    print(k+\":\"+str(v))"
      ],
      "metadata": {
        "colab": {
          "base_uri": "https://localhost:8080/"
        },
        "id": "ea4Hfz8ch5XL",
        "outputId": "e21f88b1-a2d8-458a-e5da-6607ab6fb404"
      },
      "execution_count": 52,
      "outputs": [
        {
          "output_type": "stream",
          "name": "stdout",
          "text": [
            "food:['food3', 'food4', 'fooda', 'foodall', 'foodoh']\n",
            "service:['serviceso', 'service4', 'serviceit', 'serviced', 'serviceour']\n",
            "place:['placea', 'placeit', 'placeif', 'placefood', 'placeso']\n",
            "price:['pricing', 'priced', 'pricei', 'pricetag', 'pricer']\n"
          ]
        }
      ]
    },
    {
      "cell_type": "code",
      "source": [
        "print(fasttext_model.wv.similarity(w1='food', w2='service'))"
      ],
      "metadata": {
        "colab": {
          "base_uri": "https://localhost:8080/"
        },
        "id": "CQip-CnZiGHc",
        "outputId": "50095d15-0ca2-4f3e-a747-3d62f7811196"
      },
      "execution_count": 53,
      "outputs": [
        {
          "output_type": "stream",
          "name": "stdout",
          "text": [
            "0.59191245\n"
          ]
        }
      ]
    },
    {
      "cell_type": "code",
      "source": [
        "print(fasttext_model.wv.similarity(w1='food', w2='place'))"
      ],
      "metadata": {
        "colab": {
          "base_uri": "https://localhost:8080/"
        },
        "id": "LoYw1ZShcZin",
        "outputId": "380c37c1-2342-4f00-80ca-aec4f4762e03"
      },
      "execution_count": 54,
      "outputs": [
        {
          "output_type": "stream",
          "name": "stdout",
          "text": [
            "0.5579984\n"
          ]
        }
      ]
    },
    {
      "cell_type": "code",
      "source": [
        "print(fasttext_model.wv.similarity(w1='food', w2='price'))"
      ],
      "metadata": {
        "colab": {
          "base_uri": "https://localhost:8080/"
        },
        "id": "v6c8wWQ-ccY8",
        "outputId": "b6135fa6-a5b5-4d78-9d4c-47eea7098a52"
      },
      "execution_count": 55,
      "outputs": [
        {
          "output_type": "stream",
          "name": "stdout",
          "text": [
            "0.47630614\n"
          ]
        }
      ]
    },
    {
      "cell_type": "code",
      "source": [
        "print(fasttext_model.wv.similarity(w1='place', w2='service'))"
      ],
      "metadata": {
        "colab": {
          "base_uri": "https://localhost:8080/"
        },
        "id": "wI9Pyh4rcgi5",
        "outputId": "46ac51f8-6c73-4a87-af09-50f683a24ef9"
      },
      "execution_count": 56,
      "outputs": [
        {
          "output_type": "stream",
          "name": "stdout",
          "text": [
            "0.46273276\n"
          ]
        }
      ]
    },
    {
      "cell_type": "code",
      "source": [
        "print(fasttext_model.wv.similarity(w1='place', w2='price'))"
      ],
      "metadata": {
        "colab": {
          "base_uri": "https://localhost:8080/"
        },
        "id": "HZNg9mPNczW8",
        "outputId": "b64d3243-1161-4f12-c27f-2f4114cf5940"
      },
      "execution_count": 57,
      "outputs": [
        {
          "output_type": "stream",
          "name": "stdout",
          "text": [
            "0.4090378\n"
          ]
        }
      ]
    },
    {
      "cell_type": "code",
      "source": [
        "print(fasttext_model.wv.similarity(w1='service', w2='price'))"
      ],
      "metadata": {
        "colab": {
          "base_uri": "https://localhost:8080/"
        },
        "id": "wIb_2kfmEcB0",
        "outputId": "18350559-f1da-4b6f-8593-828662f3d18d"
      },
      "execution_count": 58,
      "outputs": [
        {
          "output_type": "stream",
          "name": "stdout",
          "text": [
            "0.4894688\n"
          ]
        }
      ]
    },
    {
      "cell_type": "code",
      "source": [
        "fasttext_model.wv.similarity('I was very surprised by this place', 'place')"
      ],
      "metadata": {
        "colab": {
          "base_uri": "https://localhost:8080/"
        },
        "id": "3Q1HenrnAnqW",
        "outputId": "7970e967-9f41-4a4f-ab70-675e7da5155e"
      },
      "execution_count": 59,
      "outputs": [
        {
          "output_type": "execute_result",
          "data": {
            "text/plain": [
              "0.66795117"
            ]
          },
          "metadata": {},
          "execution_count": 59
        }
      ]
    },
    {
      "cell_type": "code",
      "source": [
        "fasttext_model.wv.similarity(\"I was very surprised by this place\", \"service\")"
      ],
      "metadata": {
        "colab": {
          "base_uri": "https://localhost:8080/"
        },
        "id": "ScBG5nRQAnoN",
        "outputId": "8c341b12-4396-4f43-9a41-a1de74e6bfb8"
      },
      "execution_count": 60,
      "outputs": [
        {
          "output_type": "execute_result",
          "data": {
            "text/plain": [
              "0.47162268"
            ]
          },
          "metadata": {},
          "execution_count": 60
        }
      ]
    },
    {
      "cell_type": "code",
      "source": [
        "fasttext_model.wv.similarity(\"I was very surprised by this place\", \"food\")"
      ],
      "metadata": {
        "colab": {
          "base_uri": "https://localhost:8080/"
        },
        "id": "SGWrApQcElL3",
        "outputId": "371e5792-9abd-417a-cb68-fdcf00cac10f"
      },
      "execution_count": 61,
      "outputs": [
        {
          "output_type": "execute_result",
          "data": {
            "text/plain": [
              "0.59318775"
            ]
          },
          "metadata": {},
          "execution_count": 61
        }
      ]
    },
    {
      "cell_type": "code",
      "source": [
        "fasttext_model.wv.similarity(\"I was very surprised by this place\", \"price\")"
      ],
      "metadata": {
        "colab": {
          "base_uri": "https://localhost:8080/"
        },
        "id": "T1Pj4rgsEk_B",
        "outputId": "21ff0e6f-4978-4a18-baea-a1fc8bf7992b"
      },
      "execution_count": 62,
      "outputs": [
        {
          "output_type": "execute_result",
          "data": {
            "text/plain": [
              "0.4741543"
            ]
          },
          "metadata": {},
          "execution_count": 62
        }
      ]
    },
    {
      "cell_type": "code",
      "source": [
        "aspects = [\"food\", \"service\", \"place\", \"price\"]\n",
        "\n",
        "def get_similarity(text, aspect):\n",
        "    try:\n",
        "        text = \" \".join(text)\n",
        "        return fasttext_model.wv.similarity(text, aspect)\n",
        "    except:\n",
        "        return 0"
      ],
      "metadata": {
        "id": "CqaaGNyNAnmM"
      },
      "execution_count": 63,
      "outputs": []
    },
    {
      "cell_type": "code",
      "source": [
        "from tqdm import tqdm\n",
        "tqdm.pandas()\n",
        "for aspect in aspects:\n",
        "    df[aspect] = df['clean_review2'].progress_map(lambda text: get_similarity(text, aspect))"
      ],
      "metadata": {
        "colab": {
          "base_uri": "https://localhost:8080/"
        },
        "id": "Y02X3TunAnjr",
        "outputId": "5aa7aa21-b583-44d3-94e1-b45d7a7a0ce7"
      },
      "execution_count": 77,
      "outputs": [
        {
          "output_type": "stream",
          "name": "stderr",
          "text": [
            "100%|██████████| 292376/292376 [08:47<00:00, 553.89it/s]\n",
            "100%|██████████| 292376/292376 [08:42<00:00, 559.55it/s]\n",
            "100%|██████████| 292376/292376 [08:48<00:00, 553.70it/s]\n",
            "100%|██████████| 292376/292376 [08:45<00:00, 556.32it/s]\n"
          ]
        }
      ]
    },
    {
      "cell_type": "code",
      "source": [
        "df.head()"
      ],
      "metadata": {
        "colab": {
          "base_uri": "https://localhost:8080/",
          "height": 565
        },
        "id": "znh_asmTXWjY",
        "outputId": "13ac1a35-249d-4a00-e628-709cf1e10939"
      },
      "execution_count": 81,
      "outputs": [
        {
          "output_type": "execute_result",
          "data": {
            "text/plain": [
              "                  user_id             business_id                 date  stars  \\\n",
              "0  9OAtfnWag-ajVxRbUTGIyg  lj-E32x9_FA7GmUrBGBEWg  2014-06-27 22:44:01    4.0   \n",
              "1  5h9JA231vPilNAIjHxwGng  lj-E32x9_FA7GmUrBGBEWg  2014-08-24 19:24:26    5.0   \n",
              "2  c1fSI6Dv5lybr0AJh67e7w  lj-E32x9_FA7GmUrBGBEWg  2015-09-24 15:01:11    4.0   \n",
              "3  st-q1iyW3sJm-v0OCrheoQ  lj-E32x9_FA7GmUrBGBEWg  2015-10-17 04:56:25    5.0   \n",
              "4  9qBdzBzoDxLFSMhhGrTWJg  lj-E32x9_FA7GmUrBGBEWg  2016-01-04 16:56:32    4.0   \n",
              "\n",
              "                                             reviews  review_year  \\\n",
              "0  Love going here for happy hour or dinner!  Gre...         2014   \n",
              "1  My friends at work (connoisseurs of good food ...         2014   \n",
              "2  Great service, relaxing atmosphere and the foo...         2015   \n",
              "3  I went to Brio for the first time on Wednesday...         2015   \n",
              "4  I usually steer clear of the chain restaurants...         2016   \n",
              "\n",
              "                                        clean_review  \\\n",
              "0  love go happy hour dinner great patio fan beat...   \n",
              "1  friend work connoisseur good food st louis are...   \n",
              "2  great service relax atmosphere food exceptiona...   \n",
              "3  I go brio first time wednesday dinner friend s...   \n",
              "4  I usually steer clear chain restaurant since m...   \n",
              "\n",
              "                                       clean_review2      food   service  \\\n",
              "0  [love, go, happy, hour, dinner, great, patio, ...  0.533379  0.550373   \n",
              "1  [friend, work, connoisseur, good, food, st, lo...  0.603309  0.578850   \n",
              "2  [great, service, relax, atmosphere, food, exce...  0.635701  0.723729   \n",
              "3  [i, go, brio, first, time, wednesday, dinner, ...  0.614665  0.597369   \n",
              "4  [i, usually, steer, clear, chain, restaurant, ...  0.565750  0.524968   \n",
              "\n",
              "      place     price  \n",
              "0  0.604214  0.501414  \n",
              "1  0.592573  0.506964  \n",
              "2  0.620446  0.501792  \n",
              "3  0.633347  0.536175  \n",
              "4  0.690019  0.501281  "
            ],
            "text/html": [
              "\n",
              "  <div id=\"df-fcf9baed-9186-47cc-9d86-f020fd46750c\">\n",
              "    <div class=\"colab-df-container\">\n",
              "      <div>\n",
              "<style scoped>\n",
              "    .dataframe tbody tr th:only-of-type {\n",
              "        vertical-align: middle;\n",
              "    }\n",
              "\n",
              "    .dataframe tbody tr th {\n",
              "        vertical-align: top;\n",
              "    }\n",
              "\n",
              "    .dataframe thead th {\n",
              "        text-align: right;\n",
              "    }\n",
              "</style>\n",
              "<table border=\"1\" class=\"dataframe\">\n",
              "  <thead>\n",
              "    <tr style=\"text-align: right;\">\n",
              "      <th></th>\n",
              "      <th>user_id</th>\n",
              "      <th>business_id</th>\n",
              "      <th>date</th>\n",
              "      <th>stars</th>\n",
              "      <th>reviews</th>\n",
              "      <th>review_year</th>\n",
              "      <th>clean_review</th>\n",
              "      <th>clean_review2</th>\n",
              "      <th>food</th>\n",
              "      <th>service</th>\n",
              "      <th>place</th>\n",
              "      <th>price</th>\n",
              "    </tr>\n",
              "  </thead>\n",
              "  <tbody>\n",
              "    <tr>\n",
              "      <th>0</th>\n",
              "      <td>9OAtfnWag-ajVxRbUTGIyg</td>\n",
              "      <td>lj-E32x9_FA7GmUrBGBEWg</td>\n",
              "      <td>2014-06-27 22:44:01</td>\n",
              "      <td>4.0</td>\n",
              "      <td>Love going here for happy hour or dinner!  Gre...</td>\n",
              "      <td>2014</td>\n",
              "      <td>love go happy hour dinner great patio fan beat...</td>\n",
              "      <td>[love, go, happy, hour, dinner, great, patio, ...</td>\n",
              "      <td>0.533379</td>\n",
              "      <td>0.550373</td>\n",
              "      <td>0.604214</td>\n",
              "      <td>0.501414</td>\n",
              "    </tr>\n",
              "    <tr>\n",
              "      <th>1</th>\n",
              "      <td>5h9JA231vPilNAIjHxwGng</td>\n",
              "      <td>lj-E32x9_FA7GmUrBGBEWg</td>\n",
              "      <td>2014-08-24 19:24:26</td>\n",
              "      <td>5.0</td>\n",
              "      <td>My friends at work (connoisseurs of good food ...</td>\n",
              "      <td>2014</td>\n",
              "      <td>friend work connoisseur good food st louis are...</td>\n",
              "      <td>[friend, work, connoisseur, good, food, st, lo...</td>\n",
              "      <td>0.603309</td>\n",
              "      <td>0.578850</td>\n",
              "      <td>0.592573</td>\n",
              "      <td>0.506964</td>\n",
              "    </tr>\n",
              "    <tr>\n",
              "      <th>2</th>\n",
              "      <td>c1fSI6Dv5lybr0AJh67e7w</td>\n",
              "      <td>lj-E32x9_FA7GmUrBGBEWg</td>\n",
              "      <td>2015-09-24 15:01:11</td>\n",
              "      <td>4.0</td>\n",
              "      <td>Great service, relaxing atmosphere and the foo...</td>\n",
              "      <td>2015</td>\n",
              "      <td>great service relax atmosphere food exceptiona...</td>\n",
              "      <td>[great, service, relax, atmosphere, food, exce...</td>\n",
              "      <td>0.635701</td>\n",
              "      <td>0.723729</td>\n",
              "      <td>0.620446</td>\n",
              "      <td>0.501792</td>\n",
              "    </tr>\n",
              "    <tr>\n",
              "      <th>3</th>\n",
              "      <td>st-q1iyW3sJm-v0OCrheoQ</td>\n",
              "      <td>lj-E32x9_FA7GmUrBGBEWg</td>\n",
              "      <td>2015-10-17 04:56:25</td>\n",
              "      <td>5.0</td>\n",
              "      <td>I went to Brio for the first time on Wednesday...</td>\n",
              "      <td>2015</td>\n",
              "      <td>I go brio first time wednesday dinner friend s...</td>\n",
              "      <td>[i, go, brio, first, time, wednesday, dinner, ...</td>\n",
              "      <td>0.614665</td>\n",
              "      <td>0.597369</td>\n",
              "      <td>0.633347</td>\n",
              "      <td>0.536175</td>\n",
              "    </tr>\n",
              "    <tr>\n",
              "      <th>4</th>\n",
              "      <td>9qBdzBzoDxLFSMhhGrTWJg</td>\n",
              "      <td>lj-E32x9_FA7GmUrBGBEWg</td>\n",
              "      <td>2016-01-04 16:56:32</td>\n",
              "      <td>4.0</td>\n",
              "      <td>I usually steer clear of the chain restaurants...</td>\n",
              "      <td>2016</td>\n",
              "      <td>I usually steer clear chain restaurant since m...</td>\n",
              "      <td>[i, usually, steer, clear, chain, restaurant, ...</td>\n",
              "      <td>0.565750</td>\n",
              "      <td>0.524968</td>\n",
              "      <td>0.690019</td>\n",
              "      <td>0.501281</td>\n",
              "    </tr>\n",
              "  </tbody>\n",
              "</table>\n",
              "</div>\n",
              "      <button class=\"colab-df-convert\" onclick=\"convertToInteractive('df-fcf9baed-9186-47cc-9d86-f020fd46750c')\"\n",
              "              title=\"Convert this dataframe to an interactive table.\"\n",
              "              style=\"display:none;\">\n",
              "        \n",
              "  <svg xmlns=\"http://www.w3.org/2000/svg\" height=\"24px\"viewBox=\"0 0 24 24\"\n",
              "       width=\"24px\">\n",
              "    <path d=\"M0 0h24v24H0V0z\" fill=\"none\"/>\n",
              "    <path d=\"M18.56 5.44l.94 2.06.94-2.06 2.06-.94-2.06-.94-.94-2.06-.94 2.06-2.06.94zm-11 1L8.5 8.5l.94-2.06 2.06-.94-2.06-.94L8.5 2.5l-.94 2.06-2.06.94zm10 10l.94 2.06.94-2.06 2.06-.94-2.06-.94-.94-2.06-.94 2.06-2.06.94z\"/><path d=\"M17.41 7.96l-1.37-1.37c-.4-.4-.92-.59-1.43-.59-.52 0-1.04.2-1.43.59L10.3 9.45l-7.72 7.72c-.78.78-.78 2.05 0 2.83L4 21.41c.39.39.9.59 1.41.59.51 0 1.02-.2 1.41-.59l7.78-7.78 2.81-2.81c.8-.78.8-2.07 0-2.86zM5.41 20L4 18.59l7.72-7.72 1.47 1.35L5.41 20z\"/>\n",
              "  </svg>\n",
              "      </button>\n",
              "      \n",
              "  <style>\n",
              "    .colab-df-container {\n",
              "      display:flex;\n",
              "      flex-wrap:wrap;\n",
              "      gap: 12px;\n",
              "    }\n",
              "\n",
              "    .colab-df-convert {\n",
              "      background-color: #E8F0FE;\n",
              "      border: none;\n",
              "      border-radius: 50%;\n",
              "      cursor: pointer;\n",
              "      display: none;\n",
              "      fill: #1967D2;\n",
              "      height: 32px;\n",
              "      padding: 0 0 0 0;\n",
              "      width: 32px;\n",
              "    }\n",
              "\n",
              "    .colab-df-convert:hover {\n",
              "      background-color: #E2EBFA;\n",
              "      box-shadow: 0px 1px 2px rgba(60, 64, 67, 0.3), 0px 1px 3px 1px rgba(60, 64, 67, 0.15);\n",
              "      fill: #174EA6;\n",
              "    }\n",
              "\n",
              "    [theme=dark] .colab-df-convert {\n",
              "      background-color: #3B4455;\n",
              "      fill: #D2E3FC;\n",
              "    }\n",
              "\n",
              "    [theme=dark] .colab-df-convert:hover {\n",
              "      background-color: #434B5C;\n",
              "      box-shadow: 0px 1px 3px 1px rgba(0, 0, 0, 0.15);\n",
              "      filter: drop-shadow(0px 1px 2px rgba(0, 0, 0, 0.3));\n",
              "      fill: #FFFFFF;\n",
              "    }\n",
              "  </style>\n",
              "\n",
              "      <script>\n",
              "        const buttonEl =\n",
              "          document.querySelector('#df-fcf9baed-9186-47cc-9d86-f020fd46750c button.colab-df-convert');\n",
              "        buttonEl.style.display =\n",
              "          google.colab.kernel.accessAllowed ? 'block' : 'none';\n",
              "\n",
              "        async function convertToInteractive(key) {\n",
              "          const element = document.querySelector('#df-fcf9baed-9186-47cc-9d86-f020fd46750c');\n",
              "          const dataTable =\n",
              "            await google.colab.kernel.invokeFunction('convertToInteractive',\n",
              "                                                     [key], {});\n",
              "          if (!dataTable) return;\n",
              "\n",
              "          const docLinkHtml = 'Like what you see? Visit the ' +\n",
              "            '<a target=\"_blank\" href=https://colab.research.google.com/notebooks/data_table.ipynb>data table notebook</a>'\n",
              "            + ' to learn more about interactive tables.';\n",
              "          element.innerHTML = '';\n",
              "          dataTable['output_type'] = 'display_data';\n",
              "          await google.colab.output.renderOutput(dataTable, element);\n",
              "          const docLink = document.createElement('div');\n",
              "          docLink.innerHTML = docLinkHtml;\n",
              "          element.appendChild(docLink);\n",
              "        }\n",
              "      </script>\n",
              "    </div>\n",
              "  </div>\n",
              "  "
            ]
          },
          "metadata": {},
          "execution_count": 81
        }
      ]
    },
    {
      "cell_type": "code",
      "source": [
        "#save checkpoint\n",
        "df.to_csv(\"/content/gdrive/MyDrive/yelp_dataset/Clean_Yelp_ABSA_Reviews2.csv\", index = False)"
      ],
      "metadata": {
        "id": "k0y7u9gjO4W-"
      },
      "execution_count": 82,
      "outputs": []
    },
    {
      "cell_type": "code",
      "source": [
        "df.describe()"
      ],
      "metadata": {
        "colab": {
          "base_uri": "https://localhost:8080/",
          "height": 300
        },
        "id": "SvOfKOq7Gqnp",
        "outputId": "705b9776-9309-49be-abd7-57af8fcb3a25"
      },
      "execution_count": 83,
      "outputs": [
        {
          "output_type": "execute_result",
          "data": {
            "text/plain": [
              "               stars    review_year           food        service  \\\n",
              "count  292376.000000  292376.000000  292376.000000  292376.000000   \n",
              "mean        3.787113    2016.096964       0.577500       0.544896   \n",
              "std         1.368116       3.196996       0.047507       0.067984   \n",
              "min         1.000000    2005.000000       0.000000      -0.046627   \n",
              "25%         3.000000    2014.000000       0.549304       0.500160   \n",
              "50%         4.000000    2016.000000       0.580594       0.542505   \n",
              "75%         5.000000    2019.000000       0.609243       0.587919   \n",
              "max         5.000000    2022.000000       0.768563       0.846891   \n",
              "\n",
              "               place          price  \n",
              "count  292376.000000  292376.000000  \n",
              "mean        0.596461       0.508878  \n",
              "std         0.051792       0.048489  \n",
              "min         0.000000       0.000000  \n",
              "25%         0.564553       0.480152  \n",
              "50%         0.599314       0.508434  \n",
              "75%         0.631412       0.536732  \n",
              "max         0.817265       0.778234  "
            ],
            "text/html": [
              "\n",
              "  <div id=\"df-a57f5769-6302-4701-847e-a1533f9b4b6b\">\n",
              "    <div class=\"colab-df-container\">\n",
              "      <div>\n",
              "<style scoped>\n",
              "    .dataframe tbody tr th:only-of-type {\n",
              "        vertical-align: middle;\n",
              "    }\n",
              "\n",
              "    .dataframe tbody tr th {\n",
              "        vertical-align: top;\n",
              "    }\n",
              "\n",
              "    .dataframe thead th {\n",
              "        text-align: right;\n",
              "    }\n",
              "</style>\n",
              "<table border=\"1\" class=\"dataframe\">\n",
              "  <thead>\n",
              "    <tr style=\"text-align: right;\">\n",
              "      <th></th>\n",
              "      <th>stars</th>\n",
              "      <th>review_year</th>\n",
              "      <th>food</th>\n",
              "      <th>service</th>\n",
              "      <th>place</th>\n",
              "      <th>price</th>\n",
              "    </tr>\n",
              "  </thead>\n",
              "  <tbody>\n",
              "    <tr>\n",
              "      <th>count</th>\n",
              "      <td>292376.000000</td>\n",
              "      <td>292376.000000</td>\n",
              "      <td>292376.000000</td>\n",
              "      <td>292376.000000</td>\n",
              "      <td>292376.000000</td>\n",
              "      <td>292376.000000</td>\n",
              "    </tr>\n",
              "    <tr>\n",
              "      <th>mean</th>\n",
              "      <td>3.787113</td>\n",
              "      <td>2016.096964</td>\n",
              "      <td>0.577500</td>\n",
              "      <td>0.544896</td>\n",
              "      <td>0.596461</td>\n",
              "      <td>0.508878</td>\n",
              "    </tr>\n",
              "    <tr>\n",
              "      <th>std</th>\n",
              "      <td>1.368116</td>\n",
              "      <td>3.196996</td>\n",
              "      <td>0.047507</td>\n",
              "      <td>0.067984</td>\n",
              "      <td>0.051792</td>\n",
              "      <td>0.048489</td>\n",
              "    </tr>\n",
              "    <tr>\n",
              "      <th>min</th>\n",
              "      <td>1.000000</td>\n",
              "      <td>2005.000000</td>\n",
              "      <td>0.000000</td>\n",
              "      <td>-0.046627</td>\n",
              "      <td>0.000000</td>\n",
              "      <td>0.000000</td>\n",
              "    </tr>\n",
              "    <tr>\n",
              "      <th>25%</th>\n",
              "      <td>3.000000</td>\n",
              "      <td>2014.000000</td>\n",
              "      <td>0.549304</td>\n",
              "      <td>0.500160</td>\n",
              "      <td>0.564553</td>\n",
              "      <td>0.480152</td>\n",
              "    </tr>\n",
              "    <tr>\n",
              "      <th>50%</th>\n",
              "      <td>4.000000</td>\n",
              "      <td>2016.000000</td>\n",
              "      <td>0.580594</td>\n",
              "      <td>0.542505</td>\n",
              "      <td>0.599314</td>\n",
              "      <td>0.508434</td>\n",
              "    </tr>\n",
              "    <tr>\n",
              "      <th>75%</th>\n",
              "      <td>5.000000</td>\n",
              "      <td>2019.000000</td>\n",
              "      <td>0.609243</td>\n",
              "      <td>0.587919</td>\n",
              "      <td>0.631412</td>\n",
              "      <td>0.536732</td>\n",
              "    </tr>\n",
              "    <tr>\n",
              "      <th>max</th>\n",
              "      <td>5.000000</td>\n",
              "      <td>2022.000000</td>\n",
              "      <td>0.768563</td>\n",
              "      <td>0.846891</td>\n",
              "      <td>0.817265</td>\n",
              "      <td>0.778234</td>\n",
              "    </tr>\n",
              "  </tbody>\n",
              "</table>\n",
              "</div>\n",
              "      <button class=\"colab-df-convert\" onclick=\"convertToInteractive('df-a57f5769-6302-4701-847e-a1533f9b4b6b')\"\n",
              "              title=\"Convert this dataframe to an interactive table.\"\n",
              "              style=\"display:none;\">\n",
              "        \n",
              "  <svg xmlns=\"http://www.w3.org/2000/svg\" height=\"24px\"viewBox=\"0 0 24 24\"\n",
              "       width=\"24px\">\n",
              "    <path d=\"M0 0h24v24H0V0z\" fill=\"none\"/>\n",
              "    <path d=\"M18.56 5.44l.94 2.06.94-2.06 2.06-.94-2.06-.94-.94-2.06-.94 2.06-2.06.94zm-11 1L8.5 8.5l.94-2.06 2.06-.94-2.06-.94L8.5 2.5l-.94 2.06-2.06.94zm10 10l.94 2.06.94-2.06 2.06-.94-2.06-.94-.94-2.06-.94 2.06-2.06.94z\"/><path d=\"M17.41 7.96l-1.37-1.37c-.4-.4-.92-.59-1.43-.59-.52 0-1.04.2-1.43.59L10.3 9.45l-7.72 7.72c-.78.78-.78 2.05 0 2.83L4 21.41c.39.39.9.59 1.41.59.51 0 1.02-.2 1.41-.59l7.78-7.78 2.81-2.81c.8-.78.8-2.07 0-2.86zM5.41 20L4 18.59l7.72-7.72 1.47 1.35L5.41 20z\"/>\n",
              "  </svg>\n",
              "      </button>\n",
              "      \n",
              "  <style>\n",
              "    .colab-df-container {\n",
              "      display:flex;\n",
              "      flex-wrap:wrap;\n",
              "      gap: 12px;\n",
              "    }\n",
              "\n",
              "    .colab-df-convert {\n",
              "      background-color: #E8F0FE;\n",
              "      border: none;\n",
              "      border-radius: 50%;\n",
              "      cursor: pointer;\n",
              "      display: none;\n",
              "      fill: #1967D2;\n",
              "      height: 32px;\n",
              "      padding: 0 0 0 0;\n",
              "      width: 32px;\n",
              "    }\n",
              "\n",
              "    .colab-df-convert:hover {\n",
              "      background-color: #E2EBFA;\n",
              "      box-shadow: 0px 1px 2px rgba(60, 64, 67, 0.3), 0px 1px 3px 1px rgba(60, 64, 67, 0.15);\n",
              "      fill: #174EA6;\n",
              "    }\n",
              "\n",
              "    [theme=dark] .colab-df-convert {\n",
              "      background-color: #3B4455;\n",
              "      fill: #D2E3FC;\n",
              "    }\n",
              "\n",
              "    [theme=dark] .colab-df-convert:hover {\n",
              "      background-color: #434B5C;\n",
              "      box-shadow: 0px 1px 3px 1px rgba(0, 0, 0, 0.15);\n",
              "      filter: drop-shadow(0px 1px 2px rgba(0, 0, 0, 0.3));\n",
              "      fill: #FFFFFF;\n",
              "    }\n",
              "  </style>\n",
              "\n",
              "      <script>\n",
              "        const buttonEl =\n",
              "          document.querySelector('#df-a57f5769-6302-4701-847e-a1533f9b4b6b button.colab-df-convert');\n",
              "        buttonEl.style.display =\n",
              "          google.colab.kernel.accessAllowed ? 'block' : 'none';\n",
              "\n",
              "        async function convertToInteractive(key) {\n",
              "          const element = document.querySelector('#df-a57f5769-6302-4701-847e-a1533f9b4b6b');\n",
              "          const dataTable =\n",
              "            await google.colab.kernel.invokeFunction('convertToInteractive',\n",
              "                                                     [key], {});\n",
              "          if (!dataTable) return;\n",
              "\n",
              "          const docLinkHtml = 'Like what you see? Visit the ' +\n",
              "            '<a target=\"_blank\" href=https://colab.research.google.com/notebooks/data_table.ipynb>data table notebook</a>'\n",
              "            + ' to learn more about interactive tables.';\n",
              "          element.innerHTML = '';\n",
              "          dataTable['output_type'] = 'display_data';\n",
              "          await google.colab.output.renderOutput(dataTable, element);\n",
              "          const docLink = document.createElement('div');\n",
              "          docLink.innerHTML = docLinkHtml;\n",
              "          element.appendChild(docLink);\n",
              "        }\n",
              "      </script>\n",
              "    </div>\n",
              "  </div>\n",
              "  "
            ]
          },
          "metadata": {},
          "execution_count": 83
        }
      ]
    },
    {
      "cell_type": "code",
      "source": [
        "df.dtypes"
      ],
      "metadata": {
        "colab": {
          "base_uri": "https://localhost:8080/"
        },
        "id": "n36rpHrNNQ3i",
        "outputId": "7ffe2d3a-9e3d-4ee1-b39c-0f79d13f4519"
      },
      "execution_count": 84,
      "outputs": [
        {
          "output_type": "execute_result",
          "data": {
            "text/plain": [
              "user_id           object\n",
              "business_id       object\n",
              "date              object\n",
              "stars            float64\n",
              "reviews           object\n",
              "review_year        int64\n",
              "clean_review      object\n",
              "clean_review2     object\n",
              "food             float64\n",
              "service          float64\n",
              "place            float64\n",
              "price            float64\n",
              "dtype: object"
            ]
          },
          "metadata": {},
          "execution_count": 84
        }
      ]
    },
    {
      "cell_type": "code",
      "source": [
        "#rename columns\n",
        "df.rename(columns = {'food':'food_similarity'}, inplace = True)\n",
        "df.rename(columns = {'service':'service_similarity'}, inplace = True)\n",
        "df.rename(columns = {'place':'place_similarity'}, inplace = True)\n",
        "df.rename(columns = {'price':'price_similarity'}, inplace = True)"
      ],
      "metadata": {
        "id": "HY9PZDhdFsUE"
      },
      "execution_count": 85,
      "outputs": []
    },
    {
      "cell_type": "code",
      "source": [
        "df.head()"
      ],
      "metadata": {
        "colab": {
          "base_uri": "https://localhost:8080/",
          "height": 565
        },
        "id": "zeZs0_v5Og62",
        "outputId": "3975842b-7412-4eb8-b80f-1c0a5d99df16"
      },
      "execution_count": 86,
      "outputs": [
        {
          "output_type": "execute_result",
          "data": {
            "text/plain": [
              "                  user_id             business_id                 date  stars  \\\n",
              "0  9OAtfnWag-ajVxRbUTGIyg  lj-E32x9_FA7GmUrBGBEWg  2014-06-27 22:44:01    4.0   \n",
              "1  5h9JA231vPilNAIjHxwGng  lj-E32x9_FA7GmUrBGBEWg  2014-08-24 19:24:26    5.0   \n",
              "2  c1fSI6Dv5lybr0AJh67e7w  lj-E32x9_FA7GmUrBGBEWg  2015-09-24 15:01:11    4.0   \n",
              "3  st-q1iyW3sJm-v0OCrheoQ  lj-E32x9_FA7GmUrBGBEWg  2015-10-17 04:56:25    5.0   \n",
              "4  9qBdzBzoDxLFSMhhGrTWJg  lj-E32x9_FA7GmUrBGBEWg  2016-01-04 16:56:32    4.0   \n",
              "\n",
              "                                             reviews  review_year  \\\n",
              "0  Love going here for happy hour or dinner!  Gre...         2014   \n",
              "1  My friends at work (connoisseurs of good food ...         2014   \n",
              "2  Great service, relaxing atmosphere and the foo...         2015   \n",
              "3  I went to Brio for the first time on Wednesday...         2015   \n",
              "4  I usually steer clear of the chain restaurants...         2016   \n",
              "\n",
              "                                        clean_review  \\\n",
              "0  love go happy hour dinner great patio fan beat...   \n",
              "1  friend work connoisseur good food st louis are...   \n",
              "2  great service relax atmosphere food exceptiona...   \n",
              "3  I go brio first time wednesday dinner friend s...   \n",
              "4  I usually steer clear chain restaurant since m...   \n",
              "\n",
              "                                       clean_review2  food_similarity  \\\n",
              "0  [love, go, happy, hour, dinner, great, patio, ...         0.533379   \n",
              "1  [friend, work, connoisseur, good, food, st, lo...         0.603309   \n",
              "2  [great, service, relax, atmosphere, food, exce...         0.635701   \n",
              "3  [i, go, brio, first, time, wednesday, dinner, ...         0.614665   \n",
              "4  [i, usually, steer, clear, chain, restaurant, ...         0.565750   \n",
              "\n",
              "   service_similarity  place_similarity  price_similarity  \n",
              "0            0.550373          0.604214          0.501414  \n",
              "1            0.578850          0.592573          0.506964  \n",
              "2            0.723729          0.620446          0.501792  \n",
              "3            0.597369          0.633347          0.536175  \n",
              "4            0.524968          0.690019          0.501281  "
            ],
            "text/html": [
              "\n",
              "  <div id=\"df-632c9717-40e3-451f-a5dc-981a58763246\">\n",
              "    <div class=\"colab-df-container\">\n",
              "      <div>\n",
              "<style scoped>\n",
              "    .dataframe tbody tr th:only-of-type {\n",
              "        vertical-align: middle;\n",
              "    }\n",
              "\n",
              "    .dataframe tbody tr th {\n",
              "        vertical-align: top;\n",
              "    }\n",
              "\n",
              "    .dataframe thead th {\n",
              "        text-align: right;\n",
              "    }\n",
              "</style>\n",
              "<table border=\"1\" class=\"dataframe\">\n",
              "  <thead>\n",
              "    <tr style=\"text-align: right;\">\n",
              "      <th></th>\n",
              "      <th>user_id</th>\n",
              "      <th>business_id</th>\n",
              "      <th>date</th>\n",
              "      <th>stars</th>\n",
              "      <th>reviews</th>\n",
              "      <th>review_year</th>\n",
              "      <th>clean_review</th>\n",
              "      <th>clean_review2</th>\n",
              "      <th>food_similarity</th>\n",
              "      <th>service_similarity</th>\n",
              "      <th>place_similarity</th>\n",
              "      <th>price_similarity</th>\n",
              "    </tr>\n",
              "  </thead>\n",
              "  <tbody>\n",
              "    <tr>\n",
              "      <th>0</th>\n",
              "      <td>9OAtfnWag-ajVxRbUTGIyg</td>\n",
              "      <td>lj-E32x9_FA7GmUrBGBEWg</td>\n",
              "      <td>2014-06-27 22:44:01</td>\n",
              "      <td>4.0</td>\n",
              "      <td>Love going here for happy hour or dinner!  Gre...</td>\n",
              "      <td>2014</td>\n",
              "      <td>love go happy hour dinner great patio fan beat...</td>\n",
              "      <td>[love, go, happy, hour, dinner, great, patio, ...</td>\n",
              "      <td>0.533379</td>\n",
              "      <td>0.550373</td>\n",
              "      <td>0.604214</td>\n",
              "      <td>0.501414</td>\n",
              "    </tr>\n",
              "    <tr>\n",
              "      <th>1</th>\n",
              "      <td>5h9JA231vPilNAIjHxwGng</td>\n",
              "      <td>lj-E32x9_FA7GmUrBGBEWg</td>\n",
              "      <td>2014-08-24 19:24:26</td>\n",
              "      <td>5.0</td>\n",
              "      <td>My friends at work (connoisseurs of good food ...</td>\n",
              "      <td>2014</td>\n",
              "      <td>friend work connoisseur good food st louis are...</td>\n",
              "      <td>[friend, work, connoisseur, good, food, st, lo...</td>\n",
              "      <td>0.603309</td>\n",
              "      <td>0.578850</td>\n",
              "      <td>0.592573</td>\n",
              "      <td>0.506964</td>\n",
              "    </tr>\n",
              "    <tr>\n",
              "      <th>2</th>\n",
              "      <td>c1fSI6Dv5lybr0AJh67e7w</td>\n",
              "      <td>lj-E32x9_FA7GmUrBGBEWg</td>\n",
              "      <td>2015-09-24 15:01:11</td>\n",
              "      <td>4.0</td>\n",
              "      <td>Great service, relaxing atmosphere and the foo...</td>\n",
              "      <td>2015</td>\n",
              "      <td>great service relax atmosphere food exceptiona...</td>\n",
              "      <td>[great, service, relax, atmosphere, food, exce...</td>\n",
              "      <td>0.635701</td>\n",
              "      <td>0.723729</td>\n",
              "      <td>0.620446</td>\n",
              "      <td>0.501792</td>\n",
              "    </tr>\n",
              "    <tr>\n",
              "      <th>3</th>\n",
              "      <td>st-q1iyW3sJm-v0OCrheoQ</td>\n",
              "      <td>lj-E32x9_FA7GmUrBGBEWg</td>\n",
              "      <td>2015-10-17 04:56:25</td>\n",
              "      <td>5.0</td>\n",
              "      <td>I went to Brio for the first time on Wednesday...</td>\n",
              "      <td>2015</td>\n",
              "      <td>I go brio first time wednesday dinner friend s...</td>\n",
              "      <td>[i, go, brio, first, time, wednesday, dinner, ...</td>\n",
              "      <td>0.614665</td>\n",
              "      <td>0.597369</td>\n",
              "      <td>0.633347</td>\n",
              "      <td>0.536175</td>\n",
              "    </tr>\n",
              "    <tr>\n",
              "      <th>4</th>\n",
              "      <td>9qBdzBzoDxLFSMhhGrTWJg</td>\n",
              "      <td>lj-E32x9_FA7GmUrBGBEWg</td>\n",
              "      <td>2016-01-04 16:56:32</td>\n",
              "      <td>4.0</td>\n",
              "      <td>I usually steer clear of the chain restaurants...</td>\n",
              "      <td>2016</td>\n",
              "      <td>I usually steer clear chain restaurant since m...</td>\n",
              "      <td>[i, usually, steer, clear, chain, restaurant, ...</td>\n",
              "      <td>0.565750</td>\n",
              "      <td>0.524968</td>\n",
              "      <td>0.690019</td>\n",
              "      <td>0.501281</td>\n",
              "    </tr>\n",
              "  </tbody>\n",
              "</table>\n",
              "</div>\n",
              "      <button class=\"colab-df-convert\" onclick=\"convertToInteractive('df-632c9717-40e3-451f-a5dc-981a58763246')\"\n",
              "              title=\"Convert this dataframe to an interactive table.\"\n",
              "              style=\"display:none;\">\n",
              "        \n",
              "  <svg xmlns=\"http://www.w3.org/2000/svg\" height=\"24px\"viewBox=\"0 0 24 24\"\n",
              "       width=\"24px\">\n",
              "    <path d=\"M0 0h24v24H0V0z\" fill=\"none\"/>\n",
              "    <path d=\"M18.56 5.44l.94 2.06.94-2.06 2.06-.94-2.06-.94-.94-2.06-.94 2.06-2.06.94zm-11 1L8.5 8.5l.94-2.06 2.06-.94-2.06-.94L8.5 2.5l-.94 2.06-2.06.94zm10 10l.94 2.06.94-2.06 2.06-.94-2.06-.94-.94-2.06-.94 2.06-2.06.94z\"/><path d=\"M17.41 7.96l-1.37-1.37c-.4-.4-.92-.59-1.43-.59-.52 0-1.04.2-1.43.59L10.3 9.45l-7.72 7.72c-.78.78-.78 2.05 0 2.83L4 21.41c.39.39.9.59 1.41.59.51 0 1.02-.2 1.41-.59l7.78-7.78 2.81-2.81c.8-.78.8-2.07 0-2.86zM5.41 20L4 18.59l7.72-7.72 1.47 1.35L5.41 20z\"/>\n",
              "  </svg>\n",
              "      </button>\n",
              "      \n",
              "  <style>\n",
              "    .colab-df-container {\n",
              "      display:flex;\n",
              "      flex-wrap:wrap;\n",
              "      gap: 12px;\n",
              "    }\n",
              "\n",
              "    .colab-df-convert {\n",
              "      background-color: #E8F0FE;\n",
              "      border: none;\n",
              "      border-radius: 50%;\n",
              "      cursor: pointer;\n",
              "      display: none;\n",
              "      fill: #1967D2;\n",
              "      height: 32px;\n",
              "      padding: 0 0 0 0;\n",
              "      width: 32px;\n",
              "    }\n",
              "\n",
              "    .colab-df-convert:hover {\n",
              "      background-color: #E2EBFA;\n",
              "      box-shadow: 0px 1px 2px rgba(60, 64, 67, 0.3), 0px 1px 3px 1px rgba(60, 64, 67, 0.15);\n",
              "      fill: #174EA6;\n",
              "    }\n",
              "\n",
              "    [theme=dark] .colab-df-convert {\n",
              "      background-color: #3B4455;\n",
              "      fill: #D2E3FC;\n",
              "    }\n",
              "\n",
              "    [theme=dark] .colab-df-convert:hover {\n",
              "      background-color: #434B5C;\n",
              "      box-shadow: 0px 1px 3px 1px rgba(0, 0, 0, 0.15);\n",
              "      filter: drop-shadow(0px 1px 2px rgba(0, 0, 0, 0.3));\n",
              "      fill: #FFFFFF;\n",
              "    }\n",
              "  </style>\n",
              "\n",
              "      <script>\n",
              "        const buttonEl =\n",
              "          document.querySelector('#df-632c9717-40e3-451f-a5dc-981a58763246 button.colab-df-convert');\n",
              "        buttonEl.style.display =\n",
              "          google.colab.kernel.accessAllowed ? 'block' : 'none';\n",
              "\n",
              "        async function convertToInteractive(key) {\n",
              "          const element = document.querySelector('#df-632c9717-40e3-451f-a5dc-981a58763246');\n",
              "          const dataTable =\n",
              "            await google.colab.kernel.invokeFunction('convertToInteractive',\n",
              "                                                     [key], {});\n",
              "          if (!dataTable) return;\n",
              "\n",
              "          const docLinkHtml = 'Like what you see? Visit the ' +\n",
              "            '<a target=\"_blank\" href=https://colab.research.google.com/notebooks/data_table.ipynb>data table notebook</a>'\n",
              "            + ' to learn more about interactive tables.';\n",
              "          element.innerHTML = '';\n",
              "          dataTable['output_type'] = 'display_data';\n",
              "          await google.colab.output.renderOutput(dataTable, element);\n",
              "          const docLink = document.createElement('div');\n",
              "          docLink.innerHTML = docLinkHtml;\n",
              "          element.appendChild(docLink);\n",
              "        }\n",
              "      </script>\n",
              "    </div>\n",
              "  </div>\n",
              "  "
            ]
          },
          "metadata": {},
          "execution_count": 86
        }
      ]
    },
    {
      "cell_type": "code",
      "source": [
        "df['food_similarity']=df['food_similarity'].astype('float')"
      ],
      "metadata": {
        "id": "jCD0TOJbOO7b"
      },
      "execution_count": 87,
      "outputs": []
    },
    {
      "cell_type": "code",
      "source": [
        "#filter food similarity\n",
        "\n",
        "def cat_similarity(x):\n",
        "    if x > 0.60:\n",
        "        return '1'\n",
        "    else:\n",
        "        return '0'\n",
        "\n",
        "df['food'] = df['food_similarity'].apply(cat_similarity)\n",
        "\n",
        "df['food_similarity'].value_counts()"
      ],
      "metadata": {
        "colab": {
          "base_uri": "https://localhost:8080/"
        },
        "id": "OyDZzPDcGW9f",
        "outputId": "2f7ef3fc-2a38-4f56-b9f2-206f6f08ab7d"
      },
      "execution_count": 104,
      "outputs": [
        {
          "output_type": "execute_result",
          "data": {
            "text/plain": [
              "0.613320    5\n",
              "0.573721    4\n",
              "0.551213    4\n",
              "0.590407    4\n",
              "0.611379    4\n",
              "           ..\n",
              "0.540699    1\n",
              "0.567810    1\n",
              "0.563687    1\n",
              "0.648505    1\n",
              "0.518570    1\n",
              "Name: food_similarity, Length: 276426, dtype: int64"
            ]
          },
          "metadata": {},
          "execution_count": 104
        }
      ]
    },
    {
      "cell_type": "code",
      "source": [
        "import seaborn as sns\n",
        "\n",
        "sns.countplot(x = \"food\", data = df)\n",
        "plt.show()"
      ],
      "metadata": {
        "colab": {
          "base_uri": "https://localhost:8080/",
          "height": 279
        },
        "id": "Ztqht5hYXv5Q",
        "outputId": "1c919234-f3f1-49e7-e8c6-930a32c7eea2"
      },
      "execution_count": 105,
      "outputs": [
        {
          "output_type": "display_data",
          "data": {
            "text/plain": [
              "<Figure size 432x288 with 1 Axes>"
            ],
            "image/png": "[encoded data removed]"
          },
          "metadata": {
            "needs_background": "light"
          }
        }
      ]
    },
    {
      "cell_type": "code",
      "source": [
        "#filter service similarity\n",
        "def cat_similarity(x):\n",
        "    if x > 0.60:\n",
        "        return '1'\n",
        "    else:\n",
        "        return '0'\n",
        "\n",
        "df['service'] = df['service_similarity'].apply(cat_similarity)\n",
        "\n",
        "df['service_similarity'].value_counts()"
      ],
      "metadata": {
        "colab": {
          "base_uri": "https://localhost:8080/"
        },
        "id": "2G2FacDJH7oQ",
        "outputId": "ff05d5b8-bd47-43cb-a356-244b97b7d8ff"
      },
      "execution_count": 106,
      "outputs": [
        {
          "output_type": "execute_result",
          "data": {
            "text/plain": [
              "0.566939    4\n",
              "0.520032    4\n",
              "0.555218    4\n",
              "0.508155    4\n",
              "0.567525    4\n",
              "           ..\n",
              "0.455987    1\n",
              "0.549431    1\n",
              "0.608109    1\n",
              "0.522804    1\n",
              "0.446904    1\n",
              "Name: service_similarity, Length: 281965, dtype: int64"
            ]
          },
          "metadata": {},
          "execution_count": 106
        }
      ]
    },
    {
      "cell_type": "code",
      "source": [
        "sns.countplot(x = \"service\", data = df)\n",
        "plt.show()"
      ],
      "metadata": {
        "colab": {
          "base_uri": "https://localhost:8080/",
          "height": 279
        },
        "id": "xxC9M3UVYcuo",
        "outputId": "cc76b452-0a44-4417-f7a5-5c74ad34dc06"
      },
      "execution_count": 107,
      "outputs": [
        {
          "output_type": "display_data",
          "data": {
            "text/plain": [
              "<Figure size 432x288 with 1 Axes>"
            ],
            "image/png": "[encoded data removed]"
          },
          "metadata": {
            "needs_background": "light"
          }
        }
      ]
    },
    {
      "cell_type": "code",
      "source": [
        "#filter place similarity\n",
        "def cat_similarity(x):\n",
        "    if x > 0.60:\n",
        "        return '1'\n",
        "    else:\n",
        "        return '0'\n",
        "\n",
        "df['place'] = df['place_similarity'].apply(cat_similarity)\n",
        "\n",
        "df['place_similarity'].value_counts()"
      ],
      "metadata": {
        "colab": {
          "base_uri": "https://localhost:8080/"
        },
        "id": "EzPoeOR3INp_",
        "outputId": "39d379c4-79fc-439a-df78-2f27f2130c3d"
      },
      "execution_count": 108,
      "outputs": [
        {
          "output_type": "execute_result",
          "data": {
            "text/plain": [
              "0.590413    4\n",
              "0.586422    4\n",
              "0.567581    4\n",
              "0.596857    4\n",
              "0.609993    4\n",
              "           ..\n",
              "0.523070    1\n",
              "0.581824    1\n",
              "0.487596    1\n",
              "0.538697    1\n",
              "0.549674    1\n",
              "Name: place_similarity, Length: 277881, dtype: int64"
            ]
          },
          "metadata": {},
          "execution_count": 108
        }
      ]
    },
    {
      "cell_type": "code",
      "source": [
        "sns.countplot(x = \"place\", data = df)\n",
        "plt.show()"
      ],
      "metadata": {
        "colab": {
          "base_uri": "https://localhost:8080/",
          "height": 279
        },
        "id": "ReAeN0umYpG2",
        "outputId": "c7405bfb-4a20-4f29-adb1-c7c7ad1a86a8"
      },
      "execution_count": 109,
      "outputs": [
        {
          "output_type": "display_data",
          "data": {
            "text/plain": [
              "<Figure size 432x288 with 1 Axes>"
            ],
            "image/png": "[encoded data removed]"
          },
          "metadata": {
            "needs_background": "light"
          }
        }
      ]
    },
    {
      "cell_type": "code",
      "source": [
        "#filter price similarity\n",
        "def cat_similarity(x):\n",
        "    if x > 0.60:\n",
        "        return '1'\n",
        "    else:\n",
        "        return '0'\n",
        "\n",
        "df['price'] = df['price_similarity'].apply(cat_similarity)\n",
        "\n",
        "df['price_similarity'].value_counts()"
      ],
      "metadata": {
        "colab": {
          "base_uri": "https://localhost:8080/"
        },
        "id": "fDg4T5ewIVnV",
        "outputId": "65cbab2c-5fa2-4ba0-a4ba-cff283cd1366"
      },
      "execution_count": 110,
      "outputs": [
        {
          "output_type": "execute_result",
          "data": {
            "text/plain": [
              "0.514374    4\n",
              "0.504477    4\n",
              "0.519188    4\n",
              "0.520334    4\n",
              "0.532638    4\n",
              "           ..\n",
              "0.495542    1\n",
              "0.584874    1\n",
              "0.541759    1\n",
              "0.529147    1\n",
              "0.516854    1\n",
              "Name: price_similarity, Length: 279145, dtype: int64"
            ]
          },
          "metadata": {},
          "execution_count": 110
        }
      ]
    },
    {
      "cell_type": "code",
      "source": [
        "sns.countplot(x = \"price\", data = df)\n",
        "plt.show()"
      ],
      "metadata": {
        "colab": {
          "base_uri": "https://localhost:8080/",
          "height": 279
        },
        "id": "82m55Pz-Zt3W",
        "outputId": "4975f86f-095f-413d-df01-1bb40c8e3627"
      },
      "execution_count": 111,
      "outputs": [
        {
          "output_type": "display_data",
          "data": {
            "text/plain": [
              "<Figure size 432x288 with 1 Axes>"
            ],
            "image/png": "[encoded data removed]"
          },
          "metadata": {
            "needs_background": "light"
          }
        }
      ]
    },
    {
      "cell_type": "code",
      "source": [
        "#add sentiment\n",
        "Cust = []\n",
        "for i in df['stars']:\n",
        "    if (i == 1):\n",
        "        Cust.append('BAD')\n",
        "    elif (i == 3) | (i == 2):\n",
        "        Cust.append('NEUTRAL')\n",
        "    else:\n",
        "        Cust.append('GOOD')\n",
        "        \n",
        "\n",
        "df['Customer EXP'] = Cust\n",
        "df['Customer EXP'].value_counts()"
      ],
      "metadata": {
        "colab": {
          "base_uri": "https://localhost:8080/"
        },
        "id": "wa8C33g9FsJF",
        "outputId": "cfbf5860-e9cb-48f4-e258-be9d96e7aaab"
      },
      "execution_count": 112,
      "outputs": [
        {
          "output_type": "execute_result",
          "data": {
            "text/plain": [
              "GOOD       197895\n",
              "NEUTRAL     61608\n",
              "BAD         32873\n",
              "Name: Customer EXP, dtype: int64"
            ]
          },
          "metadata": {},
          "execution_count": 112
        }
      ]
    },
    {
      "cell_type": "code",
      "source": [
        "df.head()"
      ],
      "metadata": {
        "colab": {
          "base_uri": "https://localhost:8080/",
          "height": 583
        },
        "id": "TcKvjSyPHz27",
        "outputId": "067fafd0-f74b-42c0-90ab-5a07d2ff59d3"
      },
      "execution_count": 113,
      "outputs": [
        {
          "output_type": "execute_result",
          "data": {
            "text/plain": [
              "                  user_id             business_id                 date  stars  \\\n",
              "0  9OAtfnWag-ajVxRbUTGIyg  lj-E32x9_FA7GmUrBGBEWg  2014-06-27 22:44:01    4.0   \n",
              "1  5h9JA231vPilNAIjHxwGng  lj-E32x9_FA7GmUrBGBEWg  2014-08-24 19:24:26    5.0   \n",
              "2  c1fSI6Dv5lybr0AJh67e7w  lj-E32x9_FA7GmUrBGBEWg  2015-09-24 15:01:11    4.0   \n",
              "3  st-q1iyW3sJm-v0OCrheoQ  lj-E32x9_FA7GmUrBGBEWg  2015-10-17 04:56:25    5.0   \n",
              "4  9qBdzBzoDxLFSMhhGrTWJg  lj-E32x9_FA7GmUrBGBEWg  2016-01-04 16:56:32    4.0   \n",
              "\n",
              "                                             reviews  review_year  \\\n",
              "0  Love going here for happy hour or dinner!  Gre...         2014   \n",
              "1  My friends at work (connoisseurs of good food ...         2014   \n",
              "2  Great service, relaxing atmosphere and the foo...         2015   \n",
              "3  I went to Brio for the first time on Wednesday...         2015   \n",
              "4  I usually steer clear of the chain restaurants...         2016   \n",
              "\n",
              "                                        clean_review  \\\n",
              "0  love go happy hour dinner great patio fan beat...   \n",
              "1  friend work connoisseur good food st louis are...   \n",
              "2  great service relax atmosphere food exceptiona...   \n",
              "3  I go brio first time wednesday dinner friend s...   \n",
              "4  I usually steer clear chain restaurant since m...   \n",
              "\n",
              "                                       clean_review2  food_similarity  \\\n",
              "0  [love, go, happy, hour, dinner, great, patio, ...         0.533379   \n",
              "1  [friend, work, connoisseur, good, food, st, lo...         0.603309   \n",
              "2  [great, service, relax, atmosphere, food, exce...         0.635701   \n",
              "3  [i, go, brio, first, time, wednesday, dinner, ...         0.614665   \n",
              "4  [i, usually, steer, clear, chain, restaurant, ...         0.565750   \n",
              "\n",
              "   service_similarity  place_similarity  price_similarity food service place  \\\n",
              "0            0.550373          0.604214          0.501414    0       0     1   \n",
              "1            0.578850          0.592573          0.506964    1       0     0   \n",
              "2            0.723729          0.620446          0.501792    1       1     1   \n",
              "3            0.597369          0.633347          0.536175    1       0     1   \n",
              "4            0.524968          0.690019          0.501281    0       0     1   \n",
              "\n",
              "  price Customer EXP  \n",
              "0     0         GOOD  \n",
              "1     0         GOOD  \n",
              "2     0         GOOD  \n",
              "3     0         GOOD  \n",
              "4     0         GOOD  "
            ],
            "text/html": [
              "\n",
              "  <div id=\"df-da64d0ce-e5ab-4fd3-afed-0e7e020a99ad\">\n",
              "    <div class=\"colab-df-container\">\n",
              "      <div>\n",
              "<style scoped>\n",
              "    .dataframe tbody tr th:only-of-type {\n",
              "        vertical-align: middle;\n",
              "    }\n",
              "\n",
              "    .dataframe tbody tr th {\n",
              "        vertical-align: top;\n",
              "    }\n",
              "\n",
              "    .dataframe thead th {\n",
              "        text-align: right;\n",
              "    }\n",
              "</style>\n",
              "<table border=\"1\" class=\"dataframe\">\n",
              "  <thead>\n",
              "    <tr style=\"text-align: right;\">\n",
              "      <th></th>\n",
              "      <th>user_id</th>\n",
              "      <th>business_id</th>\n",
              "      <th>date</th>\n",
              "      <th>stars</th>\n",
              "      <th>reviews</th>\n",
              "      <th>review_year</th>\n",
              "      <th>clean_review</th>\n",
              "      <th>clean_review2</th>\n",
              "      <th>food_similarity</th>\n",
              "      <th>service_similarity</th>\n",
              "      <th>place_similarity</th>\n",
              "      <th>price_similarity</th>\n",
              "      <th>food</th>\n",
              "      <th>service</th>\n",
              "      <th>place</th>\n",
              "      <th>price</th>\n",
              "      <th>Customer EXP</th>\n",
              "    </tr>\n",
              "  </thead>\n",
              "  <tbody>\n",
              "    <tr>\n",
              "      <th>0</th>\n",
              "      <td>9OAtfnWag-ajVxRbUTGIyg</td>\n",
              "      <td>lj-E32x9_FA7GmUrBGBEWg</td>\n",
              "      <td>2014-06-27 22:44:01</td>\n",
              "      <td>4.0</td>\n",
              "      <td>Love going here for happy hour or dinner!  Gre...</td>\n",
              "      <td>2014</td>\n",
              "      <td>love go happy hour dinner great patio fan beat...</td>\n",
              "      <td>[love, go, happy, hour, dinner, great, patio, ...</td>\n",
              "      <td>0.533379</td>\n",
              "      <td>0.550373</td>\n",
              "      <td>0.604214</td>\n",
              "      <td>0.501414</td>\n",
              "      <td>0</td>\n",
              "      <td>0</td>\n",
              "      <td>1</td>\n",
              "      <td>0</td>\n",
              "      <td>GOOD</td>\n",
              "    </tr>\n",
              "    <tr>\n",
              "      <th>1</th>\n",
              "      <td>5h9JA231vPilNAIjHxwGng</td>\n",
              "      <td>lj-E32x9_FA7GmUrBGBEWg</td>\n",
              "      <td>2014-08-24 19:24:26</td>\n",
              "      <td>5.0</td>\n",
              "      <td>My friends at work (connoisseurs of good food ...</td>\n",
              "      <td>2014</td>\n",
              "      <td>friend work connoisseur good food st louis are...</td>\n",
              "      <td>[friend, work, connoisseur, good, food, st, lo...</td>\n",
              "      <td>0.603309</td>\n",
              "      <td>0.578850</td>\n",
              "      <td>0.592573</td>\n",
              "      <td>0.506964</td>\n",
              "      <td>1</td>\n",
              "      <td>0</td>\n",
              "      <td>0</td>\n",
              "      <td>0</td>\n",
              "      <td>GOOD</td>\n",
              "    </tr>\n",
              "    <tr>\n",
              "      <th>2</th>\n",
              "      <td>c1fSI6Dv5lybr0AJh67e7w</td>\n",
              "      <td>lj-E32x9_FA7GmUrBGBEWg</td>\n",
              "      <td>2015-09-24 15:01:11</td>\n",
              "      <td>4.0</td>\n",
              "      <td>Great service, relaxing atmosphere and the foo...</td>\n",
              "      <td>2015</td>\n",
              "      <td>great service relax atmosphere food exceptiona...</td>\n",
              "      <td>[great, service, relax, atmosphere, food, exce...</td>\n",
              "      <td>0.635701</td>\n",
              "      <td>0.723729</td>\n",
              "      <td>0.620446</td>\n",
              "      <td>0.501792</td>\n",
              "      <td>1</td>\n",
              "      <td>1</td>\n",
              "      <td>1</td>\n",
              "      <td>0</td>\n",
              "      <td>GOOD</td>\n",
              "    </tr>\n",
              "    <tr>\n",
              "      <th>3</th>\n",
              "      <td>st-q1iyW3sJm-v0OCrheoQ</td>\n",
              "      <td>lj-E32x9_FA7GmUrBGBEWg</td>\n",
              "      <td>2015-10-17 04:56:25</td>\n",
              "      <td>5.0</td>\n",
              "      <td>I went to Brio for the first time on Wednesday...</td>\n",
              "      <td>2015</td>\n",
              "      <td>I go brio first time wednesday dinner friend s...</td>\n",
              "      <td>[i, go, brio, first, time, wednesday, dinner, ...</td>\n",
              "      <td>0.614665</td>\n",
              "      <td>0.597369</td>\n",
              "      <td>0.633347</td>\n",
              "      <td>0.536175</td>\n",
              "      <td>1</td>\n",
              "      <td>0</td>\n",
              "      <td>1</td>\n",
              "      <td>0</td>\n",
              "      <td>GOOD</td>\n",
              "    </tr>\n",
              "    <tr>\n",
              "      <th>4</th>\n",
              "      <td>9qBdzBzoDxLFSMhhGrTWJg</td>\n",
              "      <td>lj-E32x9_FA7GmUrBGBEWg</td>\n",
              "      <td>2016-01-04 16:56:32</td>\n",
              "      <td>4.0</td>\n",
              "      <td>I usually steer clear of the chain restaurants...</td>\n",
              "      <td>2016</td>\n",
              "      <td>I usually steer clear chain restaurant since m...</td>\n",
              "      <td>[i, usually, steer, clear, chain, restaurant, ...</td>\n",
              "      <td>0.565750</td>\n",
              "      <td>0.524968</td>\n",
              "      <td>0.690019</td>\n",
              "      <td>0.501281</td>\n",
              "      <td>0</td>\n",
              "      <td>0</td>\n",
              "      <td>1</td>\n",
              "      <td>0</td>\n",
              "      <td>GOOD</td>\n",
              "    </tr>\n",
              "  </tbody>\n",
              "</table>\n",
              "</div>\n",
              "      <button class=\"colab-df-convert\" onclick=\"convertToInteractive('df-da64d0ce-e5ab-4fd3-afed-0e7e020a99ad')\"\n",
              "              title=\"Convert this dataframe to an interactive table.\"\n",
              "              style=\"display:none;\">\n",
              "        \n",
              "  <svg xmlns=\"http://www.w3.org/2000/svg\" height=\"24px\"viewBox=\"0 0 24 24\"\n",
              "       width=\"24px\">\n",
              "    <path d=\"M0 0h24v24H0V0z\" fill=\"none\"/>\n",
              "    <path d=\"M18.56 5.44l.94 2.06.94-2.06 2.06-.94-2.06-.94-.94-2.06-.94 2.06-2.06.94zm-11 1L8.5 8.5l.94-2.06 2.06-.94-2.06-.94L8.5 2.5l-.94 2.06-2.06.94zm10 10l.94 2.06.94-2.06 2.06-.94-2.06-.94-.94-2.06-.94 2.06-2.06.94z\"/><path d=\"M17.41 7.96l-1.37-1.37c-.4-.4-.92-.59-1.43-.59-.52 0-1.04.2-1.43.59L10.3 9.45l-7.72 7.72c-.78.78-.78 2.05 0 2.83L4 21.41c.39.39.9.59 1.41.59.51 0 1.02-.2 1.41-.59l7.78-7.78 2.81-2.81c.8-.78.8-2.07 0-2.86zM5.41 20L4 18.59l7.72-7.72 1.47 1.35L5.41 20z\"/>\n",
              "  </svg>\n",
              "      </button>\n",
              "      \n",
              "  <style>\n",
              "    .colab-df-container {\n",
              "      display:flex;\n",
              "      flex-wrap:wrap;\n",
              "      gap: 12px;\n",
              "    }\n",
              "\n",
              "    .colab-df-convert {\n",
              "      background-color: #E8F0FE;\n",
              "      border: none;\n",
              "      border-radius: 50%;\n",
              "      cursor: pointer;\n",
              "      display: none;\n",
              "      fill: #1967D2;\n",
              "      height: 32px;\n",
              "      padding: 0 0 0 0;\n",
              "      width: 32px;\n",
              "    }\n",
              "\n",
              "    .colab-df-convert:hover {\n",
              "      background-color: #E2EBFA;\n",
              "      box-shadow: 0px 1px 2px rgba(60, 64, 67, 0.3), 0px 1px 3px 1px rgba(60, 64, 67, 0.15);\n",
              "      fill: #174EA6;\n",
              "    }\n",
              "\n",
              "    [theme=dark] .colab-df-convert {\n",
              "      background-color: #3B4455;\n",
              "      fill: #D2E3FC;\n",
              "    }\n",
              "\n",
              "    [theme=dark] .colab-df-convert:hover {\n",
              "      background-color: #434B5C;\n",
              "      box-shadow: 0px 1px 3px 1px rgba(0, 0, 0, 0.15);\n",
              "      filter: drop-shadow(0px 1px 2px rgba(0, 0, 0, 0.3));\n",
              "      fill: #FFFFFF;\n",
              "    }\n",
              "  </style>\n",
              "\n",
              "      <script>\n",
              "        const buttonEl =\n",
              "          document.querySelector('#df-da64d0ce-e5ab-4fd3-afed-0e7e020a99ad button.colab-df-convert');\n",
              "        buttonEl.style.display =\n",
              "          google.colab.kernel.accessAllowed ? 'block' : 'none';\n",
              "\n",
              "        async function convertToInteractive(key) {\n",
              "          const element = document.querySelector('#df-da64d0ce-e5ab-4fd3-afed-0e7e020a99ad');\n",
              "          const dataTable =\n",
              "            await google.colab.kernel.invokeFunction('convertToInteractive',\n",
              "                                                     [key], {});\n",
              "          if (!dataTable) return;\n",
              "\n",
              "          const docLinkHtml = 'Like what you see? Visit the ' +\n",
              "            '<a target=\"_blank\" href=https://colab.research.google.com/notebooks/data_table.ipynb>data table notebook</a>'\n",
              "            + ' to learn more about interactive tables.';\n",
              "          element.innerHTML = '';\n",
              "          dataTable['output_type'] = 'display_data';\n",
              "          await google.colab.output.renderOutput(dataTable, element);\n",
              "          const docLink = document.createElement('div');\n",
              "          docLink.innerHTML = docLinkHtml;\n",
              "          element.appendChild(docLink);\n",
              "        }\n",
              "      </script>\n",
              "    </div>\n",
              "  </div>\n",
              "  "
            ]
          },
          "metadata": {},
          "execution_count": 113
        }
      ]
    },
    {
      "cell_type": "code",
      "source": [
        "df.to_csv(\"/content/gdrive/MyDrive/yelp_dataset/Clean_Yelp_ABSA_Reviews2.csv\", index = False)"
      ],
      "metadata": {
        "id": "fdhWIWW1Anfg"
      },
      "execution_count": 114,
      "outputs": []
    },
    {
      "cell_type": "markdown",
      "source": [
        "# Model to predict sentiments on the basis of these aspects."
      ],
      "metadata": {
        "id": "dyQc4wpnLe2-"
      }
    },
    {
      "cell_type": "code",
      "source": [
        "import torch\n",
        "from torch import nn\n",
        "from torch.utils.data import Dataset\n",
        "from torch.utils.data import DataLoader\n",
        "from torch.utils.data import RandomSampler\n",
        "import warnings"
      ],
      "metadata": {
        "id": "0uillxL6AndO"
      },
      "execution_count": 117,
      "outputs": []
    },
    {
      "cell_type": "markdown",
      "source": [
        "Configs"
      ],
      "metadata": {
        "id": "ZVRzbUbUMrWi"
      }
    },
    {
      "cell_type": "code",
      "source": [
        "class config:\n",
        "    warnings.filterwarnings(\"ignore\", category = UserWarning)\n",
        "    IMG_SIZE = (224,224)\n",
        "    DEVICE = (\"cuda\" if torch.cuda.is_available() else \"cpu\")\n",
        "    FOLDS = 5\n",
        "    SHUFFLE = True\n",
        "    BATCH_SIZE = 32\n",
        "    LR = 0.01\n",
        "    EPOCHS = 30\n",
        "    EMB_DIM = 100\n",
        "    MAX_LEN = 20\n",
        "    MODEL_PATH = \"./Models/MyModel.pt\"\n"
      ],
      "metadata": {
        "id": "ODbvZImNLWSb"
      },
      "execution_count": 118,
      "outputs": []
    },
    {
      "cell_type": "code",
      "source": [
        "df_absa = pd.read_csv(\"/content/gdrive/MyDrive/yelp_dataset/Clean_Yelp_ABSA_Reviews2.csv\")\n",
        "df_absa.head()"
      ],
      "metadata": {
        "colab": {
          "base_uri": "https://localhost:8080/",
          "height": 583
        },
        "id": "6ZT6gtZoLWMM",
        "outputId": "34597906-9e2c-44fc-95ac-74430d8b6892"
      },
      "execution_count": 119,
      "outputs": [
        {
          "output_type": "execute_result",
          "data": {
            "text/plain": [
              "                  user_id             business_id                 date  stars  \\\n",
              "0  9OAtfnWag-ajVxRbUTGIyg  lj-E32x9_FA7GmUrBGBEWg  2014-06-27 22:44:01    4.0   \n",
              "1  5h9JA231vPilNAIjHxwGng  lj-E32x9_FA7GmUrBGBEWg  2014-08-24 19:24:26    5.0   \n",
              "2  c1fSI6Dv5lybr0AJh67e7w  lj-E32x9_FA7GmUrBGBEWg  2015-09-24 15:01:11    4.0   \n",
              "3  st-q1iyW3sJm-v0OCrheoQ  lj-E32x9_FA7GmUrBGBEWg  2015-10-17 04:56:25    5.0   \n",
              "4  9qBdzBzoDxLFSMhhGrTWJg  lj-E32x9_FA7GmUrBGBEWg  2016-01-04 16:56:32    4.0   \n",
              "\n",
              "                                             reviews  review_year  \\\n",
              "0  Love going here for happy hour or dinner!  Gre...         2014   \n",
              "1  My friends at work (connoisseurs of good food ...         2014   \n",
              "2  Great service, relaxing atmosphere and the foo...         2015   \n",
              "3  I went to Brio for the first time on Wednesday...         2015   \n",
              "4  I usually steer clear of the chain restaurants...         2016   \n",
              "\n",
              "                                        clean_review  \\\n",
              "0  love go happy hour dinner great patio fan beat...   \n",
              "1  friend work connoisseur good food st louis are...   \n",
              "2  great service relax atmosphere food exceptiona...   \n",
              "3  I go brio first time wednesday dinner friend s...   \n",
              "4  I usually steer clear chain restaurant since m...   \n",
              "\n",
              "                                       clean_review2  food_similarity  \\\n",
              "0  ['love', 'go', 'happy', 'hour', 'dinner', 'gre...         0.533379   \n",
              "1  ['friend', 'work', 'connoisseur', 'good', 'foo...         0.603309   \n",
              "2  ['great', 'service', 'relax', 'atmosphere', 'f...         0.635701   \n",
              "3  ['i', 'go', 'brio', 'first', 'time', 'wednesda...         0.614665   \n",
              "4  ['i', 'usually', 'steer', 'clear', 'chain', 'r...         0.565750   \n",
              "\n",
              "   service_similarity  place_similarity  price_similarity  food  service  \\\n",
              "0            0.550373          0.604214          0.501414     0        0   \n",
              "1            0.578850          0.592573          0.506964     1        0   \n",
              "2            0.723729          0.620446          0.501792     1        1   \n",
              "3            0.597369          0.633347          0.536175     1        0   \n",
              "4            0.524968          0.690019          0.501281     0        0   \n",
              "\n",
              "   place  price Customer EXP  \n",
              "0      1      0         GOOD  \n",
              "1      0      0         GOOD  \n",
              "2      1      0         GOOD  \n",
              "3      1      0         GOOD  \n",
              "4      1      0         GOOD  "
            ],
            "text/html": [
              "\n",
              "  <div id=\"df-b73c01df-1668-44b4-95ab-2ab958b1a8b0\">\n",
              "    <div class=\"colab-df-container\">\n",
              "      <div>\n",
              "<style scoped>\n",
              "    .dataframe tbody tr th:only-of-type {\n",
              "        vertical-align: middle;\n",
              "    }\n",
              "\n",
              "    .dataframe tbody tr th {\n",
              "        vertical-align: top;\n",
              "    }\n",
              "\n",
              "    .dataframe thead th {\n",
              "        text-align: right;\n",
              "    }\n",
              "</style>\n",
              "<table border=\"1\" class=\"dataframe\">\n",
              "  <thead>\n",
              "    <tr style=\"text-align: right;\">\n",
              "      <th></th>\n",
              "      <th>user_id</th>\n",
              "      <th>business_id</th>\n",
              "      <th>date</th>\n",
              "      <th>stars</th>\n",
              "      <th>reviews</th>\n",
              "      <th>review_year</th>\n",
              "      <th>clean_review</th>\n",
              "      <th>clean_review2</th>\n",
              "      <th>food_similarity</th>\n",
              "      <th>service_similarity</th>\n",
              "      <th>place_similarity</th>\n",
              "      <th>price_similarity</th>\n",
              "      <th>food</th>\n",
              "      <th>service</th>\n",
              "      <th>place</th>\n",
              "      <th>price</th>\n",
              "      <th>Customer EXP</th>\n",
              "    </tr>\n",
              "  </thead>\n",
              "  <tbody>\n",
              "    <tr>\n",
              "      <th>0</th>\n",
              "      <td>9OAtfnWag-ajVxRbUTGIyg</td>\n",
              "      <td>lj-E32x9_FA7GmUrBGBEWg</td>\n",
              "      <td>2014-06-27 22:44:01</td>\n",
              "      <td>4.0</td>\n",
              "      <td>Love going here for happy hour or dinner!  Gre...</td>\n",
              "      <td>2014</td>\n",
              "      <td>love go happy hour dinner great patio fan beat...</td>\n",
              "      <td>['love', 'go', 'happy', 'hour', 'dinner', 'gre...</td>\n",
              "      <td>0.533379</td>\n",
              "      <td>0.550373</td>\n",
              "      <td>0.604214</td>\n",
              "      <td>0.501414</td>\n",
              "      <td>0</td>\n",
              "      <td>0</td>\n",
              "      <td>1</td>\n",
              "      <td>0</td>\n",
              "      <td>GOOD</td>\n",
              "    </tr>\n",
              "    <tr>\n",
              "      <th>1</th>\n",
              "      <td>5h9JA231vPilNAIjHxwGng</td>\n",
              "      <td>lj-E32x9_FA7GmUrBGBEWg</td>\n",
              "      <td>2014-08-24 19:24:26</td>\n",
              "      <td>5.0</td>\n",
              "      <td>My friends at work (connoisseurs of good food ...</td>\n",
              "      <td>2014</td>\n",
              "      <td>friend work connoisseur good food st louis are...</td>\n",
              "      <td>['friend', 'work', 'connoisseur', 'good', 'foo...</td>\n",
              "      <td>0.603309</td>\n",
              "      <td>0.578850</td>\n",
              "      <td>0.592573</td>\n",
              "      <td>0.506964</td>\n",
              "      <td>1</td>\n",
              "      <td>0</td>\n",
              "      <td>0</td>\n",
              "      <td>0</td>\n",
              "      <td>GOOD</td>\n",
              "    </tr>\n",
              "    <tr>\n",
              "      <th>2</th>\n",
              "      <td>c1fSI6Dv5lybr0AJh67e7w</td>\n",
              "      <td>lj-E32x9_FA7GmUrBGBEWg</td>\n",
              "      <td>2015-09-24 15:01:11</td>\n",
              "      <td>4.0</td>\n",
              "      <td>Great service, relaxing atmosphere and the foo...</td>\n",
              "      <td>2015</td>\n",
              "      <td>great service relax atmosphere food exceptiona...</td>\n",
              "      <td>['great', 'service', 'relax', 'atmosphere', 'f...</td>\n",
              "      <td>0.635701</td>\n",
              "      <td>0.723729</td>\n",
              "      <td>0.620446</td>\n",
              "      <td>0.501792</td>\n",
              "      <td>1</td>\n",
              "      <td>1</td>\n",
              "      <td>1</td>\n",
              "      <td>0</td>\n",
              "      <td>GOOD</td>\n",
              "    </tr>\n",
              "    <tr>\n",
              "      <th>3</th>\n",
              "      <td>st-q1iyW3sJm-v0OCrheoQ</td>\n",
              "      <td>lj-E32x9_FA7GmUrBGBEWg</td>\n",
              "      <td>2015-10-17 04:56:25</td>\n",
              "      <td>5.0</td>\n",
              "      <td>I went to Brio for the first time on Wednesday...</td>\n",
              "      <td>2015</td>\n",
              "      <td>I go brio first time wednesday dinner friend s...</td>\n",
              "      <td>['i', 'go', 'brio', 'first', 'time', 'wednesda...</td>\n",
              "      <td>0.614665</td>\n",
              "      <td>0.597369</td>\n",
              "      <td>0.633347</td>\n",
              "      <td>0.536175</td>\n",
              "      <td>1</td>\n",
              "      <td>0</td>\n",
              "      <td>1</td>\n",
              "      <td>0</td>\n",
              "      <td>GOOD</td>\n",
              "    </tr>\n",
              "    <tr>\n",
              "      <th>4</th>\n",
              "      <td>9qBdzBzoDxLFSMhhGrTWJg</td>\n",
              "      <td>lj-E32x9_FA7GmUrBGBEWg</td>\n",
              "      <td>2016-01-04 16:56:32</td>\n",
              "      <td>4.0</td>\n",
              "      <td>I usually steer clear of the chain restaurants...</td>\n",
              "      <td>2016</td>\n",
              "      <td>I usually steer clear chain restaurant since m...</td>\n",
              "      <td>['i', 'usually', 'steer', 'clear', 'chain', 'r...</td>\n",
              "      <td>0.565750</td>\n",
              "      <td>0.524968</td>\n",
              "      <td>0.690019</td>\n",
              "      <td>0.501281</td>\n",
              "      <td>0</td>\n",
              "      <td>0</td>\n",
              "      <td>1</td>\n",
              "      <td>0</td>\n",
              "      <td>GOOD</td>\n",
              "    </tr>\n",
              "  </tbody>\n",
              "</table>\n",
              "</div>\n",
              "      <button class=\"colab-df-convert\" onclick=\"convertToInteractive('df-b73c01df-1668-44b4-95ab-2ab958b1a8b0')\"\n",
              "              title=\"Convert this dataframe to an interactive table.\"\n",
              "              style=\"display:none;\">\n",
              "        \n",
              "  <svg xmlns=\"http://www.w3.org/2000/svg\" height=\"24px\"viewBox=\"0 0 24 24\"\n",
              "       width=\"24px\">\n",
              "    <path d=\"M0 0h24v24H0V0z\" fill=\"none\"/>\n",
              "    <path d=\"M18.56 5.44l.94 2.06.94-2.06 2.06-.94-2.06-.94-.94-2.06-.94 2.06-2.06.94zm-11 1L8.5 8.5l.94-2.06 2.06-.94-2.06-.94L8.5 2.5l-.94 2.06-2.06.94zm10 10l.94 2.06.94-2.06 2.06-.94-2.06-.94-.94-2.06-.94 2.06-2.06.94z\"/><path d=\"M17.41 7.96l-1.37-1.37c-.4-.4-.92-.59-1.43-.59-.52 0-1.04.2-1.43.59L10.3 9.45l-7.72 7.72c-.78.78-.78 2.05 0 2.83L4 21.41c.39.39.9.59 1.41.59.51 0 1.02-.2 1.41-.59l7.78-7.78 2.81-2.81c.8-.78.8-2.07 0-2.86zM5.41 20L4 18.59l7.72-7.72 1.47 1.35L5.41 20z\"/>\n",
              "  </svg>\n",
              "      </button>\n",
              "      \n",
              "  <style>\n",
              "    .colab-df-container {\n",
              "      display:flex;\n",
              "      flex-wrap:wrap;\n",
              "      gap: 12px;\n",
              "    }\n",
              "\n",
              "    .colab-df-convert {\n",
              "      background-color: #E8F0FE;\n",
              "      border: none;\n",
              "      border-radius: 50%;\n",
              "      cursor: pointer;\n",
              "      display: none;\n",
              "      fill: #1967D2;\n",
              "      height: 32px;\n",
              "      padding: 0 0 0 0;\n",
              "      width: 32px;\n",
              "    }\n",
              "\n",
              "    .colab-df-convert:hover {\n",
              "      background-color: #E2EBFA;\n",
              "      box-shadow: 0px 1px 2px rgba(60, 64, 67, 0.3), 0px 1px 3px 1px rgba(60, 64, 67, 0.15);\n",
              "      fill: #174EA6;\n",
              "    }\n",
              "\n",
              "    [theme=dark] .colab-df-convert {\n",
              "      background-color: #3B4455;\n",
              "      fill: #D2E3FC;\n",
              "    }\n",
              "\n",
              "    [theme=dark] .colab-df-convert:hover {\n",
              "      background-color: #434B5C;\n",
              "      box-shadow: 0px 1px 3px 1px rgba(0, 0, 0, 0.15);\n",
              "      filter: drop-shadow(0px 1px 2px rgba(0, 0, 0, 0.3));\n",
              "      fill: #FFFFFF;\n",
              "    }\n",
              "  </style>\n",
              "\n",
              "      <script>\n",
              "        const buttonEl =\n",
              "          document.querySelector('#df-b73c01df-1668-44b4-95ab-2ab958b1a8b0 button.colab-df-convert');\n",
              "        buttonEl.style.display =\n",
              "          google.colab.kernel.accessAllowed ? 'block' : 'none';\n",
              "\n",
              "        async function convertToInteractive(key) {\n",
              "          const element = document.querySelector('#df-b73c01df-1668-44b4-95ab-2ab958b1a8b0');\n",
              "          const dataTable =\n",
              "            await google.colab.kernel.invokeFunction('convertToInteractive',\n",
              "                                                     [key], {});\n",
              "          if (!dataTable) return;\n",
              "\n",
              "          const docLinkHtml = 'Like what you see? Visit the ' +\n",
              "            '<a target=\"_blank\" href=https://colab.research.google.com/notebooks/data_table.ipynb>data table notebook</a>'\n",
              "            + ' to learn more about interactive tables.';\n",
              "          element.innerHTML = '';\n",
              "          dataTable['output_type'] = 'display_data';\n",
              "          await google.colab.output.renderOutput(dataTable, element);\n",
              "          const docLink = document.createElement('div');\n",
              "          docLink.innerHTML = docLinkHtml;\n",
              "          element.appendChild(docLink);\n",
              "        }\n",
              "      </script>\n",
              "    </div>\n",
              "  </div>\n",
              "  "
            ]
          },
          "metadata": {},
          "execution_count": 119
        }
      ]
    },
    {
      "cell_type": "code",
      "source": [
        "df_absa.describe()"
      ],
      "metadata": {
        "colab": {
          "base_uri": "https://localhost:8080/",
          "height": 364
        },
        "id": "SLOVdmFIK85W",
        "outputId": "e61c1d38-5c86-4c05-f2ea-7ec436d60b38"
      },
      "execution_count": 120,
      "outputs": [
        {
          "output_type": "execute_result",
          "data": {
            "text/plain": [
              "               stars    review_year  food_similarity  service_similarity  \\\n",
              "count  292376.000000  292376.000000    292376.000000       292376.000000   \n",
              "mean        3.787113    2016.096964         0.577500            0.544896   \n",
              "std         1.368116       3.196996         0.047507            0.067984   \n",
              "min         1.000000    2005.000000         0.000000           -0.046627   \n",
              "25%         3.000000    2014.000000         0.549304            0.500160   \n",
              "50%         4.000000    2016.000000         0.580594            0.542505   \n",
              "75%         5.000000    2019.000000         0.609243            0.587919   \n",
              "max         5.000000    2022.000000         0.768563            0.846891   \n",
              "\n",
              "       place_similarity  price_similarity           food        service  \\\n",
              "count     292376.000000     292376.000000  292376.000000  292376.000000   \n",
              "mean           0.596461          0.508878       0.325222       0.199356   \n",
              "std            0.051792          0.048489       0.468458       0.399517   \n",
              "min            0.000000          0.000000       0.000000       0.000000   \n",
              "25%            0.564553          0.480152       0.000000       0.000000   \n",
              "50%            0.599314          0.508434       0.000000       0.000000   \n",
              "75%            0.631412          0.536732       1.000000       0.000000   \n",
              "max            0.817265          0.778234       1.000000       1.000000   \n",
              "\n",
              "               place          price  \n",
              "count  292376.000000  292376.000000  \n",
              "mean        0.494363       0.035492  \n",
              "std         0.499969       0.185020  \n",
              "min         0.000000       0.000000  \n",
              "25%         0.000000       0.000000  \n",
              "50%         0.000000       0.000000  \n",
              "75%         1.000000       0.000000  \n",
              "max         1.000000       1.000000  "
            ],
            "text/html": [
              "\n",
              "  <div id=\"df-233f9361-964a-405b-8f27-c0e93e9f79c2\">\n",
              "    <div class=\"colab-df-container\">\n",
              "      <div>\n",
              "<style scoped>\n",
              "    .dataframe tbody tr th:only-of-type {\n",
              "        vertical-align: middle;\n",
              "    }\n",
              "\n",
              "    .dataframe tbody tr th {\n",
              "        vertical-align: top;\n",
              "    }\n",
              "\n",
              "    .dataframe thead th {\n",
              "        text-align: right;\n",
              "    }\n",
              "</style>\n",
              "<table border=\"1\" class=\"dataframe\">\n",
              "  <thead>\n",
              "    <tr style=\"text-align: right;\">\n",
              "      <th></th>\n",
              "      <th>stars</th>\n",
              "      <th>review_year</th>\n",
              "      <th>food_similarity</th>\n",
              "      <th>service_similarity</th>\n",
              "      <th>place_similarity</th>\n",
              "      <th>price_similarity</th>\n",
              "      <th>food</th>\n",
              "      <th>service</th>\n",
              "      <th>place</th>\n",
              "      <th>price</th>\n",
              "    </tr>\n",
              "  </thead>\n",
              "  <tbody>\n",
              "    <tr>\n",
              "      <th>count</th>\n",
              "      <td>292376.000000</td>\n",
              "      <td>292376.000000</td>\n",
              "      <td>292376.000000</td>\n",
              "      <td>292376.000000</td>\n",
              "      <td>292376.000000</td>\n",
              "      <td>292376.000000</td>\n",
              "      <td>292376.000000</td>\n",
              "      <td>292376.000000</td>\n",
              "      <td>292376.000000</td>\n",
              "      <td>292376.000000</td>\n",
              "    </tr>\n",
              "    <tr>\n",
              "      <th>mean</th>\n",
              "      <td>3.787113</td>\n",
              "      <td>2016.096964</td>\n",
              "      <td>0.577500</td>\n",
              "      <td>0.544896</td>\n",
              "      <td>0.596461</td>\n",
              "      <td>0.508878</td>\n",
              "      <td>0.325222</td>\n",
              "      <td>0.199356</td>\n",
              "      <td>0.494363</td>\n",
              "      <td>0.035492</td>\n",
              "    </tr>\n",
              "    <tr>\n",
              "      <th>std</th>\n",
              "      <td>1.368116</td>\n",
              "      <td>3.196996</td>\n",
              "      <td>0.047507</td>\n",
              "      <td>0.067984</td>\n",
              "      <td>0.051792</td>\n",
              "      <td>0.048489</td>\n",
              "      <td>0.468458</td>\n",
              "      <td>0.399517</td>\n",
              "      <td>0.499969</td>\n",
              "      <td>0.185020</td>\n",
              "    </tr>\n",
              "    <tr>\n",
              "      <th>min</th>\n",
              "      <td>1.000000</td>\n",
              "      <td>2005.000000</td>\n",
              "      <td>0.000000</td>\n",
              "      <td>-0.046627</td>\n",
              "      <td>0.000000</td>\n",
              "      <td>0.000000</td>\n",
              "      <td>0.000000</td>\n",
              "      <td>0.000000</td>\n",
              "      <td>0.000000</td>\n",
              "      <td>0.000000</td>\n",
              "    </tr>\n",
              "    <tr>\n",
              "      <th>25%</th>\n",
              "      <td>3.000000</td>\n",
              "      <td>2014.000000</td>\n",
              "      <td>0.549304</td>\n",
              "      <td>0.500160</td>\n",
              "      <td>0.564553</td>\n",
              "      <td>0.480152</td>\n",
              "      <td>0.000000</td>\n",
              "      <td>0.000000</td>\n",
              "      <td>0.000000</td>\n",
              "      <td>0.000000</td>\n",
              "    </tr>\n",
              "    <tr>\n",
              "      <th>50%</th>\n",
              "      <td>4.000000</td>\n",
              "      <td>2016.000000</td>\n",
              "      <td>0.580594</td>\n",
              "      <td>0.542505</td>\n",
              "      <td>0.599314</td>\n",
              "      <td>0.508434</td>\n",
              "      <td>0.000000</td>\n",
              "      <td>0.000000</td>\n",
              "      <td>0.000000</td>\n",
              "      <td>0.000000</td>\n",
              "    </tr>\n",
              "    <tr>\n",
              "      <th>75%</th>\n",
              "      <td>5.000000</td>\n",
              "      <td>2019.000000</td>\n",
              "      <td>0.609243</td>\n",
              "      <td>0.587919</td>\n",
              "      <td>0.631412</td>\n",
              "      <td>0.536732</td>\n",
              "      <td>1.000000</td>\n",
              "      <td>0.000000</td>\n",
              "      <td>1.000000</td>\n",
              "      <td>0.000000</td>\n",
              "    </tr>\n",
              "    <tr>\n",
              "      <th>max</th>\n",
              "      <td>5.000000</td>\n",
              "      <td>2022.000000</td>\n",
              "      <td>0.768563</td>\n",
              "      <td>0.846891</td>\n",
              "      <td>0.817265</td>\n",
              "      <td>0.778234</td>\n",
              "      <td>1.000000</td>\n",
              "      <td>1.000000</td>\n",
              "      <td>1.000000</td>\n",
              "      <td>1.000000</td>\n",
              "    </tr>\n",
              "  </tbody>\n",
              "</table>\n",
              "</div>\n",
              "      <button class=\"colab-df-convert\" onclick=\"convertToInteractive('df-233f9361-964a-405b-8f27-c0e93e9f79c2')\"\n",
              "              title=\"Convert this dataframe to an interactive table.\"\n",
              "              style=\"display:none;\">\n",
              "        \n",
              "  <svg xmlns=\"http://www.w3.org/2000/svg\" height=\"24px\"viewBox=\"0 0 24 24\"\n",
              "       width=\"24px\">\n",
              "    <path d=\"M0 0h24v24H0V0z\" fill=\"none\"/>\n",
              "    <path d=\"M18.56 5.44l.94 2.06.94-2.06 2.06-.94-2.06-.94-.94-2.06-.94 2.06-2.06.94zm-11 1L8.5 8.5l.94-2.06 2.06-.94-2.06-.94L8.5 2.5l-.94 2.06-2.06.94zm10 10l.94 2.06.94-2.06 2.06-.94-2.06-.94-.94-2.06-.94 2.06-2.06.94z\"/><path d=\"M17.41 7.96l-1.37-1.37c-.4-.4-.92-.59-1.43-.59-.52 0-1.04.2-1.43.59L10.3 9.45l-7.72 7.72c-.78.78-.78 2.05 0 2.83L4 21.41c.39.39.9.59 1.41.59.51 0 1.02-.2 1.41-.59l7.78-7.78 2.81-2.81c.8-.78.8-2.07 0-2.86zM5.41 20L4 18.59l7.72-7.72 1.47 1.35L5.41 20z\"/>\n",
              "  </svg>\n",
              "      </button>\n",
              "      \n",
              "  <style>\n",
              "    .colab-df-container {\n",
              "      display:flex;\n",
              "      flex-wrap:wrap;\n",
              "      gap: 12px;\n",
              "    }\n",
              "\n",
              "    .colab-df-convert {\n",
              "      background-color: #E8F0FE;\n",
              "      border: none;\n",
              "      border-radius: 50%;\n",
              "      cursor: pointer;\n",
              "      display: none;\n",
              "      fill: #1967D2;\n",
              "      height: 32px;\n",
              "      padding: 0 0 0 0;\n",
              "      width: 32px;\n",
              "    }\n",
              "\n",
              "    .colab-df-convert:hover {\n",
              "      background-color: #E2EBFA;\n",
              "      box-shadow: 0px 1px 2px rgba(60, 64, 67, 0.3), 0px 1px 3px 1px rgba(60, 64, 67, 0.15);\n",
              "      fill: #174EA6;\n",
              "    }\n",
              "\n",
              "    [theme=dark] .colab-df-convert {\n",
              "      background-color: #3B4455;\n",
              "      fill: #D2E3FC;\n",
              "    }\n",
              "\n",
              "    [theme=dark] .colab-df-convert:hover {\n",
              "      background-color: #434B5C;\n",
              "      box-shadow: 0px 1px 3px 1px rgba(0, 0, 0, 0.15);\n",
              "      filter: drop-shadow(0px 1px 2px rgba(0, 0, 0, 0.3));\n",
              "      fill: #FFFFFF;\n",
              "    }\n",
              "  </style>\n",
              "\n",
              "      <script>\n",
              "        const buttonEl =\n",
              "          document.querySelector('#df-233f9361-964a-405b-8f27-c0e93e9f79c2 button.colab-df-convert');\n",
              "        buttonEl.style.display =\n",
              "          google.colab.kernel.accessAllowed ? 'block' : 'none';\n",
              "\n",
              "        async function convertToInteractive(key) {\n",
              "          const element = document.querySelector('#df-233f9361-964a-405b-8f27-c0e93e9f79c2');\n",
              "          const dataTable =\n",
              "            await google.colab.kernel.invokeFunction('convertToInteractive',\n",
              "                                                     [key], {});\n",
              "          if (!dataTable) return;\n",
              "\n",
              "          const docLinkHtml = 'Like what you see? Visit the ' +\n",
              "            '<a target=\"_blank\" href=https://colab.research.google.com/notebooks/data_table.ipynb>data table notebook</a>'\n",
              "            + ' to learn more about interactive tables.';\n",
              "          element.innerHTML = '';\n",
              "          dataTable['output_type'] = 'display_data';\n",
              "          await google.colab.output.renderOutput(dataTable, element);\n",
              "          const docLink = document.createElement('div');\n",
              "          docLink.innerHTML = docLinkHtml;\n",
              "          element.appendChild(docLink);\n",
              "        }\n",
              "      </script>\n",
              "    </div>\n",
              "  </div>\n",
              "  "
            ]
          },
          "metadata": {},
          "execution_count": 120
        }
      ]
    },
    {
      "cell_type": "markdown",
      "source": [
        "Dataset Generator"
      ],
      "metadata": {
        "id": "hjPJqfYmMuWV"
      }
    },
    {
      "cell_type": "code",
      "source": [
        "class Vocabulary:\n",
        "  \n",
        "    '''\n",
        "    __init__ method is called by default as soon as an object of this class is initiated\n",
        "    we use this method to initiate our vocab dictionaries\n",
        "    '''\n",
        "    def __init__(self, freq_threshold, max_size):\n",
        "        '''\n",
        "        freq_threshold : the minimum times a word must occur in corpus to be treated in vocab\n",
        "        max_size : max source vocab size. Eg. if set to 10,000, we pick the top 10,000 most frequent words and discard others\n",
        "        '''\n",
        "        #initiate the index to token dict\n",
        "        ## PAD -> padding, used for padding the shorter sentences in a batch to match the length of longest sentence in the batch\n",
        "        ## SOS -> start token, added in front of each sentence to signify the start of sentence\n",
        "        ## EOS -> End of sentence token, added to the end of each sentence to signify the end of sentence\n",
        "        ## UNK -> words which are not found in the vocab are replace by this token\n",
        "        self.itos = {0: 'padding', 1:'start', 2:'end', 3: 'unknown'}\n",
        "        #initiate the token to index dict\n",
        "        self.stoi = {k:j for j,k in self.itos.items()} \n",
        "        \n",
        "        self.freq_threshold = freq_threshold\n",
        "        self.max_size = max_size\n",
        "    \n",
        "    '''\n",
        "    __len__ is used by dataloader later to create batches\n",
        "    '''\n",
        "    def __len__(self):\n",
        "        return len(self.itos)\n",
        "    \n",
        "    '''\n",
        "    a simple tokenizer to split on space and converts the sentence to list of words\n",
        "    '''\n",
        "    @staticmethod\n",
        "    def tokenizer(text):\n",
        "        return [tok.lower().strip() for tok in text.split(' ')]\n",
        "    \n",
        "    '''\n",
        "    build the vocab: create a dictionary mapping of index to string (itos) and string to index (stoi)\n",
        "    output ex. for stoi -> {'the':5, 'a':6, 'an':7}\n",
        "    '''\n",
        "    def build_vocabulary(self, sentence_list):\n",
        "        #calculate the frequencies of each word first to remove the words with freq < freq_threshold\n",
        "        frequencies = {}  #init the freq dict\n",
        "        idx = 4 #index from which we want our dict to start. We already used 4 indexes for pad, start, end, unk\n",
        "        \n",
        "        #calculate freq of words\n",
        "        for sentence in sentence_list:\n",
        "            for word in self.tokenizer(sentence):\n",
        "                if word not in frequencies.keys():\n",
        "                    frequencies[word]=1\n",
        "                else:\n",
        "                    frequencies[word]+=1\n",
        "                    \n",
        "                    \n",
        "        #limit vocab by removing low freq words\n",
        "        frequencies = {k:v for k,v in frequencies.items() if v>self.freq_threshold} \n",
        "        \n",
        "        #limit vocab to the max_size specified\n",
        "        frequencies = dict(sorted(frequencies.items(), key = lambda x: -x[1])[:self.max_size-idx]) # idx =4 for pad, start, end , unk\n",
        "            \n",
        "        #create vocab\n",
        "        for word in frequencies.keys():\n",
        "            self.stoi[word] = idx\n",
        "            self.itos[idx] = word\n",
        "            idx+=1\n",
        "            \n",
        "     \n",
        "    '''\n",
        "    convert the list of words to a list of corresponding indexes\n",
        "    '''    \n",
        "    def numericalize(self, text):\n",
        "        #tokenize text\n",
        "        tokenized_text = self.tokenizer(text)\n",
        "        numericalized_text = []\n",
        "        for token in tokenized_text:\n",
        "            if token in self.stoi.keys():\n",
        "                numericalized_text.append(self.stoi[token])\n",
        "            else: #out-of-vocab words are represented by UNK token index\n",
        "                numericalized_text.append(self.stoi['unknown'])\n",
        "                \n",
        "        return numericalized_text"
      ],
      "metadata": {
        "id": "_FHQ8W-PLWHW"
      },
      "execution_count": 136,
      "outputs": []
    },
    {
      "cell_type": "code",
      "source": [
        "from torch.utils.data import Dataset\n",
        "\n",
        "class CustomDataset(Dataset):\n",
        "    '''\n",
        "    Initiating Variables\n",
        "    df: the training dataframe\n",
        "    source_column : the name of source text column in the dataframe\n",
        "    transform : If we want to add any augmentation\n",
        "    freq_threshold : the minimum times a word must occur in corpus to be treated in vocab\n",
        "    source_vocab_max_size : max source vocab size\n",
        "    '''\n",
        "    \n",
        "    def __init__(self, df, source_column,freq_threshold = 3,\n",
        "                source_vocab_max_size = 10000 , transform=None):\n",
        "    \n",
        "        self.df = df\n",
        "        self.transform = transform\n",
        "        \n",
        "        #get source and target texts\n",
        "        self.source_texts = self.df[source_column]\n",
        "        \n",
        "        \n",
        "        ##VOCAB class has been created above\n",
        "        #Initialize source vocab object and build vocabulary\n",
        "        self.source_vocab = Vocabulary(freq_threshold, source_vocab_max_size)\n",
        "        self.source_vocab.build_vocabulary(self.source_texts.tolist())\n",
        "\n",
        "        \n",
        "    def __len__(self):\n",
        "        return len(self.df)\n",
        "    \n",
        "    '''\n",
        "    __getitem__ runs on 1 example at a time. Here, we get an example at index and return its numericalize source and\n",
        "    target values using the vocabulary objects we created in __init__\n",
        "    '''\n",
        "    def __getitem__(self, index):\n",
        "        source_text = self.source_texts[index]\n",
        "        \n",
        "        if self.transform is not None:\n",
        "            source_text = self.transform(source_text)\n",
        "            \n",
        "        #numericalize texts ['<SOS>','cat', 'in', 'a', 'bag','<EOS>'] -> [1,12,2,9,24,2]\n",
        "        numerialized_source = [self.source_vocab.stoi[\"start\"]]\n",
        "        numerialized_source += self.source_vocab.numericalize(source_text)\n",
        "        numerialized_source.append(self.source_vocab.stoi[\"end\"])\n",
        "        \n",
        "        #convert the list to tensor and return\n",
        "        return torch.tensor(numerialized_source), torch.tensor(self.df.y[index])"
      ],
      "metadata": {
        "id": "8Yba_M4hLWFA"
      },
      "execution_count": 137,
      "outputs": []
    },
    {
      "cell_type": "code",
      "source": [
        "df_absa2 = df"
      ],
      "metadata": {
        "id": "4_qrcZ7DcL8I"
      },
      "execution_count": 141,
      "outputs": []
    },
    {
      "cell_type": "code",
      "source": [
        "df_absa2.head()"
      ],
      "metadata": {
        "colab": {
          "base_uri": "https://localhost:8080/",
          "height": 583
        },
        "id": "qn_h3iusLWCI",
        "outputId": "b21815e7-4f76-4dd9-c607-df9ff9d1cbbe"
      },
      "execution_count": 142,
      "outputs": [
        {
          "output_type": "execute_result",
          "data": {
            "text/plain": [
              "                  user_id             business_id                 date  stars  \\\n",
              "0  9OAtfnWag-ajVxRbUTGIyg  lj-E32x9_FA7GmUrBGBEWg  2014-06-27 22:44:01    4.0   \n",
              "1  5h9JA231vPilNAIjHxwGng  lj-E32x9_FA7GmUrBGBEWg  2014-08-24 19:24:26    5.0   \n",
              "2  c1fSI6Dv5lybr0AJh67e7w  lj-E32x9_FA7GmUrBGBEWg  2015-09-24 15:01:11    4.0   \n",
              "3  st-q1iyW3sJm-v0OCrheoQ  lj-E32x9_FA7GmUrBGBEWg  2015-10-17 04:56:25    5.0   \n",
              "4  9qBdzBzoDxLFSMhhGrTWJg  lj-E32x9_FA7GmUrBGBEWg  2016-01-04 16:56:32    4.0   \n",
              "\n",
              "                                             reviews  review_year  \\\n",
              "0  Love going here for happy hour or dinner!  Gre...         2014   \n",
              "1  My friends at work (connoisseurs of good food ...         2014   \n",
              "2  Great service, relaxing atmosphere and the foo...         2015   \n",
              "3  I went to Brio for the first time on Wednesday...         2015   \n",
              "4  I usually steer clear of the chain restaurants...         2016   \n",
              "\n",
              "                                        clean_review  \\\n",
              "0  love go happy hour dinner great patio fan beat...   \n",
              "1  friend work connoisseur good food st louis are...   \n",
              "2  great service relax atmosphere food exceptiona...   \n",
              "3  I go brio first time wednesday dinner friend s...   \n",
              "4  I usually steer clear chain restaurant since m...   \n",
              "\n",
              "                                       clean_review2  food_similarity  \\\n",
              "0  [love, go, happy, hour, dinner, great, patio, ...         0.533379   \n",
              "1  [friend, work, connoisseur, good, food, st, lo...         0.603309   \n",
              "2  [great, service, relax, atmosphere, food, exce...         0.635701   \n",
              "3  [i, go, brio, first, time, wednesday, dinner, ...         0.614665   \n",
              "4  [i, usually, steer, clear, chain, restaurant, ...         0.565750   \n",
              "\n",
              "   service_similarity  place_similarity  price_similarity food service place  \\\n",
              "0            0.550373          0.604214          0.501414    0       0     1   \n",
              "1            0.578850          0.592573          0.506964    1       0     0   \n",
              "2            0.723729          0.620446          0.501792    1       1     1   \n",
              "3            0.597369          0.633347          0.536175    1       0     1   \n",
              "4            0.524968          0.690019          0.501281    0       0     1   \n",
              "\n",
              "  price Customer EXP  \n",
              "0     0         GOOD  \n",
              "1     0         GOOD  \n",
              "2     0         GOOD  \n",
              "3     0         GOOD  \n",
              "4     0         GOOD  "
            ],
            "text/html": [
              "\n",
              "  <div id=\"df-0adaea72-31fc-4d0b-9ecb-8dbb13aa363d\">\n",
              "    <div class=\"colab-df-container\">\n",
              "      <div>\n",
              "<style scoped>\n",
              "    .dataframe tbody tr th:only-of-type {\n",
              "        vertical-align: middle;\n",
              "    }\n",
              "\n",
              "    .dataframe tbody tr th {\n",
              "        vertical-align: top;\n",
              "    }\n",
              "\n",
              "    .dataframe thead th {\n",
              "        text-align: right;\n",
              "    }\n",
              "</style>\n",
              "<table border=\"1\" class=\"dataframe\">\n",
              "  <thead>\n",
              "    <tr style=\"text-align: right;\">\n",
              "      <th></th>\n",
              "      <th>user_id</th>\n",
              "      <th>business_id</th>\n",
              "      <th>date</th>\n",
              "      <th>stars</th>\n",
              "      <th>reviews</th>\n",
              "      <th>review_year</th>\n",
              "      <th>clean_review</th>\n",
              "      <th>clean_review2</th>\n",
              "      <th>food_similarity</th>\n",
              "      <th>service_similarity</th>\n",
              "      <th>place_similarity</th>\n",
              "      <th>price_similarity</th>\n",
              "      <th>food</th>\n",
              "      <th>service</th>\n",
              "      <th>place</th>\n",
              "      <th>price</th>\n",
              "      <th>Customer EXP</th>\n",
              "    </tr>\n",
              "  </thead>\n",
              "  <tbody>\n",
              "    <tr>\n",
              "      <th>0</th>\n",
              "      <td>9OAtfnWag-ajVxRbUTGIyg</td>\n",
              "      <td>lj-E32x9_FA7GmUrBGBEWg</td>\n",
              "      <td>2014-06-27 22:44:01</td>\n",
              "      <td>4.0</td>\n",
              "      <td>Love going here for happy hour or dinner!  Gre...</td>\n",
              "      <td>2014</td>\n",
              "      <td>love go happy hour dinner great patio fan beat...</td>\n",
              "      <td>[love, go, happy, hour, dinner, great, patio, ...</td>\n",
              "      <td>0.533379</td>\n",
              "      <td>0.550373</td>\n",
              "      <td>0.604214</td>\n",
              "      <td>0.501414</td>\n",
              "      <td>0</td>\n",
              "      <td>0</td>\n",
              "      <td>1</td>\n",
              "      <td>0</td>\n",
              "      <td>GOOD</td>\n",
              "    </tr>\n",
              "    <tr>\n",
              "      <th>1</th>\n",
              "      <td>5h9JA231vPilNAIjHxwGng</td>\n",
              "      <td>lj-E32x9_FA7GmUrBGBEWg</td>\n",
              "      <td>2014-08-24 19:24:26</td>\n",
              "      <td>5.0</td>\n",
              "      <td>My friends at work (connoisseurs of good food ...</td>\n",
              "      <td>2014</td>\n",
              "      <td>friend work connoisseur good food st louis are...</td>\n",
              "      <td>[friend, work, connoisseur, good, food, st, lo...</td>\n",
              "      <td>0.603309</td>\n",
              "      <td>0.578850</td>\n",
              "      <td>0.592573</td>\n",
              "      <td>0.506964</td>\n",
              "      <td>1</td>\n",
              "      <td>0</td>\n",
              "      <td>0</td>\n",
              "      <td>0</td>\n",
              "      <td>GOOD</td>\n",
              "    </tr>\n",
              "    <tr>\n",
              "      <th>2</th>\n",
              "      <td>c1fSI6Dv5lybr0AJh67e7w</td>\n",
              "      <td>lj-E32x9_FA7GmUrBGBEWg</td>\n",
              "      <td>2015-09-24 15:01:11</td>\n",
              "      <td>4.0</td>\n",
              "      <td>Great service, relaxing atmosphere and the foo...</td>\n",
              "      <td>2015</td>\n",
              "      <td>great service relax atmosphere food exceptiona...</td>\n",
              "      <td>[great, service, relax, atmosphere, food, exce...</td>\n",
              "      <td>0.635701</td>\n",
              "      <td>0.723729</td>\n",
              "      <td>0.620446</td>\n",
              "      <td>0.501792</td>\n",
              "      <td>1</td>\n",
              "      <td>1</td>\n",
              "      <td>1</td>\n",
              "      <td>0</td>\n",
              "      <td>GOOD</td>\n",
              "    </tr>\n",
              "    <tr>\n",
              "      <th>3</th>\n",
              "      <td>st-q1iyW3sJm-v0OCrheoQ</td>\n",
              "      <td>lj-E32x9_FA7GmUrBGBEWg</td>\n",
              "      <td>2015-10-17 04:56:25</td>\n",
              "      <td>5.0</td>\n",
              "      <td>I went to Brio for the first time on Wednesday...</td>\n",
              "      <td>2015</td>\n",
              "      <td>I go brio first time wednesday dinner friend s...</td>\n",
              "      <td>[i, go, brio, first, time, wednesday, dinner, ...</td>\n",
              "      <td>0.614665</td>\n",
              "      <td>0.597369</td>\n",
              "      <td>0.633347</td>\n",
              "      <td>0.536175</td>\n",
              "      <td>1</td>\n",
              "      <td>0</td>\n",
              "      <td>1</td>\n",
              "      <td>0</td>\n",
              "      <td>GOOD</td>\n",
              "    </tr>\n",
              "    <tr>\n",
              "      <th>4</th>\n",
              "      <td>9qBdzBzoDxLFSMhhGrTWJg</td>\n",
              "      <td>lj-E32x9_FA7GmUrBGBEWg</td>\n",
              "      <td>2016-01-04 16:56:32</td>\n",
              "      <td>4.0</td>\n",
              "      <td>I usually steer clear of the chain restaurants...</td>\n",
              "      <td>2016</td>\n",
              "      <td>I usually steer clear chain restaurant since m...</td>\n",
              "      <td>[i, usually, steer, clear, chain, restaurant, ...</td>\n",
              "      <td>0.565750</td>\n",
              "      <td>0.524968</td>\n",
              "      <td>0.690019</td>\n",
              "      <td>0.501281</td>\n",
              "      <td>0</td>\n",
              "      <td>0</td>\n",
              "      <td>1</td>\n",
              "      <td>0</td>\n",
              "      <td>GOOD</td>\n",
              "    </tr>\n",
              "  </tbody>\n",
              "</table>\n",
              "</div>\n",
              "      <button class=\"colab-df-convert\" onclick=\"convertToInteractive('df-0adaea72-31fc-4d0b-9ecb-8dbb13aa363d')\"\n",
              "              title=\"Convert this dataframe to an interactive table.\"\n",
              "              style=\"display:none;\">\n",
              "        \n",
              "  <svg xmlns=\"http://www.w3.org/2000/svg\" height=\"24px\"viewBox=\"0 0 24 24\"\n",
              "       width=\"24px\">\n",
              "    <path d=\"M0 0h24v24H0V0z\" fill=\"none\"/>\n",
              "    <path d=\"M18.56 5.44l.94 2.06.94-2.06 2.06-.94-2.06-.94-.94-2.06-.94 2.06-2.06.94zm-11 1L8.5 8.5l.94-2.06 2.06-.94-2.06-.94L8.5 2.5l-.94 2.06-2.06.94zm10 10l.94 2.06.94-2.06 2.06-.94-2.06-.94-.94-2.06-.94 2.06-2.06.94z\"/><path d=\"M17.41 7.96l-1.37-1.37c-.4-.4-.92-.59-1.43-.59-.52 0-1.04.2-1.43.59L10.3 9.45l-7.72 7.72c-.78.78-.78 2.05 0 2.83L4 21.41c.39.39.9.59 1.41.59.51 0 1.02-.2 1.41-.59l7.78-7.78 2.81-2.81c.8-.78.8-2.07 0-2.86zM5.41 20L4 18.59l7.72-7.72 1.47 1.35L5.41 20z\"/>\n",
              "  </svg>\n",
              "      </button>\n",
              "      \n",
              "  <style>\n",
              "    .colab-df-container {\n",
              "      display:flex;\n",
              "      flex-wrap:wrap;\n",
              "      gap: 12px;\n",
              "    }\n",
              "\n",
              "    .colab-df-convert {\n",
              "      background-color: #E8F0FE;\n",
              "      border: none;\n",
              "      border-radius: 50%;\n",
              "      cursor: pointer;\n",
              "      display: none;\n",
              "      fill: #1967D2;\n",
              "      height: 32px;\n",
              "      padding: 0 0 0 0;\n",
              "      width: 32px;\n",
              "    }\n",
              "\n",
              "    .colab-df-convert:hover {\n",
              "      background-color: #E2EBFA;\n",
              "      box-shadow: 0px 1px 2px rgba(60, 64, 67, 0.3), 0px 1px 3px 1px rgba(60, 64, 67, 0.15);\n",
              "      fill: #174EA6;\n",
              "    }\n",
              "\n",
              "    [theme=dark] .colab-df-convert {\n",
              "      background-color: #3B4455;\n",
              "      fill: #D2E3FC;\n",
              "    }\n",
              "\n",
              "    [theme=dark] .colab-df-convert:hover {\n",
              "      background-color: #434B5C;\n",
              "      box-shadow: 0px 1px 3px 1px rgba(0, 0, 0, 0.15);\n",
              "      filter: drop-shadow(0px 1px 2px rgba(0, 0, 0, 0.3));\n",
              "      fill: #FFFFFF;\n",
              "    }\n",
              "  </style>\n",
              "\n",
              "      <script>\n",
              "        const buttonEl =\n",
              "          document.querySelector('#df-0adaea72-31fc-4d0b-9ecb-8dbb13aa363d button.colab-df-convert');\n",
              "        buttonEl.style.display =\n",
              "          google.colab.kernel.accessAllowed ? 'block' : 'none';\n",
              "\n",
              "        async function convertToInteractive(key) {\n",
              "          const element = document.querySelector('#df-0adaea72-31fc-4d0b-9ecb-8dbb13aa363d');\n",
              "          const dataTable =\n",
              "            await google.colab.kernel.invokeFunction('convertToInteractive',\n",
              "                                                     [key], {});\n",
              "          if (!dataTable) return;\n",
              "\n",
              "          const docLinkHtml = 'Like what you see? Visit the ' +\n",
              "            '<a target=\"_blank\" href=https://colab.research.google.com/notebooks/data_table.ipynb>data table notebook</a>'\n",
              "            + ' to learn more about interactive tables.';\n",
              "          element.innerHTML = '';\n",
              "          dataTable['output_type'] = 'display_data';\n",
              "          await google.colab.output.renderOutput(dataTable, element);\n",
              "          const docLink = document.createElement('div');\n",
              "          docLink.innerHTML = docLinkHtml;\n",
              "          element.appendChild(docLink);\n",
              "        }\n",
              "      </script>\n",
              "    </div>\n",
              "  </div>\n",
              "  "
            ]
          },
          "metadata": {},
          "execution_count": 142
        }
      ]
    },
    {
      "cell_type": "code",
      "source": [
        "df_absa2=df_absa.fillna(\"NONE\")"
      ],
      "metadata": {
        "id": "22---ApObJ0i"
      },
      "execution_count": 144,
      "outputs": []
    },
    {
      "cell_type": "code",
      "source": [
        "# Assigning labels to each review\n",
        "\n",
        "def label(stars):\n",
        "    if stars == 5:\n",
        "        return 1\n",
        "    elif stars == 4:\n",
        "        return 1\n",
        "    else:\n",
        "        return 0\n",
        "    \n",
        "from tqdm import tqdm\n",
        "\n",
        "tqdm.pandas()\n",
        "\n",
        "df_absa2['y'] = df_absa2.stars.progress_map(label)"
      ],
      "metadata": {
        "colab": {
          "base_uri": "https://localhost:8080/"
        },
        "id": "UELrR9ipc8MN",
        "outputId": "3bd21cb8-8500-4771-9aa0-77d06a16f66f"
      },
      "execution_count": 155,
      "outputs": [
        {
          "output_type": "stream",
          "name": "stderr",
          "text": [
            "100%|██████████| 292376/292376 [00:00<00:00, 674557.13it/s]\n"
          ]
        }
      ]
    },
    {
      "cell_type": "code",
      "source": [
        "dataset = CustomDataset(df_absa2, \"clean_review\")"
      ],
      "metadata": {
        "id": "mjlTqi8JLV44"
      },
      "execution_count": 156,
      "outputs": []
    },
    {
      "cell_type": "code",
      "source": [
        "len(dataset.source_vocab.stoi)"
      ],
      "metadata": {
        "colab": {
          "base_uri": "https://localhost:8080/"
        },
        "id": "yGz6xPSbL18m",
        "outputId": "0a9b4103-7e9f-4c43-f795-68661257cc8a"
      },
      "execution_count": 157,
      "outputs": [
        {
          "output_type": "execute_result",
          "data": {
            "text/plain": [
              "9997"
            ]
          },
          "metadata": {},
          "execution_count": 157
        }
      ]
    },
    {
      "cell_type": "code",
      "source": [
        "import pickle\n",
        "\n",
        "with open('dataset-new', 'wb') as dataset_file:\n",
        " \n",
        "  # Step 3\n",
        "    pickle.dump(dataset, dataset_file, pickle.HIGHEST_PROTOCOL)\n",
        "\n",
        "# import pickle\n",
        " \n",
        "# # Step 2\n",
        "# with open('./dataset', 'rb') as config_dictionary_file:\n",
        " \n",
        "#     # Step 3\n",
        "#     config_dictionary = pickle.load(config_dictionary_file)\n",
        " \n",
        "#     # After config_dictionary is read from file\n",
        "#     print(config_dictionary)"
      ],
      "metadata": {
        "id": "-CCl2KocL1yD"
      },
      "execution_count": 158,
      "outputs": []
    },
    {
      "cell_type": "markdown",
      "source": [
        "Word embeddings"
      ],
      "metadata": {
        "id": "Kq9zjPYOM0Nh"
      }
    },
    {
      "cell_type": "code",
      "source": [
        "def get_emb_layer_with_weights(target_vocab, emb_model, trainable = False):\n",
        "\n",
        "    weights_matrix = np.zeros((len(target_vocab), config.EMB_DIM))\n",
        "    words_found = 0\n",
        "    \n",
        "    for i, word in enumerate(target_vocab):\n",
        "        weights_matrix[i] = np.concatenate([emb_model.wv[word]])\n",
        "        words_found += 1\n",
        "                \n",
        "    print(f\"Words found are : {words_found}\")\n",
        "    \n",
        "    weights_matrix = torch.tensor(weights_matrix, dtype = torch.float32).reshape(len(target_vocab), config.EMB_DIM)\n",
        "    emb_layer = nn.Embedding.from_pretrained(weights_matrix)\n",
        "    print(emb_layer)\n",
        "    if trainable:\n",
        "        emb_layer.weight.requires_grad = True\n",
        "    else:\n",
        "        emb_layer.weight.requires_grad = False\n",
        "\n",
        "    return emb_layer"
      ],
      "metadata": {
        "id": "cK1QwRTOL1wi"
      },
      "execution_count": 159,
      "outputs": []
    },
    {
      "cell_type": "code",
      "source": [
        "class MyCollate:\n",
        "    def __init__(self, pad_idx, maxlen):\n",
        "        self.pad_idx = pad_idx\n",
        "        self.maxlen = maxlen\n",
        "        \n",
        "    \n",
        "    #__call__: a default method\n",
        "    ##   First the obj is created using MyCollate(pad_idx) in data loader\n",
        "    ##   Then if obj(batch) is called -> __call__ runs by default\n",
        "    def __call__(self, batch):\n",
        "        #get all source indexed sentences of the batch\n",
        "        source = [item[0] for item in batch] \n",
        "        #pad them using pad_sequence method from pytorch. \n",
        "#         source = pad_sequence(source, batch_first=False, padding_value = self.pad_idx)\n",
        "        \n",
        "        padded_sequence = torch.zeros((self.maxlen, len(batch)), dtype = torch.int)\n",
        "        \n",
        "        for idx, text in enumerate(source):\n",
        "            \n",
        "            if len(text) > self.maxlen:\n",
        "                padded_sequence[:, idx] = source[idx][: self.maxlen]\n",
        "            else:\n",
        "                padded_sequence[:len(source[idx]), idx] = padded_sequence[:len(source[idx]), idx] + source[idx]\n",
        "                \n",
        "        \n",
        "        #get all target indexed sentences of the batch\n",
        "        target = [item[1] for item in batch] \n",
        "        \n",
        "        target = torch.tensor(target, dtype = torch.float32).reshape(-1)\n",
        "        return padded_sequence, target"
      ],
      "metadata": {
        "id": "G1FQJbkcL1vC"
      },
      "execution_count": 160,
      "outputs": []
    },
    {
      "cell_type": "code",
      "source": [
        "class Model(nn.Module):\n",
        "    def __init__(self, input_dim, embedding_dim, hidden_dim, output_dim, embedding_layer):\n",
        "        super().__init__()\n",
        "#         self.embedding = nn.Embedding(input_dim, embedding_dim)\n",
        "        self.hidden_dim = hidden_dim\n",
        "        self.embedding = embedding_layer\n",
        "        self.lstm = nn.LSTM(embedding_dim, hidden_dim, bidirectional = True)\n",
        "        self.fc1 = nn.Linear(2*hidden_dim, 128)\n",
        "        self.fc2 = nn.Linear(128, output_dim)\n",
        "        self.dropout = nn.Dropout(0.3)\n",
        "        self.sigmoid = nn.Sigmoid()\n",
        "\n",
        "\n",
        "        \n",
        "    def forward(self, text):\n",
        "        \n",
        "        max_len, N = text.shape\n",
        "        hidden = torch.zeros((2, N , self.hidden_dim),\n",
        "                          dtype=torch.float)\n",
        "        memory = torch.zeros((2, N , self.hidden_dim),\n",
        "                          dtype=torch.float)\n",
        "        hidden = hidden.to(config.DEVICE)\n",
        "        memory = memory.to(config.DEVICE)\n",
        "        embedded = self.embedding(text)\n",
        "        output, hidden = self.lstm(embedded, (hidden, memory))\n",
        "#         assert torch.equal(output[-1,:,:], hidden.squeeze(0))\n",
        "        y_pred = output[-1,:,:]\n",
        "        y_pred = self.fc1(y_pred)\n",
        "        y_pred = self.fc2(y_pred)\n",
        "        y_pred = self.sigmoid(y_pred)\n",
        "                         \n",
        "        return y_pred  "
      ],
      "metadata": {
        "id": "nSqF1zdbL1qz"
      },
      "execution_count": 161,
      "outputs": []
    },
    {
      "cell_type": "markdown",
      "source": [
        "Training and Kfold Cross Validation"
      ],
      "metadata": {
        "id": "Eb49BJTNNA9d"
      }
    },
    {
      "cell_type": "code",
      "source": [
        "def train_epochs(dataloader,model, loss_fn, optimizer):\n",
        "    train_correct = 0\n",
        "    train_loss = 0\n",
        "    \n",
        "    model.train()\n",
        "\n",
        "    for review, label in tqdm(dataloader):\n",
        "        \n",
        "        review, label = review.to(config.DEVICE), label.to(config.DEVICE)\n",
        "        optimizer.zero_grad()\n",
        "        output = model(review)\n",
        "        output = output.reshape(-1)\n",
        "        loss = loss_fn(output, label)\n",
        "        loss.backward()\n",
        "        optimizer.step()\n",
        "        \n",
        "        train_loss += loss.item()*review.size(1)\n",
        "        prediction = (output > 0.5).float()\n",
        "        train_correct += (prediction == label).float().sum()\n",
        "        \n",
        "    return train_loss, train_correct\n"
      ],
      "metadata": {
        "id": "y6wR-i-2L1j2"
      },
      "execution_count": 162,
      "outputs": []
    },
    {
      "cell_type": "code",
      "source": [
        "def val_epochs(dataloader, model, loss_fn):\n",
        "    val_correct = 0\n",
        "    val_loss = 0\n",
        "    \n",
        "    model.eval()\n",
        "#     hidden = model.init_hidden(config.BATCH_SIZE)\n",
        "\n",
        "    for review, label in dataloader:\n",
        "        \n",
        "        review, label = review.to(config.DEVICE), label.to(config.DEVICE)\n",
        "        \n",
        "        output = model(review)\n",
        "        output = output.reshape(-1)\n",
        "\n",
        "        loss = loss_fn(output, label)\n",
        "        \n",
        "        val_loss += loss.item()*review.size(1)\n",
        "        prediction = (output > 0.5).float()\n",
        "        val_correct += (prediction == label).float().sum()\n",
        "#         prediction = \n",
        "    return val_loss, val_correct"
      ],
      "metadata": {
        "id": "T9UdOst3L1dK"
      },
      "execution_count": 163,
      "outputs": []
    },
    {
      "cell_type": "code",
      "source": [
        "from sklearn.model_selection import StratifiedKFold\n",
        "from sklearn.model_selection import KFold\n",
        "from torch.utils.data import SubsetRandomSampler\n",
        "from torch.optim import Adam\n",
        "from tqdm import tqdm\n",
        "from torch.utils.data import DataLoader \n",
        "import matplotlib.pyplot as plt\n",
        "\n",
        "\n",
        "# sfk = StratifiedKFold(n_splits = config.FOLDS)\n",
        "kfold = KFold(n_splits = config.FOLDS)\n",
        "model_state_dicts = {}\n",
        " \n",
        "for fold, (train_idx, val_idx) in enumerate(kfold.split(np.arange(len(dataset)))):\n",
        "    \n",
        "    train_sampler = SubsetRandomSampler(train_idx)\n",
        "    val_sampler = SubsetRandomSampler(val_idx)\n",
        "    \n",
        "    train_loader = DataLoader(dataset, batch_size = config.BATCH_SIZE, sampler = train_sampler, collate_fn = MyCollate(0, config.MAX_LEN))\n",
        "    val_loader = DataLoader(dataset, batch_size = config.BATCH_SIZE, sampler = val_sampler, collate_fn = MyCollate(0, config.MAX_LEN))  \n",
        "    \n",
        "    VOCAB_SIZE = len(dataset.source_vocab)\n",
        "    HIDDEN_DIM = 128\n",
        "    OUTPUT_DIM = 1\n",
        "    VOCAB = list(dataset.source_vocab.stoi)\n",
        "\n",
        "    embedding_layer = get_emb_layer_with_weights(target_vocab = VOCAB, emb_model = fasttext_model, trainable = False)\n",
        "\n",
        "    model = Model(VOCAB_SIZE, config.EMB_DIM, HIDDEN_DIM, OUTPUT_DIM, embedding_layer)\n",
        "    model = model.to(config.DEVICE)\n",
        "    \n",
        "#     model\n",
        "#     model = Model(2, len(dataset.source_vocab), 128, 100, 1 ).to(config.DEVICE)\n",
        "#     hidden = model.init_hidden(config.BATCH_SIZE)\n",
        "#     model.hidden = hidden\n",
        "\n",
        "    loss_fn = nn.BCELoss()\n",
        "    optimizer = torch.optim.SGD(model.parameters(), lr = 0.1)\n",
        "    \n",
        "    train_losses = []\n",
        "    val_losses = []\n",
        "    train_accs = []\n",
        "    val_accs = []\n",
        "\n",
        "    print(f\"-----------------------------------------------------------{fold}-fold of the model-----------------------------------------------------------\")\n",
        "    for epoch in range(config.EPOCHS):\n",
        "        train_loss, train_correct = train_epochs(train_loader, model, loss_fn, optimizer)\n",
        "        val_loss, val_correct = val_epochs(val_loader, model, loss_fn)  \n",
        "        \n",
        "        train_loss = train_loss/len(train_loader.sampler)\n",
        "        val_loss = val_loss/len(val_loader.sampler)\n",
        "        train_acc = (train_correct/len(train_loader.sampler))*100\n",
        "        val_acc = (val_correct/len(val_loader.sampler))*100\n",
        "        \n",
        "        train_losses.append(train_loss)\n",
        "        val_losses.append(val_loss)\n",
        "        train_accs.append(train_acc.cpu().numpy().tolist())\n",
        "        val_accs.append(val_acc.cpu().numpy().tolist())\n",
        "        \n",
        "        print(f\"| Train Loss : {train_loss} |\", end = \" \")\n",
        "        print(f\" Val Loss : {val_loss} |\", end = \" \")\n",
        "        print(f\"Train Acc : {train_acc} |\", end = \" \")\n",
        "        print(f\"Val Acc : {val_acc} |\")\n",
        "\n",
        "        \n",
        "    # Saving the state dicts for the model\n",
        "    model_state_dicts.update({f\"LSTM-Model-for-{fold}\" : model.state_dict(),\n",
        "                             f\"Model-Optimizer-for-{fold}\" : optimizer.state_dict()})\n",
        "    \n"
      ],
      "metadata": {
        "colab": {
          "base_uri": "https://localhost:8080/",
          "height": 496
        },
        "id": "XpjZFM9lMBOi",
        "outputId": "e9e2d3b6-70ca-410f-baeb-4eac9d2dd3b5"
      },
      "execution_count": 164,
      "outputs": [
        {
          "output_type": "stream",
          "name": "stdout",
          "text": [
            "Words found are : 9997\n",
            "Embedding(9997, 100)\n",
            "-----------------------------------------------------------0-fold of the model-----------------------------------------------------------\n"
          ]
        },
        {
          "output_type": "stream",
          "name": "stderr",
          "text": [
            "  4%|▍         | 299/7310 [00:14<05:40, 20.57it/s]\n"
          ]
        },
        {
          "output_type": "error",
          "ename": "IndexError",
          "evalue": "ignored",
          "traceback": [
            "\u001b[0;31m---------------------------------------------------------------------------\u001b[0m",
            "\u001b[0;31mIndexError\u001b[0m                                Traceback (most recent call last)",
            "\u001b[0;32m<ipython-input-164-8e0be832d3b1>\u001b[0m in \u001b[0;36m<module>\u001b[0;34m\u001b[0m\n\u001b[1;32m     45\u001b[0m     \u001b[0mprint\u001b[0m\u001b[0;34m(\u001b[0m\u001b[0;34mf\"-----------------------------------------------------------{fold}-fold of the model-----------------------------------------------------------\"\u001b[0m\u001b[0;34m)\u001b[0m\u001b[0;34m\u001b[0m\u001b[0;34m\u001b[0m\u001b[0m\n\u001b[1;32m     46\u001b[0m     \u001b[0;32mfor\u001b[0m \u001b[0mepoch\u001b[0m \u001b[0;32min\u001b[0m \u001b[0mrange\u001b[0m\u001b[0;34m(\u001b[0m\u001b[0mconfig\u001b[0m\u001b[0;34m.\u001b[0m\u001b[0mEPOCHS\u001b[0m\u001b[0;34m)\u001b[0m\u001b[0;34m:\u001b[0m\u001b[0;34m\u001b[0m\u001b[0;34m\u001b[0m\u001b[0m\n\u001b[0;32m---> 47\u001b[0;31m         \u001b[0mtrain_loss\u001b[0m\u001b[0;34m,\u001b[0m \u001b[0mtrain_correct\u001b[0m \u001b[0;34m=\u001b[0m \u001b[0mtrain_epochs\u001b[0m\u001b[0;34m(\u001b[0m\u001b[0mtrain_loader\u001b[0m\u001b[0;34m,\u001b[0m \u001b[0mmodel\u001b[0m\u001b[0;34m,\u001b[0m \u001b[0mloss_fn\u001b[0m\u001b[0;34m,\u001b[0m \u001b[0moptimizer\u001b[0m\u001b[0;34m)\u001b[0m\u001b[0;34m\u001b[0m\u001b[0;34m\u001b[0m\u001b[0m\n\u001b[0m\u001b[1;32m     48\u001b[0m         \u001b[0mval_loss\u001b[0m\u001b[0;34m,\u001b[0m \u001b[0mval_correct\u001b[0m \u001b[0;34m=\u001b[0m \u001b[0mval_epochs\u001b[0m\u001b[0;34m(\u001b[0m\u001b[0mval_loader\u001b[0m\u001b[0;34m,\u001b[0m \u001b[0mmodel\u001b[0m\u001b[0;34m,\u001b[0m \u001b[0mloss_fn\u001b[0m\u001b[0;34m)\u001b[0m\u001b[0;34m\u001b[0m\u001b[0;34m\u001b[0m\u001b[0m\n\u001b[1;32m     49\u001b[0m \u001b[0;34m\u001b[0m\u001b[0m\n",
            "\u001b[0;32m<ipython-input-162-ee650733b74b>\u001b[0m in \u001b[0;36mtrain_epochs\u001b[0;34m(dataloader, model, loss_fn, optimizer)\u001b[0m\n\u001b[1;32m      9\u001b[0m         \u001b[0mreview\u001b[0m\u001b[0;34m,\u001b[0m \u001b[0mlabel\u001b[0m \u001b[0;34m=\u001b[0m \u001b[0mreview\u001b[0m\u001b[0;34m.\u001b[0m\u001b[0mto\u001b[0m\u001b[0;34m(\u001b[0m\u001b[0mconfig\u001b[0m\u001b[0;34m.\u001b[0m\u001b[0mDEVICE\u001b[0m\u001b[0;34m)\u001b[0m\u001b[0;34m,\u001b[0m \u001b[0mlabel\u001b[0m\u001b[0;34m.\u001b[0m\u001b[0mto\u001b[0m\u001b[0;34m(\u001b[0m\u001b[0mconfig\u001b[0m\u001b[0;34m.\u001b[0m\u001b[0mDEVICE\u001b[0m\u001b[0;34m)\u001b[0m\u001b[0;34m\u001b[0m\u001b[0;34m\u001b[0m\u001b[0m\n\u001b[1;32m     10\u001b[0m         \u001b[0moptimizer\u001b[0m\u001b[0;34m.\u001b[0m\u001b[0mzero_grad\u001b[0m\u001b[0;34m(\u001b[0m\u001b[0;34m)\u001b[0m\u001b[0;34m\u001b[0m\u001b[0;34m\u001b[0m\u001b[0m\n\u001b[0;32m---> 11\u001b[0;31m         \u001b[0moutput\u001b[0m \u001b[0;34m=\u001b[0m \u001b[0mmodel\u001b[0m\u001b[0;34m(\u001b[0m\u001b[0mreview\u001b[0m\u001b[0;34m)\u001b[0m\u001b[0;34m\u001b[0m\u001b[0;34m\u001b[0m\u001b[0m\n\u001b[0m\u001b[1;32m     12\u001b[0m         \u001b[0moutput\u001b[0m \u001b[0;34m=\u001b[0m \u001b[0moutput\u001b[0m\u001b[0;34m.\u001b[0m\u001b[0mreshape\u001b[0m\u001b[0;34m(\u001b[0m\u001b[0;34m-\u001b[0m\u001b[0;36m1\u001b[0m\u001b[0;34m)\u001b[0m\u001b[0;34m\u001b[0m\u001b[0;34m\u001b[0m\u001b[0m\n\u001b[1;32m     13\u001b[0m         \u001b[0mloss\u001b[0m \u001b[0;34m=\u001b[0m \u001b[0mloss_fn\u001b[0m\u001b[0;34m(\u001b[0m\u001b[0moutput\u001b[0m\u001b[0;34m,\u001b[0m \u001b[0mlabel\u001b[0m\u001b[0;34m)\u001b[0m\u001b[0;34m\u001b[0m\u001b[0;34m\u001b[0m\u001b[0m\n",
            "\u001b[0;32m/usr/local/lib/python3.7/dist-packages/torch/nn/modules/module.py\u001b[0m in \u001b[0;36m_call_impl\u001b[0;34m(self, *input, **kwargs)\u001b[0m\n\u001b[1;32m   1128\u001b[0m         if not (self._backward_hooks or self._forward_hooks or self._forward_pre_hooks or _global_backward_hooks\n\u001b[1;32m   1129\u001b[0m                 or _global_forward_hooks or _global_forward_pre_hooks):\n\u001b[0;32m-> 1130\u001b[0;31m             \u001b[0;32mreturn\u001b[0m \u001b[0mforward_call\u001b[0m\u001b[0;34m(\u001b[0m\u001b[0;34m*\u001b[0m\u001b[0minput\u001b[0m\u001b[0;34m,\u001b[0m \u001b[0;34m**\u001b[0m\u001b[0mkwargs\u001b[0m\u001b[0;34m)\u001b[0m\u001b[0;34m\u001b[0m\u001b[0;34m\u001b[0m\u001b[0m\n\u001b[0m\u001b[1;32m   1131\u001b[0m         \u001b[0;31m# Do not call functions when jit is used\u001b[0m\u001b[0;34m\u001b[0m\u001b[0;34m\u001b[0m\u001b[0;34m\u001b[0m\u001b[0m\n\u001b[1;32m   1132\u001b[0m         \u001b[0mfull_backward_hooks\u001b[0m\u001b[0;34m,\u001b[0m \u001b[0mnon_full_backward_hooks\u001b[0m \u001b[0;34m=\u001b[0m \u001b[0;34m[\u001b[0m\u001b[0;34m]\u001b[0m\u001b[0;34m,\u001b[0m \u001b[0;34m[\u001b[0m\u001b[0;34m]\u001b[0m\u001b[0;34m\u001b[0m\u001b[0;34m\u001b[0m\u001b[0m\n",
            "\u001b[0;32m<ipython-input-161-ab915fbbbd65>\u001b[0m in \u001b[0;36mforward\u001b[0;34m(self, text)\u001b[0m\n\u001b[1;32m     22\u001b[0m         \u001b[0mhidden\u001b[0m \u001b[0;34m=\u001b[0m \u001b[0mhidden\u001b[0m\u001b[0;34m.\u001b[0m\u001b[0mto\u001b[0m\u001b[0;34m(\u001b[0m\u001b[0mconfig\u001b[0m\u001b[0;34m.\u001b[0m\u001b[0mDEVICE\u001b[0m\u001b[0;34m)\u001b[0m\u001b[0;34m\u001b[0m\u001b[0;34m\u001b[0m\u001b[0m\n\u001b[1;32m     23\u001b[0m         \u001b[0mmemory\u001b[0m \u001b[0;34m=\u001b[0m \u001b[0mmemory\u001b[0m\u001b[0;34m.\u001b[0m\u001b[0mto\u001b[0m\u001b[0;34m(\u001b[0m\u001b[0mconfig\u001b[0m\u001b[0;34m.\u001b[0m\u001b[0mDEVICE\u001b[0m\u001b[0;34m)\u001b[0m\u001b[0;34m\u001b[0m\u001b[0;34m\u001b[0m\u001b[0m\n\u001b[0;32m---> 24\u001b[0;31m         \u001b[0membedded\u001b[0m \u001b[0;34m=\u001b[0m \u001b[0mself\u001b[0m\u001b[0;34m.\u001b[0m\u001b[0membedding\u001b[0m\u001b[0;34m(\u001b[0m\u001b[0mtext\u001b[0m\u001b[0;34m)\u001b[0m\u001b[0;34m\u001b[0m\u001b[0;34m\u001b[0m\u001b[0m\n\u001b[0m\u001b[1;32m     25\u001b[0m         \u001b[0moutput\u001b[0m\u001b[0;34m,\u001b[0m \u001b[0mhidden\u001b[0m \u001b[0;34m=\u001b[0m \u001b[0mself\u001b[0m\u001b[0;34m.\u001b[0m\u001b[0mlstm\u001b[0m\u001b[0;34m(\u001b[0m\u001b[0membedded\u001b[0m\u001b[0;34m,\u001b[0m \u001b[0;34m(\u001b[0m\u001b[0mhidden\u001b[0m\u001b[0;34m,\u001b[0m \u001b[0mmemory\u001b[0m\u001b[0;34m)\u001b[0m\u001b[0;34m)\u001b[0m\u001b[0;34m\u001b[0m\u001b[0;34m\u001b[0m\u001b[0m\n\u001b[1;32m     26\u001b[0m \u001b[0;31m#         assert torch.equal(output[-1,:,:], hidden.squeeze(0))\u001b[0m\u001b[0;34m\u001b[0m\u001b[0;34m\u001b[0m\u001b[0;34m\u001b[0m\u001b[0m\n",
            "\u001b[0;32m/usr/local/lib/python3.7/dist-packages/torch/nn/modules/module.py\u001b[0m in \u001b[0;36m_call_impl\u001b[0;34m(self, *input, **kwargs)\u001b[0m\n\u001b[1;32m   1128\u001b[0m         if not (self._backward_hooks or self._forward_hooks or self._forward_pre_hooks or _global_backward_hooks\n\u001b[1;32m   1129\u001b[0m                 or _global_forward_hooks or _global_forward_pre_hooks):\n\u001b[0;32m-> 1130\u001b[0;31m             \u001b[0;32mreturn\u001b[0m \u001b[0mforward_call\u001b[0m\u001b[0;34m(\u001b[0m\u001b[0;34m*\u001b[0m\u001b[0minput\u001b[0m\u001b[0;34m,\u001b[0m \u001b[0;34m**\u001b[0m\u001b[0mkwargs\u001b[0m\u001b[0;34m)\u001b[0m\u001b[0;34m\u001b[0m\u001b[0;34m\u001b[0m\u001b[0m\n\u001b[0m\u001b[1;32m   1131\u001b[0m         \u001b[0;31m# Do not call functions when jit is used\u001b[0m\u001b[0;34m\u001b[0m\u001b[0;34m\u001b[0m\u001b[0;34m\u001b[0m\u001b[0m\n\u001b[1;32m   1132\u001b[0m         \u001b[0mfull_backward_hooks\u001b[0m\u001b[0;34m,\u001b[0m \u001b[0mnon_full_backward_hooks\u001b[0m \u001b[0;34m=\u001b[0m \u001b[0;34m[\u001b[0m\u001b[0;34m]\u001b[0m\u001b[0;34m,\u001b[0m \u001b[0;34m[\u001b[0m\u001b[0;34m]\u001b[0m\u001b[0;34m\u001b[0m\u001b[0;34m\u001b[0m\u001b[0m\n",
            "\u001b[0;32m/usr/local/lib/python3.7/dist-packages/torch/nn/modules/sparse.py\u001b[0m in \u001b[0;36mforward\u001b[0;34m(self, input)\u001b[0m\n\u001b[1;32m    158\u001b[0m         return F.embedding(\n\u001b[1;32m    159\u001b[0m             \u001b[0minput\u001b[0m\u001b[0;34m,\u001b[0m \u001b[0mself\u001b[0m\u001b[0;34m.\u001b[0m\u001b[0mweight\u001b[0m\u001b[0;34m,\u001b[0m \u001b[0mself\u001b[0m\u001b[0;34m.\u001b[0m\u001b[0mpadding_idx\u001b[0m\u001b[0;34m,\u001b[0m \u001b[0mself\u001b[0m\u001b[0;34m.\u001b[0m\u001b[0mmax_norm\u001b[0m\u001b[0;34m,\u001b[0m\u001b[0;34m\u001b[0m\u001b[0;34m\u001b[0m\u001b[0m\n\u001b[0;32m--> 160\u001b[0;31m             self.norm_type, self.scale_grad_by_freq, self.sparse)\n\u001b[0m\u001b[1;32m    161\u001b[0m \u001b[0;34m\u001b[0m\u001b[0m\n\u001b[1;32m    162\u001b[0m     \u001b[0;32mdef\u001b[0m \u001b[0mextra_repr\u001b[0m\u001b[0;34m(\u001b[0m\u001b[0mself\u001b[0m\u001b[0;34m)\u001b[0m \u001b[0;34m->\u001b[0m \u001b[0mstr\u001b[0m\u001b[0;34m:\u001b[0m\u001b[0;34m\u001b[0m\u001b[0;34m\u001b[0m\u001b[0m\n",
            "\u001b[0;32m/usr/local/lib/python3.7/dist-packages/torch/nn/functional.py\u001b[0m in \u001b[0;36membedding\u001b[0;34m(input, weight, padding_idx, max_norm, norm_type, scale_grad_by_freq, sparse)\u001b[0m\n\u001b[1;32m   2197\u001b[0m         \u001b[0;31m# remove once script supports set_grad_enabled\u001b[0m\u001b[0;34m\u001b[0m\u001b[0;34m\u001b[0m\u001b[0;34m\u001b[0m\u001b[0m\n\u001b[1;32m   2198\u001b[0m         \u001b[0m_no_grad_embedding_renorm_\u001b[0m\u001b[0;34m(\u001b[0m\u001b[0mweight\u001b[0m\u001b[0;34m,\u001b[0m \u001b[0minput\u001b[0m\u001b[0;34m,\u001b[0m \u001b[0mmax_norm\u001b[0m\u001b[0;34m,\u001b[0m \u001b[0mnorm_type\u001b[0m\u001b[0;34m)\u001b[0m\u001b[0;34m\u001b[0m\u001b[0;34m\u001b[0m\u001b[0m\n\u001b[0;32m-> 2199\u001b[0;31m     \u001b[0;32mreturn\u001b[0m \u001b[0mtorch\u001b[0m\u001b[0;34m.\u001b[0m\u001b[0membedding\u001b[0m\u001b[0;34m(\u001b[0m\u001b[0mweight\u001b[0m\u001b[0;34m,\u001b[0m \u001b[0minput\u001b[0m\u001b[0;34m,\u001b[0m \u001b[0mpadding_idx\u001b[0m\u001b[0;34m,\u001b[0m \u001b[0mscale_grad_by_freq\u001b[0m\u001b[0;34m,\u001b[0m \u001b[0msparse\u001b[0m\u001b[0;34m)\u001b[0m\u001b[0;34m\u001b[0m\u001b[0;34m\u001b[0m\u001b[0m\n\u001b[0m\u001b[1;32m   2200\u001b[0m \u001b[0;34m\u001b[0m\u001b[0m\n\u001b[1;32m   2201\u001b[0m \u001b[0;34m\u001b[0m\u001b[0m\n",
            "\u001b[0;31mIndexError\u001b[0m: index out of range in self"
          ]
        }
      ]
    },
    {
      "cell_type": "code",
      "source": [
        "torch.save(model_state_dicts, \"My-Model.pt\")"
      ],
      "metadata": {
        "id": "_9SLBmihMBLu"
      },
      "execution_count": null,
      "outputs": []
    },
    {
      "cell_type": "markdown",
      "source": [
        "Inference"
      ],
      "metadata": {
        "id": "sYB-OC_jMNc9"
      }
    },
    {
      "cell_type": "code",
      "source": [
        "def numericalize(text):\n",
        "    \n",
        "    numerialized_source = [] \n",
        "    numerialized_source = [dataset.source_vocab.stoi[\"start\"]]\n",
        "    numerialized_source += dataset.source_vocab.numericalize(text)\n",
        "    numerialized_source.append(dataset.source_vocab.stoi[\"end\"])\n",
        "    \n",
        "    return numerialized_source\n",
        "\n",
        "def padding(source):\n",
        "    padded_sequence = torch.zeros(config.MAX_LEN, 1, dtype = torch.int)\n",
        "    source = torch.tensor(source)\n",
        "    \n",
        "    if len(source) > config.MAX_LEN:\n",
        "        padded_sequence[:, 0] = source[: config.MAX_LEN]\n",
        "    else:\n",
        "        padded_sequence[:len(source), 0] = padded_sequence[:len(source), 0] + source\n",
        "    \n",
        "    return padded_sequence"
      ],
      "metadata": {
        "id": "pUIoxY0mMBHr"
      },
      "execution_count": 171,
      "outputs": []
    },
    {
      "cell_type": "code",
      "source": [
        "def infer_processing(text):\n",
        "    \n",
        "    text = preprocessing(text)\n",
        "    text = numericalize(text)\n",
        "    text = padding(text)\n",
        "    return text"
      ],
      "metadata": {
        "id": "aTdbhoDAMBEm"
      },
      "execution_count": 166,
      "outputs": []
    },
    {
      "cell_type": "code",
      "source": [
        "aspects = [\"food\", \"service\", \"place\", \"price\"]\n",
        "\n",
        "def get_similarity(text, aspect):\n",
        "    try:\n",
        "#         text = \" \".join(text)\n",
        "        return fasttext_model.wv.similarity(text, aspect)\n",
        "    except:\n",
        "        return 0\n",
        "    \n",
        "def best_aspect(text, aspects):\n",
        "    a = []\n",
        "    \n",
        "    for aspect in aspects:\n",
        "        a.append(get_similarity(text, aspect))\n",
        "    \n",
        "    return aspects[np.argmax(a)]"
      ],
      "metadata": {
        "id": "eANW5tWpMBB-"
      },
      "execution_count": 167,
      "outputs": []
    },
    {
      "cell_type": "code",
      "source": [
        "sample = \"Love going here for happy hour!\"\n",
        "\n",
        "ba = best_aspect(preprocessing(sample), aspects)\n",
        "\n",
        "a = infer_processing(sample).to(config.DEVICE)"
      ],
      "metadata": {
        "id": "Z79CXAVwMA_l"
      },
      "execution_count": 200,
      "outputs": []
    },
    {
      "cell_type": "code",
      "source": [
        "model.eval()\n",
        "sentiment = model(a)\n",
        "sentiment = sentiment.cpu().detach().numpy()[0]\n",
        "\n",
        "if sentiment > 0.3:\n",
        "    sentiment = 'Positively'\n",
        "else :\n",
        "    sentiment = 'Negatively'"
      ],
      "metadata": {
        "id": "dYrpZxNFMA82"
      },
      "execution_count": 201,
      "outputs": []
    },
    {
      "cell_type": "code",
      "source": [
        "print(f\"The reviewer is talking {sentiment} about the {ba} of the restaurant in his/her comment\")"
      ],
      "metadata": {
        "id": "MqyCi3C9MA6Q",
        "colab": {
          "base_uri": "https://localhost:8080/"
        },
        "outputId": "1f89c9ed-8911-4ce3-acb2-e2cb7cce930e"
      },
      "execution_count": 202,
      "outputs": [
        {
          "output_type": "stream",
          "name": "stdout",
          "text": [
            "The reviewer is talking Positively about the place of the restaurant in his/her comment\n"
          ]
        }
      ]
    },
    {
      "cell_type": "code",
      "source": [],
      "metadata": {
        "id": "J3TmBWlyMAwq"
      },
      "execution_count": null,
      "outputs": []
    }
  ],
  "metadata": {
    "kernelspec": {
      "display_name": "Python 3",
      "language": "python",
      "name": "python3"
    },
    "language_info": {
      "codemirror_mode": {
        "name": "ipython",
        "version": 3
      },
      "file_extension": ".py",
      "mimetype": "text/x-python",
      "name": "python",
      "nbconvert_exporter": "python",
      "pygments_lexer": "ipython3",
      "version": "3.7.3"
    },
    "colab": {
      "provenance": [],
      "collapsed_sections": [],
      "include_colab_link": true
    }
  },
  "nbformat": 4,
  "nbformat_minor": 0
}