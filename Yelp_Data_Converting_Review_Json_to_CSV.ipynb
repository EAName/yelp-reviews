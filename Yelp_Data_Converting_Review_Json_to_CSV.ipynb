{
  "nbformat": 4,
  "nbformat_minor": 0,
  "metadata": {
    "colab": {
      "provenance": [],
      "collapsed_sections": [],
      "include_colab_link": true
    },
    "kernelspec": {
      "name": "python3",
      "display_name": "Python 3"
    },
    "language_info": {
      "name": "python"
    }
  },
  "cells": [
    {
      "cell_type": "markdown",
      "metadata": {
        "id": "view-in-github",
        "colab_type": "text"
      },
      "source": [
        "<a href=\"https://colab.research.google.com/github/EAName/yelp-reviews/blob/main/Yelp_Data_Converting_Review_Json_to_CSV.ipynb\" target=\"_parent\"><img src=\"https://colab.research.google.com/assets/colab-badge.svg\" alt=\"Open In Colab\"/></a>"
      ]
    },
    {
      "cell_type": "code",
      "execution_count": 1,
      "metadata": {
        "colab": {
          "base_uri": "https://localhost:8080/"
        },
        "id": "auky9-DmfF3z",
        "outputId": "efd48967-4969-475b-80b8-859f818b67c3"
      },
      "outputs": [
        {
          "output_type": "stream",
          "name": "stdout",
          "text": [
            "Mounted at /content/gdrive\n"
          ]
        }
      ],
      "source": [
        "from google.colab import drive\n",
        "drive.mount('/content/gdrive')"
      ]
    },
    {
      "cell_type": "code",
      "source": [
        "import json\n",
        "import os\n",
        "\n",
        "import numpy as np\n",
        "import pandas as pd\n",
        "from tqdm import tqdm"
      ],
      "metadata": {
        "id": "LpW_FjImgZT9"
      },
      "execution_count": 2,
      "outputs": []
    },
    {
      "cell_type": "markdown",
      "source": [
        "Business file"
      ],
      "metadata": {
        "id": "rfSg9AfU5r5c"
      }
    },
    {
      "cell_type": "code",
      "source": [
        "# First drop yelp_dataset into your drive (Add shortcut to Drive)\n",
        "business_json_path = '/content/gdrive/MyDrive/yelp_dataset/yelp_academic_dataset_business.json'\n",
        "df_b = pd.read_json(business_json_path, lines=True)"
      ],
      "metadata": {
        "id": "34WNXxIigag8"
      },
      "execution_count": 3,
      "outputs": []
    },
    {
      "cell_type": "code",
      "source": [
        "df_b.size"
      ],
      "metadata": {
        "id": "EY833ZDLhf7o",
        "colab": {
          "base_uri": "https://localhost:8080/"
        },
        "outputId": "e0124ab6-278f-4ac2-ea83-2347b806cb84"
      },
      "execution_count": 4,
      "outputs": [
        {
          "output_type": "execute_result",
          "data": {
            "text/plain": [
              "2104844"
            ]
          },
          "metadata": {},
          "execution_count": 4
        }
      ]
    },
    {
      "cell_type": "code",
      "source": [
        "# #Drop closed businesses\n",
        "\n",
        "# # 1 = open, 0 = closed\n",
        "# df_b = df_b[df_b['is_open']==1]"
      ],
      "metadata": {
        "id": "v2adjUhFhYsc"
      },
      "execution_count": 5,
      "outputs": []
    },
    {
      "cell_type": "code",
      "source": [
        "#keep only restaurant category\n",
        "df_b = df_b[df_b['categories'].str.contains(\n",
        "              'restaurant|Restaurant|RESTAURANT',\n",
        "              case=False, na=False)]"
      ],
      "metadata": {
        "id": "c0jVPY4nhcda"
      },
      "execution_count": 6,
      "outputs": []
    },
    {
      "cell_type": "code",
      "source": [
        "df_b.head()"
      ],
      "metadata": {
        "id": "jl7c5Zfmlic4",
        "colab": {
          "base_uri": "https://localhost:8080/",
          "height": 625
        },
        "outputId": "3b648739-c3ca-4362-8746-43fc01a2cdc9"
      },
      "execution_count": 7,
      "outputs": [
        {
          "output_type": "execute_result",
          "data": {
            "text/plain": [
              "               business_id                   name              address  \\\n",
              "3   MTSW4McQd7CbVtyjqoe9mw     St Honore Pastries          935 Race St   \n",
              "5   CF33F8-E6oudUQ46HnavjQ         Sonic Drive-In        615 S Main St   \n",
              "8   k0hlBqXX-Bt0vf1op7Jr1w  Tsevi's Pub And Grill    8025 Mackenzie Rd   \n",
              "9   bBDDEgkFA1Otx9Lfe7BZUQ         Sonic Drive-In  2312 Dickerson Pike   \n",
              "11  eEOYSgkmpB90uNA7lDOMRA  Vietnamese Food Truck                        \n",
              "\n",
              "            city state postal_code   latitude  longitude  stars  review_count  \\\n",
              "3   Philadelphia    PA       19107  39.955505 -75.155564    4.0            80   \n",
              "5   Ashland City    TN       37015  36.269593 -87.058943    2.0             6   \n",
              "8         Affton    MO       63123  38.565165 -90.321087    3.0            19   \n",
              "9      Nashville    TN       37207  36.208102 -86.768170    1.5            10   \n",
              "11     Tampa Bay    FL       33602  27.955269 -82.456320    4.0            10   \n",
              "\n",
              "    is_open                                         attributes  \\\n",
              "3         1  {'RestaurantsDelivery': 'False', 'OutdoorSeati...   \n",
              "5         1  {'BusinessParking': 'None', 'BusinessAcceptsCr...   \n",
              "8         0  {'Caters': 'True', 'Alcohol': 'u'full_bar'', '...   \n",
              "9         1  {'RestaurantsAttire': ''casual'', 'Restaurants...   \n",
              "11        1  {'Alcohol': ''none'', 'OutdoorSeating': 'None'...   \n",
              "\n",
              "                                           categories  \\\n",
              "3   Restaurants, Food, Bubble Tea, Coffee & Tea, B...   \n",
              "5   Burgers, Fast Food, Sandwiches, Food, Ice Crea...   \n",
              "8   Pubs, Restaurants, Italian, Bars, American (Tr...   \n",
              "9   Ice Cream & Frozen Yogurt, Fast Food, Burgers,...   \n",
              "11         Vietnamese, Food, Restaurants, Food Trucks   \n",
              "\n",
              "                                                hours  \n",
              "3   {'Monday': '7:0-20:0', 'Tuesday': '7:0-20:0', ...  \n",
              "5   {'Monday': '0:0-0:0', 'Tuesday': '6:0-22:0', '...  \n",
              "8                                                None  \n",
              "9   {'Monday': '0:0-0:0', 'Tuesday': '6:0-21:0', '...  \n",
              "11  {'Monday': '11:0-14:0', 'Tuesday': '11:0-14:0'...  "
            ],
            "text/html": [
              "\n",
              "  <div id=\"df-3d21302f-ca5c-43dc-92fb-802adb8fa804\">\n",
              "    <div class=\"colab-df-container\">\n",
              "      <div>\n",
              "<style scoped>\n",
              "    .dataframe tbody tr th:only-of-type {\n",
              "        vertical-align: middle;\n",
              "    }\n",
              "\n",
              "    .dataframe tbody tr th {\n",
              "        vertical-align: top;\n",
              "    }\n",
              "\n",
              "    .dataframe thead th {\n",
              "        text-align: right;\n",
              "    }\n",
              "</style>\n",
              "<table border=\"1\" class=\"dataframe\">\n",
              "  <thead>\n",
              "    <tr style=\"text-align: right;\">\n",
              "      <th></th>\n",
              "      <th>business_id</th>\n",
              "      <th>name</th>\n",
              "      <th>address</th>\n",
              "      <th>city</th>\n",
              "      <th>state</th>\n",
              "      <th>postal_code</th>\n",
              "      <th>latitude</th>\n",
              "      <th>longitude</th>\n",
              "      <th>stars</th>\n",
              "      <th>review_count</th>\n",
              "      <th>is_open</th>\n",
              "      <th>attributes</th>\n",
              "      <th>categories</th>\n",
              "      <th>hours</th>\n",
              "    </tr>\n",
              "  </thead>\n",
              "  <tbody>\n",
              "    <tr>\n",
              "      <th>3</th>\n",
              "      <td>MTSW4McQd7CbVtyjqoe9mw</td>\n",
              "      <td>St Honore Pastries</td>\n",
              "      <td>935 Race St</td>\n",
              "      <td>Philadelphia</td>\n",
              "      <td>PA</td>\n",
              "      <td>19107</td>\n",
              "      <td>39.955505</td>\n",
              "      <td>-75.155564</td>\n",
              "      <td>4.0</td>\n",
              "      <td>80</td>\n",
              "      <td>1</td>\n",
              "      <td>{'RestaurantsDelivery': 'False', 'OutdoorSeati...</td>\n",
              "      <td>Restaurants, Food, Bubble Tea, Coffee &amp; Tea, B...</td>\n",
              "      <td>{'Monday': '7:0-20:0', 'Tuesday': '7:0-20:0', ...</td>\n",
              "    </tr>\n",
              "    <tr>\n",
              "      <th>5</th>\n",
              "      <td>CF33F8-E6oudUQ46HnavjQ</td>\n",
              "      <td>Sonic Drive-In</td>\n",
              "      <td>615 S Main St</td>\n",
              "      <td>Ashland City</td>\n",
              "      <td>TN</td>\n",
              "      <td>37015</td>\n",
              "      <td>36.269593</td>\n",
              "      <td>-87.058943</td>\n",
              "      <td>2.0</td>\n",
              "      <td>6</td>\n",
              "      <td>1</td>\n",
              "      <td>{'BusinessParking': 'None', 'BusinessAcceptsCr...</td>\n",
              "      <td>Burgers, Fast Food, Sandwiches, Food, Ice Crea...</td>\n",
              "      <td>{'Monday': '0:0-0:0', 'Tuesday': '6:0-22:0', '...</td>\n",
              "    </tr>\n",
              "    <tr>\n",
              "      <th>8</th>\n",
              "      <td>k0hlBqXX-Bt0vf1op7Jr1w</td>\n",
              "      <td>Tsevi's Pub And Grill</td>\n",
              "      <td>8025 Mackenzie Rd</td>\n",
              "      <td>Affton</td>\n",
              "      <td>MO</td>\n",
              "      <td>63123</td>\n",
              "      <td>38.565165</td>\n",
              "      <td>-90.321087</td>\n",
              "      <td>3.0</td>\n",
              "      <td>19</td>\n",
              "      <td>0</td>\n",
              "      <td>{'Caters': 'True', 'Alcohol': 'u'full_bar'', '...</td>\n",
              "      <td>Pubs, Restaurants, Italian, Bars, American (Tr...</td>\n",
              "      <td>None</td>\n",
              "    </tr>\n",
              "    <tr>\n",
              "      <th>9</th>\n",
              "      <td>bBDDEgkFA1Otx9Lfe7BZUQ</td>\n",
              "      <td>Sonic Drive-In</td>\n",
              "      <td>2312 Dickerson Pike</td>\n",
              "      <td>Nashville</td>\n",
              "      <td>TN</td>\n",
              "      <td>37207</td>\n",
              "      <td>36.208102</td>\n",
              "      <td>-86.768170</td>\n",
              "      <td>1.5</td>\n",
              "      <td>10</td>\n",
              "      <td>1</td>\n",
              "      <td>{'RestaurantsAttire': ''casual'', 'Restaurants...</td>\n",
              "      <td>Ice Cream &amp; Frozen Yogurt, Fast Food, Burgers,...</td>\n",
              "      <td>{'Monday': '0:0-0:0', 'Tuesday': '6:0-21:0', '...</td>\n",
              "    </tr>\n",
              "    <tr>\n",
              "      <th>11</th>\n",
              "      <td>eEOYSgkmpB90uNA7lDOMRA</td>\n",
              "      <td>Vietnamese Food Truck</td>\n",
              "      <td></td>\n",
              "      <td>Tampa Bay</td>\n",
              "      <td>FL</td>\n",
              "      <td>33602</td>\n",
              "      <td>27.955269</td>\n",
              "      <td>-82.456320</td>\n",
              "      <td>4.0</td>\n",
              "      <td>10</td>\n",
              "      <td>1</td>\n",
              "      <td>{'Alcohol': ''none'', 'OutdoorSeating': 'None'...</td>\n",
              "      <td>Vietnamese, Food, Restaurants, Food Trucks</td>\n",
              "      <td>{'Monday': '11:0-14:0', 'Tuesday': '11:0-14:0'...</td>\n",
              "    </tr>\n",
              "  </tbody>\n",
              "</table>\n",
              "</div>\n",
              "      <button class=\"colab-df-convert\" onclick=\"convertToInteractive('df-3d21302f-ca5c-43dc-92fb-802adb8fa804')\"\n",
              "              title=\"Convert this dataframe to an interactive table.\"\n",
              "              style=\"display:none;\">\n",
              "        \n",
              "  <svg xmlns=\"http://www.w3.org/2000/svg\" height=\"24px\"viewBox=\"0 0 24 24\"\n",
              "       width=\"24px\">\n",
              "    <path d=\"M0 0h24v24H0V0z\" fill=\"none\"/>\n",
              "    <path d=\"M18.56 5.44l.94 2.06.94-2.06 2.06-.94-2.06-.94-.94-2.06-.94 2.06-2.06.94zm-11 1L8.5 8.5l.94-2.06 2.06-.94-2.06-.94L8.5 2.5l-.94 2.06-2.06.94zm10 10l.94 2.06.94-2.06 2.06-.94-2.06-.94-.94-2.06-.94 2.06-2.06.94z\"/><path d=\"M17.41 7.96l-1.37-1.37c-.4-.4-.92-.59-1.43-.59-.52 0-1.04.2-1.43.59L10.3 9.45l-7.72 7.72c-.78.78-.78 2.05 0 2.83L4 21.41c.39.39.9.59 1.41.59.51 0 1.02-.2 1.41-.59l7.78-7.78 2.81-2.81c.8-.78.8-2.07 0-2.86zM5.41 20L4 18.59l7.72-7.72 1.47 1.35L5.41 20z\"/>\n",
              "  </svg>\n",
              "      </button>\n",
              "      \n",
              "  <style>\n",
              "    .colab-df-container {\n",
              "      display:flex;\n",
              "      flex-wrap:wrap;\n",
              "      gap: 12px;\n",
              "    }\n",
              "\n",
              "    .colab-df-convert {\n",
              "      background-color: #E8F0FE;\n",
              "      border: none;\n",
              "      border-radius: 50%;\n",
              "      cursor: pointer;\n",
              "      display: none;\n",
              "      fill: #1967D2;\n",
              "      height: 32px;\n",
              "      padding: 0 0 0 0;\n",
              "      width: 32px;\n",
              "    }\n",
              "\n",
              "    .colab-df-convert:hover {\n",
              "      background-color: #E2EBFA;\n",
              "      box-shadow: 0px 1px 2px rgba(60, 64, 67, 0.3), 0px 1px 3px 1px rgba(60, 64, 67, 0.15);\n",
              "      fill: #174EA6;\n",
              "    }\n",
              "\n",
              "    [theme=dark] .colab-df-convert {\n",
              "      background-color: #3B4455;\n",
              "      fill: #D2E3FC;\n",
              "    }\n",
              "\n",
              "    [theme=dark] .colab-df-convert:hover {\n",
              "      background-color: #434B5C;\n",
              "      box-shadow: 0px 1px 3px 1px rgba(0, 0, 0, 0.15);\n",
              "      filter: drop-shadow(0px 1px 2px rgba(0, 0, 0, 0.3));\n",
              "      fill: #FFFFFF;\n",
              "    }\n",
              "  </style>\n",
              "\n",
              "      <script>\n",
              "        const buttonEl =\n",
              "          document.querySelector('#df-3d21302f-ca5c-43dc-92fb-802adb8fa804 button.colab-df-convert');\n",
              "        buttonEl.style.display =\n",
              "          google.colab.kernel.accessAllowed ? 'block' : 'none';\n",
              "\n",
              "        async function convertToInteractive(key) {\n",
              "          const element = document.querySelector('#df-3d21302f-ca5c-43dc-92fb-802adb8fa804');\n",
              "          const dataTable =\n",
              "            await google.colab.kernel.invokeFunction('convertToInteractive',\n",
              "                                                     [key], {});\n",
              "          if (!dataTable) return;\n",
              "\n",
              "          const docLinkHtml = 'Like what you see? Visit the ' +\n",
              "            '<a target=\"_blank\" href=https://colab.research.google.com/notebooks/data_table.ipynb>data table notebook</a>'\n",
              "            + ' to learn more about interactive tables.';\n",
              "          element.innerHTML = '';\n",
              "          dataTable['output_type'] = 'display_data';\n",
              "          await google.colab.output.renderOutput(dataTable, element);\n",
              "          const docLink = document.createElement('div');\n",
              "          docLink.innerHTML = docLinkHtml;\n",
              "          element.appendChild(docLink);\n",
              "        }\n",
              "      </script>\n",
              "    </div>\n",
              "  </div>\n",
              "  "
            ]
          },
          "metadata": {},
          "execution_count": 7
        }
      ]
    },
    {
      "cell_type": "code",
      "source": [
        "df_explode = df_b.assign(categories = df_b.categories\n",
        "                         .str.split(', ')).explode('categories')"
      ],
      "metadata": {
        "id": "BFxpFMoFh_A5"
      },
      "execution_count": 8,
      "outputs": []
    },
    {
      "cell_type": "code",
      "source": [
        "df_explode.categories.value_counts()"
      ],
      "metadata": {
        "id": "B9DJvzbDiAkS",
        "colab": {
          "base_uri": "https://localhost:8080/"
        },
        "outputId": "821a2e6b-8a38-408f-a313-b901746a9299"
      },
      "execution_count": 9,
      "outputs": [
        {
          "output_type": "execute_result",
          "data": {
            "text/plain": [
              "Restaurants                    52268\n",
              "Food                           15477\n",
              "Nightlife                       8723\n",
              "Sandwiches                      8366\n",
              "Bars                            8337\n",
              "                               ...  \n",
              "Check Cashing/Pay-day Loans        1\n",
              "Kiosk                              1\n",
              "Roman                              1\n",
              "Pressure Washers                   1\n",
              "Gemstones & Minerals               1\n",
              "Name: categories, Length: 730, dtype: int64"
            ]
          },
          "metadata": {},
          "execution_count": 9
        }
      ]
    },
    {
      "cell_type": "markdown",
      "source": [
        "Review file"
      ],
      "metadata": {
        "id": "bYV1Ok6-5pBE"
      }
    },
    {
      "cell_type": "code",
      "source": [
        "review_json_path = '/content/gdrive/MyDrive/yelp_dataset/yelp_academic_dataset_review.json'"
      ],
      "metadata": {
        "id": "Op7ik-2UrNRw"
      },
      "execution_count": 10,
      "outputs": []
    },
    {
      "cell_type": "code",
      "source": [
        "data = {'user_id': [], 'business_id': [], 'date': [], 'stars': [], 'text': []}\n",
        "\n",
        "with open('/content/gdrive/MyDrive/yelp_dataset/yelp_academic_dataset_review.json') as f:\n",
        "    for line in tqdm(f):\n",
        "        review = json.loads(line)\n",
        "        data['user_id'].append(review['user_id'])\n",
        "        data['business_id'].append(review['business_id'])\n",
        "        data['date'].append(review['date'])\n",
        "        data['stars'].append(review['stars'])\n",
        "        data['text'].append(review['text'])"
      ],
      "metadata": {
        "id": "AFPYaMiBvkum",
        "colab": {
          "base_uri": "https://localhost:8080/"
        },
        "outputId": "da7ca3e5-da95-4f0a-9822-5ba9db4326ca"
      },
      "execution_count": 11,
      "outputs": [
        {
          "output_type": "stream",
          "name": "stderr",
          "text": [
            "6990280it [02:43, 42629.77it/s]\n"
          ]
        }
      ]
    },
    {
      "cell_type": "code",
      "source": [
        "df = pd.DataFrame(data)\n",
        "\n",
        "print(df.shape)\n",
        "df.head()"
      ],
      "metadata": {
        "id": "V1gKVehsvVzj",
        "colab": {
          "base_uri": "https://localhost:8080/",
          "height": 221
        },
        "outputId": "286dc295-b22e-4fde-f24b-62818a5d793b"
      },
      "execution_count": 12,
      "outputs": [
        {
          "output_type": "stream",
          "name": "stdout",
          "text": [
            "(6990280, 5)\n"
          ]
        },
        {
          "output_type": "execute_result",
          "data": {
            "text/plain": [
              "                  user_id             business_id                 date  stars  \\\n",
              "0  mh_-eMZ6K5RLWhZyISBhwA  XQfwVwDr-v0ZS3_CbbE5Xw  2018-07-07 22:09:11    3.0   \n",
              "1  OyoGAe7OKpv6SyGZT5g77Q  7ATYjTIgM3jUlt4UM3IypQ  2012-01-03 15:28:18    5.0   \n",
              "2  8g_iMtfSiwikVnbP2etR0A  YjUWPpI6HXG530lwP-fb2A  2014-02-05 20:30:30    3.0   \n",
              "3  _7bHUi9Uuf5__HHc_Q8guQ  kxX2SOes4o-D3ZQBkiMRfA  2015-01-04 00:01:03    5.0   \n",
              "4  bcjbaE6dDog4jkNY91ncLQ  e4Vwtrqf-wpJfwesgvdgxQ  2017-01-14 20:54:15    4.0   \n",
              "\n",
              "                                                text  \n",
              "0  If you decide to eat here, just be aware it is...  \n",
              "1  I've taken a lot of spin classes over the year...  \n",
              "2  Family diner. Had the buffet. Eclectic assortm...  \n",
              "3  Wow!  Yummy, different,  delicious.   Our favo...  \n",
              "4  Cute interior and owner (?) gave us tour of up...  "
            ],
            "text/html": [
              "\n",
              "  <div id=\"df-ef9305bf-5dab-43b9-baf3-ef74926bff38\">\n",
              "    <div class=\"colab-df-container\">\n",
              "      <div>\n",
              "<style scoped>\n",
              "    .dataframe tbody tr th:only-of-type {\n",
              "        vertical-align: middle;\n",
              "    }\n",
              "\n",
              "    .dataframe tbody tr th {\n",
              "        vertical-align: top;\n",
              "    }\n",
              "\n",
              "    .dataframe thead th {\n",
              "        text-align: right;\n",
              "    }\n",
              "</style>\n",
              "<table border=\"1\" class=\"dataframe\">\n",
              "  <thead>\n",
              "    <tr style=\"text-align: right;\">\n",
              "      <th></th>\n",
              "      <th>user_id</th>\n",
              "      <th>business_id</th>\n",
              "      <th>date</th>\n",
              "      <th>stars</th>\n",
              "      <th>text</th>\n",
              "    </tr>\n",
              "  </thead>\n",
              "  <tbody>\n",
              "    <tr>\n",
              "      <th>0</th>\n",
              "      <td>mh_-eMZ6K5RLWhZyISBhwA</td>\n",
              "      <td>XQfwVwDr-v0ZS3_CbbE5Xw</td>\n",
              "      <td>2018-07-07 22:09:11</td>\n",
              "      <td>3.0</td>\n",
              "      <td>If you decide to eat here, just be aware it is...</td>\n",
              "    </tr>\n",
              "    <tr>\n",
              "      <th>1</th>\n",
              "      <td>OyoGAe7OKpv6SyGZT5g77Q</td>\n",
              "      <td>7ATYjTIgM3jUlt4UM3IypQ</td>\n",
              "      <td>2012-01-03 15:28:18</td>\n",
              "      <td>5.0</td>\n",
              "      <td>I've taken a lot of spin classes over the year...</td>\n",
              "    </tr>\n",
              "    <tr>\n",
              "      <th>2</th>\n",
              "      <td>8g_iMtfSiwikVnbP2etR0A</td>\n",
              "      <td>YjUWPpI6HXG530lwP-fb2A</td>\n",
              "      <td>2014-02-05 20:30:30</td>\n",
              "      <td>3.0</td>\n",
              "      <td>Family diner. Had the buffet. Eclectic assortm...</td>\n",
              "    </tr>\n",
              "    <tr>\n",
              "      <th>3</th>\n",
              "      <td>_7bHUi9Uuf5__HHc_Q8guQ</td>\n",
              "      <td>kxX2SOes4o-D3ZQBkiMRfA</td>\n",
              "      <td>2015-01-04 00:01:03</td>\n",
              "      <td>5.0</td>\n",
              "      <td>Wow!  Yummy, different,  delicious.   Our favo...</td>\n",
              "    </tr>\n",
              "    <tr>\n",
              "      <th>4</th>\n",
              "      <td>bcjbaE6dDog4jkNY91ncLQ</td>\n",
              "      <td>e4Vwtrqf-wpJfwesgvdgxQ</td>\n",
              "      <td>2017-01-14 20:54:15</td>\n",
              "      <td>4.0</td>\n",
              "      <td>Cute interior and owner (?) gave us tour of up...</td>\n",
              "    </tr>\n",
              "  </tbody>\n",
              "</table>\n",
              "</div>\n",
              "      <button class=\"colab-df-convert\" onclick=\"convertToInteractive('df-ef9305bf-5dab-43b9-baf3-ef74926bff38')\"\n",
              "              title=\"Convert this dataframe to an interactive table.\"\n",
              "              style=\"display:none;\">\n",
              "        \n",
              "  <svg xmlns=\"http://www.w3.org/2000/svg\" height=\"24px\"viewBox=\"0 0 24 24\"\n",
              "       width=\"24px\">\n",
              "    <path d=\"M0 0h24v24H0V0z\" fill=\"none\"/>\n",
              "    <path d=\"M18.56 5.44l.94 2.06.94-2.06 2.06-.94-2.06-.94-.94-2.06-.94 2.06-2.06.94zm-11 1L8.5 8.5l.94-2.06 2.06-.94-2.06-.94L8.5 2.5l-.94 2.06-2.06.94zm10 10l.94 2.06.94-2.06 2.06-.94-2.06-.94-.94-2.06-.94 2.06-2.06.94z\"/><path d=\"M17.41 7.96l-1.37-1.37c-.4-.4-.92-.59-1.43-.59-.52 0-1.04.2-1.43.59L10.3 9.45l-7.72 7.72c-.78.78-.78 2.05 0 2.83L4 21.41c.39.39.9.59 1.41.59.51 0 1.02-.2 1.41-.59l7.78-7.78 2.81-2.81c.8-.78.8-2.07 0-2.86zM5.41 20L4 18.59l7.72-7.72 1.47 1.35L5.41 20z\"/>\n",
              "  </svg>\n",
              "      </button>\n",
              "      \n",
              "  <style>\n",
              "    .colab-df-container {\n",
              "      display:flex;\n",
              "      flex-wrap:wrap;\n",
              "      gap: 12px;\n",
              "    }\n",
              "\n",
              "    .colab-df-convert {\n",
              "      background-color: #E8F0FE;\n",
              "      border: none;\n",
              "      border-radius: 50%;\n",
              "      cursor: pointer;\n",
              "      display: none;\n",
              "      fill: #1967D2;\n",
              "      height: 32px;\n",
              "      padding: 0 0 0 0;\n",
              "      width: 32px;\n",
              "    }\n",
              "\n",
              "    .colab-df-convert:hover {\n",
              "      background-color: #E2EBFA;\n",
              "      box-shadow: 0px 1px 2px rgba(60, 64, 67, 0.3), 0px 1px 3px 1px rgba(60, 64, 67, 0.15);\n",
              "      fill: #174EA6;\n",
              "    }\n",
              "\n",
              "    [theme=dark] .colab-df-convert {\n",
              "      background-color: #3B4455;\n",
              "      fill: #D2E3FC;\n",
              "    }\n",
              "\n",
              "    [theme=dark] .colab-df-convert:hover {\n",
              "      background-color: #434B5C;\n",
              "      box-shadow: 0px 1px 3px 1px rgba(0, 0, 0, 0.15);\n",
              "      filter: drop-shadow(0px 1px 2px rgba(0, 0, 0, 0.3));\n",
              "      fill: #FFFFFF;\n",
              "    }\n",
              "  </style>\n",
              "\n",
              "      <script>\n",
              "        const buttonEl =\n",
              "          document.querySelector('#df-ef9305bf-5dab-43b9-baf3-ef74926bff38 button.colab-df-convert');\n",
              "        buttonEl.style.display =\n",
              "          google.colab.kernel.accessAllowed ? 'block' : 'none';\n",
              "\n",
              "        async function convertToInteractive(key) {\n",
              "          const element = document.querySelector('#df-ef9305bf-5dab-43b9-baf3-ef74926bff38');\n",
              "          const dataTable =\n",
              "            await google.colab.kernel.invokeFunction('convertToInteractive',\n",
              "                                                     [key], {});\n",
              "          if (!dataTable) return;\n",
              "\n",
              "          const docLinkHtml = 'Like what you see? Visit the ' +\n",
              "            '<a target=\"_blank\" href=https://colab.research.google.com/notebooks/data_table.ipynb>data table notebook</a>'\n",
              "            + ' to learn more about interactive tables.';\n",
              "          element.innerHTML = '';\n",
              "          dataTable['output_type'] = 'display_data';\n",
              "          await google.colab.output.renderOutput(dataTable, element);\n",
              "          const docLink = document.createElement('div');\n",
              "          docLink.innerHTML = docLinkHtml;\n",
              "          element.appendChild(docLink);\n",
              "        }\n",
              "      </script>\n",
              "    </div>\n",
              "  </div>\n",
              "  "
            ]
          },
          "metadata": {},
          "execution_count": 12
        }
      ]
    },
    {
      "cell_type": "code",
      "source": [
        "# only keep businesses that are categorized as restaurant\n",
        "df2 = df.merge(df_b,left_on='business_id',right_on='business_id')"
      ],
      "metadata": {
        "id": "WkK4tGwVx6d7"
      },
      "execution_count": 14,
      "outputs": []
    },
    {
      "cell_type": "code",
      "source": [
        "print(df2.shape)"
      ],
      "metadata": {
        "id": "4H5RmVlW0hv4",
        "colab": {
          "base_uri": "https://localhost:8080/"
        },
        "outputId": "1a1c7b94-e871-4591-8393-a31bb5794d1d"
      },
      "execution_count": 15,
      "outputs": [
        {
          "output_type": "stream",
          "name": "stdout",
          "text": [
            "(4724684, 18)\n"
          ]
        }
      ]
    },
    {
      "cell_type": "code",
      "source": [
        "df2.head()"
      ],
      "metadata": {
        "id": "pH6vL8JA0p3u",
        "colab": {
          "base_uri": "https://localhost:8080/",
          "height": 761
        },
        "outputId": "49581e26-4764-4ce0-fc01-83066fe998e7"
      },
      "execution_count": 16,
      "outputs": [
        {
          "output_type": "execute_result",
          "data": {
            "text/plain": [
              "                  user_id             business_id                 date  \\\n",
              "0  mh_-eMZ6K5RLWhZyISBhwA  XQfwVwDr-v0ZS3_CbbE5Xw  2018-07-07 22:09:11   \n",
              "1  Iaee7y6zdSB3B-kRCo4z1w  XQfwVwDr-v0ZS3_CbbE5Xw  2017-05-13 17:06:55   \n",
              "2  ejFxLGqQcWNLdNByJlIhnQ  XQfwVwDr-v0ZS3_CbbE5Xw  2017-08-08 00:58:18   \n",
              "3  f7xa0p_1V9lx53iIGN5Sug  XQfwVwDr-v0ZS3_CbbE5Xw  2017-11-19 02:20:23   \n",
              "4  dCooFVCk8M1nVaQqcfTL3Q  XQfwVwDr-v0ZS3_CbbE5Xw  2017-09-09 17:49:47   \n",
              "\n",
              "   stars_x                                               text  \\\n",
              "0      3.0  If you decide to eat here, just be aware it is...   \n",
              "1      2.0  This is the second time we tried turning point...   \n",
              "2      4.0  The place is cute and the staff was very frien...   \n",
              "3      3.0  We came on a Saturday morning after waiting a ...   \n",
              "4      2.0  Mediocre at best. The decor is very nice, and ...   \n",
              "\n",
              "                           name              address         city state  \\\n",
              "0  Turning Point of North Wales  1460 Bethlehem Pike  North Wales    PA   \n",
              "1  Turning Point of North Wales  1460 Bethlehem Pike  North Wales    PA   \n",
              "2  Turning Point of North Wales  1460 Bethlehem Pike  North Wales    PA   \n",
              "3  Turning Point of North Wales  1460 Bethlehem Pike  North Wales    PA   \n",
              "4  Turning Point of North Wales  1460 Bethlehem Pike  North Wales    PA   \n",
              "\n",
              "  postal_code   latitude  longitude  stars_y  review_count  is_open  \\\n",
              "0       19454  40.210196 -75.223639      3.0           169        1   \n",
              "1       19454  40.210196 -75.223639      3.0           169        1   \n",
              "2       19454  40.210196 -75.223639      3.0           169        1   \n",
              "3       19454  40.210196 -75.223639      3.0           169        1   \n",
              "4       19454  40.210196 -75.223639      3.0           169        1   \n",
              "\n",
              "                                          attributes  \\\n",
              "0  {'NoiseLevel': 'u'average'', 'HasTV': 'False',...   \n",
              "1  {'NoiseLevel': 'u'average'', 'HasTV': 'False',...   \n",
              "2  {'NoiseLevel': 'u'average'', 'HasTV': 'False',...   \n",
              "3  {'NoiseLevel': 'u'average'', 'HasTV': 'False',...   \n",
              "4  {'NoiseLevel': 'u'average'', 'HasTV': 'False',...   \n",
              "\n",
              "                                          categories  \\\n",
              "0  Restaurants, Breakfast & Brunch, Food, Juice B...   \n",
              "1  Restaurants, Breakfast & Brunch, Food, Juice B...   \n",
              "2  Restaurants, Breakfast & Brunch, Food, Juice B...   \n",
              "3  Restaurants, Breakfast & Brunch, Food, Juice B...   \n",
              "4  Restaurants, Breakfast & Brunch, Food, Juice B...   \n",
              "\n",
              "                                               hours  \n",
              "0  {'Monday': '7:30-15:0', 'Tuesday': '7:30-15:0'...  \n",
              "1  {'Monday': '7:30-15:0', 'Tuesday': '7:30-15:0'...  \n",
              "2  {'Monday': '7:30-15:0', 'Tuesday': '7:30-15:0'...  \n",
              "3  {'Monday': '7:30-15:0', 'Tuesday': '7:30-15:0'...  \n",
              "4  {'Monday': '7:30-15:0', 'Tuesday': '7:30-15:0'...  "
            ],
            "text/html": [
              "\n",
              "  <div id=\"df-78fda77f-2051-445c-98f1-00e8cbfd62cf\">\n",
              "    <div class=\"colab-df-container\">\n",
              "      <div>\n",
              "<style scoped>\n",
              "    .dataframe tbody tr th:only-of-type {\n",
              "        vertical-align: middle;\n",
              "    }\n",
              "\n",
              "    .dataframe tbody tr th {\n",
              "        vertical-align: top;\n",
              "    }\n",
              "\n",
              "    .dataframe thead th {\n",
              "        text-align: right;\n",
              "    }\n",
              "</style>\n",
              "<table border=\"1\" class=\"dataframe\">\n",
              "  <thead>\n",
              "    <tr style=\"text-align: right;\">\n",
              "      <th></th>\n",
              "      <th>user_id</th>\n",
              "      <th>business_id</th>\n",
              "      <th>date</th>\n",
              "      <th>stars_x</th>\n",
              "      <th>text</th>\n",
              "      <th>name</th>\n",
              "      <th>address</th>\n",
              "      <th>city</th>\n",
              "      <th>state</th>\n",
              "      <th>postal_code</th>\n",
              "      <th>latitude</th>\n",
              "      <th>longitude</th>\n",
              "      <th>stars_y</th>\n",
              "      <th>review_count</th>\n",
              "      <th>is_open</th>\n",
              "      <th>attributes</th>\n",
              "      <th>categories</th>\n",
              "      <th>hours</th>\n",
              "    </tr>\n",
              "  </thead>\n",
              "  <tbody>\n",
              "    <tr>\n",
              "      <th>0</th>\n",
              "      <td>mh_-eMZ6K5RLWhZyISBhwA</td>\n",
              "      <td>XQfwVwDr-v0ZS3_CbbE5Xw</td>\n",
              "      <td>2018-07-07 22:09:11</td>\n",
              "      <td>3.0</td>\n",
              "      <td>If you decide to eat here, just be aware it is...</td>\n",
              "      <td>Turning Point of North Wales</td>\n",
              "      <td>1460 Bethlehem Pike</td>\n",
              "      <td>North Wales</td>\n",
              "      <td>PA</td>\n",
              "      <td>19454</td>\n",
              "      <td>40.210196</td>\n",
              "      <td>-75.223639</td>\n",
              "      <td>3.0</td>\n",
              "      <td>169</td>\n",
              "      <td>1</td>\n",
              "      <td>{'NoiseLevel': 'u'average'', 'HasTV': 'False',...</td>\n",
              "      <td>Restaurants, Breakfast &amp; Brunch, Food, Juice B...</td>\n",
              "      <td>{'Monday': '7:30-15:0', 'Tuesday': '7:30-15:0'...</td>\n",
              "    </tr>\n",
              "    <tr>\n",
              "      <th>1</th>\n",
              "      <td>Iaee7y6zdSB3B-kRCo4z1w</td>\n",
              "      <td>XQfwVwDr-v0ZS3_CbbE5Xw</td>\n",
              "      <td>2017-05-13 17:06:55</td>\n",
              "      <td>2.0</td>\n",
              "      <td>This is the second time we tried turning point...</td>\n",
              "      <td>Turning Point of North Wales</td>\n",
              "      <td>1460 Bethlehem Pike</td>\n",
              "      <td>North Wales</td>\n",
              "      <td>PA</td>\n",
              "      <td>19454</td>\n",
              "      <td>40.210196</td>\n",
              "      <td>-75.223639</td>\n",
              "      <td>3.0</td>\n",
              "      <td>169</td>\n",
              "      <td>1</td>\n",
              "      <td>{'NoiseLevel': 'u'average'', 'HasTV': 'False',...</td>\n",
              "      <td>Restaurants, Breakfast &amp; Brunch, Food, Juice B...</td>\n",
              "      <td>{'Monday': '7:30-15:0', 'Tuesday': '7:30-15:0'...</td>\n",
              "    </tr>\n",
              "    <tr>\n",
              "      <th>2</th>\n",
              "      <td>ejFxLGqQcWNLdNByJlIhnQ</td>\n",
              "      <td>XQfwVwDr-v0ZS3_CbbE5Xw</td>\n",
              "      <td>2017-08-08 00:58:18</td>\n",
              "      <td>4.0</td>\n",
              "      <td>The place is cute and the staff was very frien...</td>\n",
              "      <td>Turning Point of North Wales</td>\n",
              "      <td>1460 Bethlehem Pike</td>\n",
              "      <td>North Wales</td>\n",
              "      <td>PA</td>\n",
              "      <td>19454</td>\n",
              "      <td>40.210196</td>\n",
              "      <td>-75.223639</td>\n",
              "      <td>3.0</td>\n",
              "      <td>169</td>\n",
              "      <td>1</td>\n",
              "      <td>{'NoiseLevel': 'u'average'', 'HasTV': 'False',...</td>\n",
              "      <td>Restaurants, Breakfast &amp; Brunch, Food, Juice B...</td>\n",
              "      <td>{'Monday': '7:30-15:0', 'Tuesday': '7:30-15:0'...</td>\n",
              "    </tr>\n",
              "    <tr>\n",
              "      <th>3</th>\n",
              "      <td>f7xa0p_1V9lx53iIGN5Sug</td>\n",
              "      <td>XQfwVwDr-v0ZS3_CbbE5Xw</td>\n",
              "      <td>2017-11-19 02:20:23</td>\n",
              "      <td>3.0</td>\n",
              "      <td>We came on a Saturday morning after waiting a ...</td>\n",
              "      <td>Turning Point of North Wales</td>\n",
              "      <td>1460 Bethlehem Pike</td>\n",
              "      <td>North Wales</td>\n",
              "      <td>PA</td>\n",
              "      <td>19454</td>\n",
              "      <td>40.210196</td>\n",
              "      <td>-75.223639</td>\n",
              "      <td>3.0</td>\n",
              "      <td>169</td>\n",
              "      <td>1</td>\n",
              "      <td>{'NoiseLevel': 'u'average'', 'HasTV': 'False',...</td>\n",
              "      <td>Restaurants, Breakfast &amp; Brunch, Food, Juice B...</td>\n",
              "      <td>{'Monday': '7:30-15:0', 'Tuesday': '7:30-15:0'...</td>\n",
              "    </tr>\n",
              "    <tr>\n",
              "      <th>4</th>\n",
              "      <td>dCooFVCk8M1nVaQqcfTL3Q</td>\n",
              "      <td>XQfwVwDr-v0ZS3_CbbE5Xw</td>\n",
              "      <td>2017-09-09 17:49:47</td>\n",
              "      <td>2.0</td>\n",
              "      <td>Mediocre at best. The decor is very nice, and ...</td>\n",
              "      <td>Turning Point of North Wales</td>\n",
              "      <td>1460 Bethlehem Pike</td>\n",
              "      <td>North Wales</td>\n",
              "      <td>PA</td>\n",
              "      <td>19454</td>\n",
              "      <td>40.210196</td>\n",
              "      <td>-75.223639</td>\n",
              "      <td>3.0</td>\n",
              "      <td>169</td>\n",
              "      <td>1</td>\n",
              "      <td>{'NoiseLevel': 'u'average'', 'HasTV': 'False',...</td>\n",
              "      <td>Restaurants, Breakfast &amp; Brunch, Food, Juice B...</td>\n",
              "      <td>{'Monday': '7:30-15:0', 'Tuesday': '7:30-15:0'...</td>\n",
              "    </tr>\n",
              "  </tbody>\n",
              "</table>\n",
              "</div>\n",
              "      <button class=\"colab-df-convert\" onclick=\"convertToInteractive('df-78fda77f-2051-445c-98f1-00e8cbfd62cf')\"\n",
              "              title=\"Convert this dataframe to an interactive table.\"\n",
              "              style=\"display:none;\">\n",
              "        \n",
              "  <svg xmlns=\"http://www.w3.org/2000/svg\" height=\"24px\"viewBox=\"0 0 24 24\"\n",
              "       width=\"24px\">\n",
              "    <path d=\"M0 0h24v24H0V0z\" fill=\"none\"/>\n",
              "    <path d=\"M18.56 5.44l.94 2.06.94-2.06 2.06-.94-2.06-.94-.94-2.06-.94 2.06-2.06.94zm-11 1L8.5 8.5l.94-2.06 2.06-.94-2.06-.94L8.5 2.5l-.94 2.06-2.06.94zm10 10l.94 2.06.94-2.06 2.06-.94-2.06-.94-.94-2.06-.94 2.06-2.06.94z\"/><path d=\"M17.41 7.96l-1.37-1.37c-.4-.4-.92-.59-1.43-.59-.52 0-1.04.2-1.43.59L10.3 9.45l-7.72 7.72c-.78.78-.78 2.05 0 2.83L4 21.41c.39.39.9.59 1.41.59.51 0 1.02-.2 1.41-.59l7.78-7.78 2.81-2.81c.8-.78.8-2.07 0-2.86zM5.41 20L4 18.59l7.72-7.72 1.47 1.35L5.41 20z\"/>\n",
              "  </svg>\n",
              "      </button>\n",
              "      \n",
              "  <style>\n",
              "    .colab-df-container {\n",
              "      display:flex;\n",
              "      flex-wrap:wrap;\n",
              "      gap: 12px;\n",
              "    }\n",
              "\n",
              "    .colab-df-convert {\n",
              "      background-color: #E8F0FE;\n",
              "      border: none;\n",
              "      border-radius: 50%;\n",
              "      cursor: pointer;\n",
              "      display: none;\n",
              "      fill: #1967D2;\n",
              "      height: 32px;\n",
              "      padding: 0 0 0 0;\n",
              "      width: 32px;\n",
              "    }\n",
              "\n",
              "    .colab-df-convert:hover {\n",
              "      background-color: #E2EBFA;\n",
              "      box-shadow: 0px 1px 2px rgba(60, 64, 67, 0.3), 0px 1px 3px 1px rgba(60, 64, 67, 0.15);\n",
              "      fill: #174EA6;\n",
              "    }\n",
              "\n",
              "    [theme=dark] .colab-df-convert {\n",
              "      background-color: #3B4455;\n",
              "      fill: #D2E3FC;\n",
              "    }\n",
              "\n",
              "    [theme=dark] .colab-df-convert:hover {\n",
              "      background-color: #434B5C;\n",
              "      box-shadow: 0px 1px 3px 1px rgba(0, 0, 0, 0.15);\n",
              "      filter: drop-shadow(0px 1px 2px rgba(0, 0, 0, 0.3));\n",
              "      fill: #FFFFFF;\n",
              "    }\n",
              "  </style>\n",
              "\n",
              "      <script>\n",
              "        const buttonEl =\n",
              "          document.querySelector('#df-78fda77f-2051-445c-98f1-00e8cbfd62cf button.colab-df-convert');\n",
              "        buttonEl.style.display =\n",
              "          google.colab.kernel.accessAllowed ? 'block' : 'none';\n",
              "\n",
              "        async function convertToInteractive(key) {\n",
              "          const element = document.querySelector('#df-78fda77f-2051-445c-98f1-00e8cbfd62cf');\n",
              "          const dataTable =\n",
              "            await google.colab.kernel.invokeFunction('convertToInteractive',\n",
              "                                                     [key], {});\n",
              "          if (!dataTable) return;\n",
              "\n",
              "          const docLinkHtml = 'Like what you see? Visit the ' +\n",
              "            '<a target=\"_blank\" href=https://colab.research.google.com/notebooks/data_table.ipynb>data table notebook</a>'\n",
              "            + ' to learn more about interactive tables.';\n",
              "          element.innerHTML = '';\n",
              "          dataTable['output_type'] = 'display_data';\n",
              "          await google.colab.output.renderOutput(dataTable, element);\n",
              "          const docLink = document.createElement('div');\n",
              "          docLink.innerHTML = docLinkHtml;\n",
              "          element.appendChild(docLink);\n",
              "        }\n",
              "      </script>\n",
              "    </div>\n",
              "  </div>\n",
              "  "
            ]
          },
          "metadata": {},
          "execution_count": 16
        }
      ]
    },
    {
      "cell_type": "code",
      "source": [
        "df2.to_csv('/content/gdrive/MyDrive/yelp_dataset/yelp_reviews_business_merge_restaurants.csv')"
      ],
      "metadata": {
        "id": "C-Ox9Wm76djD"
      },
      "execution_count": 17,
      "outputs": []
    },
    {
      "cell_type": "code",
      "source": [
        "reviews_restaurants_only  = df2.iloc[: , :5]\n",
        "reviews_restaurants_only = reviews_restaurants_only.rename(columns = {'stars_x':'stars'})"
      ],
      "metadata": {
        "id": "KKMkTQhF1CWN"
      },
      "execution_count": 18,
      "outputs": []
    },
    {
      "cell_type": "code",
      "source": [
        "reviews_restaurants_only.head"
      ],
      "metadata": {
        "id": "GdcIigSp195R",
        "colab": {
          "base_uri": "https://localhost:8080/"
        },
        "outputId": "a984eaf4-31f1-4435-bd51-6fdae07a3b60"
      },
      "execution_count": 19,
      "outputs": [
        {
          "output_type": "execute_result",
          "data": {
            "text/plain": [
              "<bound method NDFrame.head of                         user_id             business_id                 date  \\\n",
              "0        mh_-eMZ6K5RLWhZyISBhwA  XQfwVwDr-v0ZS3_CbbE5Xw  2018-07-07 22:09:11   \n",
              "1        Iaee7y6zdSB3B-kRCo4z1w  XQfwVwDr-v0ZS3_CbbE5Xw  2017-05-13 17:06:55   \n",
              "2        ejFxLGqQcWNLdNByJlIhnQ  XQfwVwDr-v0ZS3_CbbE5Xw  2017-08-08 00:58:18   \n",
              "3        f7xa0p_1V9lx53iIGN5Sug  XQfwVwDr-v0ZS3_CbbE5Xw  2017-11-19 02:20:23   \n",
              "4        dCooFVCk8M1nVaQqcfTL3Q  XQfwVwDr-v0ZS3_CbbE5Xw  2017-09-09 17:49:47   \n",
              "...                         ...                     ...                  ...   \n",
              "4724679  a4wr0eMRHjFqI66JoGpXog  Tj9FmBCHd84kjAE9vcoBnw  2018-04-06 01:19:30   \n",
              "4724680  -MZSr4VErbuvzm8c5z2gbQ  Tj9FmBCHd84kjAE9vcoBnw  2018-04-01 04:36:21   \n",
              "4724681  k5RiHhMsd7zT6gO-sa8CiQ  Tj9FmBCHd84kjAE9vcoBnw  2021-10-13 22:33:23   \n",
              "4724682  cS5J5Lw1xECApPjmk6dyJg  Tj9FmBCHd84kjAE9vcoBnw  2021-11-03 18:05:23   \n",
              "4724683  baGaUEUuXYQvTR9h4n9VKw  Tj9FmBCHd84kjAE9vcoBnw  2021-12-26 22:52:56   \n",
              "\n",
              "         stars                                               text  \n",
              "0          3.0  If you decide to eat here, just be aware it is...  \n",
              "1          2.0  This is the second time we tried turning point...  \n",
              "2          4.0  The place is cute and the staff was very frien...  \n",
              "3          3.0  We came on a Saturday morning after waiting a ...  \n",
              "4          2.0  Mediocre at best. The decor is very nice, and ...  \n",
              "...        ...                                                ...  \n",
              "4724679    1.0  I've always gone to this location for two reas...  \n",
              "4724680    2.0  This particular location is so painfully slow....  \n",
              "4724681    1.0  The owner is the biggest a-hole ever! He gave ...  \n",
              "4724682    1.0  Ask for Breasts and I'm always told there are ...  \n",
              "4724683    1.0  The chicken we ordered was cold wasn't even a ...  \n",
              "\n",
              "[4724684 rows x 5 columns]>"
            ]
          },
          "metadata": {},
          "execution_count": 19
        }
      ]
    },
    {
      "cell_type": "code",
      "source": [
        "reviews_restaurants_only.shape"
      ],
      "metadata": {
        "id": "dv3bs7X72PKR",
        "colab": {
          "base_uri": "https://localhost:8080/"
        },
        "outputId": "f112ab9c-08de-4100-b760-6fa6f94e75bf"
      },
      "execution_count": 20,
      "outputs": [
        {
          "output_type": "execute_result",
          "data": {
            "text/plain": [
              "(4724684, 5)"
            ]
          },
          "metadata": {},
          "execution_count": 20
        }
      ]
    },
    {
      "cell_type": "code",
      "source": [
        "reviews_restaurants_only.to_csv('/content/gdrive/MyDrive/yelp_dataset/yelp_reviews_restaurants.csv')"
      ],
      "metadata": {
        "id": "EN-7VXyg2biq"
      },
      "execution_count": 21,
      "outputs": []
    }
  ]
}