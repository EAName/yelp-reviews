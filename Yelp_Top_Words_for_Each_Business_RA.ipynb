{
  "nbformat": 4,
  "nbformat_minor": 0,
  "metadata": {
    "colab": {
      "provenance": [],
      "collapsed_sections": [
        "rODCSjKAjfUs",
        "mECkaXm2u_EZ",
        "KcZqVghZr6an",
        "fH_8FMI6v0vo",
        "UDVd6wbrtpc8"
      ],
      "authorship_tag": "ABX9TyNT/78iYDUdefZe544k3SKG",
      "include_colab_link": true
    },
    "kernelspec": {
      "name": "python3",
      "display_name": "Python 3"
    },
    "language_info": {
      "name": "python"
    }
  },
  "cells": [
    {
      "cell_type": "markdown",
      "metadata": {
        "id": "view-in-github",
        "colab_type": "text"
      },
      "source": [
        "<a href=\"https://colab.research.google.com/github/EAName/yelp-reviews/blob/main/Yelp_Top_Words_for_Each_Business_RA.ipynb\" target=\"_parent\"><img src=\"https://colab.research.google.com/assets/colab-badge.svg\" alt=\"Open In Colab\"/></a>"
      ]
    },
    {
      "cell_type": "code",
      "execution_count": 1,
      "metadata": {
        "id": "92Dg33FmuxQs"
      },
      "outputs": [],
      "source": [
        "import pandas as pd\n",
        "import numpy as np\n",
        "import os\n",
        "import random\n",
        "import numpy as np\n",
        "import pickle \n",
        "import re,string\n",
        "\n",
        "import nltk\n",
        "from nltk.corpus import stopwords\n",
        "from nltk.stem import PorterStemmer\n",
        "from nltk.stem import WordNetLemmatizer\n",
        "from nltk.tokenize import word_tokenize \n",
        "\n",
        "from sklearn.feature_extraction.text import TfidfVectorizer\n",
        "from sklearn.feature_extraction.text import CountVectorizer\n",
        "from sklearn.cluster import KMeans, AgglomerativeClustering\n",
        "from sklearn.metrics.pairwise import cosine_similarity\n",
        "from sklearn.decomposition import TruncatedSVD, LatentDirichletAllocation\n",
        "from sklearn.svm import SVC\n",
        "from sklearn.preprocessing import LabelEncoder, OneHotEncoder\n",
        "from sklearn.ensemble import RandomForestClassifier\n",
        "from sklearn.metrics import roc_auc_score, accuracy_score, confusion_matrix, silhouette_score\n",
        "from sklearn.metrics import precision_score, recall_score, f1_score, classification_report\n",
        "from sklearn.metrics import mean_squared_error as MSE\n",
        "from sklearn.metrics import mean_absolute_error\n",
        "from sklearn.model_selection import cross_val_score, StratifiedKFold\n",
        "from sklearn.tree import DecisionTreeClassifier\n",
        "from sklearn.naive_bayes import MultinomialNB\n",
        "from sklearn.linear_model import LogisticRegression\n",
        "from sklearn.linear_model import LinearRegression\n",
        "from sklearn.ensemble import RandomForestRegressor\n",
        "from sklearn.metrics import accuracy_score\n",
        "from sklearn.model_selection import train_test_split, KFold\n",
        "from sklearn.manifold import MDS\n",
        "from sklearn.metrics.pairwise import cosine_similarity\n",
        "from sklearn.ensemble import GradientBoostingClassifier\n",
        "from sklearn.svm import LinearSVC\n",
        "\n",
        "import xgboost as xgb\n",
        "\n",
        "from sklearn.model_selection import train_test_split \n",
        "from sklearn.model_selection import GridSearchCV \n",
        "from sklearn.model_selection import cross_val_score \n",
        "from sklearn.model_selection import StratifiedKFold\n",
        "from sklearn.model_selection import KFold \n",
        "from sklearn.model_selection import cross_val_predict\n",
        "\n",
        "\n",
        "import seaborn as sns\n",
        "import matplotlib.pyplot as plt\n",
        "\n",
        "from gensim.models import Word2Vec,LdaMulticore, TfidfModel, CoherenceModel\n",
        "from gensim import corpora\n",
        "from gensim import similarities\n",
        "from gensim.models.doc2vec import Doc2Vec, TaggedDocument\n",
        "from gensim.models import LsiModel,LdaModel\n",
        "\n",
        "from keras.preprocessing.text import Tokenizer\n",
        "#from keras.preprocessing.sequence import pad_sequences\n",
        "from tqdm import tqdm\n",
        "from keras.models import Sequential\n",
        "from keras.layers import Embedding, LSTM, Dense, SpatialDropout1D, GRU\n",
        "from keras.callbacks import EarlyStopping\n",
        "from keras.initializers import Constant\n",
        "from sklearn.model_selection import train_test_split\n",
        "from tensorflow.keras.optimizers import Adam, Nadam, RMSprop\n",
        "from keras import Input\n",
        "\n",
        "from scipy import sparse\n",
        "\n",
        "from IPython.display import display"
      ]
    },
    {
      "cell_type": "code",
      "source": [
        "nltk.download('stopwords')\n",
        "nltk.download('wordnet')\n",
        "nltk.download('omw-1.4')"
      ],
      "metadata": {
        "colab": {
          "base_uri": "https://localhost:8080/"
        },
        "id": "VGHly-zIpris",
        "outputId": "ee81dca5-ff4c-46d6-9132-c8ddf780bdb7"
      },
      "execution_count": 2,
      "outputs": [
        {
          "output_type": "stream",
          "name": "stderr",
          "text": [
            "[nltk_data] Downloading package stopwords to /root/nltk_data...\n",
            "[nltk_data]   Package stopwords is already up-to-date!\n",
            "[nltk_data] Downloading package wordnet to /root/nltk_data...\n",
            "[nltk_data]   Package wordnet is already up-to-date!\n",
            "[nltk_data] Downloading package omw-1.4 to /root/nltk_data...\n",
            "[nltk_data]   Package omw-1.4 is already up-to-date!\n"
          ]
        },
        {
          "output_type": "execute_result",
          "data": {
            "text/plain": [
              "True"
            ]
          },
          "metadata": {},
          "execution_count": 2
        }
      ]
    },
    {
      "cell_type": "code",
      "source": [
        "import warnings\n",
        "warnings.filterwarnings('ignore')"
      ],
      "metadata": {
        "id": "ovbC3RlUpxKS"
      },
      "execution_count": 3,
      "outputs": []
    },
    {
      "cell_type": "code",
      "source": [
        "from google.colab import drive\n",
        "drive.mount('/content/gdrive')"
      ],
      "metadata": {
        "colab": {
          "base_uri": "https://localhost:8080/"
        },
        "id": "xqTk3PNGvHH2",
        "outputId": "7deba07a-5c02-4176-861e-39eb727e70c8"
      },
      "execution_count": 4,
      "outputs": [
        {
          "output_type": "stream",
          "name": "stdout",
          "text": [
            "Drive already mounted at /content/gdrive; to attempt to forcibly remount, call drive.mount(\"/content/gdrive\", force_remount=True).\n"
          ]
        }
      ]
    },
    {
      "cell_type": "markdown",
      "metadata": {
        "id": "4l7SoL-w5nVa"
      },
      "source": [
        "## Load Reviews Dataset"
      ]
    },
    {
      "cell_type": "code",
      "source": [
        "df =pd.read_csv('/content/gdrive/MyDrive/Data/yelp_reviews_clean_version4_st_louis.csv')"
      ],
      "metadata": {
        "id": "p2KLuijTcWil"
      },
      "execution_count": 5,
      "outputs": []
    },
    {
      "cell_type": "code",
      "source": [
        "df['stars'].value_counts()"
      ],
      "metadata": {
        "colab": {
          "base_uri": "https://localhost:8080/"
        },
        "id": "Pl7B9M89zjpr",
        "outputId": "63d22d44-d3a5-4d23-8134-4878a1207e37"
      },
      "execution_count": 6,
      "outputs": [
        {
          "output_type": "execute_result",
          "data": {
            "text/plain": [
              "5.0    124247\n",
              "4.0     73648\n",
              "3.0     35345\n",
              "1.0     32873\n",
              "2.0     26263\n",
              "Name: stars, dtype: int64"
            ]
          },
          "metadata": {},
          "execution_count": 6
        }
      ]
    },
    {
      "cell_type": "code",
      "source": [
        "df = df[df['stars'].isin([1.0, 4.0, 5.0])] "
      ],
      "metadata": {
        "id": "Mq0iqK58zo9o"
      },
      "execution_count": 7,
      "outputs": []
    },
    {
      "cell_type": "code",
      "source": [
        "df['stars'].value_counts()"
      ],
      "metadata": {
        "colab": {
          "base_uri": "https://localhost:8080/"
        },
        "id": "c2O7BPUKz9Qe",
        "outputId": "65fe15ab-304b-482b-dfa2-a8a0036c9cf3"
      },
      "execution_count": 8,
      "outputs": [
        {
          "output_type": "execute_result",
          "data": {
            "text/plain": [
              "5.0    124247\n",
              "4.0     73648\n",
              "1.0     32873\n",
              "Name: stars, dtype: int64"
            ]
          },
          "metadata": {},
          "execution_count": 8
        }
      ]
    },
    {
      "cell_type": "code",
      "source": [
        "def clean_doc(doc): \n",
        "    #split review into individual words\n",
        "    tokens=doc.split()\n",
        "    re_punc = re.compile('[%s]' % re.escape(string.punctuation))\n",
        "    # remove punctuation from each word\n",
        "    tokens = [re_punc.sub('', w) for w in tokens]\n",
        "\n",
        "    #word lemmzatization    \n",
        "    lemm = WordNetLemmatizer()\n",
        "    tokens=[lemm.lemmatize(word) for word in tokens]\n",
        "\n",
        "    # remove remaining tokens that are not alphabetic\n",
        "    tokens = [word for word in tokens if word.isalpha()]\n",
        "    # filter out short tokens\n",
        "    tokens = [word for word in tokens if len(word) > 3]\n",
        "    #lowercase all words\n",
        "    tokens = [word.lower() for word in tokens]\n",
        "    # filter out stop words\n",
        "    stop_words = set(stopwords.words('english'))\n",
        "    tokens = [w for w in tokens if not w in stop_words]     \n",
        "\n",
        "    # filter out common words\n",
        "    tokens = [w for w in tokens if not w in ['louis', 'restaurant', 'also', 'youre']] \n",
        "    # # word stemming    \n",
        "    # ps=PorterStemmer()\n",
        "    # tokens=[ps.stem(word) for word in tokens]\n",
        "\n",
        "    return tokens\n",
        "\n",
        "def final_processed_text(doc):\n",
        "    #this is a function to join the processed text back\n",
        "    ' '.join(doc)\n",
        "    return doc"
      ],
      "metadata": {
        "id": "9aA2s_9J1hao"
      },
      "execution_count": 9,
      "outputs": []
    },
    {
      "cell_type": "code",
      "source": [
        "df['cleaned_text'] = df['text'].apply(lambda x: clean_doc(x))\n",
        "\n",
        "final_processed_text = [' '.join(x) for x in df['cleaned_text'].tolist()]\n",
        "df['final_processed_text'] = final_processed_text     #add to dataframe"
      ],
      "metadata": {
        "id": "cFEYh7_b1hc0"
      },
      "execution_count": 10,
      "outputs": []
    },
    {
      "cell_type": "markdown",
      "source": [
        "## Top Negative Words"
      ],
      "metadata": {
        "id": "kMHkaxIIGOUr"
      }
    },
    {
      "cell_type": "code",
      "source": [
        "df_negative = df[df['stars'].isin([1.0])] "
      ],
      "metadata": {
        "id": "UgstTUGL07co"
      },
      "execution_count": 22,
      "outputs": []
    },
    {
      "cell_type": "code",
      "source": [
        "len(df_negative)"
      ],
      "metadata": {
        "colab": {
          "base_uri": "https://localhost:8080/"
        },
        "id": "n7M-zjzz1JHK",
        "outputId": "43342acd-3b1f-41fc-883a-9c87128ac973"
      },
      "execution_count": 23,
      "outputs": [
        {
          "output_type": "execute_result",
          "data": {
            "text/plain": [
              "32873"
            ]
          },
          "metadata": {},
          "execution_count": 23
        }
      ]
    },
    {
      "cell_type": "code",
      "source": [
        "titles = list(range(len(df_negative)))\n",
        "cv = CountVectorizer(binary=False, ngram_range = (1,1), max_features = 2000)\n",
        "count_matrix = cv.fit_transform(df_negative['final_processed_text'])\n",
        "\n",
        "words = cv.get_feature_names()\n",
        "matrix=pd.DataFrame(count_matrix.toarray(), columns=words, index=titles)"
      ],
      "metadata": {
        "id": "nwXVAw1X07fI"
      },
      "execution_count": 24,
      "outputs": []
    },
    {
      "cell_type": "code",
      "source": [
        "df_negative['business_id'].nunique()"
      ],
      "metadata": {
        "colab": {
          "base_uri": "https://localhost:8080/"
        },
        "id": "GXQrvKja5LGV",
        "outputId": "5302c410-f6de-4cc9-e11e-99e34e98ff5a"
      },
      "execution_count": 25,
      "outputs": [
        {
          "output_type": "execute_result",
          "data": {
            "text/plain": [
              "2859"
            ]
          },
          "metadata": {},
          "execution_count": 25
        }
      ]
    },
    {
      "cell_type": "code",
      "source": [
        "# add business_id to count_matrix\n",
        "business_negative = df_negative['business_id'].tolist()\n",
        "matrix['business_id'] = business_negative"
      ],
      "metadata": {
        "id": "H9j_5TKA5RxH"
      },
      "execution_count": 26,
      "outputs": []
    },
    {
      "cell_type": "code",
      "source": [
        "# sum of words for each business\n",
        "df_negative_sum = matrix.groupby('business_id').sum()"
      ],
      "metadata": {
        "id": "XWBUE0oH13y7"
      },
      "execution_count": 27,
      "outputs": []
    },
    {
      "cell_type": "code",
      "source": [
        "len(df_negative_sum)"
      ],
      "metadata": {
        "colab": {
          "base_uri": "https://localhost:8080/"
        },
        "id": "EhHjPjNbEHJz",
        "outputId": "f451d91b-cc0b-4232-ea69-7f183ffc3e90"
      },
      "execution_count": 28,
      "outputs": [
        {
          "output_type": "execute_result",
          "data": {
            "text/plain": [
              "2859"
            ]
          },
          "metadata": {},
          "execution_count": 28
        }
      ]
    },
    {
      "cell_type": "code",
      "source": [
        "# create empty dataframe to add top negative words\n",
        "df_negative_top_words = df_negative_sum\n",
        "df_negative_top_words['business_id'] = df_negative_sum.index.tolist()\n",
        "df_negative_top_words = df_negative_top_words.iloc[:, -1:]"
      ],
      "metadata": {
        "id": "5PQGbFRaEqqp"
      },
      "execution_count": 29,
      "outputs": []
    },
    {
      "cell_type": "code",
      "source": [
        "# sum of words for each business\n",
        "df_negative_sum = matrix.groupby('business_id').sum()"
      ],
      "metadata": {
        "id": "B_eF4H1UF4mL"
      },
      "execution_count": 30,
      "outputs": []
    },
    {
      "cell_type": "code",
      "source": [
        "for index, row in df_negative_sum.iterrows():\n",
        "  sorted_words = row.sort_values(ascending=False)\n",
        "  # print(sorted_words)\n",
        "  # print(sorted_words[0])\n",
        "  # print(sorted_words.index[0])\n",
        "  # print(index)\n",
        "  for i in range(1,16):\n",
        "    df_negative_top_words.loc[index,\"negative_word{0}\".format(i)] = sorted_words.index[i]\n",
        "    df_negative_top_words.loc[index, \"negative_word_count{0}\".format(i)] = sorted_words[i]"
      ],
      "metadata": {
        "id": "m3xsk3dr7qB2"
      },
      "execution_count": 31,
      "outputs": []
    },
    {
      "cell_type": "code",
      "source": [
        "df_negative_top_words.head(10)"
      ],
      "metadata": {
        "colab": {
          "base_uri": "https://localhost:8080/",
          "height": 488
        },
        "id": "IUJVpCZw7ELB",
        "outputId": "df65eaa1-63b1-4653-b85d-58ba05840931"
      },
      "execution_count": 32,
      "outputs": [
        {
          "output_type": "execute_result",
          "data": {
            "text/plain": [
              "                                   business_id negative_word1  \\\n",
              "business_id                                                     \n",
              "-1wnOZFsvsJPEXh_hWcmMA  -1wnOZFsvsJPEXh_hWcmMA        ordered   \n",
              "-2gmbMDzKgYZ_8DOnJtPyw  -2gmbMDzKgYZ_8DOnJtPyw          order   \n",
              "-6OjnX3ZdDOhHxWR60wysg  -6OjnX3ZdDOhHxWR60wysg          table   \n",
              "-6jVwUuXC1-dyr2YRCEU6Q  -6jVwUuXC1-dyr2YRCEU6Q          order   \n",
              "-6kNhGurAbdNQanqbAaoMg  -6kNhGurAbdNQanqbAaoMg           wing   \n",
              "-78Va3llKcPbL6SW4is8lw  -78Va3llKcPbL6SW4is8lw          sauce   \n",
              "-8jIGHKz1-Tnv2X85kxbvQ  -8jIGHKz1-Tnv2X85kxbvQ          order   \n",
              "-8xqG21DUzav7yIp5lS6jw  -8xqG21DUzav7yIp5lS6jw           ever   \n",
              "-9Kxik9BRNkft5rPcVvSsw  -9Kxik9BRNkft5rPcVvSsw           food   \n",
              "-Bsw0AjWemVa8D_7g7-9Kg  -Bsw0AjWemVa8D_7g7-9Kg          place   \n",
              "\n",
              "                        negative_word_count1 negative_word2  \\\n",
              "business_id                                                   \n",
              "-1wnOZFsvsJPEXh_hWcmMA                   2.0         server   \n",
              "-2gmbMDzKgYZ_8DOnJtPyw                  12.0        ordered   \n",
              "-6OjnX3ZdDOhHxWR60wysg                  13.0          drink   \n",
              "-6jVwUuXC1-dyr2YRCEU6Q                  28.0        chicken   \n",
              "-6kNhGurAbdNQanqbAaoMg                   5.0          sauce   \n",
              "-78Va3llKcPbL6SW4is8lw                  15.0           time   \n",
              "-8jIGHKz1-Tnv2X85kxbvQ                   5.0           time   \n",
              "-8xqG21DUzav7yIp5lS6jw                   3.0         cheese   \n",
              "-9Kxik9BRNkft5rPcVvSsw                  36.0           time   \n",
              "-Bsw0AjWemVa8D_7g7-9Kg                  21.0        service   \n",
              "\n",
              "                        negative_word_count2 negative_word3  \\\n",
              "business_id                                                   \n",
              "-1wnOZFsvsJPEXh_hWcmMA                   2.0        finally   \n",
              "-2gmbMDzKgYZ_8DOnJtPyw                   9.0           time   \n",
              "-6OjnX3ZdDOhHxWR60wysg                  12.0           time   \n",
              "-6jVwUuXC1-dyr2YRCEU6Q                  23.0          never   \n",
              "-6kNhGurAbdNQanqbAaoMg                   4.0          hotel   \n",
              "-78Va3llKcPbL6SW4is8lw                  14.0          pasta   \n",
              "-8jIGHKz1-Tnv2X85kxbvQ                   4.0           dont   \n",
              "-8xqG21DUzav7yIp5lS6jw                   2.0         enough   \n",
              "-9Kxik9BRNkft5rPcVvSsw                  34.0        service   \n",
              "-Bsw0AjWemVa8D_7g7-9Kg                  20.0          drink   \n",
              "\n",
              "                        negative_word_count3 negative_word4  \\\n",
              "business_id                                                   \n",
              "-1wnOZFsvsJPEXh_hWcmMA                   2.0           food   \n",
              "-2gmbMDzKgYZ_8DOnJtPyw                   8.0       customer   \n",
              "-6OjnX3ZdDOhHxWR60wysg                  11.0         server   \n",
              "-6jVwUuXC1-dyr2YRCEU6Q                  16.0           said   \n",
              "-6kNhGurAbdNQanqbAaoMg                   3.0          extra   \n",
              "-78Va3llKcPbL6SW4is8lw                  13.0           came   \n",
              "-8jIGHKz1-Tnv2X85kxbvQ                   4.0        ordered   \n",
              "-8xqG21DUzav7yIp5lS6jw                   2.0      extremely   \n",
              "-9Kxik9BRNkft5rPcVvSsw                  34.0           wing   \n",
              "-Bsw0AjWemVa8D_7g7-9Kg                  20.0          never   \n",
              "\n",
              "                        negative_word_count4 negative_word5  ...  \\\n",
              "business_id                                                  ...   \n",
              "-1wnOZFsvsJPEXh_hWcmMA                   2.0         minute  ...   \n",
              "-2gmbMDzKgYZ_8DOnJtPyw                   7.0          would  ...   \n",
              "-6OjnX3ZdDOhHxWR60wysg                  10.0          would  ...   \n",
              "-6jVwUuXC1-dyr2YRCEU6Q                  14.0          spicy  ...   \n",
              "-6kNhGurAbdNQanqbAaoMg                   3.0   disappointed  ...   \n",
              "-78Va3llKcPbL6SW4is8lw                  10.0           said  ...   \n",
              "-8jIGHKz1-Tnv2X85kxbvQ                   4.0        changed  ...   \n",
              "-8xqG21DUzav7yIp5lS6jw                   2.0           good  ...   \n",
              "-9Kxik9BRNkft5rPcVvSsw                  33.0           back  ...   \n",
              "-Bsw0AjWemVa8D_7g7-9Kg                  14.0         server  ...   \n",
              "\n",
              "                        negative_word11 negative_word_count11  \\\n",
              "business_id                                                     \n",
              "-1wnOZFsvsJPEXh_hWcmMA            asked                   1.0   \n",
              "-2gmbMDzKgYZ_8DOnJtPyw            owner                   5.0   \n",
              "-6OjnX3ZdDOhHxWR60wysg          ordered                   8.0   \n",
              "-6jVwUuXC1-dyr2YRCEU6Q             good                  11.0   \n",
              "-6kNhGurAbdNQanqbAaoMg             told                   2.0   \n",
              "-78Va3llKcPbL6SW4is8lw             dont                   8.0   \n",
              "-8jIGHKz1-Tnv2X85kxbvQ            first                   2.0   \n",
              "-8xqG21DUzav7yIp5lS6jw             left                   1.0   \n",
              "-9Kxik9BRNkft5rPcVvSsw            would                  20.0   \n",
              "-Bsw0AjWemVa8D_7g7-9Kg             know                  10.0   \n",
              "\n",
              "                        negative_word12 negative_word_count12  \\\n",
              "business_id                                                     \n",
              "-1wnOZFsvsJPEXh_hWcmMA          leaving                   1.0   \n",
              "-2gmbMDzKgYZ_8DOnJtPyw             said                   5.0   \n",
              "-6OjnX3ZdDOhHxWR60wysg            steak                   7.0   \n",
              "-6jVwUuXC1-dyr2YRCEU6Q            curry                  10.0   \n",
              "-6kNhGurAbdNQanqbAaoMg            front                   2.0   \n",
              "-78Va3llKcPbL6SW4is8lw            would                   7.0   \n",
              "-8jIGHKz1-Tnv2X85kxbvQ             life                   2.0   \n",
              "-8xqG21DUzav7yIp5lS6jw             slow                   1.0   \n",
              "-9Kxik9BRNkft5rPcVvSsw            drink                  18.0   \n",
              "-Bsw0AjWemVa8D_7g7-9Kg          manager                   9.0   \n",
              "\n",
              "                        negative_word13 negative_word_count13  \\\n",
              "business_id                                                     \n",
              "-1wnOZFsvsJPEXh_hWcmMA           ticket                   1.0   \n",
              "-2gmbMDzKgYZ_8DOnJtPyw          service                   5.0   \n",
              "-6OjnX3ZdDOhHxWR60wysg             ever                   7.0   \n",
              "-6jVwUuXC1-dyr2YRCEU6Q             give                  10.0   \n",
              "-6kNhGurAbdNQanqbAaoMg            never                   2.0   \n",
              "-78Va3llKcPbL6SW4is8lw             take                   7.0   \n",
              "-8jIGHKz1-Tnv2X85kxbvQ             hour                   2.0   \n",
              "-8xqG21DUzav7yIp5lS6jw             thin                   1.0   \n",
              "-9Kxik9BRNkft5rPcVvSsw             even                  17.0   \n",
              "-Bsw0AjWemVa8D_7g7-9Kg             dont                   9.0   \n",
              "\n",
              "                        negative_word14 negative_word_count14  \\\n",
              "business_id                                                     \n",
              "-1wnOZFsvsJPEXh_hWcmMA      recommended                   1.0   \n",
              "-2gmbMDzKgYZ_8DOnJtPyw           minute                   5.0   \n",
              "-6OjnX3ZdDOhHxWR60wysg            place                   7.0   \n",
              "-6jVwUuXC1-dyr2YRCEU6Q            asked                  10.0   \n",
              "-6kNhGurAbdNQanqbAaoMg            crust                   2.0   \n",
              "-78Va3llKcPbL6SW4is8lw            place                   7.0   \n",
              "-8jIGHKz1-Tnv2X85kxbvQ           noodle                   2.0   \n",
              "-8xqG21DUzav7yIp5lS6jw          service                   1.0   \n",
              "-9Kxik9BRNkft5rPcVvSsw            never                  17.0   \n",
              "-Bsw0AjWemVa8D_7g7-9Kg         bathroom                   9.0   \n",
              "\n",
              "                        negative_word15 negative_word_count15  \n",
              "business_id                                                    \n",
              "-1wnOZFsvsJPEXh_hWcmMA             high                   1.0  \n",
              "-2gmbMDzKgYZ_8DOnJtPyw             rice                   5.0  \n",
              "-6OjnX3ZdDOhHxWR60wysg            asked                   7.0  \n",
              "-6jVwUuXC1-dyr2YRCEU6Q             time                  10.0  \n",
              "-6kNhGurAbdNQanqbAaoMg           flavor                   2.0  \n",
              "-78Va3llKcPbL6SW4is8lw         customer                   7.0  \n",
              "-8jIGHKz1-Tnv2X85kxbvQ            would                   2.0  \n",
              "-8xqG21DUzav7yIp5lS6jw             last                   1.0  \n",
              "-9Kxik9BRNkft5rPcVvSsw          ordered                  17.0  \n",
              "-Bsw0AjWemVa8D_7g7-9Kg          ordered                   9.0  \n",
              "\n",
              "[10 rows x 31 columns]"
            ],
            "text/html": [
              "\n",
              "  <div id=\"df-916a3eaa-4122-4bb0-b116-fd1f66bff116\">\n",
              "    <div class=\"colab-df-container\">\n",
              "      <div>\n",
              "<style scoped>\n",
              "    .dataframe tbody tr th:only-of-type {\n",
              "        vertical-align: middle;\n",
              "    }\n",
              "\n",
              "    .dataframe tbody tr th {\n",
              "        vertical-align: top;\n",
              "    }\n",
              "\n",
              "    .dataframe thead th {\n",
              "        text-align: right;\n",
              "    }\n",
              "</style>\n",
              "<table border=\"1\" class=\"dataframe\">\n",
              "  <thead>\n",
              "    <tr style=\"text-align: right;\">\n",
              "      <th></th>\n",
              "      <th>business_id</th>\n",
              "      <th>negative_word1</th>\n",
              "      <th>negative_word_count1</th>\n",
              "      <th>negative_word2</th>\n",
              "      <th>negative_word_count2</th>\n",
              "      <th>negative_word3</th>\n",
              "      <th>negative_word_count3</th>\n",
              "      <th>negative_word4</th>\n",
              "      <th>negative_word_count4</th>\n",
              "      <th>negative_word5</th>\n",
              "      <th>...</th>\n",
              "      <th>negative_word11</th>\n",
              "      <th>negative_word_count11</th>\n",
              "      <th>negative_word12</th>\n",
              "      <th>negative_word_count12</th>\n",
              "      <th>negative_word13</th>\n",
              "      <th>negative_word_count13</th>\n",
              "      <th>negative_word14</th>\n",
              "      <th>negative_word_count14</th>\n",
              "      <th>negative_word15</th>\n",
              "      <th>negative_word_count15</th>\n",
              "    </tr>\n",
              "    <tr>\n",
              "      <th>business_id</th>\n",
              "      <th></th>\n",
              "      <th></th>\n",
              "      <th></th>\n",
              "      <th></th>\n",
              "      <th></th>\n",
              "      <th></th>\n",
              "      <th></th>\n",
              "      <th></th>\n",
              "      <th></th>\n",
              "      <th></th>\n",
              "      <th></th>\n",
              "      <th></th>\n",
              "      <th></th>\n",
              "      <th></th>\n",
              "      <th></th>\n",
              "      <th></th>\n",
              "      <th></th>\n",
              "      <th></th>\n",
              "      <th></th>\n",
              "      <th></th>\n",
              "      <th></th>\n",
              "    </tr>\n",
              "  </thead>\n",
              "  <tbody>\n",
              "    <tr>\n",
              "      <th>-1wnOZFsvsJPEXh_hWcmMA</th>\n",
              "      <td>-1wnOZFsvsJPEXh_hWcmMA</td>\n",
              "      <td>ordered</td>\n",
              "      <td>2.0</td>\n",
              "      <td>server</td>\n",
              "      <td>2.0</td>\n",
              "      <td>finally</td>\n",
              "      <td>2.0</td>\n",
              "      <td>food</td>\n",
              "      <td>2.0</td>\n",
              "      <td>minute</td>\n",
              "      <td>...</td>\n",
              "      <td>asked</td>\n",
              "      <td>1.0</td>\n",
              "      <td>leaving</td>\n",
              "      <td>1.0</td>\n",
              "      <td>ticket</td>\n",
              "      <td>1.0</td>\n",
              "      <td>recommended</td>\n",
              "      <td>1.0</td>\n",
              "      <td>high</td>\n",
              "      <td>1.0</td>\n",
              "    </tr>\n",
              "    <tr>\n",
              "      <th>-2gmbMDzKgYZ_8DOnJtPyw</th>\n",
              "      <td>-2gmbMDzKgYZ_8DOnJtPyw</td>\n",
              "      <td>order</td>\n",
              "      <td>12.0</td>\n",
              "      <td>ordered</td>\n",
              "      <td>9.0</td>\n",
              "      <td>time</td>\n",
              "      <td>8.0</td>\n",
              "      <td>customer</td>\n",
              "      <td>7.0</td>\n",
              "      <td>would</td>\n",
              "      <td>...</td>\n",
              "      <td>owner</td>\n",
              "      <td>5.0</td>\n",
              "      <td>said</td>\n",
              "      <td>5.0</td>\n",
              "      <td>service</td>\n",
              "      <td>5.0</td>\n",
              "      <td>minute</td>\n",
              "      <td>5.0</td>\n",
              "      <td>rice</td>\n",
              "      <td>5.0</td>\n",
              "    </tr>\n",
              "    <tr>\n",
              "      <th>-6OjnX3ZdDOhHxWR60wysg</th>\n",
              "      <td>-6OjnX3ZdDOhHxWR60wysg</td>\n",
              "      <td>table</td>\n",
              "      <td>13.0</td>\n",
              "      <td>drink</td>\n",
              "      <td>12.0</td>\n",
              "      <td>time</td>\n",
              "      <td>11.0</td>\n",
              "      <td>server</td>\n",
              "      <td>10.0</td>\n",
              "      <td>would</td>\n",
              "      <td>...</td>\n",
              "      <td>ordered</td>\n",
              "      <td>8.0</td>\n",
              "      <td>steak</td>\n",
              "      <td>7.0</td>\n",
              "      <td>ever</td>\n",
              "      <td>7.0</td>\n",
              "      <td>place</td>\n",
              "      <td>7.0</td>\n",
              "      <td>asked</td>\n",
              "      <td>7.0</td>\n",
              "    </tr>\n",
              "    <tr>\n",
              "      <th>-6jVwUuXC1-dyr2YRCEU6Q</th>\n",
              "      <td>-6jVwUuXC1-dyr2YRCEU6Q</td>\n",
              "      <td>order</td>\n",
              "      <td>28.0</td>\n",
              "      <td>chicken</td>\n",
              "      <td>23.0</td>\n",
              "      <td>never</td>\n",
              "      <td>16.0</td>\n",
              "      <td>said</td>\n",
              "      <td>14.0</td>\n",
              "      <td>spicy</td>\n",
              "      <td>...</td>\n",
              "      <td>good</td>\n",
              "      <td>11.0</td>\n",
              "      <td>curry</td>\n",
              "      <td>10.0</td>\n",
              "      <td>give</td>\n",
              "      <td>10.0</td>\n",
              "      <td>asked</td>\n",
              "      <td>10.0</td>\n",
              "      <td>time</td>\n",
              "      <td>10.0</td>\n",
              "    </tr>\n",
              "    <tr>\n",
              "      <th>-6kNhGurAbdNQanqbAaoMg</th>\n",
              "      <td>-6kNhGurAbdNQanqbAaoMg</td>\n",
              "      <td>wing</td>\n",
              "      <td>5.0</td>\n",
              "      <td>sauce</td>\n",
              "      <td>4.0</td>\n",
              "      <td>hotel</td>\n",
              "      <td>3.0</td>\n",
              "      <td>extra</td>\n",
              "      <td>3.0</td>\n",
              "      <td>disappointed</td>\n",
              "      <td>...</td>\n",
              "      <td>told</td>\n",
              "      <td>2.0</td>\n",
              "      <td>front</td>\n",
              "      <td>2.0</td>\n",
              "      <td>never</td>\n",
              "      <td>2.0</td>\n",
              "      <td>crust</td>\n",
              "      <td>2.0</td>\n",
              "      <td>flavor</td>\n",
              "      <td>2.0</td>\n",
              "    </tr>\n",
              "    <tr>\n",
              "      <th>-78Va3llKcPbL6SW4is8lw</th>\n",
              "      <td>-78Va3llKcPbL6SW4is8lw</td>\n",
              "      <td>sauce</td>\n",
              "      <td>15.0</td>\n",
              "      <td>time</td>\n",
              "      <td>14.0</td>\n",
              "      <td>pasta</td>\n",
              "      <td>13.0</td>\n",
              "      <td>came</td>\n",
              "      <td>10.0</td>\n",
              "      <td>said</td>\n",
              "      <td>...</td>\n",
              "      <td>dont</td>\n",
              "      <td>8.0</td>\n",
              "      <td>would</td>\n",
              "      <td>7.0</td>\n",
              "      <td>take</td>\n",
              "      <td>7.0</td>\n",
              "      <td>place</td>\n",
              "      <td>7.0</td>\n",
              "      <td>customer</td>\n",
              "      <td>7.0</td>\n",
              "    </tr>\n",
              "    <tr>\n",
              "      <th>-8jIGHKz1-Tnv2X85kxbvQ</th>\n",
              "      <td>-8jIGHKz1-Tnv2X85kxbvQ</td>\n",
              "      <td>order</td>\n",
              "      <td>5.0</td>\n",
              "      <td>time</td>\n",
              "      <td>4.0</td>\n",
              "      <td>dont</td>\n",
              "      <td>4.0</td>\n",
              "      <td>ordered</td>\n",
              "      <td>4.0</td>\n",
              "      <td>changed</td>\n",
              "      <td>...</td>\n",
              "      <td>first</td>\n",
              "      <td>2.0</td>\n",
              "      <td>life</td>\n",
              "      <td>2.0</td>\n",
              "      <td>hour</td>\n",
              "      <td>2.0</td>\n",
              "      <td>noodle</td>\n",
              "      <td>2.0</td>\n",
              "      <td>would</td>\n",
              "      <td>2.0</td>\n",
              "    </tr>\n",
              "    <tr>\n",
              "      <th>-8xqG21DUzav7yIp5lS6jw</th>\n",
              "      <td>-8xqG21DUzav7yIp5lS6jw</td>\n",
              "      <td>ever</td>\n",
              "      <td>3.0</td>\n",
              "      <td>cheese</td>\n",
              "      <td>2.0</td>\n",
              "      <td>enough</td>\n",
              "      <td>2.0</td>\n",
              "      <td>extremely</td>\n",
              "      <td>2.0</td>\n",
              "      <td>good</td>\n",
              "      <td>...</td>\n",
              "      <td>left</td>\n",
              "      <td>1.0</td>\n",
              "      <td>slow</td>\n",
              "      <td>1.0</td>\n",
              "      <td>thin</td>\n",
              "      <td>1.0</td>\n",
              "      <td>service</td>\n",
              "      <td>1.0</td>\n",
              "      <td>last</td>\n",
              "      <td>1.0</td>\n",
              "    </tr>\n",
              "    <tr>\n",
              "      <th>-9Kxik9BRNkft5rPcVvSsw</th>\n",
              "      <td>-9Kxik9BRNkft5rPcVvSsw</td>\n",
              "      <td>food</td>\n",
              "      <td>36.0</td>\n",
              "      <td>time</td>\n",
              "      <td>34.0</td>\n",
              "      <td>service</td>\n",
              "      <td>34.0</td>\n",
              "      <td>wing</td>\n",
              "      <td>33.0</td>\n",
              "      <td>back</td>\n",
              "      <td>...</td>\n",
              "      <td>would</td>\n",
              "      <td>20.0</td>\n",
              "      <td>drink</td>\n",
              "      <td>18.0</td>\n",
              "      <td>even</td>\n",
              "      <td>17.0</td>\n",
              "      <td>never</td>\n",
              "      <td>17.0</td>\n",
              "      <td>ordered</td>\n",
              "      <td>17.0</td>\n",
              "    </tr>\n",
              "    <tr>\n",
              "      <th>-Bsw0AjWemVa8D_7g7-9Kg</th>\n",
              "      <td>-Bsw0AjWemVa8D_7g7-9Kg</td>\n",
              "      <td>place</td>\n",
              "      <td>21.0</td>\n",
              "      <td>service</td>\n",
              "      <td>20.0</td>\n",
              "      <td>drink</td>\n",
              "      <td>20.0</td>\n",
              "      <td>never</td>\n",
              "      <td>14.0</td>\n",
              "      <td>server</td>\n",
              "      <td>...</td>\n",
              "      <td>know</td>\n",
              "      <td>10.0</td>\n",
              "      <td>manager</td>\n",
              "      <td>9.0</td>\n",
              "      <td>dont</td>\n",
              "      <td>9.0</td>\n",
              "      <td>bathroom</td>\n",
              "      <td>9.0</td>\n",
              "      <td>ordered</td>\n",
              "      <td>9.0</td>\n",
              "    </tr>\n",
              "  </tbody>\n",
              "</table>\n",
              "<p>10 rows × 31 columns</p>\n",
              "</div>\n",
              "      <button class=\"colab-df-convert\" onclick=\"convertToInteractive('df-916a3eaa-4122-4bb0-b116-fd1f66bff116')\"\n",
              "              title=\"Convert this dataframe to an interactive table.\"\n",
              "              style=\"display:none;\">\n",
              "        \n",
              "  <svg xmlns=\"http://www.w3.org/2000/svg\" height=\"24px\"viewBox=\"0 0 24 24\"\n",
              "       width=\"24px\">\n",
              "    <path d=\"M0 0h24v24H0V0z\" fill=\"none\"/>\n",
              "    <path d=\"M18.56 5.44l.94 2.06.94-2.06 2.06-.94-2.06-.94-.94-2.06-.94 2.06-2.06.94zm-11 1L8.5 8.5l.94-2.06 2.06-.94-2.06-.94L8.5 2.5l-.94 2.06-2.06.94zm10 10l.94 2.06.94-2.06 2.06-.94-2.06-.94-.94-2.06-.94 2.06-2.06.94z\"/><path d=\"M17.41 7.96l-1.37-1.37c-.4-.4-.92-.59-1.43-.59-.52 0-1.04.2-1.43.59L10.3 9.45l-7.72 7.72c-.78.78-.78 2.05 0 2.83L4 21.41c.39.39.9.59 1.41.59.51 0 1.02-.2 1.41-.59l7.78-7.78 2.81-2.81c.8-.78.8-2.07 0-2.86zM5.41 20L4 18.59l7.72-7.72 1.47 1.35L5.41 20z\"/>\n",
              "  </svg>\n",
              "      </button>\n",
              "      \n",
              "  <style>\n",
              "    .colab-df-container {\n",
              "      display:flex;\n",
              "      flex-wrap:wrap;\n",
              "      gap: 12px;\n",
              "    }\n",
              "\n",
              "    .colab-df-convert {\n",
              "      background-color: #E8F0FE;\n",
              "      border: none;\n",
              "      border-radius: 50%;\n",
              "      cursor: pointer;\n",
              "      display: none;\n",
              "      fill: #1967D2;\n",
              "      height: 32px;\n",
              "      padding: 0 0 0 0;\n",
              "      width: 32px;\n",
              "    }\n",
              "\n",
              "    .colab-df-convert:hover {\n",
              "      background-color: #E2EBFA;\n",
              "      box-shadow: 0px 1px 2px rgba(60, 64, 67, 0.3), 0px 1px 3px 1px rgba(60, 64, 67, 0.15);\n",
              "      fill: #174EA6;\n",
              "    }\n",
              "\n",
              "    [theme=dark] .colab-df-convert {\n",
              "      background-color: #3B4455;\n",
              "      fill: #D2E3FC;\n",
              "    }\n",
              "\n",
              "    [theme=dark] .colab-df-convert:hover {\n",
              "      background-color: #434B5C;\n",
              "      box-shadow: 0px 1px 3px 1px rgba(0, 0, 0, 0.15);\n",
              "      filter: drop-shadow(0px 1px 2px rgba(0, 0, 0, 0.3));\n",
              "      fill: #FFFFFF;\n",
              "    }\n",
              "  </style>\n",
              "\n",
              "      <script>\n",
              "        const buttonEl =\n",
              "          document.querySelector('#df-916a3eaa-4122-4bb0-b116-fd1f66bff116 button.colab-df-convert');\n",
              "        buttonEl.style.display =\n",
              "          google.colab.kernel.accessAllowed ? 'block' : 'none';\n",
              "\n",
              "        async function convertToInteractive(key) {\n",
              "          const element = document.querySelector('#df-916a3eaa-4122-4bb0-b116-fd1f66bff116');\n",
              "          const dataTable =\n",
              "            await google.colab.kernel.invokeFunction('convertToInteractive',\n",
              "                                                     [key], {});\n",
              "          if (!dataTable) return;\n",
              "\n",
              "          const docLinkHtml = 'Like what you see? Visit the ' +\n",
              "            '<a target=\"_blank\" href=https://colab.research.google.com/notebooks/data_table.ipynb>data table notebook</a>'\n",
              "            + ' to learn more about interactive tables.';\n",
              "          element.innerHTML = '';\n",
              "          dataTable['output_type'] = 'display_data';\n",
              "          await google.colab.output.renderOutput(dataTable, element);\n",
              "          const docLink = document.createElement('div');\n",
              "          docLink.innerHTML = docLinkHtml;\n",
              "          element.appendChild(docLink);\n",
              "        }\n",
              "      </script>\n",
              "    </div>\n",
              "  </div>\n",
              "  "
            ]
          },
          "metadata": {},
          "execution_count": 32
        }
      ]
    },
    {
      "cell_type": "code",
      "source": [
        "df_negative_top_words.to_csv('/content/gdrive/MyDrive/Data/negative_top_words.csv', index = False)"
      ],
      "metadata": {
        "id": "3dJrOiuvIiAA"
      },
      "execution_count": 33,
      "outputs": []
    },
    {
      "cell_type": "markdown",
      "source": [
        "## Top Positive Words"
      ],
      "metadata": {
        "id": "b5v0uwnIGSo1"
      }
    },
    {
      "cell_type": "code",
      "source": [
        "df = df[df['stars'].isin([4.0, 5.0])] "
      ],
      "metadata": {
        "id": "PIS3NnrI4y6G"
      },
      "execution_count": 11,
      "outputs": []
    },
    {
      "cell_type": "code",
      "source": [
        "len(df)"
      ],
      "metadata": {
        "colab": {
          "base_uri": "https://localhost:8080/"
        },
        "outputId": "481a9929-da4a-4704-8072-bebe851ae702",
        "id": "4l2iawVRGUBk"
      },
      "execution_count": 12,
      "outputs": [
        {
          "output_type": "execute_result",
          "data": {
            "text/plain": [
              "197895"
            ]
          },
          "metadata": {},
          "execution_count": 12
        }
      ]
    },
    {
      "cell_type": "code",
      "source": [
        "titles = list(range(len(df)))\n",
        "cv = CountVectorizer(binary=False, ngram_range = (1,1), max_features = 2000)\n",
        "count_matrix = cv.fit_transform(df['final_processed_text'])\n",
        "\n",
        "words = cv.get_feature_names()\n",
        "matrix=pd.DataFrame(count_matrix.toarray(), columns=words, index=titles)"
      ],
      "metadata": {
        "id": "IfieUtMbGUBl"
      },
      "execution_count": 13,
      "outputs": []
    },
    {
      "cell_type": "code",
      "source": [
        "df['business_id'].nunique()"
      ],
      "metadata": {
        "colab": {
          "base_uri": "https://localhost:8080/"
        },
        "outputId": "e2974a7a-b6b5-43e4-9bb6-c9523e796423",
        "id": "YPeXLZpCGUBl"
      },
      "execution_count": 14,
      "outputs": [
        {
          "output_type": "execute_result",
          "data": {
            "text/plain": [
              "3163"
            ]
          },
          "metadata": {},
          "execution_count": 14
        }
      ]
    },
    {
      "cell_type": "code",
      "source": [
        "# add business_id to count_matrix\n",
        "business_positive = df['business_id'].tolist()\n",
        "matrix['business_id'] = business_positive"
      ],
      "metadata": {
        "id": "il8ybzuHGUBl"
      },
      "execution_count": 15,
      "outputs": []
    },
    {
      "cell_type": "code",
      "source": [
        "# sum of words for each business\n",
        "df_positive_sum = matrix.groupby('business_id').sum()"
      ],
      "metadata": {
        "id": "xgoLaiwKGUBl"
      },
      "execution_count": 16,
      "outputs": []
    },
    {
      "cell_type": "code",
      "source": [
        "len(df_positive_sum)"
      ],
      "metadata": {
        "colab": {
          "base_uri": "https://localhost:8080/"
        },
        "outputId": "e3708442-0f79-44b6-bea6-544ec3f16c59",
        "id": "A0aRvkUoGUBl"
      },
      "execution_count": 17,
      "outputs": [
        {
          "output_type": "execute_result",
          "data": {
            "text/plain": [
              "3163"
            ]
          },
          "metadata": {},
          "execution_count": 17
        }
      ]
    },
    {
      "cell_type": "code",
      "source": [
        "# create empty dataframe to add top positive words\n",
        "df_positive_top_words = df_positive_sum\n",
        "df_positive_top_words['business_id'] = df_positive_sum.index.tolist()\n",
        "df_positive_top_words = df_positive_top_words.iloc[:, -1:]"
      ],
      "metadata": {
        "id": "Qbyn_yddGUBl"
      },
      "execution_count": 18,
      "outputs": []
    },
    {
      "cell_type": "code",
      "source": [
        "# sum of words for each business\n",
        "df_positive_sum = matrix.groupby('business_id').sum()"
      ],
      "metadata": {
        "id": "EFAYVe5oGUBm"
      },
      "execution_count": 19,
      "outputs": []
    },
    {
      "cell_type": "code",
      "source": [
        "for index, row in df_positive_sum.iterrows():\n",
        "  sorted_words = row.sort_values(ascending=False)\n",
        "  # print(sorted_words)\n",
        "  # print(sorted_words[0])\n",
        "  # print(sorted_words.index[0])\n",
        "  # print(index)\n",
        "  for i in range(1,16):\n",
        "    df_positive_top_words.loc[index,\"positive_word{0}\".format(i)] = sorted_words.index[i]\n",
        "    df_positive_top_words.loc[index, \"positive_word_count{0}\".format(i)] = sorted_words[i]"
      ],
      "metadata": {
        "id": "tJnsJpGtGUBm"
      },
      "execution_count": 20,
      "outputs": []
    },
    {
      "cell_type": "code",
      "source": [
        "df_positive_top_words.head(10)"
      ],
      "metadata": {
        "colab": {
          "base_uri": "https://localhost:8080/",
          "height": 488
        },
        "outputId": "c829be28-b393-44f1-95b1-3ad5a546d875",
        "id": "iJrgKYYBGUBm"
      },
      "execution_count": 21,
      "outputs": [
        {
          "output_type": "execute_result",
          "data": {
            "text/plain": [
              "                                   business_id positive_word1  \\\n",
              "business_id                                                     \n",
              "-1wnOZFsvsJPEXh_hWcmMA  -1wnOZFsvsJPEXh_hWcmMA           food   \n",
              "-2gmbMDzKgYZ_8DOnJtPyw  -2gmbMDzKgYZ_8DOnJtPyw        chicken   \n",
              "-6OjnX3ZdDOhHxWR60wysg  -6OjnX3ZdDOhHxWR60wysg           good   \n",
              "-6jVwUuXC1-dyr2YRCEU6Q  -6jVwUuXC1-dyr2YRCEU6Q        chicken   \n",
              "-6kNhGurAbdNQanqbAaoMg  -6kNhGurAbdNQanqbAaoMg           imos   \n",
              "-78Va3llKcPbL6SW4is8lw  -78Va3llKcPbL6SW4is8lw           food   \n",
              "-8jIGHKz1-Tnv2X85kxbvQ  -8jIGHKz1-Tnv2X85kxbvQ           good   \n",
              "-8xqG21DUzav7yIp5lS6jw  -8xqG21DUzav7yIp5lS6jw          place   \n",
              "-9Kxik9BRNkft5rPcVvSsw  -9Kxik9BRNkft5rPcVvSsw           wing   \n",
              "-Bsw0AjWemVa8D_7g7-9Kg  -Bsw0AjWemVa8D_7g7-9Kg          drink   \n",
              "\n",
              "                        positive_word_count1 positive_word2  \\\n",
              "business_id                                                   \n",
              "-1wnOZFsvsJPEXh_hWcmMA                   5.0           taco   \n",
              "-2gmbMDzKgYZ_8DOnJtPyw                   8.0           crab   \n",
              "-6OjnX3ZdDOhHxWR60wysg                  38.0           food   \n",
              "-6jVwUuXC1-dyr2YRCEU6Q                 138.0         indian   \n",
              "-6kNhGurAbdNQanqbAaoMg                  14.0         cheese   \n",
              "-78Va3llKcPbL6SW4is8lw                  70.0          salad   \n",
              "-8jIGHKz1-Tnv2X85kxbvQ                   7.0         always   \n",
              "-8xqG21DUzav7yIp5lS6jw                  24.0          great   \n",
              "-9Kxik9BRNkft5rPcVvSsw                  17.0           good   \n",
              "-Bsw0AjWemVa8D_7g7-9Kg                  16.0          music   \n",
              "\n",
              "                        positive_word_count2 positive_word3  \\\n",
              "business_id                                                   \n",
              "-1wnOZFsvsJPEXh_hWcmMA                   4.0         burger   \n",
              "-2gmbMDzKgYZ_8DOnJtPyw                   8.0          place   \n",
              "-6OjnX3ZdDOhHxWR60wysg                  32.0          place   \n",
              "-6jVwUuXC1-dyr2YRCEU6Q                 130.0           good   \n",
              "-6kNhGurAbdNQanqbAaoMg                   7.0         provel   \n",
              "-78Va3llKcPbL6SW4is8lw                  52.0           good   \n",
              "-8jIGHKz1-Tnv2X85kxbvQ                   7.0        chinese   \n",
              "-8xqG21DUzav7yIp5lS6jw                  22.0           time   \n",
              "-9Kxik9BRNkft5rPcVvSsw                  16.0        service   \n",
              "-Bsw0AjWemVa8D_7g7-9Kg                  16.0          great   \n",
              "\n",
              "                        positive_word_count3 positive_word4  \\\n",
              "business_id                                                   \n",
              "-1wnOZFsvsJPEXh_hWcmMA                   4.0          fresh   \n",
              "-2gmbMDzKgYZ_8DOnJtPyw                   7.0           rice   \n",
              "-6OjnX3ZdDOhHxWR60wysg                  31.0           time   \n",
              "-6jVwUuXC1-dyr2YRCEU6Q                 111.0          place   \n",
              "-6kNhGurAbdNQanqbAaoMg                   7.0       location   \n",
              "-78Va3llKcPbL6SW4is8lw                  51.0          place   \n",
              "-8jIGHKz1-Tnv2X85kxbvQ                   7.0        chicken   \n",
              "-8xqG21DUzav7yIp5lS6jw                  17.0           love   \n",
              "-9Kxik9BRNkft5rPcVvSsw                  15.0          great   \n",
              "-Bsw0AjWemVa8D_7g7-9Kg                  12.0          sushi   \n",
              "\n",
              "                        positive_word_count4 positive_word5  ...  \\\n",
              "business_id                                                  ...   \n",
              "-1wnOZFsvsJPEXh_hWcmMA                   4.0      delicious  ...   \n",
              "-2gmbMDzKgYZ_8DOnJtPyw                   7.0        chinese  ...   \n",
              "-6OjnX3ZdDOhHxWR60wysg                  28.0         really  ...   \n",
              "-6jVwUuXC1-dyr2YRCEU6Q                 106.0          lunch  ...   \n",
              "-6kNhGurAbdNQanqbAaoMg                   5.0           like  ...   \n",
              "-78Va3llKcPbL6SW4is8lw                  46.0        service  ...   \n",
              "-8jIGHKz1-Tnv2X85kxbvQ                   7.0           love  ...   \n",
              "-8xqG21DUzav7yIp5lS6jw                  15.0           good  ...   \n",
              "-9Kxik9BRNkft5rPcVvSsw                  13.0        chicken  ...   \n",
              "-Bsw0AjWemVa8D_7g7-9Kg                   9.0        service  ...   \n",
              "\n",
              "                        positive_word11 positive_word_count11  \\\n",
              "business_id                                                     \n",
              "-1wnOZFsvsJPEXh_hWcmMA            staff                   3.0   \n",
              "-2gmbMDzKgYZ_8DOnJtPyw             meal                   4.0   \n",
              "-6OjnX3ZdDOhHxWR60wysg          chicken                  17.0   \n",
              "-6jVwUuXC1-dyr2YRCEU6Q             rice                  50.0   \n",
              "-6kNhGurAbdNQanqbAaoMg           people                   4.0   \n",
              "-78Va3llKcPbL6SW4is8lw        delicious                  29.0   \n",
              "-8jIGHKz1-Tnv2X85kxbvQ            order                   4.0   \n",
              "-8xqG21DUzav7yIp5lS6jw             best                  10.0   \n",
              "-9Kxik9BRNkft5rPcVvSsw             back                   7.0   \n",
              "-Bsw0AjWemVa8D_7g7-9Kg             dont                   5.0   \n",
              "\n",
              "                        positive_word12 positive_word_count12  \\\n",
              "business_id                                                     \n",
              "-1wnOZFsvsJPEXh_hWcmMA         friendly                   3.0   \n",
              "-2gmbMDzKgYZ_8DOnJtPyw            order                   4.0   \n",
              "-6OjnX3ZdDOhHxWR60wysg             menu                  16.0   \n",
              "-6jVwUuXC1-dyr2YRCEU6Q            great                  48.0   \n",
              "-6kNhGurAbdNQanqbAaoMg             love                   4.0   \n",
              "-78Va3llKcPbL6SW4is8lw             well                  28.0   \n",
              "-8jIGHKz1-Tnv2X85kxbvQ          service                   4.0   \n",
              "-8xqG21DUzav7yIp5lS6jw             like                  10.0   \n",
              "-9Kxik9BRNkft5rPcVvSsw           server                   7.0   \n",
              "-Bsw0AjWemVa8D_7g7-9Kg             play                   5.0   \n",
              "\n",
              "                        positive_word13 positive_word_count13  \\\n",
              "business_id                                                     \n",
              "-1wnOZFsvsJPEXh_hWcmMA          special                   3.0   \n",
              "-2gmbMDzKgYZ_8DOnJtPyw           really                   4.0   \n",
              "-6OjnX3ZdDOhHxWR60wysg            would                  16.0   \n",
              "-6jVwUuXC1-dyr2YRCEU6Q             time                  47.0   \n",
              "-6kNhGurAbdNQanqbAaoMg            sauce                   4.0   \n",
              "-78Va3llKcPbL6SW4is8lw            sauce                  28.0   \n",
              "-8jIGHKz1-Tnv2X85kxbvQ             menu                   4.0   \n",
              "-8xqG21DUzav7yIp5lS6jw            first                   9.0   \n",
              "-9Kxik9BRNkft5rPcVvSsw         friendly                   7.0   \n",
              "-Bsw0AjWemVa8D_7g7-9Kg             food                   5.0   \n",
              "\n",
              "                        positive_word14 positive_word_count14  \\\n",
              "business_id                                                     \n",
              "-1wnOZFsvsJPEXh_hWcmMA             beer                   3.0   \n",
              "-2gmbMDzKgYZ_8DOnJtPyw            fresh                   3.0   \n",
              "-6OjnX3ZdDOhHxWR60wysg          ordered                  16.0   \n",
              "-6jVwUuXC1-dyr2YRCEU6Q           masala                  43.0   \n",
              "-6kNhGurAbdNQanqbAaoMg           change                   3.0   \n",
              "-78Va3llKcPbL6SW4is8lw             best                  27.0   \n",
              "-8jIGHKz1-Tnv2X85kxbvQ         broccoli                   4.0   \n",
              "-8xqG21DUzav7yIp5lS6jw            crust                   9.0   \n",
              "-9Kxik9BRNkft5rPcVvSsw         favorite                   6.0   \n",
              "-Bsw0AjWemVa8D_7g7-9Kg            night                   5.0   \n",
              "\n",
              "                        positive_word15 positive_word_count15  \n",
              "business_id                                                    \n",
              "-1wnOZFsvsJPEXh_hWcmMA             menu                   2.0  \n",
              "-2gmbMDzKgYZ_8DOnJtPyw          ordered                   3.0  \n",
              "-6OjnX3ZdDOhHxWR60wysg          service                  16.0  \n",
              "-6jVwUuXC1-dyr2YRCEU6Q            order                  42.0  \n",
              "-6kNhGurAbdNQanqbAaoMg             best                   3.0  \n",
              "-78Va3llKcPbL6SW4is8lw          ordered                  26.0  \n",
              "-8jIGHKz1-Tnv2X85kxbvQ             soup                   3.0  \n",
              "-8xqG21DUzav7yIp5lS6jw           cheese                   9.0  \n",
              "-9Kxik9BRNkft5rPcVvSsw             like                   6.0  \n",
              "-Bsw0AjWemVa8D_7g7-9Kg           really                   5.0  \n",
              "\n",
              "[10 rows x 31 columns]"
            ],
            "text/html": [
              "\n",
              "  <div id=\"df-e3bab126-f4c8-4057-8a2c-b2993c248fa5\">\n",
              "    <div class=\"colab-df-container\">\n",
              "      <div>\n",
              "<style scoped>\n",
              "    .dataframe tbody tr th:only-of-type {\n",
              "        vertical-align: middle;\n",
              "    }\n",
              "\n",
              "    .dataframe tbody tr th {\n",
              "        vertical-align: top;\n",
              "    }\n",
              "\n",
              "    .dataframe thead th {\n",
              "        text-align: right;\n",
              "    }\n",
              "</style>\n",
              "<table border=\"1\" class=\"dataframe\">\n",
              "  <thead>\n",
              "    <tr style=\"text-align: right;\">\n",
              "      <th></th>\n",
              "      <th>business_id</th>\n",
              "      <th>positive_word1</th>\n",
              "      <th>positive_word_count1</th>\n",
              "      <th>positive_word2</th>\n",
              "      <th>positive_word_count2</th>\n",
              "      <th>positive_word3</th>\n",
              "      <th>positive_word_count3</th>\n",
              "      <th>positive_word4</th>\n",
              "      <th>positive_word_count4</th>\n",
              "      <th>positive_word5</th>\n",
              "      <th>...</th>\n",
              "      <th>positive_word11</th>\n",
              "      <th>positive_word_count11</th>\n",
              "      <th>positive_word12</th>\n",
              "      <th>positive_word_count12</th>\n",
              "      <th>positive_word13</th>\n",
              "      <th>positive_word_count13</th>\n",
              "      <th>positive_word14</th>\n",
              "      <th>positive_word_count14</th>\n",
              "      <th>positive_word15</th>\n",
              "      <th>positive_word_count15</th>\n",
              "    </tr>\n",
              "    <tr>\n",
              "      <th>business_id</th>\n",
              "      <th></th>\n",
              "      <th></th>\n",
              "      <th></th>\n",
              "      <th></th>\n",
              "      <th></th>\n",
              "      <th></th>\n",
              "      <th></th>\n",
              "      <th></th>\n",
              "      <th></th>\n",
              "      <th></th>\n",
              "      <th></th>\n",
              "      <th></th>\n",
              "      <th></th>\n",
              "      <th></th>\n",
              "      <th></th>\n",
              "      <th></th>\n",
              "      <th></th>\n",
              "      <th></th>\n",
              "      <th></th>\n",
              "      <th></th>\n",
              "      <th></th>\n",
              "    </tr>\n",
              "  </thead>\n",
              "  <tbody>\n",
              "    <tr>\n",
              "      <th>-1wnOZFsvsJPEXh_hWcmMA</th>\n",
              "      <td>-1wnOZFsvsJPEXh_hWcmMA</td>\n",
              "      <td>food</td>\n",
              "      <td>5.0</td>\n",
              "      <td>taco</td>\n",
              "      <td>4.0</td>\n",
              "      <td>burger</td>\n",
              "      <td>4.0</td>\n",
              "      <td>fresh</td>\n",
              "      <td>4.0</td>\n",
              "      <td>delicious</td>\n",
              "      <td>...</td>\n",
              "      <td>staff</td>\n",
              "      <td>3.0</td>\n",
              "      <td>friendly</td>\n",
              "      <td>3.0</td>\n",
              "      <td>special</td>\n",
              "      <td>3.0</td>\n",
              "      <td>beer</td>\n",
              "      <td>3.0</td>\n",
              "      <td>menu</td>\n",
              "      <td>2.0</td>\n",
              "    </tr>\n",
              "    <tr>\n",
              "      <th>-2gmbMDzKgYZ_8DOnJtPyw</th>\n",
              "      <td>-2gmbMDzKgYZ_8DOnJtPyw</td>\n",
              "      <td>chicken</td>\n",
              "      <td>8.0</td>\n",
              "      <td>crab</td>\n",
              "      <td>8.0</td>\n",
              "      <td>place</td>\n",
              "      <td>7.0</td>\n",
              "      <td>rice</td>\n",
              "      <td>7.0</td>\n",
              "      <td>chinese</td>\n",
              "      <td>...</td>\n",
              "      <td>meal</td>\n",
              "      <td>4.0</td>\n",
              "      <td>order</td>\n",
              "      <td>4.0</td>\n",
              "      <td>really</td>\n",
              "      <td>4.0</td>\n",
              "      <td>fresh</td>\n",
              "      <td>3.0</td>\n",
              "      <td>ordered</td>\n",
              "      <td>3.0</td>\n",
              "    </tr>\n",
              "    <tr>\n",
              "      <th>-6OjnX3ZdDOhHxWR60wysg</th>\n",
              "      <td>-6OjnX3ZdDOhHxWR60wysg</td>\n",
              "      <td>good</td>\n",
              "      <td>38.0</td>\n",
              "      <td>food</td>\n",
              "      <td>32.0</td>\n",
              "      <td>place</td>\n",
              "      <td>31.0</td>\n",
              "      <td>time</td>\n",
              "      <td>28.0</td>\n",
              "      <td>really</td>\n",
              "      <td>...</td>\n",
              "      <td>chicken</td>\n",
              "      <td>17.0</td>\n",
              "      <td>menu</td>\n",
              "      <td>16.0</td>\n",
              "      <td>would</td>\n",
              "      <td>16.0</td>\n",
              "      <td>ordered</td>\n",
              "      <td>16.0</td>\n",
              "      <td>service</td>\n",
              "      <td>16.0</td>\n",
              "    </tr>\n",
              "    <tr>\n",
              "      <th>-6jVwUuXC1-dyr2YRCEU6Q</th>\n",
              "      <td>-6jVwUuXC1-dyr2YRCEU6Q</td>\n",
              "      <td>chicken</td>\n",
              "      <td>138.0</td>\n",
              "      <td>indian</td>\n",
              "      <td>130.0</td>\n",
              "      <td>good</td>\n",
              "      <td>111.0</td>\n",
              "      <td>place</td>\n",
              "      <td>106.0</td>\n",
              "      <td>lunch</td>\n",
              "      <td>...</td>\n",
              "      <td>rice</td>\n",
              "      <td>50.0</td>\n",
              "      <td>great</td>\n",
              "      <td>48.0</td>\n",
              "      <td>time</td>\n",
              "      <td>47.0</td>\n",
              "      <td>masala</td>\n",
              "      <td>43.0</td>\n",
              "      <td>order</td>\n",
              "      <td>42.0</td>\n",
              "    </tr>\n",
              "    <tr>\n",
              "      <th>-6kNhGurAbdNQanqbAaoMg</th>\n",
              "      <td>-6kNhGurAbdNQanqbAaoMg</td>\n",
              "      <td>imos</td>\n",
              "      <td>14.0</td>\n",
              "      <td>cheese</td>\n",
              "      <td>7.0</td>\n",
              "      <td>provel</td>\n",
              "      <td>7.0</td>\n",
              "      <td>location</td>\n",
              "      <td>5.0</td>\n",
              "      <td>like</td>\n",
              "      <td>...</td>\n",
              "      <td>people</td>\n",
              "      <td>4.0</td>\n",
              "      <td>love</td>\n",
              "      <td>4.0</td>\n",
              "      <td>sauce</td>\n",
              "      <td>4.0</td>\n",
              "      <td>change</td>\n",
              "      <td>3.0</td>\n",
              "      <td>best</td>\n",
              "      <td>3.0</td>\n",
              "    </tr>\n",
              "    <tr>\n",
              "      <th>-78Va3llKcPbL6SW4is8lw</th>\n",
              "      <td>-78Va3llKcPbL6SW4is8lw</td>\n",
              "      <td>food</td>\n",
              "      <td>70.0</td>\n",
              "      <td>salad</td>\n",
              "      <td>52.0</td>\n",
              "      <td>good</td>\n",
              "      <td>51.0</td>\n",
              "      <td>place</td>\n",
              "      <td>46.0</td>\n",
              "      <td>service</td>\n",
              "      <td>...</td>\n",
              "      <td>delicious</td>\n",
              "      <td>29.0</td>\n",
              "      <td>well</td>\n",
              "      <td>28.0</td>\n",
              "      <td>sauce</td>\n",
              "      <td>28.0</td>\n",
              "      <td>best</td>\n",
              "      <td>27.0</td>\n",
              "      <td>ordered</td>\n",
              "      <td>26.0</td>\n",
              "    </tr>\n",
              "    <tr>\n",
              "      <th>-8jIGHKz1-Tnv2X85kxbvQ</th>\n",
              "      <td>-8jIGHKz1-Tnv2X85kxbvQ</td>\n",
              "      <td>good</td>\n",
              "      <td>7.0</td>\n",
              "      <td>always</td>\n",
              "      <td>7.0</td>\n",
              "      <td>chinese</td>\n",
              "      <td>7.0</td>\n",
              "      <td>chicken</td>\n",
              "      <td>7.0</td>\n",
              "      <td>love</td>\n",
              "      <td>...</td>\n",
              "      <td>order</td>\n",
              "      <td>4.0</td>\n",
              "      <td>service</td>\n",
              "      <td>4.0</td>\n",
              "      <td>menu</td>\n",
              "      <td>4.0</td>\n",
              "      <td>broccoli</td>\n",
              "      <td>4.0</td>\n",
              "      <td>soup</td>\n",
              "      <td>3.0</td>\n",
              "    </tr>\n",
              "    <tr>\n",
              "      <th>-8xqG21DUzav7yIp5lS6jw</th>\n",
              "      <td>-8xqG21DUzav7yIp5lS6jw</td>\n",
              "      <td>place</td>\n",
              "      <td>24.0</td>\n",
              "      <td>great</td>\n",
              "      <td>22.0</td>\n",
              "      <td>time</td>\n",
              "      <td>17.0</td>\n",
              "      <td>love</td>\n",
              "      <td>15.0</td>\n",
              "      <td>good</td>\n",
              "      <td>...</td>\n",
              "      <td>best</td>\n",
              "      <td>10.0</td>\n",
              "      <td>like</td>\n",
              "      <td>10.0</td>\n",
              "      <td>first</td>\n",
              "      <td>9.0</td>\n",
              "      <td>crust</td>\n",
              "      <td>9.0</td>\n",
              "      <td>cheese</td>\n",
              "      <td>9.0</td>\n",
              "    </tr>\n",
              "    <tr>\n",
              "      <th>-9Kxik9BRNkft5rPcVvSsw</th>\n",
              "      <td>-9Kxik9BRNkft5rPcVvSsw</td>\n",
              "      <td>wing</td>\n",
              "      <td>17.0</td>\n",
              "      <td>good</td>\n",
              "      <td>16.0</td>\n",
              "      <td>service</td>\n",
              "      <td>15.0</td>\n",
              "      <td>great</td>\n",
              "      <td>13.0</td>\n",
              "      <td>chicken</td>\n",
              "      <td>...</td>\n",
              "      <td>back</td>\n",
              "      <td>7.0</td>\n",
              "      <td>server</td>\n",
              "      <td>7.0</td>\n",
              "      <td>friendly</td>\n",
              "      <td>7.0</td>\n",
              "      <td>favorite</td>\n",
              "      <td>6.0</td>\n",
              "      <td>like</td>\n",
              "      <td>6.0</td>\n",
              "    </tr>\n",
              "    <tr>\n",
              "      <th>-Bsw0AjWemVa8D_7g7-9Kg</th>\n",
              "      <td>-Bsw0AjWemVa8D_7g7-9Kg</td>\n",
              "      <td>drink</td>\n",
              "      <td>16.0</td>\n",
              "      <td>music</td>\n",
              "      <td>16.0</td>\n",
              "      <td>great</td>\n",
              "      <td>12.0</td>\n",
              "      <td>sushi</td>\n",
              "      <td>9.0</td>\n",
              "      <td>service</td>\n",
              "      <td>...</td>\n",
              "      <td>dont</td>\n",
              "      <td>5.0</td>\n",
              "      <td>play</td>\n",
              "      <td>5.0</td>\n",
              "      <td>food</td>\n",
              "      <td>5.0</td>\n",
              "      <td>night</td>\n",
              "      <td>5.0</td>\n",
              "      <td>really</td>\n",
              "      <td>5.0</td>\n",
              "    </tr>\n",
              "  </tbody>\n",
              "</table>\n",
              "<p>10 rows × 31 columns</p>\n",
              "</div>\n",
              "      <button class=\"colab-df-convert\" onclick=\"convertToInteractive('df-e3bab126-f4c8-4057-8a2c-b2993c248fa5')\"\n",
              "              title=\"Convert this dataframe to an interactive table.\"\n",
              "              style=\"display:none;\">\n",
              "        \n",
              "  <svg xmlns=\"http://www.w3.org/2000/svg\" height=\"24px\"viewBox=\"0 0 24 24\"\n",
              "       width=\"24px\">\n",
              "    <path d=\"M0 0h24v24H0V0z\" fill=\"none\"/>\n",
              "    <path d=\"M18.56 5.44l.94 2.06.94-2.06 2.06-.94-2.06-.94-.94-2.06-.94 2.06-2.06.94zm-11 1L8.5 8.5l.94-2.06 2.06-.94-2.06-.94L8.5 2.5l-.94 2.06-2.06.94zm10 10l.94 2.06.94-2.06 2.06-.94-2.06-.94-.94-2.06-.94 2.06-2.06.94z\"/><path d=\"M17.41 7.96l-1.37-1.37c-.4-.4-.92-.59-1.43-.59-.52 0-1.04.2-1.43.59L10.3 9.45l-7.72 7.72c-.78.78-.78 2.05 0 2.83L4 21.41c.39.39.9.59 1.41.59.51 0 1.02-.2 1.41-.59l7.78-7.78 2.81-2.81c.8-.78.8-2.07 0-2.86zM5.41 20L4 18.59l7.72-7.72 1.47 1.35L5.41 20z\"/>\n",
              "  </svg>\n",
              "      </button>\n",
              "      \n",
              "  <style>\n",
              "    .colab-df-container {\n",
              "      display:flex;\n",
              "      flex-wrap:wrap;\n",
              "      gap: 12px;\n",
              "    }\n",
              "\n",
              "    .colab-df-convert {\n",
              "      background-color: #E8F0FE;\n",
              "      border: none;\n",
              "      border-radius: 50%;\n",
              "      cursor: pointer;\n",
              "      display: none;\n",
              "      fill: #1967D2;\n",
              "      height: 32px;\n",
              "      padding: 0 0 0 0;\n",
              "      width: 32px;\n",
              "    }\n",
              "\n",
              "    .colab-df-convert:hover {\n",
              "      background-color: #E2EBFA;\n",
              "      box-shadow: 0px 1px 2px rgba(60, 64, 67, 0.3), 0px 1px 3px 1px rgba(60, 64, 67, 0.15);\n",
              "      fill: #174EA6;\n",
              "    }\n",
              "\n",
              "    [theme=dark] .colab-df-convert {\n",
              "      background-color: #3B4455;\n",
              "      fill: #D2E3FC;\n",
              "    }\n",
              "\n",
              "    [theme=dark] .colab-df-convert:hover {\n",
              "      background-color: #434B5C;\n",
              "      box-shadow: 0px 1px 3px 1px rgba(0, 0, 0, 0.15);\n",
              "      filter: drop-shadow(0px 1px 2px rgba(0, 0, 0, 0.3));\n",
              "      fill: #FFFFFF;\n",
              "    }\n",
              "  </style>\n",
              "\n",
              "      <script>\n",
              "        const buttonEl =\n",
              "          document.querySelector('#df-e3bab126-f4c8-4057-8a2c-b2993c248fa5 button.colab-df-convert');\n",
              "        buttonEl.style.display =\n",
              "          google.colab.kernel.accessAllowed ? 'block' : 'none';\n",
              "\n",
              "        async function convertToInteractive(key) {\n",
              "          const element = document.querySelector('#df-e3bab126-f4c8-4057-8a2c-b2993c248fa5');\n",
              "          const dataTable =\n",
              "            await google.colab.kernel.invokeFunction('convertToInteractive',\n",
              "                                                     [key], {});\n",
              "          if (!dataTable) return;\n",
              "\n",
              "          const docLinkHtml = 'Like what you see? Visit the ' +\n",
              "            '<a target=\"_blank\" href=https://colab.research.google.com/notebooks/data_table.ipynb>data table notebook</a>'\n",
              "            + ' to learn more about interactive tables.';\n",
              "          element.innerHTML = '';\n",
              "          dataTable['output_type'] = 'display_data';\n",
              "          await google.colab.output.renderOutput(dataTable, element);\n",
              "          const docLink = document.createElement('div');\n",
              "          docLink.innerHTML = docLinkHtml;\n",
              "          element.appendChild(docLink);\n",
              "        }\n",
              "      </script>\n",
              "    </div>\n",
              "  </div>\n",
              "  "
            ]
          },
          "metadata": {},
          "execution_count": 21
        }
      ]
    },
    {
      "cell_type": "code",
      "source": [
        "df_positive_top_words.to_csv('/content/gdrive/MyDrive/Data/positive_top_words.csv', index = False)"
      ],
      "metadata": {
        "id": "50WpoP0SGMo6"
      },
      "execution_count": 22,
      "outputs": []
    },
    {
      "cell_type": "markdown",
      "source": [
        "## Combined Dataframe of Top Positive and Negative Words"
      ],
      "metadata": {
        "id": "nqqlGxXHLAiU"
      }
    },
    {
      "cell_type": "code",
      "source": [
        "df_positive_top_words =pd.read_csv('/content/gdrive/MyDrive/Data/positive_top_words.csv')"
      ],
      "metadata": {
        "id": "aQdufvrsLNXf"
      },
      "execution_count": null,
      "outputs": []
    },
    {
      "cell_type": "code",
      "source": [
        "df_positive_top_words = df_positive_top_words.reset_index(drop=True)"
      ],
      "metadata": {
        "id": "MqcdWJU8L-Pz"
      },
      "execution_count": 25,
      "outputs": []
    },
    {
      "cell_type": "code",
      "source": [
        "df_negative_top_words =pd.read_csv('/content/gdrive/MyDrive/Data/negative_top_words.csv')"
      ],
      "metadata": {
        "id": "CzVB8uJ5LPO6"
      },
      "execution_count": 23,
      "outputs": []
    },
    {
      "cell_type": "code",
      "source": [
        "top_words=pd.merge(df_positive_top_words,df_negative_top_words, left_on='business_id', right_on='business_id', how='outer')"
      ],
      "metadata": {
        "id": "l_PjhAiiMtWW"
      },
      "execution_count": 32,
      "outputs": []
    },
    {
      "cell_type": "code",
      "source": [
        "top_words.head(10)"
      ],
      "metadata": {
        "colab": {
          "base_uri": "https://localhost:8080/",
          "height": 456
        },
        "id": "H7RFg9NeNdYD",
        "outputId": "e820eabe-78a8-4221-e53f-cdd100a92d8f"
      },
      "execution_count": 34,
      "outputs": [
        {
          "output_type": "execute_result",
          "data": {
            "text/plain": [
              "              business_id positive_word1  positive_word_count1 positive_word2  \\\n",
              "0  -1wnOZFsvsJPEXh_hWcmMA           food                   5.0           taco   \n",
              "1  -2gmbMDzKgYZ_8DOnJtPyw        chicken                   8.0           crab   \n",
              "2  -6OjnX3ZdDOhHxWR60wysg           good                  38.0           food   \n",
              "3  -6jVwUuXC1-dyr2YRCEU6Q        chicken                 138.0         indian   \n",
              "4  -6kNhGurAbdNQanqbAaoMg           imos                  14.0         cheese   \n",
              "5  -78Va3llKcPbL6SW4is8lw           food                  70.0          salad   \n",
              "6  -8jIGHKz1-Tnv2X85kxbvQ           good                   7.0         always   \n",
              "7  -8xqG21DUzav7yIp5lS6jw          place                  24.0          great   \n",
              "8  -9Kxik9BRNkft5rPcVvSsw           wing                  17.0           good   \n",
              "9  -Bsw0AjWemVa8D_7g7-9Kg          drink                  16.0          music   \n",
              "\n",
              "   positive_word_count2 positive_word3  positive_word_count3 positive_word4  \\\n",
              "0                   4.0         burger                   4.0          fresh   \n",
              "1                   8.0          place                   7.0           rice   \n",
              "2                  32.0          place                  31.0           time   \n",
              "3                 130.0           good                 111.0          place   \n",
              "4                   7.0         provel                   7.0       location   \n",
              "5                  52.0           good                  51.0          place   \n",
              "6                   7.0        chinese                   7.0        chicken   \n",
              "7                  22.0           time                  17.0           love   \n",
              "8                  16.0        service                  15.0          great   \n",
              "9                  16.0          great                  12.0          sushi   \n",
              "\n",
              "   positive_word_count4 positive_word5  ...  negative_word11  \\\n",
              "0                   4.0      delicious  ...            asked   \n",
              "1                   7.0        chinese  ...            owner   \n",
              "2                  28.0         really  ...          ordered   \n",
              "3                 106.0          lunch  ...             good   \n",
              "4                   5.0           like  ...             told   \n",
              "5                  46.0        service  ...             dont   \n",
              "6                   7.0           love  ...            first   \n",
              "7                  15.0           good  ...             left   \n",
              "8                  13.0        chicken  ...            would   \n",
              "9                   9.0        service  ...             know   \n",
              "\n",
              "  negative_word_count11  negative_word12 negative_word_count12  \\\n",
              "0                   1.0          leaving                   1.0   \n",
              "1                   5.0             said                   5.0   \n",
              "2                   8.0            steak                   7.0   \n",
              "3                  11.0            curry                  10.0   \n",
              "4                   2.0            front                   2.0   \n",
              "5                   8.0            would                   7.0   \n",
              "6                   2.0             life                   2.0   \n",
              "7                   1.0             slow                   1.0   \n",
              "8                  20.0            drink                  18.0   \n",
              "9                  10.0          manager                   9.0   \n",
              "\n",
              "   negative_word13 negative_word_count13  negative_word14  \\\n",
              "0           ticket                   1.0      recommended   \n",
              "1          service                   5.0           minute   \n",
              "2             ever                   7.0            place   \n",
              "3             give                  10.0            asked   \n",
              "4            never                   2.0            crust   \n",
              "5             take                   7.0            place   \n",
              "6             hour                   2.0           noodle   \n",
              "7             thin                   1.0          service   \n",
              "8             even                  17.0            never   \n",
              "9             dont                   9.0         bathroom   \n",
              "\n",
              "  negative_word_count14  negative_word15 negative_word_count15  \n",
              "0                   1.0             high                   1.0  \n",
              "1                   5.0             rice                   5.0  \n",
              "2                   7.0            asked                   7.0  \n",
              "3                  10.0             time                  10.0  \n",
              "4                   2.0           flavor                   2.0  \n",
              "5                   7.0         customer                   7.0  \n",
              "6                   2.0            would                   2.0  \n",
              "7                   1.0             last                   1.0  \n",
              "8                  17.0          ordered                  17.0  \n",
              "9                   9.0          ordered                   9.0  \n",
              "\n",
              "[10 rows x 61 columns]"
            ],
            "text/html": [
              "\n",
              "  <div id=\"df-c319b2e5-d265-477b-af75-fb0cb1aca477\">\n",
              "    <div class=\"colab-df-container\">\n",
              "      <div>\n",
              "<style scoped>\n",
              "    .dataframe tbody tr th:only-of-type {\n",
              "        vertical-align: middle;\n",
              "    }\n",
              "\n",
              "    .dataframe tbody tr th {\n",
              "        vertical-align: top;\n",
              "    }\n",
              "\n",
              "    .dataframe thead th {\n",
              "        text-align: right;\n",
              "    }\n",
              "</style>\n",
              "<table border=\"1\" class=\"dataframe\">\n",
              "  <thead>\n",
              "    <tr style=\"text-align: right;\">\n",
              "      <th></th>\n",
              "      <th>business_id</th>\n",
              "      <th>positive_word1</th>\n",
              "      <th>positive_word_count1</th>\n",
              "      <th>positive_word2</th>\n",
              "      <th>positive_word_count2</th>\n",
              "      <th>positive_word3</th>\n",
              "      <th>positive_word_count3</th>\n",
              "      <th>positive_word4</th>\n",
              "      <th>positive_word_count4</th>\n",
              "      <th>positive_word5</th>\n",
              "      <th>...</th>\n",
              "      <th>negative_word11</th>\n",
              "      <th>negative_word_count11</th>\n",
              "      <th>negative_word12</th>\n",
              "      <th>negative_word_count12</th>\n",
              "      <th>negative_word13</th>\n",
              "      <th>negative_word_count13</th>\n",
              "      <th>negative_word14</th>\n",
              "      <th>negative_word_count14</th>\n",
              "      <th>negative_word15</th>\n",
              "      <th>negative_word_count15</th>\n",
              "    </tr>\n",
              "  </thead>\n",
              "  <tbody>\n",
              "    <tr>\n",
              "      <th>0</th>\n",
              "      <td>-1wnOZFsvsJPEXh_hWcmMA</td>\n",
              "      <td>food</td>\n",
              "      <td>5.0</td>\n",
              "      <td>taco</td>\n",
              "      <td>4.0</td>\n",
              "      <td>burger</td>\n",
              "      <td>4.0</td>\n",
              "      <td>fresh</td>\n",
              "      <td>4.0</td>\n",
              "      <td>delicious</td>\n",
              "      <td>...</td>\n",
              "      <td>asked</td>\n",
              "      <td>1.0</td>\n",
              "      <td>leaving</td>\n",
              "      <td>1.0</td>\n",
              "      <td>ticket</td>\n",
              "      <td>1.0</td>\n",
              "      <td>recommended</td>\n",
              "      <td>1.0</td>\n",
              "      <td>high</td>\n",
              "      <td>1.0</td>\n",
              "    </tr>\n",
              "    <tr>\n",
              "      <th>1</th>\n",
              "      <td>-2gmbMDzKgYZ_8DOnJtPyw</td>\n",
              "      <td>chicken</td>\n",
              "      <td>8.0</td>\n",
              "      <td>crab</td>\n",
              "      <td>8.0</td>\n",
              "      <td>place</td>\n",
              "      <td>7.0</td>\n",
              "      <td>rice</td>\n",
              "      <td>7.0</td>\n",
              "      <td>chinese</td>\n",
              "      <td>...</td>\n",
              "      <td>owner</td>\n",
              "      <td>5.0</td>\n",
              "      <td>said</td>\n",
              "      <td>5.0</td>\n",
              "      <td>service</td>\n",
              "      <td>5.0</td>\n",
              "      <td>minute</td>\n",
              "      <td>5.0</td>\n",
              "      <td>rice</td>\n",
              "      <td>5.0</td>\n",
              "    </tr>\n",
              "    <tr>\n",
              "      <th>2</th>\n",
              "      <td>-6OjnX3ZdDOhHxWR60wysg</td>\n",
              "      <td>good</td>\n",
              "      <td>38.0</td>\n",
              "      <td>food</td>\n",
              "      <td>32.0</td>\n",
              "      <td>place</td>\n",
              "      <td>31.0</td>\n",
              "      <td>time</td>\n",
              "      <td>28.0</td>\n",
              "      <td>really</td>\n",
              "      <td>...</td>\n",
              "      <td>ordered</td>\n",
              "      <td>8.0</td>\n",
              "      <td>steak</td>\n",
              "      <td>7.0</td>\n",
              "      <td>ever</td>\n",
              "      <td>7.0</td>\n",
              "      <td>place</td>\n",
              "      <td>7.0</td>\n",
              "      <td>asked</td>\n",
              "      <td>7.0</td>\n",
              "    </tr>\n",
              "    <tr>\n",
              "      <th>3</th>\n",
              "      <td>-6jVwUuXC1-dyr2YRCEU6Q</td>\n",
              "      <td>chicken</td>\n",
              "      <td>138.0</td>\n",
              "      <td>indian</td>\n",
              "      <td>130.0</td>\n",
              "      <td>good</td>\n",
              "      <td>111.0</td>\n",
              "      <td>place</td>\n",
              "      <td>106.0</td>\n",
              "      <td>lunch</td>\n",
              "      <td>...</td>\n",
              "      <td>good</td>\n",
              "      <td>11.0</td>\n",
              "      <td>curry</td>\n",
              "      <td>10.0</td>\n",
              "      <td>give</td>\n",
              "      <td>10.0</td>\n",
              "      <td>asked</td>\n",
              "      <td>10.0</td>\n",
              "      <td>time</td>\n",
              "      <td>10.0</td>\n",
              "    </tr>\n",
              "    <tr>\n",
              "      <th>4</th>\n",
              "      <td>-6kNhGurAbdNQanqbAaoMg</td>\n",
              "      <td>imos</td>\n",
              "      <td>14.0</td>\n",
              "      <td>cheese</td>\n",
              "      <td>7.0</td>\n",
              "      <td>provel</td>\n",
              "      <td>7.0</td>\n",
              "      <td>location</td>\n",
              "      <td>5.0</td>\n",
              "      <td>like</td>\n",
              "      <td>...</td>\n",
              "      <td>told</td>\n",
              "      <td>2.0</td>\n",
              "      <td>front</td>\n",
              "      <td>2.0</td>\n",
              "      <td>never</td>\n",
              "      <td>2.0</td>\n",
              "      <td>crust</td>\n",
              "      <td>2.0</td>\n",
              "      <td>flavor</td>\n",
              "      <td>2.0</td>\n",
              "    </tr>\n",
              "    <tr>\n",
              "      <th>5</th>\n",
              "      <td>-78Va3llKcPbL6SW4is8lw</td>\n",
              "      <td>food</td>\n",
              "      <td>70.0</td>\n",
              "      <td>salad</td>\n",
              "      <td>52.0</td>\n",
              "      <td>good</td>\n",
              "      <td>51.0</td>\n",
              "      <td>place</td>\n",
              "      <td>46.0</td>\n",
              "      <td>service</td>\n",
              "      <td>...</td>\n",
              "      <td>dont</td>\n",
              "      <td>8.0</td>\n",
              "      <td>would</td>\n",
              "      <td>7.0</td>\n",
              "      <td>take</td>\n",
              "      <td>7.0</td>\n",
              "      <td>place</td>\n",
              "      <td>7.0</td>\n",
              "      <td>customer</td>\n",
              "      <td>7.0</td>\n",
              "    </tr>\n",
              "    <tr>\n",
              "      <th>6</th>\n",
              "      <td>-8jIGHKz1-Tnv2X85kxbvQ</td>\n",
              "      <td>good</td>\n",
              "      <td>7.0</td>\n",
              "      <td>always</td>\n",
              "      <td>7.0</td>\n",
              "      <td>chinese</td>\n",
              "      <td>7.0</td>\n",
              "      <td>chicken</td>\n",
              "      <td>7.0</td>\n",
              "      <td>love</td>\n",
              "      <td>...</td>\n",
              "      <td>first</td>\n",
              "      <td>2.0</td>\n",
              "      <td>life</td>\n",
              "      <td>2.0</td>\n",
              "      <td>hour</td>\n",
              "      <td>2.0</td>\n",
              "      <td>noodle</td>\n",
              "      <td>2.0</td>\n",
              "      <td>would</td>\n",
              "      <td>2.0</td>\n",
              "    </tr>\n",
              "    <tr>\n",
              "      <th>7</th>\n",
              "      <td>-8xqG21DUzav7yIp5lS6jw</td>\n",
              "      <td>place</td>\n",
              "      <td>24.0</td>\n",
              "      <td>great</td>\n",
              "      <td>22.0</td>\n",
              "      <td>time</td>\n",
              "      <td>17.0</td>\n",
              "      <td>love</td>\n",
              "      <td>15.0</td>\n",
              "      <td>good</td>\n",
              "      <td>...</td>\n",
              "      <td>left</td>\n",
              "      <td>1.0</td>\n",
              "      <td>slow</td>\n",
              "      <td>1.0</td>\n",
              "      <td>thin</td>\n",
              "      <td>1.0</td>\n",
              "      <td>service</td>\n",
              "      <td>1.0</td>\n",
              "      <td>last</td>\n",
              "      <td>1.0</td>\n",
              "    </tr>\n",
              "    <tr>\n",
              "      <th>8</th>\n",
              "      <td>-9Kxik9BRNkft5rPcVvSsw</td>\n",
              "      <td>wing</td>\n",
              "      <td>17.0</td>\n",
              "      <td>good</td>\n",
              "      <td>16.0</td>\n",
              "      <td>service</td>\n",
              "      <td>15.0</td>\n",
              "      <td>great</td>\n",
              "      <td>13.0</td>\n",
              "      <td>chicken</td>\n",
              "      <td>...</td>\n",
              "      <td>would</td>\n",
              "      <td>20.0</td>\n",
              "      <td>drink</td>\n",
              "      <td>18.0</td>\n",
              "      <td>even</td>\n",
              "      <td>17.0</td>\n",
              "      <td>never</td>\n",
              "      <td>17.0</td>\n",
              "      <td>ordered</td>\n",
              "      <td>17.0</td>\n",
              "    </tr>\n",
              "    <tr>\n",
              "      <th>9</th>\n",
              "      <td>-Bsw0AjWemVa8D_7g7-9Kg</td>\n",
              "      <td>drink</td>\n",
              "      <td>16.0</td>\n",
              "      <td>music</td>\n",
              "      <td>16.0</td>\n",
              "      <td>great</td>\n",
              "      <td>12.0</td>\n",
              "      <td>sushi</td>\n",
              "      <td>9.0</td>\n",
              "      <td>service</td>\n",
              "      <td>...</td>\n",
              "      <td>know</td>\n",
              "      <td>10.0</td>\n",
              "      <td>manager</td>\n",
              "      <td>9.0</td>\n",
              "      <td>dont</td>\n",
              "      <td>9.0</td>\n",
              "      <td>bathroom</td>\n",
              "      <td>9.0</td>\n",
              "      <td>ordered</td>\n",
              "      <td>9.0</td>\n",
              "    </tr>\n",
              "  </tbody>\n",
              "</table>\n",
              "<p>10 rows × 61 columns</p>\n",
              "</div>\n",
              "      <button class=\"colab-df-convert\" onclick=\"convertToInteractive('df-c319b2e5-d265-477b-af75-fb0cb1aca477')\"\n",
              "              title=\"Convert this dataframe to an interactive table.\"\n",
              "              style=\"display:none;\">\n",
              "        \n",
              "  <svg xmlns=\"http://www.w3.org/2000/svg\" height=\"24px\"viewBox=\"0 0 24 24\"\n",
              "       width=\"24px\">\n",
              "    <path d=\"M0 0h24v24H0V0z\" fill=\"none\"/>\n",
              "    <path d=\"M18.56 5.44l.94 2.06.94-2.06 2.06-.94-2.06-.94-.94-2.06-.94 2.06-2.06.94zm-11 1L8.5 8.5l.94-2.06 2.06-.94-2.06-.94L8.5 2.5l-.94 2.06-2.06.94zm10 10l.94 2.06.94-2.06 2.06-.94-2.06-.94-.94-2.06-.94 2.06-2.06.94z\"/><path d=\"M17.41 7.96l-1.37-1.37c-.4-.4-.92-.59-1.43-.59-.52 0-1.04.2-1.43.59L10.3 9.45l-7.72 7.72c-.78.78-.78 2.05 0 2.83L4 21.41c.39.39.9.59 1.41.59.51 0 1.02-.2 1.41-.59l7.78-7.78 2.81-2.81c.8-.78.8-2.07 0-2.86zM5.41 20L4 18.59l7.72-7.72 1.47 1.35L5.41 20z\"/>\n",
              "  </svg>\n",
              "      </button>\n",
              "      \n",
              "  <style>\n",
              "    .colab-df-container {\n",
              "      display:flex;\n",
              "      flex-wrap:wrap;\n",
              "      gap: 12px;\n",
              "    }\n",
              "\n",
              "    .colab-df-convert {\n",
              "      background-color: #E8F0FE;\n",
              "      border: none;\n",
              "      border-radius: 50%;\n",
              "      cursor: pointer;\n",
              "      display: none;\n",
              "      fill: #1967D2;\n",
              "      height: 32px;\n",
              "      padding: 0 0 0 0;\n",
              "      width: 32px;\n",
              "    }\n",
              "\n",
              "    .colab-df-convert:hover {\n",
              "      background-color: #E2EBFA;\n",
              "      box-shadow: 0px 1px 2px rgba(60, 64, 67, 0.3), 0px 1px 3px 1px rgba(60, 64, 67, 0.15);\n",
              "      fill: #174EA6;\n",
              "    }\n",
              "\n",
              "    [theme=dark] .colab-df-convert {\n",
              "      background-color: #3B4455;\n",
              "      fill: #D2E3FC;\n",
              "    }\n",
              "\n",
              "    [theme=dark] .colab-df-convert:hover {\n",
              "      background-color: #434B5C;\n",
              "      box-shadow: 0px 1px 3px 1px rgba(0, 0, 0, 0.15);\n",
              "      filter: drop-shadow(0px 1px 2px rgba(0, 0, 0, 0.3));\n",
              "      fill: #FFFFFF;\n",
              "    }\n",
              "  </style>\n",
              "\n",
              "      <script>\n",
              "        const buttonEl =\n",
              "          document.querySelector('#df-c319b2e5-d265-477b-af75-fb0cb1aca477 button.colab-df-convert');\n",
              "        buttonEl.style.display =\n",
              "          google.colab.kernel.accessAllowed ? 'block' : 'none';\n",
              "\n",
              "        async function convertToInteractive(key) {\n",
              "          const element = document.querySelector('#df-c319b2e5-d265-477b-af75-fb0cb1aca477');\n",
              "          const dataTable =\n",
              "            await google.colab.kernel.invokeFunction('convertToInteractive',\n",
              "                                                     [key], {});\n",
              "          if (!dataTable) return;\n",
              "\n",
              "          const docLinkHtml = 'Like what you see? Visit the ' +\n",
              "            '<a target=\"_blank\" href=https://colab.research.google.com/notebooks/data_table.ipynb>data table notebook</a>'\n",
              "            + ' to learn more about interactive tables.';\n",
              "          element.innerHTML = '';\n",
              "          dataTable['output_type'] = 'display_data';\n",
              "          await google.colab.output.renderOutput(dataTable, element);\n",
              "          const docLink = document.createElement('div');\n",
              "          docLink.innerHTML = docLinkHtml;\n",
              "          element.appendChild(docLink);\n",
              "        }\n",
              "      </script>\n",
              "    </div>\n",
              "  </div>\n",
              "  "
            ]
          },
          "metadata": {},
          "execution_count": 34
        }
      ]
    },
    {
      "cell_type": "code",
      "source": [
        "top_words.shape"
      ],
      "metadata": {
        "colab": {
          "base_uri": "https://localhost:8080/"
        },
        "id": "_H82vVzRMFEP",
        "outputId": "619872c4-2c03-4948-997d-309f745f6c6e"
      },
      "execution_count": 33,
      "outputs": [
        {
          "output_type": "execute_result",
          "data": {
            "text/plain": [
              "(3181, 61)"
            ]
          },
          "metadata": {},
          "execution_count": 33
        }
      ]
    },
    {
      "cell_type": "markdown",
      "source": [
        "## Load Business Dataset"
      ],
      "metadata": {
        "id": "8p-uBrOCSLl-"
      }
    },
    {
      "cell_type": "code",
      "source": [
        "df_stlouis =pd.read_csv('/content/gdrive/MyDrive/Data/business_df_stlouis.csv')"
      ],
      "metadata": {
        "id": "Dd6K3Rz_m7wy"
      },
      "execution_count": 35,
      "outputs": []
    },
    {
      "cell_type": "code",
      "source": [
        "df_stlouis.shape"
      ],
      "metadata": {
        "colab": {
          "base_uri": "https://localhost:8080/"
        },
        "id": "4wgCbVRom8UX",
        "outputId": "13172089-f1e4-454f-86f1-b80506ee1b14"
      },
      "execution_count": 36,
      "outputs": [
        {
          "output_type": "execute_result",
          "data": {
            "text/plain": [
              "(3181, 69)"
            ]
          },
          "metadata": {},
          "execution_count": 36
        }
      ]
    },
    {
      "cell_type": "markdown",
      "source": [
        "## Combine Business Dataset and Top Words"
      ],
      "metadata": {
        "id": "yYtiZSN7N2xT"
      }
    },
    {
      "cell_type": "code",
      "source": [
        "top_words_by_business = pd.merge(top_words, df_stlouis, on ='business_id')"
      ],
      "metadata": {
        "id": "6mq2yNj6N6tS"
      },
      "execution_count": 37,
      "outputs": []
    },
    {
      "cell_type": "code",
      "source": [
        "top_words_by_business.shape"
      ],
      "metadata": {
        "colab": {
          "base_uri": "https://localhost:8080/"
        },
        "id": "2frTGEtkPGzz",
        "outputId": "d01379b4-721b-4208-9693-f27dc3b3a670"
      },
      "execution_count": 48,
      "outputs": [
        {
          "output_type": "execute_result",
          "data": {
            "text/plain": [
              "(3181, 129)"
            ]
          },
          "metadata": {},
          "execution_count": 48
        }
      ]
    },
    {
      "cell_type": "code",
      "source": [
        "top_words_by_business.to_csv('/content/gdrive/MyDrive/Data/top_words_by_business.csv', index = False)"
      ],
      "metadata": {
        "id": "oYKBVMZUPLxn"
      },
      "execution_count": 49,
      "outputs": []
    }
  ]
}