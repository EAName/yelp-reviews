{
  "cells": [
    {
      "cell_type": "markdown",
      "metadata": {
        "id": "view-in-github",
        "colab_type": "text"
      },
      "source": [
        "<a href=\"https://colab.research.google.com/github/EAName/yelp-reviews/blob/main/Yelp_NLP.ipynb\" target=\"_parent\"><img src=\"https://colab.research.google.com/assets/colab-badge.svg\" alt=\"Open In Colab\"/></a>"
      ]
    },
    {
      "cell_type": "markdown",
      "metadata": {
        "id": "WsePP5VZuxQq"
      },
      "source": [
        "## Imports "
      ]
    },
    {
      "cell_type": "code",
      "execution_count": 1,
      "metadata": {
        "id": "92Dg33FmuxQs"
      },
      "outputs": [],
      "source": [
        "import pandas as pd\n",
        "import numpy as np\n",
        "import os\n",
        "import random\n",
        "import numpy as np\n",
        "import pickle \n",
        "import re,string\n",
        "\n",
        "import nltk\n",
        "from nltk.corpus import stopwords\n",
        "from nltk.stem import PorterStemmer\n",
        "from nltk.stem import WordNetLemmatizer\n",
        "from nltk.tokenize import word_tokenize \n",
        "\n",
        "from sklearn.feature_extraction.text import TfidfVectorizer\n",
        "from sklearn.feature_extraction.text import CountVectorizer\n",
        "from sklearn.cluster import KMeans, AgglomerativeClustering\n",
        "from sklearn.metrics.pairwise import cosine_similarity\n",
        "from sklearn.decomposition import TruncatedSVD, LatentDirichletAllocation\n",
        "from sklearn.svm import SVC\n",
        "from sklearn.preprocessing import LabelEncoder, OneHotEncoder\n",
        "from sklearn.ensemble import RandomForestClassifier\n",
        "from sklearn.metrics import roc_auc_score, accuracy_score, confusion_matrix, silhouette_score\n",
        "from sklearn.metrics import precision_score, recall_score, f1_score, classification_report\n",
        "from sklearn.metrics import mean_squared_error as MSE\n",
        "from sklearn.metrics import mean_absolute_error\n",
        "from sklearn.model_selection import cross_val_score, StratifiedKFold\n",
        "from sklearn.tree import DecisionTreeClassifier\n",
        "from sklearn.naive_bayes import MultinomialNB\n",
        "from sklearn.linear_model import LogisticRegression\n",
        "from sklearn.ensemble import RandomForestRegressor\n",
        "from sklearn.metrics import accuracy_score\n",
        "from sklearn.model_selection import train_test_split, KFold\n",
        "from sklearn.manifold import MDS\n",
        "from sklearn.metrics.pairwise import cosine_similarity\n",
        "from sklearn.ensemble import GradientBoostingClassifier\n",
        "from sklearn.svm import LinearSVC\n",
        "\n",
        "\n",
        "\n",
        "from sklearn.model_selection import train_test_split \n",
        "from sklearn.model_selection import GridSearchCV \n",
        "from sklearn.model_selection import cross_val_score \n",
        "from sklearn.model_selection import StratifiedKFold\n",
        "from sklearn.model_selection import KFold \n",
        "from sklearn.model_selection import cross_val_predict\n",
        "\n",
        "\n",
        "import seaborn as sns\n",
        "import matplotlib.pyplot as plt\n",
        "\n",
        "from gensim.models import Word2Vec,LdaMulticore, TfidfModel, CoherenceModel\n",
        "from gensim import corpora\n",
        "from gensim import similarities\n",
        "from gensim.models.doc2vec import Doc2Vec, TaggedDocument\n",
        "from gensim.models import LsiModel,LdaModel\n",
        "\n",
        "from keras.preprocessing.text import Tokenizer\n",
        "#from keras.preprocessing.sequence import pad_sequences\n",
        "from tqdm import tqdm\n",
        "from keras.models import Sequential\n",
        "from keras.layers import Embedding, LSTM, Dense, SpatialDropout1D, GRU\n",
        "from keras.callbacks import EarlyStopping\n",
        "from keras.initializers import Constant\n",
        "from sklearn.model_selection import train_test_split\n",
        "from tensorflow.keras.optimizers import Adam, Nadam, RMSprop\n",
        "from keras import Input\n",
        "\n",
        "from IPython.display import display"
      ]
    },
    {
      "cell_type": "code",
      "source": [
        "nltk.download('stopwords')\n",
        "nltk.download('wordnet')\n",
        "nltk.download('omw-1.4')"
      ],
      "metadata": {
        "colab": {
          "base_uri": "https://localhost:8080/"
        },
        "id": "VGHly-zIpris",
        "outputId": "16351ef9-427f-45b9-e6c2-7845b44f0149"
      },
      "execution_count": 2,
      "outputs": [
        {
          "output_type": "stream",
          "name": "stderr",
          "text": [
            "[nltk_data] Downloading package stopwords to /root/nltk_data...\n",
            "[nltk_data]   Package stopwords is already up-to-date!\n",
            "[nltk_data] Downloading package wordnet to /root/nltk_data...\n",
            "[nltk_data]   Package wordnet is already up-to-date!\n",
            "[nltk_data] Downloading package omw-1.4 to /root/nltk_data...\n",
            "[nltk_data]   Package omw-1.4 is already up-to-date!\n"
          ]
        },
        {
          "output_type": "execute_result",
          "data": {
            "text/plain": [
              "True"
            ]
          },
          "metadata": {},
          "execution_count": 2
        }
      ]
    },
    {
      "cell_type": "code",
      "source": [
        "import warnings\n",
        "warnings.filterwarnings('ignore')"
      ],
      "metadata": {
        "id": "ovbC3RlUpxKS"
      },
      "execution_count": 3,
      "outputs": []
    },
    {
      "cell_type": "code",
      "source": [
        "from google.colab import drive\n",
        "drive.mount('/content/gdrive')"
      ],
      "metadata": {
        "colab": {
          "base_uri": "https://localhost:8080/"
        },
        "id": "xqTk3PNGvHH2",
        "outputId": "4d674ebb-a293-4250-873c-2da800783c9e"
      },
      "execution_count": 4,
      "outputs": [
        {
          "output_type": "stream",
          "name": "stdout",
          "text": [
            "Drive already mounted at /content/gdrive; to attempt to forcibly remount, call drive.mount(\"/content/gdrive\", force_remount=True).\n"
          ]
        }
      ]
    },
    {
      "cell_type": "code",
      "source": [
        "df = pd.read_csv('/content/gdrive/MyDrive/yelp_dataset/yelp_reviews_clean_version4_st_louis.csv')"
      ],
      "metadata": {
        "id": "ofrho4sfu5nc"
      },
      "execution_count": 5,
      "outputs": []
    },
    {
      "cell_type": "code",
      "source": [
        "df.shape"
      ],
      "metadata": {
        "colab": {
          "base_uri": "https://localhost:8080/"
        },
        "id": "MfQeqg9yvQnR",
        "outputId": "81e72a04-0186-4e65-ff86-cd05bb6de39d"
      },
      "execution_count": 6,
      "outputs": [
        {
          "output_type": "execute_result",
          "data": {
            "text/plain": [
              "(292376, 5)"
            ]
          },
          "metadata": {},
          "execution_count": 6
        }
      ]
    },
    {
      "cell_type": "markdown",
      "metadata": {
        "id": "Ede7p75luxQy"
      },
      "source": [
        "**Extract year**"
      ]
    },
    {
      "cell_type": "code",
      "execution_count": 7,
      "metadata": {
        "id": "SggCnX1zuxQy"
      },
      "outputs": [],
      "source": [
        "df['review_year'] = df['date'].apply(lambda x:int(x[:4]))"
      ]
    },
    {
      "cell_type": "markdown",
      "metadata": {
        "id": "-_4Eohp3uxQy"
      },
      "source": [
        "**Look at distribution of reviews by year**"
      ]
    },
    {
      "cell_type": "code",
      "source": [
        "df.review_year.value_counts(ascending= True)"
      ],
      "metadata": {
        "colab": {
          "base_uri": "https://localhost:8080/"
        },
        "id": "8BiT5Omkvh9q",
        "outputId": "420757bc-31b2-4d6f-e783-49bf558b6222"
      },
      "execution_count": 8,
      "outputs": [
        {
          "output_type": "execute_result",
          "data": {
            "text/plain": [
              "2005       70\n",
              "2006      314\n",
              "2007      669\n",
              "2022     1016\n",
              "2008     2867\n",
              "2009     3261\n",
              "2010     9617\n",
              "2011    12709\n",
              "2012    14949\n",
              "2013    18420\n",
              "2020    18472\n",
              "2021    21413\n",
              "2014    23235\n",
              "2015    30111\n",
              "2016    31640\n",
              "2017    33296\n",
              "2018    34368\n",
              "2019    35949\n",
              "Name: review_year, dtype: int64"
            ]
          },
          "metadata": {},
          "execution_count": 8
        }
      ]
    },
    {
      "cell_type": "markdown",
      "metadata": {
        "id": "Du6o1gITuxQy"
      },
      "source": [
        "**Create 1-0 sentiment flag**"
      ]
    },
    {
      "cell_type": "code",
      "execution_count": 9,
      "metadata": {
        "id": "zH9VbEWHuxQy"
      },
      "outputs": [],
      "source": [
        "df['sentiment'] = df['stars'].apply(lambda x: 1 if x >= 4 else 0)"
      ]
    },
    {
      "cell_type": "markdown",
      "metadata": {
        "id": "T7yBmnQguxQz"
      },
      "source": [
        "**Drop reviews older than 2011**"
      ]
    },
    {
      "cell_type": "code",
      "execution_count": 10,
      "metadata": {
        "id": "v3QeIOP6uxQz"
      },
      "outputs": [],
      "source": [
        "#df = df[(df['review_year'] > 2011)]"
      ]
    },
    {
      "cell_type": "code",
      "source": [
        "#df.shape"
      ],
      "metadata": {
        "id": "z9TQ9u8L4QfF"
      },
      "execution_count": 11,
      "outputs": []
    },
    {
      "cell_type": "markdown",
      "metadata": {
        "id": "f2OVxMlpuxQz"
      },
      "source": [
        "## Text Preprocessing "
      ]
    },
    {
      "cell_type": "code",
      "source": [
        "def clean_doc(doc): \n",
        "    #split review into individual words\n",
        "    tokens=doc.split()\n",
        "    re_punc = re.compile('[%s]' % re.escape(string.punctuation))\n",
        "    # remove punctuation from each word\n",
        "    tokens = [re_punc.sub('', w) for w in tokens]\n",
        "\n",
        "    #word lemmzatization    \n",
        "    lemm = WordNetLemmatizer()\n",
        "    tokens=[lemm.lemmatize(word) for word in tokens]\n",
        "\n",
        "    # remove remaining tokens that are not alphabetic\n",
        "    tokens = [word for word in tokens if word.isalpha()]\n",
        "    # filter out short tokens\n",
        "    tokens = [word for word in tokens if len(word) > 3]\n",
        "    #lowercase all words\n",
        "    tokens = [word.lower() for word in tokens]\n",
        "    # filter out stop words\n",
        "    stop_words = set(stopwords.words('english'))\n",
        "    tokens = [w for w in tokens if not w in stop_words]     \n",
        "\n",
        "    # filter out common words\n",
        "    #tokens = [w for w in tokens if not w in ['movie', 'movies', 'films']]      \n",
        "    # # word stemming    \n",
        "    # ps=PorterStemmer()\n",
        "    # tokens=[ps.stem(word) for word in tokens]\n",
        "\n",
        "    return tokens\n",
        "\n",
        "def final_processed_text(doc):\n",
        "    #this is a function to join the processed text back\n",
        "    ' '.join(doc)\n",
        "    return doc"
      ],
      "metadata": {
        "id": "9aA2s_9J1hao"
      },
      "execution_count": 12,
      "outputs": []
    },
    {
      "cell_type": "code",
      "source": [
        "df['cleaned_text'] = df['text'].apply(lambda x: clean_doc(x))\n",
        "\n",
        "final_processed_text = [' '.join(x) for x in df['cleaned_text'].tolist()]\n",
        "df['final_processed_text'] = final_processed_text     #add to dataframe"
      ],
      "metadata": {
        "id": "cFEYh7_b1hc0"
      },
      "execution_count": 13,
      "outputs": []
    },
    {
      "cell_type": "code",
      "source": [
        "df['text length'] = df['text'].apply(len)"
      ],
      "metadata": {
        "id": "3jczJFSds5vH"
      },
      "execution_count": 14,
      "outputs": []
    },
    {
      "cell_type": "code",
      "source": [
        "final_processed_text[0]"
      ],
      "metadata": {
        "colab": {
          "base_uri": "https://localhost:8080/",
          "height": 35
        },
        "id": "KOC1OSzkbri6",
        "outputId": "3cea541f-7a3b-4d5e-9de4-edceed832a4b"
      },
      "execution_count": 15,
      "outputs": [
        {
          "output_type": "execute_result",
          "data": {
            "text/plain": [
              "'love going happy hour dinner great patio beat heat alsovery accomodating location like veal milanese mixed green instead pasta theyll modify menu suit taste'"
            ],
            "application/vnd.google.colaboratory.intrinsic+json": {
              "type": "string"
            }
          },
          "metadata": {},
          "execution_count": 15
        }
      ]
    },
    {
      "cell_type": "code",
      "source": [
        "#df.to_csv('/content/gdrive/MyDrive/data/yelp_reviews_pre_processed_v2.csv', index = False)"
      ],
      "metadata": {
        "id": "m2gkVi83txjl"
      },
      "execution_count": 16,
      "outputs": []
    },
    {
      "cell_type": "code",
      "source": [
        "#df = pd.read_csv('/content/gdrive/MyDrive/data/yelp_reviews_pre_processed_v2.csv')"
      ],
      "metadata": {
        "id": "UdiIQGmkamjR"
      },
      "execution_count": 17,
      "outputs": []
    },
    {
      "cell_type": "code",
      "source": [
        "df.head()"
      ],
      "metadata": {
        "colab": {
          "base_uri": "https://localhost:8080/",
          "height": 406
        },
        "id": "OmWMPf4vt4M9",
        "outputId": "809111b3-bc3f-4fb3-96ee-661d9c6ee6cb"
      },
      "execution_count": 18,
      "outputs": [
        {
          "output_type": "execute_result",
          "data": {
            "text/plain": [
              "                  user_id             business_id                 date  stars  \\\n",
              "0  9OAtfnWag-ajVxRbUTGIyg  lj-E32x9_FA7GmUrBGBEWg  2014-06-27 22:44:01    4.0   \n",
              "1  5h9JA231vPilNAIjHxwGng  lj-E32x9_FA7GmUrBGBEWg  2014-08-24 19:24:26    5.0   \n",
              "2  c1fSI6Dv5lybr0AJh67e7w  lj-E32x9_FA7GmUrBGBEWg  2015-09-24 15:01:11    4.0   \n",
              "3  st-q1iyW3sJm-v0OCrheoQ  lj-E32x9_FA7GmUrBGBEWg  2015-10-17 04:56:25    5.0   \n",
              "4  9qBdzBzoDxLFSMhhGrTWJg  lj-E32x9_FA7GmUrBGBEWg  2016-01-04 16:56:32    4.0   \n",
              "\n",
              "                                                text  review_year  sentiment  \\\n",
              "0  Love going here for happy hour or dinner!  Gre...         2014          1   \n",
              "1  My friends at work (connoisseurs of good food ...         2014          1   \n",
              "2  Great service, relaxing atmosphere and the foo...         2015          1   \n",
              "3  I went to Brio for the first time on Wednesday...         2015          1   \n",
              "4  I usually steer clear of the chain restaurants...         2016          1   \n",
              "\n",
              "                                        cleaned_text  \\\n",
              "0  [love, going, happy, hour, dinner, great, pati...   \n",
              "1  [friend, work, connoisseur, good, food, louis,...   \n",
              "2  [great, service, relaxing, atmosphere, food, e...   \n",
              "3  [went, brio, first, time, wednesday, dinner, f...   \n",
              "4  [usually, steer, clear, chain, restaurant, sin...   \n",
              "\n",
              "                                final_processed_text  text length  \n",
              "0  love going happy hour dinner great patio beat ...          242  \n",
              "1  friend work connoisseur good food louis area i...          305  \n",
              "2  great service relaxing atmosphere food excepti...          130  \n",
              "3  went brio first time wednesday dinner friend s...          898  \n",
              "4  usually steer clear chain restaurant since man...          336  "
            ],
            "text/html": [
              "\n",
              "  <div id=\"df-86023bae-13d0-44fd-b308-c8f71242b73a\">\n",
              "    <div class=\"colab-df-container\">\n",
              "      <div>\n",
              "<style scoped>\n",
              "    .dataframe tbody tr th:only-of-type {\n",
              "        vertical-align: middle;\n",
              "    }\n",
              "\n",
              "    .dataframe tbody tr th {\n",
              "        vertical-align: top;\n",
              "    }\n",
              "\n",
              "    .dataframe thead th {\n",
              "        text-align: right;\n",
              "    }\n",
              "</style>\n",
              "<table border=\"1\" class=\"dataframe\">\n",
              "  <thead>\n",
              "    <tr style=\"text-align: right;\">\n",
              "      <th></th>\n",
              "      <th>user_id</th>\n",
              "      <th>business_id</th>\n",
              "      <th>date</th>\n",
              "      <th>stars</th>\n",
              "      <th>text</th>\n",
              "      <th>review_year</th>\n",
              "      <th>sentiment</th>\n",
              "      <th>cleaned_text</th>\n",
              "      <th>final_processed_text</th>\n",
              "      <th>text length</th>\n",
              "    </tr>\n",
              "  </thead>\n",
              "  <tbody>\n",
              "    <tr>\n",
              "      <th>0</th>\n",
              "      <td>9OAtfnWag-ajVxRbUTGIyg</td>\n",
              "      <td>lj-E32x9_FA7GmUrBGBEWg</td>\n",
              "      <td>2014-06-27 22:44:01</td>\n",
              "      <td>4.0</td>\n",
              "      <td>Love going here for happy hour or dinner!  Gre...</td>\n",
              "      <td>2014</td>\n",
              "      <td>1</td>\n",
              "      <td>[love, going, happy, hour, dinner, great, pati...</td>\n",
              "      <td>love going happy hour dinner great patio beat ...</td>\n",
              "      <td>242</td>\n",
              "    </tr>\n",
              "    <tr>\n",
              "      <th>1</th>\n",
              "      <td>5h9JA231vPilNAIjHxwGng</td>\n",
              "      <td>lj-E32x9_FA7GmUrBGBEWg</td>\n",
              "      <td>2014-08-24 19:24:26</td>\n",
              "      <td>5.0</td>\n",
              "      <td>My friends at work (connoisseurs of good food ...</td>\n",
              "      <td>2014</td>\n",
              "      <td>1</td>\n",
              "      <td>[friend, work, connoisseur, good, food, louis,...</td>\n",
              "      <td>friend work connoisseur good food louis area i...</td>\n",
              "      <td>305</td>\n",
              "    </tr>\n",
              "    <tr>\n",
              "      <th>2</th>\n",
              "      <td>c1fSI6Dv5lybr0AJh67e7w</td>\n",
              "      <td>lj-E32x9_FA7GmUrBGBEWg</td>\n",
              "      <td>2015-09-24 15:01:11</td>\n",
              "      <td>4.0</td>\n",
              "      <td>Great service, relaxing atmosphere and the foo...</td>\n",
              "      <td>2015</td>\n",
              "      <td>1</td>\n",
              "      <td>[great, service, relaxing, atmosphere, food, e...</td>\n",
              "      <td>great service relaxing atmosphere food excepti...</td>\n",
              "      <td>130</td>\n",
              "    </tr>\n",
              "    <tr>\n",
              "      <th>3</th>\n",
              "      <td>st-q1iyW3sJm-v0OCrheoQ</td>\n",
              "      <td>lj-E32x9_FA7GmUrBGBEWg</td>\n",
              "      <td>2015-10-17 04:56:25</td>\n",
              "      <td>5.0</td>\n",
              "      <td>I went to Brio for the first time on Wednesday...</td>\n",
              "      <td>2015</td>\n",
              "      <td>1</td>\n",
              "      <td>[went, brio, first, time, wednesday, dinner, f...</td>\n",
              "      <td>went brio first time wednesday dinner friend s...</td>\n",
              "      <td>898</td>\n",
              "    </tr>\n",
              "    <tr>\n",
              "      <th>4</th>\n",
              "      <td>9qBdzBzoDxLFSMhhGrTWJg</td>\n",
              "      <td>lj-E32x9_FA7GmUrBGBEWg</td>\n",
              "      <td>2016-01-04 16:56:32</td>\n",
              "      <td>4.0</td>\n",
              "      <td>I usually steer clear of the chain restaurants...</td>\n",
              "      <td>2016</td>\n",
              "      <td>1</td>\n",
              "      <td>[usually, steer, clear, chain, restaurant, sin...</td>\n",
              "      <td>usually steer clear chain restaurant since man...</td>\n",
              "      <td>336</td>\n",
              "    </tr>\n",
              "  </tbody>\n",
              "</table>\n",
              "</div>\n",
              "      <button class=\"colab-df-convert\" onclick=\"convertToInteractive('df-86023bae-13d0-44fd-b308-c8f71242b73a')\"\n",
              "              title=\"Convert this dataframe to an interactive table.\"\n",
              "              style=\"display:none;\">\n",
              "        \n",
              "  <svg xmlns=\"http://www.w3.org/2000/svg\" height=\"24px\"viewBox=\"0 0 24 24\"\n",
              "       width=\"24px\">\n",
              "    <path d=\"M0 0h24v24H0V0z\" fill=\"none\"/>\n",
              "    <path d=\"M18.56 5.44l.94 2.06.94-2.06 2.06-.94-2.06-.94-.94-2.06-.94 2.06-2.06.94zm-11 1L8.5 8.5l.94-2.06 2.06-.94-2.06-.94L8.5 2.5l-.94 2.06-2.06.94zm10 10l.94 2.06.94-2.06 2.06-.94-2.06-.94-.94-2.06-.94 2.06-2.06.94z\"/><path d=\"M17.41 7.96l-1.37-1.37c-.4-.4-.92-.59-1.43-.59-.52 0-1.04.2-1.43.59L10.3 9.45l-7.72 7.72c-.78.78-.78 2.05 0 2.83L4 21.41c.39.39.9.59 1.41.59.51 0 1.02-.2 1.41-.59l7.78-7.78 2.81-2.81c.8-.78.8-2.07 0-2.86zM5.41 20L4 18.59l7.72-7.72 1.47 1.35L5.41 20z\"/>\n",
              "  </svg>\n",
              "      </button>\n",
              "      \n",
              "  <style>\n",
              "    .colab-df-container {\n",
              "      display:flex;\n",
              "      flex-wrap:wrap;\n",
              "      gap: 12px;\n",
              "    }\n",
              "\n",
              "    .colab-df-convert {\n",
              "      background-color: #E8F0FE;\n",
              "      border: none;\n",
              "      border-radius: 50%;\n",
              "      cursor: pointer;\n",
              "      display: none;\n",
              "      fill: #1967D2;\n",
              "      height: 32px;\n",
              "      padding: 0 0 0 0;\n",
              "      width: 32px;\n",
              "    }\n",
              "\n",
              "    .colab-df-convert:hover {\n",
              "      background-color: #E2EBFA;\n",
              "      box-shadow: 0px 1px 2px rgba(60, 64, 67, 0.3), 0px 1px 3px 1px rgba(60, 64, 67, 0.15);\n",
              "      fill: #174EA6;\n",
              "    }\n",
              "\n",
              "    [theme=dark] .colab-df-convert {\n",
              "      background-color: #3B4455;\n",
              "      fill: #D2E3FC;\n",
              "    }\n",
              "\n",
              "    [theme=dark] .colab-df-convert:hover {\n",
              "      background-color: #434B5C;\n",
              "      box-shadow: 0px 1px 3px 1px rgba(0, 0, 0, 0.15);\n",
              "      filter: drop-shadow(0px 1px 2px rgba(0, 0, 0, 0.3));\n",
              "      fill: #FFFFFF;\n",
              "    }\n",
              "  </style>\n",
              "\n",
              "      <script>\n",
              "        const buttonEl =\n",
              "          document.querySelector('#df-86023bae-13d0-44fd-b308-c8f71242b73a button.colab-df-convert');\n",
              "        buttonEl.style.display =\n",
              "          google.colab.kernel.accessAllowed ? 'block' : 'none';\n",
              "\n",
              "        async function convertToInteractive(key) {\n",
              "          const element = document.querySelector('#df-86023bae-13d0-44fd-b308-c8f71242b73a');\n",
              "          const dataTable =\n",
              "            await google.colab.kernel.invokeFunction('convertToInteractive',\n",
              "                                                     [key], {});\n",
              "          if (!dataTable) return;\n",
              "\n",
              "          const docLinkHtml = 'Like what you see? Visit the ' +\n",
              "            '<a target=\"_blank\" href=https://colab.research.google.com/notebooks/data_table.ipynb>data table notebook</a>'\n",
              "            + ' to learn more about interactive tables.';\n",
              "          element.innerHTML = '';\n",
              "          dataTable['output_type'] = 'display_data';\n",
              "          await google.colab.output.renderOutput(dataTable, element);\n",
              "          const docLink = document.createElement('div');\n",
              "          docLink.innerHTML = docLinkHtml;\n",
              "          element.appendChild(docLink);\n",
              "        }\n",
              "      </script>\n",
              "    </div>\n",
              "  </div>\n",
              "  "
            ]
          },
          "metadata": {},
          "execution_count": 18
        }
      ]
    },
    {
      "cell_type": "code",
      "source": [
        "# Lets visualise the review text and stars for a business\n",
        "g = sns.FacetGrid(data=df, col='stars')\n",
        "g.map(plt.hist, 'text length', bins=50)"
      ],
      "metadata": {
        "colab": {
          "base_uri": "https://localhost:8080/",
          "height": 242
        },
        "id": "dRBhqCZ_s9LJ",
        "outputId": "d50bcf8d-6afe-49b0-eb81-644c23027940"
      },
      "execution_count": 19,
      "outputs": [
        {
          "output_type": "execute_result",
          "data": {
            "text/plain": [
              "<seaborn.axisgrid.FacetGrid at 0x7faf87360150>"
            ]
          },
          "metadata": {},
          "execution_count": 19
        },
        {
          "output_type": "display_data",
          "data": {
            "text/plain": [
              "<Figure size 1080x216 with 5 Axes>"
            ],
            "image/png": "[encoded data removed]"
          },
          "metadata": {
            "needs_background": "light"
          }
        }
      ]
    },
    {
      "cell_type": "markdown",
      "metadata": {
        "id": "8g_YzUYfuxQ0"
      },
      "source": [
        "## Create Train/Validation/Test Split"
      ]
    },
    {
      "cell_type": "code",
      "execution_count": 20,
      "metadata": {
        "id": "X-9E7x3XuxQ0"
      },
      "outputs": [],
      "source": [
        "X_train_set, X_nottrain, y_train, y_nottrain = train_test_split(df['final_processed_text'], \n",
        "                                                    df['stars'], \n",
        "                                                    test_size=0.30, \n",
        "                                                    random_state=42)\n",
        "\n",
        "X_test_set, X_val_set, y_test, y_val = train_test_split(X_nottrain, \n",
        "                                                    y_nottrain, \n",
        "                                                    test_size=0.5, \n",
        "                                                    random_state=42)"
      ]
    },
    {
      "cell_type": "code",
      "source": [
        "X_train_set.head()"
      ],
      "metadata": {
        "colab": {
          "base_uri": "https://localhost:8080/"
        },
        "id": "0Djzofqy4f6s",
        "outputId": "e1ce569c-f2bc-46f3-f72b-1c829080fcbc"
      },
      "execution_count": 21,
      "outputs": [
        {
          "output_type": "execute_result",
          "data": {
            "text/plain": [
              "246153    mediocre food nothing cracked recommend lunch ...\n",
              "1749      visited thursday night dinner elsewhere great ...\n",
              "18036     mediterranean american food intimate upscale s...\n",
              "118652    excited pretty busy meat dried like sitting he...\n",
              "147620    told multiple people restaurant great correct ...\n",
              "Name: final_processed_text, dtype: object"
            ]
          },
          "metadata": {},
          "execution_count": 21
        }
      ]
    },
    {
      "cell_type": "code",
      "execution_count": 22,
      "metadata": {
        "colab": {
          "base_uri": "https://localhost:8080/"
        },
        "id": "aH9EZqlQuxQ0",
        "outputId": "f524efdf-2e7f-4eff-9030-336360d57b76"
      },
      "outputs": [
        {
          "output_type": "execute_result",
          "data": {
            "text/plain": [
              "5.0    86821\n",
              "4.0    51541\n",
              "3.0    24769\n",
              "1.0    23151\n",
              "2.0    18381\n",
              "Name: stars, dtype: int64"
            ]
          },
          "metadata": {},
          "execution_count": 22
        }
      ],
      "source": [
        "y_train.value_counts()"
      ]
    },
    {
      "cell_type": "code",
      "execution_count": 23,
      "metadata": {
        "colab": {
          "base_uri": "https://localhost:8080/"
        },
        "id": "MmCu0u2wuxQ0",
        "outputId": "66e49554-6570-4aac-dcdd-e10ed8e2acde"
      },
      "outputs": [
        {
          "output_type": "execute_result",
          "data": {
            "text/plain": [
              "5.0    18828\n",
              "4.0    11164\n",
              "3.0     5182\n",
              "1.0     4747\n",
              "2.0     3936\n",
              "Name: stars, dtype: int64"
            ]
          },
          "metadata": {},
          "execution_count": 23
        }
      ],
      "source": [
        "y_val.value_counts()"
      ]
    },
    {
      "cell_type": "code",
      "execution_count": 24,
      "metadata": {
        "colab": {
          "base_uri": "https://localhost:8080/"
        },
        "id": "C0OP2sZ2uxQ0",
        "outputId": "19a74438-5dd9-4b63-af7c-c44358858efc"
      },
      "outputs": [
        {
          "output_type": "execute_result",
          "data": {
            "text/plain": [
              "5.0    18598\n",
              "4.0    10943\n",
              "3.0     5394\n",
              "1.0     4975\n",
              "2.0     3946\n",
              "Name: stars, dtype: int64"
            ]
          },
          "metadata": {},
          "execution_count": 24
        }
      ],
      "source": [
        "y_test.value_counts()"
      ]
    },
    {
      "cell_type": "markdown",
      "metadata": {
        "id": "Tc74TbMwuxQ0"
      },
      "source": [
        "## Feature Engineering"
      ]
    },
    {
      "cell_type": "markdown",
      "metadata": {
        "id": "FqdIAVzzuxQ1"
      },
      "source": [
        "**1-gram Count**"
      ]
    },
    {
      "cell_type": "code",
      "execution_count": 25,
      "metadata": {
        "id": "H2e29xc0uxQ1"
      },
      "outputs": [],
      "source": [
        "cv = CountVectorizer(binary=False)\n",
        "cv.fit(X_train_set)\n",
        "X_train_1gram_count = cv.transform(X_train_set)\n",
        "X_test_1gram_count = cv.transform(X_test_set)\n",
        "X_val_1gram_count = cv.transform(X_val_set)"
      ]
    },
    {
      "cell_type": "code",
      "source": [
        "X_train_1gram_count.shape"
      ],
      "metadata": {
        "colab": {
          "base_uri": "https://localhost:8080/"
        },
        "id": "qpAGbL9Ee0gZ",
        "outputId": "00c5606d-c41c-434c-e564-c8b26b54fdb6"
      },
      "execution_count": 26,
      "outputs": [
        {
          "output_type": "execute_result",
          "data": {
            "text/plain": [
              "(204663, 123689)"
            ]
          },
          "metadata": {},
          "execution_count": 26
        }
      ]
    },
    {
      "cell_type": "markdown",
      "source": [
        "**1-gram Count, max 10,000 words**"
      ],
      "metadata": {
        "id": "sLUMeNKhfICY"
      }
    },
    {
      "cell_type": "code",
      "source": [
        "cv = CountVectorizer(binary=False, max_features = 10000)\n",
        "cv.fit(X_train_set)\n",
        "X_train_1gram_count_10000 = cv.transform(X_train_set)\n",
        "X_test_1gram_count_10000 = cv.transform(X_test_set)\n",
        "X_val_1gram_count_10000 = cv.transform(X_val_set)"
      ],
      "metadata": {
        "id": "_W7UnveOepqT"
      },
      "execution_count": 27,
      "outputs": []
    },
    {
      "cell_type": "code",
      "source": [
        "X_train_1gram_count_10000.shape"
      ],
      "metadata": {
        "colab": {
          "base_uri": "https://localhost:8080/"
        },
        "id": "uk2fqEUkfW6y",
        "outputId": "adb9b2e3-f7a9-4de3-c5ac-3137e168e1d6"
      },
      "execution_count": 28,
      "outputs": [
        {
          "output_type": "execute_result",
          "data": {
            "text/plain": [
              "(204663, 10000)"
            ]
          },
          "metadata": {},
          "execution_count": 28
        }
      ]
    },
    {
      "cell_type": "markdown",
      "metadata": {
        "id": "zgUMPSl0uxQ1"
      },
      "source": [
        "**2-gram Count**"
      ]
    },
    {
      "cell_type": "code",
      "source": [
        "cv = CountVectorizer(binary=False, ngram_range = (1,2))\n",
        "cv.fit(X_train_set)\n",
        "X_train_2gram_count = cv.transform(X_train_set)\n",
        "X_test_2gram_count = cv.transform(X_test_set)\n",
        "X_val_2gram_count = cv.transform(X_val_set)"
      ],
      "metadata": {
        "id": "0Jv8etP3feJR"
      },
      "execution_count": 29,
      "outputs": []
    },
    {
      "cell_type": "code",
      "source": [
        "X_train_2gram_count.shape"
      ],
      "metadata": {
        "colab": {
          "base_uri": "https://localhost:8080/"
        },
        "id": "-UlQzrWRfk5v",
        "outputId": "8b251f52-ec54-47f0-a350-961fa9f44e08"
      },
      "execution_count": 30,
      "outputs": [
        {
          "output_type": "execute_result",
          "data": {
            "text/plain": [
              "(204663, 2884128)"
            ]
          },
          "metadata": {},
          "execution_count": 30
        }
      ]
    },
    {
      "cell_type": "markdown",
      "source": [
        "**2-gram Count, max 10,000 words**"
      ],
      "metadata": {
        "id": "8jFWAY6WfmMM"
      }
    },
    {
      "cell_type": "code",
      "source": [
        "cv = CountVectorizer(binary=False, ngram_range = (1,2), max_features = 10000)\n",
        "cv.fit(X_train_set)\n",
        "X_train_2gram_count_10000 = cv.transform(X_train_set)\n",
        "X_test_2gram_count_10000 = cv.transform(X_test_set)\n",
        "X_val_2gram_count_10000 = cv.transform(X_val_set)"
      ],
      "metadata": {
        "id": "yqlW7m-_fmXH"
      },
      "execution_count": 31,
      "outputs": []
    },
    {
      "cell_type": "code",
      "source": [
        "X_train_2gram_count_10000.shape"
      ],
      "metadata": {
        "colab": {
          "base_uri": "https://localhost:8080/"
        },
        "id": "_ogwK4udfuHq",
        "outputId": "59749981-4286-4780-c0cb-4733321dfe10"
      },
      "execution_count": 32,
      "outputs": [
        {
          "output_type": "execute_result",
          "data": {
            "text/plain": [
              "(204663, 10000)"
            ]
          },
          "metadata": {},
          "execution_count": 32
        }
      ]
    },
    {
      "cell_type": "markdown",
      "metadata": {
        "id": "EE1VHvGouxQ1"
      },
      "source": [
        "**1-gram Tf-Idf**"
      ]
    },
    {
      "cell_type": "code",
      "execution_count": 33,
      "metadata": {
        "id": "7pKG6CERuxQ1"
      },
      "outputs": [],
      "source": [
        "cv = TfidfVectorizer()\n",
        "cv.fit(X_train_set)\n",
        "X_train_1tfidf = cv.transform(X_train_set)\n",
        "X_test_1tfidf = cv.transform(X_test_set)\n",
        "X_val_1tfidf = cv.transform(X_val_set)\n"
      ]
    },
    {
      "cell_type": "code",
      "source": [
        "X_train_1tfidf.shape"
      ],
      "metadata": {
        "colab": {
          "base_uri": "https://localhost:8080/"
        },
        "id": "b8XLGxKUf2q1",
        "outputId": "40ac7c7c-7d69-40e0-a6db-de0f171736f4"
      },
      "execution_count": 34,
      "outputs": [
        {
          "output_type": "execute_result",
          "data": {
            "text/plain": [
              "(204663, 123689)"
            ]
          },
          "metadata": {},
          "execution_count": 34
        }
      ]
    },
    {
      "cell_type": "markdown",
      "source": [
        "**1-gram Tf-Idf, max 10000 words**"
      ],
      "metadata": {
        "id": "JW4eJ6wBgLjy"
      }
    },
    {
      "cell_type": "code",
      "source": [
        "cv = TfidfVectorizer(max_features = 10000)\n",
        "cv.fit(X_train_set)\n",
        "X_train_1tfidf_10000 = cv.transform(X_train_set)\n",
        "X_test_1tfidf_10000 = cv.transform(X_test_set)\n",
        "X_val_1tfidf_10000 = cv.transform(X_val_set)"
      ],
      "metadata": {
        "id": "UuDxYqFogLrP"
      },
      "execution_count": 35,
      "outputs": []
    },
    {
      "cell_type": "code",
      "source": [
        "X_train_1tfidf_10000.shape"
      ],
      "metadata": {
        "colab": {
          "base_uri": "https://localhost:8080/"
        },
        "id": "v0YO6d44gLtQ",
        "outputId": "08530e6a-02a1-4ff7-d5cd-45a6ad2ee6e6"
      },
      "execution_count": 36,
      "outputs": [
        {
          "output_type": "execute_result",
          "data": {
            "text/plain": [
              "(204663, 10000)"
            ]
          },
          "metadata": {},
          "execution_count": 36
        }
      ]
    },
    {
      "cell_type": "markdown",
      "metadata": {
        "id": "cShwCuSBuxQ2"
      },
      "source": [
        "**2-gram Tf-Idf**"
      ]
    },
    {
      "cell_type": "code",
      "source": [
        "cv = TfidfVectorizer(ngram_range=(1,2))\n",
        "cv.fit(X_train_set)\n",
        "X_train_2tfidf = cv.transform(X_train_set)\n",
        "X_test_2tfidf = cv.transform(X_test_set)\n",
        "X_val_2tfidf = cv.transform(X_val_set)"
      ],
      "metadata": {
        "id": "zkVDT_BvgzHi"
      },
      "execution_count": 37,
      "outputs": []
    },
    {
      "cell_type": "code",
      "source": [
        "X_train_2tfidf.shape"
      ],
      "metadata": {
        "colab": {
          "base_uri": "https://localhost:8080/"
        },
        "id": "B2m4v8X9gzJx",
        "outputId": "6e96e215-74bc-4089-b167-e625a3c38e94"
      },
      "execution_count": 38,
      "outputs": [
        {
          "output_type": "execute_result",
          "data": {
            "text/plain": [
              "(204663, 2884128)"
            ]
          },
          "metadata": {},
          "execution_count": 38
        }
      ]
    },
    {
      "cell_type": "markdown",
      "source": [
        "**2-gram Tf-Idf, max 10000 words****"
      ],
      "metadata": {
        "id": "bttlULfog5PZ"
      }
    },
    {
      "cell_type": "code",
      "execution_count": 39,
      "metadata": {
        "id": "OdcuPWA8uxQ2"
      },
      "outputs": [],
      "source": [
        "cv = TfidfVectorizer(ngram_range=(1,2), max_features = 10000)\n",
        "cv.fit(X_train_set)\n",
        "X_train_2tfidf_10000 = cv.transform(X_train_set)\n",
        "X_test_2tfidf_10000 = cv.transform(X_test_set)\n",
        "X_val_2tfidf_10000 = cv.transform(X_val_set)"
      ]
    },
    {
      "cell_type": "code",
      "execution_count": 40,
      "metadata": {
        "colab": {
          "base_uri": "https://localhost:8080/"
        },
        "id": "AyYwc1LkuxQ2",
        "outputId": "260214c3-a36e-476e-ed8f-fc8e5239fc4d"
      },
      "outputs": [
        {
          "output_type": "execute_result",
          "data": {
            "text/plain": [
              "(204663, 10000)"
            ]
          },
          "metadata": {},
          "execution_count": 40
        }
      ],
      "source": [
        "X_train_2tfidf_10000.shape"
      ]
    },
    {
      "cell_type": "code",
      "source": [
        "def plot_confusion_matrix(y_true, y_pred):\n",
        "    mtx = confusion_matrix(y_true, y_pred)\n",
        "    fig, ax = plt.subplots(figsize=(8,8))\n",
        "    sns.heatmap(mtx, annot=True, fmt='d', linewidths=.75,  cbar=False, ax=ax,cmap='Blues',linecolor='white')\n",
        "    #  square=True,\n",
        "    plt.ylabel('true label')\n",
        "    plt.xlabel('predicted label')\n",
        "    ax.xaxis.set_ticklabels(['1', '2', '3', '4', '5'])\n",
        "    ax.yaxis.set_ticklabels(['1', '2', '3', '4', '5'])"
      ],
      "metadata": {
        "id": "jqDw5SSQzK4H"
      },
      "execution_count": 41,
      "outputs": []
    },
    {
      "cell_type": "code",
      "source": [
        "def print_validation_report(test_labels, predictions):\n",
        "    print(\"Classification Report\")\n",
        "    print(classification_report(test_labels, predictions))\n",
        "    print('Accuracy Score: {:.3f}'.format(accuracy_score(test_labels, predictions)))\n",
        "    print('Mean Absolute Error: {:.3f}'.format(mean_absolute_error(test_labels, predictions)))\n",
        "    print('Root Mean Square Error: {:.3f}'.format(np.sqrt(MSE(test_labels, predictions))))\n",
        "    print('Mean Square Error: {:.3f}'.format(MSE(test_labels, predictions, squared = True)))"
      ],
      "metadata": {
        "id": "kl0iW1lU2Rlo"
      },
      "execution_count": 42,
      "outputs": []
    },
    {
      "cell_type": "markdown",
      "metadata": {
        "id": "C-OPwB5euxQ2"
      },
      "source": [
        "## Modeling"
      ]
    },
    {
      "cell_type": "markdown",
      "source": [
        "###Naive Bayes"
      ],
      "metadata": {
        "id": "udeC9wEYHs_a"
      }
    },
    {
      "cell_type": "code",
      "source": [
        "list1 = [X_train_1gram_count, X_train_1gram_count_10000, X_train_2gram_count, X_train_2gram_count_10000, X_train_1tfidf, X_train_1tfidf_10000, X_train_2tfidf, X_train_2tfidf_10000]\n",
        "list2 = [X_test_1gram_count, X_test_1gram_count_10000, X_test_2gram_count, X_test_2gram_count_10000, X_test_1tfidf, X_test_1tfidf_10000, X_test_2tfidf, X_test_2tfidf_10000]\n",
        "list3 = ['1-gram count', '1-gram count max 10,000 words', '2-gram count', '2-gram count, max 10,000 words', '1-gram tf-idf', '1-gram tf-idf max 10,000 words', '2-gram tf-idf', '2-gram tf-idf, max 10,000 words']\n",
        "for i,j,k in zip(list1, list2, list3):\n",
        "  nb.fit(i, y_train)\n",
        "  preds = nb.predict(j)\n",
        "  print(k)\n",
        "  print(print_validation_report(y_test,preds),'\\n')\n"
      ],
      "metadata": {
        "colab": {
          "base_uri": "https://localhost:8080/"
        },
        "id": "nVELZU8JiJi9",
        "outputId": "4e78b202-0067-45df-dc88-33fced1ecc19"
      },
      "execution_count": 89,
      "outputs": [
        {
          "output_type": "stream",
          "name": "stdout",
          "text": [
            "1-gram count\n",
            "Classification Report\n",
            "              precision    recall  f1-score   support\n",
            "\n",
            "         1.0       0.62      0.72      0.67      4975\n",
            "         2.0       0.39      0.24      0.30      3946\n",
            "         3.0       0.43      0.30      0.35      5394\n",
            "         4.0       0.49      0.48      0.49     10943\n",
            "         5.0       0.73      0.84      0.78     18598\n",
            "\n",
            "    accuracy                           0.61     43856\n",
            "   macro avg       0.53      0.51      0.52     43856\n",
            "weighted avg       0.59      0.61      0.60     43856\n",
            "\n",
            "Accuracy Score: 0.614\n",
            "Mean Absolute Error: 0.489\n",
            "Root Mean Square Error: 0.878\n",
            "Mean Square Error: 0.771\n",
            "None \n",
            "\n",
            "1-gram count max 10,000 words\n",
            "Classification Report\n",
            "              precision    recall  f1-score   support\n",
            "\n",
            "         1.0       0.62      0.70      0.66      4975\n",
            "         2.0       0.37      0.33      0.35      3946\n",
            "         3.0       0.43      0.38      0.40      5394\n",
            "         4.0       0.51      0.46      0.48     10943\n",
            "         5.0       0.75      0.81      0.78     18598\n",
            "\n",
            "    accuracy                           0.61     43856\n",
            "   macro avg       0.54      0.54      0.53     43856\n",
            "weighted avg       0.60      0.61      0.61     43856\n",
            "\n",
            "Accuracy Score: 0.615\n",
            "Mean Absolute Error: 0.486\n",
            "Root Mean Square Error: 0.877\n",
            "Mean Square Error: 0.769\n",
            "None \n",
            "\n",
            "2-gram count\n",
            "Classification Report\n",
            "              precision    recall  f1-score   support\n",
            "\n",
            "         1.0       0.69      0.71      0.70      4975\n",
            "         2.0       0.45      0.05      0.10      3946\n",
            "         3.0       0.38      0.07      0.12      5394\n",
            "         4.0       0.38      0.41      0.40     10943\n",
            "         5.0       0.68      0.92      0.78     18598\n",
            "\n",
            "    accuracy                           0.59     43856\n",
            "   macro avg       0.51      0.43      0.42     43856\n",
            "weighted avg       0.55      0.59      0.53     43856\n",
            "\n",
            "Accuracy Score: 0.588\n",
            "Mean Absolute Error: 0.574\n",
            "Root Mean Square Error: 1.004\n",
            "Mean Square Error: 1.009\n",
            "None \n",
            "\n",
            "2-gram count, max 10,000 words\n",
            "Classification Report\n",
            "              precision    recall  f1-score   support\n",
            "\n",
            "         1.0       0.65      0.71      0.68      4975\n",
            "         2.0       0.40      0.37      0.38      3946\n",
            "         3.0       0.44      0.42      0.43      5394\n",
            "         4.0       0.52      0.49      0.51     10943\n",
            "         5.0       0.77      0.79      0.78     18598\n",
            "\n",
            "    accuracy                           0.63     43856\n",
            "   macro avg       0.56      0.56      0.56     43856\n",
            "weighted avg       0.62      0.63      0.62     43856\n",
            "\n",
            "Accuracy Score: 0.625\n",
            "Mean Absolute Error: 0.465\n",
            "Root Mean Square Error: 0.846\n",
            "Mean Square Error: 0.715\n",
            "None \n",
            "\n",
            "1-gram tf-idf\n",
            "Classification Report\n",
            "              precision    recall  f1-score   support\n",
            "\n",
            "         1.0       0.74      0.51      0.60      4975\n",
            "         2.0       0.42      0.00      0.00      3946\n",
            "         3.0       0.41      0.00      0.01      5394\n",
            "         4.0       0.22      0.09      0.13     10943\n",
            "         5.0       0.52      0.99      0.68     18598\n",
            "\n",
            "    accuracy                           0.50     43856\n",
            "   macro avg       0.46      0.32      0.28     43856\n",
            "weighted avg       0.45      0.50      0.39     43856\n",
            "\n",
            "Accuracy Score: 0.501\n",
            "Mean Absolute Error: 0.861\n",
            "Root Mean Square Error: 1.400\n",
            "Mean Square Error: 1.959\n",
            "None \n",
            "\n",
            "1-gram tf-idf max 10,000 words\n",
            "Classification Report\n",
            "              precision    recall  f1-score   support\n",
            "\n",
            "         1.0       0.63      0.73      0.68      4975\n",
            "         2.0       0.44      0.13      0.20      3946\n",
            "         3.0       0.41      0.12      0.19      5394\n",
            "         4.0       0.42      0.32      0.37     10943\n",
            "         5.0       0.64      0.93      0.76     18598\n",
            "\n",
            "    accuracy                           0.58     43856\n",
            "   macro avg       0.51      0.45      0.44     43856\n",
            "weighted avg       0.54      0.58      0.53     43856\n",
            "\n",
            "Accuracy Score: 0.585\n",
            "Mean Absolute Error: 0.577\n",
            "Root Mean Square Error: 1.014\n",
            "Mean Square Error: 1.028\n",
            "None \n",
            "\n",
            "2-gram tf-idf\n",
            "Classification Report\n",
            "              precision    recall  f1-score   support\n",
            "\n",
            "         1.0       0.88      0.16      0.27      4975\n",
            "         2.0       0.00      0.00      0.00      3946\n",
            "         3.0       0.50      0.00      0.00      5394\n",
            "         4.0       0.20      0.01      0.01     10943\n",
            "         5.0       0.44      1.00      0.61     18598\n",
            "\n",
            "    accuracy                           0.44     43856\n",
            "   macro avg       0.40      0.23      0.18     43856\n",
            "weighted avg       0.40      0.44      0.29     43856\n",
            "\n",
            "Accuracy Score: 0.444\n",
            "Mean Absolute Error: 1.135\n",
            "Root Mean Square Error: 1.742\n",
            "Mean Square Error: 3.034\n",
            "None \n",
            "\n",
            "2-gram tf-idf, max 10,000 words\n",
            "Classification Report\n",
            "              precision    recall  f1-score   support\n",
            "\n",
            "         1.0       0.64      0.75      0.69      4975\n",
            "         2.0       0.45      0.21      0.28      3946\n",
            "         3.0       0.47      0.23      0.30      5394\n",
            "         4.0       0.48      0.44      0.46     10943\n",
            "         5.0       0.70      0.89      0.78     18598\n",
            "\n",
            "    accuracy                           0.62     43856\n",
            "   macro avg       0.55      0.50      0.50     43856\n",
            "weighted avg       0.59      0.62      0.59     43856\n",
            "\n",
            "Accuracy Score: 0.617\n",
            "Mean Absolute Error: 0.502\n",
            "Root Mean Square Error: 0.913\n",
            "Mean Square Error: 0.834\n",
            "None \n",
            "\n"
          ]
        }
      ]
    },
    {
      "cell_type": "code",
      "source": [
        "nb = MultinomialNB()\n",
        "nb.fit(X_train_2gram_count_10000, y_train)"
      ],
      "metadata": {
        "colab": {
          "base_uri": "https://localhost:8080/"
        },
        "id": "3COsVtwVxPoB",
        "outputId": "6f4a9503-a76b-4c6a-d52b-1edf0dcc31f3"
      },
      "execution_count": 101,
      "outputs": [
        {
          "output_type": "execute_result",
          "data": {
            "text/plain": [
              "MultinomialNB()"
            ]
          },
          "metadata": {},
          "execution_count": 101
        }
      ]
    },
    {
      "cell_type": "code",
      "source": [
        "preds = nb.predict(X_test_2gram_count_10000)"
      ],
      "metadata": {
        "id": "MAiX-PI-uHKc"
      },
      "execution_count": 102,
      "outputs": []
    },
    {
      "cell_type": "code",
      "source": [
        "print(print_validation_report(y_test,preds))"
      ],
      "metadata": {
        "colab": {
          "base_uri": "https://localhost:8080/"
        },
        "id": "S11JVtdT2gKz",
        "outputId": "356ba5c9-7c0a-4849-ae13-e68b2f23f996"
      },
      "execution_count": 103,
      "outputs": [
        {
          "output_type": "stream",
          "name": "stdout",
          "text": [
            "Classification Report\n",
            "              precision    recall  f1-score   support\n",
            "\n",
            "         1.0       0.65      0.71      0.68      4975\n",
            "         2.0       0.40      0.37      0.38      3946\n",
            "         3.0       0.44      0.42      0.43      5394\n",
            "         4.0       0.52      0.49      0.51     10943\n",
            "         5.0       0.77      0.79      0.78     18598\n",
            "\n",
            "    accuracy                           0.63     43856\n",
            "   macro avg       0.56      0.56      0.56     43856\n",
            "weighted avg       0.62      0.63      0.62     43856\n",
            "\n",
            "Accuracy Score: 0.625\n",
            "Mean Absolute Error: 0.465\n",
            "Root Mean Square Error: 0.846\n",
            "Mean Square Error: 0.715\n",
            "None\n"
          ]
        }
      ]
    },
    {
      "cell_type": "code",
      "source": [
        "plot_confusion_matrix(y_test,preds)"
      ],
      "metadata": {
        "colab": {
          "base_uri": "https://localhost:8080/",
          "height": 497
        },
        "id": "gbe5Tl2AzUJZ",
        "outputId": "ea34b48a-9b38-4903-b32a-1b6f961d6a81"
      },
      "execution_count": 104,
      "outputs": [
        {
          "output_type": "display_data",
          "data": {
            "text/plain": [
              "<Figure size 576x576 with 1 Axes>"
            ],
            "image/png": "[encoded data removed]"
          },
          "metadata": {
            "needs_background": "light"
          }
        }
      ]
    },
    {
      "cell_type": "markdown",
      "metadata": {
        "id": "iEl0B-dDuxQ2"
      },
      "source": [
        "###Logistic Regression"
      ]
    },
    {
      "cell_type": "code",
      "execution_count": 39,
      "metadata": {
        "colab": {
          "base_uri": "https://localhost:8080/"
        },
        "id": "68dnsKacuxQ3",
        "outputId": "7e7a8c4b-336d-495c-8438-153896c7b95f"
      },
      "outputs": [
        {
          "output_type": "stream",
          "name": "stdout",
          "text": [
            "For C = 0.01\n",
            "Classification Report\n",
            "              precision    recall  f1-score   support\n",
            "\n",
            "         1.0       0.69      0.78      0.73      4975\n",
            "         2.0       0.48      0.31      0.38      3946\n",
            "         3.0       0.51      0.35      0.42      5394\n",
            "         4.0       0.54      0.44      0.48     10943\n",
            "         5.0       0.71      0.89      0.79     18598\n",
            "\n",
            "    accuracy                           0.64     43856\n",
            "   macro avg       0.59      0.55      0.56     43856\n",
            "weighted avg       0.62      0.64      0.62     43856\n",
            "\n",
            "Accuracy Score: 0.644\n",
            "Mean Absolute Error: 0.446\n",
            "Root Mean Square Error: 0.838\n",
            "Mean Square Error: 0.703\n",
            "None \n",
            "\n",
            "For C = 0.05\n",
            "Classification Report\n",
            "              precision    recall  f1-score   support\n",
            "\n",
            "         1.0       0.69      0.77      0.73      4975\n",
            "         2.0       0.48      0.35      0.41      3946\n",
            "         3.0       0.50      0.38      0.43      5394\n",
            "         4.0       0.54      0.45      0.49     10943\n",
            "         5.0       0.73      0.87      0.79     18598\n",
            "\n",
            "    accuracy                           0.65     43856\n",
            "   macro avg       0.59      0.56      0.57     43856\n",
            "weighted avg       0.63      0.65      0.63     43856\n",
            "\n",
            "Accuracy Score: 0.647\n",
            "Mean Absolute Error: 0.431\n",
            "Root Mean Square Error: 0.803\n",
            "Mean Square Error: 0.644\n",
            "None \n",
            "\n",
            "For C = 0.25\n",
            "Classification Report\n",
            "              precision    recall  f1-score   support\n",
            "\n",
            "         1.0       0.69      0.75      0.72      4975\n",
            "         2.0       0.46      0.37      0.41      3946\n",
            "         3.0       0.47      0.38      0.42      5394\n",
            "         4.0       0.53      0.45      0.49     10943\n",
            "         5.0       0.73      0.86      0.79     18598\n",
            "\n",
            "    accuracy                           0.64     43856\n",
            "   macro avg       0.58      0.56      0.57     43856\n",
            "weighted avg       0.62      0.64      0.63     43856\n",
            "\n",
            "Accuracy Score: 0.641\n",
            "Mean Absolute Error: 0.435\n",
            "Root Mean Square Error: 0.801\n",
            "Mean Square Error: 0.641\n",
            "None \n",
            "\n",
            "For C = 0.5\n",
            "Classification Report\n",
            "              precision    recall  f1-score   support\n",
            "\n",
            "         1.0       0.68      0.74      0.71      4975\n",
            "         2.0       0.44      0.37      0.40      3946\n",
            "         3.0       0.47      0.38      0.42      5394\n",
            "         4.0       0.53      0.45      0.49     10943\n",
            "         5.0       0.74      0.85      0.79     18598\n",
            "\n",
            "    accuracy                           0.64     43856\n",
            "   macro avg       0.57      0.56      0.56     43856\n",
            "weighted avg       0.62      0.64      0.63     43856\n",
            "\n",
            "Accuracy Score: 0.638\n",
            "Mean Absolute Error: 0.439\n",
            "Root Mean Square Error: 0.804\n",
            "Mean Square Error: 0.646\n",
            "None \n",
            "\n",
            "For C = 1\n",
            "Classification Report\n",
            "              precision    recall  f1-score   support\n",
            "\n",
            "         1.0       0.68      0.74      0.71      4975\n",
            "         2.0       0.44      0.37      0.40      3946\n",
            "         3.0       0.46      0.38      0.42      5394\n",
            "         4.0       0.53      0.44      0.48     10943\n",
            "         5.0       0.74      0.85      0.79     18598\n",
            "\n",
            "    accuracy                           0.64     43856\n",
            "   macro avg       0.57      0.56      0.56     43856\n",
            "weighted avg       0.62      0.64      0.62     43856\n",
            "\n",
            "Accuracy Score: 0.636\n",
            "Mean Absolute Error: 0.441\n",
            "Root Mean Square Error: 0.803\n",
            "Mean Square Error: 0.645\n",
            "None \n",
            "\n"
          ]
        }
      ],
      "source": [
        "#2-gram count with maximum 10,000 words\n",
        "for c in [0.01, 0.05, 0.25, 0.5, 1]:\n",
        "  lr = LogisticRegression(C=c, max_iter= 300)\n",
        "  lr.fit(X_train_2gram_count_10000, y_train)\n",
        "  preds = lr.predict(X_test_2gram_count_10000)\n",
        "  print(\"For C = %s\" % (c))\n",
        "  print(print_validation_report(y_test,preds), '\\n')"
      ]
    },
    {
      "cell_type": "code",
      "source": [
        "# 2 gram tf-idf with maximum 10,000 words\n",
        "for c in [0.01, 0.05, 0.25, 0.5, 1]:\n",
        "  lr = LogisticRegression(C=c, max_iter= 300)\n",
        "  lr.fit(X_train_2tfidf_10000, y_train)\n",
        "  preds = lr.predict(X_test_2tfidf_10000)\n",
        "  print(\"For C = %s\" % (c))\n",
        "  print(print_validation_report(y_test,preds), '\\n')"
      ],
      "metadata": {
        "colab": {
          "base_uri": "https://localhost:8080/"
        },
        "id": "TxHKOJP3AzDZ",
        "outputId": "4801369e-3510-42a9-c4ed-0dc0b1639883"
      },
      "execution_count": 43,
      "outputs": [
        {
          "output_type": "stream",
          "name": "stdout",
          "text": [
            "For C = 0.01\n",
            "Classification Report\n",
            "              precision    recall  f1-score   support\n",
            "\n",
            "         1.0       0.68      0.62      0.65      4975\n",
            "         2.0       0.47      0.01      0.02      3946\n",
            "         3.0       0.41      0.05      0.09      5394\n",
            "         4.0       0.40      0.33      0.36     10943\n",
            "         5.0       0.59      0.93      0.72     18598\n",
            "\n",
            "    accuracy                           0.56     43856\n",
            "   macro avg       0.51      0.39      0.37     43856\n",
            "weighted avg       0.52      0.56      0.48     43856\n",
            "\n",
            "Accuracy Score: 0.556\n",
            "Mean Absolute Error: 0.711\n",
            "Root Mean Square Error: 1.236\n",
            "Mean Square Error: 1.529\n",
            "None \n",
            "\n",
            "For C = 0.05\n",
            "Classification Report\n",
            "              precision    recall  f1-score   support\n",
            "\n",
            "         1.0       0.68      0.77      0.72      4975\n",
            "         2.0       0.50      0.20      0.28      3946\n",
            "         3.0       0.50      0.26      0.34      5394\n",
            "         4.0       0.50      0.46      0.48     10943\n",
            "         5.0       0.69      0.89      0.78     18598\n",
            "\n",
            "    accuracy                           0.63     43856\n",
            "   macro avg       0.57      0.51      0.52     43856\n",
            "weighted avg       0.60      0.63      0.60     43856\n",
            "\n",
            "Accuracy Score: 0.627\n",
            "Mean Absolute Error: 0.493\n",
            "Root Mean Square Error: 0.913\n",
            "Mean Square Error: 0.833\n",
            "None \n",
            "\n",
            "For C = 0.25\n",
            "Classification Report\n",
            "              precision    recall  f1-score   support\n",
            "\n",
            "         1.0       0.69      0.78      0.73      4975\n",
            "         2.0       0.49      0.32      0.38      3946\n",
            "         3.0       0.51      0.36      0.42      5394\n",
            "         4.0       0.53      0.49      0.51     10943\n",
            "         5.0       0.74      0.86      0.80     18598\n",
            "\n",
            "    accuracy                           0.65     43856\n",
            "   macro avg       0.59      0.56      0.57     43856\n",
            "weighted avg       0.63      0.65      0.63     43856\n",
            "\n",
            "Accuracy Score: 0.649\n",
            "Mean Absolute Error: 0.431\n",
            "Root Mean Square Error: 0.807\n",
            "Mean Square Error: 0.652\n",
            "None \n",
            "\n",
            "For C = 0.5\n",
            "Classification Report\n",
            "              precision    recall  f1-score   support\n",
            "\n",
            "         1.0       0.70      0.78      0.73      4975\n",
            "         2.0       0.48      0.34      0.40      3946\n",
            "         3.0       0.51      0.38      0.44      5394\n",
            "         4.0       0.54      0.49      0.52     10943\n",
            "         5.0       0.74      0.86      0.80     18598\n",
            "\n",
            "    accuracy                           0.65     43856\n",
            "   macro avg       0.59      0.57      0.58     43856\n",
            "weighted avg       0.64      0.65      0.64     43856\n",
            "\n",
            "Accuracy Score: 0.653\n",
            "Mean Absolute Error: 0.420\n",
            "Root Mean Square Error: 0.786\n",
            "Mean Square Error: 0.617\n",
            "None \n",
            "\n",
            "For C = 1\n",
            "Classification Report\n",
            "              precision    recall  f1-score   support\n",
            "\n",
            "         1.0       0.70      0.77      0.74      4975\n",
            "         2.0       0.48      0.36      0.41      3946\n",
            "         3.0       0.50      0.39      0.44      5394\n",
            "         4.0       0.54      0.49      0.51     10943\n",
            "         5.0       0.75      0.85      0.80     18598\n",
            "\n",
            "    accuracy                           0.65     43856\n",
            "   macro avg       0.59      0.57      0.58     43856\n",
            "weighted avg       0.64      0.65      0.64     43856\n",
            "\n",
            "Accuracy Score: 0.653\n",
            "Mean Absolute Error: 0.415\n",
            "Root Mean Square Error: 0.773\n",
            "Mean Square Error: 0.597\n",
            "None \n",
            "\n"
          ]
        }
      ]
    },
    {
      "cell_type": "code",
      "source": [
        "lr = LogisticRegression()\n",
        "lr.fit(X_train_2tfidf_10000, y_train)"
      ],
      "metadata": {
        "colab": {
          "base_uri": "https://localhost:8080/"
        },
        "id": "Hfsxq6_i4aeV",
        "outputId": "3399edab-d7e0-4543-e826-1c3c002214aa"
      },
      "execution_count": 44,
      "outputs": [
        {
          "output_type": "execute_result",
          "data": {
            "text/plain": [
              "LogisticRegression()"
            ]
          },
          "metadata": {},
          "execution_count": 44
        }
      ]
    },
    {
      "cell_type": "code",
      "source": [
        "preds = lr.predict(X_test_2tfidf_10000)"
      ],
      "metadata": {
        "id": "sFE7lY6c4yn9"
      },
      "execution_count": 45,
      "outputs": []
    },
    {
      "cell_type": "code",
      "source": [
        "print(print_validation_report(y_test,preds))"
      ],
      "metadata": {
        "colab": {
          "base_uri": "https://localhost:8080/"
        },
        "id": "2yTdQ5iy5RyI",
        "outputId": "fc878c67-0896-47f5-c591-fbc7e3a4bb15"
      },
      "execution_count": 46,
      "outputs": [
        {
          "output_type": "stream",
          "name": "stdout",
          "text": [
            "Classification Report\n",
            "              precision    recall  f1-score   support\n",
            "\n",
            "         1.0       0.70      0.77      0.73      4975\n",
            "         2.0       0.47      0.36      0.41      3946\n",
            "         3.0       0.50      0.39      0.44      5394\n",
            "         4.0       0.54      0.49      0.51     10943\n",
            "         5.0       0.75      0.85      0.80     18598\n",
            "\n",
            "    accuracy                           0.65     43856\n",
            "   macro avg       0.59      0.57      0.58     43856\n",
            "weighted avg       0.64      0.65      0.64     43856\n",
            "\n",
            "Accuracy Score: 0.652\n",
            "Mean Absolute Error: 0.418\n",
            "Root Mean Square Error: 0.779\n",
            "Mean Square Error: 0.607\n",
            "None\n"
          ]
        }
      ]
    },
    {
      "cell_type": "code",
      "source": [
        "plot_confusion_matrix(y_test,preds)"
      ],
      "metadata": {
        "colab": {
          "base_uri": "https://localhost:8080/",
          "height": 497
        },
        "id": "qx4rs6Kz5YA7",
        "outputId": "2d9b4ae3-086b-4470-bc40-7f32279869e5"
      },
      "execution_count": 47,
      "outputs": [
        {
          "output_type": "display_data",
          "data": {
            "text/plain": [
              "<Figure size 576x576 with 1 Axes>"
            ],
            "image/png": "[encoded data removed]"
          },
          "metadata": {
            "needs_background": "light"
          }
        }
      ]
    },
    {
      "cell_type": "code",
      "source": [
        "feature_to_coef = {\n",
        "    word: coef for word, coef in zip(\n",
        "        cv.get_feature_names(), lr.coef_[0]\n",
        "    )\n",
        "}\n",
        "print(\"Best Positive\")\n",
        "for best_positive in sorted(\n",
        "    feature_to_coef.items(), \n",
        "    key=lambda x: x[1])[:50]:\n",
        "    print (best_positive)\n",
        "\n",
        "print(\"Best Negative\")\n",
        "\n",
        "for best_negative in sorted(\n",
        "    feature_to_coef.items(), \n",
        "    key=lambda x: x[1],\n",
        "    reverse=True)[:50]:\n",
        "    print (best_negative)"
      ],
      "metadata": {
        "colab": {
          "base_uri": "https://localhost:8080/"
        },
        "id": "30WuPVI25Rz2",
        "outputId": "b04ecab2-1d05-4200-a5f4-40bd6968082e"
      },
      "execution_count": 54,
      "outputs": [
        {
          "output_type": "stream",
          "name": "stdout",
          "text": [
            "Best Positive\n",
            "('delicious', -10.733842245104999)\n",
            "('great', -9.274891444548917)\n",
            "('amazing', -8.059261860198104)\n",
            "('excellent', -7.460489159552636)\n",
            "('tasty', -6.2918047160668245)\n",
            "('good', -6.249419772798257)\n",
            "('best', -5.84730426814659)\n",
            "('awesome', -5.807411526965785)\n",
            "('love', -5.803560197769274)\n",
            "('fantastic', -5.22574855134141)\n",
            "('perfect', -4.8650444076302275)\n",
            "('friendly', -4.854824594287425)\n",
            "('loved', -4.629120850625488)\n",
            "('favorite', -4.540386154355375)\n",
            "('enjoyed', -4.3758407827322845)\n",
            "('nice', -4.365506684207035)\n",
            "('star', -4.1689478871198125)\n",
            "('little', -4.104164209041819)\n",
            "('wonderful', -4.052499025230858)\n",
            "('always', -3.9787242650702574)\n",
            "('definitely', -3.7553513543058803)\n",
            "('outstanding', -3.489690856980386)\n",
            "('attentive', -3.440553663065543)\n",
            "('food good', -3.3163593429347897)\n",
            "('perfectly', -3.3089691874827354)\n",
            "('yummy', -3.2402056673829636)\n",
            "('flavorful', -2.9943405099467943)\n",
            "('atmosphere', -2.9557894470739194)\n",
            "('clean', -2.7206895710946815)\n",
            "('complaint', -2.7151981076976273)\n",
            "('happy', -2.706267320580172)\n",
            "('liked', -2.70034540979881)\n",
            "('though', -2.678443326294462)\n",
            "('spot', -2.64642090035325)\n",
            "('kind', -2.639740232660084)\n",
            "('incredible', -2.602394748925256)\n",
            "('spicy', -2.598227872820033)\n",
            "('quick', -2.5484497265381045)\n",
            "('food delicious', -2.522372646761716)\n",
            "('solid', -2.5017804482548467)\n",
            "('really good', -2.483104251664786)\n",
            "('usually', -2.4382928763799585)\n",
            "('glad', -2.424013348656485)\n",
            "('fresh', -2.3914019615329316)\n",
            "('unique', -2.3830987274470434)\n",
            "('huge', -2.368510786974763)\n",
            "('pretty', -2.3330396179407757)\n",
            "('quickly', -2.2794525881627203)\n",
            "('quite', -2.271888797455659)\n",
            "('great food', -2.2656213505306004)\n",
            "Best Negative\n",
            "('worst', 8.161428276383143)\n",
            "('terrible', 6.697221577231268)\n",
            "('horrible', 6.681152070203631)\n",
            "('awful', 5.95473207589983)\n",
            "('disgusting', 5.134962950496035)\n",
            "('disappointing', 4.918017151571797)\n",
            "('tasteless', 4.880836350347389)\n",
            "('never back', 4.855123148299109)\n",
            "('bland', 4.816525011964511)\n",
            "('rude', 4.591147687375454)\n",
            "('gross', 4.414346251880783)\n",
            "('poor', 4.20296112661486)\n",
            "('wont back', 3.980147153917793)\n",
            "('overpriced', 3.9253280365775405)\n",
            "('waste', 3.8215817830546697)\n",
            "('left', 3.7967141718832327)\n",
            "('zero', 3.7562942548634926)\n",
            "('worse', 3.686537969065851)\n",
            "('avoid', 3.5568946622807456)\n",
            "('dirty', 3.544591750195708)\n",
            "('nasty', 3.524207087552777)\n",
            "('inedible', 3.4907177350730687)\n",
            "('poisoning', 3.4631204603802974)\n",
            "('food poisoning', 3.425509766216111)\n",
            "('sick', 3.4122217952979526)\n",
            "('refused', 3.2792347070706183)\n",
            "('frozen', 3.275795915767591)\n",
            "('joke', 3.249740904390614)\n",
            "('poorly', 3.246735542274834)\n",
            "('suck', 3.2463648203298683)\n",
            "('disappointment', 3.2290398498098996)\n",
            "('mediocre', 3.1709067784694516)\n",
            "('disappointed', 3.1389418669181914)\n",
            "('cold', 3.0950448817146605)\n",
            "('overcooked', 3.045882334413735)\n",
            "('soggy', 3.032911940713111)\n",
            "('flavorless', 3.020706569174174)\n",
            "('wont', 3.010554378698065)\n",
            "('edible', 2.9484672747728977)\n",
            "('zero star', 2.901838401793263)\n",
            "('sorry', 2.8546234435396265)\n",
            "('tasted like', 2.844886106829441)\n",
            "('hair', 2.8363884683266956)\n",
            "('money', 2.82572700898027)\n",
            "('never', 2.804434836142699)\n",
            "('health', 2.769813554288333)\n",
            "('hour', 2.6618268828963214)\n",
            "('shame', 2.6472215966438237)\n",
            "('yuck', 2.6440387921006567)\n",
            "('paid', 2.6397011642032644)\n"
          ]
        }
      ]
    },
    {
      "cell_type": "markdown",
      "metadata": {
        "id": "AuDBO7XuuxQ3"
      },
      "source": [
        "**Baseline Random Forest**"
      ]
    },
    {
      "cell_type": "code",
      "source": [
        "#rf = RandomForestClassifier(max_features = 'sqrt')\n",
        "#rf.fit(X_train_2tfidf_10000, y_train)"
      ],
      "metadata": {
        "id": "pql31ahmMkOx"
      },
      "execution_count": null,
      "outputs": []
    },
    {
      "cell_type": "code",
      "source": [
        "#preds = rf.predict(X_test_2tfidf_10000)"
      ],
      "metadata": {
        "id": "zitotyTWE6PQ"
      },
      "execution_count": null,
      "outputs": []
    }
  ],
  "metadata": {
    "kernelspec": {
      "display_name": "Python 3",
      "language": "python",
      "name": "python3"
    },
    "language_info": {
      "codemirror_mode": {
        "name": "ipython",
        "version": 3
      },
      "file_extension": ".py",
      "mimetype": "text/x-python",
      "name": "python",
      "nbconvert_exporter": "python",
      "pygments_lexer": "ipython3",
      "version": "3.7.3"
    },
    "colab": {
      "provenance": [],
      "include_colab_link": true
    }
  },
  "nbformat": 4,
  "nbformat_minor": 0
}