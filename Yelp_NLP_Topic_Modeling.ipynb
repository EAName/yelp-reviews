{
  "nbformat": 4,
  "nbformat_minor": 0,
  "metadata": {
    "colab": {
      "provenance": [],
      "collapsed_sections": [],
      "authorship_tag": "ABX9TyPYi9UI5czDcNW1S54jPhZH",
      "include_colab_link": true
    },
    "kernelspec": {
      "name": "python3",
      "display_name": "Python 3"
    },
    "language_info": {
      "name": "python"
    }
  },
  "cells": [
    {
      "cell_type": "markdown",
      "metadata": {
        "id": "view-in-github",
        "colab_type": "text"
      },
      "source": [
        "<a href=\"https://colab.research.google.com/github/EAName/yelp-reviews/blob/main/Yelp_NLP_Topic_Modeling.ipynb\" target=\"_parent\"><img src=\"https://colab.research.google.com/assets/colab-badge.svg\" alt=\"Open In Colab\"/></a>"
      ]
    },
    {
      "cell_type": "code",
      "execution_count": 1,
      "metadata": {
        "id": "92Dg33FmuxQs"
      },
      "outputs": [],
      "source": [
        "import pandas as pd\n",
        "import numpy as np\n",
        "import os\n",
        "import random\n",
        "import numpy as np\n",
        "import pickle \n",
        "import re,string\n",
        "\n",
        "import nltk\n",
        "from nltk.corpus import stopwords\n",
        "from nltk.stem import PorterStemmer\n",
        "from nltk.stem import WordNetLemmatizer\n",
        "from nltk.tokenize import word_tokenize \n",
        "\n",
        "from sklearn.feature_extraction.text import TfidfVectorizer\n",
        "from sklearn.feature_extraction.text import CountVectorizer\n",
        "from sklearn.cluster import KMeans, AgglomerativeClustering\n",
        "from sklearn.metrics.pairwise import cosine_similarity\n",
        "from sklearn.decomposition import TruncatedSVD, LatentDirichletAllocation\n",
        "from sklearn.svm import SVC\n",
        "from sklearn.preprocessing import LabelEncoder, OneHotEncoder\n",
        "from sklearn.ensemble import RandomForestClassifier\n",
        "from sklearn.metrics import roc_auc_score, accuracy_score, confusion_matrix, silhouette_score\n",
        "from sklearn.metrics import precision_score, recall_score, f1_score, classification_report\n",
        "from sklearn.metrics import mean_squared_error as MSE\n",
        "from sklearn.metrics import mean_absolute_error\n",
        "from sklearn.model_selection import cross_val_score, StratifiedKFold\n",
        "from sklearn.tree import DecisionTreeClassifier\n",
        "from sklearn.naive_bayes import MultinomialNB\n",
        "from sklearn.linear_model import LogisticRegression\n",
        "from sklearn.ensemble import RandomForestRegressor\n",
        "from sklearn.metrics import accuracy_score\n",
        "from sklearn.model_selection import train_test_split, KFold\n",
        "from sklearn.manifold import MDS\n",
        "from sklearn.metrics.pairwise import cosine_similarity\n",
        "from sklearn.ensemble import GradientBoostingClassifier\n",
        "from sklearn.svm import LinearSVC\n",
        "\n",
        "\n",
        "\n",
        "from sklearn.model_selection import train_test_split \n",
        "from sklearn.model_selection import GridSearchCV \n",
        "from sklearn.model_selection import cross_val_score \n",
        "from sklearn.model_selection import StratifiedKFold\n",
        "from sklearn.model_selection import KFold \n",
        "from sklearn.model_selection import cross_val_predict\n",
        "\n",
        "\n",
        "import seaborn as sns\n",
        "import matplotlib.pyplot as plt\n",
        "\n",
        "from gensim.models import Word2Vec,LdaMulticore, TfidfModel, CoherenceModel\n",
        "from gensim import corpora\n",
        "from gensim import similarities\n",
        "from gensim.models.doc2vec import Doc2Vec, TaggedDocument\n",
        "from gensim.models import LsiModel,LdaModel\n",
        "\n",
        "from keras.preprocessing.text import Tokenizer\n",
        "#from keras.preprocessing.sequence import pad_sequences\n",
        "from tqdm import tqdm\n",
        "from keras.models import Sequential\n",
        "from keras.layers import Embedding, LSTM, Dense, SpatialDropout1D, GRU\n",
        "from keras.callbacks import EarlyStopping\n",
        "from keras.initializers import Constant\n",
        "from sklearn.model_selection import train_test_split\n",
        "from tensorflow.keras.optimizers import Adam, Nadam, RMSprop\n",
        "from keras import Input\n",
        "\n",
        "from IPython.display import display"
      ]
    },
    {
      "cell_type": "code",
      "source": [
        "nltk.download('stopwords')\n",
        "nltk.download('wordnet')\n",
        "nltk.download('omw-1.4')"
      ],
      "metadata": {
        "colab": {
          "base_uri": "https://localhost:8080/"
        },
        "id": "VGHly-zIpris",
        "outputId": "277525cc-6e20-4025-d655-beef80f06f88"
      },
      "execution_count": 2,
      "outputs": [
        {
          "output_type": "stream",
          "name": "stderr",
          "text": [
            "[nltk_data] Downloading package stopwords to /root/nltk_data...\n",
            "[nltk_data]   Package stopwords is already up-to-date!\n",
            "[nltk_data] Downloading package wordnet to /root/nltk_data...\n",
            "[nltk_data]   Package wordnet is already up-to-date!\n",
            "[nltk_data] Downloading package omw-1.4 to /root/nltk_data...\n",
            "[nltk_data]   Package omw-1.4 is already up-to-date!\n"
          ]
        },
        {
          "output_type": "execute_result",
          "data": {
            "text/plain": [
              "True"
            ]
          },
          "metadata": {},
          "execution_count": 2
        }
      ]
    },
    {
      "cell_type": "code",
      "source": [
        "import warnings\n",
        "warnings.filterwarnings('ignore')"
      ],
      "metadata": {
        "id": "ovbC3RlUpxKS"
      },
      "execution_count": 3,
      "outputs": []
    },
    {
      "cell_type": "code",
      "source": [
        "from google.colab import drive\n",
        "drive.mount('/content/gdrive')"
      ],
      "metadata": {
        "colab": {
          "base_uri": "https://localhost:8080/"
        },
        "id": "xqTk3PNGvHH2",
        "outputId": "09bf078a-ede2-4ee7-94e8-67e770e80356"
      },
      "execution_count": 4,
      "outputs": [
        {
          "output_type": "stream",
          "name": "stdout",
          "text": [
            "Drive already mounted at /content/gdrive; to attempt to forcibly remount, call drive.mount(\"/content/gdrive\", force_remount=True).\n"
          ]
        }
      ]
    },
    {
      "cell_type": "code",
      "source": [
        "df = pd.read_csv('/content/gdrive/MyDrive/Data/yelp_reviews_clean_version4_st_louis.csv')"
      ],
      "metadata": {
        "id": "ofrho4sfu5nc"
      },
      "execution_count": 5,
      "outputs": []
    },
    {
      "cell_type": "code",
      "source": [
        "df.shape"
      ],
      "metadata": {
        "colab": {
          "base_uri": "https://localhost:8080/"
        },
        "id": "MfQeqg9yvQnR",
        "outputId": "8dd77b5e-4c30-4800-ba96-4d7de7557eae"
      },
      "execution_count": 6,
      "outputs": [
        {
          "output_type": "execute_result",
          "data": {
            "text/plain": [
              "(292376, 5)"
            ]
          },
          "metadata": {},
          "execution_count": 6
        }
      ]
    },
    {
      "cell_type": "code",
      "source": [
        "plt.figure(figsize=(10,6))\n",
        "ax = sns.countplot(df['stars'])\n",
        "plt.title('Distribution of rating');\n",
        "plt.title(\"Star Rating Distribution\")\n",
        "plt.ylabel('# of businesses', fontsize=12)\n",
        "plt.xlabel('Star Ratings ', fontsize=12)"
      ],
      "metadata": {
        "colab": {
          "base_uri": "https://localhost:8080/",
          "height": 424
        },
        "id": "Ab2dpm8VYBUR",
        "outputId": "62763bfe-8a19-46ae-c28f-73763c0ab220"
      },
      "execution_count": 7,
      "outputs": [
        {
          "output_type": "execute_result",
          "data": {
            "text/plain": [
              "Text(0.5, 0, 'Star Ratings ')"
            ]
          },
          "metadata": {},
          "execution_count": 7
        },
        {
          "output_type": "display_data",
          "data": {
            "text/plain": [
              "<Figure size 720x432 with 1 Axes>"
            ],
            "image/png": "[encoded data removed]"
          },
          "metadata": {
            "needs_background": "light"
          }
        }
      ]
    },
    {
      "cell_type": "code",
      "source": [
        "# sample 10,000 reviews\n",
        "df = df.sample(n=10000, random_state=1)"
      ],
      "metadata": {
        "id": "19JslLhFXt5g"
      },
      "execution_count": 8,
      "outputs": []
    },
    {
      "cell_type": "code",
      "source": [
        "plt.figure(figsize=(10,6))\n",
        "ax = sns.countplot(df['stars'])\n",
        "plt.title('Distribution of rating');\n",
        "plt.title(\"Star Rating Distribution\")\n",
        "plt.ylabel('# of businesses', fontsize=12)\n",
        "plt.xlabel('Star Ratings ', fontsize=12)"
      ],
      "metadata": {
        "colab": {
          "base_uri": "https://localhost:8080/",
          "height": 424
        },
        "id": "cRiti7FkYQbA",
        "outputId": "c7db1ef1-06ae-4e0c-f322-e04555470dae"
      },
      "execution_count": 9,
      "outputs": [
        {
          "output_type": "execute_result",
          "data": {
            "text/plain": [
              "Text(0.5, 0, 'Star Ratings ')"
            ]
          },
          "metadata": {},
          "execution_count": 9
        },
        {
          "output_type": "display_data",
          "data": {
            "text/plain": [
              "<Figure size 720x432 with 1 Axes>"
            ],
            "image/png": "[encoded data removed]"
          },
          "metadata": {
            "needs_background": "light"
          }
        }
      ]
    },
    {
      "cell_type": "markdown",
      "metadata": {
        "id": "Ede7p75luxQy"
      },
      "source": [
        "**Extract year**"
      ]
    },
    {
      "cell_type": "code",
      "execution_count": 10,
      "metadata": {
        "id": "SggCnX1zuxQy"
      },
      "outputs": [],
      "source": [
        "df['review_year'] = df['date'].apply(lambda x:int(x[:4]))"
      ]
    },
    {
      "cell_type": "markdown",
      "metadata": {
        "id": "-_4Eohp3uxQy"
      },
      "source": [
        "**Look at distribution of reviews by year**"
      ]
    },
    {
      "cell_type": "code",
      "source": [
        "df.review_year.value_counts(ascending= True)"
      ],
      "metadata": {
        "colab": {
          "base_uri": "https://localhost:8080/"
        },
        "id": "8BiT5Omkvh9q",
        "outputId": "58e7487a-cdd3-41a8-aee8-1e4187015527"
      },
      "execution_count": 11,
      "outputs": [
        {
          "output_type": "execute_result",
          "data": {
            "text/plain": [
              "2006      11\n",
              "2007      24\n",
              "2022      32\n",
              "2008     101\n",
              "2009     112\n",
              "2010     308\n",
              "2011     456\n",
              "2012     531\n",
              "2013     616\n",
              "2020     646\n",
              "2021     746\n",
              "2014     779\n",
              "2015     998\n",
              "2016    1079\n",
              "2017    1127\n",
              "2018    1181\n",
              "2019    1253\n",
              "Name: review_year, dtype: int64"
            ]
          },
          "metadata": {},
          "execution_count": 11
        }
      ]
    },
    {
      "cell_type": "markdown",
      "metadata": {
        "id": "Du6o1gITuxQy"
      },
      "source": [
        "**Create 1-0 sentiment flag**"
      ]
    },
    {
      "cell_type": "code",
      "execution_count": 12,
      "metadata": {
        "id": "zH9VbEWHuxQy"
      },
      "outputs": [],
      "source": [
        "df['sentiment'] = df['stars'].apply(lambda x: 1 if x >= 4 else 0)"
      ]
    },
    {
      "cell_type": "markdown",
      "metadata": {
        "id": "T7yBmnQguxQz"
      },
      "source": [
        "**Drop reviews older than 2011**"
      ]
    },
    {
      "cell_type": "code",
      "execution_count": 13,
      "metadata": {
        "id": "v3QeIOP6uxQz"
      },
      "outputs": [],
      "source": [
        "#df = df[(df['review_year'] > 2011)]"
      ]
    },
    {
      "cell_type": "code",
      "source": [
        "#df.shape"
      ],
      "metadata": {
        "id": "z9TQ9u8L4QfF"
      },
      "execution_count": 14,
      "outputs": []
    },
    {
      "cell_type": "markdown",
      "metadata": {
        "id": "f2OVxMlpuxQz"
      },
      "source": [
        "## Text Preprocessing "
      ]
    },
    {
      "cell_type": "code",
      "source": [
        "def clean_doc(doc): \n",
        "    #split review into individual words\n",
        "    tokens=doc.split()\n",
        "    re_punc = re.compile('[%s]' % re.escape(string.punctuation))\n",
        "    # remove punctuation from each word\n",
        "    tokens = [re_punc.sub('', w) for w in tokens]\n",
        "\n",
        "    #word lemmzatization    \n",
        "    lemm = WordNetLemmatizer()\n",
        "    tokens=[lemm.lemmatize(word) for word in tokens]\n",
        "\n",
        "    # remove remaining tokens that are not alphabetic\n",
        "    tokens = [word for word in tokens if word.isalpha()]\n",
        "    # filter out short tokens\n",
        "    tokens = [word for word in tokens if len(word) > 3]\n",
        "    #lowercase all words\n",
        "    tokens = [word.lower() for word in tokens]\n",
        "    # filter out stop words\n",
        "    stop_words = set(stopwords.words('english'))\n",
        "    tokens = [w for w in tokens if not w in stop_words]     \n",
        "\n",
        "    # filter out common words\n",
        "    #tokens = [w for w in tokens if not w in ['movie', 'movies', 'films']]      \n",
        "    # # word stemming    \n",
        "    # ps=PorterStemmer()\n",
        "    # tokens=[ps.stem(word) for word in tokens]\n",
        "\n",
        "    return tokens\n",
        "\n",
        "def final_processed_text(doc):\n",
        "    #this is a function to join the processed text back\n",
        "    ' '.join(doc)\n",
        "    return doc"
      ],
      "metadata": {
        "id": "9aA2s_9J1hao"
      },
      "execution_count": 15,
      "outputs": []
    },
    {
      "cell_type": "code",
      "source": [
        "df['cleaned_text'] = df['text'].apply(lambda x: clean_doc(x))\n",
        "\n",
        "final_processed_text = [' '.join(x) for x in df['cleaned_text'].tolist()]\n",
        "df['final_processed_text'] = final_processed_text     #add to dataframe"
      ],
      "metadata": {
        "id": "cFEYh7_b1hc0"
      },
      "execution_count": 16,
      "outputs": []
    },
    {
      "cell_type": "code",
      "source": [
        "df['text length'] = df['text'].apply(len)"
      ],
      "metadata": {
        "id": "3jczJFSds5vH"
      },
      "execution_count": 17,
      "outputs": []
    },
    {
      "cell_type": "code",
      "source": [
        "final_processed_text[0]"
      ],
      "metadata": {
        "colab": {
          "base_uri": "https://localhost:8080/",
          "height": 87
        },
        "id": "KOC1OSzkbri6",
        "outputId": "15a07bc3-4484-4c46-b21a-fd65de1c82f4"
      },
      "execution_count": 18,
      "outputs": [
        {
          "output_type": "execute_result",
          "data": {
            "text/plain": [
              "'came around third person party wasnt supposed arrive around seated promptly even without full party dont busy ordered risotto ball couldnt wait third person arrive digging gooey little bite deliciousness order offered fresh sliced bread dont deny thats darn good bread everyone arrived ordered pasta suggestion waitress helpful knowledgeable menu also asked mixed soda drink wasnt cherry limeade said bartender could something ended previous month specialty drink raspberry black pepper meal complete enjoyed tasting ending meal gelato well back soon phenomenal looking pizza update came back pizza gelato baseball game enjoyed especially foodie'"
            ],
            "application/vnd.google.colaboratory.intrinsic+json": {
              "type": "string"
            }
          },
          "metadata": {},
          "execution_count": 18
        }
      ]
    },
    {
      "cell_type": "code",
      "source": [
        "#df.to_csv('/content/gdrive/MyDrive/data/yelp_reviews_pre_processed_v2.csv', index = False)"
      ],
      "metadata": {
        "id": "m2gkVi83txjl"
      },
      "execution_count": 19,
      "outputs": []
    },
    {
      "cell_type": "code",
      "source": [
        "#df = pd.read_csv('/content/gdrive/MyDrive/data/yelp_reviews_pre_processed_v2.csv')"
      ],
      "metadata": {
        "id": "UdiIQGmkamjR"
      },
      "execution_count": 20,
      "outputs": []
    },
    {
      "cell_type": "code",
      "source": [
        "df.head()"
      ],
      "metadata": {
        "colab": {
          "base_uri": "https://localhost:8080/",
          "height": 441
        },
        "id": "OmWMPf4vt4M9",
        "outputId": "913e5758-1cab-4210-c71d-4f1e594414cb"
      },
      "execution_count": 21,
      "outputs": [
        {
          "output_type": "execute_result",
          "data": {
            "text/plain": [
              "                       user_id             business_id                 date  \\\n",
              "34977   J77sLuzhywuyDI2ro0ySkQ  YSgcojsb2kWHXNLWaGCuBA  2016-07-26 19:43:56   \n",
              "225241  Nzy7auzEFEN5wthmL9a00w  jME5VhjMZvNKsQJwsPKL7Q  2016-08-22 16:50:49   \n",
              "202828  VZGTPhVezGAIxsYgrhCLyw  s7JxSEtIumoFod2Jdj0_-g  2018-11-22 12:00:07   \n",
              "107110  o15SFerEo23dMSiY_P2xEw  oC91lprbbfzw7DOYiYln7Q  2014-11-16 18:05:18   \n",
              "52350   gFttJC8-aX5bXcUuqyH5CA  9llupBLdHKFzfawIk6I74w  2013-08-30 01:16:57   \n",
              "\n",
              "        stars                                               text  review_year  \\\n",
              "34977     5.0  My mom and I came in around 5:15 and the third...         2016   \n",
              "225241    4.0  Great place for lunch. Inside and Outside seat...         2016   \n",
              "202828    1.0  Horrible experience! Owner is completely rude ...         2018   \n",
              "107110    4.0  Didn't realize I hadn't written review on this...         2014   \n",
              "52350     4.0  I have been here like 5 times and everytime I ...         2013   \n",
              "\n",
              "        sentiment                                       cleaned_text  \\\n",
              "34977           1  [came, around, third, person, party, wasnt, su...   \n",
              "225241          1  [great, place, lunch, inside, outside, seating...   \n",
              "202828          0  [horrible, experience, owner, completely, rude...   \n",
              "107110          1  [didnt, realize, hadnt, written, review, place...   \n",
              "52350           1  [like, time, everytime, like, coming, back, re...   \n",
              "\n",
              "                                     final_processed_text  text length  \n",
              "34977   came around third person party wasnt supposed ...         1065  \n",
              "225241  great place lunch inside outside seating food ...          172  \n",
              "202828  horrible experience owner completely rude unpr...          193  \n",
              "107110  didnt realize hadnt written review place good ...          893  \n",
              "52350   like time everytime like coming back restauran...         1554  "
            ],
            "text/html": [
              "\n",
              "  <div id=\"df-a4638862-8c36-442b-9326-271090100338\">\n",
              "    <div class=\"colab-df-container\">\n",
              "      <div>\n",
              "<style scoped>\n",
              "    .dataframe tbody tr th:only-of-type {\n",
              "        vertical-align: middle;\n",
              "    }\n",
              "\n",
              "    .dataframe tbody tr th {\n",
              "        vertical-align: top;\n",
              "    }\n",
              "\n",
              "    .dataframe thead th {\n",
              "        text-align: right;\n",
              "    }\n",
              "</style>\n",
              "<table border=\"1\" class=\"dataframe\">\n",
              "  <thead>\n",
              "    <tr style=\"text-align: right;\">\n",
              "      <th></th>\n",
              "      <th>user_id</th>\n",
              "      <th>business_id</th>\n",
              "      <th>date</th>\n",
              "      <th>stars</th>\n",
              "      <th>text</th>\n",
              "      <th>review_year</th>\n",
              "      <th>sentiment</th>\n",
              "      <th>cleaned_text</th>\n",
              "      <th>final_processed_text</th>\n",
              "      <th>text length</th>\n",
              "    </tr>\n",
              "  </thead>\n",
              "  <tbody>\n",
              "    <tr>\n",
              "      <th>34977</th>\n",
              "      <td>J77sLuzhywuyDI2ro0ySkQ</td>\n",
              "      <td>YSgcojsb2kWHXNLWaGCuBA</td>\n",
              "      <td>2016-07-26 19:43:56</td>\n",
              "      <td>5.0</td>\n",
              "      <td>My mom and I came in around 5:15 and the third...</td>\n",
              "      <td>2016</td>\n",
              "      <td>1</td>\n",
              "      <td>[came, around, third, person, party, wasnt, su...</td>\n",
              "      <td>came around third person party wasnt supposed ...</td>\n",
              "      <td>1065</td>\n",
              "    </tr>\n",
              "    <tr>\n",
              "      <th>225241</th>\n",
              "      <td>Nzy7auzEFEN5wthmL9a00w</td>\n",
              "      <td>jME5VhjMZvNKsQJwsPKL7Q</td>\n",
              "      <td>2016-08-22 16:50:49</td>\n",
              "      <td>4.0</td>\n",
              "      <td>Great place for lunch. Inside and Outside seat...</td>\n",
              "      <td>2016</td>\n",
              "      <td>1</td>\n",
              "      <td>[great, place, lunch, inside, outside, seating...</td>\n",
              "      <td>great place lunch inside outside seating food ...</td>\n",
              "      <td>172</td>\n",
              "    </tr>\n",
              "    <tr>\n",
              "      <th>202828</th>\n",
              "      <td>VZGTPhVezGAIxsYgrhCLyw</td>\n",
              "      <td>s7JxSEtIumoFod2Jdj0_-g</td>\n",
              "      <td>2018-11-22 12:00:07</td>\n",
              "      <td>1.0</td>\n",
              "      <td>Horrible experience! Owner is completely rude ...</td>\n",
              "      <td>2018</td>\n",
              "      <td>0</td>\n",
              "      <td>[horrible, experience, owner, completely, rude...</td>\n",
              "      <td>horrible experience owner completely rude unpr...</td>\n",
              "      <td>193</td>\n",
              "    </tr>\n",
              "    <tr>\n",
              "      <th>107110</th>\n",
              "      <td>o15SFerEo23dMSiY_P2xEw</td>\n",
              "      <td>oC91lprbbfzw7DOYiYln7Q</td>\n",
              "      <td>2014-11-16 18:05:18</td>\n",
              "      <td>4.0</td>\n",
              "      <td>Didn't realize I hadn't written review on this...</td>\n",
              "      <td>2014</td>\n",
              "      <td>1</td>\n",
              "      <td>[didnt, realize, hadnt, written, review, place...</td>\n",
              "      <td>didnt realize hadnt written review place good ...</td>\n",
              "      <td>893</td>\n",
              "    </tr>\n",
              "    <tr>\n",
              "      <th>52350</th>\n",
              "      <td>gFttJC8-aX5bXcUuqyH5CA</td>\n",
              "      <td>9llupBLdHKFzfawIk6I74w</td>\n",
              "      <td>2013-08-30 01:16:57</td>\n",
              "      <td>4.0</td>\n",
              "      <td>I have been here like 5 times and everytime I ...</td>\n",
              "      <td>2013</td>\n",
              "      <td>1</td>\n",
              "      <td>[like, time, everytime, like, coming, back, re...</td>\n",
              "      <td>like time everytime like coming back restauran...</td>\n",
              "      <td>1554</td>\n",
              "    </tr>\n",
              "  </tbody>\n",
              "</table>\n",
              "</div>\n",
              "      <button class=\"colab-df-convert\" onclick=\"convertToInteractive('df-a4638862-8c36-442b-9326-271090100338')\"\n",
              "              title=\"Convert this dataframe to an interactive table.\"\n",
              "              style=\"display:none;\">\n",
              "        \n",
              "  <svg xmlns=\"http://www.w3.org/2000/svg\" height=\"24px\"viewBox=\"0 0 24 24\"\n",
              "       width=\"24px\">\n",
              "    <path d=\"M0 0h24v24H0V0z\" fill=\"none\"/>\n",
              "    <path d=\"M18.56 5.44l.94 2.06.94-2.06 2.06-.94-2.06-.94-.94-2.06-.94 2.06-2.06.94zm-11 1L8.5 8.5l.94-2.06 2.06-.94-2.06-.94L8.5 2.5l-.94 2.06-2.06.94zm10 10l.94 2.06.94-2.06 2.06-.94-2.06-.94-.94-2.06-.94 2.06-2.06.94z\"/><path d=\"M17.41 7.96l-1.37-1.37c-.4-.4-.92-.59-1.43-.59-.52 0-1.04.2-1.43.59L10.3 9.45l-7.72 7.72c-.78.78-.78 2.05 0 2.83L4 21.41c.39.39.9.59 1.41.59.51 0 1.02-.2 1.41-.59l7.78-7.78 2.81-2.81c.8-.78.8-2.07 0-2.86zM5.41 20L4 18.59l7.72-7.72 1.47 1.35L5.41 20z\"/>\n",
              "  </svg>\n",
              "      </button>\n",
              "      \n",
              "  <style>\n",
              "    .colab-df-container {\n",
              "      display:flex;\n",
              "      flex-wrap:wrap;\n",
              "      gap: 12px;\n",
              "    }\n",
              "\n",
              "    .colab-df-convert {\n",
              "      background-color: #E8F0FE;\n",
              "      border: none;\n",
              "      border-radius: 50%;\n",
              "      cursor: pointer;\n",
              "      display: none;\n",
              "      fill: #1967D2;\n",
              "      height: 32px;\n",
              "      padding: 0 0 0 0;\n",
              "      width: 32px;\n",
              "    }\n",
              "\n",
              "    .colab-df-convert:hover {\n",
              "      background-color: #E2EBFA;\n",
              "      box-shadow: 0px 1px 2px rgba(60, 64, 67, 0.3), 0px 1px 3px 1px rgba(60, 64, 67, 0.15);\n",
              "      fill: #174EA6;\n",
              "    }\n",
              "\n",
              "    [theme=dark] .colab-df-convert {\n",
              "      background-color: #3B4455;\n",
              "      fill: #D2E3FC;\n",
              "    }\n",
              "\n",
              "    [theme=dark] .colab-df-convert:hover {\n",
              "      background-color: #434B5C;\n",
              "      box-shadow: 0px 1px 3px 1px rgba(0, 0, 0, 0.15);\n",
              "      filter: drop-shadow(0px 1px 2px rgba(0, 0, 0, 0.3));\n",
              "      fill: #FFFFFF;\n",
              "    }\n",
              "  </style>\n",
              "\n",
              "      <script>\n",
              "        const buttonEl =\n",
              "          document.querySelector('#df-a4638862-8c36-442b-9326-271090100338 button.colab-df-convert');\n",
              "        buttonEl.style.display =\n",
              "          google.colab.kernel.accessAllowed ? 'block' : 'none';\n",
              "\n",
              "        async function convertToInteractive(key) {\n",
              "          const element = document.querySelector('#df-a4638862-8c36-442b-9326-271090100338');\n",
              "          const dataTable =\n",
              "            await google.colab.kernel.invokeFunction('convertToInteractive',\n",
              "                                                     [key], {});\n",
              "          if (!dataTable) return;\n",
              "\n",
              "          const docLinkHtml = 'Like what you see? Visit the ' +\n",
              "            '<a target=\"_blank\" href=https://colab.research.google.com/notebooks/data_table.ipynb>data table notebook</a>'\n",
              "            + ' to learn more about interactive tables.';\n",
              "          element.innerHTML = '';\n",
              "          dataTable['output_type'] = 'display_data';\n",
              "          await google.colab.output.renderOutput(dataTable, element);\n",
              "          const docLink = document.createElement('div');\n",
              "          docLink.innerHTML = docLinkHtml;\n",
              "          element.appendChild(docLink);\n",
              "        }\n",
              "      </script>\n",
              "    </div>\n",
              "  </div>\n",
              "  "
            ]
          },
          "metadata": {},
          "execution_count": 21
        }
      ]
    },
    {
      "cell_type": "code",
      "source": [
        "# Lets visualise the review text and stars for a business\n",
        "g = sns.FacetGrid(data=df, col='stars')\n",
        "g.map(plt.hist, 'text length', bins=50)"
      ],
      "metadata": {
        "colab": {
          "base_uri": "https://localhost:8080/",
          "height": 242
        },
        "id": "dRBhqCZ_s9LJ",
        "outputId": "ec6f8eae-11ec-4d6d-b76b-fd1f41f7be1c"
      },
      "execution_count": 22,
      "outputs": [
        {
          "output_type": "execute_result",
          "data": {
            "text/plain": [
              "<seaborn.axisgrid.FacetGrid at 0x7f94bb996090>"
            ]
          },
          "metadata": {},
          "execution_count": 22
        },
        {
          "output_type": "display_data",
          "data": {
            "text/plain": [
              "<Figure size 1080x216 with 5 Axes>"
            ],
            "image/png": "[encoded data removed]"
          },
          "metadata": {
            "needs_background": "light"
          }
        }
      ]
    },
    {
      "cell_type": "markdown",
      "source": [
        "###K-Mean Clustering"
      ],
      "metadata": {
        "id": "w0Apfj--SykF"
      }
    },
    {
      "cell_type": "code",
      "source": [
        "def tfidf(corpus, titles, ngram_range = (1,1)):\n",
        "    #this is a function to created the tfidf matrix\n",
        "    Tfidf=TfidfVectorizer(ngram_range= ngram_range, max_features = 2000)\n",
        "\n",
        "    #fit the vectorizer using final processed documents.  The vectorizer requires the \n",
        "    #stiched back together document.\n",
        "\n",
        "    TFIDF_matrix=Tfidf.fit_transform(corpus)     \n",
        "\n",
        "    #creating datafram from TFIDF Matrix\n",
        "    words = Tfidf.get_feature_names()\n",
        "    matrix=pd.DataFrame(TFIDF_matrix.toarray(), columns=Tfidf.get_feature_names(), index=titles)\n",
        "    return matrix, words"
      ],
      "metadata": {
        "id": "YSOtJ4zdSz_-"
      },
      "execution_count": 66,
      "outputs": []
    },
    {
      "cell_type": "code",
      "source": [
        "def k_means(titles, tfidf_matrix, k=3):\n",
        "    \n",
        "    #this is a function to generate the k-means output using the tfidf matrix.  Inputs \n",
        "    #to the function include: titles of text, processed text, and desired k value. \n",
        "    #Returns dataframe indicating cluster number per document\n",
        "\n",
        "    km = KMeans(n_clusters=k, random_state =89)\n",
        "    km.fit(tfidf_matrix)\n",
        "    clusters = km.labels_.tolist()\n",
        "\n",
        "    Dictionary={'Doc Name':titles, 'Cluster':clusters,  'Text': final_processed_text}\n",
        "    frame=pd.DataFrame(Dictionary, columns=['Cluster', 'Doc Name','Text'])\n",
        "\n",
        "    print(\"Top terms per cluster:\")\n",
        "    #sort cluster centers by proximity to centroid\n",
        "    order_centroids = km.cluster_centers_.argsort()[:, ::-1] \n",
        "\n",
        "    terms_dict=[]\n",
        "\n",
        "    #dictionary to store clusters and respective titles\n",
        "    cluster_terms={}\n",
        "    cluster_title={}\n",
        "\n",
        "    #note doc2vec clusters will not have individual words due to the vector representation\n",
        "    #is based on the entire document not indvidual words. As a result, there won't be individual\n",
        "    #word outputs from each cluster.  \n",
        "\n",
        "    for i in range(k):\n",
        "        print(\"Cluster %d:\" % i),\n",
        "        temp_terms=[]\n",
        "        temp_titles=[]\n",
        "        temp=frame[frame['Cluster']==i]\n",
        "        docs_list = temp['Doc Name'].tolist()\n",
        "        cluster_matrix = tfidf_matrix.loc[docs_list]\n",
        "\n",
        "        df1 = pd.DataFrame(columns = ['term', 'Average tf-idf score'])\n",
        "\n",
        "        for ind in order_centroids[i, :20]:\n",
        "            #print(' %s' % terms[ind])\n",
        "            #print(round(cluster_matrix.iloc[:,ind].mean(),5))\n",
        "            terms_dict.append(terms[ind])\n",
        "            temp_terms.append(terms[ind])\n",
        "                        \n",
        "            df1 = df1.append({'term': terms[ind], 'Average tf-idf score':round(cluster_matrix.iloc[:,ind].mean(),4) }, ignore_index = True)\n",
        "        cluster_terms[i]=temp_terms\n",
        "        print(df1)\n",
        "        print(\"\\n\")\n",
        "\n",
        "        #print(\"Cluster %d titles:\" % i, end = '')\n",
        "        temp=frame[frame['Cluster']==i]\n",
        "        print('Cluster size: ', len(temp['Doc Name']))\n",
        "        # for title in temp['Doc Name']:\n",
        "        #     print(' %s' % title, end='\\n')\n",
        "        #     temp_titles.append(title)\n",
        "        # cluster_title[i]=temp_titles\n",
        "        print(\"\\n\")\n",
        "\n",
        "\n",
        "    return cluster_title,clusters,frame"
      ],
      "metadata": {
        "id": "Zx0qotJiS0CF"
      },
      "execution_count": 74,
      "outputs": []
    },
    {
      "cell_type": "code",
      "source": [
        "titles = list(range(10000))"
      ],
      "metadata": {
        "id": "gMkJllzAS0GK"
      },
      "execution_count": 34,
      "outputs": []
    },
    {
      "cell_type": "code",
      "source": [
        "tfidf_matrix, terms = tfidf(final_processed_text, titles, ngram_range = (1,1))"
      ],
      "metadata": {
        "id": "tfYdCq3VS0Kt"
      },
      "execution_count": 69,
      "outputs": []
    },
    {
      "cell_type": "code",
      "source": [
        "k_list = [5, 8, 10]\n",
        "\n",
        "#silhoutte score list\n",
        "sil_scores = []\n",
        "\n",
        "for k in k_list:\n",
        "    km = KMeans(n_clusters=k, random_state =89)\n",
        "    km.fit(tfidf_matrix)\n",
        "    labels = km.labels_.tolist()\n",
        "    score = silhouette_score(tfidf_matrix, labels)\n",
        "    sil_scores.append(score)"
      ],
      "metadata": {
        "id": "tyxLNJvre6uK"
      },
      "execution_count": 37,
      "outputs": []
    },
    {
      "cell_type": "code",
      "source": [
        "k_list2 = [4, 6, 7, 9]\n",
        "\n",
        "#silhoutte score list\n",
        "#sil_scores2 = []\n",
        "\n",
        "for k in k_list2:\n",
        "    km = KMeans(n_clusters=k, random_state =89)\n",
        "    km.fit(tfidf_matrix)\n",
        "    labels = km.labels_.tolist()\n",
        "    score = silhouette_score(tfidf_matrix, labels)\n",
        "    sil_scores.append(score)\n",
        "    k_list.append(k)"
      ],
      "metadata": {
        "id": "u0rS6qzHiqa8"
      },
      "execution_count": 41,
      "outputs": []
    },
    {
      "cell_type": "code",
      "source": [
        "k_list3 = [2, 3, 11, 12]\n",
        "\n",
        "#silhoutte score list\n",
        "#sil_scores2 = []\n",
        "\n",
        "for k in k_list3:\n",
        "    km = KMeans(n_clusters=k, random_state =89)\n",
        "    km.fit(tfidf_matrix)\n",
        "    labels = km.labels_.tolist()\n",
        "    score = silhouette_score(tfidf_matrix, labels)\n",
        "    sil_scores.append(score)\n",
        "    k_list.append(k)"
      ],
      "metadata": {
        "id": "Rd4PTUumpjcg"
      },
      "execution_count": 61,
      "outputs": []
    },
    {
      "cell_type": "code",
      "source": [
        "sil = list(zip(k_list,sil_scores))\n",
        "sil_df = pd.DataFrame(sil, columns = ['k_list', 'sil_scores'])\n",
        "sil_df = sil_df.sort_values(by=['k_list'])"
      ],
      "metadata": {
        "id": "KVTL_1nXoe5f"
      },
      "execution_count": 63,
      "outputs": []
    },
    {
      "cell_type": "code",
      "source": [
        "# plot silhouette score\n",
        "plt.figure(figsize=(12, 4))\n",
        "plt.scatter(sil_df['k_list'], sil_df['sil_scores'])\n",
        "plt.plot(sil_df['k_list'], sil_df['sil_scores'])\n",
        "plt.xlabel(\"clusters\")\n",
        "plt.ylabel(\"sillhouette score\")\n",
        "plt.show()"
      ],
      "metadata": {
        "colab": {
          "base_uri": "https://localhost:8080/",
          "height": 279
        },
        "id": "XAH1xoHdhUno",
        "outputId": "9db3dbda-1327-4940-b518-bda37e598cb3"
      },
      "execution_count": 65,
      "outputs": [
        {
          "output_type": "display_data",
          "data": {
            "text/plain": [
              "<Figure size 864x288 with 1 Axes>"
            ],
            "image/png": "[encoded data removed]"
          },
          "metadata": {
            "needs_background": "light"
          }
        }
      ]
    },
    {
      "cell_type": "code",
      "source": [
        "cluster_title,clusters,k_means_df = k_means(titles, tfidf_matrix, k =9)"
      ],
      "metadata": {
        "id": "uz21M_0BS0IW",
        "colab": {
          "base_uri": "https://localhost:8080/"
        },
        "outputId": "5a48a976-0d1c-4053-dd7d-f29e106b1ddb"
      },
      "execution_count": 75,
      "outputs": [
        {
          "output_type": "stream",
          "name": "stdout",
          "text": [
            "Top terms per cluster:\n",
            "Cluster 0:\n",
            "         term  Average tf-idf score\n",
            "0        taco                0.2656\n",
            "1       salsa                0.0804\n",
            "2     mexican                0.0684\n",
            "3        chip                0.0465\n",
            "4        fish                0.0462\n",
            "5        good                0.0452\n",
            "6        food                0.0447\n",
            "7   margarita                0.0438\n",
            "8       great                0.0315\n",
            "9   delicious                0.0306\n",
            "10    burrito                0.0291\n",
            "11     street                0.0280\n",
            "12      place                0.0280\n",
            "13       like                0.0273\n",
            "14   tortilla                0.0268\n",
            "15       back                0.0263\n",
            "16    amazing                0.0255\n",
            "17    chicken                0.0246\n",
            "18     really                0.0242\n",
            "19       time                0.0238\n",
            "\n",
            "\n",
            "Cluster size:  275\n",
            "\n",
            "\n",
            "Cluster 1:\n",
            "         term  Average tf-idf score\n",
            "0       pizza                0.3253\n",
            "1       crust                0.0574\n",
            "2        good                0.0446\n",
            "3       salad                0.0404\n",
            "4       place                0.0369\n",
            "5       great                0.0352\n",
            "6      cheese                0.0348\n",
            "7       style                0.0321\n",
            "8        like                0.0279\n",
            "9       louis                0.0274\n",
            "10       best                0.0259\n",
            "11    ordered                0.0250\n",
            "12      sauce                0.0245\n",
            "13       time                0.0245\n",
            "14    topping                0.0240\n",
            "15       thin                0.0235\n",
            "16  pepperoni                0.0234\n",
            "17    service                0.0221\n",
            "18      order                0.0219\n",
            "19       back                0.0216\n",
            "\n",
            "\n",
            "Cluster size:  569\n",
            "\n",
            "\n",
            "Cluster 2:\n",
            "        term  Average tf-idf score\n",
            "0       good                0.0540\n",
            "1    chicken                0.0538\n",
            "2      sauce                0.0387\n",
            "3    ordered                0.0367\n",
            "4      salad                0.0353\n",
            "5       like                0.0346\n",
            "6     cheese                0.0329\n",
            "7   sandwich                0.0309\n",
            "8     really                0.0306\n",
            "9       side                0.0292\n",
            "10      food                0.0284\n",
            "11      also                0.0283\n",
            "12     place                0.0279\n",
            "13     fried                0.0278\n",
            "14      dish                0.0253\n",
            "15     great                0.0249\n",
            "16      time                0.0240\n",
            "17    burger                0.0237\n",
            "18      back                0.0233\n",
            "19    flavor                0.0232\n",
            "\n",
            "\n",
            "Cluster size:  2243\n",
            "\n",
            "\n",
            "Cluster 3:\n",
            "         term  Average tf-idf score\n",
            "0       sushi                0.3096\n",
            "1        roll                0.1779\n",
            "2       place                0.0409\n",
            "3       great                0.0384\n",
            "4        good                0.0377\n",
            "5     service                0.0321\n",
            "6       fresh                0.0282\n",
            "7        fish                0.0270\n",
            "8        time                0.0255\n",
            "9      really                0.0247\n",
            "10  recommend                0.0247\n",
            "11      price                0.0240\n",
            "12       food                0.0236\n",
            "13       tuna                0.0234\n",
            "14       best                0.0223\n",
            "15    tempura                0.0218\n",
            "16       back                0.0213\n",
            "17       crab                0.0212\n",
            "18  delicious                0.0209\n",
            "19      spicy                0.0206\n",
            "\n",
            "\n",
            "Cluster size:  265\n",
            "\n",
            "\n",
            "Cluster 4:\n",
            "          term  Average tf-idf score\n",
            "0         beer                0.2132\n",
            "1    selection                0.0655\n",
            "2        great                0.0552\n",
            "3         good                0.0548\n",
            "4         food                0.0475\n",
            "5        place                0.0455\n",
            "6         nice                0.0304\n",
            "7         game                0.0290\n",
            "8      service                0.0272\n",
            "9         back                0.0250\n",
            "10      really                0.0239\n",
            "11        time                0.0236\n",
            "12     awesome                0.0232\n",
            "13       craft                0.0227\n",
            "14        menu                0.0222\n",
            "15      burger                0.0218\n",
            "16        cold                0.0214\n",
            "17    friendly                0.0211\n",
            "18  atmosphere                0.0199\n",
            "19       night                0.0196\n",
            "\n",
            "\n",
            "Cluster size:  475\n",
            "\n",
            "\n",
            "Cluster 5:\n",
            "          term  Average tf-idf score\n",
            "0         best                0.1656\n",
            "1         ever                0.0635\n",
            "2         food                0.0480\n",
            "3        place                0.0426\n",
            "4        louis                0.0393\n",
            "5      amazing                0.0349\n",
            "6      service                0.0321\n",
            "7        great                0.0318\n",
            "8   restaurant                0.0299\n",
            "9         good                0.0244\n",
            "10      always                0.0239\n",
            "11       staff                0.0223\n",
            "12        time                0.0221\n",
            "13        love                0.0208\n",
            "14    sandwich                0.0196\n",
            "15    favorite                0.0191\n",
            "16   delicious                0.0189\n",
            "17    friendly                0.0187\n",
            "18        back                0.0187\n",
            "19     chicken                0.0187\n",
            "\n",
            "\n",
            "Cluster size:  770\n",
            "\n",
            "\n",
            "Cluster 6:\n",
            "          term  Average tf-idf score\n",
            "0        great                0.1999\n",
            "1         food                0.0805\n",
            "2      service                0.0640\n",
            "3        place                0.0539\n",
            "4         good                0.0394\n",
            "5       always                0.0345\n",
            "6   atmosphere                0.0302\n",
            "7     friendly                0.0290\n",
            "8         love                0.0274\n",
            "9    recommend                0.0251\n",
            "10        time                0.0249\n",
            "11     amazing                0.0247\n",
            "12       staff                0.0235\n",
            "13        back                0.0234\n",
            "14     awesome                0.0231\n",
            "15        nice                0.0228\n",
            "16       drink                0.0225\n",
            "17  definitely                0.0222\n",
            "18   delicious                0.0210\n",
            "19      really                0.0200\n",
            "\n",
            "\n",
            "Cluster size:  1056\n",
            "\n",
            "\n",
            "Cluster 7:\n",
            "          term  Average tf-idf score\n",
            "0         food                0.0544\n",
            "1        place                0.0460\n",
            "2         good                0.0434\n",
            "3      service                0.0311\n",
            "4         time                0.0287\n",
            "5         love                0.0235\n",
            "6    delicious                0.0230\n",
            "7   restaurant                0.0229\n",
            "8         back                0.0226\n",
            "9       always                0.0214\n",
            "10        like                0.0212\n",
            "11      really                0.0196\n",
            "12        nice                0.0193\n",
            "13    friendly                0.0190\n",
            "14        menu                0.0187\n",
            "15       staff                0.0187\n",
            "16   excellent                0.0174\n",
            "17       would                0.0172\n",
            "18     amazing                0.0172\n",
            "19  definitely                0.0166\n",
            "\n",
            "\n",
            "Cluster size:  3126\n",
            "\n",
            "\n",
            "Cluster 8:\n",
            "       term  Average tf-idf score\n",
            "0    minute                0.0626\n",
            "1     order                0.0606\n",
            "2      food                0.0550\n",
            "3     table                0.0539\n",
            "4      time                0.0526\n",
            "5   service                0.0385\n",
            "6      told                0.0382\n",
            "7     asked                0.0375\n",
            "8      came                0.0372\n",
            "9    server                0.0366\n",
            "10    would                0.0363\n",
            "11    drink                0.0359\n",
            "12     back                0.0344\n",
            "13     said                0.0340\n",
            "14    didnt                0.0338\n",
            "15     took                0.0313\n",
            "16    never                0.0309\n",
            "17     even                0.0305\n",
            "18  ordered                0.0301\n",
            "19     hour                0.0286\n",
            "\n",
            "\n",
            "Cluster size:  1221\n",
            "\n",
            "\n"
          ]
        }
      ]
    },
    {
      "cell_type": "markdown",
      "source": [
        "### LSA Topic Modeling"
      ],
      "metadata": {
        "id": "qzDWD6d06wGT"
      }
    },
    {
      "cell_type": "code",
      "source": [
        "processed_text = df['cleaned_text'].tolist()"
      ],
      "metadata": {
        "id": "TrSesciWS0RQ"
      },
      "execution_count": 79,
      "outputs": []
    },
    {
      "cell_type": "code",
      "source": [
        "def create_gensim_lsa_model(doc_clean,number_of_topics,words):\n",
        "\n",
        "  # Creating the term dictionary of our courpus, where every unique term is assigned an index. dictionary = corpora.Dictionary(doc_clean)\n",
        "  dictionary = corpora.Dictionary(doc_clean)\n",
        "  # Converting list of documents (corpus) into Document Term Matrix using dictionary prepared above.\n",
        "  doc_term_matrix = [dictionary.doc2bow(doc) for doc in doc_clean]\n",
        "  # generate LSA model\n",
        "  #lsamodel = LsiModel(doc_term_matrix, num_topics=number_of_topics, id2word = dictionary, onepass = False, power_iters = 10)  # train model\n",
        "  lsamodel = LsiModel(doc_term_matrix, num_topics=number_of_topics, id2word = dictionary)  # train model\n",
        "  display(lsamodel.print_topics(num_topics=number_of_topics, num_words=words))\n",
        "  print('\\n')\n",
        "  index = similarities.MatrixSimilarity(lsamodel[doc_term_matrix]) # using cosine similarity\n",
        "\n",
        "  corpus_lsa = lsamodel[doc_term_matrix]\n",
        "\n",
        "  # Cluster documents by highest value in vector\n",
        "  doc_clusters_1 = []\n",
        "  for doc in corpus_lsa:\n",
        "    flattened = [val for sublist in doc for val in sublist]\n",
        "    new_list = flattened[1:][::2]\n",
        "    max_value = max(new_list, key = abs)\n",
        "    index_value = new_list.index(max_value)\n",
        "    doc_clusters_1.append(doc[index_value][0])\n",
        "\n",
        "#   df2 = pd.DataFrame(doc_clusters_1, columns = 'clusters')\n",
        "  df2 = df.iloc[:,1:2]\n",
        "  df2['clusters'] = doc_clusters_1\n",
        "  df2['sentiment'] = df['sentiment']\n",
        "  df2['stars'] = df['stars']\n",
        "  df2 = df2.sort_values(by=['clusters', 'sentiment'])\n",
        "#   #display(df)\n",
        "\n",
        "  print(df2.groupby(['clusters', 'sentiment']).count())\n",
        "  print('\\n')\n",
        "  print(df2.groupby(['clusters', 'stars']).count())\n",
        "\n",
        " # return lsamodel,dictionary,index"
      ],
      "metadata": {
        "id": "wiLZ0yQ96y2R"
      },
      "execution_count": 118,
      "outputs": []
    },
    {
      "cell_type": "code",
      "source": [
        "create_gensim_lsa_model(processed_text,9, 10)"
      ],
      "metadata": {
        "colab": {
          "base_uri": "https://localhost:8080/",
          "height": 1000
        },
        "id": "-K0xDHKNHZ_Z",
        "outputId": "00ef805d-a570-4db2-c294-2f3c55f4fd0b"
      },
      "execution_count": 119,
      "outputs": [
        {
          "output_type": "display_data",
          "data": {
            "text/plain": [
              "[(0,\n",
              "  '0.324*\"food\" + 0.295*\"good\" + 0.252*\"place\" + 0.195*\"time\" + 0.186*\"like\" + 0.182*\"great\" + 0.149*\"service\" + 0.140*\"back\" + 0.140*\"really\" + 0.138*\"would\"'),\n",
              " (1,\n",
              "  '0.570*\"food\" + -0.416*\"good\" + -0.385*\"pizza\" + -0.159*\"sauce\" + 0.146*\"service\" + -0.137*\"cheese\" + -0.123*\"really\" + 0.120*\"minute\" + -0.120*\"like\" + 0.113*\"time\"'),\n",
              " (2,\n",
              "  '0.430*\"great\" + 0.386*\"food\" + 0.310*\"good\" + 0.233*\"place\" + -0.196*\"order\" + -0.196*\"table\" + -0.187*\"pizza\" + -0.154*\"would\" + -0.150*\"time\" + -0.147*\"ordered\"'),\n",
              " (3,\n",
              "  '0.625*\"pizza\" + -0.454*\"good\" + 0.374*\"place\" + 0.286*\"great\" + -0.143*\"chicken\" + 0.084*\"time\" + -0.082*\"ordered\" + 0.079*\"crust\" + -0.078*\"really\" + -0.075*\"side\"'),\n",
              " (4,\n",
              "  '-0.482*\"pizza\" + -0.475*\"good\" + -0.399*\"food\" + 0.341*\"great\" + 0.244*\"place\" + 0.114*\"menu\" + 0.100*\"chicken\" + 0.099*\"like\" + 0.088*\"also\" + 0.082*\"sauce\"'),\n",
              " (5,\n",
              "  '0.649*\"place\" + -0.565*\"great\" + 0.212*\"like\" + -0.172*\"service\" + -0.159*\"pizza\" + -0.114*\"salad\" + -0.099*\"ordered\" + -0.089*\"cheese\" + 0.076*\"dont\" + -0.066*\"delicious\"'),\n",
              " (6,\n",
              "  '0.377*\"food\" + -0.347*\"good\" + 0.347*\"chicken\" + -0.213*\"time\" + 0.196*\"sauce\" + -0.185*\"great\" + -0.183*\"place\" + -0.178*\"table\" + -0.153*\"drink\" + 0.153*\"pizza\"'),\n",
              " (7,\n",
              "  '-0.806*\"time\" + 0.212*\"table\" + 0.173*\"place\" + 0.165*\"would\" + -0.140*\"first\" + 0.138*\"salad\" + -0.121*\"chicken\" + 0.117*\"ordered\" + -0.110*\"always\" + 0.103*\"came\"'),\n",
              " (8,\n",
              "  '0.579*\"like\" + -0.334*\"order\" + -0.308*\"place\" + -0.297*\"chicken\" + 0.277*\"really\" + -0.172*\"ordered\" + 0.152*\"food\" + -0.142*\"good\" + 0.120*\"dont\" + -0.112*\"minute\"')]"
            ]
          },
          "metadata": {}
        },
        {
          "output_type": "stream",
          "name": "stderr",
          "text": [
            "WARNING:gensim.similarities.docsim:scanning corpus to determine the number of features (consider setting `num_features` explicitly)\n"
          ]
        },
        {
          "output_type": "stream",
          "name": "stdout",
          "text": [
            "\n",
            "\n",
            "                    business_id  stars\n",
            "clusters sentiment                    \n",
            "0        0                 2760   2760\n",
            "         1                 5322   5322\n",
            "1        0                   99     99\n",
            "         1                  144    144\n",
            "2        0                   75     75\n",
            "         1                  290    290\n",
            "3        0                   81     81\n",
            "         1                  233    233\n",
            "4        0                   35     35\n",
            "         1                   77     77\n",
            "5        0                   59     59\n",
            "         1                  392    392\n",
            "6        0                   39     39\n",
            "         1                   93     93\n",
            "7        0                   58     58\n",
            "         1                  151    151\n",
            "8        0                   52     52\n",
            "         1                   40     40\n",
            "\n",
            "\n",
            "                business_id  sentiment\n",
            "clusters stars                        \n",
            "0        1.0            956        956\n",
            "         2.0            729        729\n",
            "         3.0           1075       1075\n",
            "         4.0           2087       2087\n",
            "         5.0           3235       3235\n",
            "1        1.0             48         48\n",
            "         2.0             24         24\n",
            "         3.0             27         27\n",
            "         4.0             42         42\n",
            "         5.0            102        102\n",
            "2        1.0             50         50\n",
            "         2.0             15         15\n",
            "         3.0             10         10\n",
            "         4.0             89         89\n",
            "         5.0            201        201\n",
            "3        1.0             31         31\n",
            "         2.0             20         20\n",
            "         3.0             30         30\n",
            "         4.0             87         87\n",
            "         5.0            146        146\n",
            "4        1.0              9          9\n",
            "         2.0              7          7\n",
            "         3.0             19         19\n",
            "         4.0             28         28\n",
            "         5.0             49         49\n",
            "5        1.0             27         27\n",
            "         2.0             11         11\n",
            "         3.0             21         21\n",
            "         4.0             98         98\n",
            "         5.0            294        294\n",
            "6        1.0             15         15\n",
            "         2.0             10         10\n",
            "         3.0             14         14\n",
            "         4.0             20         20\n",
            "         5.0             73         73\n",
            "7        1.0             36         36\n",
            "         2.0             14         14\n",
            "         3.0              8          8\n",
            "         4.0             38         38\n",
            "         5.0            113        113\n",
            "8        1.0             26         26\n",
            "         2.0             13         13\n",
            "         3.0             13         13\n",
            "         4.0             21         21\n",
            "         5.0             19         19\n"
          ]
        }
      ]
    }
  ]
}