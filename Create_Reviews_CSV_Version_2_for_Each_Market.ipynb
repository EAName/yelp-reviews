{
  "nbformat": 4,
  "nbformat_minor": 0,
  "metadata": {
    "colab": {
      "provenance": [],
      "authorship_tag": "ABX9TyMp0Po9yxSM8NC/D5eT6bPM",
      "include_colab_link": true
    },
    "kernelspec": {
      "name": "python3",
      "display_name": "Python 3"
    },
    "language_info": {
      "name": "python"
    }
  },
  "cells": [
    {
      "cell_type": "markdown",
      "metadata": {
        "id": "view-in-github",
        "colab_type": "text"
      },
      "source": [
        "<a href=\"https://colab.research.google.com/github/EAName/yelp-reviews/blob/main/Create_Reviews_CSV_Version_2_for_Each_Market.ipynb\" target=\"_parent\"><img src=\"https://colab.research.google.com/assets/colab-badge.svg\" alt=\"Open In Colab\"/></a>"
      ]
    },
    {
      "cell_type": "code",
      "execution_count": 1,
      "metadata": {
        "id": "1V2Cof2L7cMn"
      },
      "outputs": [],
      "source": [
        "import json\n",
        "import os\n",
        "\n",
        "import pandas as pd\n",
        "import numpy as np\n",
        "import matplotlib\n",
        "from matplotlib import pyplot as plt\n",
        "import seaborn as sns\n",
        "import statistics\n",
        "import numpy as np\n",
        "\n",
        "%matplotlib inline"
      ]
    },
    {
      "cell_type": "code",
      "source": [
        "from google.colab import drive\n",
        "drive.mount('/content/gdrive')"
      ],
      "metadata": {
        "colab": {
          "base_uri": "https://localhost:8080/"
        },
        "id": "yDQ0cL5O7hk5",
        "outputId": "70658786-8e62-48d8-d3fa-bef9a72819c3"
      },
      "execution_count": 3,
      "outputs": [
        {
          "output_type": "stream",
          "name": "stdout",
          "text": [
            "Mounted at /content/gdrive\n"
          ]
        }
      ]
    },
    {
      "cell_type": "code",
      "source": [
        "df_r =pd.read_csv('/content/gdrive/MyDrive/yelp_dataset/yelp_reviews_restaurants.csv')"
      ],
      "metadata": {
        "colab": {
          "base_uri": "https://localhost:8080/"
        },
        "id": "TB9-CJu67suP",
        "outputId": "c33e5265-37d0-46eb-ec42-0872d4908683"
      },
      "execution_count": 17,
      "outputs": [
        {
          "output_type": "stream",
          "name": "stderr",
          "text": [
            "/usr/local/lib/python3.7/dist-packages/IPython/core/interactiveshell.py:3326: DtypeWarning: Columns (0) have mixed types.Specify dtype option on import or set low_memory=False.\n",
            "  exec(code_obj, self.user_global_ns, self.user_ns)\n"
          ]
        }
      ]
    },
    {
      "cell_type": "code",
      "source": [
        "df_r.shape"
      ],
      "metadata": {
        "colab": {
          "base_uri": "https://localhost:8080/"
        },
        "id": "LJECgu4n8l41",
        "outputId": "520713c3-3e30-454c-ca10-0233e2479a14"
      },
      "execution_count": 18,
      "outputs": [
        {
          "output_type": "execute_result",
          "data": {
            "text/plain": [
              "(4724686, 6)"
            ]
          },
          "metadata": {},
          "execution_count": 18
        }
      ]
    },
    {
      "cell_type": "code",
      "source": [
        "df_r = df_r.iloc[:,1:]"
      ],
      "metadata": {
        "id": "gqdGcPJb8-KR"
      },
      "execution_count": 19,
      "outputs": []
    },
    {
      "cell_type": "code",
      "source": [
        "df_b =pd.read_csv('/content/gdrive/MyDrive/yelp_dataset/yelp_business_clean_version1.csv')"
      ],
      "metadata": {
        "colab": {
          "base_uri": "https://localhost:8080/"
        },
        "id": "-33NVo2p7zZ9",
        "outputId": "ed3f1f9b-d741-4fce-fccc-f5e9057ebe9f"
      },
      "execution_count": 20,
      "outputs": [
        {
          "output_type": "stream",
          "name": "stderr",
          "text": [
            "/usr/local/lib/python3.7/dist-packages/IPython/core/interactiveshell.py:3326: DtypeWarning: Columns (43,44,45,46) have mixed types.Specify dtype option on import or set low_memory=False.\n",
            "  exec(code_obj, self.user_global_ns, self.user_ns)\n"
          ]
        }
      ]
    },
    {
      "cell_type": "code",
      "source": [
        "df_b_philadelphia = df_b[df_b['market'].str.contains('Philadelphia', case=False, na=False)]\n",
        "df_b_tampa = df_b[df_b['market'].str.contains('Tampa', case=False, na=False)]\n",
        "df_b_st_louis = df_b[df_b['market'].str.contains('St. Louis', case=False, na=False)]\n",
        "df_b_nashville = df_b[df_b['market'].str.contains('Nashville', case=False, na=False)]\n",
        "df_b_indianapolis = df_b[df_b['market'].str.contains('Indianapolis', case=False, na=False)]"
      ],
      "metadata": {
        "id": "payq9JQQjjAF"
      },
      "execution_count": 21,
      "outputs": []
    },
    {
      "cell_type": "markdown",
      "source": [
        "Philadelphia"
      ],
      "metadata": {
        "id": "FP8MbAD2keUI"
      }
    },
    {
      "cell_type": "code",
      "source": [
        "# only keep businesses that are categorized as restaurant\n",
        "df = df_r.merge(df_b_philadelphia,left_on='business_id',right_on='business_id')"
      ],
      "metadata": {
        "id": "te6b0P_E8JTn"
      },
      "execution_count": 22,
      "outputs": []
    },
    {
      "cell_type": "code",
      "source": [
        "df.shape"
      ],
      "metadata": {
        "colab": {
          "base_uri": "https://localhost:8080/"
        },
        "id": "QnogN27i-hpE",
        "outputId": "1515b72d-aa29-4c96-f417-e0b84ad79b09"
      },
      "execution_count": 23,
      "outputs": [
        {
          "output_type": "execute_result",
          "data": {
            "text/plain": [
              "(1058858, 72)"
            ]
          },
          "metadata": {},
          "execution_count": 23
        }
      ]
    },
    {
      "cell_type": "code",
      "source": [
        "df  = df.iloc[: , :5]\n",
        "df = df.rename(columns = {'stars_x':'stars'})"
      ],
      "metadata": {
        "id": "DAzjkbSy-4k8"
      },
      "execution_count": 24,
      "outputs": []
    },
    {
      "cell_type": "code",
      "source": [
        "df.head()"
      ],
      "metadata": {
        "colab": {
          "base_uri": "https://localhost:8080/",
          "height": 206
        },
        "id": "SRmy1AlD-nLQ",
        "outputId": "8afa2a2a-6206-4cd1-ccf1-c7a15169a86b"
      },
      "execution_count": 25,
      "outputs": [
        {
          "output_type": "execute_result",
          "data": {
            "text/plain": [
              "                  user_id             business_id                 date  stars  \\\n",
              "0  _7bHUi9Uuf5__HHc_Q8guQ  kxX2SOes4o-D3ZQBkiMRfA  2015-01-04 00:01:03    5.0   \n",
              "1  kSMOJwJXuEUqzfmuFncK4A  kxX2SOes4o-D3ZQBkiMRfA  2014-07-13 17:25:47    2.0   \n",
              "2  mqBWACmaHflW4eh_Ofp16Q  kxX2SOes4o-D3ZQBkiMRfA  2010-08-20 19:16:04    5.0   \n",
              "3  Z-xgVb4nM42943m2wbBkFw  kxX2SOes4o-D3ZQBkiMRfA  2017-01-02 14:25:26    5.0   \n",
              "4  2SEoXb6r6hPKrl9V9VzBgA  kxX2SOes4o-D3ZQBkiMRfA  2015-07-28 17:15:20    5.0   \n",
              "\n",
              "                                                text  \n",
              "0  Wow!  Yummy, different,  delicious.   Our favo...  \n",
              "1  Dine-in gets 2 stars. Disappointing service & ...  \n",
              "2  After a long hiatus from reviewing I have awak...  \n",
              "3  We've eaten here 3 times and it seems that eac...  \n",
              "4  Came to Philly for a family event but stayed a...  "
            ],
            "text/html": [
              "\n",
              "  <div id=\"df-ed2da5ab-736c-497f-a2f5-b16921a0c3aa\">\n",
              "    <div class=\"colab-df-container\">\n",
              "      <div>\n",
              "<style scoped>\n",
              "    .dataframe tbody tr th:only-of-type {\n",
              "        vertical-align: middle;\n",
              "    }\n",
              "\n",
              "    .dataframe tbody tr th {\n",
              "        vertical-align: top;\n",
              "    }\n",
              "\n",
              "    .dataframe thead th {\n",
              "        text-align: right;\n",
              "    }\n",
              "</style>\n",
              "<table border=\"1\" class=\"dataframe\">\n",
              "  <thead>\n",
              "    <tr style=\"text-align: right;\">\n",
              "      <th></th>\n",
              "      <th>user_id</th>\n",
              "      <th>business_id</th>\n",
              "      <th>date</th>\n",
              "      <th>stars</th>\n",
              "      <th>text</th>\n",
              "    </tr>\n",
              "  </thead>\n",
              "  <tbody>\n",
              "    <tr>\n",
              "      <th>0</th>\n",
              "      <td>_7bHUi9Uuf5__HHc_Q8guQ</td>\n",
              "      <td>kxX2SOes4o-D3ZQBkiMRfA</td>\n",
              "      <td>2015-01-04 00:01:03</td>\n",
              "      <td>5.0</td>\n",
              "      <td>Wow!  Yummy, different,  delicious.   Our favo...</td>\n",
              "    </tr>\n",
              "    <tr>\n",
              "      <th>1</th>\n",
              "      <td>kSMOJwJXuEUqzfmuFncK4A</td>\n",
              "      <td>kxX2SOes4o-D3ZQBkiMRfA</td>\n",
              "      <td>2014-07-13 17:25:47</td>\n",
              "      <td>2.0</td>\n",
              "      <td>Dine-in gets 2 stars. Disappointing service &amp; ...</td>\n",
              "    </tr>\n",
              "    <tr>\n",
              "      <th>2</th>\n",
              "      <td>mqBWACmaHflW4eh_Ofp16Q</td>\n",
              "      <td>kxX2SOes4o-D3ZQBkiMRfA</td>\n",
              "      <td>2010-08-20 19:16:04</td>\n",
              "      <td>5.0</td>\n",
              "      <td>After a long hiatus from reviewing I have awak...</td>\n",
              "    </tr>\n",
              "    <tr>\n",
              "      <th>3</th>\n",
              "      <td>Z-xgVb4nM42943m2wbBkFw</td>\n",
              "      <td>kxX2SOes4o-D3ZQBkiMRfA</td>\n",
              "      <td>2017-01-02 14:25:26</td>\n",
              "      <td>5.0</td>\n",
              "      <td>We've eaten here 3 times and it seems that eac...</td>\n",
              "    </tr>\n",
              "    <tr>\n",
              "      <th>4</th>\n",
              "      <td>2SEoXb6r6hPKrl9V9VzBgA</td>\n",
              "      <td>kxX2SOes4o-D3ZQBkiMRfA</td>\n",
              "      <td>2015-07-28 17:15:20</td>\n",
              "      <td>5.0</td>\n",
              "      <td>Came to Philly for a family event but stayed a...</td>\n",
              "    </tr>\n",
              "  </tbody>\n",
              "</table>\n",
              "</div>\n",
              "      <button class=\"colab-df-convert\" onclick=\"convertToInteractive('df-ed2da5ab-736c-497f-a2f5-b16921a0c3aa')\"\n",
              "              title=\"Convert this dataframe to an interactive table.\"\n",
              "              style=\"display:none;\">\n",
              "        \n",
              "  <svg xmlns=\"http://www.w3.org/2000/svg\" height=\"24px\"viewBox=\"0 0 24 24\"\n",
              "       width=\"24px\">\n",
              "    <path d=\"M0 0h24v24H0V0z\" fill=\"none\"/>\n",
              "    <path d=\"M18.56 5.44l.94 2.06.94-2.06 2.06-.94-2.06-.94-.94-2.06-.94 2.06-2.06.94zm-11 1L8.5 8.5l.94-2.06 2.06-.94-2.06-.94L8.5 2.5l-.94 2.06-2.06.94zm10 10l.94 2.06.94-2.06 2.06-.94-2.06-.94-.94-2.06-.94 2.06-2.06.94z\"/><path d=\"M17.41 7.96l-1.37-1.37c-.4-.4-.92-.59-1.43-.59-.52 0-1.04.2-1.43.59L10.3 9.45l-7.72 7.72c-.78.78-.78 2.05 0 2.83L4 21.41c.39.39.9.59 1.41.59.51 0 1.02-.2 1.41-.59l7.78-7.78 2.81-2.81c.8-.78.8-2.07 0-2.86zM5.41 20L4 18.59l7.72-7.72 1.47 1.35L5.41 20z\"/>\n",
              "  </svg>\n",
              "      </button>\n",
              "      \n",
              "  <style>\n",
              "    .colab-df-container {\n",
              "      display:flex;\n",
              "      flex-wrap:wrap;\n",
              "      gap: 12px;\n",
              "    }\n",
              "\n",
              "    .colab-df-convert {\n",
              "      background-color: #E8F0FE;\n",
              "      border: none;\n",
              "      border-radius: 50%;\n",
              "      cursor: pointer;\n",
              "      display: none;\n",
              "      fill: #1967D2;\n",
              "      height: 32px;\n",
              "      padding: 0 0 0 0;\n",
              "      width: 32px;\n",
              "    }\n",
              "\n",
              "    .colab-df-convert:hover {\n",
              "      background-color: #E2EBFA;\n",
              "      box-shadow: 0px 1px 2px rgba(60, 64, 67, 0.3), 0px 1px 3px 1px rgba(60, 64, 67, 0.15);\n",
              "      fill: #174EA6;\n",
              "    }\n",
              "\n",
              "    [theme=dark] .colab-df-convert {\n",
              "      background-color: #3B4455;\n",
              "      fill: #D2E3FC;\n",
              "    }\n",
              "\n",
              "    [theme=dark] .colab-df-convert:hover {\n",
              "      background-color: #434B5C;\n",
              "      box-shadow: 0px 1px 3px 1px rgba(0, 0, 0, 0.15);\n",
              "      filter: drop-shadow(0px 1px 2px rgba(0, 0, 0, 0.3));\n",
              "      fill: #FFFFFF;\n",
              "    }\n",
              "  </style>\n",
              "\n",
              "      <script>\n",
              "        const buttonEl =\n",
              "          document.querySelector('#df-ed2da5ab-736c-497f-a2f5-b16921a0c3aa button.colab-df-convert');\n",
              "        buttonEl.style.display =\n",
              "          google.colab.kernel.accessAllowed ? 'block' : 'none';\n",
              "\n",
              "        async function convertToInteractive(key) {\n",
              "          const element = document.querySelector('#df-ed2da5ab-736c-497f-a2f5-b16921a0c3aa');\n",
              "          const dataTable =\n",
              "            await google.colab.kernel.invokeFunction('convertToInteractive',\n",
              "                                                     [key], {});\n",
              "          if (!dataTable) return;\n",
              "\n",
              "          const docLinkHtml = 'Like what you see? Visit the ' +\n",
              "            '<a target=\"_blank\" href=https://colab.research.google.com/notebooks/data_table.ipynb>data table notebook</a>'\n",
              "            + ' to learn more about interactive tables.';\n",
              "          element.innerHTML = '';\n",
              "          dataTable['output_type'] = 'display_data';\n",
              "          await google.colab.output.renderOutput(dataTable, element);\n",
              "          const docLink = document.createElement('div');\n",
              "          docLink.innerHTML = docLinkHtml;\n",
              "          element.appendChild(docLink);\n",
              "        }\n",
              "      </script>\n",
              "    </div>\n",
              "  </div>\n",
              "  "
            ]
          },
          "metadata": {},
          "execution_count": 25
        }
      ]
    },
    {
      "cell_type": "code",
      "source": [
        "df.to_csv('/content/gdrive/MyDrive/yelp_dataset/yelp_reviews_version2_philadelphia.csv')"
      ],
      "metadata": {
        "id": "6WdJyIGq_Ipp"
      },
      "execution_count": 26,
      "outputs": []
    },
    {
      "cell_type": "markdown",
      "source": [
        "Tampa"
      ],
      "metadata": {
        "id": "T-RkN0QBktWF"
      }
    },
    {
      "cell_type": "code",
      "source": [
        "# only keep businesses that are categorized as restaurant\n",
        "df = df_r.merge(df_b_tampa,left_on='business_id',right_on='business_id')"
      ],
      "metadata": {
        "id": "_0F6Z-TBkw-K"
      },
      "execution_count": 27,
      "outputs": []
    },
    {
      "cell_type": "code",
      "source": [
        "df.shape"
      ],
      "metadata": {
        "colab": {
          "base_uri": "https://localhost:8080/"
        },
        "outputId": "9e2df21e-4050-4696-c12b-a1397387c6c7",
        "id": "kZl-1vNwkw-K"
      },
      "execution_count": 28,
      "outputs": [
        {
          "output_type": "execute_result",
          "data": {
            "text/plain": [
              "(638132, 72)"
            ]
          },
          "metadata": {},
          "execution_count": 28
        }
      ]
    },
    {
      "cell_type": "code",
      "source": [
        "df  = df.iloc[: , :5]\n",
        "df = df.rename(columns = {'stars_x':'stars'})"
      ],
      "metadata": {
        "id": "xmr5SU5Gkw-L"
      },
      "execution_count": 29,
      "outputs": []
    },
    {
      "cell_type": "code",
      "source": [
        "df.head()"
      ],
      "metadata": {
        "colab": {
          "base_uri": "https://localhost:8080/",
          "height": 206
        },
        "outputId": "5a170d43-59f9-4bd2-df51-3e577002f590",
        "id": "14gz_pIckw-L"
      },
      "execution_count": 30,
      "outputs": [
        {
          "output_type": "execute_result",
          "data": {
            "text/plain": [
              "                  user_id             business_id                 date  stars  \\\n",
              "0  1C2lxzUo1Hyye4RFIXly3g  BVndHaLihEYbr76Z0CMEGw  2014-10-11 16:22:06    5.0   \n",
              "1  -Dt5o6GpQcXQfVeWpHNtDg  BVndHaLihEYbr76Z0CMEGw  2018-04-15 19:51:54    5.0   \n",
              "2  kiTsCsc_vtGXnzVz738w2g  BVndHaLihEYbr76Z0CMEGw  2014-11-15 16:49:09    5.0   \n",
              "3  NKFBcrL56W7eHxPXxyPTxA  BVndHaLihEYbr76Z0CMEGw  2017-07-10 21:48:06    2.0   \n",
              "4  ZuF1R91KH924zJwPTmFi4g  BVndHaLihEYbr76Z0CMEGw  2017-09-23 13:20:51    4.0   \n",
              "\n",
              "                                                text  \n",
              "0  Great place for breakfast! I had the waffle, w...  \n",
              "1  We came here based on the recommendation we re...  \n",
              "2  We found this place by searching yelp and it d...  \n",
              "3  Had supper about 5:00pm, 7/10/17, and was disa...  \n",
              "4  Good little mom and pop breakfast place. The f...  "
            ],
            "text/html": [
              "\n",
              "  <div id=\"df-c0229dd5-7091-41c6-a229-72ab1388d470\">\n",
              "    <div class=\"colab-df-container\">\n",
              "      <div>\n",
              "<style scoped>\n",
              "    .dataframe tbody tr th:only-of-type {\n",
              "        vertical-align: middle;\n",
              "    }\n",
              "\n",
              "    .dataframe tbody tr th {\n",
              "        vertical-align: top;\n",
              "    }\n",
              "\n",
              "    .dataframe thead th {\n",
              "        text-align: right;\n",
              "    }\n",
              "</style>\n",
              "<table border=\"1\" class=\"dataframe\">\n",
              "  <thead>\n",
              "    <tr style=\"text-align: right;\">\n",
              "      <th></th>\n",
              "      <th>user_id</th>\n",
              "      <th>business_id</th>\n",
              "      <th>date</th>\n",
              "      <th>stars</th>\n",
              "      <th>text</th>\n",
              "    </tr>\n",
              "  </thead>\n",
              "  <tbody>\n",
              "    <tr>\n",
              "      <th>0</th>\n",
              "      <td>1C2lxzUo1Hyye4RFIXly3g</td>\n",
              "      <td>BVndHaLihEYbr76Z0CMEGw</td>\n",
              "      <td>2014-10-11 16:22:06</td>\n",
              "      <td>5.0</td>\n",
              "      <td>Great place for breakfast! I had the waffle, w...</td>\n",
              "    </tr>\n",
              "    <tr>\n",
              "      <th>1</th>\n",
              "      <td>-Dt5o6GpQcXQfVeWpHNtDg</td>\n",
              "      <td>BVndHaLihEYbr76Z0CMEGw</td>\n",
              "      <td>2018-04-15 19:51:54</td>\n",
              "      <td>5.0</td>\n",
              "      <td>We came here based on the recommendation we re...</td>\n",
              "    </tr>\n",
              "    <tr>\n",
              "      <th>2</th>\n",
              "      <td>kiTsCsc_vtGXnzVz738w2g</td>\n",
              "      <td>BVndHaLihEYbr76Z0CMEGw</td>\n",
              "      <td>2014-11-15 16:49:09</td>\n",
              "      <td>5.0</td>\n",
              "      <td>We found this place by searching yelp and it d...</td>\n",
              "    </tr>\n",
              "    <tr>\n",
              "      <th>3</th>\n",
              "      <td>NKFBcrL56W7eHxPXxyPTxA</td>\n",
              "      <td>BVndHaLihEYbr76Z0CMEGw</td>\n",
              "      <td>2017-07-10 21:48:06</td>\n",
              "      <td>2.0</td>\n",
              "      <td>Had supper about 5:00pm, 7/10/17, and was disa...</td>\n",
              "    </tr>\n",
              "    <tr>\n",
              "      <th>4</th>\n",
              "      <td>ZuF1R91KH924zJwPTmFi4g</td>\n",
              "      <td>BVndHaLihEYbr76Z0CMEGw</td>\n",
              "      <td>2017-09-23 13:20:51</td>\n",
              "      <td>4.0</td>\n",
              "      <td>Good little mom and pop breakfast place. The f...</td>\n",
              "    </tr>\n",
              "  </tbody>\n",
              "</table>\n",
              "</div>\n",
              "      <button class=\"colab-df-convert\" onclick=\"convertToInteractive('df-c0229dd5-7091-41c6-a229-72ab1388d470')\"\n",
              "              title=\"Convert this dataframe to an interactive table.\"\n",
              "              style=\"display:none;\">\n",
              "        \n",
              "  <svg xmlns=\"http://www.w3.org/2000/svg\" height=\"24px\"viewBox=\"0 0 24 24\"\n",
              "       width=\"24px\">\n",
              "    <path d=\"M0 0h24v24H0V0z\" fill=\"none\"/>\n",
              "    <path d=\"M18.56 5.44l.94 2.06.94-2.06 2.06-.94-2.06-.94-.94-2.06-.94 2.06-2.06.94zm-11 1L8.5 8.5l.94-2.06 2.06-.94-2.06-.94L8.5 2.5l-.94 2.06-2.06.94zm10 10l.94 2.06.94-2.06 2.06-.94-2.06-.94-.94-2.06-.94 2.06-2.06.94z\"/><path d=\"M17.41 7.96l-1.37-1.37c-.4-.4-.92-.59-1.43-.59-.52 0-1.04.2-1.43.59L10.3 9.45l-7.72 7.72c-.78.78-.78 2.05 0 2.83L4 21.41c.39.39.9.59 1.41.59.51 0 1.02-.2 1.41-.59l7.78-7.78 2.81-2.81c.8-.78.8-2.07 0-2.86zM5.41 20L4 18.59l7.72-7.72 1.47 1.35L5.41 20z\"/>\n",
              "  </svg>\n",
              "      </button>\n",
              "      \n",
              "  <style>\n",
              "    .colab-df-container {\n",
              "      display:flex;\n",
              "      flex-wrap:wrap;\n",
              "      gap: 12px;\n",
              "    }\n",
              "\n",
              "    .colab-df-convert {\n",
              "      background-color: #E8F0FE;\n",
              "      border: none;\n",
              "      border-radius: 50%;\n",
              "      cursor: pointer;\n",
              "      display: none;\n",
              "      fill: #1967D2;\n",
              "      height: 32px;\n",
              "      padding: 0 0 0 0;\n",
              "      width: 32px;\n",
              "    }\n",
              "\n",
              "    .colab-df-convert:hover {\n",
              "      background-color: #E2EBFA;\n",
              "      box-shadow: 0px 1px 2px rgba(60, 64, 67, 0.3), 0px 1px 3px 1px rgba(60, 64, 67, 0.15);\n",
              "      fill: #174EA6;\n",
              "    }\n",
              "\n",
              "    [theme=dark] .colab-df-convert {\n",
              "      background-color: #3B4455;\n",
              "      fill: #D2E3FC;\n",
              "    }\n",
              "\n",
              "    [theme=dark] .colab-df-convert:hover {\n",
              "      background-color: #434B5C;\n",
              "      box-shadow: 0px 1px 3px 1px rgba(0, 0, 0, 0.15);\n",
              "      filter: drop-shadow(0px 1px 2px rgba(0, 0, 0, 0.3));\n",
              "      fill: #FFFFFF;\n",
              "    }\n",
              "  </style>\n",
              "\n",
              "      <script>\n",
              "        const buttonEl =\n",
              "          document.querySelector('#df-c0229dd5-7091-41c6-a229-72ab1388d470 button.colab-df-convert');\n",
              "        buttonEl.style.display =\n",
              "          google.colab.kernel.accessAllowed ? 'block' : 'none';\n",
              "\n",
              "        async function convertToInteractive(key) {\n",
              "          const element = document.querySelector('#df-c0229dd5-7091-41c6-a229-72ab1388d470');\n",
              "          const dataTable =\n",
              "            await google.colab.kernel.invokeFunction('convertToInteractive',\n",
              "                                                     [key], {});\n",
              "          if (!dataTable) return;\n",
              "\n",
              "          const docLinkHtml = 'Like what you see? Visit the ' +\n",
              "            '<a target=\"_blank\" href=https://colab.research.google.com/notebooks/data_table.ipynb>data table notebook</a>'\n",
              "            + ' to learn more about interactive tables.';\n",
              "          element.innerHTML = '';\n",
              "          dataTable['output_type'] = 'display_data';\n",
              "          await google.colab.output.renderOutput(dataTable, element);\n",
              "          const docLink = document.createElement('div');\n",
              "          docLink.innerHTML = docLinkHtml;\n",
              "          element.appendChild(docLink);\n",
              "        }\n",
              "      </script>\n",
              "    </div>\n",
              "  </div>\n",
              "  "
            ]
          },
          "metadata": {},
          "execution_count": 30
        }
      ]
    },
    {
      "cell_type": "code",
      "source": [
        "df.to_csv('/content/gdrive/MyDrive/yelp_dataset/yelp_reviews_version2_tampa.csv')"
      ],
      "metadata": {
        "id": "aM5tl71Mkw-M"
      },
      "execution_count": 31,
      "outputs": []
    },
    {
      "cell_type": "markdown",
      "source": [
        "St. Louis"
      ],
      "metadata": {
        "id": "3btP1vERkxvC"
      }
    },
    {
      "cell_type": "code",
      "source": [
        "# only keep businesses that are categorized as restaurant\n",
        "df = df_r.merge(df_b_st_louis,left_on='business_id',right_on='business_id')"
      ],
      "metadata": {
        "id": "2dWAVX_ikyBn"
      },
      "execution_count": 32,
      "outputs": []
    },
    {
      "cell_type": "code",
      "source": [
        "df.shape"
      ],
      "metadata": {
        "colab": {
          "base_uri": "https://localhost:8080/"
        },
        "outputId": "21e5bab0-204a-4cd7-81a0-a68032453aae",
        "id": "V1RTkLFYkyBo"
      },
      "execution_count": 33,
      "outputs": [
        {
          "output_type": "execute_result",
          "data": {
            "text/plain": [
              "(299211, 72)"
            ]
          },
          "metadata": {},
          "execution_count": 33
        }
      ]
    },
    {
      "cell_type": "code",
      "source": [
        "df  = df.iloc[: , :5]\n",
        "df = df.rename(columns = {'stars_x':'stars'})"
      ],
      "metadata": {
        "id": "-z3fjDkOkyBp"
      },
      "execution_count": 34,
      "outputs": []
    },
    {
      "cell_type": "code",
      "source": [
        "df.head()"
      ],
      "metadata": {
        "colab": {
          "base_uri": "https://localhost:8080/",
          "height": 206
        },
        "outputId": "e5dca317-7206-48b0-ba05-a21cffdfc4e8",
        "id": "taR1OR6KkyBp"
      },
      "execution_count": 35,
      "outputs": [
        {
          "output_type": "execute_result",
          "data": {
            "text/plain": [
              "                  user_id             business_id                 date  stars  \\\n",
              "0  9OAtfnWag-ajVxRbUTGIyg  lj-E32x9_FA7GmUrBGBEWg  2014-06-27 22:44:01    4.0   \n",
              "1  5h9JA231vPilNAIjHxwGng  lj-E32x9_FA7GmUrBGBEWg  2014-08-24 19:24:26    5.0   \n",
              "2  c1fSI6Dv5lybr0AJh67e7w  lj-E32x9_FA7GmUrBGBEWg  2015-09-24 15:01:11    4.0   \n",
              "3  st-q1iyW3sJm-v0OCrheoQ  lj-E32x9_FA7GmUrBGBEWg  2015-10-17 04:56:25    5.0   \n",
              "4  9qBdzBzoDxLFSMhhGrTWJg  lj-E32x9_FA7GmUrBGBEWg  2016-01-04 16:56:32    4.0   \n",
              "\n",
              "                                                text  \n",
              "0  Love going here for happy hour or dinner!  Gre...  \n",
              "1  My friends at work (connoisseurs of good food ...  \n",
              "2  Great service, relaxing atmosphere and the foo...  \n",
              "3  I went to Brio for the first time on Wednesday...  \n",
              "4  I usually steer clear of the chain restaurants...  "
            ],
            "text/html": [
              "\n",
              "  <div id=\"df-c74b46a4-a58c-4167-ad06-f28692bc49c6\">\n",
              "    <div class=\"colab-df-container\">\n",
              "      <div>\n",
              "<style scoped>\n",
              "    .dataframe tbody tr th:only-of-type {\n",
              "        vertical-align: middle;\n",
              "    }\n",
              "\n",
              "    .dataframe tbody tr th {\n",
              "        vertical-align: top;\n",
              "    }\n",
              "\n",
              "    .dataframe thead th {\n",
              "        text-align: right;\n",
              "    }\n",
              "</style>\n",
              "<table border=\"1\" class=\"dataframe\">\n",
              "  <thead>\n",
              "    <tr style=\"text-align: right;\">\n",
              "      <th></th>\n",
              "      <th>user_id</th>\n",
              "      <th>business_id</th>\n",
              "      <th>date</th>\n",
              "      <th>stars</th>\n",
              "      <th>text</th>\n",
              "    </tr>\n",
              "  </thead>\n",
              "  <tbody>\n",
              "    <tr>\n",
              "      <th>0</th>\n",
              "      <td>9OAtfnWag-ajVxRbUTGIyg</td>\n",
              "      <td>lj-E32x9_FA7GmUrBGBEWg</td>\n",
              "      <td>2014-06-27 22:44:01</td>\n",
              "      <td>4.0</td>\n",
              "      <td>Love going here for happy hour or dinner!  Gre...</td>\n",
              "    </tr>\n",
              "    <tr>\n",
              "      <th>1</th>\n",
              "      <td>5h9JA231vPilNAIjHxwGng</td>\n",
              "      <td>lj-E32x9_FA7GmUrBGBEWg</td>\n",
              "      <td>2014-08-24 19:24:26</td>\n",
              "      <td>5.0</td>\n",
              "      <td>My friends at work (connoisseurs of good food ...</td>\n",
              "    </tr>\n",
              "    <tr>\n",
              "      <th>2</th>\n",
              "      <td>c1fSI6Dv5lybr0AJh67e7w</td>\n",
              "      <td>lj-E32x9_FA7GmUrBGBEWg</td>\n",
              "      <td>2015-09-24 15:01:11</td>\n",
              "      <td>4.0</td>\n",
              "      <td>Great service, relaxing atmosphere and the foo...</td>\n",
              "    </tr>\n",
              "    <tr>\n",
              "      <th>3</th>\n",
              "      <td>st-q1iyW3sJm-v0OCrheoQ</td>\n",
              "      <td>lj-E32x9_FA7GmUrBGBEWg</td>\n",
              "      <td>2015-10-17 04:56:25</td>\n",
              "      <td>5.0</td>\n",
              "      <td>I went to Brio for the first time on Wednesday...</td>\n",
              "    </tr>\n",
              "    <tr>\n",
              "      <th>4</th>\n",
              "      <td>9qBdzBzoDxLFSMhhGrTWJg</td>\n",
              "      <td>lj-E32x9_FA7GmUrBGBEWg</td>\n",
              "      <td>2016-01-04 16:56:32</td>\n",
              "      <td>4.0</td>\n",
              "      <td>I usually steer clear of the chain restaurants...</td>\n",
              "    </tr>\n",
              "  </tbody>\n",
              "</table>\n",
              "</div>\n",
              "      <button class=\"colab-df-convert\" onclick=\"convertToInteractive('df-c74b46a4-a58c-4167-ad06-f28692bc49c6')\"\n",
              "              title=\"Convert this dataframe to an interactive table.\"\n",
              "              style=\"display:none;\">\n",
              "        \n",
              "  <svg xmlns=\"http://www.w3.org/2000/svg\" height=\"24px\"viewBox=\"0 0 24 24\"\n",
              "       width=\"24px\">\n",
              "    <path d=\"M0 0h24v24H0V0z\" fill=\"none\"/>\n",
              "    <path d=\"M18.56 5.44l.94 2.06.94-2.06 2.06-.94-2.06-.94-.94-2.06-.94 2.06-2.06.94zm-11 1L8.5 8.5l.94-2.06 2.06-.94-2.06-.94L8.5 2.5l-.94 2.06-2.06.94zm10 10l.94 2.06.94-2.06 2.06-.94-2.06-.94-.94-2.06-.94 2.06-2.06.94z\"/><path d=\"M17.41 7.96l-1.37-1.37c-.4-.4-.92-.59-1.43-.59-.52 0-1.04.2-1.43.59L10.3 9.45l-7.72 7.72c-.78.78-.78 2.05 0 2.83L4 21.41c.39.39.9.59 1.41.59.51 0 1.02-.2 1.41-.59l7.78-7.78 2.81-2.81c.8-.78.8-2.07 0-2.86zM5.41 20L4 18.59l7.72-7.72 1.47 1.35L5.41 20z\"/>\n",
              "  </svg>\n",
              "      </button>\n",
              "      \n",
              "  <style>\n",
              "    .colab-df-container {\n",
              "      display:flex;\n",
              "      flex-wrap:wrap;\n",
              "      gap: 12px;\n",
              "    }\n",
              "\n",
              "    .colab-df-convert {\n",
              "      background-color: #E8F0FE;\n",
              "      border: none;\n",
              "      border-radius: 50%;\n",
              "      cursor: pointer;\n",
              "      display: none;\n",
              "      fill: #1967D2;\n",
              "      height: 32px;\n",
              "      padding: 0 0 0 0;\n",
              "      width: 32px;\n",
              "    }\n",
              "\n",
              "    .colab-df-convert:hover {\n",
              "      background-color: #E2EBFA;\n",
              "      box-shadow: 0px 1px 2px rgba(60, 64, 67, 0.3), 0px 1px 3px 1px rgba(60, 64, 67, 0.15);\n",
              "      fill: #174EA6;\n",
              "    }\n",
              "\n",
              "    [theme=dark] .colab-df-convert {\n",
              "      background-color: #3B4455;\n",
              "      fill: #D2E3FC;\n",
              "    }\n",
              "\n",
              "    [theme=dark] .colab-df-convert:hover {\n",
              "      background-color: #434B5C;\n",
              "      box-shadow: 0px 1px 3px 1px rgba(0, 0, 0, 0.15);\n",
              "      filter: drop-shadow(0px 1px 2px rgba(0, 0, 0, 0.3));\n",
              "      fill: #FFFFFF;\n",
              "    }\n",
              "  </style>\n",
              "\n",
              "      <script>\n",
              "        const buttonEl =\n",
              "          document.querySelector('#df-c74b46a4-a58c-4167-ad06-f28692bc49c6 button.colab-df-convert');\n",
              "        buttonEl.style.display =\n",
              "          google.colab.kernel.accessAllowed ? 'block' : 'none';\n",
              "\n",
              "        async function convertToInteractive(key) {\n",
              "          const element = document.querySelector('#df-c74b46a4-a58c-4167-ad06-f28692bc49c6');\n",
              "          const dataTable =\n",
              "            await google.colab.kernel.invokeFunction('convertToInteractive',\n",
              "                                                     [key], {});\n",
              "          if (!dataTable) return;\n",
              "\n",
              "          const docLinkHtml = 'Like what you see? Visit the ' +\n",
              "            '<a target=\"_blank\" href=https://colab.research.google.com/notebooks/data_table.ipynb>data table notebook</a>'\n",
              "            + ' to learn more about interactive tables.';\n",
              "          element.innerHTML = '';\n",
              "          dataTable['output_type'] = 'display_data';\n",
              "          await google.colab.output.renderOutput(dataTable, element);\n",
              "          const docLink = document.createElement('div');\n",
              "          docLink.innerHTML = docLinkHtml;\n",
              "          element.appendChild(docLink);\n",
              "        }\n",
              "      </script>\n",
              "    </div>\n",
              "  </div>\n",
              "  "
            ]
          },
          "metadata": {},
          "execution_count": 35
        }
      ]
    },
    {
      "cell_type": "code",
      "source": [
        "df.to_csv('/content/gdrive/MyDrive/yelp_dataset/yelp_reviews_version2_st_louis.csv')"
      ],
      "metadata": {
        "id": "0IZDNPJhkyBq"
      },
      "execution_count": 37,
      "outputs": []
    },
    {
      "cell_type": "markdown",
      "source": [
        "Nashville"
      ],
      "metadata": {
        "id": "g9YbyVjKloUw"
      }
    },
    {
      "cell_type": "code",
      "source": [
        "# only keep businesses that are categorized as restaurant\n",
        "df = df_r.merge(df_b_nashville,left_on='business_id',right_on='business_id')"
      ],
      "metadata": {
        "id": "woiSdqRklr5m"
      },
      "execution_count": 38,
      "outputs": []
    },
    {
      "cell_type": "code",
      "source": [
        "df.shape"
      ],
      "metadata": {
        "colab": {
          "base_uri": "https://localhost:8080/"
        },
        "outputId": "02568d44-3f7a-4489-f503-71d8b30f5b5d",
        "id": "DDrQbWOslr5m"
      },
      "execution_count": 39,
      "outputs": [
        {
          "output_type": "execute_result",
          "data": {
            "text/plain": [
              "(346564, 72)"
            ]
          },
          "metadata": {},
          "execution_count": 39
        }
      ]
    },
    {
      "cell_type": "code",
      "source": [
        "df  = df.iloc[: , :5]\n",
        "df = df.rename(columns = {'stars_x':'stars'})"
      ],
      "metadata": {
        "id": "_JfoliK-lr5n"
      },
      "execution_count": 40,
      "outputs": []
    },
    {
      "cell_type": "code",
      "source": [
        "df.head()"
      ],
      "metadata": {
        "colab": {
          "base_uri": "https://localhost:8080/",
          "height": 206
        },
        "outputId": "8c65f044-8f46-4368-eac6-ad82f5a7d199",
        "id": "Jz72gGkBlr5n"
      },
      "execution_count": 41,
      "outputs": [
        {
          "output_type": "execute_result",
          "data": {
            "text/plain": [
              "                  user_id             business_id                 date  stars  \\\n",
              "0  -sryo4gDYxbZ1T5Bz4l5Bw  ltBBYdNzkeKdCNPDAsxwAA  2015-02-02 04:29:13    2.0   \n",
              "1  Beizkox7xCrio08NHdp3gw  ltBBYdNzkeKdCNPDAsxwAA  2017-05-26 02:42:06    3.0   \n",
              "2  9ECJ7lTeMhjrbwtQzd6QdA  ltBBYdNzkeKdCNPDAsxwAA  2017-12-16 00:36:24    4.0   \n",
              "3  7pD_jzC2IZVJbnTKcLj2Lg  ltBBYdNzkeKdCNPDAsxwAA  2018-01-09 23:22:15    5.0   \n",
              "4  noxaMHJFoBDFio1D3OF6Qg  ltBBYdNzkeKdCNPDAsxwAA  2017-06-17 21:02:18    1.0   \n",
              "\n",
              "                                                text  \n",
              "0  I at least have to give this restaurant two st...  \n",
              "1  Another Yelper hit it -- this is a noisy, crow...  \n",
              "2  Great spot to come to if your in Nashville. Th...  \n",
              "3  I'm usually a chilaquiles girl, so the Huevos ...  \n",
              "4  I have never been so insulted and talked down ...  "
            ],
            "text/html": [
              "\n",
              "  <div id=\"df-1ba566f0-9fe5-4aa8-8176-bef55f4ec202\">\n",
              "    <div class=\"colab-df-container\">\n",
              "      <div>\n",
              "<style scoped>\n",
              "    .dataframe tbody tr th:only-of-type {\n",
              "        vertical-align: middle;\n",
              "    }\n",
              "\n",
              "    .dataframe tbody tr th {\n",
              "        vertical-align: top;\n",
              "    }\n",
              "\n",
              "    .dataframe thead th {\n",
              "        text-align: right;\n",
              "    }\n",
              "</style>\n",
              "<table border=\"1\" class=\"dataframe\">\n",
              "  <thead>\n",
              "    <tr style=\"text-align: right;\">\n",
              "      <th></th>\n",
              "      <th>user_id</th>\n",
              "      <th>business_id</th>\n",
              "      <th>date</th>\n",
              "      <th>stars</th>\n",
              "      <th>text</th>\n",
              "    </tr>\n",
              "  </thead>\n",
              "  <tbody>\n",
              "    <tr>\n",
              "      <th>0</th>\n",
              "      <td>-sryo4gDYxbZ1T5Bz4l5Bw</td>\n",
              "      <td>ltBBYdNzkeKdCNPDAsxwAA</td>\n",
              "      <td>2015-02-02 04:29:13</td>\n",
              "      <td>2.0</td>\n",
              "      <td>I at least have to give this restaurant two st...</td>\n",
              "    </tr>\n",
              "    <tr>\n",
              "      <th>1</th>\n",
              "      <td>Beizkox7xCrio08NHdp3gw</td>\n",
              "      <td>ltBBYdNzkeKdCNPDAsxwAA</td>\n",
              "      <td>2017-05-26 02:42:06</td>\n",
              "      <td>3.0</td>\n",
              "      <td>Another Yelper hit it -- this is a noisy, crow...</td>\n",
              "    </tr>\n",
              "    <tr>\n",
              "      <th>2</th>\n",
              "      <td>9ECJ7lTeMhjrbwtQzd6QdA</td>\n",
              "      <td>ltBBYdNzkeKdCNPDAsxwAA</td>\n",
              "      <td>2017-12-16 00:36:24</td>\n",
              "      <td>4.0</td>\n",
              "      <td>Great spot to come to if your in Nashville. Th...</td>\n",
              "    </tr>\n",
              "    <tr>\n",
              "      <th>3</th>\n",
              "      <td>7pD_jzC2IZVJbnTKcLj2Lg</td>\n",
              "      <td>ltBBYdNzkeKdCNPDAsxwAA</td>\n",
              "      <td>2018-01-09 23:22:15</td>\n",
              "      <td>5.0</td>\n",
              "      <td>I'm usually a chilaquiles girl, so the Huevos ...</td>\n",
              "    </tr>\n",
              "    <tr>\n",
              "      <th>4</th>\n",
              "      <td>noxaMHJFoBDFio1D3OF6Qg</td>\n",
              "      <td>ltBBYdNzkeKdCNPDAsxwAA</td>\n",
              "      <td>2017-06-17 21:02:18</td>\n",
              "      <td>1.0</td>\n",
              "      <td>I have never been so insulted and talked down ...</td>\n",
              "    </tr>\n",
              "  </tbody>\n",
              "</table>\n",
              "</div>\n",
              "      <button class=\"colab-df-convert\" onclick=\"convertToInteractive('df-1ba566f0-9fe5-4aa8-8176-bef55f4ec202')\"\n",
              "              title=\"Convert this dataframe to an interactive table.\"\n",
              "              style=\"display:none;\">\n",
              "        \n",
              "  <svg xmlns=\"http://www.w3.org/2000/svg\" height=\"24px\"viewBox=\"0 0 24 24\"\n",
              "       width=\"24px\">\n",
              "    <path d=\"M0 0h24v24H0V0z\" fill=\"none\"/>\n",
              "    <path d=\"M18.56 5.44l.94 2.06.94-2.06 2.06-.94-2.06-.94-.94-2.06-.94 2.06-2.06.94zm-11 1L8.5 8.5l.94-2.06 2.06-.94-2.06-.94L8.5 2.5l-.94 2.06-2.06.94zm10 10l.94 2.06.94-2.06 2.06-.94-2.06-.94-.94-2.06-.94 2.06-2.06.94z\"/><path d=\"M17.41 7.96l-1.37-1.37c-.4-.4-.92-.59-1.43-.59-.52 0-1.04.2-1.43.59L10.3 9.45l-7.72 7.72c-.78.78-.78 2.05 0 2.83L4 21.41c.39.39.9.59 1.41.59.51 0 1.02-.2 1.41-.59l7.78-7.78 2.81-2.81c.8-.78.8-2.07 0-2.86zM5.41 20L4 18.59l7.72-7.72 1.47 1.35L5.41 20z\"/>\n",
              "  </svg>\n",
              "      </button>\n",
              "      \n",
              "  <style>\n",
              "    .colab-df-container {\n",
              "      display:flex;\n",
              "      flex-wrap:wrap;\n",
              "      gap: 12px;\n",
              "    }\n",
              "\n",
              "    .colab-df-convert {\n",
              "      background-color: #E8F0FE;\n",
              "      border: none;\n",
              "      border-radius: 50%;\n",
              "      cursor: pointer;\n",
              "      display: none;\n",
              "      fill: #1967D2;\n",
              "      height: 32px;\n",
              "      padding: 0 0 0 0;\n",
              "      width: 32px;\n",
              "    }\n",
              "\n",
              "    .colab-df-convert:hover {\n",
              "      background-color: #E2EBFA;\n",
              "      box-shadow: 0px 1px 2px rgba(60, 64, 67, 0.3), 0px 1px 3px 1px rgba(60, 64, 67, 0.15);\n",
              "      fill: #174EA6;\n",
              "    }\n",
              "\n",
              "    [theme=dark] .colab-df-convert {\n",
              "      background-color: #3B4455;\n",
              "      fill: #D2E3FC;\n",
              "    }\n",
              "\n",
              "    [theme=dark] .colab-df-convert:hover {\n",
              "      background-color: #434B5C;\n",
              "      box-shadow: 0px 1px 3px 1px rgba(0, 0, 0, 0.15);\n",
              "      filter: drop-shadow(0px 1px 2px rgba(0, 0, 0, 0.3));\n",
              "      fill: #FFFFFF;\n",
              "    }\n",
              "  </style>\n",
              "\n",
              "      <script>\n",
              "        const buttonEl =\n",
              "          document.querySelector('#df-1ba566f0-9fe5-4aa8-8176-bef55f4ec202 button.colab-df-convert');\n",
              "        buttonEl.style.display =\n",
              "          google.colab.kernel.accessAllowed ? 'block' : 'none';\n",
              "\n",
              "        async function convertToInteractive(key) {\n",
              "          const element = document.querySelector('#df-1ba566f0-9fe5-4aa8-8176-bef55f4ec202');\n",
              "          const dataTable =\n",
              "            await google.colab.kernel.invokeFunction('convertToInteractive',\n",
              "                                                     [key], {});\n",
              "          if (!dataTable) return;\n",
              "\n",
              "          const docLinkHtml = 'Like what you see? Visit the ' +\n",
              "            '<a target=\"_blank\" href=https://colab.research.google.com/notebooks/data_table.ipynb>data table notebook</a>'\n",
              "            + ' to learn more about interactive tables.';\n",
              "          element.innerHTML = '';\n",
              "          dataTable['output_type'] = 'display_data';\n",
              "          await google.colab.output.renderOutput(dataTable, element);\n",
              "          const docLink = document.createElement('div');\n",
              "          docLink.innerHTML = docLinkHtml;\n",
              "          element.appendChild(docLink);\n",
              "        }\n",
              "      </script>\n",
              "    </div>\n",
              "  </div>\n",
              "  "
            ]
          },
          "metadata": {},
          "execution_count": 41
        }
      ]
    },
    {
      "cell_type": "code",
      "source": [
        "df.to_csv('/content/gdrive/MyDrive/yelp_dataset/yelp_reviews_version2_nashville.csv')"
      ],
      "metadata": {
        "id": "dZVDEv7klr5n"
      },
      "execution_count": 42,
      "outputs": []
    },
    {
      "cell_type": "markdown",
      "source": [
        "Indianapolis"
      ],
      "metadata": {
        "id": "PnPCFkIil8gu"
      }
    },
    {
      "cell_type": "code",
      "source": [
        "# only keep businesses that are categorized as restaurant\n",
        "df = df_r.merge(df_b_indianapolis,left_on='business_id',right_on='business_id')"
      ],
      "metadata": {
        "id": "s7ueZV9ZmAbv"
      },
      "execution_count": 43,
      "outputs": []
    },
    {
      "cell_type": "code",
      "source": [
        "df.shape"
      ],
      "metadata": {
        "colab": {
          "base_uri": "https://localhost:8080/"
        },
        "outputId": "6f8b5a6a-f643-478e-de5d-04f247c970c9",
        "id": "QrSG52xfmAbw"
      },
      "execution_count": 44,
      "outputs": [
        {
          "output_type": "execute_result",
          "data": {
            "text/plain": [
              "(267622, 72)"
            ]
          },
          "metadata": {},
          "execution_count": 44
        }
      ]
    },
    {
      "cell_type": "code",
      "source": [
        "df  = df.iloc[: , :5]\n",
        "df = df.rename(columns = {'stars_x':'stars'})"
      ],
      "metadata": {
        "id": "3229soi9mAbx"
      },
      "execution_count": 45,
      "outputs": []
    },
    {
      "cell_type": "code",
      "source": [
        "df.head()"
      ],
      "metadata": {
        "colab": {
          "base_uri": "https://localhost:8080/",
          "height": 206
        },
        "outputId": "039b37d5-3d01-4017-948e-45079d1293b6",
        "id": "T0T6n4NnmAbx"
      },
      "execution_count": 46,
      "outputs": [
        {
          "output_type": "execute_result",
          "data": {
            "text/plain": [
              "                  user_id             business_id                 date  stars  \\\n",
              "0  WBpQDAZymU0dhIqXcACGNw  ut6fi2W2YaipNOqvi7e0jw  2014-11-12 14:12:20    3.0   \n",
              "1  dqlnQ_sXU8Da1BHcN9kvuw  ut6fi2W2YaipNOqvi7e0jw  2014-05-26 17:03:43    5.0   \n",
              "2  5ScFEwwxP8Mx6mkMABEqYQ  ut6fi2W2YaipNOqvi7e0jw  2016-08-04 03:39:57    5.0   \n",
              "3  v4e0BpuqX65PXuvNPpeETA  ut6fi2W2YaipNOqvi7e0jw  2013-06-24 18:58:49    3.0   \n",
              "4  X0YpEIL1aURFnlk5HNb59A  ut6fi2W2YaipNOqvi7e0jw  2018-05-29 19:18:28    5.0   \n",
              "\n",
              "                                                text  \n",
              "0  Upland is a brewery based out of Bloomington, ...  \n",
              "1  Loved it! The staff is incredibly genuine and ...  \n",
              "2  Claire does an amazing job!! Thanks so much fo...  \n",
              "3  So I definitely much prefer the feel of the ta...  \n",
              "4  Been coming here for months and between the be...  "
            ],
            "text/html": [
              "\n",
              "  <div id=\"df-9b36d363-c638-4aed-a4be-b23dfcb99f52\">\n",
              "    <div class=\"colab-df-container\">\n",
              "      <div>\n",
              "<style scoped>\n",
              "    .dataframe tbody tr th:only-of-type {\n",
              "        vertical-align: middle;\n",
              "    }\n",
              "\n",
              "    .dataframe tbody tr th {\n",
              "        vertical-align: top;\n",
              "    }\n",
              "\n",
              "    .dataframe thead th {\n",
              "        text-align: right;\n",
              "    }\n",
              "</style>\n",
              "<table border=\"1\" class=\"dataframe\">\n",
              "  <thead>\n",
              "    <tr style=\"text-align: right;\">\n",
              "      <th></th>\n",
              "      <th>user_id</th>\n",
              "      <th>business_id</th>\n",
              "      <th>date</th>\n",
              "      <th>stars</th>\n",
              "      <th>text</th>\n",
              "    </tr>\n",
              "  </thead>\n",
              "  <tbody>\n",
              "    <tr>\n",
              "      <th>0</th>\n",
              "      <td>WBpQDAZymU0dhIqXcACGNw</td>\n",
              "      <td>ut6fi2W2YaipNOqvi7e0jw</td>\n",
              "      <td>2014-11-12 14:12:20</td>\n",
              "      <td>3.0</td>\n",
              "      <td>Upland is a brewery based out of Bloomington, ...</td>\n",
              "    </tr>\n",
              "    <tr>\n",
              "      <th>1</th>\n",
              "      <td>dqlnQ_sXU8Da1BHcN9kvuw</td>\n",
              "      <td>ut6fi2W2YaipNOqvi7e0jw</td>\n",
              "      <td>2014-05-26 17:03:43</td>\n",
              "      <td>5.0</td>\n",
              "      <td>Loved it! The staff is incredibly genuine and ...</td>\n",
              "    </tr>\n",
              "    <tr>\n",
              "      <th>2</th>\n",
              "      <td>5ScFEwwxP8Mx6mkMABEqYQ</td>\n",
              "      <td>ut6fi2W2YaipNOqvi7e0jw</td>\n",
              "      <td>2016-08-04 03:39:57</td>\n",
              "      <td>5.0</td>\n",
              "      <td>Claire does an amazing job!! Thanks so much fo...</td>\n",
              "    </tr>\n",
              "    <tr>\n",
              "      <th>3</th>\n",
              "      <td>v4e0BpuqX65PXuvNPpeETA</td>\n",
              "      <td>ut6fi2W2YaipNOqvi7e0jw</td>\n",
              "      <td>2013-06-24 18:58:49</td>\n",
              "      <td>3.0</td>\n",
              "      <td>So I definitely much prefer the feel of the ta...</td>\n",
              "    </tr>\n",
              "    <tr>\n",
              "      <th>4</th>\n",
              "      <td>X0YpEIL1aURFnlk5HNb59A</td>\n",
              "      <td>ut6fi2W2YaipNOqvi7e0jw</td>\n",
              "      <td>2018-05-29 19:18:28</td>\n",
              "      <td>5.0</td>\n",
              "      <td>Been coming here for months and between the be...</td>\n",
              "    </tr>\n",
              "  </tbody>\n",
              "</table>\n",
              "</div>\n",
              "      <button class=\"colab-df-convert\" onclick=\"convertToInteractive('df-9b36d363-c638-4aed-a4be-b23dfcb99f52')\"\n",
              "              title=\"Convert this dataframe to an interactive table.\"\n",
              "              style=\"display:none;\">\n",
              "        \n",
              "  <svg xmlns=\"http://www.w3.org/2000/svg\" height=\"24px\"viewBox=\"0 0 24 24\"\n",
              "       width=\"24px\">\n",
              "    <path d=\"M0 0h24v24H0V0z\" fill=\"none\"/>\n",
              "    <path d=\"M18.56 5.44l.94 2.06.94-2.06 2.06-.94-2.06-.94-.94-2.06-.94 2.06-2.06.94zm-11 1L8.5 8.5l.94-2.06 2.06-.94-2.06-.94L8.5 2.5l-.94 2.06-2.06.94zm10 10l.94 2.06.94-2.06 2.06-.94-2.06-.94-.94-2.06-.94 2.06-2.06.94z\"/><path d=\"M17.41 7.96l-1.37-1.37c-.4-.4-.92-.59-1.43-.59-.52 0-1.04.2-1.43.59L10.3 9.45l-7.72 7.72c-.78.78-.78 2.05 0 2.83L4 21.41c.39.39.9.59 1.41.59.51 0 1.02-.2 1.41-.59l7.78-7.78 2.81-2.81c.8-.78.8-2.07 0-2.86zM5.41 20L4 18.59l7.72-7.72 1.47 1.35L5.41 20z\"/>\n",
              "  </svg>\n",
              "      </button>\n",
              "      \n",
              "  <style>\n",
              "    .colab-df-container {\n",
              "      display:flex;\n",
              "      flex-wrap:wrap;\n",
              "      gap: 12px;\n",
              "    }\n",
              "\n",
              "    .colab-df-convert {\n",
              "      background-color: #E8F0FE;\n",
              "      border: none;\n",
              "      border-radius: 50%;\n",
              "      cursor: pointer;\n",
              "      display: none;\n",
              "      fill: #1967D2;\n",
              "      height: 32px;\n",
              "      padding: 0 0 0 0;\n",
              "      width: 32px;\n",
              "    }\n",
              "\n",
              "    .colab-df-convert:hover {\n",
              "      background-color: #E2EBFA;\n",
              "      box-shadow: 0px 1px 2px rgba(60, 64, 67, 0.3), 0px 1px 3px 1px rgba(60, 64, 67, 0.15);\n",
              "      fill: #174EA6;\n",
              "    }\n",
              "\n",
              "    [theme=dark] .colab-df-convert {\n",
              "      background-color: #3B4455;\n",
              "      fill: #D2E3FC;\n",
              "    }\n",
              "\n",
              "    [theme=dark] .colab-df-convert:hover {\n",
              "      background-color: #434B5C;\n",
              "      box-shadow: 0px 1px 3px 1px rgba(0, 0, 0, 0.15);\n",
              "      filter: drop-shadow(0px 1px 2px rgba(0, 0, 0, 0.3));\n",
              "      fill: #FFFFFF;\n",
              "    }\n",
              "  </style>\n",
              "\n",
              "      <script>\n",
              "        const buttonEl =\n",
              "          document.querySelector('#df-9b36d363-c638-4aed-a4be-b23dfcb99f52 button.colab-df-convert');\n",
              "        buttonEl.style.display =\n",
              "          google.colab.kernel.accessAllowed ? 'block' : 'none';\n",
              "\n",
              "        async function convertToInteractive(key) {\n",
              "          const element = document.querySelector('#df-9b36d363-c638-4aed-a4be-b23dfcb99f52');\n",
              "          const dataTable =\n",
              "            await google.colab.kernel.invokeFunction('convertToInteractive',\n",
              "                                                     [key], {});\n",
              "          if (!dataTable) return;\n",
              "\n",
              "          const docLinkHtml = 'Like what you see? Visit the ' +\n",
              "            '<a target=\"_blank\" href=https://colab.research.google.com/notebooks/data_table.ipynb>data table notebook</a>'\n",
              "            + ' to learn more about interactive tables.';\n",
              "          element.innerHTML = '';\n",
              "          dataTable['output_type'] = 'display_data';\n",
              "          await google.colab.output.renderOutput(dataTable, element);\n",
              "          const docLink = document.createElement('div');\n",
              "          docLink.innerHTML = docLinkHtml;\n",
              "          element.appendChild(docLink);\n",
              "        }\n",
              "      </script>\n",
              "    </div>\n",
              "  </div>\n",
              "  "
            ]
          },
          "metadata": {},
          "execution_count": 46
        }
      ]
    },
    {
      "cell_type": "code",
      "source": [
        "df.to_csv('/content/gdrive/MyDrive/yelp_dataset/yelp_reviews_version2_indianapolis.csv')"
      ],
      "metadata": {
        "id": "uOlrdt02mAbx"
      },
      "execution_count": 47,
      "outputs": []
    }
  ]
}