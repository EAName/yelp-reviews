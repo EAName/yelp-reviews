{
  "nbformat": 4,
  "nbformat_minor": 0,
  "metadata": {
    "colab": {
      "provenance": [],
      "authorship_tag": "ABX9TyParf+J2s5Fd427vZtHB0bL",
      "include_colab_link": true
    },
    "kernelspec": {
      "name": "python3",
      "display_name": "Python 3"
    },
    "language_info": {
      "name": "python"
    },
    "accelerator": "GPU",
    "gpuClass": "standard"
  },
  "cells": [
    {
      "cell_type": "markdown",
      "metadata": {
        "id": "view-in-github",
        "colab_type": "text"
      },
      "source": [
        "<a href=\"https://colab.research.google.com/github/EAName/yelp-reviews/blob/main/Yelp_Combined_Reviews_(no_business_attributes)_DNN_RA.ipynb\" target=\"_parent\"><img src=\"https://colab.research.google.com/assets/colab-badge.svg\" alt=\"Open In Colab\"/></a>"
      ]
    },
    {
      "cell_type": "markdown",
      "metadata": {
        "id": "jx5TpMB65nVW"
      },
      "source": [
        "## Import Packages"
      ]
    },
    {
      "cell_type": "code",
      "execution_count": 1,
      "metadata": {
        "id": "A4cNq1ya5nVW"
      },
      "outputs": [],
      "source": [
        "from packaging import version\n",
        "\n",
        "import tensorflow as tf\n",
        "import tensorflow_datasets as tfds\n",
        "from tensorflow import keras\n",
        "from tensorflow.keras import layers\n",
        "from tensorflow.keras.layers import TextVectorization\n",
        "\n",
        "\n",
        "import pandas as pd\n",
        "import numpy as np\n",
        "import re\n",
        "import string\n",
        "import matplotlib.pyplot as plt\n",
        "import matplotlib as mpl\n",
        "import seaborn as sns\n",
        "import statistics\n",
        "\n",
        "%matplotlib inline\n",
        "\n",
        "from sklearn.metrics import confusion_matrix, classification_report\n",
        "from sklearn.preprocessing import StandardScaler\n",
        "from sklearn.decomposition import PCA\n",
        "from sklearn.manifold import TSNE\n",
        "from sklearn.ensemble import RandomForestClassifier\n",
        "from sklearn.metrics import mean_squared_error as MSE\n",
        "from sklearn.metrics import mean_absolute_error\n",
        "from sklearn.metrics import accuracy_score\n",
        "from sklearn.metrics import roc_auc_score, accuracy_score, confusion_matrix, silhouette_score\n",
        "from sklearn.metrics import precision_score, recall_score, f1_score, classification_report\n",
        "\n",
        "from sklearn.model_selection import train_test_split\n",
        "\n",
        "from datetime import datetime\n"
      ]
    },
    {
      "cell_type": "code",
      "execution_count": 2,
      "metadata": {
        "id": "3_tETfHF5nVZ",
        "colab": {
          "base_uri": "https://localhost:8080/"
        },
        "outputId": "ed2324aa-dfe9-494f-be18-bc054e095467"
      },
      "outputs": [
        {
          "output_type": "stream",
          "name": "stdout",
          "text": [
            "Mounted at /content/gdrive\n"
          ]
        }
      ],
      "source": [
        "from google.colab import drive\n",
        "drive.mount('/content/gdrive')"
      ]
    },
    {
      "cell_type": "markdown",
      "source": [
        "## Load Business Dataset"
      ],
      "metadata": {
        "id": "8p-uBrOCSLl-"
      }
    },
    {
      "cell_type": "code",
      "source": [
        "df_stlouis =pd.read_csv('/content/gdrive/MyDrive/Data/business_df_stlouis.csv')"
      ],
      "metadata": {
        "id": "Dd6K3Rz_m7wy"
      },
      "execution_count": 3,
      "outputs": []
    },
    {
      "cell_type": "code",
      "source": [
        "df_stlouis.shape"
      ],
      "metadata": {
        "colab": {
          "base_uri": "https://localhost:8080/"
        },
        "id": "4wgCbVRom8UX",
        "outputId": "642caaed-30ac-47bb-f9bc-1eb71f33396a"
      },
      "execution_count": 4,
      "outputs": [
        {
          "output_type": "execute_result",
          "data": {
            "text/plain": [
              "(3181, 69)"
            ]
          },
          "metadata": {},
          "execution_count": 4
        }
      ]
    },
    {
      "cell_type": "code",
      "source": [
        "df_stlouis.head()"
      ],
      "metadata": {
        "colab": {
          "base_uri": "https://localhost:8080/",
          "height": 525
        },
        "id": "ptj_XWFlm8WQ",
        "outputId": "2e723b19-2fae-4df4-a83f-c325de7ca62e"
      },
      "execution_count": 5,
      "outputs": [
        {
          "output_type": "execute_result",
          "data": {
            "text/plain": [
              "              business_id                                 name  \\\n",
              "0  k0hlBqXX-Bt0vf1op7Jr1w                Tsevi's Pub And Grill   \n",
              "1  ljxNT9p0y7YMPx0fcNBGig  Tony's Restaurant & 3rd Street Cafe   \n",
              "2  1MeIwdbTnZOBFCKOrgaxuw               Ricardo's Italian Cafe   \n",
              "3  VrGxoSNZfSiT-G4OqRRGIw                     Sunset 44 Bistro   \n",
              "4  wjyUxHxkrvUvCOVqy4g_wg                         Oscar's Cafe   \n",
              "\n",
              "                  address         city state  postal_code   latitude  \\\n",
              "0       8025 Mackenzie Rd       Affton    MO      63123.0  38.565165   \n",
              "1            312 Piasa St        Alton    IL      62002.0  38.896563   \n",
              "2           1931 Park Ave  Saint Louis    MO      63104.0  38.617272   \n",
              "3         118 W Adams Ave  Saint Louis    MO      63122.0  38.583223   \n",
              "4  7520 Natural Bridge Rd     Normandy    MO      63121.0  38.704765   \n",
              "\n",
              "   longitude  stars  review_count  ...  Chicken Wings Sports Bars  \\\n",
              "0 -90.321087    3.0            19  ...              0           0   \n",
              "1 -90.186203    3.0            94  ...              0           0   \n",
              "2 -90.212784    3.5            80  ...              0           0   \n",
              "3 -90.407187    4.0            73  ...              0           0   \n",
              "4 -90.299811    4.0            11  ...              0           0   \n",
              "\n",
              "  JapaneseTotal HasTV_NA  RestaurantsPriceRange2_NA  \\\n",
              "0             0      0.0                        0.0   \n",
              "1             0      0.0                        0.0   \n",
              "2             0      0.0                        0.0   \n",
              "3             0      0.0                        0.0   \n",
              "4             0      1.0                        0.0   \n",
              "\n",
              "   RestaurantsReservations_NA  garage_NA validated_NA  lot_NA  valet_NA  \n",
              "0                         0.0        0.0          0.0     0.0       0.0  \n",
              "1                         0.0        0.0          0.0     0.0       0.0  \n",
              "2                         0.0        0.0          0.0     0.0       0.0  \n",
              "3                         0.0        0.0          0.0     0.0       0.0  \n",
              "4                         1.0        0.0          0.0     0.0       0.0  \n",
              "\n",
              "[5 rows x 69 columns]"
            ],
            "text/html": [
              "\n",
              "  <div id=\"df-ed60cbb1-41c8-408e-95ef-0b1ac9c5ef7c\">\n",
              "    <div class=\"colab-df-container\">\n",
              "      <div>\n",
              "<style scoped>\n",
              "    .dataframe tbody tr th:only-of-type {\n",
              "        vertical-align: middle;\n",
              "    }\n",
              "\n",
              "    .dataframe tbody tr th {\n",
              "        vertical-align: top;\n",
              "    }\n",
              "\n",
              "    .dataframe thead th {\n",
              "        text-align: right;\n",
              "    }\n",
              "</style>\n",
              "<table border=\"1\" class=\"dataframe\">\n",
              "  <thead>\n",
              "    <tr style=\"text-align: right;\">\n",
              "      <th></th>\n",
              "      <th>business_id</th>\n",
              "      <th>name</th>\n",
              "      <th>address</th>\n",
              "      <th>city</th>\n",
              "      <th>state</th>\n",
              "      <th>postal_code</th>\n",
              "      <th>latitude</th>\n",
              "      <th>longitude</th>\n",
              "      <th>stars</th>\n",
              "      <th>review_count</th>\n",
              "      <th>...</th>\n",
              "      <th>Chicken Wings</th>\n",
              "      <th>Sports Bars</th>\n",
              "      <th>JapaneseTotal</th>\n",
              "      <th>HasTV_NA</th>\n",
              "      <th>RestaurantsPriceRange2_NA</th>\n",
              "      <th>RestaurantsReservations_NA</th>\n",
              "      <th>garage_NA</th>\n",
              "      <th>validated_NA</th>\n",
              "      <th>lot_NA</th>\n",
              "      <th>valet_NA</th>\n",
              "    </tr>\n",
              "  </thead>\n",
              "  <tbody>\n",
              "    <tr>\n",
              "      <th>0</th>\n",
              "      <td>k0hlBqXX-Bt0vf1op7Jr1w</td>\n",
              "      <td>Tsevi's Pub And Grill</td>\n",
              "      <td>8025 Mackenzie Rd</td>\n",
              "      <td>Affton</td>\n",
              "      <td>MO</td>\n",
              "      <td>63123.0</td>\n",
              "      <td>38.565165</td>\n",
              "      <td>-90.321087</td>\n",
              "      <td>3.0</td>\n",
              "      <td>19</td>\n",
              "      <td>...</td>\n",
              "      <td>0</td>\n",
              "      <td>0</td>\n",
              "      <td>0</td>\n",
              "      <td>0.0</td>\n",
              "      <td>0.0</td>\n",
              "      <td>0.0</td>\n",
              "      <td>0.0</td>\n",
              "      <td>0.0</td>\n",
              "      <td>0.0</td>\n",
              "      <td>0.0</td>\n",
              "    </tr>\n",
              "    <tr>\n",
              "      <th>1</th>\n",
              "      <td>ljxNT9p0y7YMPx0fcNBGig</td>\n",
              "      <td>Tony's Restaurant &amp; 3rd Street Cafe</td>\n",
              "      <td>312 Piasa St</td>\n",
              "      <td>Alton</td>\n",
              "      <td>IL</td>\n",
              "      <td>62002.0</td>\n",
              "      <td>38.896563</td>\n",
              "      <td>-90.186203</td>\n",
              "      <td>3.0</td>\n",
              "      <td>94</td>\n",
              "      <td>...</td>\n",
              "      <td>0</td>\n",
              "      <td>0</td>\n",
              "      <td>0</td>\n",
              "      <td>0.0</td>\n",
              "      <td>0.0</td>\n",
              "      <td>0.0</td>\n",
              "      <td>0.0</td>\n",
              "      <td>0.0</td>\n",
              "      <td>0.0</td>\n",
              "      <td>0.0</td>\n",
              "    </tr>\n",
              "    <tr>\n",
              "      <th>2</th>\n",
              "      <td>1MeIwdbTnZOBFCKOrgaxuw</td>\n",
              "      <td>Ricardo's Italian Cafe</td>\n",
              "      <td>1931 Park Ave</td>\n",
              "      <td>Saint Louis</td>\n",
              "      <td>MO</td>\n",
              "      <td>63104.0</td>\n",
              "      <td>38.617272</td>\n",
              "      <td>-90.212784</td>\n",
              "      <td>3.5</td>\n",
              "      <td>80</td>\n",
              "      <td>...</td>\n",
              "      <td>0</td>\n",
              "      <td>0</td>\n",
              "      <td>0</td>\n",
              "      <td>0.0</td>\n",
              "      <td>0.0</td>\n",
              "      <td>0.0</td>\n",
              "      <td>0.0</td>\n",
              "      <td>0.0</td>\n",
              "      <td>0.0</td>\n",
              "      <td>0.0</td>\n",
              "    </tr>\n",
              "    <tr>\n",
              "      <th>3</th>\n",
              "      <td>VrGxoSNZfSiT-G4OqRRGIw</td>\n",
              "      <td>Sunset 44 Bistro</td>\n",
              "      <td>118 W Adams Ave</td>\n",
              "      <td>Saint Louis</td>\n",
              "      <td>MO</td>\n",
              "      <td>63122.0</td>\n",
              "      <td>38.583223</td>\n",
              "      <td>-90.407187</td>\n",
              "      <td>4.0</td>\n",
              "      <td>73</td>\n",
              "      <td>...</td>\n",
              "      <td>0</td>\n",
              "      <td>0</td>\n",
              "      <td>0</td>\n",
              "      <td>0.0</td>\n",
              "      <td>0.0</td>\n",
              "      <td>0.0</td>\n",
              "      <td>0.0</td>\n",
              "      <td>0.0</td>\n",
              "      <td>0.0</td>\n",
              "      <td>0.0</td>\n",
              "    </tr>\n",
              "    <tr>\n",
              "      <th>4</th>\n",
              "      <td>wjyUxHxkrvUvCOVqy4g_wg</td>\n",
              "      <td>Oscar's Cafe</td>\n",
              "      <td>7520 Natural Bridge Rd</td>\n",
              "      <td>Normandy</td>\n",
              "      <td>MO</td>\n",
              "      <td>63121.0</td>\n",
              "      <td>38.704765</td>\n",
              "      <td>-90.299811</td>\n",
              "      <td>4.0</td>\n",
              "      <td>11</td>\n",
              "      <td>...</td>\n",
              "      <td>0</td>\n",
              "      <td>0</td>\n",
              "      <td>0</td>\n",
              "      <td>1.0</td>\n",
              "      <td>0.0</td>\n",
              "      <td>1.0</td>\n",
              "      <td>0.0</td>\n",
              "      <td>0.0</td>\n",
              "      <td>0.0</td>\n",
              "      <td>0.0</td>\n",
              "    </tr>\n",
              "  </tbody>\n",
              "</table>\n",
              "<p>5 rows × 69 columns</p>\n",
              "</div>\n",
              "      <button class=\"colab-df-convert\" onclick=\"convertToInteractive('df-ed60cbb1-41c8-408e-95ef-0b1ac9c5ef7c')\"\n",
              "              title=\"Convert this dataframe to an interactive table.\"\n",
              "              style=\"display:none;\">\n",
              "        \n",
              "  <svg xmlns=\"http://www.w3.org/2000/svg\" height=\"24px\"viewBox=\"0 0 24 24\"\n",
              "       width=\"24px\">\n",
              "    <path d=\"M0 0h24v24H0V0z\" fill=\"none\"/>\n",
              "    <path d=\"M18.56 5.44l.94 2.06.94-2.06 2.06-.94-2.06-.94-.94-2.06-.94 2.06-2.06.94zm-11 1L8.5 8.5l.94-2.06 2.06-.94-2.06-.94L8.5 2.5l-.94 2.06-2.06.94zm10 10l.94 2.06.94-2.06 2.06-.94-2.06-.94-.94-2.06-.94 2.06-2.06.94z\"/><path d=\"M17.41 7.96l-1.37-1.37c-.4-.4-.92-.59-1.43-.59-.52 0-1.04.2-1.43.59L10.3 9.45l-7.72 7.72c-.78.78-.78 2.05 0 2.83L4 21.41c.39.39.9.59 1.41.59.51 0 1.02-.2 1.41-.59l7.78-7.78 2.81-2.81c.8-.78.8-2.07 0-2.86zM5.41 20L4 18.59l7.72-7.72 1.47 1.35L5.41 20z\"/>\n",
              "  </svg>\n",
              "      </button>\n",
              "      \n",
              "  <style>\n",
              "    .colab-df-container {\n",
              "      display:flex;\n",
              "      flex-wrap:wrap;\n",
              "      gap: 12px;\n",
              "    }\n",
              "\n",
              "    .colab-df-convert {\n",
              "      background-color: #E8F0FE;\n",
              "      border: none;\n",
              "      border-radius: 50%;\n",
              "      cursor: pointer;\n",
              "      display: none;\n",
              "      fill: #1967D2;\n",
              "      height: 32px;\n",
              "      padding: 0 0 0 0;\n",
              "      width: 32px;\n",
              "    }\n",
              "\n",
              "    .colab-df-convert:hover {\n",
              "      background-color: #E2EBFA;\n",
              "      box-shadow: 0px 1px 2px rgba(60, 64, 67, 0.3), 0px 1px 3px 1px rgba(60, 64, 67, 0.15);\n",
              "      fill: #174EA6;\n",
              "    }\n",
              "\n",
              "    [theme=dark] .colab-df-convert {\n",
              "      background-color: #3B4455;\n",
              "      fill: #D2E3FC;\n",
              "    }\n",
              "\n",
              "    [theme=dark] .colab-df-convert:hover {\n",
              "      background-color: #434B5C;\n",
              "      box-shadow: 0px 1px 3px 1px rgba(0, 0, 0, 0.15);\n",
              "      filter: drop-shadow(0px 1px 2px rgba(0, 0, 0, 0.3));\n",
              "      fill: #FFFFFF;\n",
              "    }\n",
              "  </style>\n",
              "\n",
              "      <script>\n",
              "        const buttonEl =\n",
              "          document.querySelector('#df-ed60cbb1-41c8-408e-95ef-0b1ac9c5ef7c button.colab-df-convert');\n",
              "        buttonEl.style.display =\n",
              "          google.colab.kernel.accessAllowed ? 'block' : 'none';\n",
              "\n",
              "        async function convertToInteractive(key) {\n",
              "          const element = document.querySelector('#df-ed60cbb1-41c8-408e-95ef-0b1ac9c5ef7c');\n",
              "          const dataTable =\n",
              "            await google.colab.kernel.invokeFunction('convertToInteractive',\n",
              "                                                     [key], {});\n",
              "          if (!dataTable) return;\n",
              "\n",
              "          const docLinkHtml = 'Like what you see? Visit the ' +\n",
              "            '<a target=\"_blank\" href=https://colab.research.google.com/notebooks/data_table.ipynb>data table notebook</a>'\n",
              "            + ' to learn more about interactive tables.';\n",
              "          element.innerHTML = '';\n",
              "          dataTable['output_type'] = 'display_data';\n",
              "          await google.colab.output.renderOutput(dataTable, element);\n",
              "          const docLink = document.createElement('div');\n",
              "          docLink.innerHTML = docLinkHtml;\n",
              "          element.appendChild(docLink);\n",
              "        }\n",
              "      </script>\n",
              "    </div>\n",
              "  </div>\n",
              "  "
            ]
          },
          "metadata": {},
          "execution_count": 5
        }
      ]
    },
    {
      "cell_type": "markdown",
      "metadata": {
        "id": "rvmQxAhOMOMb"
      },
      "source": [
        "## Load Reviews Datasets"
      ]
    },
    {
      "cell_type": "code",
      "source": [
        "df =pd.read_csv('/content/gdrive/MyDrive/Data/yelp_reviews_clean_version4_st_louis.csv')"
      ],
      "metadata": {
        "id": "R936IjTMMOMb"
      },
      "execution_count": 6,
      "outputs": []
    },
    {
      "cell_type": "code",
      "source": [
        "df = df.groupby(['business_id'])['text'].apply(lambda x: ','.join(x)).reset_index()"
      ],
      "metadata": {
        "id": "VFClgfecy16O"
      },
      "execution_count": 7,
      "outputs": []
    },
    {
      "cell_type": "code",
      "source": [
        "pd.set_option('display.width', None)\n",
        "pd.set_option('display.max_colwidth', -1)"
      ],
      "metadata": {
        "id": "BJBaUViez3Np",
        "colab": {
          "base_uri": "https://localhost:8080/"
        },
        "outputId": "d718fba7-d5cd-4dfc-ae33-b0cd8ff23af3"
      },
      "execution_count": 8,
      "outputs": [
        {
          "output_type": "stream",
          "name": "stderr",
          "text": [
            "/usr/local/lib/python3.7/dist-packages/ipykernel_launcher.py:2: FutureWarning: Passing a negative integer is deprecated in version 1.0 and will not be supported in future version. Instead, use None to not limit the column width.\n",
            "  \n"
          ]
        }
      ]
    },
    {
      "cell_type": "code",
      "source": [
        "def clean_doc(doc): \n",
        "    #split review into individual words\n",
        "    tokens=doc.split()\n",
        "    re_punc = re.compile('[%s]' % re.escape(string.punctuation))\n",
        "    # remove punctuation from each word\n",
        "    tokens = [re_punc.sub('', w) for w in tokens]\n",
        "\n",
        "    #word lemmzatization    \n",
        "    lemm = WordNetLemmatizer()\n",
        "    tokens=[lemm.lemmatize(word) for word in tokens]\n",
        "\n",
        "    # remove remaining tokens that are not alphabetic\n",
        "    tokens = [word for word in tokens if word.isalpha()]\n",
        "    # filter out short tokens\n",
        "    tokens = [word for word in tokens if len(word) > 3]\n",
        "    #lowercase all words\n",
        "    tokens = [word.lower() for word in tokens]\n",
        "    # filter out stop words\n",
        "    stop_words = set(stopwords.words('english'))\n",
        "    tokens = [w for w in tokens if not w in stop_words]     \n",
        "\n",
        "    # filter out common words\n",
        "    tokens = [w for w in tokens if not w in ['louis', 'restaurant', 'also', 'youre']] \n",
        "    # # word stemming    \n",
        "    # ps=PorterStemmer()\n",
        "    # tokens=[ps.stem(word) for word in tokens]\n",
        "\n",
        "    return tokens\n",
        "\n",
        "def final_processed_text(doc):\n",
        "    #this is a function to join the processed text back\n",
        "    ' '.join(doc)\n",
        "    return doc"
      ],
      "metadata": {
        "id": "9aA2s_9J1hao"
      },
      "execution_count": 9,
      "outputs": []
    },
    {
      "cell_type": "code",
      "source": [
        "combined = pd.merge(df, df_stlouis, on ='business_id')"
      ],
      "metadata": {
        "id": "xKhcQFDj0t3l"
      },
      "execution_count": 38,
      "outputs": []
    },
    {
      "cell_type": "code",
      "source": [
        "combined.head(2)"
      ],
      "metadata": {
        "colab": {
          "base_uri": "https://localhost:8080/",
          "height": 1000
        },
        "id": "UdlbBD1X1qsj",
        "outputId": "3f5f36b0-3017-458c-f2a8-a09aa7a7e58c"
      },
      "execution_count": 39,
      "outputs": [
        {
          "output_type": "execute_result",
          "data": {
            "text/plain": [
              "              business_id  \\\n",
              "0  -1wnOZFsvsJPEXh_hWcmMA   \n",
              "1  -2gmbMDzKgYZ_8DOnJtPyw   \n",
              "\n",
              "                                                                                                                                                                                                                                                                                                                                                                                                                                                                                                                                                                                                                                                                                                                                                                                                                                                                                                                                                                                                                                                                                                                                                                                                                                                                                                                                                                                                                                                                                                                                                                                                                                                                                                                                                                                                                                                                                                                                                                                                                                                                                                                                                                                                                                                                                                                                                                                                                                                                                                                                                                                                                                                                                                                                                                                                                                                                                                                                                                                                                                                                                                                                                                                                                                                                                                                                                                                                                                                                                                                                                                                                                                                                                                                                                                                                                                                                                                                                                                                                                                                                                                                                                                                                                                                                                                                                                                                                                                                                                                                                                                                                                                                                                                                                                                                                                                                                                                                                                                                                                                                                                                                                                                                                                                                                                                                                                                                                                                                                                                                                                                                                                                                                                                                                                                                                                                                                                                                                                                                                                                                                                                                                                                                                                                                                                                                                                                                                                                                                                                                                                                                                                                                                                                                                                                                                                                                                                                                                                                                                                                                                                                                                                                                                                                                                                                                                                                                                                                                                                                                                                                                                                                                                                                                                                                                                                                                                                                                                                                                                                                                                                                                                                                                                                                                                                                                                                                                                                                                                                                                                                                                                                                                                                                                                                                                                                                                                                                                                                                                                                                                                                                                                                                                                                                                                                                                                                                                                                                                                                                                                                                                                                                                                                                                                                                                                                                                                                                                                                                                                                                                                                                                                                                                                                                                                                                                                                                                                                                                                                                                                                                                                                                                                                                                                                                                                                                                                                                                                                                                                                                                                                                                                                                                                                                                                                                                                                                                                                                                                                                                                                                                                                                                                                                                                                                                                                                                                                                                                                                                                                                                                                                                                                                                                                                                                                                                                                                                                                                                                                                                                                                                                          text  \\\n",
              "0  Tried their chicken adobo tacos tonight. Food looked and tasted fresh. Chicken seasoning was very good. The chips tasted like they were freshly made. Overall it was a wonderful experience. The staff was also super friendly. I'll definitely be back!,Amazing atmosphere only to be outdone by the tasty food. Can't wait for my next meal!,The best burgers in O'Fallon hands down! The Monday special is a fantastic deal. Great staff and family friendly.,Nice clean sports bar.  Had Fish Fry Friday and it was great!!!  New place so come check it out!!!,One of O'fallon's best family friendly neighborhood bar and restaurant. It's nice to have such a gem in the downtown. Prices are very reasonable and whether you are there for a few beers with friends or bringing your kids for a dinner, this place is the perfect. \\n\\nThe food is hand prepared and you can tell they take the time and energy to ensure it's fresh and tasty. Everything is great but a special shout out to the chips and salsa and burgers. Also they have a pretty legit fish fry on Friday's. \\n\\nLastly, whether you are a bud light drinker, prefer the craft brews, or a wino, they have it all.,Just went there for taco Tuesday! They were very busy but still had a few tables available. The way she says were amazing and worked their butts off. Taco plates were only eight dollars each for two shrimp tacos and chips and salsa. They were absolutely delicious this will be my new Tuesday dinner location,Brought my family in for lunch, we got seated and received drinks quickly. Our server was very nice and recommended a couple different items. We ordered and then waited, and waited, and waited. Finally after about 30 min I asked how much longer and did not get an answer. So we waited a few more minutes. Finally our server came over and told us they had moved our ticket up in line and we were next. Unfortunately, after waiting over 45 min the burgers and wraps we had ordered didn't seem worth it. We ended up leaving and never ate. Very disappointing experience.,My boyfriend and I stopped in about 12 am while he was in town working an event.  I have to tell you all the staff were great.  Since our names are Tom and Tracee, we got introduced to the owners who happen to have the same name.  They were very grateful we stopped in.  I also got the opportunity to try St Louis favorite root beer! We had their pizza, which was very delicious! Next time we are in town we will definitely stop by again,Swung in for a quick, late lunch.\\nI was immediately impressed with the crowd in a Monday afternoon.\\nI was under the impression that I would get a cold beer and some so/so bar food.\\nBoy! I was wrong!\\nI asked for a menu and the Bartender asked if I wanted to hear the special.\\nI said \"ok,\" she said \"$5 burger with fries.\" I didn't need the menu any longer.\\nMy drink was then made and was made correctly! (The vodka to soda, to ice, to glass, ratio was perfect!)\\nMy meal arrived as I ordered a second (and final) drink.\\nThe lettuce, tomatoes, pickles, and onions were served on the side. The burger was perfectly grilled as was the bun.\\nThe fries were fresh cut, homemade with skin on!\\nI can't believe this was a $5.00 meal!\\nI will definitely be back!,Was severly dissapointed and underwhelmed. Not a fan of pre-packaged food. My expectations were too high maybe. Portion size was good. Food quality and taste was poor at best...never again. Not even if starving.,Clean and updated bar/restaurant. Great service and great food. Burgers are hand patted and buns are grilled. Delicious! Amber at the bar was fantastic. Fries are fresh cut and plentiful.                                                                                                                                                                                                                                                                                                                                                                                                                                                                                                                                                                                                                                                                                                                                                                                                                                                                                                                                                                                                                                                                                                                                                                                                                                                                                                                                                                                                                                                                                                                                                                                                                                                                                                                                                                                                                                                                                                                                                                                                                                                                                                                                                                                                                                                                                                                                                                                                                                                                                                                                                                                                                                                                                                                                                                                                                                                                                                                                                                                                                                                                                                                                                                                                                                                                                                                                                                                                                                                                                                                                                                                                                                                                                                                                                                                                                                                                                                                                                                                                                                                                                                                                                                                                                                                                                                                                                                                                                                                                                                                                                                                                                                                                                                                                                                                                                                                                                                                                                                                                                                                                                                                                                                                                                                                                                                                                                                                                                                                                                                                                                                                                                                                                                                                                                                                                                                                                                                                                                                                                                                                                                                                                                                                                                                                                                                                                                                                                                                                                                                                                                                                                                                                                                                                                                                                                                                                                                                                                                                                                                                                                                                                                                                                                                                                                                                                                                                                                                                                                                                                                                                                                                                                                                                                                                                                                                                                                                                                                                                                                                                                                                                                                                                                                                                                                                                                                                                                                                                                                                                                                                                                                                                                                                                                                                                                                                                   \n",
              "1  Used to be my favorite.  Ate there one hot summer day last year. Not the coolest temp in the dinning area and staff looked a bit over warm too. Got my favorite beef and broccoli which tasted good I thought.  Couple hours later at home got sicker than a dog. ER staff said \"tainted food or lack of sanitation\" caused my vomiting and pain.  They took the name of where I ate but I did not file a report.  I Don't Advise eating there. I will never go there again!    It was not worth a trip to the ER and my stomach \\nBeing pumped out.     BEWARE.,The place had great food. This was the tops as far as what I've experienced in Chinese cuisine in the area. The people were nice and the food was reasonably priced. It was quite busy while my family was there. I recommend it.,This place has typical Chinese dishes. average and not at all outstanding food but even the mediocrity of the food is ruined by the owners attitude towards employees and then in turn from all the employees to the customers. I will never go here again.,I order at 3:44 and they said 40 minutes.  So far it has been an hour and no call.  I called\\nStore and no apology from staff. I was told sorry I wasn't here when you placed your order. \\n???customer service???   Really?  It is now after 5pm and I still don't have my ordered food.  I don't mind waiting, but this is silly.  The place is only a few minutes away.    I would have spent\\nmy money someplace else.  I called and the owner was upset with me.  I just called to cancel the order and he said he could not cancel because I paid with credit card.  REALLY!!!  Customer Service????,The man on the phone was friendly and helped me figure out the best portions for my order.  The delivery was fast and the food was the best I've had around here for your typical Chinese delivery.  This is now my go to Chinese!,Food is mediocre and the guy answering the phone was rude!  I've ordered the same thing a few times and it's always different,Awesome, great, fast delivery, food was fantastic, exactly what I ordered and it was hot (that doesn't always happen other places).  The Chicken Fried Rice was superb and the Crab Rangoon was incredible.  Definitely give this place a try...... I'm sure you'll like it.  Try to remember this is Collinsville, IL and they're trying as hard as they can.,just the kind of cruddy \"chinese food\" american's have come to expect that \"real\" chinese deign not to eat. chinese food in china is great. i feel bad seeing what passes as \"healthy\" chinese food in these parts.\\n\\ni got the snow pea/beef offering. they sure don't skimp on the rice. there was more rice than entree. (in china, you get one small bowl of rice...totaling less than 1/4 bulk of the entree) the beef that was stringy and unchewable was passable. the snow peas were good. the brown sauce of the platter had the consistency of old motor oil.\\n\\nthe egg drop soup came hot in a syrofoam cup. it tasted, well...chemically. i told the counter lady and she countered with \"that's the way we always make it\" and offered another choice.\\n\\nmy choice is to not return.,why is the staff always so angry? the profit margin in Chinese shops is huge. lighten up, both the Chinese and the local staff. bad vibes...,The food is cheaply priced, but always good. The inside could use renovating, but who eats Chinese food inside a restaurant anyways?,We ordered 3 different meals for lunch.  Pineapple Chicken , Pork Egg Foo Young and Cashew Chicken.  Comes with choice of fried rice or white.  Also soup or egg roll or crab Rangoon.  Our meal today was hot and delicious, a huge amount of food for two people.  We heated a plate for supper and it was delicious again.  Everything was great, we've bought many meals from them and never had a bad meal yet.  I ordered it on the Internet for the first time and it was simple to pick up as we were coming home.,Order food for delivery, advised I was in a wheelchair they needed extra time to get to the door. Delivery man left before getting to the door then ask me to come and get my refund from the store, instead of placing it back on my debit card. I spoke with manager he told me I was a idiot and hung up on me. Terrible customer service and will never give this restaurant my business again.,In town on a business trip and my usual go to place Peking Garden was closed for the week. The owners were on vacation. So I decided to give this place a whirl.\\n\\nI had the pork chow mein and a few other side items and they were all really really tasty and I would definitely come here again if Peking Garden is closed. \\n\\nI didn't have a problem with the staff like some other reviews had but they really didn't seem to care and I wasn't expecting much and besides I took my order to go.,This is my go to place for cheap delicious Chinese food. \\n\\nI wish I could talk about their menu in full, but the first time I ate from here I got the mushroom chicken and haven't been tempted to try anything else. I go with the fried rice with decent chunks of chicken giant pieces of halved button mushrooms, crunchy snap peas, carrots, and water chestnuts. All of this is served with soy sauce. My only complaint is the rice is sometimes a bit overcooked/dry but I can over look that. Possibly the real reason I keep coming back is the crab rangoon. With your order you get the choice of a side of crab rangoon or egg rolls. There is nothing unique about the crab rangoon, they just serve it with that golden brown crunchy exterior, and the sweet creamy crab filling you expect. For me they are kinda addictive.\\n\\nThere are 3 ways to get your dose of New China: Dine-In, Delivery, or Take Out. I've never dined in, small dining area with one large table that could probably seat 6, delivery in my experiences has been very slow, so I recommend take out. \\n\\nIt might not be the best Chinese food in the area, but for the portion and the price it works for me.,This all occurred on Monday, the 23 of April. First time ever eating from this restaurant, I had ordered pork fried rice and pot stickers. My mother had ordered Lou mien and crab Rangoon's, my sister had the same. It was all take out, I'm not sure if it was delivered. I thought it was a bit odd because the rice was yellow, I never had yellow rice before. Though I know there are different breads of rice. The rice was a little bland, though the pot stickers and the dipping sauce was very tasteful. Later that night I had decided to eat up the rest of my food to eat. The next day towards the evening, do you know what hit me. Instant throwing up and diarrhea. It takes up to 24 to 48 hours for food poisoning to occur in the body. All three of us were hit with food poisoning, my mother, my sister, and I. Be careful from now on eating from this restaurant, I would really consider it especially if you read all these reviews.,Food is pretty good, I liked it a lot better until I started getting the same delivery guy.  I won't order from there anymore unless I'm picking it up myself.  He is always late, and my food smells horribly of cigarette smoke.  Can't even enjoy it anymore.  It's so bad that I have to leave the bag outside or my house stinks of cigarettes.  It's a shame, I would give it 3-1/2 or 4 if not for that.,This food is AWESOME!  Everytime I order it is on time and fresh and excellent!  The beef and broccolli is outstanding!  Shrimp fried rice and crab rangoon are also excellent.  Delivery drivers are also so nice too!,New China does not honor their coupons. Jerks that work there would rather loose a LOT of business than honor a coupon when I was spending 40 bucks on lunch. There are many other places to eat. They will never get another dime of my money. Worst customer service ever,Only giving 1 star because I cannot give 0.  Called and was put on hold for 5 minutes then hung up on.  When I called back I was asked if I can hold again.  When I told them what happened the girl who answered stated they were too busy, I asked I should call order from somewhere else she said that's up to you and hung up again.  Completely rude and incompetent girl that answers your phones.,New to collinsville and searching for a new Chinese delivery restaurant. This is NOT it.  \\n\\nI had the single most disgusting dish of my life from here.  Chicken chow mein. There was nearly no chicken in the dish.  The vegetables consisted of onion and bok choi with a sliver of celery.  Mainly onion. The flavor was non existent.  Just onion and Barry washed bok choi.  There was no sauce but it came with crunchy noodles.   Seriously gross.  It got tossed.  And I'm not a picky person. \\n\\nThe fried chicken (for my little kids) tasted like it was cooked in dirty grease.  Twice.  \\n\\nThe crab Rangoon had a decent flavor on the inside but again, dirty oil flavor. \\n\\nWe also order beef and broccoli.  That wasn't terrible. The beef was super chewy but the flavor wasn't awful. Tons of broccoli. \\n\\nI'm one and done with this place.  It was so bad I won't bother with another chance.,WARNING....do not order food from here.....haven't gotten food here in a long time. Last time, ordered egg foo yung and the bottom patty was melted into the styrofoam container. Ordered crab stix...bit into one, and it was still wrapped in plastic....NEVER AGAIN,Worst Chinese food I've had in a long time. We ordered from them and they gave us none of the food we actually ordered. Tried to be a good sport and all of the food was TERRIBLE. I called and they said it wasn't their problem. Rude staff. Please do not order from here,Found a hair in my food and was only given half of my money back. One of the people was laughing about me finding a hair in my food.  Tried to contact manager, was told that the two english speaking inviduals there were \"considered managers since the other people working that day didn't speak english\". I asked for the owners name, was given the run around and a fake name, researched on the internet and found out the REAL owner's name. Tried to contact the owner, wrote a letter, no response.,New China on Beltline Rd in Collinsville has good food BUT every time I try to place an order for delivery over the phone something terrible ALWAYS happens. One of two things always happens when you order over the phone, either they take your order wrong and you don't get what you ordered when it arrives at your house or the delivery driver cannot find your address and drives around with your order in his/her car for 30+ minutes. \\n\\nThe worst part about the service here is when they make a mistake the managers never want to fix the problem (this has happened three times now over 2 years) and they want to argue with the customers point of view. The managers need to learn that the customer is always right, especially someone who has ordered over 50 times in the last few years. \\n\\nOn my last order when the delivery driver got lost i asked them to remake the food and I would come pick it up because the sweet and sour chicken would be soggy and not good after sitting in the drivers car in the sealed plastic container for over 35 minutes and the manager would not remake the food.\\n\\nSo overall, terrible delivery and even worse managing...,I always get super fresh food here. I've tried others, but I'm always going back here.  I think once maybe I had bad fried rice like maybe the oil was old or something,but I've been going here since it opened and I'm surprised it has low ratings.  It's mostly to go. Personally I don't really like eating there, but my food is always still hot even 30-40 minutes later.  I even think the food is as fresh at lunchtime or dinner.   Plus, love the fact that they deliver to Maryville so I don't have to get out if I'm sick or if there's a foot of snow on the ground.  It's my go to Chinese place.  \\n\\nMy favorites are the General TSO, garlic chicken, broccoli chicken, chicken fried rice and their egg rolls.  Not a fan of their over stuffed crab Rangoon as I like my feeling to be hot and runny they need to fry and more stuff them less.  It's always good and consistent for me.  I'm not expecting high in PF Chang's.   \n",
              "\n",
              "                name                    address          city state  \\\n",
              "0  1st Street Lounge  119 W 1st St               O'Fallon      IL     \n",
              "1  New China          1099 Belt Line Rd, Unit G  Collinsville  IL     \n",
              "\n",
              "   postal_code   latitude  longitude  stars  ...  Chicken Wings  Sports Bars  \\\n",
              "0  62269.0      38.591460 -89.911523  4.5    ...  0              0             \n",
              "1  62234.0      38.692212 -89.985062  2.5    ...  0              0             \n",
              "\n",
              "  JapaneseTotal HasTV_NA RestaurantsPriceRange2_NA  \\\n",
              "0  0             0.0      1.0                        \n",
              "1  0             0.0      0.0                        \n",
              "\n",
              "   RestaurantsReservations_NA  garage_NA  validated_NA lot_NA  valet_NA  \n",
              "0  1.0                         1.0        1.0           1.0    1.0       \n",
              "1  0.0                         1.0        1.0           1.0    1.0       \n",
              "\n",
              "[2 rows x 70 columns]"
            ],
            "text/html": [
              "\n",
              "  <div id=\"df-095fc317-f37c-4ca5-a1f7-c0c45d43e775\">\n",
              "    <div class=\"colab-df-container\">\n",
              "      <div>\n",
              "<style scoped>\n",
              "    .dataframe tbody tr th:only-of-type {\n",
              "        vertical-align: middle;\n",
              "    }\n",
              "\n",
              "    .dataframe tbody tr th {\n",
              "        vertical-align: top;\n",
              "    }\n",
              "\n",
              "    .dataframe thead th {\n",
              "        text-align: right;\n",
              "    }\n",
              "</style>\n",
              "<table border=\"1\" class=\"dataframe\">\n",
              "  <thead>\n",
              "    <tr style=\"text-align: right;\">\n",
              "      <th></th>\n",
              "      <th>business_id</th>\n",
              "      <th>text</th>\n",
              "      <th>name</th>\n",
              "      <th>address</th>\n",
              "      <th>city</th>\n",
              "      <th>state</th>\n",
              "      <th>postal_code</th>\n",
              "      <th>latitude</th>\n",
              "      <th>longitude</th>\n",
              "      <th>stars</th>\n",
              "      <th>...</th>\n",
              "      <th>Chicken Wings</th>\n",
              "      <th>Sports Bars</th>\n",
              "      <th>JapaneseTotal</th>\n",
              "      <th>HasTV_NA</th>\n",
              "      <th>RestaurantsPriceRange2_NA</th>\n",
              "      <th>RestaurantsReservations_NA</th>\n",
              "      <th>garage_NA</th>\n",
              "      <th>validated_NA</th>\n",
              "      <th>lot_NA</th>\n",
              "      <th>valet_NA</th>\n",
              "    </tr>\n",
              "  </thead>\n",
              "  <tbody>\n",
              "    <tr>\n",
              "      <th>0</th>\n",
              "      <td>-1wnOZFsvsJPEXh_hWcmMA</td>\n",
              "      <td>Tried their chicken adobo tacos tonight. Food looked and tasted fresh. Chicken seasoning was very good. The chips tasted like they were freshly made. Overall it was a wonderful experience. The staff was also super friendly. I'll definitely be back!,Amazing atmosphere only to be outdone by the tasty food. Can't wait for my next meal!,The best burgers in O'Fallon hands down! The Monday special is a fantastic deal. Great staff and family friendly.,Nice clean sports bar.  Had Fish Fry Friday and it was great!!!  New place so come check it out!!!,One of O'fallon's best family friendly neighborhood bar and restaurant. It's nice to have such a gem in the downtown. Prices are very reasonable and whether you are there for a few beers with friends or bringing your kids for a dinner, this place is the perfect. \\n\\nThe food is hand prepared and you can tell they take the time and energy to ensure it's fresh and tasty. Everything is great but a special shout out to the chips and salsa and burgers. Also they have a pretty legit fish fry on Friday's. \\n\\nLastly, whether you are a bud light drinker, prefer the craft brews, or a wino, they have it all.,Just went there for taco Tuesday! They were very busy but still had a few tables available. The way she says were amazing and worked their butts off. Taco plates were only eight dollars each for two shrimp tacos and chips and salsa. They were absolutely delicious this will be my new Tuesday dinner location,Brought my family in for lunch, we got seated and received drinks quickly. Our server was very nice and recommended a couple different items. We ordered and then waited, and waited, and waited. Finally after about 30 min I asked how much longer and did not get an answer. So we waited a few more minutes. Finally our server came over and told us they had moved our ticket up in line and we were next. Unfortunately, after waiting over 45 min the burgers and wraps we had ordered didn't seem worth it. We ended up leaving and never ate. Very disappointing experience.,My boyfriend and I stopped in about 12 am while he was in town working an event.  I have to tell you all the staff were great.  Since our names are Tom and Tracee, we got introduced to the owners who happen to have the same name.  They were very grateful we stopped in.  I also got the opportunity to try St Louis favorite root beer! We had their pizza, which was very delicious! Next time we are in town we will definitely stop by again,Swung in for a quick, late lunch.\\nI was immediately impressed with the crowd in a Monday afternoon.\\nI was under the impression that I would get a cold beer and some so/so bar food.\\nBoy! I was wrong!\\nI asked for a menu and the Bartender asked if I wanted to hear the special.\\nI said \"ok,\" she said \"$5 burger with fries.\" I didn't need the menu any longer.\\nMy drink was then made and was made correctly! (The vodka to soda, to ice, to glass, ratio was perfect!)\\nMy meal arrived as I ordered a second (and final) drink.\\nThe lettuce, tomatoes, pickles, and onions were served on the side. The burger was perfectly grilled as was the bun.\\nThe fries were fresh cut, homemade with skin on!\\nI can't believe this was a $5.00 meal!\\nI will definitely be back!,Was severly dissapointed and underwhelmed. Not a fan of pre-packaged food. My expectations were too high maybe. Portion size was good. Food quality and taste was poor at best...never again. Not even if starving.,Clean and updated bar/restaurant. Great service and great food. Burgers are hand patted and buns are grilled. Delicious! Amber at the bar was fantastic. Fries are fresh cut and plentiful.</td>\n",
              "      <td>1st Street Lounge</td>\n",
              "      <td>119 W 1st St</td>\n",
              "      <td>O'Fallon</td>\n",
              "      <td>IL</td>\n",
              "      <td>62269.0</td>\n",
              "      <td>38.591460</td>\n",
              "      <td>-89.911523</td>\n",
              "      <td>4.5</td>\n",
              "      <td>...</td>\n",
              "      <td>0</td>\n",
              "      <td>0</td>\n",
              "      <td>0</td>\n",
              "      <td>0.0</td>\n",
              "      <td>1.0</td>\n",
              "      <td>1.0</td>\n",
              "      <td>1.0</td>\n",
              "      <td>1.0</td>\n",
              "      <td>1.0</td>\n",
              "      <td>1.0</td>\n",
              "    </tr>\n",
              "    <tr>\n",
              "      <th>1</th>\n",
              "      <td>-2gmbMDzKgYZ_8DOnJtPyw</td>\n",
              "      <td>Used to be my favorite.  Ate there one hot summer day last year. Not the coolest temp in the dinning area and staff looked a bit over warm too. Got my favorite beef and broccoli which tasted good I thought.  Couple hours later at home got sicker than a dog. ER staff said \"tainted food or lack of sanitation\" caused my vomiting and pain.  They took the name of where I ate but I did not file a report.  I Don't Advise eating there. I will never go there again!    It was not worth a trip to the ER and my stomach \\nBeing pumped out.     BEWARE.,The place had great food. This was the tops as far as what I've experienced in Chinese cuisine in the area. The people were nice and the food was reasonably priced. It was quite busy while my family was there. I recommend it.,This place has typical Chinese dishes. average and not at all outstanding food but even the mediocrity of the food is ruined by the owners attitude towards employees and then in turn from all the employees to the customers. I will never go here again.,I order at 3:44 and they said 40 minutes.  So far it has been an hour and no call.  I called\\nStore and no apology from staff. I was told sorry I wasn't here when you placed your order. \\n???customer service???   Really?  It is now after 5pm and I still don't have my ordered food.  I don't mind waiting, but this is silly.  The place is only a few minutes away.    I would have spent\\nmy money someplace else.  I called and the owner was upset with me.  I just called to cancel the order and he said he could not cancel because I paid with credit card.  REALLY!!!  Customer Service????,The man on the phone was friendly and helped me figure out the best portions for my order.  The delivery was fast and the food was the best I've had around here for your typical Chinese delivery.  This is now my go to Chinese!,Food is mediocre and the guy answering the phone was rude!  I've ordered the same thing a few times and it's always different,Awesome, great, fast delivery, food was fantastic, exactly what I ordered and it was hot (that doesn't always happen other places).  The Chicken Fried Rice was superb and the Crab Rangoon was incredible.  Definitely give this place a try...... I'm sure you'll like it.  Try to remember this is Collinsville, IL and they're trying as hard as they can.,just the kind of cruddy \"chinese food\" american's have come to expect that \"real\" chinese deign not to eat. chinese food in china is great. i feel bad seeing what passes as \"healthy\" chinese food in these parts.\\n\\ni got the snow pea/beef offering. they sure don't skimp on the rice. there was more rice than entree. (in china, you get one small bowl of rice...totaling less than 1/4 bulk of the entree) the beef that was stringy and unchewable was passable. the snow peas were good. the brown sauce of the platter had the consistency of old motor oil.\\n\\nthe egg drop soup came hot in a syrofoam cup. it tasted, well...chemically. i told the counter lady and she countered with \"that's the way we always make it\" and offered another choice.\\n\\nmy choice is to not return.,why is the staff always so angry? the profit margin in Chinese shops is huge. lighten up, both the Chinese and the local staff. bad vibes...,The food is cheaply priced, but always good. The inside could use renovating, but who eats Chinese food inside a restaurant anyways?,We ordered 3 different meals for lunch.  Pineapple Chicken , Pork Egg Foo Young and Cashew Chicken.  Comes with choice of fried rice or white.  Also soup or egg roll or crab Rangoon.  Our meal today was hot and delicious, a huge amount of food for two people.  We heated a plate for supper and it was delicious again.  Everything was great, we've bought many meals from them and never had a bad meal yet.  I ordered it on the Internet for the first time and it was simple to pick up as we were coming home.,Order food for delivery, advised I was in a wheelchair they needed extra time to get to the door. Delivery man left before getting to the door then ask me to come and get my refund from the store, instead of placing it back on my debit card. I spoke with manager he told me I was a idiot and hung up on me. Terrible customer service and will never give this restaurant my business again.,In town on a business trip and my usual go to place Peking Garden was closed for the week. The owners were on vacation. So I decided to give this place a whirl.\\n\\nI had the pork chow mein and a few other side items and they were all really really tasty and I would definitely come here again if Peking Garden is closed. \\n\\nI didn't have a problem with the staff like some other reviews had but they really didn't seem to care and I wasn't expecting much and besides I took my order to go.,This is my go to place for cheap delicious Chinese food. \\n\\nI wish I could talk about their menu in full, but the first time I ate from here I got the mushroom chicken and haven't been tempted to try anything else. I go with the fried rice with decent chunks of chicken giant pieces of halved button mushrooms, crunchy snap peas, carrots, and water chestnuts. All of this is served with soy sauce. My only complaint is the rice is sometimes a bit overcooked/dry but I can over look that. Possibly the real reason I keep coming back is the crab rangoon. With your order you get the choice of a side of crab rangoon or egg rolls. There is nothing unique about the crab rangoon, they just serve it with that golden brown crunchy exterior, and the sweet creamy crab filling you expect. For me they are kinda addictive.\\n\\nThere are 3 ways to get your dose of New China: Dine-In, Delivery, or Take Out. I've never dined in, small dining area with one large table that could probably seat 6, delivery in my experiences has been very slow, so I recommend take out. \\n\\nIt might not be the best Chinese food in the area, but for the portion and the price it works for me.,This all occurred on Monday, the 23 of April. First time ever eating from this restaurant, I had ordered pork fried rice and pot stickers. My mother had ordered Lou mien and crab Rangoon's, my sister had the same. It was all take out, I'm not sure if it was delivered. I thought it was a bit odd because the rice was yellow, I never had yellow rice before. Though I know there are different breads of rice. The rice was a little bland, though the pot stickers and the dipping sauce was very tasteful. Later that night I had decided to eat up the rest of my food to eat. The next day towards the evening, do you know what hit me. Instant throwing up and diarrhea. It takes up to 24 to 48 hours for food poisoning to occur in the body. All three of us were hit with food poisoning, my mother, my sister, and I. Be careful from now on eating from this restaurant, I would really consider it especially if you read all these reviews.,Food is pretty good, I liked it a lot better until I started getting the same delivery guy.  I won't order from there anymore unless I'm picking it up myself.  He is always late, and my food smells horribly of cigarette smoke.  Can't even enjoy it anymore.  It's so bad that I have to leave the bag outside or my house stinks of cigarettes.  It's a shame, I would give it 3-1/2 or 4 if not for that.,This food is AWESOME!  Everytime I order it is on time and fresh and excellent!  The beef and broccolli is outstanding!  Shrimp fried rice and crab rangoon are also excellent.  Delivery drivers are also so nice too!,New China does not honor their coupons. Jerks that work there would rather loose a LOT of business than honor a coupon when I was spending 40 bucks on lunch. There are many other places to eat. They will never get another dime of my money. Worst customer service ever,Only giving 1 star because I cannot give 0.  Called and was put on hold for 5 minutes then hung up on.  When I called back I was asked if I can hold again.  When I told them what happened the girl who answered stated they were too busy, I asked I should call order from somewhere else she said that's up to you and hung up again.  Completely rude and incompetent girl that answers your phones.,New to collinsville and searching for a new Chinese delivery restaurant. This is NOT it.  \\n\\nI had the single most disgusting dish of my life from here.  Chicken chow mein. There was nearly no chicken in the dish.  The vegetables consisted of onion and bok choi with a sliver of celery.  Mainly onion. The flavor was non existent.  Just onion and Barry washed bok choi.  There was no sauce but it came with crunchy noodles.   Seriously gross.  It got tossed.  And I'm not a picky person. \\n\\nThe fried chicken (for my little kids) tasted like it was cooked in dirty grease.  Twice.  \\n\\nThe crab Rangoon had a decent flavor on the inside but again, dirty oil flavor. \\n\\nWe also order beef and broccoli.  That wasn't terrible. The beef was super chewy but the flavor wasn't awful. Tons of broccoli. \\n\\nI'm one and done with this place.  It was so bad I won't bother with another chance.,WARNING....do not order food from here.....haven't gotten food here in a long time. Last time, ordered egg foo yung and the bottom patty was melted into the styrofoam container. Ordered crab stix...bit into one, and it was still wrapped in plastic....NEVER AGAIN,Worst Chinese food I've had in a long time. We ordered from them and they gave us none of the food we actually ordered. Tried to be a good sport and all of the food was TERRIBLE. I called and they said it wasn't their problem. Rude staff. Please do not order from here,Found a hair in my food and was only given half of my money back. One of the people was laughing about me finding a hair in my food.  Tried to contact manager, was told that the two english speaking inviduals there were \"considered managers since the other people working that day didn't speak english\". I asked for the owners name, was given the run around and a fake name, researched on the internet and found out the REAL owner's name. Tried to contact the owner, wrote a letter, no response.,New China on Beltline Rd in Collinsville has good food BUT every time I try to place an order for delivery over the phone something terrible ALWAYS happens. One of two things always happens when you order over the phone, either they take your order wrong and you don't get what you ordered when it arrives at your house or the delivery driver cannot find your address and drives around with your order in his/her car for 30+ minutes. \\n\\nThe worst part about the service here is when they make a mistake the managers never want to fix the problem (this has happened three times now over 2 years) and they want to argue with the customers point of view. The managers need to learn that the customer is always right, especially someone who has ordered over 50 times in the last few years. \\n\\nOn my last order when the delivery driver got lost i asked them to remake the food and I would come pick it up because the sweet and sour chicken would be soggy and not good after sitting in the drivers car in the sealed plastic container for over 35 minutes and the manager would not remake the food.\\n\\nSo overall, terrible delivery and even worse managing...,I always get super fresh food here. I've tried others, but I'm always going back here.  I think once maybe I had bad fried rice like maybe the oil was old or something,but I've been going here since it opened and I'm surprised it has low ratings.  It's mostly to go. Personally I don't really like eating there, but my food is always still hot even 30-40 minutes later.  I even think the food is as fresh at lunchtime or dinner.   Plus, love the fact that they deliver to Maryville so I don't have to get out if I'm sick or if there's a foot of snow on the ground.  It's my go to Chinese place.  \\n\\nMy favorites are the General TSO, garlic chicken, broccoli chicken, chicken fried rice and their egg rolls.  Not a fan of their over stuffed crab Rangoon as I like my feeling to be hot and runny they need to fry and more stuff them less.  It's always good and consistent for me.  I'm not expecting high in PF Chang's.</td>\n",
              "      <td>New China</td>\n",
              "      <td>1099 Belt Line Rd, Unit G</td>\n",
              "      <td>Collinsville</td>\n",
              "      <td>IL</td>\n",
              "      <td>62234.0</td>\n",
              "      <td>38.692212</td>\n",
              "      <td>-89.985062</td>\n",
              "      <td>2.5</td>\n",
              "      <td>...</td>\n",
              "      <td>0</td>\n",
              "      <td>0</td>\n",
              "      <td>0</td>\n",
              "      <td>0.0</td>\n",
              "      <td>0.0</td>\n",
              "      <td>0.0</td>\n",
              "      <td>1.0</td>\n",
              "      <td>1.0</td>\n",
              "      <td>1.0</td>\n",
              "      <td>1.0</td>\n",
              "    </tr>\n",
              "  </tbody>\n",
              "</table>\n",
              "<p>2 rows × 70 columns</p>\n",
              "</div>\n",
              "      <button class=\"colab-df-convert\" onclick=\"convertToInteractive('df-095fc317-f37c-4ca5-a1f7-c0c45d43e775')\"\n",
              "              title=\"Convert this dataframe to an interactive table.\"\n",
              "              style=\"display:none;\">\n",
              "        \n",
              "  <svg xmlns=\"http://www.w3.org/2000/svg\" height=\"24px\"viewBox=\"0 0 24 24\"\n",
              "       width=\"24px\">\n",
              "    <path d=\"M0 0h24v24H0V0z\" fill=\"none\"/>\n",
              "    <path d=\"M18.56 5.44l.94 2.06.94-2.06 2.06-.94-2.06-.94-.94-2.06-.94 2.06-2.06.94zm-11 1L8.5 8.5l.94-2.06 2.06-.94-2.06-.94L8.5 2.5l-.94 2.06-2.06.94zm10 10l.94 2.06.94-2.06 2.06-.94-2.06-.94-.94-2.06-.94 2.06-2.06.94z\"/><path d=\"M17.41 7.96l-1.37-1.37c-.4-.4-.92-.59-1.43-.59-.52 0-1.04.2-1.43.59L10.3 9.45l-7.72 7.72c-.78.78-.78 2.05 0 2.83L4 21.41c.39.39.9.59 1.41.59.51 0 1.02-.2 1.41-.59l7.78-7.78 2.81-2.81c.8-.78.8-2.07 0-2.86zM5.41 20L4 18.59l7.72-7.72 1.47 1.35L5.41 20z\"/>\n",
              "  </svg>\n",
              "      </button>\n",
              "      \n",
              "  <style>\n",
              "    .colab-df-container {\n",
              "      display:flex;\n",
              "      flex-wrap:wrap;\n",
              "      gap: 12px;\n",
              "    }\n",
              "\n",
              "    .colab-df-convert {\n",
              "      background-color: #E8F0FE;\n",
              "      border: none;\n",
              "      border-radius: 50%;\n",
              "      cursor: pointer;\n",
              "      display: none;\n",
              "      fill: #1967D2;\n",
              "      height: 32px;\n",
              "      padding: 0 0 0 0;\n",
              "      width: 32px;\n",
              "    }\n",
              "\n",
              "    .colab-df-convert:hover {\n",
              "      background-color: #E2EBFA;\n",
              "      box-shadow: 0px 1px 2px rgba(60, 64, 67, 0.3), 0px 1px 3px 1px rgba(60, 64, 67, 0.15);\n",
              "      fill: #174EA6;\n",
              "    }\n",
              "\n",
              "    [theme=dark] .colab-df-convert {\n",
              "      background-color: #3B4455;\n",
              "      fill: #D2E3FC;\n",
              "    }\n",
              "\n",
              "    [theme=dark] .colab-df-convert:hover {\n",
              "      background-color: #434B5C;\n",
              "      box-shadow: 0px 1px 3px 1px rgba(0, 0, 0, 0.15);\n",
              "      filter: drop-shadow(0px 1px 2px rgba(0, 0, 0, 0.3));\n",
              "      fill: #FFFFFF;\n",
              "    }\n",
              "  </style>\n",
              "\n",
              "      <script>\n",
              "        const buttonEl =\n",
              "          document.querySelector('#df-095fc317-f37c-4ca5-a1f7-c0c45d43e775 button.colab-df-convert');\n",
              "        buttonEl.style.display =\n",
              "          google.colab.kernel.accessAllowed ? 'block' : 'none';\n",
              "\n",
              "        async function convertToInteractive(key) {\n",
              "          const element = document.querySelector('#df-095fc317-f37c-4ca5-a1f7-c0c45d43e775');\n",
              "          const dataTable =\n",
              "            await google.colab.kernel.invokeFunction('convertToInteractive',\n",
              "                                                     [key], {});\n",
              "          if (!dataTable) return;\n",
              "\n",
              "          const docLinkHtml = 'Like what you see? Visit the ' +\n",
              "            '<a target=\"_blank\" href=https://colab.research.google.com/notebooks/data_table.ipynb>data table notebook</a>'\n",
              "            + ' to learn more about interactive tables.';\n",
              "          element.innerHTML = '';\n",
              "          dataTable['output_type'] = 'display_data';\n",
              "          await google.colab.output.renderOutput(dataTable, element);\n",
              "          const docLink = document.createElement('div');\n",
              "          docLink.innerHTML = docLinkHtml;\n",
              "          element.appendChild(docLink);\n",
              "        }\n",
              "      </script>\n",
              "    </div>\n",
              "  </div>\n",
              "  "
            ]
          },
          "metadata": {},
          "execution_count": 39
        }
      ]
    },
    {
      "cell_type": "code",
      "source": [
        "combined.shape"
      ],
      "metadata": {
        "colab": {
          "base_uri": "https://localhost:8080/"
        },
        "id": "VTlugZeg198D",
        "outputId": "eb900f78-c100-4523-a4fc-45fe4e7cf9f6"
      },
      "execution_count": 40,
      "outputs": [
        {
          "output_type": "execute_result",
          "data": {
            "text/plain": [
              "(3181, 70)"
            ]
          },
          "metadata": {},
          "execution_count": 40
        }
      ]
    },
    {
      "cell_type": "code",
      "source": [
        "combined['stars'] = combined['stars'].replace([1.0, 1.5, 2.0, 2.5, 3.0, 3.5, 4.0, 4.5, 5.0], [1, 2, 3, 4, 5, 6, 7, 8, 9])\n",
        "combined['stars'] = combined['stars'].astype(int)"
      ],
      "metadata": {
        "id": "S3oukk8DQxaA"
      },
      "execution_count": 41,
      "outputs": []
    },
    {
      "cell_type": "code",
      "source": [
        "train, test = train_test_split(combined, test_size=0.3, random_state = 42)"
      ],
      "metadata": {
        "id": "VnFOdkX9eoAS"
      },
      "execution_count": 42,
      "outputs": []
    },
    {
      "cell_type": "code",
      "source": [
        "test, val = train_test_split(test, test_size=0.5, random_state = 42)"
      ],
      "metadata": {
        "id": "-lxDrBSCey37"
      },
      "execution_count": 43,
      "outputs": []
    },
    {
      "cell_type": "code",
      "source": [
        "df2 = train\n",
        "labels = df2.pop('stars')\n",
        "df2 = df2.iloc[:,1]\n",
        "train_ds = tf.data.Dataset.from_tensor_slices((df2, labels))\n",
        "train_ds = train_ds.batch(32)"
      ],
      "metadata": {
        "id": "cyn122OopHnt"
      },
      "execution_count": 44,
      "outputs": []
    },
    {
      "cell_type": "code",
      "source": [
        "df2 = test\n",
        "labels = df2.pop('stars')\n",
        "df2 = df2.iloc[:,1]\n",
        "test_ds = tf.data.Dataset.from_tensor_slices((df2, labels))\n",
        "test_ds = test_ds.batch(32)"
      ],
      "metadata": {
        "id": "Bznxwyt_pHqI"
      },
      "execution_count": 45,
      "outputs": []
    },
    {
      "cell_type": "code",
      "source": [
        "df2 = val\n",
        "labels = df2.pop('stars')\n",
        "df2 = df2.iloc[:,1]\n",
        "val_ds = tf.data.Dataset.from_tensor_slices((df2, labels))\n",
        "val_ds = val_ds.batch(32)"
      ],
      "metadata": {
        "id": "MKClyp7EpURz"
      },
      "execution_count": 46,
      "outputs": []
    },
    {
      "cell_type": "markdown",
      "metadata": {
        "id": "_IfqCmSJ5nVa"
      },
      "source": [
        "## Display The Number of Batches"
      ]
    },
    {
      "cell_type": "code",
      "source": [
        "len(train_ds), len(val_ds), len(test_ds)"
      ],
      "metadata": {
        "colab": {
          "base_uri": "https://localhost:8080/"
        },
        "id": "EBcAo2QCgoym",
        "outputId": "e40c5d5a-faa2-49ae-9a7e-72c46b9b7cc5"
      },
      "execution_count": 47,
      "outputs": [
        {
          "output_type": "execute_result",
          "data": {
            "text/plain": [
              "(70, 15, 15)"
            ]
          },
          "metadata": {},
          "execution_count": 47
        }
      ]
    },
    {
      "cell_type": "code",
      "source": [
        "len(train), len(val), len(test)"
      ],
      "metadata": {
        "colab": {
          "base_uri": "https://localhost:8080/"
        },
        "id": "K_z0GBuliPq6",
        "outputId": "a7b0439f-f31d-4fbe-d9f5-98afe965db86"
      },
      "execution_count": 48,
      "outputs": [
        {
          "output_type": "execute_result",
          "data": {
            "text/plain": [
              "(2226, 478, 477)"
            ]
          },
          "metadata": {},
          "execution_count": 48
        }
      ]
    },
    {
      "cell_type": "markdown",
      "metadata": {
        "id": "Lkl6vfG95nVb"
      },
      "source": [
        "## Displaying The Shapes and Dtypes of the First Batch"
      ]
    },
    {
      "cell_type": "code",
      "execution_count": 49,
      "metadata": {
        "colab": {
          "base_uri": "https://localhost:8080/"
        },
        "id": "p-Oxbpeg5nVb",
        "outputId": "b51e243d-7829-4d35-835a-ba39372fd9a5"
      },
      "outputs": [
        {
          "output_type": "stream",
          "name": "stdout",
          "text": [
            "inputs.shape: (32,)\n",
            "\n",
            "inputs.dtype: <dtype: 'string'>\n",
            "\n",
            "targets.shape: (32,)\n",
            "\n",
            "targets.dtype: <dtype: 'int64'>\n",
            "\n",
            "inputs[0]: tf.Tensor(b'BLT and Buffalo chicken grilled cheese were very good. Had chili and the fries as the side and were good as well. Will go back.,I was lucky when a local suggested this gem in this beautiful town. I have enjoyed both my experiences. The food and hospitality was above and beyond.,Stopped in on our way through for a early afternoon lunch. The food was amazing and the staff was extremely nice. It\\'s a small cute restaurant on a very unique street with lots of shops and restaurants.,I took a trip out to The Lantern with my sister and her kids after it received rave reviews in a local foodie group she belongs to.\\nWe were seated and immediately informed our orders might take a while due to a large party arriving just before us. This is truly a family run operation, with one cook shouldering all of food prep. We appreciated the heads up but settled in with some coffee and decided to stay. \\nOur food didn\\'t arrive at the same time, not surprising with one person cooking. Luckily, our server gave my niece a pack of cards to play with and the kids\\' French toast came out first so we didn\\'t have to listen to complaints of starvation. \\nI ordered the breakfast poutine, a mass of potato, sausage, sausage gravy, eggs and cheese. I was expecting French fries but got home fries/cubed potatoes, which was an better, in my opinion. My sister\\'s biscuits and gravy was a big hit with her and her picky son, who couldn\\'t shove forkfuls into his mouth fast enough. I felt his pain; my dish was huge yet I managed to eat all of it, unable to find the willpower to just put my fork down. The gravy here is really quite good and actually has a nice flavor. \\nOur server was very personable and considerate-we enjoyed talking to her when she stopped by. \\nThe menu changes monthly, which can be great but caused my sister some sadness as she was mentally bookmarking the breakfast poutine for her next visit. However, I\\'m sure she\\'ll find something to enjoy with the new menu. 4 of us (1 kids meal, 3 regular meals, 4 drinks) got out of there for under $40 minus tip. Delicious food, great service and great prices. If you go with a group be patient. Again, this is a small operation. Ask for the playing cards and get some coffee. It\\'s worth the wait.,Cute little family ran restaurant. I tried a little bit of everything : biscuits and gravy, potato\\'s, breakfast sandwich & French toast. All of them get 5 stars. I will be back and look forward to trying new things they have!,Disappointing food, and frequent spelling errors on menus. The religious tone is overwhelming and unwelcoming to anyone who is not a Christian. The food was adequate at best, but the atmosphere and religious overtones are too much.,Had no idea this place had been open as long as they have been!  And can\\'t believe nobody\\'s added them to Yelp before!  Stopped in after gym and then yoga, hoping for breakfast, which they had sold out of.  That\\'s got\\'ta tell ya something!  So, I picked the B.L.E.S.T. sandwich and it was unbelievably good!!!  Got the macaroni and cheese as my side and it was DELISH also!  They offer cold brew, which is my favorite!  CanNOT wait to get back here and try their breakfast!  Good service.  Reasonable prices.  GREAT food.,Finally made it back for breakfast!  The Rise & Shine was divine!  Be sure to have enough time to enjoy this place.  It\\'s not a fast food kind\\'a place (THANK GOODNESS!).,The Lantern was suggested to me by a couple of locals. I am very pleased that I went with their recommendation. I had the Buffalo chicken sandwich. It was wonderful! I was pleasantly surprised when I got my bill. It was less than I was expecting. I discovered that the waitress applied a \"healthcare worker\" discount (I was wearing scrubs). It was a sweet gesture and made me feel appreciated. I will definitely return the next time I am in Lebanon.,Top 5 breakfasts I have had! Biscuits were so fluffy and moist, and gravy was so flavorful. Check this spot out!', shape=(), dtype=string)\n",
            "\n",
            "targets[0]: tf.Tensor(8, shape=(), dtype=int64)\n"
          ]
        }
      ],
      "source": [
        "for inputs, targets in train_ds:\n",
        "    print(\"inputs.shape:\", inputs.shape)\n",
        "    print()\n",
        "    print(\"inputs.dtype:\", inputs.dtype)\n",
        "    print()\n",
        "    print(\"targets.shape:\", targets.shape)\n",
        "    print()\n",
        "    print(\"targets.dtype:\", targets.dtype)\n",
        "    print()\n",
        "    print(\"inputs[0]:\", inputs[0])\n",
        "    print()\n",
        "    print(\"targets[0]:\", targets[0])\n",
        "    break"
      ]
    },
    {
      "cell_type": "code",
      "source": [
        "def plot_history(history):\n",
        "  losses = history.history['loss']\n",
        "  accs = history.history['accuracy']\n",
        "  val_losses = history.history['val_loss']\n",
        "  val_accs = history.history['val_accuracy']\n",
        "  epochs = len(losses)\n",
        "\n",
        "  plt.figure(figsize=(16, 4))\n",
        "  for i, metrics in enumerate(zip([losses, accs], [val_losses, val_accs], ['Loss', 'Accuracy'])):\n",
        "    plt.subplot(1, 2, i + 1)\n",
        "    plt.plot(range(epochs), metrics[0], label='Training {}'.format(metrics[2]))\n",
        "    plt.plot(range(epochs), metrics[1], label='Validation {}'.format(metrics[2]))\n",
        "    plt.legend()\n",
        "  plt.show()"
      ],
      "metadata": {
        "id": "yzHGgRJ6JRuD"
      },
      "execution_count": 50,
      "outputs": []
    },
    {
      "cell_type": "code",
      "source": [
        "def print_validation_report(test_labels, predictions):\n",
        "    print(\"Classification Report\")\n",
        "    print(classification_report(test_labels, predictions))\n",
        "    print('Accuracy Score: {:.3f}'.format(accuracy_score(test_labels, predictions)))\n",
        "    print('Mean Absolute Error: {:.3f}'.format(mean_absolute_error(test_labels, predictions)))\n",
        "    print('Root Mean Square Error: {:.3f}'.format(np.sqrt(MSE(test_labels, predictions))))\n",
        "    print('Mean Square Error: {:.3f}'.format(MSE(test_labels, predictions, squared = True)))"
      ],
      "metadata": {
        "id": "lyFZe1XEZc_9"
      },
      "execution_count": 51,
      "outputs": []
    },
    {
      "cell_type": "code",
      "source": [
        "def plot_confusion_matrix(y_true, y_pred):\n",
        "    mtx = confusion_matrix(y_true, y_pred)\n",
        "    fig, ax = plt.subplots(figsize=(8,8))\n",
        "    sns.heatmap(mtx, annot=True, fmt='d', linewidths=.75,  cbar=False, ax=ax,cmap='Blues',linecolor='white')\n",
        "    #  square=True,\n",
        "    plt.ylabel('true label')\n",
        "    plt.xlabel('predicted label')\n",
        "    ax.xaxis.set_ticklabels(['1', '1.5', '2', '2.5', '3', '3.5', '4', '4.5', '5'])\n",
        "    ax.yaxis.set_ticklabels(['1', '1.5', '2', '2.5', '3', '3.5', '4', '4.5', '5'])"
      ],
      "metadata": {
        "id": "4tFlVmj7Z8Gh"
      },
      "execution_count": 52,
      "outputs": []
    },
    {
      "cell_type": "markdown",
      "metadata": {
        "id": "XH-IOhSN5nVc"
      },
      "source": [
        "## Preprocessing Datasets TextVectorization Layer"
      ]
    },
    {
      "cell_type": "code",
      "execution_count": 53,
      "metadata": {
        "id": "lk_p63Bj5nVc"
      },
      "outputs": [],
      "source": [
        "text_vectorization = TextVectorization(\n",
        "    max_tokens=1000,\n",
        "    output_mode=\"count\")"
      ]
    },
    {
      "cell_type": "code",
      "execution_count": 54,
      "metadata": {
        "id": "s-e9b9T35nVd"
      },
      "outputs": [],
      "source": [
        "text_only_train_ds = train_ds.map(lambda x, y: x)"
      ]
    },
    {
      "cell_type": "markdown",
      "metadata": {
        "id": "2WZlxRCo5nVd"
      },
      "source": [
        "## Adapt Method - Standardize Text"
      ]
    },
    {
      "cell_type": "code",
      "execution_count": 55,
      "metadata": {
        "id": "p8qD1a4O5nVd"
      },
      "outputs": [],
      "source": [
        "text_vectorization.adapt(text_only_train_ds)"
      ]
    },
    {
      "cell_type": "code",
      "execution_count": 56,
      "metadata": {
        "id": "Nnv09sg25nVd"
      },
      "outputs": [],
      "source": [
        "count_1gram_train_ds = train_ds.map(\n",
        "    lambda x, y: (text_vectorization(x), y),\n",
        "    num_parallel_calls=4)\n",
        "count_1gram_val_ds = val_ds.map(\n",
        "    lambda x, y: (text_vectorization(x), y),\n",
        "    num_parallel_calls=4)\n",
        "count_1gram_test_ds = test_ds.map(\n",
        "    lambda x, y: (text_vectorization(x), y),\n",
        "    num_parallel_calls=4)"
      ]
    },
    {
      "cell_type": "code",
      "source": [
        "test_data = [(example.numpy(), label.numpy()) for example, label in count_1gram_test_ds]\n",
        "test_y = []\n",
        "\n",
        "for i in range(len(test)//32):\n",
        "  for j in range(32):\n",
        "    test_y.append(test_data[i][1][j])\n",
        "\n",
        "for j in range(len(test)%32):\n",
        "  test_y.append(test_data[len(test)//32][1][j])\n",
        "\n",
        "test_y = np.array(test_y)"
      ],
      "metadata": {
        "id": "x3_TGvD3lY13"
      },
      "execution_count": 57,
      "outputs": []
    },
    {
      "cell_type": "code",
      "source": [
        "test_y.size"
      ],
      "metadata": {
        "colab": {
          "base_uri": "https://localhost:8080/"
        },
        "id": "cNgx2qCNmO38",
        "outputId": "a1233e99-40a9-46ac-c100-959cd8184643"
      },
      "execution_count": 58,
      "outputs": [
        {
          "output_type": "execute_result",
          "data": {
            "text/plain": [
              "477"
            ]
          },
          "metadata": {},
          "execution_count": 58
        }
      ]
    },
    {
      "cell_type": "markdown",
      "source": [
        "# Count Unigram Model"
      ],
      "metadata": {
        "id": "bEDU66iggfZM"
      }
    },
    {
      "cell_type": "code",
      "execution_count": 59,
      "metadata": {
        "id": "wh2FgcZbgfZM"
      },
      "outputs": [],
      "source": [
        "text_vectorization = TextVectorization(\n",
        "    ngrams=1,\n",
        "    max_tokens=1000,\n",
        "    output_mode=\"count\",\n",
        ")"
      ]
    },
    {
      "cell_type": "code",
      "execution_count": 60,
      "metadata": {
        "id": "pb8FVXP4gfZM"
      },
      "outputs": [],
      "source": [
        "text_vectorization.adapt(text_only_train_ds)\n",
        "count_1gram_train_ds = train_ds.map(\n",
        "    lambda x, y: (text_vectorization(x), y),\n",
        "    num_parallel_calls=4)\n",
        "count_1gram_val_ds = val_ds.map(\n",
        "    lambda x, y: (text_vectorization(x), y),\n",
        "    num_parallel_calls=4)\n",
        "count_1gram_test_ds = test_ds.map(\n",
        "    lambda x, y: (text_vectorization(x), y),\n",
        "    num_parallel_calls=4)"
      ]
    },
    {
      "cell_type": "markdown",
      "metadata": {
        "id": "06DLyfBHgfZM"
      },
      "source": [
        "## Build Count Unigram Model "
      ]
    },
    {
      "cell_type": "code",
      "source": [
        "def get_model(max_tokens=1000, hidden_dim=128):\n",
        "    inputs = tf.keras.Input(shape=(max_tokens,))\n",
        "    x = layers.Dense(hidden_dim, activation=\"relu\")(inputs)\n",
        "    x = layers.Dropout(0.2)(x)\n",
        "  #  x = layers.Dense(256, activation=\"relu\", kernel_regularizer=tf.keras.regularizers.L2(0.001))(x)\n",
        " #   x = layers.Dense(64, activation=\"relu\", kernel_regularizer=tf.keras.regularizers.L2(0.001))(x)\n",
        "  #  x = layers.Dropout(0.2)(x)\n",
        "    outputs = layers.Dense(10, activation=\"softmax\")(x)\n",
        "    model = tf.keras.Model(inputs, outputs)\n",
        "\n",
        "    opt = keras.optimizers.Adam(learning_rate=0.001)\n",
        "    model.compile(optimizer=opt,\n",
        "                  loss='SparseCategoricalCrossentropy',\n",
        "                  metrics=[\"accuracy\"])\n",
        "    return model"
      ],
      "metadata": {
        "id": "UZxOrBuWgfZN"
      },
      "execution_count": 71,
      "outputs": []
    },
    {
      "cell_type": "code",
      "source": [
        "model_count_Unigram = get_model()\n",
        "model_count_Unigram.summary()"
      ],
      "metadata": {
        "colab": {
          "base_uri": "https://localhost:8080/"
        },
        "outputId": "595dea2c-7aff-4161-dcbb-f5929221e59e",
        "id": "JodJLUMcgfZN"
      },
      "execution_count": 72,
      "outputs": [
        {
          "output_type": "stream",
          "name": "stdout",
          "text": [
            "Model: \"model_3\"\n",
            "_________________________________________________________________\n",
            " Layer (type)                Output Shape              Param #   \n",
            "=================================================================\n",
            " input_4 (InputLayer)        [(None, 1000)]            0         \n",
            "                                                                 \n",
            " dense_6 (Dense)             (None, 128)               128128    \n",
            "                                                                 \n",
            " dropout_1 (Dropout)         (None, 128)               0         \n",
            "                                                                 \n",
            " dense_7 (Dense)             (None, 10)                1290      \n",
            "                                                                 \n",
            "=================================================================\n",
            "Total params: 129,418\n",
            "Trainable params: 129,418\n",
            "Non-trainable params: 0\n",
            "_________________________________________________________________\n"
          ]
        }
      ]
    },
    {
      "cell_type": "code",
      "execution_count": 73,
      "metadata": {
        "colab": {
          "base_uri": "https://localhost:8080/"
        },
        "outputId": "0be91698-f426-47e3-bca0-6f966abb84fc",
        "id": "RnTkLjMXgfZN"
      },
      "outputs": [
        {
          "output_type": "stream",
          "name": "stdout",
          "text": [
            "Epoch 1/20\n",
            "70/70 [==============================] - 5s 65ms/step - loss: 35.5959 - accuracy: 0.2336 - val_loss: 10.7133 - val_accuracy: 0.2197\n",
            "Epoch 2/20\n",
            "70/70 [==============================] - 0s 3ms/step - loss: 5.1340 - accuracy: 0.3055 - val_loss: 2.6322 - val_accuracy: 0.2490\n",
            "Epoch 3/20\n",
            "70/70 [==============================] - 0s 3ms/step - loss: 2.0109 - accuracy: 0.3149 - val_loss: 1.9683 - val_accuracy: 0.3222\n",
            "Epoch 4/20\n",
            "70/70 [==============================] - 0s 3ms/step - loss: 1.7836 - accuracy: 0.3787 - val_loss: 1.7263 - val_accuracy: 0.3745\n",
            "Epoch 5/20\n",
            "70/70 [==============================] - 0s 3ms/step - loss: 1.6500 - accuracy: 0.3801 - val_loss: 1.6743 - val_accuracy: 0.4038\n",
            "Epoch 6/20\n",
            "70/70 [==============================] - 0s 3ms/step - loss: 1.6039 - accuracy: 0.4057 - val_loss: 1.4839 - val_accuracy: 0.4414\n",
            "Epoch 7/20\n",
            "70/70 [==============================] - 0s 3ms/step - loss: 1.4888 - accuracy: 0.4313 - val_loss: 1.4889 - val_accuracy: 0.4331\n",
            "Epoch 8/20\n",
            "70/70 [==============================] - 0s 3ms/step - loss: 1.4324 - accuracy: 0.4533 - val_loss: 1.4137 - val_accuracy: 0.4623\n",
            "Epoch 9/20\n",
            "70/70 [==============================] - 0s 3ms/step - loss: 1.3871 - accuracy: 0.4438 - val_loss: 1.3403 - val_accuracy: 0.4874\n",
            "Epoch 10/20\n",
            "70/70 [==============================] - 0s 3ms/step - loss: 1.3296 - accuracy: 0.4834 - val_loss: 1.3402 - val_accuracy: 0.4707\n",
            "Epoch 11/20\n",
            "70/70 [==============================] - 0s 3ms/step - loss: 1.2833 - accuracy: 0.4888 - val_loss: 1.3610 - val_accuracy: 0.4686\n",
            "Epoch 12/20\n",
            "70/70 [==============================] - 0s 3ms/step - loss: 1.2087 - accuracy: 0.5153 - val_loss: 1.3123 - val_accuracy: 0.4770\n",
            "15/15 [==============================] - 1s 41ms/step - loss: 1.4043 - accuracy: 0.4633\n",
            "Test acc: 0.463\n"
          ]
        }
      ],
      "source": [
        "callbacks = [\n",
        "     tf.keras.callbacks.ModelCheckpoint(\"binary_2gram.keras\",save_best_only=True)\n",
        "    ,tf.keras.callbacks.EarlyStopping(monitor='val_accuracy', patience=3)\n",
        "]\n",
        "\n",
        "history = model_count_Unigram.fit(count_1gram_train_ds.cache(),\n",
        "          validation_data=count_1gram_val_ds.cache(),\n",
        "          epochs=20,\n",
        "          callbacks=callbacks)\n",
        "model_count_Unigram = keras.models.load_model(\"binary_2gram.keras\")\n",
        "print(f\"Test acc: {model_count_Unigram.evaluate(count_1gram_test_ds)[1]:.3f}\")"
      ]
    },
    {
      "cell_type": "code",
      "source": [
        "model_count_Unigram.evaluate(count_1gram_test_ds)"
      ],
      "metadata": {
        "colab": {
          "base_uri": "https://localhost:8080/"
        },
        "outputId": "fcf1ed56-1b8e-4712-94a4-e85a9c8e1994",
        "id": "M3moftFRgfZN"
      },
      "execution_count": 74,
      "outputs": [
        {
          "output_type": "stream",
          "name": "stdout",
          "text": [
            "15/15 [==============================] - 1s 42ms/step - loss: 1.4043 - accuracy: 0.4633\n"
          ]
        },
        {
          "output_type": "execute_result",
          "data": {
            "text/plain": [
              "[1.4043138027191162, 0.4633123576641083]"
            ]
          },
          "metadata": {},
          "execution_count": 74
        }
      ]
    },
    {
      "cell_type": "code",
      "source": [
        "plot_history(history)"
      ],
      "metadata": {
        "colab": {
          "base_uri": "https://localhost:8080/",
          "height": 265
        },
        "outputId": "aa0b4312-ac7a-4734-f319-74217446018a",
        "id": "mIxoOQnOgfZO"
      },
      "execution_count": 75,
      "outputs": [
        {
          "output_type": "display_data",
          "data": {
            "text/plain": [
              "<Figure size 1152x288 with 2 Axes>"
            ],
            "image/png": "[encoded data removed]"
          },
          "metadata": {
            "needs_background": "light"
          }
        }
      ]
    },
    {
      "cell_type": "code",
      "source": [
        "pred1= model_count_Unigram.predict(count_1gram_test_ds)\n",
        "pred1=np.argmax(pred1, axis=1)"
      ],
      "metadata": {
        "colab": {
          "base_uri": "https://localhost:8080/"
        },
        "outputId": "63675c39-db22-4c60-8fba-a549802c12ac",
        "id": "lkOY0RKzgfZO"
      },
      "execution_count": 76,
      "outputs": [
        {
          "output_type": "stream",
          "name": "stdout",
          "text": [
            "15/15 [==============================] - 1s 41ms/step\n"
          ]
        }
      ]
    },
    {
      "cell_type": "code",
      "source": [
        "print_validation_report(test_y, pred1)"
      ],
      "metadata": {
        "colab": {
          "base_uri": "https://localhost:8080/"
        },
        "outputId": "6f6e744c-e350-498b-afbc-017b52b35ab9",
        "id": "x47ZfRTqgfZO"
      },
      "execution_count": 77,
      "outputs": [
        {
          "output_type": "stream",
          "name": "stdout",
          "text": [
            "Classification Report\n",
            "              precision    recall  f1-score   support\n",
            "\n",
            "           1       0.00      0.00      0.00         2\n",
            "           2       0.00      0.00      0.00         8\n",
            "           3       0.43      0.18      0.25        17\n",
            "           4       0.27      0.08      0.12        39\n",
            "           5       0.31      0.26      0.28        78\n",
            "           6       0.43      0.74      0.55       124\n",
            "           7       0.54      0.50      0.52       130\n",
            "           8       0.62      0.54      0.58        70\n",
            "           9       0.00      0.00      0.00         9\n",
            "\n",
            "    accuracy                           0.46       477\n",
            "   macro avg       0.29      0.25      0.26       477\n",
            "weighted avg       0.44      0.46      0.43       477\n",
            "\n",
            "Accuracy Score: 0.463\n",
            "Mean Absolute Error: 0.658\n",
            "Root Mean Square Error: 0.976\n",
            "Mean Square Error: 0.952\n"
          ]
        },
        {
          "output_type": "stream",
          "name": "stderr",
          "text": [
            "/usr/local/lib/python3.7/dist-packages/sklearn/metrics/_classification.py:1318: UndefinedMetricWarning: Precision and F-score are ill-defined and being set to 0.0 in labels with no predicted samples. Use `zero_division` parameter to control this behavior.\n",
            "  _warn_prf(average, modifier, msg_start, len(result))\n",
            "/usr/local/lib/python3.7/dist-packages/sklearn/metrics/_classification.py:1318: UndefinedMetricWarning: Precision and F-score are ill-defined and being set to 0.0 in labels with no predicted samples. Use `zero_division` parameter to control this behavior.\n",
            "  _warn_prf(average, modifier, msg_start, len(result))\n",
            "/usr/local/lib/python3.7/dist-packages/sklearn/metrics/_classification.py:1318: UndefinedMetricWarning: Precision and F-score are ill-defined and being set to 0.0 in labels with no predicted samples. Use `zero_division` parameter to control this behavior.\n",
            "  _warn_prf(average, modifier, msg_start, len(result))\n"
          ]
        }
      ]
    },
    {
      "cell_type": "code",
      "source": [
        "sns.set(font_scale=1.2)\n",
        "plot_confusion_matrix(test_y,pred1)"
      ],
      "metadata": {
        "colab": {
          "base_uri": "https://localhost:8080/",
          "height": 506
        },
        "outputId": "9ff1da8e-6055-46de-efd0-31ddfa18241a",
        "id": "r7mPQXwsgfZO"
      },
      "execution_count": 78,
      "outputs": [
        {
          "output_type": "display_data",
          "data": {
            "text/plain": [
              "<Figure size 576x576 with 1 Axes>"
            ],
            "image/png": "[encoded data removed]"
          },
          "metadata": {}
        }
      ]
    },
    {
      "cell_type": "markdown",
      "source": [
        "## 2 layer model"
      ],
      "metadata": {
        "id": "pJoKI6vagfZO"
      }
    },
    {
      "cell_type": "code",
      "source": [
        "def get_model(max_tokens=1000, hidden_dim=128):\n",
        "    inputs = tf.keras.Input(shape=(max_tokens,))\n",
        "    x = layers.Dense(hidden_dim, activation=\"relu\")(inputs)\n",
        "    x = layers.Dropout(0.2)(x)\n",
        "    x = layers.Dense(128, activation=\"relu\")(x)\n",
        "    x = layers.Dropout(0.2)(x)\n",
        "    outputs = layers.Dense(10, activation=\"softmax\")(x)\n",
        "    model = tf.keras.Model(inputs, outputs)\n",
        "    model.compile(optimizer=\"adam\",\n",
        "                  loss='SparseCategoricalCrossentropy',\n",
        "                  metrics=[\"accuracy\"])\n",
        "    return model"
      ],
      "metadata": {
        "id": "E6WtmunCgfZO"
      },
      "execution_count": 103,
      "outputs": []
    },
    {
      "cell_type": "code",
      "source": [
        "model_count_Unigram = get_model()\n",
        "model_count_Unigram.summary()"
      ],
      "metadata": {
        "colab": {
          "base_uri": "https://localhost:8080/"
        },
        "outputId": "e9fae883-2044-4c69-afc4-a8ed46f06885",
        "id": "9bkHxsUEgfZO"
      },
      "execution_count": 104,
      "outputs": [
        {
          "output_type": "stream",
          "name": "stdout",
          "text": [
            "Model: \"model_9\"\n",
            "_________________________________________________________________\n",
            " Layer (type)                Output Shape              Param #   \n",
            "=================================================================\n",
            " input_10 (InputLayer)       [(None, 1000)]            0         \n",
            "                                                                 \n",
            " dense_23 (Dense)            (None, 128)               128128    \n",
            "                                                                 \n",
            " dropout_12 (Dropout)        (None, 128)               0         \n",
            "                                                                 \n",
            " dense_24 (Dense)            (None, 128)               16512     \n",
            "                                                                 \n",
            " dropout_13 (Dropout)        (None, 128)               0         \n",
            "                                                                 \n",
            " dense_25 (Dense)            (None, 10)                1290      \n",
            "                                                                 \n",
            "=================================================================\n",
            "Total params: 145,930\n",
            "Trainable params: 145,930\n",
            "Non-trainable params: 0\n",
            "_________________________________________________________________\n"
          ]
        }
      ]
    },
    {
      "cell_type": "code",
      "execution_count": 105,
      "metadata": {
        "colab": {
          "base_uri": "https://localhost:8080/"
        },
        "outputId": "84c55a37-f589-46aa-927c-3dffdbd4a7ea",
        "id": "29PPUMc-gfZP"
      },
      "outputs": [
        {
          "output_type": "stream",
          "name": "stdout",
          "text": [
            "Epoch 1/20\n",
            "70/70 [==============================] - 4s 57ms/step - loss: 21.0795 - accuracy: 0.2296 - val_loss: 2.9979 - val_accuracy: 0.3117\n",
            "Epoch 2/20\n",
            "70/70 [==============================] - 0s 4ms/step - loss: 3.0404 - accuracy: 0.2862 - val_loss: 1.9237 - val_accuracy: 0.3285\n",
            "Epoch 3/20\n",
            "70/70 [==============================] - 0s 3ms/step - loss: 2.0097 - accuracy: 0.3113 - val_loss: 1.8307 - val_accuracy: 0.3515\n",
            "Epoch 4/20\n",
            "70/70 [==============================] - 0s 3ms/step - loss: 1.8691 - accuracy: 0.3297 - val_loss: 1.7392 - val_accuracy: 0.3515\n",
            "Epoch 5/20\n",
            "70/70 [==============================] - 0s 4ms/step - loss: 1.7383 - accuracy: 0.3401 - val_loss: 1.5950 - val_accuracy: 0.3933\n",
            "Epoch 6/20\n",
            "70/70 [==============================] - 0s 3ms/step - loss: 1.6718 - accuracy: 0.3527 - val_loss: 1.5973 - val_accuracy: 0.3828\n",
            "Epoch 7/20\n",
            "70/70 [==============================] - 0s 3ms/step - loss: 1.6087 - accuracy: 0.3477 - val_loss: 1.4772 - val_accuracy: 0.3954\n",
            "Epoch 8/20\n",
            "70/70 [==============================] - 0s 3ms/step - loss: 1.5194 - accuracy: 0.3715 - val_loss: 1.4921 - val_accuracy: 0.3724\n",
            "Epoch 9/20\n",
            "70/70 [==============================] - 0s 3ms/step - loss: 1.5139 - accuracy: 0.3971 - val_loss: 1.4067 - val_accuracy: 0.4059\n",
            "Epoch 10/20\n",
            "70/70 [==============================] - 0s 3ms/step - loss: 1.5261 - accuracy: 0.3774 - val_loss: 1.4789 - val_accuracy: 0.3954\n",
            "Epoch 11/20\n",
            "70/70 [==============================] - 0s 3ms/step - loss: 1.5053 - accuracy: 0.3962 - val_loss: 1.4433 - val_accuracy: 0.3996\n",
            "Epoch 12/20\n",
            "70/70 [==============================] - 0s 3ms/step - loss: 1.4961 - accuracy: 0.4061 - val_loss: 1.4387 - val_accuracy: 0.4017\n",
            "15/15 [==============================] - 1s 42ms/step - loss: 1.5172 - accuracy: 0.4277\n",
            "Test acc: 0.428\n"
          ]
        }
      ],
      "source": [
        "callbacks = [\n",
        "     tf.keras.callbacks.ModelCheckpoint(\"binary_2gram.keras\",save_best_only=True)\n",
        "    ,tf.keras.callbacks.EarlyStopping(monitor='val_accuracy', patience=3)\n",
        "]\n",
        "\n",
        "model_count_Unigram.fit(count_1gram_train_ds.cache(),\n",
        "          validation_data=count_1gram_val_ds.cache(),\n",
        "          epochs=20,\n",
        "          callbacks=callbacks)\n",
        "model_count_Unigram = keras.models.load_model(\"binary_2gram.keras\")\n",
        "print(f\"Test acc: {model_count_Unigram.evaluate(count_1gram_test_ds)[1]:.3f}\")"
      ]
    },
    {
      "cell_type": "code",
      "source": [
        "model_count_Unigram.evaluate(count_1gram_test_ds)"
      ],
      "metadata": {
        "colab": {
          "base_uri": "https://localhost:8080/"
        },
        "outputId": "333404af-1770-4e35-8849-41c0aa26544a",
        "id": "BskjqiTbgfZP"
      },
      "execution_count": 106,
      "outputs": [
        {
          "output_type": "stream",
          "name": "stdout",
          "text": [
            "15/15 [==============================] - 1s 67ms/step - loss: 1.5172 - accuracy: 0.4277\n"
          ]
        },
        {
          "output_type": "execute_result",
          "data": {
            "text/plain": [
              "[1.5171765089035034, 0.42767295241355896]"
            ]
          },
          "metadata": {},
          "execution_count": 106
        }
      ]
    },
    {
      "cell_type": "code",
      "source": [
        "plot_history(history)"
      ],
      "metadata": {
        "colab": {
          "base_uri": "https://localhost:8080/",
          "height": 271
        },
        "outputId": "7eba050b-90f9-43a5-d249-6e82f1d16e14",
        "id": "Zi2wWcBtgfZP"
      },
      "execution_count": 107,
      "outputs": [
        {
          "output_type": "display_data",
          "data": {
            "text/plain": [
              "<Figure size 1152x288 with 2 Axes>"
            ],
            "image/png": "[encoded data removed]"
          },
          "metadata": {}
        }
      ]
    },
    {
      "cell_type": "code",
      "source": [
        "pred1= model_count_Unigram.predict(count_1gram_test_ds)\n",
        "pred1=np.argmax(pred1, axis=1)"
      ],
      "metadata": {
        "colab": {
          "base_uri": "https://localhost:8080/"
        },
        "outputId": "2a7e18fc-c27e-4b2d-842a-f7ad0e548f9b",
        "id": "u_vTfa1BgfZP"
      },
      "execution_count": 108,
      "outputs": [
        {
          "output_type": "stream",
          "name": "stdout",
          "text": [
            "15/15 [==============================] - 1s 41ms/step\n"
          ]
        }
      ]
    },
    {
      "cell_type": "code",
      "source": [
        "print_validation_report(test_y, pred1)"
      ],
      "metadata": {
        "colab": {
          "base_uri": "https://localhost:8080/"
        },
        "outputId": "2d2e91af-fe81-45c8-bdc9-ac41eaebffc2",
        "id": "dkX7MFO5gfZP"
      },
      "execution_count": 109,
      "outputs": [
        {
          "output_type": "stream",
          "name": "stdout",
          "text": [
            "Classification Report\n",
            "              precision    recall  f1-score   support\n",
            "\n",
            "           1       0.00      0.00      0.00         2\n",
            "           2       0.00      0.00      0.00         8\n",
            "           3       0.54      0.41      0.47        17\n",
            "           4       0.50      0.08      0.13        39\n",
            "           5       0.40      0.36      0.38        78\n",
            "           6       0.39      0.75      0.51       124\n",
            "           7       0.48      0.36      0.41       130\n",
            "           8       0.52      0.37      0.43        70\n",
            "           9       0.00      0.00      0.00         9\n",
            "\n",
            "    accuracy                           0.43       477\n",
            "   macro avg       0.31      0.26      0.26       477\n",
            "weighted avg       0.43      0.43      0.40       477\n",
            "\n",
            "Accuracy Score: 0.428\n",
            "Mean Absolute Error: 0.696\n",
            "Root Mean Square Error: 1.003\n",
            "Mean Square Error: 1.006\n"
          ]
        },
        {
          "output_type": "stream",
          "name": "stderr",
          "text": [
            "/usr/local/lib/python3.7/dist-packages/sklearn/metrics/_classification.py:1318: UndefinedMetricWarning: Precision and F-score are ill-defined and being set to 0.0 in labels with no predicted samples. Use `zero_division` parameter to control this behavior.\n",
            "  _warn_prf(average, modifier, msg_start, len(result))\n",
            "/usr/local/lib/python3.7/dist-packages/sklearn/metrics/_classification.py:1318: UndefinedMetricWarning: Precision and F-score are ill-defined and being set to 0.0 in labels with no predicted samples. Use `zero_division` parameter to control this behavior.\n",
            "  _warn_prf(average, modifier, msg_start, len(result))\n",
            "/usr/local/lib/python3.7/dist-packages/sklearn/metrics/_classification.py:1318: UndefinedMetricWarning: Precision and F-score are ill-defined and being set to 0.0 in labels with no predicted samples. Use `zero_division` parameter to control this behavior.\n",
            "  _warn_prf(average, modifier, msg_start, len(result))\n"
          ]
        }
      ]
    },
    {
      "cell_type": "code",
      "source": [
        "sns.set(font_scale=1.2)\n",
        "plot_confusion_matrix(test_y,pred1)"
      ],
      "metadata": {
        "colab": {
          "base_uri": "https://localhost:8080/",
          "height": 506
        },
        "outputId": "0e65b27b-871f-4c99-e537-31a5d3d488e3",
        "id": "GS7SRUJ_gfZP"
      },
      "execution_count": 110,
      "outputs": [
        {
          "output_type": "display_data",
          "data": {
            "text/plain": [
              "<Figure size 576x576 with 1 Axes>"
            ],
            "image/png": "[encoded data removed]"
          },
          "metadata": {}
        }
      ]
    },
    {
      "cell_type": "markdown",
      "source": [
        "# Count Bigram Model"
      ],
      "metadata": {
        "id": "m4xkHjrqqjrV"
      }
    },
    {
      "cell_type": "code",
      "execution_count": 111,
      "metadata": {
        "id": "IKeZB55zqsKs"
      },
      "outputs": [],
      "source": [
        "text_vectorization = TextVectorization(\n",
        "    ngrams=2,\n",
        "    max_tokens=1000,\n",
        "    output_mode=\"count\",\n",
        ")"
      ]
    },
    {
      "cell_type": "markdown",
      "metadata": {
        "id": "y5TQ4gp2qsKt"
      },
      "source": [
        "## Build Count Bigram Model "
      ]
    },
    {
      "cell_type": "code",
      "execution_count": 112,
      "metadata": {
        "id": "3qY0kpVAqsKt"
      },
      "outputs": [],
      "source": [
        "text_vectorization.adapt(text_only_train_ds)\n",
        "count_2gram_train_ds = train_ds.map(\n",
        "    lambda x, y: (text_vectorization(x), y),\n",
        "    num_parallel_calls=4)\n",
        "count_2gram_val_ds = val_ds.map(\n",
        "    lambda x, y: (text_vectorization(x), y),\n",
        "    num_parallel_calls=4)\n",
        "count_2gram_test_ds = test_ds.map(\n",
        "    lambda x, y: (text_vectorization(x), y),\n",
        "    num_parallel_calls=4)"
      ]
    },
    {
      "cell_type": "code",
      "source": [
        "def get_model(max_tokens=1000, hidden_dim=128):\n",
        "    inputs = tf.keras.Input(shape=(max_tokens,))\n",
        "    x = layers.Dense(hidden_dim, activation=\"relu\")(inputs)\n",
        "    x = layers.Dropout(0.2)(x)\n",
        "    outputs = layers.Dense(10, activation=\"softmax\")(x)\n",
        "    model = tf.keras.Model(inputs, outputs)\n",
        "    model.compile(optimizer=\"adam\",\n",
        "                  loss='SparseCategoricalCrossentropy',\n",
        "                  metrics=[\"accuracy\"])\n",
        "    return model"
      ],
      "metadata": {
        "id": "ZS3iCRROrUBu"
      },
      "execution_count": 113,
      "outputs": []
    },
    {
      "cell_type": "code",
      "source": [
        "model_count_Bigram = get_model()\n",
        "model_count_Bigram.summary()"
      ],
      "metadata": {
        "colab": {
          "base_uri": "https://localhost:8080/"
        },
        "id": "UNHDLNLpkMO_",
        "outputId": "ff8d6776-b96e-4de7-f19a-eb21439ac29c"
      },
      "execution_count": 114,
      "outputs": [
        {
          "output_type": "stream",
          "name": "stdout",
          "text": [
            "Model: \"model_10\"\n",
            "_________________________________________________________________\n",
            " Layer (type)                Output Shape              Param #   \n",
            "=================================================================\n",
            " input_11 (InputLayer)       [(None, 1000)]            0         \n",
            "                                                                 \n",
            " dense_26 (Dense)            (None, 128)               128128    \n",
            "                                                                 \n",
            " dropout_14 (Dropout)        (None, 128)               0         \n",
            "                                                                 \n",
            " dense_27 (Dense)            (None, 10)                1290      \n",
            "                                                                 \n",
            "=================================================================\n",
            "Total params: 129,418\n",
            "Trainable params: 129,418\n",
            "Non-trainable params: 0\n",
            "_________________________________________________________________\n"
          ]
        }
      ]
    },
    {
      "cell_type": "code",
      "execution_count": 116,
      "metadata": {
        "colab": {
          "base_uri": "https://localhost:8080/"
        },
        "outputId": "ecf5d40a-e1ab-4df8-b8ef-977ed459ab30",
        "id": "yK5rCDPAqsKt"
      },
      "outputs": [
        {
          "output_type": "stream",
          "name": "stdout",
          "text": [
            "Epoch 1/20\n",
            "70/70 [==============================] - 8s 110ms/step - loss: 82.0017 - accuracy: 0.2534 - val_loss: 26.9525 - val_accuracy: 0.1778\n",
            "Epoch 2/20\n",
            "70/70 [==============================] - 0s 3ms/step - loss: 18.9955 - accuracy: 0.3396 - val_loss: 2.8448 - val_accuracy: 0.4205\n",
            "Epoch 3/20\n",
            "70/70 [==============================] - 0s 3ms/step - loss: 2.2682 - accuracy: 0.3338 - val_loss: 1.9702 - val_accuracy: 0.2803\n",
            "Epoch 4/20\n",
            "70/70 [==============================] - 0s 3ms/step - loss: 1.8760 - accuracy: 0.3522 - val_loss: 1.6996 - val_accuracy: 0.4100\n",
            "Epoch 5/20\n",
            "70/70 [==============================] - 0s 3ms/step - loss: 1.7016 - accuracy: 0.4052 - val_loss: 1.5288 - val_accuracy: 0.4289\n",
            "Epoch 6/20\n",
            "70/70 [==============================] - 0s 3ms/step - loss: 1.6610 - accuracy: 0.4191 - val_loss: 1.7101 - val_accuracy: 0.3326\n",
            "Epoch 7/20\n",
            "70/70 [==============================] - 0s 3ms/step - loss: 1.7397 - accuracy: 0.3904 - val_loss: 1.6195 - val_accuracy: 0.4268\n",
            "Epoch 8/20\n",
            "70/70 [==============================] - 0s 3ms/step - loss: 1.6477 - accuracy: 0.4191 - val_loss: 1.6438 - val_accuracy: 0.4142\n",
            "15/15 [==============================] - 1s 64ms/step - loss: 1.6715 - accuracy: 0.4151\n",
            "Test acc: 0.415\n"
          ]
        }
      ],
      "source": [
        "callbacks = [\n",
        "     tf.keras.callbacks.ModelCheckpoint(\"binary_2gram.keras\",save_best_only=True)\n",
        "    ,tf.keras.callbacks.EarlyStopping(monitor='val_accuracy', patience=3)\n",
        "]\n",
        "\n",
        "history = model_count_Bigram.fit(count_2gram_train_ds.cache(),\n",
        "          validation_data=count_2gram_val_ds.cache(),\n",
        "          epochs=20,\n",
        "          callbacks=callbacks)\n",
        "model_count_Bigram = keras.models.load_model(\"binary_2gram.keras\")\n",
        "print(f\"Test acc: {model_count_Bigram.evaluate(count_2gram_test_ds)[1]:.3f}\")"
      ]
    },
    {
      "cell_type": "code",
      "source": [
        "model_count_Bigram.evaluate(count_2gram_test_ds)"
      ],
      "metadata": {
        "colab": {
          "base_uri": "https://localhost:8080/"
        },
        "outputId": "346624c6-a7bf-4e8e-eed0-f8ef76f6b345",
        "id": "YMW7i9RBqsKu"
      },
      "execution_count": 117,
      "outputs": [
        {
          "output_type": "stream",
          "name": "stdout",
          "text": [
            "15/15 [==============================] - 3s 188ms/step - loss: 1.6715 - accuracy: 0.4151\n"
          ]
        },
        {
          "output_type": "execute_result",
          "data": {
            "text/plain": [
              "[1.6715388298034668, 0.4150943458080292]"
            ]
          },
          "metadata": {},
          "execution_count": 117
        }
      ]
    },
    {
      "cell_type": "code",
      "source": [
        "plot_history(history)"
      ],
      "metadata": {
        "colab": {
          "base_uri": "https://localhost:8080/",
          "height": 271
        },
        "outputId": "2d733513-44c1-4ec9-928d-566e1cce1de5",
        "id": "z7Gceja-qsKu"
      },
      "execution_count": 118,
      "outputs": [
        {
          "output_type": "display_data",
          "data": {
            "text/plain": [
              "<Figure size 1152x288 with 2 Axes>"
            ],
            "image/png": "[encoded data removed]"
          },
          "metadata": {}
        }
      ]
    },
    {
      "cell_type": "code",
      "source": [
        "pred1= model_count_Bigram.predict(count_2gram_test_ds)\n",
        "pred1=np.argmax(pred1, axis=1)"
      ],
      "metadata": {
        "colab": {
          "base_uri": "https://localhost:8080/"
        },
        "outputId": "60414d08-e5ba-4aa3-8103-43205c025ba1",
        "id": "GDW-FNaJqsKu"
      },
      "execution_count": 119,
      "outputs": [
        {
          "output_type": "stream",
          "name": "stdout",
          "text": [
            "15/15 [==============================] - 1s 58ms/step\n"
          ]
        }
      ]
    },
    {
      "cell_type": "code",
      "source": [
        "print_validation_report(test_y, pred1)"
      ],
      "metadata": {
        "colab": {
          "base_uri": "https://localhost:8080/"
        },
        "outputId": "5d31a6e6-efbf-4985-fadd-1707e5049a53",
        "id": "eBncrCklqsKu"
      },
      "execution_count": 120,
      "outputs": [
        {
          "output_type": "stream",
          "name": "stdout",
          "text": [
            "Classification Report\n",
            "              precision    recall  f1-score   support\n",
            "\n",
            "           1       0.00      0.00      0.00         2\n",
            "           2       0.00      0.00      0.00         8\n",
            "           3       0.45      0.29      0.36        17\n",
            "           4       0.28      0.13      0.18        39\n",
            "           5       0.40      0.47      0.43        78\n",
            "           6       0.38      0.57      0.45       124\n",
            "           7       0.46      0.29      0.36       130\n",
            "           8       0.51      0.60      0.55        70\n",
            "           9       0.00      0.00      0.00         9\n",
            "\n",
            "    accuracy                           0.42       477\n",
            "   macro avg       0.27      0.26      0.26       477\n",
            "weighted avg       0.40      0.42      0.39       477\n",
            "\n",
            "Accuracy Score: 0.415\n",
            "Mean Absolute Error: 0.748\n",
            "Root Mean Square Error: 1.077\n",
            "Mean Square Error: 1.159\n"
          ]
        },
        {
          "output_type": "stream",
          "name": "stderr",
          "text": [
            "/usr/local/lib/python3.7/dist-packages/sklearn/metrics/_classification.py:1318: UndefinedMetricWarning: Precision and F-score are ill-defined and being set to 0.0 in labels with no predicted samples. Use `zero_division` parameter to control this behavior.\n",
            "  _warn_prf(average, modifier, msg_start, len(result))\n",
            "/usr/local/lib/python3.7/dist-packages/sklearn/metrics/_classification.py:1318: UndefinedMetricWarning: Precision and F-score are ill-defined and being set to 0.0 in labels with no predicted samples. Use `zero_division` parameter to control this behavior.\n",
            "  _warn_prf(average, modifier, msg_start, len(result))\n",
            "/usr/local/lib/python3.7/dist-packages/sklearn/metrics/_classification.py:1318: UndefinedMetricWarning: Precision and F-score are ill-defined and being set to 0.0 in labels with no predicted samples. Use `zero_division` parameter to control this behavior.\n",
            "  _warn_prf(average, modifier, msg_start, len(result))\n"
          ]
        }
      ]
    },
    {
      "cell_type": "code",
      "source": [
        "sns.set(font_scale=1.2)\n",
        "plot_confusion_matrix(test_y,pred1)"
      ],
      "metadata": {
        "colab": {
          "base_uri": "https://localhost:8080/",
          "height": 506
        },
        "outputId": "e0422f40-b627-4f0c-9370-688e526287bc",
        "id": "8uQVLcTGqsKu"
      },
      "execution_count": 121,
      "outputs": [
        {
          "output_type": "display_data",
          "data": {
            "text/plain": [
              "<Figure size 576x576 with 1 Axes>"
            ],
            "image/png": "[encoded data removed]"
          },
          "metadata": {}
        }
      ]
    },
    {
      "cell_type": "markdown",
      "source": [
        "## 2 layer model"
      ],
      "metadata": {
        "id": "yhr1k_TLqsKv"
      }
    },
    {
      "cell_type": "code",
      "source": [
        "def get_model(max_tokens=1000, hidden_dim=64):\n",
        "    inputs = tf.keras.Input(shape=(max_tokens,))\n",
        "    x = layers.Dense(hidden_dim, activation=\"relu\")(inputs)\n",
        "    x = layers.Dropout(0.2)(x)\n",
        "    x = layers.Dense(64, activation=\"relu\")(x)\n",
        "    x = layers.Dropout(0.2)(x)\n",
        "    outputs = layers.Dense(10, activation=\"softmax\")(x)\n",
        "    model = tf.keras.Model(inputs, outputs)\n",
        "    model.compile(optimizer=\"adam\",\n",
        "                  loss='SparseCategoricalCrossentropy',\n",
        "                  metrics=[\"accuracy\"])\n",
        "    return model"
      ],
      "metadata": {
        "id": "xhFJ25v2qsKv"
      },
      "execution_count": 144,
      "outputs": []
    },
    {
      "cell_type": "code",
      "source": [
        "model_count_Bigram = get_model()\n",
        "model_count_Bigram.summary()"
      ],
      "metadata": {
        "colab": {
          "base_uri": "https://localhost:8080/"
        },
        "outputId": "a668bf00-04e2-4ad3-e680-7a63fa9e9650",
        "id": "tG9FqbE3qsKv"
      },
      "execution_count": 145,
      "outputs": [
        {
          "output_type": "stream",
          "name": "stdout",
          "text": [
            "Model: \"model_15\"\n",
            "_________________________________________________________________\n",
            " Layer (type)                Output Shape              Param #   \n",
            "=================================================================\n",
            " input_16 (InputLayer)       [(None, 1000)]            0         \n",
            "                                                                 \n",
            " dense_40 (Dense)            (None, 64)                64064     \n",
            "                                                                 \n",
            " dropout_23 (Dropout)        (None, 64)                0         \n",
            "                                                                 \n",
            " dense_41 (Dense)            (None, 64)                4160      \n",
            "                                                                 \n",
            " dropout_24 (Dropout)        (None, 64)                0         \n",
            "                                                                 \n",
            " dense_42 (Dense)            (None, 10)                650       \n",
            "                                                                 \n",
            "=================================================================\n",
            "Total params: 68,874\n",
            "Trainable params: 68,874\n",
            "Non-trainable params: 0\n",
            "_________________________________________________________________\n"
          ]
        }
      ]
    },
    {
      "cell_type": "code",
      "execution_count": 146,
      "metadata": {
        "colab": {
          "base_uri": "https://localhost:8080/"
        },
        "outputId": "c941be28-e294-4d70-ba94-3ed177885272",
        "id": "vxpNVQRkqsKv"
      },
      "outputs": [
        {
          "output_type": "stream",
          "name": "stdout",
          "text": [
            "Epoch 1/20\n",
            "70/70 [==============================] - 7s 91ms/step - loss: 173.7345 - accuracy: 0.1846 - val_loss: 12.8603 - val_accuracy: 0.2741\n",
            "Epoch 2/20\n",
            "70/70 [==============================] - 0s 3ms/step - loss: 24.5644 - accuracy: 0.1905 - val_loss: 2.9692 - val_accuracy: 0.2950\n",
            "Epoch 3/20\n",
            "70/70 [==============================] - 0s 3ms/step - loss: 4.2929 - accuracy: 0.2332 - val_loss: 2.1566 - val_accuracy: 0.2929\n",
            "Epoch 4/20\n",
            "70/70 [==============================] - 0s 3ms/step - loss: 2.1780 - accuracy: 0.2695 - val_loss: 2.0783 - val_accuracy: 0.2845\n",
            "Epoch 5/20\n",
            "70/70 [==============================] - 0s 3ms/step - loss: 2.0412 - accuracy: 0.2758 - val_loss: 1.9799 - val_accuracy: 0.2762\n",
            "15/15 [==============================] - 2s 107ms/step - loss: 2.0062 - accuracy: 0.2642\n",
            "Test acc: 0.264\n"
          ]
        }
      ],
      "source": [
        "callbacks = [\n",
        "     tf.keras.callbacks.ModelCheckpoint(\"binary_2gram.keras\",save_best_only=True)\n",
        "    ,tf.keras.callbacks.EarlyStopping(monitor='val_accuracy', patience=3)\n",
        "]\n",
        "\n",
        "history = model_count_Bigram.fit(count_2gram_train_ds.cache(),\n",
        "          validation_data=count_2gram_val_ds.cache(),\n",
        "          epochs=20,\n",
        "          callbacks=callbacks)\n",
        "model_count_Bigram = keras.models.load_model(\"binary_2gram.keras\")\n",
        "print(f\"Test acc: {model_count_Bigram.evaluate(count_2gram_test_ds)[1]:.3f}\")"
      ]
    },
    {
      "cell_type": "code",
      "source": [
        "model_count_Bigram.evaluate(count_2gram_test_ds)"
      ],
      "metadata": {
        "colab": {
          "base_uri": "https://localhost:8080/"
        },
        "outputId": "ebac4697-0808-4ce5-eaa6-34d604abe533",
        "id": "De2FYeY8qsKv"
      },
      "execution_count": 147,
      "outputs": [
        {
          "output_type": "stream",
          "name": "stdout",
          "text": [
            "15/15 [==============================] - 1s 61ms/step - loss: 2.0062 - accuracy: 0.2642\n"
          ]
        },
        {
          "output_type": "execute_result",
          "data": {
            "text/plain": [
              "[2.006181240081787, 0.2641509473323822]"
            ]
          },
          "metadata": {},
          "execution_count": 147
        }
      ]
    },
    {
      "cell_type": "code",
      "source": [
        "plot_history(history)"
      ],
      "metadata": {
        "colab": {
          "base_uri": "https://localhost:8080/",
          "height": 275
        },
        "outputId": "3aaa093c-0099-4022-e0a9-5fd8da6ae50e",
        "id": "N5ar1beAqsKv"
      },
      "execution_count": 148,
      "outputs": [
        {
          "output_type": "display_data",
          "data": {
            "text/plain": [
              "<Figure size 1152x288 with 2 Axes>"
            ],
            "image/png": "[encoded data removed]"
          },
          "metadata": {}
        }
      ]
    },
    {
      "cell_type": "code",
      "source": [
        "pred1= model_count_Bigram.predict(count_2gram_test_ds)\n",
        "pred1=np.argmax(pred1, axis=1)"
      ],
      "metadata": {
        "colab": {
          "base_uri": "https://localhost:8080/"
        },
        "outputId": "dadf313e-5928-44bb-8320-25b7f126ff45",
        "id": "aVYY3l0vqsKw"
      },
      "execution_count": 149,
      "outputs": [
        {
          "output_type": "stream",
          "name": "stdout",
          "text": [
            "15/15 [==============================] - 1s 59ms/step\n"
          ]
        }
      ]
    },
    {
      "cell_type": "code",
      "source": [
        "print_validation_report(test_y, pred1)"
      ],
      "metadata": {
        "colab": {
          "base_uri": "https://localhost:8080/"
        },
        "outputId": "b29fd24a-66b9-4758-9c84-33d17547f654",
        "id": "9cbvxHoVqsKw"
      },
      "execution_count": 150,
      "outputs": [
        {
          "output_type": "stream",
          "name": "stdout",
          "text": [
            "Classification Report\n",
            "              precision    recall  f1-score   support\n",
            "\n",
            "           1       0.00      0.00      0.00         2\n",
            "           2       0.00      0.00      0.00         8\n",
            "           3       0.00      0.00      0.00        17\n",
            "           4       0.00      0.00      0.00        39\n",
            "           5       0.00      0.00      0.00        78\n",
            "           6       0.26      0.99      0.42       124\n",
            "           7       0.20      0.02      0.03       130\n",
            "           8       1.00      0.01      0.03        70\n",
            "           9       0.00      0.00      0.00         9\n",
            "\n",
            "    accuracy                           0.26       477\n",
            "   macro avg       0.16      0.11      0.05       477\n",
            "weighted avg       0.27      0.26      0.12       477\n",
            "\n",
            "Accuracy Score: 0.264\n",
            "Mean Absolute Error: 1.132\n",
            "Root Mean Square Error: 1.484\n",
            "Mean Square Error: 2.201\n"
          ]
        },
        {
          "output_type": "stream",
          "name": "stderr",
          "text": [
            "/usr/local/lib/python3.7/dist-packages/sklearn/metrics/_classification.py:1318: UndefinedMetricWarning: Precision and F-score are ill-defined and being set to 0.0 in labels with no predicted samples. Use `zero_division` parameter to control this behavior.\n",
            "  _warn_prf(average, modifier, msg_start, len(result))\n",
            "/usr/local/lib/python3.7/dist-packages/sklearn/metrics/_classification.py:1318: UndefinedMetricWarning: Precision and F-score are ill-defined and being set to 0.0 in labels with no predicted samples. Use `zero_division` parameter to control this behavior.\n",
            "  _warn_prf(average, modifier, msg_start, len(result))\n",
            "/usr/local/lib/python3.7/dist-packages/sklearn/metrics/_classification.py:1318: UndefinedMetricWarning: Precision and F-score are ill-defined and being set to 0.0 in labels with no predicted samples. Use `zero_division` parameter to control this behavior.\n",
            "  _warn_prf(average, modifier, msg_start, len(result))\n"
          ]
        }
      ]
    },
    {
      "cell_type": "code",
      "source": [
        "sns.set(font_scale=1.2)\n",
        "plot_confusion_matrix(test_y,pred1)"
      ],
      "metadata": {
        "colab": {
          "base_uri": "https://localhost:8080/",
          "height": 506
        },
        "outputId": "04a3b96a-0a92-4a93-f838-5df503d333e6",
        "id": "9Wk8TT_vqsKw"
      },
      "execution_count": 151,
      "outputs": [
        {
          "output_type": "display_data",
          "data": {
            "text/plain": [
              "<Figure size 576x576 with 1 Axes>"
            ],
            "image/png": "[encoded data removed]"
          },
          "metadata": {}
        }
      ]
    },
    {
      "cell_type": "markdown",
      "metadata": {
        "id": "C3xAe8fU5nVh"
      },
      "source": [
        "# Bigrams with TF-IDF Encoding"
      ]
    },
    {
      "cell_type": "markdown",
      "metadata": {
        "id": "VX5RoLxB5nVh"
      },
      "source": [
        "## Configuring `TextVectorization` To Return TF-IDF-weighted Outputs"
      ]
    },
    {
      "cell_type": "code",
      "execution_count": 152,
      "metadata": {
        "id": "nVBOiZJ45nVi"
      },
      "outputs": [],
      "source": [
        "text_vectorization = TextVectorization(\n",
        "    ngrams=2,\n",
        "    max_tokens=1000,\n",
        "    output_mode=\"tf_idf\",\n",
        ")"
      ]
    },
    {
      "cell_type": "code",
      "execution_count": 153,
      "metadata": {
        "id": "KklLpT7u5nVi"
      },
      "outputs": [],
      "source": [
        "text_vectorization.adapt(text_only_train_ds)\n",
        "\n",
        "tfidf_2gram_train_ds = train_ds.map(\n",
        "    lambda x, y: (text_vectorization(x), y),\n",
        "    num_parallel_calls=4)\n",
        "tfidf_2gram_val_ds = val_ds.map(\n",
        "    lambda x, y: (text_vectorization(x), y),\n",
        "    num_parallel_calls=4)\n",
        "tfidf_2gram_test_ds = test_ds.map(\n",
        "    lambda x, y: (text_vectorization(x), y),\n",
        "    num_parallel_calls=4)"
      ]
    },
    {
      "cell_type": "markdown",
      "metadata": {
        "id": "hjbUrsST5nVi"
      },
      "source": [
        "## Build TF-IDF Bigram Model"
      ]
    },
    {
      "cell_type": "code",
      "source": [
        "def get_model(max_tokens=1000, hidden_dim=128):\n",
        "    inputs = tf.keras.Input(shape=(max_tokens,))\n",
        "    x = layers.Dense(hidden_dim, activation=\"relu\")(inputs)\n",
        "    x = layers.Dropout(0.2)(x)\n",
        "    outputs = layers.Dense(10, activation=\"softmax\")(x)\n",
        "    model = tf.keras.Model(inputs, outputs)\n",
        "    model.compile(optimizer=\"adam\",\n",
        "                  loss='SparseCategoricalCrossentropy',\n",
        "                  metrics=[\"accuracy\"])\n",
        "    return model"
      ],
      "metadata": {
        "id": "20WmcowpwZq3"
      },
      "execution_count": 154,
      "outputs": []
    },
    {
      "cell_type": "code",
      "source": [
        "model_tfidf = get_model()\n",
        "model_tfidf.summary()"
      ],
      "metadata": {
        "colab": {
          "base_uri": "https://localhost:8080/"
        },
        "id": "8sVeW-3NwphY",
        "outputId": "0dc5fadb-b42b-4481-9ea8-76f8a6079edd"
      },
      "execution_count": 155,
      "outputs": [
        {
          "output_type": "stream",
          "name": "stdout",
          "text": [
            "Model: \"model_16\"\n",
            "_________________________________________________________________\n",
            " Layer (type)                Output Shape              Param #   \n",
            "=================================================================\n",
            " input_17 (InputLayer)       [(None, 1000)]            0         \n",
            "                                                                 \n",
            " dense_43 (Dense)            (None, 128)               128128    \n",
            "                                                                 \n",
            " dropout_25 (Dropout)        (None, 128)               0         \n",
            "                                                                 \n",
            " dense_44 (Dense)            (None, 10)                1290      \n",
            "                                                                 \n",
            "=================================================================\n",
            "Total params: 129,418\n",
            "Trainable params: 129,418\n",
            "Non-trainable params: 0\n",
            "_________________________________________________________________\n"
          ]
        }
      ]
    },
    {
      "cell_type": "code",
      "execution_count": 156,
      "metadata": {
        "colab": {
          "base_uri": "https://localhost:8080/"
        },
        "id": "Tdz6qgHv5nVi",
        "outputId": "7b71318c-900a-4dcc-b49e-6e9dcca97305"
      },
      "outputs": [
        {
          "output_type": "stream",
          "name": "stdout",
          "text": [
            "Epoch 1/20\n",
            "70/70 [==============================] - 8s 107ms/step - loss: 158.2374 - accuracy: 0.2210 - val_loss: 33.2647 - val_accuracy: 0.2029\n",
            "Epoch 2/20\n",
            "70/70 [==============================] - 0s 3ms/step - loss: 62.1216 - accuracy: 0.2538 - val_loss: 12.7139 - val_accuracy: 0.3536\n",
            "Epoch 3/20\n",
            "70/70 [==============================] - 0s 3ms/step - loss: 15.8303 - accuracy: 0.3320 - val_loss: 3.2128 - val_accuracy: 0.3013\n",
            "Epoch 4/20\n",
            "70/70 [==============================] - 0s 3ms/step - loss: 2.1605 - accuracy: 0.3226 - val_loss: 1.7167 - val_accuracy: 0.3494\n",
            "Epoch 5/20\n",
            "70/70 [==============================] - 0s 3ms/step - loss: 1.8367 - accuracy: 0.3221 - val_loss: 1.6317 - val_accuracy: 0.3766\n",
            "Epoch 6/20\n",
            "70/70 [==============================] - 0s 3ms/step - loss: 1.7729 - accuracy: 0.3392 - val_loss: 1.5517 - val_accuracy: 0.3849\n",
            "Epoch 7/20\n",
            "70/70 [==============================] - 0s 3ms/step - loss: 1.6876 - accuracy: 0.3805 - val_loss: 1.5318 - val_accuracy: 0.3975\n",
            "Epoch 8/20\n",
            "70/70 [==============================] - 0s 3ms/step - loss: 1.6663 - accuracy: 0.3886 - val_loss: 1.4890 - val_accuracy: 0.4079\n",
            "Epoch 9/20\n",
            "70/70 [==============================] - 0s 3ms/step - loss: 1.6176 - accuracy: 0.4075 - val_loss: 1.4766 - val_accuracy: 0.4456\n",
            "Epoch 10/20\n",
            "70/70 [==============================] - 0s 3ms/step - loss: 1.5437 - accuracy: 0.4245 - val_loss: 1.4109 - val_accuracy: 0.4205\n",
            "Epoch 11/20\n",
            "70/70 [==============================] - 0s 4ms/step - loss: 1.5094 - accuracy: 0.4164 - val_loss: 1.3799 - val_accuracy: 0.4477\n",
            "Epoch 12/20\n",
            "70/70 [==============================] - 0s 3ms/step - loss: 1.5005 - accuracy: 0.4182 - val_loss: 1.5638 - val_accuracy: 0.3431\n",
            "Epoch 13/20\n",
            "70/70 [==============================] - 0s 3ms/step - loss: 1.6088 - accuracy: 0.3881 - val_loss: 1.5297 - val_accuracy: 0.3661\n",
            "Epoch 14/20\n",
            "70/70 [==============================] - 0s 3ms/step - loss: 1.5867 - accuracy: 0.3949 - val_loss: 1.4625 - val_accuracy: 0.4247\n",
            "15/15 [==============================] - 1s 59ms/step - loss: 1.5062 - accuracy: 0.4172\n",
            "Test acc: 0.417\n"
          ]
        }
      ],
      "source": [
        "callbacks = [\n",
        "    tf.keras.callbacks.ModelCheckpoint(\"tfidf_2gram.keras\",save_best_only=True)\n",
        "   ,tf.keras.callbacks.EarlyStopping(monitor='val_accuracy', patience=3)\n",
        "]\n",
        "\n",
        "history = model_tfidf.fit(tfidf_2gram_train_ds.cache(),\n",
        "          validation_data=tfidf_2gram_val_ds.cache(),\n",
        "          epochs=20,\n",
        "          callbacks=callbacks)\n",
        "model_tfidf = keras.models.load_model(\"tfidf_2gram.keras\")\n",
        "print(f\"Test acc: {model_tfidf.evaluate(tfidf_2gram_test_ds)[1]:.3f}\")"
      ]
    },
    {
      "cell_type": "code",
      "source": [
        "model_tfidf.evaluate(tfidf_2gram_test_ds)"
      ],
      "metadata": {
        "colab": {
          "base_uri": "https://localhost:8080/"
        },
        "outputId": "e7876172-c31a-4dea-dc6c-1e5836c57778",
        "id": "6WytD1kTgPt2"
      },
      "execution_count": 157,
      "outputs": [
        {
          "output_type": "stream",
          "name": "stdout",
          "text": [
            "15/15 [==============================] - 1s 59ms/step - loss: 1.5062 - accuracy: 0.4172\n"
          ]
        },
        {
          "output_type": "execute_result",
          "data": {
            "text/plain": [
              "[1.5061997175216675, 0.4171907901763916]"
            ]
          },
          "metadata": {},
          "execution_count": 157
        }
      ]
    },
    {
      "cell_type": "code",
      "source": [
        "plot_history(history)"
      ],
      "metadata": {
        "colab": {
          "base_uri": "https://localhost:8080/",
          "height": 271
        },
        "outputId": "9c01a154-1bec-491f-f170-f077a951b18b",
        "id": "1mkg4PzLgPt3"
      },
      "execution_count": 158,
      "outputs": [
        {
          "output_type": "display_data",
          "data": {
            "text/plain": [
              "<Figure size 1152x288 with 2 Axes>"
            ],
            "image/png": "[encoded data removed]"
          },
          "metadata": {}
        }
      ]
    },
    {
      "cell_type": "code",
      "source": [
        "pred1= model_tfidf.predict(tfidf_2gram_test_ds)\n",
        "pred1=np.argmax(pred1, axis=1)"
      ],
      "metadata": {
        "colab": {
          "base_uri": "https://localhost:8080/"
        },
        "outputId": "c56b796f-de9d-41bf-8c0a-1c542bc2b2d6",
        "id": "K0V7W9GIgPt3"
      },
      "execution_count": 159,
      "outputs": [
        {
          "output_type": "stream",
          "name": "stdout",
          "text": [
            "15/15 [==============================] - 1s 59ms/step\n"
          ]
        }
      ]
    },
    {
      "cell_type": "code",
      "source": [
        "print_validation_report(test_y, pred1)"
      ],
      "metadata": {
        "colab": {
          "base_uri": "https://localhost:8080/"
        },
        "outputId": "a37566c5-19c2-4fb3-fcd9-9f374dff7c8e",
        "id": "XArGy0lSgPt3"
      },
      "execution_count": 160,
      "outputs": [
        {
          "output_type": "stream",
          "name": "stdout",
          "text": [
            "Classification Report\n",
            "              precision    recall  f1-score   support\n",
            "\n",
            "           1       0.00      0.00      0.00         2\n",
            "           2       0.00      0.00      0.00         8\n",
            "           3       0.47      0.41      0.44        17\n",
            "           4       0.55      0.15      0.24        39\n",
            "           5       0.20      0.13      0.16        78\n",
            "           6       0.40      0.80      0.53       124\n",
            "           7       0.48      0.38      0.42       130\n",
            "           8       0.54      0.40      0.46        70\n",
            "           9       0.00      0.00      0.00         9\n",
            "\n",
            "    accuracy                           0.42       477\n",
            "   macro avg       0.29      0.25      0.25       477\n",
            "weighted avg       0.41      0.42      0.38       477\n",
            "\n",
            "Accuracy Score: 0.417\n",
            "Mean Absolute Error: 0.711\n",
            "Root Mean Square Error: 1.017\n",
            "Mean Square Error: 1.034\n"
          ]
        },
        {
          "output_type": "stream",
          "name": "stderr",
          "text": [
            "/usr/local/lib/python3.7/dist-packages/sklearn/metrics/_classification.py:1318: UndefinedMetricWarning: Precision and F-score are ill-defined and being set to 0.0 in labels with no predicted samples. Use `zero_division` parameter to control this behavior.\n",
            "  _warn_prf(average, modifier, msg_start, len(result))\n",
            "/usr/local/lib/python3.7/dist-packages/sklearn/metrics/_classification.py:1318: UndefinedMetricWarning: Precision and F-score are ill-defined and being set to 0.0 in labels with no predicted samples. Use `zero_division` parameter to control this behavior.\n",
            "  _warn_prf(average, modifier, msg_start, len(result))\n",
            "/usr/local/lib/python3.7/dist-packages/sklearn/metrics/_classification.py:1318: UndefinedMetricWarning: Precision and F-score are ill-defined and being set to 0.0 in labels with no predicted samples. Use `zero_division` parameter to control this behavior.\n",
            "  _warn_prf(average, modifier, msg_start, len(result))\n"
          ]
        }
      ]
    },
    {
      "cell_type": "code",
      "source": [
        "sns.set(font_scale=1.2)\n",
        "plot_confusion_matrix(test_y,pred1)"
      ],
      "metadata": {
        "colab": {
          "base_uri": "https://localhost:8080/",
          "height": 506
        },
        "outputId": "8c7d3781-90cc-4537-8581-a1f6ec306201",
        "id": "JzGB7_IVgPt3"
      },
      "execution_count": 161,
      "outputs": [
        {
          "output_type": "display_data",
          "data": {
            "text/plain": [
              "<Figure size 576x576 with 1 Axes>"
            ],
            "image/png": "[encoded data removed]"
          },
          "metadata": {}
        }
      ]
    },
    {
      "cell_type": "markdown",
      "source": [
        "## 2 layer model"
      ],
      "metadata": {
        "id": "XV96b9vskosE"
      }
    },
    {
      "cell_type": "code",
      "source": [
        "def get_model(max_tokens=1000, hidden_dim=64):\n",
        "    inputs = tf.keras.Input(shape=(max_tokens,))\n",
        "    x = layers.Dense(hidden_dim, activation=\"relu\")(inputs)\n",
        "    x = layers.Dropout(0.2)(x)\n",
        "    x = layers.Dense(64, activation=\"relu\")(x)\n",
        "    x = layers.Dropout(0.2)(x)\n",
        "    outputs = layers.Dense(10, activation=\"softmax\")(x)\n",
        "    model = tf.keras.Model(inputs, outputs)\n",
        "    model.compile(optimizer=\"adam\",\n",
        "                  loss='SparseCategoricalCrossentropy',\n",
        "                  metrics=[\"accuracy\"])\n",
        "    return model"
      ],
      "metadata": {
        "id": "GqtFhZ4RkqMG"
      },
      "execution_count": 162,
      "outputs": []
    },
    {
      "cell_type": "code",
      "source": [
        "model_tfidf = get_model()\n",
        "model_tfidf.summary()"
      ],
      "metadata": {
        "colab": {
          "base_uri": "https://localhost:8080/"
        },
        "outputId": "287a1bf7-4a4f-409f-e20c-08c8d8d9cbb1",
        "id": "zb9KKqrskqMH"
      },
      "execution_count": 163,
      "outputs": [
        {
          "output_type": "stream",
          "name": "stdout",
          "text": [
            "Model: \"model_17\"\n",
            "_________________________________________________________________\n",
            " Layer (type)                Output Shape              Param #   \n",
            "=================================================================\n",
            " input_18 (InputLayer)       [(None, 1000)]            0         \n",
            "                                                                 \n",
            " dense_45 (Dense)            (None, 64)                64064     \n",
            "                                                                 \n",
            " dropout_26 (Dropout)        (None, 64)                0         \n",
            "                                                                 \n",
            " dense_46 (Dense)            (None, 64)                4160      \n",
            "                                                                 \n",
            " dropout_27 (Dropout)        (None, 64)                0         \n",
            "                                                                 \n",
            " dense_47 (Dense)            (None, 10)                650       \n",
            "                                                                 \n",
            "=================================================================\n",
            "Total params: 68,874\n",
            "Trainable params: 68,874\n",
            "Non-trainable params: 0\n",
            "_________________________________________________________________\n"
          ]
        }
      ]
    },
    {
      "cell_type": "code",
      "execution_count": 164,
      "metadata": {
        "colab": {
          "base_uri": "https://localhost:8080/"
        },
        "outputId": "4faa4584-6b98-41f1-afa8-33b459358046",
        "id": "AMsxO4t1k0u0"
      },
      "outputs": [
        {
          "output_type": "stream",
          "name": "stdout",
          "text": [
            "Epoch 1/20\n",
            "70/70 [==============================] - 6s 84ms/step - loss: 174.5909 - accuracy: 0.1730 - val_loss: 6.2704 - val_accuracy: 0.1715\n",
            "Epoch 2/20\n",
            "70/70 [==============================] - 0s 3ms/step - loss: 16.8712 - accuracy: 0.2044 - val_loss: 1.9775 - val_accuracy: 0.1987\n",
            "Epoch 3/20\n",
            "70/70 [==============================] - 0s 4ms/step - loss: 7.2762 - accuracy: 0.2363 - val_loss: 1.8451 - val_accuracy: 0.2636\n",
            "Epoch 4/20\n",
            "70/70 [==============================] - 0s 3ms/step - loss: 4.4578 - accuracy: 0.2376 - val_loss: 1.8965 - val_accuracy: 0.2908\n",
            "Epoch 5/20\n",
            "70/70 [==============================] - 0s 3ms/step - loss: 3.2828 - accuracy: 0.2215 - val_loss: 1.9951 - val_accuracy: 0.2720\n",
            "Epoch 6/20\n",
            "70/70 [==============================] - 0s 3ms/step - loss: 2.5323 - accuracy: 0.2372 - val_loss: 1.9300 - val_accuracy: 0.3054\n",
            "Epoch 7/20\n",
            "70/70 [==============================] - 0s 3ms/step - loss: 2.0314 - accuracy: 0.2686 - val_loss: 2.0147 - val_accuracy: 0.2657\n",
            "Epoch 8/20\n",
            "70/70 [==============================] - 0s 3ms/step - loss: 1.9351 - accuracy: 0.2794 - val_loss: 1.7895 - val_accuracy: 0.3305\n",
            "Epoch 9/20\n",
            "70/70 [==============================] - 0s 3ms/step - loss: 1.8506 - accuracy: 0.2934 - val_loss: 1.8258 - val_accuracy: 0.3117\n",
            "Epoch 10/20\n",
            "70/70 [==============================] - 0s 3ms/step - loss: 1.8194 - accuracy: 0.2754 - val_loss: 1.7268 - val_accuracy: 0.3410\n",
            "Epoch 11/20\n",
            "70/70 [==============================] - 0s 3ms/step - loss: 1.7797 - accuracy: 0.2960 - val_loss: 1.7161 - val_accuracy: 0.3368\n",
            "Epoch 12/20\n",
            "70/70 [==============================] - 0s 3ms/step - loss: 1.7524 - accuracy: 0.3122 - val_loss: 1.6475 - val_accuracy: 0.3682\n",
            "Epoch 13/20\n",
            "70/70 [==============================] - 0s 3ms/step - loss: 1.7076 - accuracy: 0.3221 - val_loss: 1.6117 - val_accuracy: 0.3515\n",
            "Epoch 14/20\n",
            "70/70 [==============================] - 0s 3ms/step - loss: 1.7008 - accuracy: 0.3163 - val_loss: 1.6067 - val_accuracy: 0.3452\n",
            "Epoch 15/20\n",
            "70/70 [==============================] - 0s 3ms/step - loss: 1.6639 - accuracy: 0.3306 - val_loss: 1.5582 - val_accuracy: 0.3724\n",
            "Epoch 16/20\n",
            "70/70 [==============================] - 0s 3ms/step - loss: 1.6725 - accuracy: 0.3374 - val_loss: 1.5551 - val_accuracy: 0.3410\n",
            "Epoch 17/20\n",
            "70/70 [==============================] - 0s 3ms/step - loss: 1.6653 - accuracy: 0.3495 - val_loss: 1.6928 - val_accuracy: 0.2971\n",
            "Epoch 18/20\n",
            "70/70 [==============================] - 0s 3ms/step - loss: 1.6380 - accuracy: 0.3621 - val_loss: 1.5223 - val_accuracy: 0.3598\n",
            "15/15 [==============================] - 1s 57ms/step - loss: 1.5767 - accuracy: 0.3438\n",
            "Test acc: 0.344\n"
          ]
        }
      ],
      "source": [
        "callbacks = [\n",
        "    tf.keras.callbacks.ModelCheckpoint(\"tfidf_2gram.keras\",save_best_only=True)\n",
        "   ,tf.keras.callbacks.EarlyStopping(monitor='val_accuracy', patience=3)\n",
        "]\n",
        "\n",
        "history = model_tfidf.fit(tfidf_2gram_train_ds.cache(),\n",
        "          validation_data=tfidf_2gram_val_ds.cache(),\n",
        "          epochs=20,\n",
        "          callbacks=callbacks)\n",
        "model_tfidf = keras.models.load_model(\"tfidf_2gram.keras\")\n",
        "print(f\"Test acc: {model_tfidf.evaluate(tfidf_2gram_test_ds)[1]:.3f}\")"
      ]
    },
    {
      "cell_type": "code",
      "source": [
        "model_tfidf.evaluate(tfidf_2gram_test_ds)"
      ],
      "metadata": {
        "colab": {
          "base_uri": "https://localhost:8080/"
        },
        "outputId": "b3b832cf-600d-45d3-c1c5-9a3b4188bb31",
        "id": "9gSZ0hu-k0u1"
      },
      "execution_count": 165,
      "outputs": [
        {
          "output_type": "stream",
          "name": "stdout",
          "text": [
            "15/15 [==============================] - 1s 61ms/step - loss: 1.5767 - accuracy: 0.3438\n"
          ]
        },
        {
          "output_type": "execute_result",
          "data": {
            "text/plain": [
              "[1.5767172574996948, 0.34381550550460815]"
            ]
          },
          "metadata": {},
          "execution_count": 165
        }
      ]
    },
    {
      "cell_type": "code",
      "source": [
        "plot_history(history)"
      ],
      "metadata": {
        "colab": {
          "base_uri": "https://localhost:8080/",
          "height": 271
        },
        "outputId": "8a9261fa-b9e5-4973-a2b6-5930c2012879",
        "id": "XtrL-K4Vk0u1"
      },
      "execution_count": 166,
      "outputs": [
        {
          "output_type": "display_data",
          "data": {
            "text/plain": [
              "<Figure size 1152x288 with 2 Axes>"
            ],
            "image/png": "[encoded data removed]"
          },
          "metadata": {}
        }
      ]
    },
    {
      "cell_type": "code",
      "source": [
        "pred1= model_tfidf.predict(tfidf_2gram_test_ds)\n",
        "pred1=np.argmax(pred1, axis=1)"
      ],
      "metadata": {
        "colab": {
          "base_uri": "https://localhost:8080/"
        },
        "outputId": "f27d86aa-8698-41c4-d2b2-7adfd41b550c",
        "id": "wn-eyqcCk0u2"
      },
      "execution_count": 167,
      "outputs": [
        {
          "output_type": "stream",
          "name": "stdout",
          "text": [
            "15/15 [==============================] - 1s 59ms/step\n"
          ]
        }
      ]
    },
    {
      "cell_type": "code",
      "source": [
        "print_validation_report(test_y, pred1)"
      ],
      "metadata": {
        "colab": {
          "base_uri": "https://localhost:8080/"
        },
        "outputId": "492fd576-44e3-46a8-d2d9-c37e2f4defc3",
        "id": "G147ux5nk0u2"
      },
      "execution_count": 168,
      "outputs": [
        {
          "output_type": "stream",
          "name": "stdout",
          "text": [
            "Classification Report\n",
            "              precision    recall  f1-score   support\n",
            "\n",
            "           1       0.00      0.00      0.00         2\n",
            "           2       0.00      0.00      0.00         8\n",
            "           3       0.00      0.00      0.00        17\n",
            "           4       0.00      0.00      0.00        39\n",
            "           5       0.00      0.00      0.00        78\n",
            "           6       0.28      0.60      0.38       124\n",
            "           7       0.41      0.54      0.47       130\n",
            "           8       0.45      0.29      0.35        70\n",
            "           9       0.00      0.00      0.00         9\n",
            "\n",
            "    accuracy                           0.34       477\n",
            "   macro avg       0.13      0.16      0.13       477\n",
            "weighted avg       0.25      0.34      0.28       477\n",
            "\n",
            "Accuracy Score: 0.344\n",
            "Mean Absolute Error: 0.920\n",
            "Root Mean Square Error: 1.299\n",
            "Mean Square Error: 1.688\n"
          ]
        },
        {
          "output_type": "stream",
          "name": "stderr",
          "text": [
            "/usr/local/lib/python3.7/dist-packages/sklearn/metrics/_classification.py:1318: UndefinedMetricWarning: Precision and F-score are ill-defined and being set to 0.0 in labels with no predicted samples. Use `zero_division` parameter to control this behavior.\n",
            "  _warn_prf(average, modifier, msg_start, len(result))\n",
            "/usr/local/lib/python3.7/dist-packages/sklearn/metrics/_classification.py:1318: UndefinedMetricWarning: Precision and F-score are ill-defined and being set to 0.0 in labels with no predicted samples. Use `zero_division` parameter to control this behavior.\n",
            "  _warn_prf(average, modifier, msg_start, len(result))\n",
            "/usr/local/lib/python3.7/dist-packages/sklearn/metrics/_classification.py:1318: UndefinedMetricWarning: Precision and F-score are ill-defined and being set to 0.0 in labels with no predicted samples. Use `zero_division` parameter to control this behavior.\n",
            "  _warn_prf(average, modifier, msg_start, len(result))\n"
          ]
        }
      ]
    },
    {
      "cell_type": "code",
      "source": [
        "sns.set(font_scale=1.2)\n",
        "plot_confusion_matrix(test_y,pred1)"
      ],
      "metadata": {
        "colab": {
          "base_uri": "https://localhost:8080/",
          "height": 506
        },
        "outputId": "0b76d8a8-a91c-4cb8-dbed-be23ab3c294a",
        "id": "VX38WmBak0u2"
      },
      "execution_count": 169,
      "outputs": [
        {
          "output_type": "display_data",
          "data": {
            "text/plain": [
              "<Figure size 576x576 with 1 Axes>"
            ],
            "image/png": "[encoded data removed]"
          },
          "metadata": {}
        }
      ]
    }
  ]
}